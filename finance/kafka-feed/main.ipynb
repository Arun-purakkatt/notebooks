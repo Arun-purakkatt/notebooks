{
 "cells": [
  {
   "cell_type": "markdown",
   "metadata": {},
   "source": [
    "# How to aggregate a real-time kafka feed efficiently with python and atoti?\n",
    "\n",
    "In this notebook we will create an analytical application that will aggregate a live kafka feed. \n",
    "\n",
    "The example is taken from finance: we will emulate real-time trading activity. Every time a new trade arrives, a live dashboard in atoti app will blink to visualize the new portfolio summary.\n",
    "\n",
    "atoti is designed to aggregate big volumes of data. In this notebook we will focus on the incremental aspect of real-time aggregations."
   ]
  },
  {
   "cell_type": "markdown",
   "metadata": {},
   "source": [
    "# Starting kafka server\n",
    "\n",
    "Let's start a kafka server as desribed here: [https://kafka.apache.org/quickstart](https://kafka.apache.org/quickstart)."
   ]
  },
  {
   "cell_type": "markdown",
   "metadata": {},
   "source": [
    "# Starting atoti application"
   ]
  },
  {
   "cell_type": "code",
   "execution_count": 1,
   "metadata": {},
   "outputs": [
    {
     "name": "stdout",
     "output_type": "stream",
     "text": [
      "Welcome to atoti 0.4.2!\n",
      "\n",
      "By using this community edition, you agree with the license available at https://www.atoti.io/eula.\n",
      "Browse the official documentation at https://docs.atoti.io.\n",
      "Join the community at https://www.atoti.io/register.\n",
      "\n",
      "You can hide this message by setting the ATOTI_HIDE_EULA_MESSAGE environment variable to True.\n"
     ]
    }
   ],
   "source": [
    "import atoti as tt\n",
    "\n",
    "from atoti.config import create_config\n",
    "\n",
    "config = create_config(metadata_db=\"./metadata.db\", sampling_mode=tt.sampling.FULL)\n",
    "session = tt.create_session(config=config)\n",
    "\n",
    "trades_datastore = session.read_csv(\n",
    "    \"trades.csv\",\n",
    "    types={\n",
    "        \"TradeId\": tt.types.STRING,\n",
    "        \"Strike\": tt.types.STRING,\n",
    "        \"Quantity\": tt.types.DOUBLE_NULLABLE,\n",
    "    },\n",
    "    keys=[\"TradeId\"],\n",
    "    store_name=\"Trade Attributes\",\n",
    ")\n",
    "\n",
    "cube = session.create_cube(trades_datastore, \"Portfolio\")"
   ]
  },
  {
   "cell_type": "markdown",
   "metadata": {},
   "source": [
    "# Live dashboard in atoti\n",
    "\n",
    "atoti comes with a user interface to create dashboards, look at this example. I have toggled the widgets to \"real-time\" mode so that we are able to see how the numbers \"blink\" when new messages arrive from kafka."
   ]
  },
  {
   "cell_type": "code",
   "execution_count": 2,
   "metadata": {},
   "outputs": [
    {
     "data": {
      "text/plain": [
       "'http://localhost:65182/#/dashboard/27b'"
      ]
     },
     "execution_count": 2,
     "metadata": {},
     "output_type": "execute_result"
    }
   ],
   "source": [
    "session.url + \"/#/dashboard/27b\""
   ]
  },
  {
   "cell_type": "markdown",
   "metadata": {},
   "source": [
    "# Connecting atoti to the kafka feed"
   ]
  },
  {
   "cell_type": "markdown",
   "metadata": {},
   "source": [
    "Let's point the `trades_datastore` to the kafka feed. atoti will consume new trades data as soon as it arrives, and the widgets will refresh (need to toggle them to real-time mode).\n",
    "\n",
    "I launched kafka with the default parameters, hence the `bootstrap.server` is `localhost:9092`.\n",
    "    \n",
    "I'm using the `load_kafka` method in atoti with the default serializer. Please refer to the atoti documentation to read more about [load_kafka](https://docs.atoti.io/0.4.2/lib/atoti.html?highlight=kafka#atoti.store.Store.load_kafka)."
   ]
  },
  {
   "cell_type": "code",
   "execution_count": 3,
   "metadata": {},
   "outputs": [],
   "source": [
    "trades_datastore.load_kafka(bootstrap_server =\"localhost:9092\",topic = \"trades\", group_id = \"atoti\")"
   ]
  },
  {
   "cell_type": "code",
   "execution_count": 4,
   "metadata": {},
   "outputs": [
    {
     "data": {
      "text/plain": [
       "<kafka.producer.future.FutureRecordMetadata at 0x7ff5ffb52490>"
      ]
     },
     "execution_count": 4,
     "metadata": {},
     "output_type": "execute_result"
    }
   ],
   "source": [
    "import json\n",
    "from kafka import KafkaProducer\n",
    "\n",
    "producer = KafkaProducer(value_serializer=lambda v: json.dumps(v).encode(\"utf-8\"))\n",
    "\n",
    "\n",
    "trd = {\n",
    "    \"TradeId\": \"Trd_TEST\",\n",
    "    \"Ticker\": \"OXY\",\n",
    "    \"Book\": \"EQ_VOL_HED\",\n",
    "    \"Product\": \"EQ_Option\",\n",
    "    \"Quantity\": 45,\n",
    "    \"Strike\": -31.41249430583221,\n",
    "    \"Maturity\": \"2022-10-01\",\n",
    "    \"OptionType\": \"put\",\n",
    "    \"MarketValue\": 89.43425919208067,\n",
    "}\n",
    "producer.send(\"trades\", trd)"
   ]
  },
  {
   "cell_type": "markdown",
   "metadata": {},
   "source": [
    "# Emulating real-time messages"
   ]
  },
  {
   "cell_type": "markdown",
   "metadata": {},
   "source": [
    "In the following cell, I have a function that will generate random trades."
   ]
  },
  {
   "cell_type": "code",
   "execution_count": 5,
   "metadata": {},
   "outputs": [],
   "source": [
    "import random\n",
    "import time\n",
    "\n",
    "def generate_a_new_trade(id):\n",
    "\n",
    "    # this function is generating trades data (random)\n",
    "\n",
    "    trade = {\n",
    "        \"TradeId\": \"Trd_\" + str(id),\n",
    "        \"Ticker\": random.choice([\"AAPL\", \"MSFT\", \"OXY\"]),\n",
    "        \"Book\": random.choice(\n",
    "            [\"EQ_LARG_DM\", \"EQ_SMAL_EM\", \"EQ_STRUCT\", \"EQ_VOL_HED\", \"EQ_WAREHOU\"]\n",
    "        ),\n",
    "        \"Product\": \"EQ_Option\",\n",
    "        \"Quantity\": random.randrange(-100, 100),\n",
    "        \"Strike\": random.uniform(-100, 100),\n",
    "        \"Maturity\": \"2022-10-01\",\n",
    "        \"OptionType\": \"put\",\n",
    "        \"MarketValue\": random.uniform(-100, 100),\n",
    "    }\n",
    "\n",
    "    print(\"A new trade generated:\")\n",
    "    print(json.dumps(trade, indent=4))\n",
    "\n",
    "    return trade"
   ]
  },
  {
   "cell_type": "markdown",
   "metadata": {},
   "source": [
    "Publishing to kafka:"
   ]
  },
  {
   "cell_type": "code",
   "execution_count": null,
   "metadata": {},
   "outputs": [],
   "source": [
    "for i in range(1000,1100):\n",
    "    new_trade = generate_a_new_trade(i)\n",
    "\n",
    "    producer.send(\"trades\", new_trade)\n",
    "    print(\"Published.\\n\")\n",
    "    time.sleep(1)"
   ]
  }
 ],
 "metadata": {
  "kernelspec": {
   "display_name": "Python 3",
   "language": "python",
   "name": "python3"
  },
  "language_info": {
   "codemirror_mode": {
    "name": "ipython",
    "version": 3
   },
   "file_extension": ".py",
   "mimetype": "text/x-python",
   "name": "python",
   "nbconvert_exporter": "python",
   "pygments_lexer": "ipython3",
   "version": "3.8.4"
  }
 },
 "nbformat": 4,
 "nbformat_minor": 4
}
