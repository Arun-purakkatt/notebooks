{
 "cells": [
  {
   "cell_type": "markdown",
   "metadata": {},
   "source": [
    "Analysing Stress Periods\n",
    "\n",
    "# Introduction\n",
    "\n",
    "This workbook identifies and provides a base for analysing the stress period for a portfolio.\n",
    "\n",
    "The historical P&L values are loaded for each position or trade and these are aggregated to the portfolio level.  We identify the stress period, by looking at a sliding window over the P&L values.  The stress period corresponds to the window with the greatest stress (i.e. greatest VaR value).\n",
    "\n",
    "Then, we can analyse this stress period looking at how the VaR decomposes by risk-class or trade-level attributes.\n",
    "\n",
    "## Contents and Status\n",
    "\n",
    "This notebook is still a work in progress.\n",
    "\n",
    "In this notebook, we:\n",
    "* create the cube, load the data\n",
    "* query the cube for the aggregate P&L vector\n",
    "* in python using sliding windows, determine the stress period\n",
    "* further analysis decomposing the VaR calculation (by desk).\n",
    "\n",
    "## Libraries\n",
    "\n",
    "We use [atoti](https://docs.atoti.io/0.3.1/installation.html) for the aggregation and slicing and dicing of the data, [scipy](https://www.scipy.org/install.html) for analysis, and [matplotlib](https://matplotlib.org/users/installing.html) for graphing.\n"
   ]
  },
  {
   "cell_type": "code",
   "execution_count": 1,
   "metadata": {},
   "outputs": [
    {
     "name": "stdout",
     "output_type": "stream",
     "text": [
      "Welcome to Atoti 0.3.1.20200406182105!\n",
      "\n",
      "By using this community edition, you agree with the license available at https://atoti.io/eula.\n",
      "Browse the official documentation at https://atoti.io/documentation.\n",
      "Join the community at https://atoti.io/register.\n",
      "\n",
      "You can hide this message by setting the ATOTI_HIDE_EULA_MESSAGE environment variable to True.\n"
     ]
    }
   ],
   "source": [
    "import atoti as tt\n",
    "import matplotlib.pyplot as plt\n",
    "import math\n",
    "from scipy import stats\n",
    "import numpy as np"
   ]
  },
  {
   "cell_type": "markdown",
   "metadata": {},
   "source": [
    "# Building the Atoti Cube\n",
    "\n",
    "Create the session"
   ]
  },
  {
   "cell_type": "code",
   "execution_count": 2,
   "metadata": {},
   "outputs": [],
   "source": [
    "session = tt.create_session()"
   ]
  },
  {
   "cell_type": "markdown",
   "metadata": {},
   "source": [
    "Load the data"
   ]
  },
  {
   "cell_type": "code",
   "execution_count": 3,
   "metadata": {},
   "outputs": [
    {
     "data": {
      "text/html": [
       "<div>\n",
       "<style scoped>\n",
       "    .dataframe tbody tr th:only-of-type {\n",
       "        vertical-align: middle;\n",
       "    }\n",
       "\n",
       "    .dataframe tbody tr th {\n",
       "        vertical-align: top;\n",
       "    }\n",
       "\n",
       "    .dataframe thead th {\n",
       "        text-align: right;\n",
       "    }\n",
       "</style>\n",
       "<table border=\"1\" class=\"dataframe\">\n",
       "  <thead>\n",
       "    <tr style=\"text-align: right;\">\n",
       "      <th></th>\n",
       "      <th></th>\n",
       "      <th>Desk</th>\n",
       "      <th>PnLVector</th>\n",
       "    </tr>\n",
       "    <tr>\n",
       "      <th>TradeId</th>\n",
       "      <th>AsOfDate</th>\n",
       "      <th></th>\n",
       "      <th></th>\n",
       "    </tr>\n",
       "  </thead>\n",
       "  <tbody>\n",
       "    <tr>\n",
       "      <th>IMA_FX_1</th>\n",
       "      <th>2017-08-29</th>\n",
       "      <td>DeskA</td>\n",
       "      <td>doubleVector[32]{-10000.0, ...}</td>\n",
       "    </tr>\n",
       "    <tr>\n",
       "      <th>IMA_FX_2</th>\n",
       "      <th>2017-08-29</th>\n",
       "      <td>DeskA</td>\n",
       "      <td>doubleVector[36]{-761.94, ...}</td>\n",
       "    </tr>\n",
       "    <tr>\n",
       "      <th>IMA_FX_3</th>\n",
       "      <th>2017-08-29</th>\n",
       "      <td>DeskA</td>\n",
       "      <td>doubleVector[260]{46.61, ...}</td>\n",
       "    </tr>\n",
       "    <tr>\n",
       "      <th>IMA_Comm_1</th>\n",
       "      <th>2017-08-29</th>\n",
       "      <td>DeskA</td>\n",
       "      <td>doubleVector[35]{-925.08, ...}</td>\n",
       "    </tr>\n",
       "    <tr>\n",
       "      <th>IMA_FX_5</th>\n",
       "      <th>2017-08-29</th>\n",
       "      <td>DeskA</td>\n",
       "      <td>doubleVector[36]{-882.7, ...}</td>\n",
       "    </tr>\n",
       "  </tbody>\n",
       "</table>\n",
       "</div>"
      ],
      "text/plain": [
       "                        Desk                        PnLVector\n",
       "TradeId    AsOfDate                                          \n",
       "IMA_FX_1   2017-08-29  DeskA  doubleVector[32]{-10000.0, ...}\n",
       "IMA_FX_2   2017-08-29  DeskA   doubleVector[36]{-761.94, ...}\n",
       "IMA_FX_3   2017-08-29  DeskA    doubleVector[260]{46.61, ...}\n",
       "IMA_Comm_1 2017-08-29  DeskA   doubleVector[35]{-925.08, ...}\n",
       "IMA_FX_5   2017-08-29  DeskA    doubleVector[36]{-882.7, ...}"
      ]
     },
     "execution_count": 3,
     "metadata": {},
     "output_type": "execute_result"
    }
   ],
   "source": [
    "trades_store = session.read_csv(\"trade-pl.csv\", keys=[\"TradeId\", \"AsOfDate\"], store_name=\"trades\", array_sep=\";\")\n",
    "trades_store.head()"
   ]
  },
  {
   "cell_type": "markdown",
   "metadata": {},
   "source": [
    "Create the Atoti Cube"
   ]
  },
  {
   "cell_type": "code",
   "execution_count": 4,
   "metadata": {},
   "outputs": [],
   "source": [
    "cube = session.create_cube(trades_store, \"Cube\")\n",
    "m = cube.measures\n",
    "lvl = cube.levels"
   ]
  },
  {
   "cell_type": "markdown",
   "metadata": {},
   "source": [
    "# Query the Cube\n",
    "\n",
    "We query the cube for the P&L values aggregated to the full portfolio"
   ]
  },
  {
   "cell_type": "code",
   "execution_count": 5,
   "metadata": {},
   "outputs": [
    {
     "data": {
      "image/png": "[encoded data removed]",
      "text/plain": [
       "<Figure size 432x288 with 1 Axes>"
      ]
     },
     "metadata": {
      "needs_background": "light"
     },
     "output_type": "display_data"
    }
   ],
   "source": [
    "pl = np.array(cube.query(m[\"PnLVector.SUM\"])[\"PnLVector.SUM\"][0])\n",
    "\n",
    "plt.plot(pl)\n",
    "plt.show()"
   ]
  },
  {
   "cell_type": "markdown",
   "metadata": {},
   "source": [
    "# VaR Calculation\n",
    "\n",
    "We define the confidence level and window size that we are looking at.\n",
    "\n",
    "We construct an L-Estimator kernel, which we will use to calculate the VaR values.  The VaR is calculated by multiplying the kernel with the sorted P&L window."
   ]
  },
  {
   "cell_type": "code",
   "execution_count": 6,
   "metadata": {},
   "outputs": [],
   "source": [
    "confidence_level = 0.95\n",
    "quantile = 1 - confidence_level\n",
    "window_size = 100\n",
    "\n",
    "kernel = np.zeros(window_size)\n",
    "quantile_rank = math.floor(quantile * window_size)\n",
    "kernel[quantile_rank - 1] = 1\n",
    "\n",
    "def var(pl): return -np.dot(np.sort(pl), kernel)\n",
    "\n",
    "## Alternative VaR caluation using np.quantile()\n",
    "# def var(pl): return -np.quantile(pl, quantile, interpolation='lower')"
   ]
  },
  {
   "cell_type": "markdown",
   "metadata": {},
   "source": [
    "Calculate and plot the portfolio VaR value for each period"
   ]
  },
  {
   "cell_type": "code",
   "execution_count": 7,
   "metadata": {},
   "outputs": [
    {
     "data": {
      "image/png": "[encoded data removed]",
      "text/plain": [
       "<Figure size 432x288 with 1 Axes>"
      ]
     },
     "metadata": {
      "needs_background": "light"
     },
     "output_type": "display_data"
    }
   ],
   "source": [
    "period_indices = range(0, len(pl) - window_size)\n",
    "\n",
    "vars = np.array([var(pl[i:i + window_size]) for i in period_indices])\n",
    "plt.plot(vars)\n",
    "plt.show()"
   ]
  },
  {
   "cell_type": "markdown",
   "metadata": {},
   "source": [
    "The maximum VaR value"
   ]
  },
  {
   "cell_type": "code",
   "execution_count": 8,
   "metadata": {},
   "outputs": [
    {
     "data": {
      "text/plain": [
       "16360.562000000005"
      ]
     },
     "execution_count": 8,
     "metadata": {},
     "output_type": "execute_result"
    }
   ],
   "source": [
    "max_var = np.max(vars)\n",
    "max_var"
   ]
  },
  {
   "cell_type": "markdown",
   "metadata": {},
   "source": [
    "The periods where the VaR value is equal to the maximum.  Because the VaR is a tail measure, it only depends on the lowest handful of values, and these can be shared by multiple periods."
   ]
  },
  {
   "cell_type": "code",
   "execution_count": 9,
   "metadata": {},
   "outputs": [
    {
     "data": {
      "text/plain": [
       "array([0], dtype=int64)"
      ]
     },
     "execution_count": 9,
     "metadata": {},
     "output_type": "execute_result"
    }
   ],
   "source": [
    "max_periods = np.argwhere(vars == max_var).flatten()\n",
    "max_periods"
   ]
  },
  {
   "cell_type": "markdown",
   "metadata": {},
   "source": [
    "Pick the most recent to be the stress period.\n",
    "\n",
    "Plot the (sorted) P&L values for the stress period"
   ]
  },
  {
   "cell_type": "code",
   "execution_count": 10,
   "metadata": {},
   "outputs": [
    {
     "data": {
      "image/png": "[encoded data removed]",
      "text/plain": [
       "<Figure size 432x288 with 1 Axes>"
      ]
     },
     "metadata": {
      "needs_background": "light"
     },
     "output_type": "display_data"
    }
   ],
   "source": [
    "period = max_periods[-1]\n",
    "pl_period = pl[period:period + window_size]\n",
    "plt.plot(np.sort(pl_period))\n",
    "plt.show()"
   ]
  },
  {
   "cell_type": "markdown",
   "metadata": {},
   "source": [
    "# Decomposition\n",
    "\n",
    "**TODO:** With better data, change level to risk-class "
   ]
  },
  {
   "cell_type": "code",
   "execution_count": 11,
   "metadata": {},
   "outputs": [],
   "source": [
    "decomp_level = lvl[\"Desk\"]"
   ]
  },
  {
   "cell_type": "markdown",
   "metadata": {},
   "source": [
    "## Defining Component VaR Calculations\n",
    "\n",
    "Using the ordering of the P&L values for the portfolio P&L vector windows, we can calculate the contribution to the VaR for subsets of the portfolio.\n",
    "\n",
    "We start by storing the sort order of the portfolio P&L vector for each window, then calculate the sub-portfolio VaR based on this sort order and the kernel"
   ]
  },
  {
   "cell_type": "code",
   "execution_count": 12,
   "metadata": {},
   "outputs": [],
   "source": [
    "# For each window, the sort order of the portfolio P&L values\n",
    "sort_indices = np.array([np.argsort(pl[i:i + window_size]) for i in period_indices])\n",
    "\n",
    "def VaR_decomp_kernel(pl, i, kernel): return -sum([pl[i + sort_indices[i][j]] * kernel[j] for j in range(window_size)])\n",
    "def VaR_decomp_period(pl, i): return VaR_decomp_kernel(pl, i, kernel)\n",
    "def VaR_decomp_all(pl): return np.array([VaR_decomp_period(pl,i) for i in period_indices])"
   ]
  },
  {
   "cell_type": "markdown",
   "metadata": {},
   "source": [
    "Check that this gives the same values when applied to the full portfolio."
   ]
  },
  {
   "cell_type": "code",
   "execution_count": 13,
   "metadata": {},
   "outputs": [
    {
     "data": {
      "image/png": "[encoded data removed]",
      "text/plain": [
       "<Figure size 432x288 with 1 Axes>"
      ]
     },
     "metadata": {
      "needs_background": "light"
     },
     "output_type": "display_data"
    },
    {
     "data": {
      "text/plain": [
       "0.0"
      ]
     },
     "execution_count": 13,
     "metadata": {},
     "output_type": "execute_result"
    }
   ],
   "source": [
    "vars2 = VaR_decomp_all(pl)\n",
    "plt.plot(vars2)\n",
    "plt.plot(vars)\n",
    "plt.show()\n",
    "\n",
    "# Check: max over all windows of difference between the VaR values calculated using each method\n",
    "max(vars2-vars)"
   ]
  },
  {
   "cell_type": "markdown",
   "metadata": {},
   "source": [
    "## Querying the Cube for Component P&L Vectors\n",
    "\n",
    "Now we query the cube for the P&L vectors aggregated to the decomposition level (i.e. risk-class)"
   ]
  },
  {
   "cell_type": "code",
   "execution_count": 14,
   "metadata": {},
   "outputs": [
    {
     "data": {
      "text/html": [
       "<div>\n",
       "<style scoped>\n",
       "    .dataframe tbody tr th:only-of-type {\n",
       "        vertical-align: middle;\n",
       "    }\n",
       "\n",
       "    .dataframe tbody tr th {\n",
       "        vertical-align: top;\n",
       "    }\n",
       "\n",
       "    .dataframe thead th {\n",
       "        text-align: right;\n",
       "    }\n",
       "</style>\n",
       "<table border=\"1\" class=\"dataframe\">\n",
       "  <thead>\n",
       "    <tr style=\"text-align: right;\">\n",
       "      <th></th>\n",
       "      <th>PnLVector.SUM</th>\n",
       "    </tr>\n",
       "    <tr>\n",
       "      <th>Desk</th>\n",
       "      <th></th>\n",
       "    </tr>\n",
       "  </thead>\n",
       "  <tbody>\n",
       "    <tr>\n",
       "      <th>DeskA</th>\n",
       "      <td>[-15096.666000000001, -70250.38199999998, -140...</td>\n",
       "    </tr>\n",
       "    <tr>\n",
       "      <th>DeskB</th>\n",
       "      <td>[-1263.8960000000002, 788.874, -13639.694, 107...</td>\n",
       "    </tr>\n",
       "  </tbody>\n",
       "</table>\n",
       "</div>"
      ],
      "text/plain": [
       "                                           PnLVector.SUM\n",
       "Desk                                                    \n",
       "DeskA  [-15096.666000000001, -70250.38199999998, -140...\n",
       "DeskB  [-1263.8960000000002, 788.874, -13639.694, 107..."
      ]
     },
     "execution_count": 14,
     "metadata": {},
     "output_type": "execute_result"
    }
   ],
   "source": [
    "decomp_results = cube.query(m[\"PnLVector.SUM\"], levels=[decomp_level])\n",
    "decomp_results"
   ]
  },
  {
   "cell_type": "markdown",
   "metadata": {},
   "source": [
    "## Calculating Component VaR\n",
    "\n",
    "We calculate the VaR values for each member of the decomposition level and for each window.\n",
    "\n",
    "Graphing the decomposition for all windows, and returning the decomposition values for the stress period"
   ]
  },
  {
   "cell_type": "code",
   "execution_count": 15,
   "metadata": {},
   "outputs": [
    {
     "data": {
      "image/png": "[encoded data removed]",
      "text/plain": [
       "<Figure size 432x288 with 1 Axes>"
      ]
     },
     "metadata": {
      "needs_background": "light"
     },
     "output_type": "display_data"
    },
    {
     "data": {
      "text/plain": [
       "[['DeskA', 15096.666000000001], ['DeskB', 1263.8960000000002]]"
      ]
     },
     "execution_count": 15,
     "metadata": {},
     "output_type": "execute_result"
    }
   ],
   "source": [
    "decomp_vars = np.array([[row[0], VaR_decomp_all(row[1])] for row in decomp_results.itertuples()])\n",
    "\n",
    "plt.stackplot(period_indices, *decomp_vars[:,1], labels=decomp_vars[:,0])\n",
    "plt.figlegend()\n",
    "plt.plot(vars)\n",
    "plt.show()\n",
    "\n",
    "[[row[0], row[1][period]] for row in decomp_vars]"
   ]
  }
 ],
 "metadata": {
  "kernelspec": {
   "display_name": "Python 3",
   "language": "python",
   "name": "python3"
  },
  "language_info": {
   "codemirror_mode": {
    "name": "ipython",
    "version": 3
   },
   "file_extension": ".py",
   "mimetype": "text/x-python",
   "name": "python",
   "nbconvert_exporter": "python",
   "pygments_lexer": "ipython3",
   "version": "3.7.6"
  }
 },
 "nbformat": 4,
 "nbformat_minor": 4
}
