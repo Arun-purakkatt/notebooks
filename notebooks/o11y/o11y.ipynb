{
 "cells": [
  {
   "cell_type": "markdown",
   "metadata": {},
   "source": [
    "# Observability metrics real-time monitoring"
   ]
  },
  {
   "cell_type": "markdown",
   "metadata": {},
   "source": [
    "## Use case\n",
    "\n",
    "For the data flow diagram and the use case overview, pls refer to this page\n",
    "\n",
    "https://support.activeviam.com/confluence/pages/viewpage.action?spaceKey=ATOTI&title=o11y+use+case"
   ]
  },
  {
   "cell_type": "markdown",
   "metadata": {},
   "source": [
    "## Data model\n",
    "\n",
    "\n",
    "Open telemetry provides a flexible data structure for metrics and their observations (data points). The list of attributes is extendable. However for the standard metrics, the list of fields is specified - see [Semantic Conventions](https://github.com/open-telemetry/opentelemetry-specification/tree/master/specification/metrics/semantic_conventions).\n",
    "\n",
    "In this notebook, we create sample data with a set of assumptions:\n",
    "\n",
    "- Metrics are limited to \"System Metrics\" and the list of fields is pre-defined based on the [Semantic Conventions System Metrics](https://github.com/open-telemetry/opentelemetry-specification/blob/master/specification/metrics/semantic_conventions/system-metrics.md).\n",
    "- Each message provides only 1 metric\n",
    "- Each message provides only 1 data point (single measurement and no pre-aggregations on the publisher side)\n",
    "\n",
    "This is a sample message based on the open telemetry [proto specification](https://github.com/open-telemetry/opentelemetry-proto/blob/b54688569186e0b862bf7462a983ccf2c50c0547/opentelemetry/proto/metrics/v1/metrics.proto#L362-L385):\n",
    "    \n",
    "    \n",
    "\n",
    "<details>\n",
    "  <summary>Expand sample message </summary>\n",
    "\n",
    "```\n",
    "{\n",
    "    \"resource\": {\n",
    "        \"attributes\": [\n",
    "            {\n",
    "                \"key\": \"az\",\n",
    "                \"value\": {\"stringValue\": \"ap-southeast-2a\"},\n",
    "            },  # availability zone: az1, az2, az3\n",
    "            {\n",
    "                \"key\": \"container_id\",\n",
    "                \"value\": {\"stringValue\": \"ascscs11243asc\"},\n",
    "            },  # 5 containers\n",
    "            {\n",
    "                \"key\": \"service_id\",\n",
    "                \"value\": {\"stringValue\": \"myservice\"},\n",
    "            },  # service id: identity service, media service, heartbit, content service 1000\n",
    "        ]\n",
    "    },\n",
    "    \"instrumentationLibraryMetrics\": [\n",
    "        {\n",
    "            \"instrumentationLibrary\": {\n",
    "                \"name\": \"github.com/aws/aws-sdk-go/aws/service/s3\"\n",
    "            },\n",
    "            \"metrics\": [\n",
    "                {\n",
    "                    \"name\": \"storage.operation.duration_μs\",  # 500 http.latency, http.errors.count, cpu.utilization, http.request.size\n",
    "                    \"doubleHistogram\": {\n",
    "                        \"dataPoints\": [\n",
    "                            {\n",
    "                                \"labels\": [\n",
    "                                    {\"key\": \"status\", \"value\": \"success\"},\n",
    "                                    {\n",
    "                                        \"key\": \"storage.destination\",\n",
    "                                        \"value\": \"rps--ddev\",\n",
    "                                    },\n",
    "                                    {\"key\": \"storage.operation\", \"value\": \"GetObject\"},\n",
    "                                    {\"key\": \"storage.system\", \"value\": \"s3\"},\n",
    "                                    {\n",
    "                                        \"key\": \"trace.id\",\n",
    "                                        \"value\": \"4308d78604e6dded7896a76b9b55b57b\",\n",
    "                                    },\n",
    "                                ],\n",
    "                                \"startTimeUnixNano\": \"1605157776531067020\",\n",
    "                                \"timeUnixNano\": \"1605157786531063396\",\n",
    "                                \"count\": \"1\",\n",
    "                                \"sum\": 33734.0,  # 300 ms\n",
    "                                \"bucketCounts\": [\n",
    "                                    \"4674869179239628800\",\n",
    "                                    \"4674869179239628800\",\n",
    "                                ],\n",
    "                                \"explicitBounds\": [0.0, 100.0],\n",
    "                            }\n",
    "                        ]\n",
    "                    },\n",
    "                }\n",
    "            ],\n",
    "        }\n",
    "    ],\n",
    "}\n",
    "```\n",
    "    \n",
    "</details>\n",
    "\n",
    "\n",
    "\n",
    "We will be flattening all observations into a single data store - Data Points."
   ]
  },
  {
   "cell_type": "markdown",
   "metadata": {},
   "source": [
    "## Example business rules\n",
    "\n",
    "Messages from IT services are streamed in real-time, and the observations are aggregated, for instance using 90% quantile. Aggregated values are monitored and alerts are sent, for instance:\n",
    "\n",
    "- for premium clients p-90 latency should be within boundaries, send alert if P-90 latency is more than 300 ms.\n",
    "- if average CPU over the last minute is above a threshold -> alarm"
   ]
  },
  {
   "cell_type": "markdown",
   "metadata": {},
   "source": [
    "# Memory sizing - approximation\n",
    "\n",
    "Assumptions about cardinality:\n",
    "    \n",
    "    - 90 mln data points per minute\n",
    "    - 700 different metrics\n",
    "    - 15000 different resource ids:\n",
    "        - a few availability zones\n",
    "        - thousands service ids and a few container ids\n",
    "    - labels\n",
    "        - thousands of device ids, or urls, or hosts\n",
    "    \n",
    "Based on the example message above, 90 mln points per takes ~0.6 gb of memory - for python in-memory dict object."
   ]
  },
  {
   "cell_type": "code",
   "execution_count": 2,
   "metadata": {
    "execution": {
     "iopub.execute_input": "2020-11-18T07:37:22.066561Z",
     "iopub.status.busy": "2020-11-18T07:37:22.066313Z",
     "iopub.status.idle": "2020-11-18T07:37:22.077141Z",
     "shell.execute_reply": "2020-11-18T07:37:22.076541Z",
     "shell.execute_reply.started": "2020-11-18T07:37:22.066520Z"
    },
    "jupyter": {
     "source_hidden": true
    }
   },
   "outputs": [
    {
     "name": "stdout",
     "output_type": "stream",
     "text": [
      "620.8475679159164 mb\n"
     ]
    }
   ],
   "source": [
    "message = {\n",
    "    \"resource\": {\n",
    "        \"attributes\": [\n",
    "            {\n",
    "                \"key\": \"az\",\n",
    "                \"value\": {\"stringValue\": \"ap-southeast-2a\"},\n",
    "            },  # availability zone: az1, az2, az3\n",
    "            {\n",
    "                \"key\": \"container_id\",\n",
    "                \"value\": {\"stringValue\": \"ascscs11243asc\"},\n",
    "            },  # 5 containers\n",
    "            {\n",
    "                \"key\": \"service_id\",\n",
    "                \"value\": {\"stringValue\": \"myservice\"},\n",
    "            },  # service id: identity service, media service, heartbit, content service 1000\n",
    "        ]\n",
    "    },\n",
    "    \"instrumentationLibraryMetrics\": [\n",
    "        {\n",
    "            \"instrumentationLibrary\": {\n",
    "                \"name\": \"github.com/aws/aws-sdk-go/aws/service/s3\"\n",
    "            },\n",
    "            \"metrics\": [\n",
    "                {\n",
    "                    \"name\": \"storage.operation.duration_μs\",  # 500 http.latency, http.errors.count, cpu.utilization, http.request.size\n",
    "                    \"doubleHistogram\": {\n",
    "                        \"dataPoints\": [\n",
    "                            {\n",
    "                                \"labels\": [\n",
    "                                    {\"key\": \"status\", \"value\": \"success\"},\n",
    "                                    {\n",
    "                                        \"key\": \"storage.destination\",\n",
    "                                        \"value\": \"rps--ddev\",\n",
    "                                    },\n",
    "                                    {\"key\": \"storage.operation\", \"value\": \"GetObject\"},\n",
    "                                    {\"key\": \"storage.system\", \"value\": \"s3\"},\n",
    "                                    {\n",
    "                                        \"key\": \"trace.id\",\n",
    "                                        \"value\": \"4308d78604e6dded7896a76b9b55b57b\",\n",
    "                                    },\n",
    "                                ],\n",
    "                                \"startTimeUnixNano\": \"1605157776531067020\",\n",
    "                                \"timeUnixNano\": \"1605157786531063396\",\n",
    "                                \"count\": \"1\",\n",
    "                                \"sum\": 33734.0,  # 300 ms\n",
    "                                \"bucketCounts\": [\n",
    "                                    \"4674869179239628800\",\n",
    "                                    \"4674869179239628800\",\n",
    "                                ],\n",
    "                                \"explicitBounds\": [0.0, 100.0],\n",
    "                            }\n",
    "                        ]\n",
    "                    },\n",
    "                }\n",
    "            ],\n",
    "        }\n",
    "    ],\n",
    "}\n",
    "\n",
    "from __future__ import print_function\n",
    "\n",
    "from collections import deque\n",
    "from itertools import chain\n",
    "from sys import getsizeof, stderr\n",
    "\n",
    "try:\n",
    "    from reprlib import repr\n",
    "except ImportError:\n",
    "    pass\n",
    "\n",
    "\n",
    "def total_size(o, handlers={}, verbose=False):\n",
    "    \"\"\"Returns the approximate memory footprint an object and all of its contents.\n",
    "\n",
    "    Automatically finds the contents of the following builtin containers and\n",
    "    their subclasses:  tuple, list, deque, dict, set and frozenset.\n",
    "    To search other containers, add handlers to iterate over their contents:\n",
    "\n",
    "        handlers = {SomeContainerClass: iter,\n",
    "                    OtherContainerClass: OtherContainerClass.get_elements}\n",
    "\n",
    "    \"\"\"\n",
    "    dict_handler = lambda d: chain.from_iterable(d.items())\n",
    "    all_handlers = {\n",
    "        tuple: iter,\n",
    "        list: iter,\n",
    "        deque: iter,\n",
    "        dict: dict_handler,\n",
    "        set: iter,\n",
    "        frozenset: iter,\n",
    "    }\n",
    "    all_handlers.update(handlers)  # user handlers take precedence\n",
    "    seen = set()  # track which object id's have already been seen\n",
    "    default_size = getsizeof(0)  # estimate sizeof object without __sizeof__\n",
    "\n",
    "    def sizeof(o):\n",
    "        if id(o) in seen:  # do not double count the same object\n",
    "            return 0\n",
    "        seen.add(id(o))\n",
    "        s = getsizeof(o, default_size)\n",
    "\n",
    "        if verbose:\n",
    "            print(s, type(o), repr(o), file=stderr)\n",
    "\n",
    "        for typ, handler in all_handlers.items():\n",
    "            if isinstance(o, typ):\n",
    "                s += sum(map(sizeof, handler(o)))\n",
    "                break\n",
    "        return s\n",
    "\n",
    "    return sizeof(o)\n",
    "\n",
    "\n",
    "print(total_size(message) * 90000000 / (2 ** 30), \"mb\")"
   ]
  },
  {
   "cell_type": "markdown",
   "metadata": {},
   "source": [
    "# Sample data"
   ]
  },
  {
   "cell_type": "markdown",
   "metadata": {
    "execution": {
     "iopub.execute_input": "2020-11-18T04:06:35.313730Z",
     "iopub.status.busy": "2020-11-18T04:06:35.313511Z",
     "iopub.status.idle": "2020-11-18T04:06:35.318427Z",
     "shell.execute_reply": "2020-11-18T04:06:35.317291Z",
     "shell.execute_reply.started": "2020-11-18T04:06:35.313707Z"
    }
   },
   "source": [
    "### Sample meta attributes"
   ]
  },
  {
   "cell_type": "code",
   "execution_count": 3,
   "metadata": {
    "execution": {
     "iopub.execute_input": "2020-11-18T07:37:22.078729Z",
     "iopub.status.busy": "2020-11-18T07:37:22.078437Z",
     "iopub.status.idle": "2020-11-18T07:37:22.082658Z",
     "shell.execute_reply": "2020-11-18T07:37:22.081535Z",
     "shell.execute_reply.started": "2020-11-18T07:37:22.078704Z"
    }
   },
   "outputs": [],
   "source": [
    "def generate_members(prefix, num):\n",
    "    # This is to generate a list of members of a given size\n",
    "    num_suffix = num // len(prefix)\n",
    "    return [\"{}_{}\".format(p, str(s)) for p in prefix for s in range(num_suffix)]"
   ]
  },
  {
   "cell_type": "code",
   "execution_count": 4,
   "metadata": {
    "execution": {
     "iopub.execute_input": "2020-11-18T07:37:22.085020Z",
     "iopub.status.busy": "2020-11-18T07:37:22.084777Z",
     "iopub.status.idle": "2020-11-18T07:37:22.088475Z",
     "shell.execute_reply": "2020-11-18T07:37:22.087409Z",
     "shell.execute_reply.started": "2020-11-18T07:37:22.084996Z"
    }
   },
   "outputs": [],
   "source": [
    "availability_zones = [\"az1\", \"az2\", \"az3\"]"
   ]
  },
  {
   "cell_type": "code",
   "execution_count": 5,
   "metadata": {
    "execution": {
     "iopub.execute_input": "2020-11-18T07:37:22.090661Z",
     "iopub.status.busy": "2020-11-18T07:37:22.090383Z",
     "iopub.status.idle": "2020-11-18T07:37:22.103374Z",
     "shell.execute_reply": "2020-11-18T07:37:22.102646Z",
     "shell.execute_reply.started": "2020-11-18T07:37:22.090634Z"
    }
   },
   "outputs": [
    {
     "data": {
      "text/plain": [
       "['container_0', 'container_1', 'container_2', 'container_3', 'container_4']"
      ]
     },
     "execution_count": 5,
     "metadata": {},
     "output_type": "execute_result"
    }
   ],
   "source": [
    "# Different containers\n",
    "container_id = [\"container\"]\n",
    "container_id_num = 5\n",
    "cont_list = generate_members(container_id, container_id_num)\n",
    "cont_list[:5]"
   ]
  },
  {
   "cell_type": "code",
   "execution_count": 6,
   "metadata": {
    "execution": {
     "iopub.execute_input": "2020-11-18T07:37:22.105268Z",
     "iopub.status.busy": "2020-11-18T07:37:22.105044Z",
     "iopub.status.idle": "2020-11-18T07:37:22.111306Z",
     "shell.execute_reply": "2020-11-18T07:37:22.110473Z",
     "shell.execute_reply.started": "2020-11-18T07:37:22.105244Z"
    }
   },
   "outputs": [
    {
     "data": {
      "text/plain": [
       "['identity service_0',\n",
       " 'identity service_1',\n",
       " 'identity service_2',\n",
       " 'identity service_3',\n",
       " 'identity service_4']"
      ]
     },
     "execution_count": 6,
     "metadata": {},
     "output_type": "execute_result"
    }
   ],
   "source": [
    "# Different services\n",
    "services_prefix = [\"identity service\", \"media service\", \"content service\"]\n",
    "services_num = 1000\n",
    "serv_list = generate_members(services_prefix, services_num)\n",
    "serv_list[:5]"
   ]
  },
  {
   "cell_type": "code",
   "execution_count": 7,
   "metadata": {
    "execution": {
     "iopub.execute_input": "2020-11-18T07:37:22.112866Z",
     "iopub.status.busy": "2020-11-18T07:37:22.112483Z",
     "iopub.status.idle": "2020-11-18T07:37:22.119941Z",
     "shell.execute_reply": "2020-11-18T07:37:22.119300Z",
     "shell.execute_reply.started": "2020-11-18T07:37:22.112839Z"
    }
   },
   "outputs": [
    {
     "data": {
      "text/plain": [
       "['hdgsfysdfbf_0',\n",
       " 'hdgsfysdfbf_1',\n",
       " 'hdgsfysdfbf_2',\n",
       " 'hdgsfysdfbf_3',\n",
       " 'hdgsfysdfbf_4']"
      ]
     },
     "execution_count": 7,
     "metadata": {},
     "output_type": "execute_result"
    }
   ],
   "source": [
    "# Different device ids\n",
    "device_prefix = [\"hdgsfysdfbf\"]\n",
    "device_num = 2000\n",
    "device_ids = generate_members(device_prefix, device_num)\n",
    "device_ids[:5]"
   ]
  },
  {
   "cell_type": "markdown",
   "metadata": {},
   "source": [
    "### System metrics semantic conventions\n",
    "\n",
    "https://github.com/open-telemetry/opentelemetry-specification/blob/master/specification/metrics/semantic_conventions/system-metrics.md\n",
    "\n"
   ]
  },
  {
   "cell_type": "code",
   "execution_count": 8,
   "metadata": {
    "execution": {
     "iopub.execute_input": "2020-11-18T07:37:22.121518Z",
     "iopub.status.busy": "2020-11-18T07:37:22.121168Z",
     "iopub.status.idle": "2020-11-18T07:37:22.133742Z",
     "shell.execute_reply": "2020-11-18T07:37:22.133148Z",
     "shell.execute_reply.started": "2020-11-18T07:37:22.121492Z"
    }
   },
   "outputs": [],
   "source": [
    "system_metrics = {\n",
    "    \"system.cpu.time\": {\n",
    "        \"labels\": {\n",
    "            \"state\": [\"idle\", \"user\", \"system\", \"interrupt\"],\n",
    "            \"cpu\": [i for i in range(32)],\n",
    "        },\n",
    "        \"type\": \"Double\",\n",
    "    },\n",
    "    \"system.cpu.utilization\": {\n",
    "        \"labels\": {\n",
    "            \"state\": [\"idle\", \"user\", \"system\", \"interrupt\"],\n",
    "            \"cpu\": [i for i in range(32)],\n",
    "        },\n",
    "        \"type\": \"Double\",\n",
    "    },\n",
    "    \"system.memory.usage\": {\n",
    "        \"labels\": {\n",
    "            \"state\": [\"idle\", \"user\", \"system\", \"interrupt\"],\n",
    "        },\n",
    "        \"type\": \"Int64\",\n",
    "    },\n",
    "    \"system.memory.utilization\": {\n",
    "        \"labels\": {\n",
    "            \"state\": [\"idle\", \"user\", \"system\", \"interrupt\"],\n",
    "        },\n",
    "        \"type\": \"Double\",\n",
    "    },\n",
    "    \"system.paging.usage\": {\n",
    "        \"labels\": {\n",
    "            \"state\": [\"used\", \"free\"],\n",
    "        },\n",
    "        \"type\": \"Int64\",\n",
    "    },\n",
    "    \"system.paging.utilization\": {\n",
    "        \"labels\": {\n",
    "            \"state\": [\"used\", \"free\"],\n",
    "        },\n",
    "        \"type\": \"Double\",\n",
    "    },\n",
    "    \"system.paging.faults\": {\n",
    "        \"labels\": {\n",
    "            \"type\": [\"minor\", \"major\"],\n",
    "        },\n",
    "        \"type\": \"Int64\",\n",
    "    },\n",
    "    \"system.paging.operations\": {\n",
    "        \"labels\": {\n",
    "            \"type\": [\"minor\", \"major\"],\n",
    "        },\n",
    "        \"type\": \"Int64\",\n",
    "    },\n",
    "    \"system.disk.io\": {\n",
    "        \"labels\": {\"device\": device_ids, \"direction\": [\"read\", \"write\"]},\n",
    "        \"type\": \"Int64\",\n",
    "    },\n",
    "    \"system.disk.operations\": {\n",
    "        \"labels\": {\"device\": device_ids, \"direction\": [\"read\", \"write\"]},\n",
    "        \"type\": \"Int64\",\n",
    "    },\n",
    "    \"system.disk.io_time\": {\n",
    "        \"labels\": {\"device\": device_ids},\n",
    "        \"type\": \"Double\",\n",
    "    },\n",
    "    \"system.disk.operation_time\": {\n",
    "        \"labels\": {\"device\": device_ids, \"direction\": [\"read\", \"write\"]},\n",
    "        \"type\": \"Double\",\n",
    "    },\n",
    "    \"system.disk.merged\": {\n",
    "        \"labels\": {\"device\": device_ids, \"direction\": [\"read\", \"write\"]},\n",
    "        \"type\": \"Int64\",\n",
    "    },\n",
    "    \"system.filesystem.usage\": {\n",
    "        \"labels\": {\n",
    "            \"device\": device_ids,\n",
    "            \"state\": [\"used\", \"free\", \"reserved\"],\n",
    "            \"type\": [\"ext4\", \"tmpfs\"],\n",
    "            \"mode\": [\"rw\", \"ro\"],\n",
    "        },\n",
    "        \"type\": \"Int64\",\n",
    "    },\n",
    "    \"system.filesystem.utilization\": {\n",
    "        \"labels\": {\n",
    "            \"device\": device_ids,\n",
    "            \"state\": [\"used\", \"free\", \"reserved\"],\n",
    "            \"type\": [\"ext4\", \"tmpfs\"],\n",
    "            \"mode\": [\"rw\", \"ro\"],\n",
    "        },\n",
    "        \"type\": \"Double\",\n",
    "    },\n",
    "    \"system.network.dropped\": {\n",
    "        \"labels\": {\n",
    "            \"device\": device_ids,\n",
    "            \"direction\": [\"transmit\", \"receive\", \"reserved\"],\n",
    "        },\n",
    "        \"type\": \"Int64\",\n",
    "    },\n",
    "    \"system.network.packets\": {\n",
    "        \"labels\": {\n",
    "            \"device\": device_ids,\n",
    "            \"direction\": [\"transmit\", \"receive\", \"reserved\"],\n",
    "        },\n",
    "        \"type\": \"Int64\",\n",
    "    },\n",
    "    \"system.network.errors\": {\n",
    "        \"labels\": {\n",
    "            \"device\": device_ids,\n",
    "            \"direction\": [\"transmit\", \"receive\", \"reserved\"],\n",
    "        },\n",
    "        \"type\": \"Int64\",\n",
    "    },\n",
    "    \"system.network.io\": {\n",
    "        \"labels\": {\n",
    "            \"device\": device_ids,\n",
    "            \"direction\": [\"transmit\", \"receive\", \"reserved\"],\n",
    "        },\n",
    "        \"type\": \"Int64\",\n",
    "    },\n",
    "    \"system.network.connections\": {\n",
    "        \"labels\": {\n",
    "            \"device\": device_ids,\n",
    "            \"protocol\": [\"tcp\", \"udp\", \"atp\", \"il\"],\n",
    "            \"state\": [\n",
    "                \"LISTEN\",\n",
    "                \"SYN-SENT\",\n",
    "                \"SYN-RECEIVED\",\n",
    "                \"ESTABLISHED\",\n",
    "                \"FIN-WAIT-1\",\n",
    "                \"FIN-WAIT-2\",\n",
    "                \"CLOSE-WAIT\",\n",
    "                \"CLOSING\",\n",
    "                \"LAST-ACK\",\n",
    "                \"TIME-WAIT\",\n",
    "                \"CLOSED\",\n",
    "                \"\",\n",
    "            ],\n",
    "        },\n",
    "        \"type\": \"Int64\",\n",
    "    },\n",
    "    \"system.process.count\": {\n",
    "        \"labels\": {\"status\": [\"running\", \"sleeping\", \"dead\"]},\n",
    "        \"type\": \"Int64\",\n",
    "    },\n",
    "}"
   ]
  },
  {
   "cell_type": "markdown",
   "metadata": {},
   "source": [
    "### Message"
   ]
  },
  {
   "cell_type": "code",
   "execution_count": 9,
   "metadata": {
    "execution": {
     "iopub.execute_input": "2020-11-18T07:37:22.135134Z",
     "iopub.status.busy": "2020-11-18T07:37:22.134949Z",
     "iopub.status.idle": "2020-11-18T07:37:22.143686Z",
     "shell.execute_reply": "2020-11-18T07:37:22.142845Z",
     "shell.execute_reply.started": "2020-11-18T07:37:22.135112Z"
    }
   },
   "outputs": [
    {
     "name": "stdout",
     "output_type": "stream",
     "text": [
      "{\n",
      "    \"resource\": {\n",
      "        \"attributes\": [\n",
      "            {\n",
      "                \"key\": \"az\",\n",
      "                \"value\": {\n",
      "                    \"stringValue\": \"az2\"\n",
      "                }\n",
      "            },\n",
      "            {\n",
      "                \"key\": \"container_id\",\n",
      "                \"value\": {\n",
      "                    \"stringValue\": \"container_1\"\n",
      "                }\n",
      "            },\n",
      "            {\n",
      "                \"key\": \"service_id\",\n",
      "                \"value\": {\n",
      "                    \"stringValue\": \"content service_0\"\n",
      "                }\n",
      "            }\n",
      "        ]\n",
      "    },\n",
      "    \"instrumentationLibraryMetrics\": [\n",
      "        {\n",
      "            \"instrumentationLibrary\": {\n",
      "                \"name\": \"github.com/aws/aws-sdk-go/aws/service/s3\"\n",
      "            },\n",
      "            \"metrics\": [\n",
      "                {\n",
      "                    \"name\": \"system.paging.utilization\",\n",
      "                    \"doubleHistogram\": {\n",
      "                        \"dataPoints\": [\n",
      "                            {\n",
      "                                \"labels\": [\n",
      "                                    {\n",
      "                                        \"key\": \"state\",\n",
      "                                        \"value\": \"used\"\n",
      "                                    }\n",
      "                                ],\n",
      "                                \"startTimeUnixNano\": \"1605685042140848000\",\n",
      "                                \"count\": \"1\",\n",
      "                                \"sum\": 0.07691047816997243,\n",
      "                                \"bucketCounts\": [\n",
      "                                    \"4674869179239628800\",\n",
      "                                    \"4674869179239628800\"\n",
      "                                ],\n",
      "                                \"explicitBounds\": [\n",
      "                                    0.0,\n",
      "                                    100.0\n",
      "                                ]\n",
      "                            }\n",
      "                        ]\n",
      "                    }\n",
      "                }\n",
      "            ]\n",
      "        }\n",
      "    ]\n",
      "}\n"
     ]
    }
   ],
   "source": [
    "import json\n",
    "import random\n",
    "import time\n",
    "\n",
    "\n",
    "def generate_message(data_points_num=1):\n",
    "    # This function picks a random metric, fetches required labels and populates them randomly\n",
    "\n",
    "    az = random.choice(availability_zones)\n",
    "    container = random.choice(cont_list)\n",
    "    service = random.choice(serv_list)\n",
    "\n",
    "    metric = random.choice([*system_metrics.keys()])\n",
    "    dps = []\n",
    "    for i in range(data_points_num):\n",
    "\n",
    "        lbl_def = system_metrics[metric][\"labels\"]\n",
    "\n",
    "        labels = [\n",
    "            {\"key\": l, \"value\": random.choice(lbl_def[l])} for l in [*lbl_def.keys()]\n",
    "        ]\n",
    "        dps = dps + [\n",
    "            {\n",
    "                \"labels\": labels,\n",
    "                \"startTimeUnixNano\": str(int(time.time_ns())),\n",
    "                \"count\": \"1\",\n",
    "                \"sum\": random.random()\n",
    "                if system_metrics[metric][\"type\"] == \"Double\"\n",
    "                else random.randint(0, 500),  # 300 ms\n",
    "                \"bucketCounts\": [\n",
    "                    \"4674869179239628800\",\n",
    "                    \"4674869179239628800\",\n",
    "                ],\n",
    "                \"explicitBounds\": [0.0, 100.0],\n",
    "            }\n",
    "        ]\n",
    "\n",
    "    # Populating the message\n",
    "\n",
    "    message = {\n",
    "        \"resource\": {\n",
    "            \"attributes\": [\n",
    "                {\n",
    "                    \"key\": \"az\",\n",
    "                    \"value\": {\"stringValue\": az},\n",
    "                },  # availability zone: az1, az2, az3\n",
    "                {\n",
    "                    \"key\": \"container_id\",\n",
    "                    \"value\": {\"stringValue\": container},\n",
    "                },  # 5 containers\n",
    "                {\n",
    "                    \"key\": \"service_id\",\n",
    "                    \"value\": {\"stringValue\": service},\n",
    "                },  # service id: identity service, media service, heartbit, content service 1000\n",
    "            ]\n",
    "        },\n",
    "        \"instrumentationLibraryMetrics\": [\n",
    "            {\n",
    "                \"instrumentationLibrary\": {\n",
    "                    \"name\": \"github.com/aws/aws-sdk-go/aws/service/s3\"\n",
    "                },\n",
    "                \"metrics\": [\n",
    "                    {\n",
    "                        \"name\": metric,  # 500 http.latency, http.errors.count, cpu.utilization, http.request.size\n",
    "                        \"doubleHistogram\": {\"dataPoints\": dps},\n",
    "                    }\n",
    "                ],\n",
    "            }\n",
    "        ],\n",
    "    }\n",
    "\n",
    "    return message\n",
    "\n",
    "\n",
    "print(json.dumps(generate_message(), indent=4, sort_keys=False))"
   ]
  },
  {
   "cell_type": "markdown",
   "metadata": {},
   "source": [
    "### Serializer"
   ]
  },
  {
   "cell_type": "code",
   "execution_count": 10,
   "metadata": {
    "execution": {
     "iopub.execute_input": "2020-11-18T07:37:22.147110Z",
     "iopub.status.busy": "2020-11-18T07:37:22.146910Z",
     "iopub.status.idle": "2020-11-18T07:37:22.158409Z",
     "shell.execute_reply": "2020-11-18T07:37:22.157825Z",
     "shell.execute_reply.started": "2020-11-18T07:37:22.147089Z"
    }
   },
   "outputs": [
    {
     "name": "stdout",
     "output_type": "stream",
     "text": [
      "{\n",
      "    \"az\": \"az3\",\n",
      "    \"container_id\": \"container_1\",\n",
      "    \"service_id\": \"identity service_57\",\n",
      "    \"name\": \"system.memory.utilization\",\n",
      "    \"value\": 0.3902306457443364,\n",
      "    \"startTimeUnixNano\": \"1605685042155214000\",\n",
      "    \"timestamp\": \"2020-11-17 23:37:22\",\n",
      "    \"status\": \"\",\n",
      "    \"device\": \"\",\n",
      "    \"mode\": \"\",\n",
      "    \"protocol\": \"\",\n",
      "    \"type\": \"\",\n",
      "    \"cpu\": \"\",\n",
      "    \"direction\": \"\",\n",
      "    \"state\": \"idle\"\n",
      "}\n"
     ]
    }
   ],
   "source": [
    "import datetime\n",
    "\n",
    "\n",
    "def get_dp_labels_from_schema(schema):\n",
    "    # inferring the list of all labels from the schema\n",
    "    all_labels = []\n",
    "    for i, v in schema.items():\n",
    "        all_labels = all_labels + [*v[\"labels\"]]\n",
    "    return list(set(all_labels))\n",
    "\n",
    "\n",
    "def dict_from_key_value(l):\n",
    "    # this function is creating a dict object\n",
    "    # from the list of key-value pairs for resource attribues\n",
    "    # and data point labels\n",
    "    r = {}\n",
    "    for item in l:\n",
    "        if isinstance(item[\"value\"], dict):\n",
    "            if \"stringValue\" in [*item[\"value\"].keys()]:\n",
    "                r[item[\"key\"]] = item[\"value\"][\"stringValue\"]\n",
    "            else:\n",
    "                r[item[\"key\"]] = item[\"value\"]\n",
    "        else:\n",
    "            r[item[\"key\"]] = item[\"value\"]\n",
    "\n",
    "    return r\n",
    "\n",
    "\n",
    "def message_parser(obj: dict, datapoint_labels, resource_attributes):\n",
    "\n",
    "    fact = {}\n",
    "\n",
    "    # Reading the resource attribues\n",
    "    resource_attributes_dict = dict_from_key_value(obj[\"resource\"][\"attributes\"])\n",
    "    for column in resource_attributes:\n",
    "        fact[column] = (\n",
    "            resource_attributes_dict[column]\n",
    "            if column in resource_attributes_dict.keys()\n",
    "            else \"\"\n",
    "        )\n",
    "\n",
    "    # Reading the metric\n",
    "    # Assuming a single value is sent in a message - single metric and single data point:\n",
    "    dp = obj[\"instrumentationLibraryMetrics\"][0][\"metrics\"][0][\"doubleHistogram\"][\n",
    "        \"dataPoints\"\n",
    "    ][0]\n",
    "\n",
    "    fact[\"name\"] = obj[\"instrumentationLibraryMetrics\"][0][\"metrics\"][0][\"name\"]\n",
    "    fact[\"value\"] = dp[\"sum\"]\n",
    "    fact[\"startTimeUnixNano\"] = dp[\"startTimeUnixNano\"]\n",
    "    fact[\"timestamp\"] = datetime.datetime.fromtimestamp(\n",
    "        int(dp[\"startTimeUnixNano\"]) // 1000000000\n",
    "    ).strftime(\"%Y-%m-%d %H:%M:%S\")\n",
    "\n",
    "    # Reading labels\n",
    "    labels_dict = dict_from_key_value(dp[\"labels\"])\n",
    "    for column in datapoint_labels:\n",
    "        fact[column] = labels_dict[column] if column in labels_dict.keys() else \"\"\n",
    "\n",
    "    return fact\n",
    "\n",
    "\n",
    "datapoint_labels = get_dp_labels_from_schema(system_metrics)\n",
    "resource_attributes = [\"az\", \"container_id\", \"service_id\"]\n",
    "\n",
    "print(\n",
    "    json.dumps(\n",
    "        message_parser(generate_message(), datapoint_labels, resource_attributes),\n",
    "        indent=4,\n",
    "        sort_keys=False,\n",
    "    )\n",
    ")"
   ]
  },
  {
   "cell_type": "markdown",
   "metadata": {
    "execution": {
     "iopub.execute_input": "2020-11-18T06:27:09.921645Z",
     "iopub.status.busy": "2020-11-18T06:27:09.921437Z",
     "iopub.status.idle": "2020-11-18T06:27:09.924054Z",
     "shell.execute_reply": "2020-11-18T06:27:09.923360Z",
     "shell.execute_reply.started": "2020-11-18T06:27:09.921623Z"
    }
   },
   "source": [
    "### csv file"
   ]
  },
  {
   "cell_type": "code",
   "execution_count": 31,
   "metadata": {
    "execution": {
     "iopub.execute_input": "2020-11-18T08:14:03.938729Z",
     "iopub.status.busy": "2020-11-18T08:14:03.938506Z",
     "iopub.status.idle": "2020-11-18T08:14:04.086971Z",
     "shell.execute_reply": "2020-11-18T08:14:04.086341Z",
     "shell.execute_reply.started": "2020-11-18T08:14:03.938705Z"
    }
   },
   "outputs": [
    {
     "name": "stdout",
     "output_type": "stream",
     "text": [
      "99\n"
     ]
    }
   ],
   "source": [
    "%time\n",
    "import time\n",
    "from IPython.display import clear_output\n",
    "\n",
    "\n",
    "\n",
    "\n",
    "def generate_csv(num_messages):\n",
    "    with open(\n",
    "        \"data/data_{}_{}.csv\".format(str(num_messages), str(time.time_ns())), \"w+\"\n",
    "    ) as output:\n",
    "        output.write(\n",
    "            \",\".join(\n",
    "                [\n",
    "                    *message_parser(\n",
    "                        generate_message(), datapoint_labels, resource_attributes\n",
    "                    ).keys()\n",
    "                ]\n",
    "            )\n",
    "            + \"\\n\"\n",
    "        )\n",
    "\n",
    "        for i in range(num_messages):\n",
    "            print(i)\n",
    "            clear_output(wait=True)\n",
    "            m = generate_message()\n",
    "            output.write(\n",
    "                \",\".join(\n",
    "                    [\n",
    "                        str(x)\n",
    "                        for x in [\n",
    "                            *message_parser(\n",
    "                                m, datapoint_labels, resource_attributes\n",
    "                            ).values()\n",
    "                        ]\n",
    "                    ]\n",
    "                )\n",
    "                + \"\\n\"\n",
    "            )\n",
    "\n",
    "\n",
    "generate_csv(100)"
   ]
  },
  {
   "cell_type": "code",
   "execution_count": 12,
   "metadata": {
    "execution": {
     "iopub.execute_input": "2020-11-18T07:37:22.172404Z",
     "iopub.status.busy": "2020-11-18T07:37:22.172157Z",
     "iopub.status.idle": "2020-11-18T07:37:22.300950Z",
     "shell.execute_reply": "2020-11-18T07:37:22.299709Z",
     "shell.execute_reply.started": "2020-11-18T07:37:22.172378Z"
    }
   },
   "outputs": [
    {
     "name": "stdout",
     "output_type": "stream",
     "text": [
      "total 32\n",
      "drwxr-xr-x  4 anastasiapolyakova  staff   128B 17 Nov 23:37 \u001b[1m\u001b[36m.\u001b[m\u001b[m\n",
      "drwxr-xr-x  7 anastasiapolyakova  staff   224B 17 Nov 23:35 \u001b[1m\u001b[36m..\u001b[m\u001b[m\n",
      "drwxr-xr-x  3 anastasiapolyakova  staff    96B 17 Nov 22:48 \u001b[1m\u001b[36m.ipynb_checkpoints\u001b[m\u001b[m\n",
      "-rw-r--r--  1 anastasiapolyakova  staff    13K 17 Nov 23:37 data_100_1605685042165290000.csv\n"
     ]
    }
   ],
   "source": [
    "# size on disc - data.csv\n",
    "!cd data && ls -lah"
   ]
  },
  {
   "cell_type": "markdown",
   "metadata": {},
   "source": [
    "# atoti prototype"
   ]
  },
  {
   "cell_type": "markdown",
   "metadata": {},
   "source": [
    "### Launching the app"
   ]
  },
  {
   "cell_type": "code",
   "execution_count": 32,
   "metadata": {
    "execution": {
     "iopub.execute_input": "2020-11-18T08:14:08.164958Z",
     "iopub.status.busy": "2020-11-18T08:14:08.164751Z",
     "iopub.status.idle": "2020-11-18T08:14:17.400495Z",
     "shell.execute_reply": "2020-11-18T08:14:17.399225Z",
     "shell.execute_reply.started": "2020-11-18T08:14:08.164935Z"
    }
   },
   "outputs": [
    {
     "name": "stderr",
     "output_type": "stream",
     "text": [
      "Deleting existing \"Unnamed\" session to create the new one.\n"
     ]
    },
    {
     "data": {
      "text/plain": [
       "{'rows': 283, 'columns': 15}"
      ]
     },
     "execution_count": 32,
     "metadata": {},
     "output_type": "execute_result"
    }
   ],
   "source": [
    "import atoti as tt\n",
    "from atoti.config import create_config\n",
    "\n",
    "config = create_config(\n",
    "    metadata_db=\"./metadata.db\", max_memory=\"4G\", sampling_mode=tt.sampling.FULL\n",
    ")\n",
    "session = tt.create_session(config=config)\n",
    "\n",
    "\n",
    "# I'm not specifying types, because local dates parser gives exceptions...\n",
    "types = {\n",
    "    \"az\": tt.types.STRING,\n",
    "    \"container_id\": tt.types.STRING,\n",
    "    \"service_id\": tt.types.STRING,\n",
    "    \"name\": tt.types.STRING,\n",
    "    \"value\": tt.types.DOUBLE_NULLABLE,\n",
    "    \"startTimeUnixNano\": tt.types.LONG_NULLABLE,\n",
    "    \"timestamp\": tt.types.LOCAL_DATE_TIME,  # Doesn't work\n",
    "    \"type\": tt.types.STRING,\n",
    "    \"cpu\": tt.types.STRING,\n",
    "    \"protocol\": tt.types.STRING,\n",
    "    \"state\": tt.types.STRING,\n",
    "    \"status\": tt.types.STRING,\n",
    "    \"mode\": tt.types.STRING,\n",
    "    \"device\": tt.types.STRING,\n",
    "    \"direction\": tt.types.STRING,\n",
    "}\n",
    "\n",
    "keys = [f for f in [*types.keys()] if f != \"value\"]\n",
    "\n",
    "data_points = session.read_csv(\"./data/\", store_name=\"Metrics\", keys=keys, watch=True)\n",
    "cube = session.create_cube(data_points)\n",
    "data_points.shape"
   ]
  },
  {
   "cell_type": "code",
   "execution_count": 33,
   "metadata": {
    "execution": {
     "iopub.execute_input": "2020-11-18T08:14:25.731389Z",
     "iopub.status.busy": "2020-11-18T08:14:25.731121Z",
     "iopub.status.idle": "2020-11-18T08:14:26.841717Z",
     "shell.execute_reply": "2020-11-18T08:14:26.841191Z",
     "shell.execute_reply.started": "2020-11-18T08:14:25.731355Z"
    }
   },
   "outputs": [
    {
     "data": {
      "application/vnd.atoti.query-result.v0+json": {
       "context": {
        "queriesTimeLimit": 30
       },
       "createEquivalentWidgetCode": "cube.visualize()",
       "mdx": "SELECT [Measures].AllMembers ON COLUMNS FROM [Metrics]"
      },
      "text/html": [
       "<div>\n",
       "<style scoped>\n",
       "    .dataframe tbody tr th:only-of-type {\n",
       "        vertical-align: middle;\n",
       "    }\n",
       "\n",
       "    .dataframe tbody tr th {\n",
       "        vertical-align: top;\n",
       "    }\n",
       "\n",
       "    .dataframe thead th {\n",
       "        text-align: right;\n",
       "    }\n",
       "</style>\n",
       "<table border=\"1\" class=\"dataframe\">\n",
       "  <thead>\n",
       "    <tr style=\"text-align: right;\">\n",
       "      <th></th>\n",
       "      <th>contributors.COUNT</th>\n",
       "      <th>value.MEAN</th>\n",
       "      <th>value.SUM</th>\n",
       "    </tr>\n",
       "  </thead>\n",
       "  <tbody>\n",
       "    <tr>\n",
       "      <th>0</th>\n",
       "      <td>283</td>\n",
       "      <td>157.87</td>\n",
       "      <td>44,676.53</td>\n",
       "    </tr>\n",
       "  </tbody>\n",
       "</table>\n",
       "</div>"
      ],
      "text/plain": [
       "  contributors.COUNT value.MEAN  value.SUM\n",
       "0                283     157.87  44,676.53"
      ]
     },
     "execution_count": 33,
     "metadata": {},
     "output_type": "execute_result"
    }
   ],
   "source": [
    "cube.query()"
   ]
  },
  {
   "cell_type": "code",
   "execution_count": 15,
   "metadata": {
    "execution": {
     "iopub.execute_input": "2020-11-18T07:37:35.137072Z",
     "iopub.status.busy": "2020-11-18T07:37:35.136685Z",
     "iopub.status.idle": "2020-11-18T07:37:35.206432Z",
     "shell.execute_reply": "2020-11-18T07:37:35.205776Z",
     "shell.execute_reply.started": "2020-11-18T07:37:35.137042Z"
    }
   },
   "outputs": [
    {
     "data": {
      "application/json": {
       "Dimensions": {
        "Hierarchies": {
         "az": [
          "az"
         ],
         "container_id": [
          "container_id"
         ],
         "cpu": [
          "cpu"
         ],
         "device": [
          "device"
         ],
         "direction": [
          "direction"
         ],
         "mode": [
          "mode"
         ],
         "name": [
          "name"
         ],
         "protocol": [
          "protocol"
         ],
         "service_id": [
          "service_id"
         ],
         "startTimeUnixNano": [
          "startTimeUnixNano"
         ],
         "state": [
          "state"
         ],
         "status": [
          "status"
         ],
         "timestamp": [
          "timestamp"
         ],
         "type": [
          "type"
         ]
        }
       },
       "Measures": {
        "contributors.COUNT": {
         "formatter": null
        },
        "value.MEAN": {
         "formatter": "DOUBLE[#,###.00]"
        },
        "value.SUM": {
         "formatter": "DOUBLE[#,###.00]"
        }
       }
      },
      "text/html": [
       "<ul>\n",
       "<li>Metrics\n",
       "  <ul>\n",
       "  <li>Dimensions\n",
       "    <ul>\n",
       "    <li>Hierarchies\n",
       "      <ul>\n",
       "      <li>az\n",
       "        <ol>\n",
       "        <li>az</li>\n",
       "        </ol>      </li>\n",
       "      <li>container_id\n",
       "        <ol>\n",
       "        <li>container_id</li>\n",
       "        </ol>      </li>\n",
       "      <li>cpu\n",
       "        <ol>\n",
       "        <li>cpu</li>\n",
       "        </ol>      </li>\n",
       "      <li>device\n",
       "        <ol>\n",
       "        <li>device</li>\n",
       "        </ol>      </li>\n",
       "      <li>direction\n",
       "        <ol>\n",
       "        <li>direction</li>\n",
       "        </ol>      </li>\n",
       "      <li>mode\n",
       "        <ol>\n",
       "        <li>mode</li>\n",
       "        </ol>      </li>\n",
       "      <li>name\n",
       "        <ol>\n",
       "        <li>name</li>\n",
       "        </ol>      </li>\n",
       "      <li>protocol\n",
       "        <ol>\n",
       "        <li>protocol</li>\n",
       "        </ol>      </li>\n",
       "      <li>service_id\n",
       "        <ol>\n",
       "        <li>service_id</li>\n",
       "        </ol>      </li>\n",
       "      <li>startTimeUnixNano\n",
       "        <ol>\n",
       "        <li>startTimeUnixNano</li>\n",
       "        </ol>      </li>\n",
       "      <li>state\n",
       "        <ol>\n",
       "        <li>state</li>\n",
       "        </ol>      </li>\n",
       "      <li>status\n",
       "        <ol>\n",
       "        <li>status</li>\n",
       "        </ol>      </li>\n",
       "      <li>timestamp\n",
       "        <ol>\n",
       "        <li>timestamp</li>\n",
       "        </ol>      </li>\n",
       "      <li>type\n",
       "        <ol>\n",
       "        <li>type</li>\n",
       "        </ol>      </li>\n",
       "      </ul>\n",
       "    </li>\n",
       "    </ul>\n",
       "  </li>\n",
       "  <li>Measures\n",
       "    <ul>\n",
       "    <li>contributors.COUNT\n",
       "      <ul>\n",
       "      <li>formatter: None</li>\n",
       "      </ul>\n",
       "    </li>\n",
       "    <li>value.MEAN\n",
       "      <ul>\n",
       "      <li>formatter: DOUBLE[#,###.00]</li>\n",
       "      </ul>\n",
       "    </li>\n",
       "    <li>value.SUM\n",
       "      <ul>\n",
       "      <li>formatter: DOUBLE[#,###.00]</li>\n",
       "      </ul>\n",
       "    </li>\n",
       "    </ul>\n",
       "  </li>\n",
       "  </ul>\n",
       "</li>\n",
       "</ul>\n"
      ],
      "text/plain": [
       "<atoti.cube.Cube at 0x1766ed4c0>"
      ]
     },
     "execution_count": 15,
     "metadata": {
      "application/json": {
       "expanded": false,
       "root": "Metrics"
      }
     },
     "output_type": "execute_result"
    }
   ],
   "source": [
    "cube"
   ]
  },
  {
   "cell_type": "markdown",
   "metadata": {},
   "source": [
    "### Adding an aggregation function"
   ]
  },
  {
   "cell_type": "code",
   "execution_count": 16,
   "metadata": {
    "execution": {
     "iopub.execute_input": "2020-11-18T07:37:35.208639Z",
     "iopub.status.busy": "2020-11-18T07:37:35.208191Z",
     "iopub.status.idle": "2020-11-18T07:37:35.316808Z",
     "shell.execute_reply": "2020-11-18T07:37:35.316281Z",
     "shell.execute_reply.started": "2020-11-18T07:37:35.208606Z"
    }
   },
   "outputs": [],
   "source": [
    "cube.measures[\"p-90\"] = tt.agg.quantile(data_points[\"value\"], 0.9)"
   ]
  },
  {
   "cell_type": "code",
   "execution_count": 17,
   "metadata": {
    "atoti": {
     "state": {
      "name": "",
      "type": "container",
      "value": {
       "body": {
        "configuration": {
         "tabular": {
          "addButtonFilter": "numeric",
          "cellRenderers": [
           "tree-layout"
          ],
          "columnsGroups": [
           {
            "captionProducer": "firstColumn",
            "cellFactory": "kpi-status",
            "selector": "kpi-status"
           },
           {
            "captionProducer": "firstColumn",
            "cellFactory": "lookup",
            "selector": "lookup"
           },
           {
            "captionProducer": "expiry",
            "cellFactory": "expiry",
            "selector": "kpi-expiry"
           },
           {
            "captionProducer": "columnMerge",
            "cellFactory": {
             "args": {},
             "key": "treeCells"
            },
            "selector": "member"
           }
          ],
          "defaultOptions": {},
          "expansion": {
           "automaticExpansion": true
          },
          "hideAddButton": true,
          "pinnedHeaderSelector": "member",
          "sortingMode": "non-breaking",
          "statisticsShown": true
         }
        },
        "contextValues": {},
        "mdx": "SELECT NON EMPTY {[Measures].[p-90], [Measures].[contributors.COUNT]} ON COLUMNS, NON EMPTY Hierarchize(DrilldownLevel([Hierarchies].[name].[ALL].[AllMember])) ON ROWS FROM [Metrics] CELL PROPERTIES VALUE, FORMATTED_VALUE, BACK_COLOR, FORE_COLOR, FONT_FLAGS",
        "ranges": {
         "column": {
          "chunkSize": 50,
          "thresholdPercentage": 0.2
         },
         "row": {
          "chunkSize": 2000,
          "thresholdPercentage": 0.1
         }
        },
        "serverUrl": ""
       },
       "containerKey": "pivot-table",
       "showTitleBar": false,
       "style": {}
      }
     }
    },
    "execution": {
     "iopub.execute_input": "2020-11-18T07:37:35.318079Z",
     "iopub.status.busy": "2020-11-18T07:37:35.317857Z",
     "iopub.status.idle": "2020-11-18T07:37:35.449522Z",
     "shell.execute_reply": "2020-11-18T07:37:35.448797Z",
     "shell.execute_reply.started": "2020-11-18T07:37:35.318057Z"
    }
   },
   "outputs": [
    {
     "data": {
      "application/vnd.atoti.v0+json": {
       "cellSet": {
        "axes": [
         {
          "hierarchies": [
           {
            "dimension": "Measures",
            "hierarchy": "Measures"
           }
          ],
          "id": 0,
          "positions": [
           [
            {
             "captionPath": [
              "p-90"
             ],
             "namePath": [
              "p-90"
             ],
             "properties": {
              "DISPLAY_INFO": 0
             }
            }
           ],
           [
            {
             "captionPath": [
              "Count"
             ],
             "namePath": [
              "contributors.COUNT"
             ],
             "properties": {
              "DISPLAY_INFO": 0
             }
            }
           ]
          ]
         },
         {
          "hierarchies": [
           {
            "dimension": "Hierarchies",
            "hierarchy": "name"
           }
          ],
          "id": 1,
          "positions": [
           [
            {
             "captionPath": [
              "AllMember"
             ],
             "namePath": [
              "AllMember"
             ],
             "properties": {
              "DISPLAY_INFO": 65557
             }
            }
           ],
           [
            {
             "captionPath": [
              "AllMember",
              "system.cpu.time"
             ],
             "namePath": [
              "AllMember",
              "system.cpu.time"
             ],
             "properties": {
              "DISPLAY_INFO": 0
             }
            }
           ],
           [
            {
             "captionPath": [
              "AllMember",
              "system.cpu.utilization"
             ],
             "namePath": [
              "AllMember",
              "system.cpu.utilization"
             ],
             "properties": {
              "DISPLAY_INFO": 131072
             }
            }
           ],
           [
            {
             "captionPath": [
              "AllMember",
              "system.disk.io"
             ],
             "namePath": [
              "AllMember",
              "system.disk.io"
             ],
             "properties": {
              "DISPLAY_INFO": 131072
             }
            }
           ],
           [
            {
             "captionPath": [
              "AllMember",
              "system.disk.io_time"
             ],
             "namePath": [
              "AllMember",
              "system.disk.io_time"
             ],
             "properties": {
              "DISPLAY_INFO": 131072
             }
            }
           ],
           [
            {
             "captionPath": [
              "AllMember",
              "system.disk.merged"
             ],
             "namePath": [
              "AllMember",
              "system.disk.merged"
             ],
             "properties": {
              "DISPLAY_INFO": 131072
             }
            }
           ],
           [
            {
             "captionPath": [
              "AllMember",
              "system.disk.operation_time"
             ],
             "namePath": [
              "AllMember",
              "system.disk.operation_time"
             ],
             "properties": {
              "DISPLAY_INFO": 131072
             }
            }
           ],
           [
            {
             "captionPath": [
              "AllMember",
              "system.disk.operations"
             ],
             "namePath": [
              "AllMember",
              "system.disk.operations"
             ],
             "properties": {
              "DISPLAY_INFO": 131072
             }
            }
           ],
           [
            {
             "captionPath": [
              "AllMember",
              "system.filesystem.usage"
             ],
             "namePath": [
              "AllMember",
              "system.filesystem.usage"
             ],
             "properties": {
              "DISPLAY_INFO": 131072
             }
            }
           ],
           [
            {
             "captionPath": [
              "AllMember",
              "system.filesystem.utilization"
             ],
             "namePath": [
              "AllMember",
              "system.filesystem.utilization"
             ],
             "properties": {
              "DISPLAY_INFO": 131072
             }
            }
           ],
           [
            {
             "captionPath": [
              "AllMember",
              "system.memory.usage"
             ],
             "namePath": [
              "AllMember",
              "system.memory.usage"
             ],
             "properties": {
              "DISPLAY_INFO": 131072
             }
            }
           ],
           [
            {
             "captionPath": [
              "AllMember",
              "system.memory.utilization"
             ],
             "namePath": [
              "AllMember",
              "system.memory.utilization"
             ],
             "properties": {
              "DISPLAY_INFO": 131072
             }
            }
           ],
           [
            {
             "captionPath": [
              "AllMember",
              "system.network.connections"
             ],
             "namePath": [
              "AllMember",
              "system.network.connections"
             ],
             "properties": {
              "DISPLAY_INFO": 131072
             }
            }
           ],
           [
            {
             "captionPath": [
              "AllMember",
              "system.network.dropped"
             ],
             "namePath": [
              "AllMember",
              "system.network.dropped"
             ],
             "properties": {
              "DISPLAY_INFO": 131072
             }
            }
           ],
           [
            {
             "captionPath": [
              "AllMember",
              "system.network.errors"
             ],
             "namePath": [
              "AllMember",
              "system.network.errors"
             ],
             "properties": {
              "DISPLAY_INFO": 131072
             }
            }
           ],
           [
            {
             "captionPath": [
              "AllMember",
              "system.network.io"
             ],
             "namePath": [
              "AllMember",
              "system.network.io"
             ],
             "properties": {
              "DISPLAY_INFO": 131072
             }
            }
           ],
           [
            {
             "captionPath": [
              "AllMember",
              "system.network.packets"
             ],
             "namePath": [
              "AllMember",
              "system.network.packets"
             ],
             "properties": {
              "DISPLAY_INFO": 131072
             }
            }
           ],
           [
            {
             "captionPath": [
              "AllMember",
              "system.paging.faults"
             ],
             "namePath": [
              "AllMember",
              "system.paging.faults"
             ],
             "properties": {
              "DISPLAY_INFO": 131072
             }
            }
           ],
           [
            {
             "captionPath": [
              "AllMember",
              "system.paging.operations"
             ],
             "namePath": [
              "AllMember",
              "system.paging.operations"
             ],
             "properties": {
              "DISPLAY_INFO": 131072
             }
            }
           ],
           [
            {
             "captionPath": [
              "AllMember",
              "system.paging.usage"
             ],
             "namePath": [
              "AllMember",
              "system.paging.usage"
             ],
             "properties": {
              "DISPLAY_INFO": 131072
             }
            }
           ],
           [
            {
             "captionPath": [
              "AllMember",
              "system.paging.utilization"
             ],
             "namePath": [
              "AllMember",
              "system.paging.utilization"
             ],
             "properties": {
              "DISPLAY_INFO": 131072
             }
            }
           ],
           [
            {
             "captionPath": [
              "AllMember",
              "system.process.count"
             ],
             "namePath": [
              "AllMember",
              "system.process.count"
             ],
             "properties": {
              "DISPLAY_INFO": 131072
             }
            }
           ]
          ]
         }
        ],
        "cells": [
         {
          "formattedValue": "435.20",
          "ordinal": 0,
          "properties": {
           "BACK_COLOR": null,
           "FONT_FLAGS": 0,
           "FORE_COLOR": null
          },
          "value": 435.20000000000005
         },
         {
          "formattedValue": "197",
          "ordinal": 1,
          "properties": {
           "BACK_COLOR": null,
           "FONT_FLAGS": 0,
           "FORE_COLOR": null
          },
          "value": 197
         },
         {
          "formattedValue": ".82",
          "ordinal": 2,
          "properties": {
           "BACK_COLOR": null,
           "FONT_FLAGS": 0,
           "FORE_COLOR": null
          },
          "value": 0.8199513695514948
         },
         {
          "formattedValue": "15",
          "ordinal": 3,
          "properties": {
           "BACK_COLOR": null,
           "FONT_FLAGS": 0,
           "FORE_COLOR": null
          },
          "value": 15
         },
         {
          "formattedValue": ".91",
          "ordinal": 4,
          "properties": {
           "BACK_COLOR": null,
           "FONT_FLAGS": 0,
           "FORE_COLOR": null
          },
          "value": 0.9108403856293343
         },
         {
          "formattedValue": "9",
          "ordinal": 5,
          "properties": {
           "BACK_COLOR": null,
           "FONT_FLAGS": 0,
           "FORE_COLOR": null
          },
          "value": 9
         },
         {
          "formattedValue": "421.60",
          "ordinal": 6,
          "properties": {
           "BACK_COLOR": null,
           "FONT_FLAGS": 0,
           "FORE_COLOR": null
          },
          "value": 421.6
         },
         {
          "formattedValue": "13",
          "ordinal": 7,
          "properties": {
           "BACK_COLOR": null,
           "FONT_FLAGS": 0,
           "FORE_COLOR": null
          },
          "value": 13
         },
         {
          "formattedValue": ".85",
          "ordinal": 8,
          "properties": {
           "BACK_COLOR": null,
           "FONT_FLAGS": 0,
           "FORE_COLOR": null
          },
          "value": 0.8478957880386194
         },
         {
          "formattedValue": "12",
          "ordinal": 9,
          "properties": {
           "BACK_COLOR": null,
           "FONT_FLAGS": 0,
           "FORE_COLOR": null
          },
          "value": 12
         },
         {
          "formattedValue": "437.00",
          "ordinal": 10,
          "properties": {
           "BACK_COLOR": null,
           "FONT_FLAGS": 0,
           "FORE_COLOR": null
          },
          "value": 437
         },
         {
          "formattedValue": "13",
          "ordinal": 11,
          "properties": {
           "BACK_COLOR": null,
           "FONT_FLAGS": 0,
           "FORE_COLOR": null
          },
          "value": 13
         },
         {
          "formattedValue": ".91",
          "ordinal": 12,
          "properties": {
           "BACK_COLOR": null,
           "FONT_FLAGS": 0,
           "FORE_COLOR": null
          },
          "value": 0.9055457437066529
         },
         {
          "formattedValue": "13",
          "ordinal": 13,
          "properties": {
           "BACK_COLOR": null,
           "FONT_FLAGS": 0,
           "FORE_COLOR": null
          },
          "value": 13
         },
         {
          "formattedValue": "467.00",
          "ordinal": 14,
          "properties": {
           "BACK_COLOR": null,
           "FONT_FLAGS": 0,
           "FORE_COLOR": null
          },
          "value": 467
         },
         {
          "formattedValue": "11",
          "ordinal": 15,
          "properties": {
           "BACK_COLOR": null,
           "FONT_FLAGS": 0,
           "FORE_COLOR": null
          },
          "value": 11
         },
         {
          "formattedValue": "422.60",
          "ordinal": 16,
          "properties": {
           "BACK_COLOR": null,
           "FONT_FLAGS": 0,
           "FORE_COLOR": null
          },
          "value": 422.59999999999997
         },
         {
          "formattedValue": "9",
          "ordinal": 17,
          "properties": {
           "BACK_COLOR": null,
           "FONT_FLAGS": 0,
           "FORE_COLOR": null
          },
          "value": 9
         },
         {
          "formattedValue": ".91",
          "ordinal": 18,
          "properties": {
           "BACK_COLOR": null,
           "FONT_FLAGS": 0,
           "FORE_COLOR": null
          },
          "value": 0.9090611850488632
         },
         {
          "formattedValue": "10",
          "ordinal": 19,
          "properties": {
           "BACK_COLOR": null,
           "FONT_FLAGS": 0,
           "FORE_COLOR": null
          },
          "value": 10
         },
         {
          "formattedValue": "407.50",
          "ordinal": 20,
          "properties": {
           "BACK_COLOR": null,
           "FONT_FLAGS": 0,
           "FORE_COLOR": null
          },
          "value": 407.5
         },
         {
          "formattedValue": "6",
          "ordinal": 21,
          "properties": {
           "BACK_COLOR": null,
           "FONT_FLAGS": 0,
           "FORE_COLOR": null
          },
          "value": 6
         },
         {
          "formattedValue": ".88",
          "ordinal": 22,
          "properties": {
           "BACK_COLOR": null,
           "FONT_FLAGS": 0,
           "FORE_COLOR": null
          },
          "value": 0.8839323482623986
         },
         {
          "formattedValue": "12",
          "ordinal": 23,
          "properties": {
           "BACK_COLOR": null,
           "FONT_FLAGS": 0,
           "FORE_COLOR": null
          },
          "value": 12
         },
         {
          "formattedValue": "484.20",
          "ordinal": 24,
          "properties": {
           "BACK_COLOR": null,
           "FONT_FLAGS": 0,
           "FORE_COLOR": null
          },
          "value": 484.2
         },
         {
          "formattedValue": "7",
          "ordinal": 25,
          "properties": {
           "BACK_COLOR": null,
           "FONT_FLAGS": 0,
           "FORE_COLOR": null
          },
          "value": 7
         },
         {
          "formattedValue": "495.10",
          "ordinal": 26,
          "properties": {
           "BACK_COLOR": null,
           "FONT_FLAGS": 0,
           "FORE_COLOR": null
          },
          "value": 495.1
         },
         {
          "formattedValue": "10",
          "ordinal": 27,
          "properties": {
           "BACK_COLOR": null,
           "FONT_FLAGS": 0,
           "FORE_COLOR": null
          },
          "value": 10
         },
         {
          "formattedValue": "459.00",
          "ordinal": 28,
          "properties": {
           "BACK_COLOR": null,
           "FONT_FLAGS": 0,
           "FORE_COLOR": null
          },
          "value": 459
         },
         {
          "formattedValue": "11",
          "ordinal": 29,
          "properties": {
           "BACK_COLOR": null,
           "FONT_FLAGS": 0,
           "FORE_COLOR": null
          },
          "value": 11
         },
         {
          "formattedValue": "477.10",
          "ordinal": 30,
          "properties": {
           "BACK_COLOR": null,
           "FONT_FLAGS": 0,
           "FORE_COLOR": null
          },
          "value": 477.1
         },
         {
          "formattedValue": "2",
          "ordinal": 31,
          "properties": {
           "BACK_COLOR": null,
           "FONT_FLAGS": 0,
           "FORE_COLOR": null
          },
          "value": 2
         },
         {
          "formattedValue": "349.20",
          "ordinal": 32,
          "properties": {
           "BACK_COLOR": null,
           "FONT_FLAGS": 0,
           "FORE_COLOR": null
          },
          "value": 349.2
         },
         {
          "formattedValue": "7",
          "ordinal": 33,
          "properties": {
           "BACK_COLOR": null,
           "FONT_FLAGS": 0,
           "FORE_COLOR": null
          },
          "value": 7
         },
         {
          "formattedValue": "449.50",
          "ordinal": 34,
          "properties": {
           "BACK_COLOR": null,
           "FONT_FLAGS": 0,
           "FORE_COLOR": null
          },
          "value": 449.5
         },
         {
          "formattedValue": "6",
          "ordinal": 35,
          "properties": {
           "BACK_COLOR": null,
           "FONT_FLAGS": 0,
           "FORE_COLOR": null
          },
          "value": 6
         },
         {
          "formattedValue": "414.00",
          "ordinal": 36,
          "properties": {
           "BACK_COLOR": null,
           "FONT_FLAGS": 0,
           "FORE_COLOR": null
          },
          "value": 414
         },
         {
          "formattedValue": "11",
          "ordinal": 37,
          "properties": {
           "BACK_COLOR": null,
           "FONT_FLAGS": 0,
           "FORE_COLOR": null
          },
          "value": 11
         },
         {
          "formattedValue": "455.00",
          "ordinal": 38,
          "properties": {
           "BACK_COLOR": null,
           "FONT_FLAGS": 0,
           "FORE_COLOR": null
          },
          "value": 455
         },
         {
          "formattedValue": "6",
          "ordinal": 39,
          "properties": {
           "BACK_COLOR": null,
           "FONT_FLAGS": 0,
           "FORE_COLOR": null
          },
          "value": 6
         },
         {
          "formattedValue": ".76",
          "ordinal": 40,
          "properties": {
           "BACK_COLOR": null,
           "FONT_FLAGS": 0,
           "FORE_COLOR": null
          },
          "value": 0.7611391971269372
         },
         {
          "formattedValue": "10",
          "ordinal": 41,
          "properties": {
           "BACK_COLOR": null,
           "FONT_FLAGS": 0,
           "FORE_COLOR": null
          },
          "value": 10
         },
         {
          "formattedValue": "383.70",
          "ordinal": 42,
          "properties": {
           "BACK_COLOR": null,
           "FONT_FLAGS": 0,
           "FORE_COLOR": null
          },
          "value": 383.7
         },
         {
          "formattedValue": "4",
          "ordinal": 43,
          "properties": {
           "BACK_COLOR": null,
           "FONT_FLAGS": 0,
           "FORE_COLOR": null
          },
          "value": 4
         }
        ],
        "cube": "Metrics",
        "defaultMembers": [
         {
          "captionPath": [
           "Count"
          ],
          "dimension": "Measures",
          "hierarchy": "Measures",
          "path": [
           "contributors.COUNT"
          ]
         },
         {
          "captionPath": [
           "Base"
          ],
          "dimension": "Epoch",
          "hierarchy": "Epoch",
          "path": [
           "Base"
          ]
         }
        ],
        "epoch": 1
       },
       "cube": "Metrics",
       "error": null,
       "name": null,
       "session": "Unnamed"
      },
      "text/plain": [
       "Open the notebook in JupyterLab with the atoti extension installed and enabled to see this widget."
      ]
     },
     "metadata": {},
     "output_type": "display_data"
    }
   ],
   "source": [
    "cube.visualize()"
   ]
  },
  {
   "cell_type": "markdown",
   "metadata": {},
   "source": [
    "### Streaming data"
   ]
  },
  {
   "cell_type": "markdown",
   "metadata": {},
   "source": [
    "In this example, the data is store on disc - and atoti is fetching it due to \"watch = True\" flag:\n",
    "\n",
    "- messages are already flattened."
   ]
  },
  {
   "cell_type": "code",
   "execution_count": 30,
   "metadata": {
    "execution": {
     "iopub.execute_input": "2020-11-18T08:13:53.513463Z",
     "iopub.status.busy": "2020-11-18T08:13:53.513295Z",
     "iopub.status.idle": "2020-11-18T08:13:53.646970Z",
     "shell.execute_reply": "2020-11-18T08:13:53.645788Z",
     "shell.execute_reply.started": "2020-11-18T08:13:53.513447Z"
    }
   },
   "outputs": [],
   "source": [
    "!cd data && rm -r -f *"
   ]
  },
  {
   "cell_type": "code",
   "execution_count": 34,
   "metadata": {
    "execution": {
     "iopub.execute_input": "2020-11-18T08:14:36.139992Z",
     "iopub.status.busy": "2020-11-18T08:14:36.139792Z",
     "iopub.status.idle": "2020-11-18T08:14:36.144369Z",
     "shell.execute_reply": "2020-11-18T08:14:36.143485Z",
     "shell.execute_reply.started": "2020-11-18T08:14:36.139971Z"
    }
   },
   "outputs": [
    {
     "data": {
      "text/plain": [
       "'http://localhost:53257/#/dashboard/059'"
      ]
     },
     "execution_count": 34,
     "metadata": {},
     "output_type": "execute_result"
    }
   ],
   "source": [
    "# real-time count\n",
    "session.url + \"/#/dashboard/059\""
   ]
  },
  {
   "cell_type": "code",
   "execution_count": 21,
   "metadata": {
    "execution": {
     "iopub.execute_input": "2020-11-18T07:42:49.073374Z",
     "iopub.status.busy": "2020-11-18T07:42:49.073174Z",
     "iopub.status.idle": "2020-11-18T08:10:52.617652Z",
     "shell.execute_reply": "2020-11-18T08:10:52.611343Z",
     "shell.execute_reply.started": "2020-11-18T07:42:49.073352Z"
    }
   },
   "outputs": [
    {
     "name": "stdout",
     "output_type": "stream",
     "text": [
      "999468\n"
     ]
    }
   ],
   "source": [
    "# records_per_file = 1000000\n",
    "# generate_csv(records_per_file)"
   ]
  },
  {
   "cell_type": "code",
   "execution_count": 22,
   "metadata": {
    "execution": {
     "iopub.execute_input": "2020-11-18T08:11:15.660343Z",
     "iopub.status.busy": "2020-11-18T08:11:15.658269Z",
     "iopub.status.idle": "2020-11-18T08:11:15.899095Z",
     "shell.execute_reply": "2020-11-18T08:11:15.898401Z",
     "shell.execute_reply.started": "2020-11-18T08:11:15.660255Z"
    }
   },
   "outputs": [
    {
     "name": "stdout",
     "output_type": "stream",
     "text": [
      "total 262272\n",
      "drwxr-xr-x  7 anastasiapolyakova  staff   224B 17 Nov 23:42 \u001b[1m\u001b[36m.\u001b[m\u001b[m\n",
      "drwxr-xr-x  7 anastasiapolyakova  staff   224B 18 Nov 00:09 \u001b[1m\u001b[36m..\u001b[m\u001b[m\n",
      "drwxr-xr-x  4 anastasiapolyakova  staff   128B 17 Nov 23:38 \u001b[1m\u001b[36m.ipynb_checkpoints\u001b[m\u001b[m\n",
      "-rw-r--r--  1 anastasiapolyakova  staff   124M 18 Nov 00:10 data_1000000_1605685369073996000.csv\n",
      "-rw-r--r--  1 anastasiapolyakova  staff    13K 17 Nov 23:37 data_100_1605685042165290000.csv\n",
      "-rw-r--r--  1 anastasiapolyakova  staff   119B 17 Nov 23:42 data_100_1605685324293910000.csv\n",
      "-rw-r--r--  1 anastasiapolyakova  staff    13K 17 Nov 23:42 data_100_1605685334344474000.csv\n"
     ]
    }
   ],
   "source": [
    "# !cd data && ls -lah"
   ]
  },
  {
   "cell_type": "code",
   "execution_count": 29,
   "metadata": {
    "execution": {
     "iopub.execute_input": "2020-11-18T08:13:48.175180Z",
     "iopub.status.busy": "2020-11-18T08:13:48.174992Z",
     "iopub.status.idle": "2020-11-18T08:13:48.178219Z",
     "shell.execute_reply": "2020-11-18T08:13:48.177306Z",
     "shell.execute_reply.started": "2020-11-18T08:13:48.175161Z"
    }
   },
   "outputs": [
    {
     "name": "stdout",
     "output_type": "stream",
     "text": [
      "11160 mb will be used by 90 mln rows on disc\n"
     ]
    }
   ],
   "source": [
    "print(124 * 90, \"mb will be used by 90 mln rows on disc\")"
   ]
  },
  {
   "cell_type": "code",
   "execution_count": 37,
   "metadata": {
    "execution": {
     "iopub.execute_input": "2020-11-18T08:15:58.767233Z",
     "iopub.status.busy": "2020-11-18T08:15:58.767048Z",
     "iopub.status.idle": "2020-11-18T08:15:58.894709Z",
     "shell.execute_reply": "2020-11-18T08:15:58.893540Z",
     "shell.execute_reply.started": "2020-11-18T08:15:58.767214Z"
    }
   },
   "outputs": [],
   "source": [
    "!mv data_1000000_1605685369073996000.csv data/\n",
    "start = time.time_ns()"
   ]
  },
  {
   "cell_type": "code",
   "execution_count": 40,
   "metadata": {
    "execution": {
     "iopub.execute_input": "2020-11-18T08:17:15.874943Z",
     "iopub.status.busy": "2020-11-18T08:17:15.874772Z",
     "iopub.status.idle": "2020-11-18T08:17:16.002107Z",
     "shell.execute_reply": "2020-11-18T08:17:16.000719Z",
     "shell.execute_reply.started": "2020-11-18T08:17:15.874925Z"
    }
   },
   "outputs": [],
   "source": [
    "!mv data/data_1000000_1605685369073996000.csv ."
   ]
  },
  {
   "cell_type": "markdown",
   "metadata": {},
   "source": [
    "## Joining metrics with static data"
   ]
  },
  {
   "cell_type": "code",
   "execution_count": null,
   "metadata": {},
   "outputs": [],
   "source": [
    "cube.schema"
   ]
  },
  {
   "cell_type": "code",
   "execution_count": null,
   "metadata": {},
   "outputs": [],
   "source": [
    "import pandas as pd\n",
    "\n",
    "device_attributes = session.read_pandas(\n",
    "    pd.DataFrame(\n",
    "        data={\n",
    "            \"device\": device_ids,\n",
    "            \"deviceType\": [random.choice([\"Primary\", \"Secondary\"]) for d in device_ids],\n",
    "        }\n",
    "    ),\n",
    "    store_name=\"Device Attributes\",\n",
    ")\n",
    "\n",
    "data_points.join(device_attributes, mapping={\"device\": \"device\"})"
   ]
  },
  {
   "cell_type": "code",
   "execution_count": null,
   "metadata": {},
   "outputs": [],
   "source": [
    "cube.schema"
   ]
  },
  {
   "cell_type": "markdown",
   "metadata": {},
   "source": [
    "Now the \"deviceType\" field can be used to setup limits."
   ]
  },
  {
   "cell_type": "markdown",
   "metadata": {},
   "source": [
    "# Next steps\n",
    "\n",
    "**Non-functional requirements**:\n",
    "    \n",
    "- Memory sizing - can we keep 1 day of observations given 90 mln data points per minute?\n",
    "- Can we shard data, how can we start data (for example by service id)?\n",
    "- Injestion rate - how fast we can push data into the cube?\n",
    "\n",
    "\n",
    "**Functional requirements**:\n",
    "    \n",
    "ActiveMonitor - real-time alerts on high-cardinality data - how many continuous queries can run simultaneously?\n",
    "Example of a Monitor: 1 monitor with high cardinality on service id: if any of the services hang - > alert\n",
    "View time-series in the UI - ideally 1 week - or pre-aggregate?\n",
    "Function to compute rolling window percentile - time windows\n",
    "How to evict data?\n",
    "\n",
    "**Data schema**:\n",
    "    \n",
    "- how to manage flexible data schema - key-value messages\n",
    "- how to serialize 1 message into several facts - if one message contains several metrics, several data points.\n"
   ]
  },
  {
   "cell_type": "code",
   "execution_count": null,
   "metadata": {},
   "outputs": [],
   "source": []
  }
 ],
 "metadata": {
  "kernelspec": {
   "display_name": "Python 3",
   "language": "python",
   "name": "python3"
  },
  "language_info": {
   "codemirror_mode": {
    "name": "ipython",
    "version": 3
   },
   "file_extension": ".py",
   "mimetype": "text/x-python",
   "name": "python",
   "nbconvert_exporter": "python",
   "pygments_lexer": "ipython3",
   "version": "3.8.5"
  }
 },
 "nbformat": 4,
 "nbformat_minor": 4
}
