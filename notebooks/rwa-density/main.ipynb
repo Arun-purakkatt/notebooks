{
 "cells": [
  {
   "cell_type": "markdown",
   "id": "educated-documentary",
   "metadata": {
    "execution": {
     "iopub.execute_input": "2021-01-27T21:49:46.218467Z",
     "iopub.status.busy": "2021-01-27T21:49:46.218079Z",
     "iopub.status.idle": "2021-01-27T21:49:46.225971Z",
     "shell.execute_reply": "2021-01-27T21:49:46.224016Z",
     "shell.execute_reply.started": "2021-01-27T21:49:46.218370Z"
    }
   },
   "source": [
    "# RWA density analytics\n",
    "\n",
    "In this notebook I aim at creating a simple analytical app to calculate and visualize RWA density to help explain its dynamics - with python and [atoti](https://www.atoti.io).\n",
    "\n",
    "\n",
    "See for example, in this recording on the summary screen we can identify that for the iBank CIB the RWA density went up materially. Then in a Pivot table we can explore the contributors of the density calculation and identify the main drivers.\n",
    "\n",
    "<img src=./app-preview.gif/ width = 90% margin = auto>\n",
    "\n",
    "## Background\n",
    "\n",
    "See for example, how the RWA density term is introduced in the [BIS working paper \"Leverage and Risk Weighted Capital Requirements\"](https://www.bis.org/publ/work586.pdf):\n",
    "    \n",
    "$\\text{RWA density} = \\frac{RWA}{Exposure}$\n",
    "\n",
    "where _Exposures_ is defined as \"The total exposure is given by total assets and other commitments. A detailed explanation of the definition of capital and total exposures can be found in BCBS (2014a)\", then RWA density becomes:\n",
    "\n",
    "$\\text{RWA density} = \\frac{RWA}{TotalAssets}$\n",
    "\n",
    "RWA density gives a perspective on a bank's overall riskiness and is used by stakeholders (investors, regulators) to compare financial organizations risk profiles, however as identified by the authors in [COMPARING RISK-WEIGHTED ASSETS: THE IMPORTANCE OF SUPERVISORY VALIDATION PROCESSES](https://www.researchgate.net/profile/Raul_Garcia21/publication/292140152_Comparing_risk-weighted_assets_The_importance_of_the_supervisory_validation_processes/links/56a9e84508ae7f592f0e487b/Comparing-risk-weighted-assets-The-importance-of-the-supervisory-validation-processes.pdf):\n",
    "\n",
    "> The flaws exposed in this ratio have raised doubts over its usefulness as an analytical tool: in particular, its intrinsic inconsistency and the fact that, by attempting to cover all the bank’s activity, its value is influenced by a multitude of different factors whose effect is difficult to assess (balance sheet structure, investment policies, type of business, operations and also the calculation methodologies for RWA). Indeed, it is likely that their use will readily lead to mistaken conclusions. If the aim is to detect methodological or criteria-related inconsistencies in the calculation of RWA across banks, this ratio does not appear to be overly useful.\n",
    "\n",
    "Banks report the RWA density as part of their Pillar 3 disclosures, for example:\n",
    "\n",
    "- [CIBC Q3 2020](https://www.cibc.com/content/dam/about_cibc/investor_relations/pdfs/quarterly_results/2020/q320disclosure-en.pdf)\n",
    "- [Sberbank 2018](https://www.sberbank.com/common/img/uploaded/files/info/en/4482-2018_eng.pdf)\n",
    "- [Nordea 2018](https://www.nordea.com/Images/35-305679/nordea-capital-and-risk-management-report-2018-updated-version.pdf)\n",
    "\n",
    "The RWA density shows a range of variation that fluctuates from 15% to almost 60% for European international IRB banks"
   ]
  },
  {
   "cell_type": "markdown",
   "id": "sufficient-ordinary",
   "metadata": {
    "execution": {
     "iopub.execute_input": "2021-01-28T00:26:51.051114Z",
     "iopub.status.busy": "2021-01-28T00:26:51.046585Z",
     "iopub.status.idle": "2021-01-28T00:26:51.062169Z",
     "shell.execute_reply": "2021-01-28T00:26:51.060692Z",
     "shell.execute_reply.started": "2021-01-28T00:26:51.051055Z"
    }
   },
   "source": [
    "# Risk data aggregation and reporting capabilities for RWA density\n",
    "\n",
    "We create a prototype to visualize RWA density and its inputs across reporting periods, evalute changes and identify main drivers.\n",
    "\n",
    "My sample data contains RWA and exposures allocated to transactions. \n",
    "In a more advanced setup, RWA could be computed according to the appropriate methodology (for example, FRTB for market risk or IRB for credit risk) this way allowing for a more sophisticated analysis.\n",
    "\n",
    "![RWA flow](RWA-app.png)\n"
   ]
  },
  {
   "cell_type": "markdown",
   "id": "congressional-ethiopia",
   "metadata": {
    "execution": {
     "iopub.execute_input": "2021-01-28T00:28:26.206725Z",
     "iopub.status.busy": "2021-01-28T00:28:26.206429Z",
     "iopub.status.idle": "2021-01-28T00:28:26.723795Z",
     "shell.execute_reply": "2021-01-28T00:28:26.723223Z",
     "shell.execute_reply.started": "2021-01-28T00:28:26.206682Z"
    }
   },
   "source": [
    "# Random sample data - positions Exposures and RWAs for 12 month ends"
   ]
  },
  {
   "cell_type": "code",
   "execution_count": 25,
   "id": "racial-backing",
   "metadata": {
    "execution": {
     "iopub.execute_input": "2021-01-28T03:55:07.577562Z",
     "iopub.status.busy": "2021-01-28T03:55:07.577266Z",
     "iopub.status.idle": "2021-01-28T03:55:10.495244Z",
     "shell.execute_reply": "2021-01-28T03:55:10.494217Z",
     "shell.execute_reply.started": "2021-01-28T03:55:07.577532Z"
    }
   },
   "outputs": [],
   "source": [
    "#!python3 sample_data_generator.py"
   ]
  },
  {
   "cell_type": "code",
   "execution_count": 26,
   "id": "realistic-murder",
   "metadata": {
    "execution": {
     "iopub.execute_input": "2021-01-28T03:56:03.530057Z",
     "iopub.status.busy": "2021-01-28T03:56:03.529733Z",
     "iopub.status.idle": "2021-01-28T03:56:03.570410Z",
     "shell.execute_reply": "2021-01-28T03:56:03.569208Z",
     "shell.execute_reply.started": "2021-01-28T03:56:03.530023Z"
    }
   },
   "outputs": [
    {
     "data": {
      "text/plain": [
       "Index(['asset_classes', 'products', 'maturity_buckets', 'business_units',\n",
       "       'pd_bucket', 'legal_entities', 'transaction_id', 'exposure', 'RWA',\n",
       "       'reporting_date'],\n",
       "      dtype='object')"
      ]
     },
     "execution_count": 26,
     "metadata": {},
     "output_type": "execute_result"
    }
   ],
   "source": [
    "sample_data = pd.read_csv(\"sample_data.csv\")\n",
    "sample_data.columns"
   ]
  },
  {
   "cell_type": "code",
   "execution_count": 27,
   "id": "gross-brook",
   "metadata": {
    "execution": {
     "iopub.execute_input": "2021-01-28T03:56:05.070340Z",
     "iopub.status.busy": "2021-01-28T03:56:05.069819Z",
     "iopub.status.idle": "2021-01-28T03:56:05.076560Z",
     "shell.execute_reply": "2021-01-28T03:56:05.075369Z",
     "shell.execute_reply.started": "2021-01-28T03:56:05.070276Z"
    }
   },
   "outputs": [
    {
     "data": {
      "text/plain": [
       "(12100, 10)"
      ]
     },
     "execution_count": 27,
     "metadata": {},
     "output_type": "execute_result"
    }
   ],
   "source": [
    "sample_data.shape"
   ]
  },
  {
   "cell_type": "markdown",
   "id": "decimal-pixel",
   "metadata": {},
   "source": [
    "# launch atoti"
   ]
  },
  {
   "cell_type": "code",
   "execution_count": 28,
   "id": "electrical-conference",
   "metadata": {
    "execution": {
     "iopub.execute_input": "2021-01-28T03:56:06.985138Z",
     "iopub.status.busy": "2021-01-28T03:56:06.984767Z",
     "iopub.status.idle": "2021-01-28T03:56:17.382319Z",
     "shell.execute_reply": "2021-01-28T03:56:17.381483Z",
     "shell.execute_reply.started": "2021-01-28T03:56:06.985086Z"
    }
   },
   "outputs": [
    {
     "name": "stdout",
     "output_type": "stream",
     "text": [
      "Welcome to atoti 0.5.1!\n",
      "\n",
      "By using this community edition, you agree with the license available at https://www.atoti.io/eula.\n",
      "Browse the official documentation at https://docs.atoti.io.\n",
      "Join the community at https://www.atoti.io/register.\n",
      "\n",
      "You can hide this message by setting the ATOTI_HIDE_EULA_MESSAGE environment variable to True.\n"
     ]
    },
    {
     "data": {
      "text/plain": [
       "'http://localhost:63031'"
      ]
     },
     "execution_count": 28,
     "metadata": {},
     "output_type": "execute_result"
    }
   ],
   "source": [
    "import atoti as tt\n",
    "from atoti.config import create_config\n",
    "\n",
    "# launching atoti cube and ui\n",
    "config = create_config(metadata_db=\"./metadata.db\", sampling_mode=tt.sampling.FULL)\n",
    "session = tt.create_session(config=config)\n",
    "\n",
    "\n",
    "# loading data into atoti data store\n",
    "exposures_datastore = session.read_pandas(\n",
    "    sample_data,\n",
    "    store_name=\"exposures\",\n",
    "    keys=[\"reporting_date\", \"transaction_id\"],\n",
    ")\n",
    "\n",
    "# populating measures and dimensions in the cube\n",
    "cube = session.create_cube(exposures_datastore, \"RWA density\", mode=\"no_measures\")"
   ]
  },
  {
   "cell_type": "markdown",
   "id": "assumed-crack",
   "metadata": {},
   "source": [
    "# Create measures for RWA density analytics"
   ]
  },
  {
   "cell_type": "code",
   "execution_count": 29,
   "id": "architectural-craps",
   "metadata": {
    "execution": {
     "iopub.execute_input": "2021-01-28T03:57:07.111713Z",
     "iopub.status.busy": "2021-01-28T03:57:07.111347Z",
     "iopub.status.idle": "2021-01-28T03:57:07.767139Z",
     "shell.execute_reply": "2021-01-28T03:57:07.766397Z",
     "shell.execute_reply.started": "2021-01-28T03:57:07.111653Z"
    }
   },
   "outputs": [],
   "source": [
    "# In my example RWA is assumed to be additive across input data. This can be replaced with an actual calculation\n",
    "cube.measures[\"RWA\"] = tt.agg.sum(exposures_datastore[\"RWA\"])\n",
    "cube.measures[\"exposure\"] = tt.agg.sum(exposures_datastore[\"exposure\"])\n",
    "cube.measures[\"RWA density\"] = cube.measures[\"RWA\"] / cube.measures[\"exposure\"]\n",
    "cube.measures[\"RWA density\"].formatter = \"DOUBLE[0.00%]\"\n",
    "\n",
    "\n",
    "cube.measures[\"Previous RWA density\"] = tt.shift(\n",
    "    cube.measures[\"RWA density\"], cube.levels[\"reporting_date\"], offset=1\n",
    ")\n",
    "up_or_down = tt.where(\n",
    "    cube.measures[\"RWA density\"] > cube.measures[\"Previous RWA density\"], \"Up\", \"Down\"\n",
    ")\n",
    "cube.measures[\"Up or Down\"] = tt.where(\n",
    "    cube.measures[\"Previous RWA density\"] != None, up_or_down, \"New\"\n",
    ")\n",
    "cube.measures[\"RWA density Chg\"] = tt.where(\n",
    "    cube.measures[\"Previous RWA density\"] != None,\n",
    "    cube.measures[\"RWA density\"] - cube.measures[\"Previous RWA density\"],\n",
    ")\n",
    "cube.measures[\"RWA density Chg\"].formatter = \"DOUBLE[+0.00%;-0.00%]\"\n",
    "\n",
    "cube.hierarchies[\"reporting_date\"].slicing = True\n",
    "cube.levels[\"reporting_date\"].comparator = tt.comparator.DESC\n",
    "\n",
    "cube.levels[\"maturity_buckets\"].comparator = tt.comparator.first_members(\n",
    "    \">1y\",\n",
    "    \"1 year ≤ residual maturity < 2 years\",\n",
    "    \"2 years ≤ residual maturity < 5 years\",\n",
    "    \"5 years ≤ residual maturity < 10 years\",\n",
    "    \"> 10 years\",\n",
    ")\n",
    "\n",
    "cube.levels[\"pd_bucket\"].comparator = tt.comparator.first_members(\n",
    "    \"0.00 to < 0.15\",\n",
    "    \"0.15 to < 0.25\",\n",
    "    \"0.25 to < 0.50\",\n",
    "    \"0.50 to < 0.75\",\n",
    "    \"0.75 to < 2.50\",\n",
    "    \"2.50 to < 10.00\",\n",
    "    \"10.00 to < 100\",\n",
    "    \"100 default\",\n",
    ")\n",
    "\n",
    "cube.measures[\"Previous RWA\"] = tt.shift(\n",
    "    cube.measures[\"RWA\"], cube.levels[\"reporting_date\"], offset=1\n",
    ")\n",
    "cube.measures[\"Previous exposure\"] = tt.shift(\n",
    "    cube.measures[\"exposure\"], cube.levels[\"reporting_date\"], offset=1\n",
    ")\n",
    "\n",
    "cube.measures[\"RWA Chg\"] = tt.where(\n",
    "    cube.measures[\"Previous RWA\"] != None,\n",
    "    cube.measures[\"RWA\"] - cube.measures[\"Previous RWA\"],\n",
    ")\n",
    "cube.measures[\"RWA % Chg\"] = tt.where(\n",
    "    cube.measures[\"Previous RWA\"] != None,\n",
    "    cube.measures[\"RWA\"] / cube.measures[\"Previous RWA\"] - 1,\n",
    ")\n",
    "cube.measures[\"RWA % Chg\"].formatter = \"DOUBLE[0.00%]\"\n",
    "\n",
    "\n",
    "cube.measures[\"exposure Chg\"] = tt.where(\n",
    "    cube.measures[\"Previous exposure\"] != None,\n",
    "    cube.measures[\"exposure\"] - cube.measures[\"Previous exposure\"],\n",
    ")\n",
    "cube.measures[\"exposure % Chg\"] = tt.where(\n",
    "    cube.measures[\"Previous exposure\"] != None,\n",
    "    cube.measures[\"exposure\"] / cube.measures[\"Previous exposure\"] - 1,\n",
    ")\n",
    "cube.measures[\"exposure % Chg\"].formatter = \"DOUBLE[0.00%]\""
   ]
  },
  {
   "cell_type": "markdown",
   "id": "lasting-cologne",
   "metadata": {},
   "source": [
    "# Build dashboards"
   ]
  },
  {
   "cell_type": "code",
   "execution_count": 30,
   "id": "silver-basics",
   "metadata": {
    "execution": {
     "iopub.execute_input": "2021-01-28T03:57:15.244097Z",
     "iopub.status.busy": "2021-01-28T03:57:15.243854Z",
     "iopub.status.idle": "2021-01-28T03:57:15.249255Z",
     "shell.execute_reply": "2021-01-28T03:57:15.248265Z",
     "shell.execute_reply.started": "2021-01-28T03:57:15.244072Z"
    }
   },
   "outputs": [
    {
     "data": {
      "text/plain": [
       "'http://localhost:63031'"
      ]
     },
     "execution_count": 30,
     "metadata": {},
     "output_type": "execute_result"
    }
   ],
   "source": [
    "session.url"
   ]
  },
  {
   "cell_type": "code",
   "execution_count": null,
   "id": "configured-exclusive",
   "metadata": {},
   "outputs": [],
   "source": []
  }
 ],
 "metadata": {
  "kernelspec": {
   "display_name": "Python 3",
   "language": "python",
   "name": "python3"
  },
  "language_info": {
   "codemirror_mode": {
    "name": "ipython",
    "version": 3
   },
   "file_extension": ".py",
   "mimetype": "text/x-python",
   "name": "python",
   "nbconvert_exporter": "python",
   "pygments_lexer": "ipython3",
   "version": "3.9.1"
  }
 },
 "nbformat": 4,
 "nbformat_minor": 5
}
