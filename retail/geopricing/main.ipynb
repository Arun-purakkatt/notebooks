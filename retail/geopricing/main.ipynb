{
 "cells": [
  {
   "cell_type": "markdown",
   "metadata": {},
   "source": [
    "# Geopricing with atoti\n",
    "In this notebook we will explore a pricing use case that combines machine learning algorithms and atoti.  \n",
    "\n",
    "Through machine learning, we will be able to create clusters for our retail outlets depending on their local competition and current prices.  \n",
    "We will then be able to simulate various pricing strategies with atoti on each cluster.  \n",
    "\n",
    "For the machine learning, we will need a set of input features for each retail outlets:\n",
    "- Number of competitors per distance range (1 KM, 5 KM, 10 KM etc)\n",
    "- Price Index per outlet against its competitors\n",
    "\n",
    "We will see how we can make use of simulation to create different data input for the machine learning.\n",
    "We will then take the output from the machine learning to run different simulations:\n",
    "- Pricing simulations around clusters\n",
    "- Selling price simulation by clusters and retail outlets\n",
    "\n",
    "### Dependencies\n",
    "Let's start by installing the libraries required for this notebook to work."
   ]
  },
  {
   "cell_type": "code",
   "execution_count": 1,
   "metadata": {},
   "outputs": [
    {
     "name": "stdout",
     "output_type": "stream",
     "text": [
      "Collecting package metadata (current_repodata.json): ...working... done\n",
      "Solving environment: ...working... done\n",
      "\n",
      "# All requested packages already installed.\n",
      "\n"
     ]
    }
   ],
   "source": [
    "import sys\n",
    "\n",
    "!conda install --yes --prefix {sys.prefix} folium scipy scikit-learn matplotlib seaborn"
   ]
  },
  {
   "cell_type": "code",
   "execution_count": 2,
   "metadata": {},
   "outputs": [
    {
     "name": "stdout",
     "output_type": "stream",
     "text": [
      "Welcome to atoti 0.4.1!\n",
      "\n",
      "By using this community edition, you agree with the license available at https://www.atoti.io/eula.\n",
      "Browse the official documentation at https://docs.atoti.io.\n",
      "Join the community at https://www.atoti.io/register.\n",
      "\n",
      "You can hide this message by setting the ATOTI_HIDE_EULA_MESSAGE environment variable to True.\n"
     ]
    }
   ],
   "source": [
    "import atoti as tt\n",
    "import pandas as pd"
   ]
  },
  {
   "cell_type": "markdown",
   "metadata": {},
   "source": [
    "## Computing retail outlets features\n",
    "\n",
    "### Data preparation\n",
    "We will first start by loading our retail outlets into Pandas dataframe."
   ]
  },
  {
   "cell_type": "code",
   "execution_count": 3,
   "metadata": {},
   "outputs": [
    {
     "data": {
      "text/html": [
       "<div>\n",
       "<style scoped>\n",
       "    .dataframe tbody tr th:only-of-type {\n",
       "        vertical-align: middle;\n",
       "    }\n",
       "\n",
       "    .dataframe tbody tr th {\n",
       "        vertical-align: top;\n",
       "    }\n",
       "\n",
       "    .dataframe thead th {\n",
       "        text-align: right;\n",
       "    }\n",
       "</style>\n",
       "<table border=\"1\" class=\"dataframe\">\n",
       "  <thead>\n",
       "    <tr style=\"text-align: right;\">\n",
       "      <th></th>\n",
       "      <th>OutletId</th>\n",
       "      <th>OutletName</th>\n",
       "      <th>Adress</th>\n",
       "      <th>ZipCode</th>\n",
       "      <th>City</th>\n",
       "      <th>Country</th>\n",
       "      <th>Latitude</th>\n",
       "      <th>Longitude</th>\n",
       "      <th>Company</th>\n",
       "    </tr>\n",
       "  </thead>\n",
       "  <tbody>\n",
       "    <tr>\n",
       "      <th>0</th>\n",
       "      <td>1</td>\n",
       "      <td>ActiveViam Outlet Paris 1er</td>\n",
       "      <td>Paris 1er</td>\n",
       "      <td>75001</td>\n",
       "      <td>Paris</td>\n",
       "      <td>France</td>\n",
       "      <td>48.860757</td>\n",
       "      <td>2.342566</td>\n",
       "      <td>ActiveViam</td>\n",
       "    </tr>\n",
       "    <tr>\n",
       "      <th>1</th>\n",
       "      <td>2</td>\n",
       "      <td>ActiveViam Outlet Paris 15</td>\n",
       "      <td>Paris 15</td>\n",
       "      <td>75015</td>\n",
       "      <td>Paris</td>\n",
       "      <td>France</td>\n",
       "      <td>48.840412</td>\n",
       "      <td>2.312649</td>\n",
       "      <td>ActiveViam</td>\n",
       "    </tr>\n",
       "    <tr>\n",
       "      <th>2</th>\n",
       "      <td>3</td>\n",
       "      <td>ActiveViam Outlet Paris 18</td>\n",
       "      <td>Paris 18</td>\n",
       "      <td>75018</td>\n",
       "      <td>Paris</td>\n",
       "      <td>France</td>\n",
       "      <td>48.886483</td>\n",
       "      <td>2.344326</td>\n",
       "      <td>ActiveViam</td>\n",
       "    </tr>\n",
       "    <tr>\n",
       "      <th>3</th>\n",
       "      <td>4</td>\n",
       "      <td>ActiveViam Outlet Paris 12</td>\n",
       "      <td>Paris 12</td>\n",
       "      <td>75012</td>\n",
       "      <td>Paris</td>\n",
       "      <td>France</td>\n",
       "      <td>48.832182</td>\n",
       "      <td>2.375729</td>\n",
       "      <td>ActiveViam</td>\n",
       "    </tr>\n",
       "    <tr>\n",
       "      <th>4</th>\n",
       "      <td>5</td>\n",
       "      <td>ActiveViam Outlet Paris 16</td>\n",
       "      <td>Paris 16</td>\n",
       "      <td>75016</td>\n",
       "      <td>Paris</td>\n",
       "      <td>France</td>\n",
       "      <td>48.855454</td>\n",
       "      <td>2.280886</td>\n",
       "      <td>ActiveViam</td>\n",
       "    </tr>\n",
       "  </tbody>\n",
       "</table>\n",
       "</div>"
      ],
      "text/plain": [
       "   OutletId                   OutletName     Adress  ZipCode   City Country  \\\n",
       "0         1  ActiveViam Outlet Paris 1er  Paris 1er    75001  Paris  France   \n",
       "1         2   ActiveViam Outlet Paris 15   Paris 15    75015  Paris  France   \n",
       "2         3   ActiveViam Outlet Paris 18   Paris 18    75018  Paris  France   \n",
       "3         4   ActiveViam Outlet Paris 12   Paris 12    75012  Paris  France   \n",
       "4         5   ActiveViam Outlet Paris 16   Paris 16    75016  Paris  France   \n",
       "\n",
       "    Latitude  Longitude     Company  \n",
       "0  48.860757   2.342566  ActiveViam  \n",
       "1  48.840412   2.312649  ActiveViam  \n",
       "2  48.886483   2.344326  ActiveViam  \n",
       "3  48.832182   2.375729  ActiveViam  \n",
       "4  48.855454   2.280886  ActiveViam  "
      ]
     },
     "execution_count": 3,
     "metadata": {},
     "output_type": "execute_result"
    }
   ],
   "source": [
    "outlets_df = pd.read_csv(\n",
    "    \"https://data.atoti.io/notebooks/geopricing/outlets.csv\", sep=\";\"\n",
    ")\n",
    "outlets_df.head(5)"
   ]
  },
  {
   "cell_type": "markdown",
   "metadata": {},
   "source": [
    "And then those of the competitors."
   ]
  },
  {
   "cell_type": "code",
   "execution_count": 4,
   "metadata": {},
   "outputs": [
    {
     "data": {
      "text/html": [
       "<div>\n",
       "<style scoped>\n",
       "    .dataframe tbody tr th:only-of-type {\n",
       "        vertical-align: middle;\n",
       "    }\n",
       "\n",
       "    .dataframe tbody tr th {\n",
       "        vertical-align: top;\n",
       "    }\n",
       "\n",
       "    .dataframe thead th {\n",
       "        text-align: right;\n",
       "    }\n",
       "</style>\n",
       "<table border=\"1\" class=\"dataframe\">\n",
       "  <thead>\n",
       "    <tr style=\"text-align: right;\">\n",
       "      <th></th>\n",
       "      <th>CompetitorOutletId</th>\n",
       "      <th>CompetitorOutletName</th>\n",
       "      <th>CompetitorOutletAdress</th>\n",
       "      <th>CompetitorOutletZipCode</th>\n",
       "      <th>CompetitorOutletCity</th>\n",
       "      <th>CompetitorOutletCountry</th>\n",
       "      <th>CompetitorOutletLatitude</th>\n",
       "      <th>CompetitorOutletLongitude</th>\n",
       "      <th>CompetitorOutletCompany</th>\n",
       "    </tr>\n",
       "  </thead>\n",
       "  <tbody>\n",
       "    <tr>\n",
       "      <th>0</th>\n",
       "      <td>101</td>\n",
       "      <td>Concurrent Premium</td>\n",
       "      <td>Paris 1er</td>\n",
       "      <td>75001</td>\n",
       "      <td>Paris</td>\n",
       "      <td>France</td>\n",
       "      <td>48.860757</td>\n",
       "      <td>2.342566</td>\n",
       "      <td>Concurrent Premium</td>\n",
       "    </tr>\n",
       "    <tr>\n",
       "      <th>1</th>\n",
       "      <td>102</td>\n",
       "      <td>Concurrent Premium</td>\n",
       "      <td>Paris 15</td>\n",
       "      <td>75015</td>\n",
       "      <td>Paris</td>\n",
       "      <td>France</td>\n",
       "      <td>48.840412</td>\n",
       "      <td>2.312649</td>\n",
       "      <td>Concurrent Premium</td>\n",
       "    </tr>\n",
       "    <tr>\n",
       "      <th>2</th>\n",
       "      <td>103</td>\n",
       "      <td>Concurrent Premium</td>\n",
       "      <td>Paris 18</td>\n",
       "      <td>75018</td>\n",
       "      <td>Paris</td>\n",
       "      <td>France</td>\n",
       "      <td>48.886483</td>\n",
       "      <td>2.344326</td>\n",
       "      <td>Concurrent Premium</td>\n",
       "    </tr>\n",
       "    <tr>\n",
       "      <th>3</th>\n",
       "      <td>104</td>\n",
       "      <td>Concurrent Premium</td>\n",
       "      <td>Paris 12</td>\n",
       "      <td>75012</td>\n",
       "      <td>Paris</td>\n",
       "      <td>France</td>\n",
       "      <td>48.832182</td>\n",
       "      <td>2.375729</td>\n",
       "      <td>Concurrent Premium</td>\n",
       "    </tr>\n",
       "    <tr>\n",
       "      <th>4</th>\n",
       "      <td>105</td>\n",
       "      <td>Concurrent Premium</td>\n",
       "      <td>Paris 16</td>\n",
       "      <td>75016</td>\n",
       "      <td>Paris</td>\n",
       "      <td>France</td>\n",
       "      <td>48.855454</td>\n",
       "      <td>2.280886</td>\n",
       "      <td>Concurrent Premium</td>\n",
       "    </tr>\n",
       "  </tbody>\n",
       "</table>\n",
       "</div>"
      ],
      "text/plain": [
       "   CompetitorOutletId CompetitorOutletName CompetitorOutletAdress  \\\n",
       "0                 101   Concurrent Premium              Paris 1er   \n",
       "1                 102   Concurrent Premium               Paris 15   \n",
       "2                 103   Concurrent Premium               Paris 18   \n",
       "3                 104   Concurrent Premium               Paris 12   \n",
       "4                 105   Concurrent Premium               Paris 16   \n",
       "\n",
       "   CompetitorOutletZipCode CompetitorOutletCity CompetitorOutletCountry  \\\n",
       "0                    75001                Paris                  France   \n",
       "1                    75015                Paris                  France   \n",
       "2                    75018                Paris                  France   \n",
       "3                    75012                Paris                  France   \n",
       "4                    75016                Paris                  France   \n",
       "\n",
       "   CompetitorOutletLatitude  CompetitorOutletLongitude CompetitorOutletCompany  \n",
       "0                 48.860757                   2.342566      Concurrent Premium  \n",
       "1                 48.840412                   2.312649      Concurrent Premium  \n",
       "2                 48.886483                   2.344326      Concurrent Premium  \n",
       "3                 48.832182                   2.375729      Concurrent Premium  \n",
       "4                 48.855454                   2.280886      Concurrent Premium  "
      ]
     },
     "execution_count": 4,
     "metadata": {},
     "output_type": "execute_result"
    }
   ],
   "source": [
    "competitor_outlets_df = pd.read_csv(\n",
    "    \"https://data.atoti.io/notebooks/geopricing/competitor_outlets.csv\", sep=\";\"\n",
    ")\n",
    "competitor_outlets_df.head(5)"
   ]
  },
  {
   "cell_type": "markdown",
   "metadata": {},
   "source": [
    "We can already visualize on a map our retail outlets (in red) and those of the competition (in blue)."
   ]
  },
  {
   "cell_type": "code",
   "execution_count": 5,
   "metadata": {},
   "outputs": [],
   "source": [
    "from utils import geo_utils"
   ]
  },
  {
   "cell_type": "code",
   "execution_count": 6,
   "metadata": {},
   "outputs": [
    {
     "data": {
      "text/html": [
       "<div style=\"width:100%;\"><div style=\"position:relative;width:100%;height:0;padding-bottom:60%;\"><span style=\"color:#565656\">Make this Notebook Trusted to load map: File -> Trust Notebook</span><iframe src=\"about:blank\" style=\"position:absolute;width:100%;height:100%;left:0;top:0;border:none !important;\" data-html=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 onload=\"this.contentDocument.open();this.contentDocument.write(atob(this.getAttribute('data-html')));this.contentDocument.close();\" allowfullscreen webkitallowfullscreen mozallowfullscreen></iframe></div></div>"
      ],
      "text/plain": [
       "<folium.folium.Map at 0x276f7cf2160>"
      ]
     },
     "execution_count": 6,
     "metadata": {},
     "output_type": "execute_result"
    }
   ],
   "source": [
    "outlets_map = geo_utils.build_outlets_map(competitor_outlets_df, outlets_df)\n",
    "outlets_map"
   ]
  },
  {
   "cell_type": "markdown",
   "metadata": {},
   "source": [
    "To assess whether an outlet has strong competition or not, we will count how many competitor outlets there are within an area of radius 1km, 5km, 10km and 20km.  \n",
    "In order to to that, we first need to compute distances between outlets then count the number of competitor outlets for each of the kilometers values above.\n",
    "\n",
    "#### Computing distances between outlets\n",
    "To compute distances between outlets, we simply used the [harvesine formula](https://en.wikipedia.org/wiki/Haversine_formula). Note that another approach would be to use instead something like the [google API to compute distances and durations between two points](https://developers.google.com/maps/documentation/distance-matrix/intro) (thus taking into accounts possible means of transportation).\n",
    "\n",
    "First we build a matrix containing the distances between outlets and all competitors."
   ]
  },
  {
   "cell_type": "code",
   "execution_count": 7,
   "metadata": {},
   "outputs": [
    {
     "data": {
      "text/html": [
       "<div>\n",
       "<style scoped>\n",
       "    .dataframe tbody tr th:only-of-type {\n",
       "        vertical-align: middle;\n",
       "    }\n",
       "\n",
       "    .dataframe tbody tr th {\n",
       "        vertical-align: top;\n",
       "    }\n",
       "\n",
       "    .dataframe thead th {\n",
       "        text-align: right;\n",
       "    }\n",
       "</style>\n",
       "<table border=\"1\" class=\"dataframe\">\n",
       "  <thead>\n",
       "    <tr style=\"text-align: right;\">\n",
       "      <th></th>\n",
       "      <th>CompetitorOutletId</th>\n",
       "      <th>OutletId</th>\n",
       "      <th>Competitor distance KM</th>\n",
       "    </tr>\n",
       "  </thead>\n",
       "  <tbody>\n",
       "    <tr>\n",
       "      <th>0</th>\n",
       "      <td>101</td>\n",
       "      <td>1</td>\n",
       "      <td>0.000000</td>\n",
       "    </tr>\n",
       "    <tr>\n",
       "      <th>1</th>\n",
       "      <td>101</td>\n",
       "      <td>2</td>\n",
       "      <td>3.145965</td>\n",
       "    </tr>\n",
       "    <tr>\n",
       "      <th>2</th>\n",
       "      <td>101</td>\n",
       "      <td>3</td>\n",
       "      <td>2.861697</td>\n",
       "    </tr>\n",
       "    <tr>\n",
       "      <th>3</th>\n",
       "      <td>101</td>\n",
       "      <td>4</td>\n",
       "      <td>3.995581</td>\n",
       "    </tr>\n",
       "    <tr>\n",
       "      <th>4</th>\n",
       "      <td>101</td>\n",
       "      <td>5</td>\n",
       "      <td>4.547896</td>\n",
       "    </tr>\n",
       "  </tbody>\n",
       "</table>\n",
       "</div>"
      ],
      "text/plain": [
       "   CompetitorOutletId  OutletId  Competitor distance KM\n",
       "0                 101         1                0.000000\n",
       "1                 101         2                3.145965\n",
       "2                 101         3                2.861697\n",
       "3                 101         4                3.995581\n",
       "4                 101         5                4.547896"
      ]
     },
     "execution_count": 7,
     "metadata": {},
     "output_type": "execute_result"
    }
   ],
   "source": [
    "outlets_distances_matrix = geo_utils.create_outlets_distances_matrix(\n",
    "    outlets_df, competitor_outlets_df\n",
    ")\n",
    "\n",
    "outlets_distances_matrix.head()"
   ]
  },
  {
   "cell_type": "markdown",
   "metadata": {},
   "source": [
    "Next we proceed to load data into our outlets for the data cube.\n",
    "\n",
    "#### Data loading and cube creation\n",
    "We begin by creating an atoti session."
   ]
  },
  {
   "cell_type": "code",
   "execution_count": 8,
   "metadata": {},
   "outputs": [],
   "source": [
    "# config = tt.config.create_config(port=9999)\n",
    "session = tt.create_session()"
   ]
  },
  {
   "cell_type": "markdown",
   "metadata": {},
   "source": [
    "We load the distance matrix into a data store. This will facilitate the computation of the number of competitors per area radius.  \n",
    "Though not implemented in this notebook, we can also use it for analysis of price index against the competitors within a distance range."
   ]
  },
  {
   "cell_type": "code",
   "execution_count": 9,
   "metadata": {},
   "outputs": [
    {
     "data": {
      "text/html": [
       "<div>\n",
       "<style scoped>\n",
       "    .dataframe tbody tr th:only-of-type {\n",
       "        vertical-align: middle;\n",
       "    }\n",
       "\n",
       "    .dataframe tbody tr th {\n",
       "        vertical-align: top;\n",
       "    }\n",
       "\n",
       "    .dataframe thead th {\n",
       "        text-align: right;\n",
       "    }\n",
       "</style>\n",
       "<table border=\"1\" class=\"dataframe\">\n",
       "  <thead>\n",
       "    <tr style=\"text-align: right;\">\n",
       "      <th></th>\n",
       "      <th></th>\n",
       "      <th>Competitor distance KM</th>\n",
       "    </tr>\n",
       "    <tr>\n",
       "      <th>OutletId</th>\n",
       "      <th>CompetitorOutletId</th>\n",
       "      <th></th>\n",
       "    </tr>\n",
       "  </thead>\n",
       "  <tbody>\n",
       "    <tr>\n",
       "      <th>1.0</th>\n",
       "      <th>101.0</th>\n",
       "      <td>0.000000</td>\n",
       "    </tr>\n",
       "    <tr>\n",
       "      <th>2.0</th>\n",
       "      <th>101.0</th>\n",
       "      <td>3.145965</td>\n",
       "    </tr>\n",
       "    <tr>\n",
       "      <th>3.0</th>\n",
       "      <th>101.0</th>\n",
       "      <td>2.861697</td>\n",
       "    </tr>\n",
       "    <tr>\n",
       "      <th>4.0</th>\n",
       "      <th>101.0</th>\n",
       "      <td>3.995581</td>\n",
       "    </tr>\n",
       "    <tr>\n",
       "      <th>5.0</th>\n",
       "      <th>101.0</th>\n",
       "      <td>4.547896</td>\n",
       "    </tr>\n",
       "  </tbody>\n",
       "</table>\n",
       "</div>"
      ],
      "text/plain": [
       "                             Competitor distance KM\n",
       "OutletId CompetitorOutletId                        \n",
       "1.0      101.0                             0.000000\n",
       "2.0      101.0                             3.145965\n",
       "3.0      101.0                             2.861697\n",
       "4.0      101.0                             3.995581\n",
       "5.0      101.0                             4.547896"
      ]
     },
     "execution_count": 9,
     "metadata": {},
     "output_type": "execute_result"
    }
   ],
   "source": [
    "distance_matrix = session.read_pandas(\n",
    "    outlets_distances_matrix,\n",
    "    keys=[\"OutletId\", \"CompetitorOutletId\"],\n",
    "    store_name=\"DistanceMatrix\",\n",
    "    types={\"OutletId\": tt.types.INT, \"CompetitorOutletId\": tt.types.INT,},\n",
    ")\n",
    "\n",
    "distance_matrix.head()"
   ]
  },
  {
   "cell_type": "markdown",
   "metadata": {},
   "source": [
    "Normally, we can have the selling price, cost price and quantity of the product sold. Margin hence can be derived, and we can consequently see the impact on margin when price index changes.  \n",
    "In this notebook however, we simplify the use case by having only the SellingPrice and the total Margin for each product by outlets.  "
   ]
  },
  {
   "cell_type": "code",
   "execution_count": 10,
   "metadata": {},
   "outputs": [],
   "source": [
    "#  We used pandas to read the selling price here as we will be using it again for price optimisation in the later section.\n",
    "product_sales_df = pd.read_csv(\n",
    "    \"https://data.atoti.io/notebooks/geopricing/outlet_prices.csv\"\n",
    ")"
   ]
  },
  {
   "cell_type": "code",
   "execution_count": 11,
   "metadata": {},
   "outputs": [
    {
     "name": "stderr",
     "output_type": "stream",
     "text": [
      "The store has been sampled because there are more than 10000 lines in the files to load. Call Session.load_all_data() to trigger the full load of the data.\n"
     ]
    },
    {
     "data": {
      "text/html": [
       "<div>\n",
       "<style scoped>\n",
       "    .dataframe tbody tr th:only-of-type {\n",
       "        vertical-align: middle;\n",
       "    }\n",
       "\n",
       "    .dataframe tbody tr th {\n",
       "        vertical-align: top;\n",
       "    }\n",
       "\n",
       "    .dataframe thead th {\n",
       "        text-align: right;\n",
       "    }\n",
       "</style>\n",
       "<table border=\"1\" class=\"dataframe\">\n",
       "  <thead>\n",
       "    <tr style=\"text-align: right;\">\n",
       "      <th></th>\n",
       "      <th></th>\n",
       "      <th>SellingPrice</th>\n",
       "      <th>Margin</th>\n",
       "    </tr>\n",
       "    <tr>\n",
       "      <th>ProductId</th>\n",
       "      <th>OutletId</th>\n",
       "      <th></th>\n",
       "      <th></th>\n",
       "    </tr>\n",
       "  </thead>\n",
       "  <tbody>\n",
       "    <tr>\n",
       "      <th rowspan=\"5\" valign=\"top\">4096.0</th>\n",
       "      <th>1.0</th>\n",
       "      <td>1.920</td>\n",
       "      <td>1959.530</td>\n",
       "    </tr>\n",
       "    <tr>\n",
       "      <th>2.0</th>\n",
       "      <td>2.068</td>\n",
       "      <td>2204.228</td>\n",
       "    </tr>\n",
       "    <tr>\n",
       "      <th>3.0</th>\n",
       "      <td>1.820</td>\n",
       "      <td>1835.545</td>\n",
       "    </tr>\n",
       "    <tr>\n",
       "      <th>4.0</th>\n",
       "      <td>1.825</td>\n",
       "      <td>1641.052</td>\n",
       "    </tr>\n",
       "    <tr>\n",
       "      <th>5.0</th>\n",
       "      <td>2.016</td>\n",
       "      <td>1307.136</td>\n",
       "    </tr>\n",
       "  </tbody>\n",
       "</table>\n",
       "</div>"
      ],
      "text/plain": [
       "                    SellingPrice    Margin\n",
       "ProductId OutletId                        \n",
       "4096.0    1.0              1.920  1959.530\n",
       "          2.0              2.068  2204.228\n",
       "          3.0              1.820  1835.545\n",
       "          4.0              1.825  1641.052\n",
       "          5.0              2.016  1307.136"
      ]
     },
     "execution_count": 11,
     "metadata": {},
     "output_type": "execute_result"
    }
   ],
   "source": [
    "productSales = session.read_pandas(\n",
    "    product_sales_df,\n",
    "    keys=[\"ProductId\", \"OutletId\"],\n",
    "    store_name=\"ProductSales\",\n",
    "    types={\"ProductId\": tt.types.INT, \"OutletId\": tt.types.INT},\n",
    ")\n",
    "\n",
    "productSales.head()"
   ]
  },
  {
   "cell_type": "code",
   "execution_count": 12,
   "metadata": {},
   "outputs": [],
   "source": [
    "price_index_cube = session.create_cube(productSales, \"PriceIndexCube\")"
   ]
  },
  {
   "cell_type": "markdown",
   "metadata": {},
   "source": [
    "We will also require the competitors' product pricing against our outlets.  \n",
    "Due to the amount of data in this store, the store will be sampled by default. We will proceed to load all the data only after we are done modeling the cube.  \n",
    "Note that atoti is able to load csv directly from s3."
   ]
  },
  {
   "cell_type": "code",
   "execution_count": 13,
   "metadata": {},
   "outputs": [
    {
     "data": {
      "text/html": [
       "<div>\n",
       "<style scoped>\n",
       "    .dataframe tbody tr th:only-of-type {\n",
       "        vertical-align: middle;\n",
       "    }\n",
       "\n",
       "    .dataframe tbody tr th {\n",
       "        vertical-align: top;\n",
       "    }\n",
       "\n",
       "    .dataframe thead th {\n",
       "        text-align: right;\n",
       "    }\n",
       "</style>\n",
       "<table border=\"1\" class=\"dataframe\">\n",
       "  <thead>\n",
       "    <tr style=\"text-align: right;\">\n",
       "      <th></th>\n",
       "      <th></th>\n",
       "      <th></th>\n",
       "      <th>CompetitorPrice</th>\n",
       "    </tr>\n",
       "    <tr>\n",
       "      <th>ProductId</th>\n",
       "      <th>CompetitorOutletId</th>\n",
       "      <th>OutletId</th>\n",
       "      <th></th>\n",
       "    </tr>\n",
       "  </thead>\n",
       "  <tbody>\n",
       "    <tr>\n",
       "      <th>4096.0</th>\n",
       "      <th>101.0</th>\n",
       "      <th>1.0</th>\n",
       "      <td>2.287</td>\n",
       "    </tr>\n",
       "    <tr>\n",
       "      <th>4097.0</th>\n",
       "      <th>101.0</th>\n",
       "      <th>1.0</th>\n",
       "      <td>2.320</td>\n",
       "    </tr>\n",
       "    <tr>\n",
       "      <th>4098.0</th>\n",
       "      <th>101.0</th>\n",
       "      <th>1.0</th>\n",
       "      <td>2.519</td>\n",
       "    </tr>\n",
       "    <tr>\n",
       "      <th>4099.0</th>\n",
       "      <th>101.0</th>\n",
       "      <th>1.0</th>\n",
       "      <td>2.504</td>\n",
       "    </tr>\n",
       "    <tr>\n",
       "      <th>4100.0</th>\n",
       "      <th>101.0</th>\n",
       "      <th>1.0</th>\n",
       "      <td>3.309</td>\n",
       "    </tr>\n",
       "  </tbody>\n",
       "</table>\n",
       "</div>"
      ],
      "text/plain": [
       "                                       CompetitorPrice\n",
       "ProductId CompetitorOutletId OutletId                 \n",
       "4096.0    101.0              1.0                 2.287\n",
       "4097.0    101.0              1.0                 2.320\n",
       "4098.0    101.0              1.0                 2.519\n",
       "4099.0    101.0              1.0                 2.504\n",
       "4100.0    101.0              1.0                 3.309"
      ]
     },
     "execution_count": 13,
     "metadata": {},
     "output_type": "execute_result"
    }
   ],
   "source": [
    "competitorPrices = session.read_csv(\n",
    "    \"s3://data.atoti.io/notebooks/geopricing/competitor_prices.csv\",\n",
    "    keys=[\"ProductId\", \"CompetitorOutletId\", \"OutletId\"],\n",
    "    store_name=\"CompetitorPrices\",\n",
    ")\n",
    "\n",
    "competitorPrices.head()"
   ]
  },
  {
   "cell_type": "markdown",
   "metadata": {},
   "source": [
    "We have the key stores necessary for us to generate the data required for machine learning.  \n",
    "However, we will also load the following stores that will allow us to have an in-depth analysis:\n",
    "- Products: Product catalogue\n",
    "- Outlets: Outlets information such as location\n",
    "- CompetitorsOutlets: Competitors' outlet information"
   ]
  },
  {
   "cell_type": "code",
   "execution_count": 14,
   "metadata": {},
   "outputs": [
    {
     "data": {
      "text/html": [
       "<div>\n",
       "<style scoped>\n",
       "    .dataframe tbody tr th:only-of-type {\n",
       "        vertical-align: middle;\n",
       "    }\n",
       "\n",
       "    .dataframe tbody tr th {\n",
       "        vertical-align: top;\n",
       "    }\n",
       "\n",
       "    .dataframe thead th {\n",
       "        text-align: right;\n",
       "    }\n",
       "</style>\n",
       "<table border=\"1\" class=\"dataframe\">\n",
       "  <thead>\n",
       "    <tr style=\"text-align: right;\">\n",
       "      <th></th>\n",
       "      <th>EAN</th>\n",
       "      <th>ProductName</th>\n",
       "      <th>Brand</th>\n",
       "      <th>Size</th>\n",
       "      <th>Unit</th>\n",
       "      <th>Department</th>\n",
       "      <th>SubDepartment</th>\n",
       "      <th>Category</th>\n",
       "      <th>SubCategory</th>\n",
       "    </tr>\n",
       "    <tr>\n",
       "      <th>ProductId</th>\n",
       "      <th></th>\n",
       "      <th></th>\n",
       "      <th></th>\n",
       "      <th></th>\n",
       "      <th></th>\n",
       "      <th></th>\n",
       "      <th></th>\n",
       "      <th></th>\n",
       "      <th></th>\n",
       "    </tr>\n",
       "  </thead>\n",
       "  <tbody>\n",
       "    <tr>\n",
       "      <th>4096</th>\n",
       "      <td>3124480000378</td>\n",
       "      <td>1,5L CANADA DRY PET</td>\n",
       "      <td>CANADA DRY</td>\n",
       "      <td>1.5</td>\n",
       "      <td>L</td>\n",
       "      <td>LIQUIDES</td>\n",
       "      <td>SOFT TRADITIONNELS</td>\n",
       "      <td>TONIC</td>\n",
       "      <td>GINGER ALE</td>\n",
       "    </tr>\n",
       "    <tr>\n",
       "      <th>4097</th>\n",
       "      <td>3124480183927</td>\n",
       "      <td>1,5L SCHWEPPES LEMON PET</td>\n",
       "      <td>SCHWEPPES</td>\n",
       "      <td>1.5</td>\n",
       "      <td>L</td>\n",
       "      <td>LIQUIDES</td>\n",
       "      <td>SOFT TRADITIONNELS</td>\n",
       "      <td>BOISSON AUX FRUITS  GAZEUX</td>\n",
       "      <td>PET - PVC</td>\n",
       "    </tr>\n",
       "    <tr>\n",
       "      <th>4098</th>\n",
       "      <td>3124480183811</td>\n",
       "      <td>2L OASIS ORANGE PET</td>\n",
       "      <td>OASIS</td>\n",
       "      <td>2</td>\n",
       "      <td>L</td>\n",
       "      <td>LIQUIDES</td>\n",
       "      <td>SOFT TRADITIONNELS</td>\n",
       "      <td>BOISSON AUX FRUITS  PLAT</td>\n",
       "      <td>PET - PVC</td>\n",
       "    </tr>\n",
       "    <tr>\n",
       "      <th>4099</th>\n",
       "      <td>3124480183828</td>\n",
       "      <td>2L OASIS TROPICAL PET</td>\n",
       "      <td>OASIS</td>\n",
       "      <td>2</td>\n",
       "      <td>L</td>\n",
       "      <td>LIQUIDES</td>\n",
       "      <td>SOFT TRADITIONNELS</td>\n",
       "      <td>BOISSON AUX FRUITS  PLAT</td>\n",
       "      <td>PET - PVC</td>\n",
       "    </tr>\n",
       "    <tr>\n",
       "      <th>4100</th>\n",
       "      <td>3124480186577</td>\n",
       "      <td>6X33CL OASIS TROPICAL BT</td>\n",
       "      <td>OASIS</td>\n",
       "      <td>6x33</td>\n",
       "      <td>cl</td>\n",
       "      <td>LIQUIDES</td>\n",
       "      <td>SOFT TRADITIONNELS</td>\n",
       "      <td>BOISSON AUX FRUITS  PLAT</td>\n",
       "      <td>BOITES</td>\n",
       "    </tr>\n",
       "  </tbody>\n",
       "</table>\n",
       "</div>"
      ],
      "text/plain": [
       "                     EAN               ProductName       Brand  Size Unit  \\\n",
       "ProductId                                                                   \n",
       "4096       3124480000378       1,5L CANADA DRY PET  CANADA DRY   1.5    L   \n",
       "4097       3124480183927  1,5L SCHWEPPES LEMON PET   SCHWEPPES   1.5    L   \n",
       "4098       3124480183811       2L OASIS ORANGE PET       OASIS     2    L   \n",
       "4099       3124480183828     2L OASIS TROPICAL PET       OASIS     2    L   \n",
       "4100       3124480186577  6X33CL OASIS TROPICAL BT       OASIS  6x33   cl   \n",
       "\n",
       "          Department       SubDepartment                    Category  \\\n",
       "ProductId                                                              \n",
       "4096        LIQUIDES  SOFT TRADITIONNELS                       TONIC   \n",
       "4097        LIQUIDES  SOFT TRADITIONNELS  BOISSON AUX FRUITS  GAZEUX   \n",
       "4098        LIQUIDES  SOFT TRADITIONNELS    BOISSON AUX FRUITS  PLAT   \n",
       "4099        LIQUIDES  SOFT TRADITIONNELS    BOISSON AUX FRUITS  PLAT   \n",
       "4100        LIQUIDES  SOFT TRADITIONNELS    BOISSON AUX FRUITS  PLAT   \n",
       "\n",
       "          SubCategory  \n",
       "ProductId              \n",
       "4096       GINGER ALE  \n",
       "4097        PET - PVC  \n",
       "4098        PET - PVC  \n",
       "4099        PET - PVC  \n",
       "4100           BOITES  "
      ]
     },
     "execution_count": 14,
     "metadata": {},
     "output_type": "execute_result"
    }
   ],
   "source": [
    "products = session.read_csv(\n",
    "    \"s3://data.atoti.io/notebooks/geopricing/products_info.csv\",\n",
    "    keys=[\"ProductId\"],\n",
    "    store_name=\"Products\",\n",
    ")\n",
    "\n",
    "products.head()"
   ]
  },
  {
   "cell_type": "markdown",
   "metadata": {},
   "source": [
    "Previously we have loaded our outlets and the competitors' outlet information into dataframes for the computation of the distance matrix.  \n",
    "We will load the same dataframes into atoti store."
   ]
  },
  {
   "cell_type": "code",
   "execution_count": 15,
   "metadata": {},
   "outputs": [
    {
     "data": {
      "text/html": [
       "<div>\n",
       "<style scoped>\n",
       "    .dataframe tbody tr th:only-of-type {\n",
       "        vertical-align: middle;\n",
       "    }\n",
       "\n",
       "    .dataframe tbody tr th {\n",
       "        vertical-align: top;\n",
       "    }\n",
       "\n",
       "    .dataframe thead th {\n",
       "        text-align: right;\n",
       "    }\n",
       "</style>\n",
       "<table border=\"1\" class=\"dataframe\">\n",
       "  <thead>\n",
       "    <tr style=\"text-align: right;\">\n",
       "      <th></th>\n",
       "      <th>OutletName</th>\n",
       "      <th>Adress</th>\n",
       "      <th>ZipCode</th>\n",
       "      <th>City</th>\n",
       "      <th>Country</th>\n",
       "      <th>Latitude</th>\n",
       "      <th>Longitude</th>\n",
       "      <th>Company</th>\n",
       "    </tr>\n",
       "    <tr>\n",
       "      <th>OutletId</th>\n",
       "      <th></th>\n",
       "      <th></th>\n",
       "      <th></th>\n",
       "      <th></th>\n",
       "      <th></th>\n",
       "      <th></th>\n",
       "      <th></th>\n",
       "      <th></th>\n",
       "    </tr>\n",
       "  </thead>\n",
       "  <tbody>\n",
       "    <tr>\n",
       "      <th>1</th>\n",
       "      <td>ActiveViam Outlet Paris 1er</td>\n",
       "      <td>Paris 1er</td>\n",
       "      <td>75001</td>\n",
       "      <td>Paris</td>\n",
       "      <td>France</td>\n",
       "      <td>48.860757</td>\n",
       "      <td>2.342566</td>\n",
       "      <td>ActiveViam</td>\n",
       "    </tr>\n",
       "    <tr>\n",
       "      <th>2</th>\n",
       "      <td>ActiveViam Outlet Paris 15</td>\n",
       "      <td>Paris 15</td>\n",
       "      <td>75015</td>\n",
       "      <td>Paris</td>\n",
       "      <td>France</td>\n",
       "      <td>48.840412</td>\n",
       "      <td>2.312649</td>\n",
       "      <td>ActiveViam</td>\n",
       "    </tr>\n",
       "    <tr>\n",
       "      <th>3</th>\n",
       "      <td>ActiveViam Outlet Paris 18</td>\n",
       "      <td>Paris 18</td>\n",
       "      <td>75018</td>\n",
       "      <td>Paris</td>\n",
       "      <td>France</td>\n",
       "      <td>48.886483</td>\n",
       "      <td>2.344326</td>\n",
       "      <td>ActiveViam</td>\n",
       "    </tr>\n",
       "    <tr>\n",
       "      <th>4</th>\n",
       "      <td>ActiveViam Outlet Paris 12</td>\n",
       "      <td>Paris 12</td>\n",
       "      <td>75012</td>\n",
       "      <td>Paris</td>\n",
       "      <td>France</td>\n",
       "      <td>48.832182</td>\n",
       "      <td>2.375729</td>\n",
       "      <td>ActiveViam</td>\n",
       "    </tr>\n",
       "    <tr>\n",
       "      <th>5</th>\n",
       "      <td>ActiveViam Outlet Paris 16</td>\n",
       "      <td>Paris 16</td>\n",
       "      <td>75016</td>\n",
       "      <td>Paris</td>\n",
       "      <td>France</td>\n",
       "      <td>48.855454</td>\n",
       "      <td>2.280886</td>\n",
       "      <td>ActiveViam</td>\n",
       "    </tr>\n",
       "  </tbody>\n",
       "</table>\n",
       "</div>"
      ],
      "text/plain": [
       "                           OutletName     Adress  ZipCode   City Country  \\\n",
       "OutletId                                                                   \n",
       "1         ActiveViam Outlet Paris 1er  Paris 1er    75001  Paris  France   \n",
       "2          ActiveViam Outlet Paris 15   Paris 15    75015  Paris  France   \n",
       "3          ActiveViam Outlet Paris 18   Paris 18    75018  Paris  France   \n",
       "4          ActiveViam Outlet Paris 12   Paris 12    75012  Paris  France   \n",
       "5          ActiveViam Outlet Paris 16   Paris 16    75016  Paris  France   \n",
       "\n",
       "           Latitude  Longitude     Company  \n",
       "OutletId                                    \n",
       "1         48.860757   2.342566  ActiveViam  \n",
       "2         48.840412   2.312649  ActiveViam  \n",
       "3         48.886483   2.344326  ActiveViam  \n",
       "4         48.832182   2.375729  ActiveViam  \n",
       "5         48.855454   2.280886  ActiveViam  "
      ]
     },
     "execution_count": 15,
     "metadata": {},
     "output_type": "execute_result"
    }
   ],
   "source": [
    "outlets = session.read_pandas(\n",
    "    outlets_df,\n",
    "    keys=[\"OutletId\"],\n",
    "    store_name=\"Outlets\",\n",
    "    types={\"OutletId\": tt.types.INT},\n",
    ")\n",
    "\n",
    "outlets.head()"
   ]
  },
  {
   "cell_type": "code",
   "execution_count": 16,
   "metadata": {},
   "outputs": [
    {
     "data": {
      "text/html": [
       "<div>\n",
       "<style scoped>\n",
       "    .dataframe tbody tr th:only-of-type {\n",
       "        vertical-align: middle;\n",
       "    }\n",
       "\n",
       "    .dataframe tbody tr th {\n",
       "        vertical-align: top;\n",
       "    }\n",
       "\n",
       "    .dataframe thead th {\n",
       "        text-align: right;\n",
       "    }\n",
       "</style>\n",
       "<table border=\"1\" class=\"dataframe\">\n",
       "  <thead>\n",
       "    <tr style=\"text-align: right;\">\n",
       "      <th></th>\n",
       "      <th>CompetitorOutletName</th>\n",
       "      <th>CompetitorOutletAdress</th>\n",
       "      <th>CompetitorOutletZipCode</th>\n",
       "      <th>CompetitorOutletCity</th>\n",
       "      <th>CompetitorOutletCountry</th>\n",
       "      <th>CompetitorOutletLatitude</th>\n",
       "      <th>CompetitorOutletLongitude</th>\n",
       "      <th>CompetitorOutletCompany</th>\n",
       "    </tr>\n",
       "    <tr>\n",
       "      <th>CompetitorOutletId</th>\n",
       "      <th></th>\n",
       "      <th></th>\n",
       "      <th></th>\n",
       "      <th></th>\n",
       "      <th></th>\n",
       "      <th></th>\n",
       "      <th></th>\n",
       "      <th></th>\n",
       "    </tr>\n",
       "  </thead>\n",
       "  <tbody>\n",
       "    <tr>\n",
       "      <th>101</th>\n",
       "      <td>Concurrent Premium</td>\n",
       "      <td>Paris 1er</td>\n",
       "      <td>75001</td>\n",
       "      <td>Paris</td>\n",
       "      <td>France</td>\n",
       "      <td>48.860757</td>\n",
       "      <td>2.342566</td>\n",
       "      <td>Concurrent Premium</td>\n",
       "    </tr>\n",
       "    <tr>\n",
       "      <th>102</th>\n",
       "      <td>Concurrent Premium</td>\n",
       "      <td>Paris 15</td>\n",
       "      <td>75015</td>\n",
       "      <td>Paris</td>\n",
       "      <td>France</td>\n",
       "      <td>48.840412</td>\n",
       "      <td>2.312649</td>\n",
       "      <td>Concurrent Premium</td>\n",
       "    </tr>\n",
       "    <tr>\n",
       "      <th>103</th>\n",
       "      <td>Concurrent Premium</td>\n",
       "      <td>Paris 18</td>\n",
       "      <td>75018</td>\n",
       "      <td>Paris</td>\n",
       "      <td>France</td>\n",
       "      <td>48.886483</td>\n",
       "      <td>2.344326</td>\n",
       "      <td>Concurrent Premium</td>\n",
       "    </tr>\n",
       "    <tr>\n",
       "      <th>104</th>\n",
       "      <td>Concurrent Premium</td>\n",
       "      <td>Paris 12</td>\n",
       "      <td>75012</td>\n",
       "      <td>Paris</td>\n",
       "      <td>France</td>\n",
       "      <td>48.832182</td>\n",
       "      <td>2.375729</td>\n",
       "      <td>Concurrent Premium</td>\n",
       "    </tr>\n",
       "    <tr>\n",
       "      <th>105</th>\n",
       "      <td>Concurrent Premium</td>\n",
       "      <td>Paris 16</td>\n",
       "      <td>75016</td>\n",
       "      <td>Paris</td>\n",
       "      <td>France</td>\n",
       "      <td>48.855454</td>\n",
       "      <td>2.280886</td>\n",
       "      <td>Concurrent Premium</td>\n",
       "    </tr>\n",
       "  </tbody>\n",
       "</table>\n",
       "</div>"
      ],
      "text/plain": [
       "                   CompetitorOutletName CompetitorOutletAdress  \\\n",
       "CompetitorOutletId                                               \n",
       "101                  Concurrent Premium              Paris 1er   \n",
       "102                  Concurrent Premium               Paris 15   \n",
       "103                  Concurrent Premium               Paris 18   \n",
       "104                  Concurrent Premium               Paris 12   \n",
       "105                  Concurrent Premium               Paris 16   \n",
       "\n",
       "                    CompetitorOutletZipCode CompetitorOutletCity  \\\n",
       "CompetitorOutletId                                                 \n",
       "101                                   75001                Paris   \n",
       "102                                   75015                Paris   \n",
       "103                                   75018                Paris   \n",
       "104                                   75012                Paris   \n",
       "105                                   75016                Paris   \n",
       "\n",
       "                   CompetitorOutletCountry  CompetitorOutletLatitude  \\\n",
       "CompetitorOutletId                                                     \n",
       "101                                 France                 48.860757   \n",
       "102                                 France                 48.840412   \n",
       "103                                 France                 48.886483   \n",
       "104                                 France                 48.832182   \n",
       "105                                 France                 48.855454   \n",
       "\n",
       "                    CompetitorOutletLongitude CompetitorOutletCompany  \n",
       "CompetitorOutletId                                                     \n",
       "101                                  2.342566      Concurrent Premium  \n",
       "102                                  2.312649      Concurrent Premium  \n",
       "103                                  2.344326      Concurrent Premium  \n",
       "104                                  2.375729      Concurrent Premium  \n",
       "105                                  2.280886      Concurrent Premium  "
      ]
     },
     "execution_count": 16,
     "metadata": {},
     "output_type": "execute_result"
    }
   ],
   "source": [
    "competitorOutlets = session.read_pandas(\n",
    "    competitor_outlets_df,\n",
    "    keys=[\"CompetitorOutletId\"],\n",
    "    store_name=\"CompetitorsOutlet\",\n",
    "    types={\"CompetitorOutletId\": tt.types.INT},\n",
    ")\n",
    "\n",
    "competitorOutlets.head()"
   ]
  },
  {
   "cell_type": "markdown",
   "metadata": {},
   "source": [
    "We choose _ProductSales_ as our base store as it contains the key facts for our outlets.  \n",
    "Correspondingly, we have our _CompetitorPrices_ store that has a many-to-many relationship with our _ProductSales_ as multiple outlets can sell the same products.\n",
    " \n",
    "We can easily setup this many-to-many relationship simply by joining the _CompetitorPrices_ store to our _ProductSales_ store by _ProductId_ and _OutletId_."
   ]
  },
  {
   "cell_type": "code",
   "execution_count": 17,
   "metadata": {},
   "outputs": [],
   "source": [
    "productSales.join(\n",
    "    competitorPrices, mapping={\"ProductId\": \"ProductId\", \"OutletId\": \"OutletId\"}\n",
    ")"
   ]
  },
  {
   "cell_type": "markdown",
   "metadata": {},
   "source": [
    "Let's also enrich our cube with extra information about the outlets to create a [snowflake schema](https://www.geeksforgeeks.org/snowflake-schema-in-data-warehouse-model/)."
   ]
  },
  {
   "cell_type": "code",
   "execution_count": 18,
   "metadata": {},
   "outputs": [],
   "source": [
    "productSales.join(products, mapping={\"ProductId\": \"ProductId\"})\n",
    "productSales.join(outlets, mapping={\"OutletId\": \"OutletId\"})\n",
    "competitorPrices.join(\n",
    "    competitorOutlets, mapping={\"CompetitorOutletId\": \"CompetitorOutletId\"}\n",
    ")\n",
    "competitorPrices.join(\n",
    "    distance_matrix,\n",
    "    mapping={\"CompetitorOutletId\": \"CompetitorOutletId\", \"OutletId\": \"OutletId\"},\n",
    ")"
   ]
  },
  {
   "cell_type": "markdown",
   "metadata": {},
   "source": [
    "Let's see the final design of our cube."
   ]
  },
  {
   "cell_type": "code",
   "execution_count": 19,
   "metadata": {},
   "outputs": [
    {
     "data": {
      "image/svg+xml": [
       "<svg xmlns=\"http://www.w3.org/2000/svg\" xmlns:xlink=\"http://www.w3.org/1999/xlink\" width=\"1053px\" height=\"1155px\" viewBox=\"0.00 0.00 1053.00 1154.50\">\n",
       "<g id=\"graph0\" class=\"graph\" transform=\"scale(1.0 1.0) rotate(0) translate(4 1150.5)\">\n",
       "<title>PriceIndexCube schema</title>\n",
       "<polygon fill=\"white\" stroke=\"none\" points=\"-4,4 -4,-1150.5 1049,-1150.5 1049,4 -4,4\"/>\n",
       "<!-- ProductSales -->\n",
       "<g id=\"node1\" class=\"node\"><title>ProductSales</title>\n",
       "<polygon fill=\"none\" stroke=\"black\" points=\"8,-579 8,-616 144,-616 144,-579 8,-579\"/>\n",
       "<text text-anchor=\"start\" x=\"35\" y=\"-594.8\" font-family=\"Times New Roman,serif\" font-weight=\"bold\" font-size=\"14.00\">ProductSales</text>\n",
       "<polygon fill=\"none\" stroke=\"black\" points=\"8,-542 8,-579 144,-579 144,-542 8,-542\"/>\n",
       "<text text-anchor=\"start\" x=\"19\" y=\"-557.8\" font-family=\"Times New Roman,serif\" font-weight=\"bold\" font-size=\"14.00\">Key</text>\n",
       "<text text-anchor=\"start\" x=\"44\" y=\"-557.8\" font-family=\"Times New Roman,serif\" font-size=\"14.00\">  ProductId </text>\n",
       "<text text-anchor=\"start\" x=\"113\" y=\"-557.8\" font-family=\"Times New Roman,serif\" font-style=\"italic\" font-size=\"14.00\">int</text>\n",
       "<text text-anchor=\"start\" x=\"129\" y=\"-557.8\" font-family=\"Times New Roman,serif\" font-size=\"14.00\"> </text>\n",
       "<polygon fill=\"none\" stroke=\"black\" points=\"8,-505 8,-542 144,-542 144,-505 8,-505\"/>\n",
       "<text text-anchor=\"start\" x=\"19\" y=\"-520.8\" font-family=\"Times New Roman,serif\" font-weight=\"bold\" font-size=\"14.00\">Key</text>\n",
       "<text text-anchor=\"start\" x=\"44\" y=\"-520.8\" font-family=\"Times New Roman,serif\" font-size=\"14.00\">  OutletId </text>\n",
       "<text text-anchor=\"start\" x=\"102\" y=\"-520.8\" font-family=\"Times New Roman,serif\" font-style=\"italic\" font-size=\"14.00\">int</text>\n",
       "<text text-anchor=\"start\" x=\"118\" y=\"-520.8\" font-family=\"Times New Roman,serif\" font-size=\"14.00\"> </text>\n",
       "<polygon fill=\"none\" stroke=\"black\" points=\"8,-468 8,-505 144,-505 144,-468 8,-468\"/>\n",
       "<text text-anchor=\"start\" x=\"19\" y=\"-483.8\" font-family=\"Times New Roman,serif\" font-size=\"14.00\">SellingPrice </text>\n",
       "<text text-anchor=\"start\" x=\"89\" y=\"-483.8\" font-family=\"Times New Roman,serif\" font-style=\"italic\" font-size=\"14.00\">double</text>\n",
       "<text text-anchor=\"start\" x=\"129\" y=\"-483.8\" font-family=\"Times New Roman,serif\" font-size=\"14.00\"> </text>\n",
       "<polygon fill=\"none\" stroke=\"black\" points=\"8,-431 8,-468 144,-468 144,-431 8,-431\"/>\n",
       "<text text-anchor=\"start\" x=\"19\" y=\"-446.8\" font-family=\"Times New Roman,serif\" font-size=\"14.00\">Margin </text>\n",
       "<text text-anchor=\"start\" x=\"62\" y=\"-446.8\" font-family=\"Times New Roman,serif\" font-style=\"italic\" font-size=\"14.00\">double</text>\n",
       "<text text-anchor=\"start\" x=\"102\" y=\"-446.8\" font-family=\"Times New Roman,serif\" font-size=\"14.00\"> </text>\n",
       "</g>\n",
       "<!-- Products -->\n",
       "<g id=\"node2\" class=\"node\"><title>Products</title>\n",
       "<polygon fill=\"none\" stroke=\"black\" points=\"350,-1105 350,-1142 503,-1142 503,-1105 350,-1105\"/>\n",
       "<text text-anchor=\"start\" x=\"399\" y=\"-1120.8\" font-family=\"Times New Roman,serif\" font-weight=\"bold\" font-size=\"14.00\">Products</text>\n",
       "<polygon fill=\"none\" stroke=\"black\" points=\"350,-1068 350,-1105 503,-1105 503,-1068 350,-1068\"/>\n",
       "<text text-anchor=\"start\" x=\"361\" y=\"-1083.8\" font-family=\"Times New Roman,serif\" font-weight=\"bold\" font-size=\"14.00\">Key</text>\n",
       "<text text-anchor=\"start\" x=\"386\" y=\"-1083.8\" font-family=\"Times New Roman,serif\" font-size=\"14.00\">  ProductId </text>\n",
       "<text text-anchor=\"start\" x=\"455\" y=\"-1083.8\" font-family=\"Times New Roman,serif\" font-style=\"italic\" font-size=\"14.00\">int</text>\n",
       "<text text-anchor=\"start\" x=\"471\" y=\"-1083.8\" font-family=\"Times New Roman,serif\" font-size=\"14.00\"> </text>\n",
       "<polygon fill=\"none\" stroke=\"black\" points=\"350,-1031 350,-1068 503,-1068 503,-1031 350,-1031\"/>\n",
       "<text text-anchor=\"start\" x=\"361\" y=\"-1046.8\" font-family=\"Times New Roman,serif\" font-size=\"14.00\">EAN </text>\n",
       "<text text-anchor=\"start\" x=\"393\" y=\"-1046.8\" font-family=\"Times New Roman,serif\" font-style=\"italic\" font-size=\"14.00\">long</text>\n",
       "<text text-anchor=\"start\" x=\"419\" y=\"-1046.8\" font-family=\"Times New Roman,serif\" font-size=\"14.00\"> </text>\n",
       "<polygon fill=\"none\" stroke=\"black\" points=\"350,-994 350,-1031 503,-1031 503,-994 350,-994\"/>\n",
       "<text text-anchor=\"start\" x=\"361\" y=\"-1009.8\" font-family=\"Times New Roman,serif\" font-size=\"14.00\">ProductName </text>\n",
       "<text text-anchor=\"start\" x=\"443\" y=\"-1009.8\" font-family=\"Times New Roman,serif\" font-style=\"italic\" font-size=\"14.00\">String</text>\n",
       "<text text-anchor=\"start\" x=\"479\" y=\"-1009.8\" font-family=\"Times New Roman,serif\" font-size=\"14.00\"> </text>\n",
       "<polygon fill=\"none\" stroke=\"black\" points=\"350,-957 350,-994 503,-994 503,-957 350,-957\"/>\n",
       "<text text-anchor=\"start\" x=\"361\" y=\"-972.8\" font-family=\"Times New Roman,serif\" font-size=\"14.00\">Brand </text>\n",
       "<text text-anchor=\"start\" x=\"399\" y=\"-972.8\" font-family=\"Times New Roman,serif\" font-style=\"italic\" font-size=\"14.00\">String</text>\n",
       "<text text-anchor=\"start\" x=\"435\" y=\"-972.8\" font-family=\"Times New Roman,serif\" font-size=\"14.00\"> </text>\n",
       "<polygon fill=\"none\" stroke=\"black\" points=\"350,-920 350,-957 503,-957 503,-920 350,-920\"/>\n",
       "<text text-anchor=\"start\" x=\"361\" y=\"-935.8\" font-family=\"Times New Roman,serif\" font-size=\"14.00\">Size </text>\n",
       "<text text-anchor=\"start\" x=\"389\" y=\"-935.8\" font-family=\"Times New Roman,serif\" font-style=\"italic\" font-size=\"14.00\">String</text>\n",
       "<text text-anchor=\"start\" x=\"425\" y=\"-935.8\" font-family=\"Times New Roman,serif\" font-size=\"14.00\"> </text>\n",
       "<polygon fill=\"none\" stroke=\"black\" points=\"350,-883 350,-920 503,-920 503,-883 350,-883\"/>\n",
       "<text text-anchor=\"start\" x=\"361\" y=\"-898.8\" font-family=\"Times New Roman,serif\" font-size=\"14.00\">Unit </text>\n",
       "<text text-anchor=\"start\" x=\"389\" y=\"-898.8\" font-family=\"Times New Roman,serif\" font-style=\"italic\" font-size=\"14.00\">String</text>\n",
       "<text text-anchor=\"start\" x=\"425\" y=\"-898.8\" font-family=\"Times New Roman,serif\" font-size=\"14.00\"> </text>\n",
       "<polygon fill=\"none\" stroke=\"black\" points=\"350,-846 350,-883 503,-883 503,-846 350,-846\"/>\n",
       "<text text-anchor=\"start\" x=\"361\" y=\"-861.8\" font-family=\"Times New Roman,serif\" font-size=\"14.00\">Department </text>\n",
       "<text text-anchor=\"start\" x=\"430\" y=\"-861.8\" font-family=\"Times New Roman,serif\" font-style=\"italic\" font-size=\"14.00\">String</text>\n",
       "<text text-anchor=\"start\" x=\"466\" y=\"-861.8\" font-family=\"Times New Roman,serif\" font-size=\"14.00\"> </text>\n",
       "<polygon fill=\"none\" stroke=\"black\" points=\"350,-809 350,-846 503,-846 503,-809 350,-809\"/>\n",
       "<text text-anchor=\"start\" x=\"361\" y=\"-824.8\" font-family=\"Times New Roman,serif\" font-size=\"14.00\">SubDepartment </text>\n",
       "<text text-anchor=\"start\" x=\"452\" y=\"-824.8\" font-family=\"Times New Roman,serif\" font-style=\"italic\" font-size=\"14.00\">String</text>\n",
       "<text text-anchor=\"start\" x=\"488\" y=\"-824.8\" font-family=\"Times New Roman,serif\" font-size=\"14.00\"> </text>\n",
       "<polygon fill=\"none\" stroke=\"black\" points=\"350,-772 350,-809 503,-809 503,-772 350,-772\"/>\n",
       "<text text-anchor=\"start\" x=\"361\" y=\"-787.8\" font-family=\"Times New Roman,serif\" font-size=\"14.00\">Category </text>\n",
       "<text text-anchor=\"start\" x=\"416\" y=\"-787.8\" font-family=\"Times New Roman,serif\" font-style=\"italic\" font-size=\"14.00\">String</text>\n",
       "<text text-anchor=\"start\" x=\"452\" y=\"-787.8\" font-family=\"Times New Roman,serif\" font-size=\"14.00\"> </text>\n",
       "<polygon fill=\"none\" stroke=\"black\" points=\"350,-735 350,-772 503,-772 503,-735 350,-735\"/>\n",
       "<text text-anchor=\"start\" x=\"361\" y=\"-750.8\" font-family=\"Times New Roman,serif\" font-size=\"14.00\">SubCategory </text>\n",
       "<text text-anchor=\"start\" x=\"439\" y=\"-750.8\" font-family=\"Times New Roman,serif\" font-style=\"italic\" font-size=\"14.00\">String</text>\n",
       "<text text-anchor=\"start\" x=\"475\" y=\"-750.8\" font-family=\"Times New Roman,serif\" font-size=\"14.00\"> </text>\n",
       "</g>\n",
       "<!-- ProductSales&#45;&gt;Products -->\n",
       "<g id=\"edge3\" class=\"edge\"><title>ProductSales-&gt;Products</title>\n",
       "<path fill=\"none\" stroke=\"black\" d=\"M152.082,-613.538C205.664,-677.436 277.986,-763.682 334.718,-831.337\"/>\n",
       "<polygon fill=\"black\" stroke=\"black\" points=\"332.099,-833.66 341.206,-839.074 337.463,-829.162 332.099,-833.66\"/>\n",
       "<text text-anchor=\"middle\" x=\"238\" y=\"-795.8\" font-family=\"Times New Roman,serif\" font-size=\"14.00\">ProductId → ProductId</text>\n",
       "</g>\n",
       "<!-- Outlets -->\n",
       "<g id=\"node3\" class=\"node\"><title>Outlets</title>\n",
       "<polygon fill=\"none\" stroke=\"black\" points=\"360,-672 360,-709 492,-709 492,-672 360,-672\"/>\n",
       "<text text-anchor=\"start\" x=\"403.5\" y=\"-687.8\" font-family=\"Times New Roman,serif\" font-weight=\"bold\" font-size=\"14.00\">Outlets</text>\n",
       "<polygon fill=\"none\" stroke=\"black\" points=\"360,-635 360,-672 492,-672 492,-635 360,-635\"/>\n",
       "<text text-anchor=\"start\" x=\"371\" y=\"-650.8\" font-family=\"Times New Roman,serif\" font-weight=\"bold\" font-size=\"14.00\">Key</text>\n",
       "<text text-anchor=\"start\" x=\"396\" y=\"-650.8\" font-family=\"Times New Roman,serif\" font-size=\"14.00\">  OutletId </text>\n",
       "<text text-anchor=\"start\" x=\"454\" y=\"-650.8\" font-family=\"Times New Roman,serif\" font-style=\"italic\" font-size=\"14.00\">int</text>\n",
       "<text text-anchor=\"start\" x=\"470\" y=\"-650.8\" font-family=\"Times New Roman,serif\" font-size=\"14.00\"> </text>\n",
       "<polygon fill=\"none\" stroke=\"black\" points=\"360,-598 360,-635 492,-635 492,-598 360,-598\"/>\n",
       "<text text-anchor=\"start\" x=\"371\" y=\"-613.8\" font-family=\"Times New Roman,serif\" font-size=\"14.00\">OutletName </text>\n",
       "<text text-anchor=\"start\" x=\"441\" y=\"-613.8\" font-family=\"Times New Roman,serif\" font-style=\"italic\" font-size=\"14.00\">String</text>\n",
       "<text text-anchor=\"start\" x=\"477\" y=\"-613.8\" font-family=\"Times New Roman,serif\" font-size=\"14.00\"> </text>\n",
       "<polygon fill=\"none\" stroke=\"black\" points=\"360,-561 360,-598 492,-598 492,-561 360,-561\"/>\n",
       "<text text-anchor=\"start\" x=\"371\" y=\"-576.8\" font-family=\"Times New Roman,serif\" font-size=\"14.00\">Adress </text>\n",
       "<text text-anchor=\"start\" x=\"415\" y=\"-576.8\" font-family=\"Times New Roman,serif\" font-style=\"italic\" font-size=\"14.00\">String</text>\n",
       "<text text-anchor=\"start\" x=\"451\" y=\"-576.8\" font-family=\"Times New Roman,serif\" font-size=\"14.00\"> </text>\n",
       "<polygon fill=\"none\" stroke=\"black\" points=\"360,-524 360,-561 492,-561 492,-524 360,-524\"/>\n",
       "<text text-anchor=\"start\" x=\"371\" y=\"-539.8\" font-family=\"Times New Roman,serif\" font-size=\"14.00\">ZipCode </text>\n",
       "<text text-anchor=\"start\" x=\"425\" y=\"-539.8\" font-family=\"Times New Roman,serif\" font-style=\"italic\" font-size=\"14.00\">long</text>\n",
       "<text text-anchor=\"start\" x=\"451\" y=\"-539.8\" font-family=\"Times New Roman,serif\" font-size=\"14.00\"> </text>\n",
       "<polygon fill=\"none\" stroke=\"black\" points=\"360,-487 360,-524 492,-524 492,-487 360,-487\"/>\n",
       "<text text-anchor=\"start\" x=\"371\" y=\"-502.8\" font-family=\"Times New Roman,serif\" font-size=\"14.00\">City </text>\n",
       "<text text-anchor=\"start\" x=\"399\" y=\"-502.8\" font-family=\"Times New Roman,serif\" font-style=\"italic\" font-size=\"14.00\">String</text>\n",
       "<text text-anchor=\"start\" x=\"435\" y=\"-502.8\" font-family=\"Times New Roman,serif\" font-size=\"14.00\"> </text>\n",
       "<polygon fill=\"none\" stroke=\"black\" points=\"360,-450 360,-487 492,-487 492,-450 360,-450\"/>\n",
       "<text text-anchor=\"start\" x=\"371\" y=\"-465.8\" font-family=\"Times New Roman,serif\" font-size=\"14.00\">Country </text>\n",
       "<text text-anchor=\"start\" x=\"421\" y=\"-465.8\" font-family=\"Times New Roman,serif\" font-style=\"italic\" font-size=\"14.00\">String</text>\n",
       "<text text-anchor=\"start\" x=\"457\" y=\"-465.8\" font-family=\"Times New Roman,serif\" font-size=\"14.00\"> </text>\n",
       "<polygon fill=\"none\" stroke=\"black\" points=\"360,-413 360,-450 492,-450 492,-413 360,-413\"/>\n",
       "<text text-anchor=\"start\" x=\"371\" y=\"-428.8\" font-family=\"Times New Roman,serif\" font-size=\"14.00\">Latitude </text>\n",
       "<text text-anchor=\"start\" x=\"420\" y=\"-428.8\" font-family=\"Times New Roman,serif\" font-style=\"italic\" font-size=\"14.00\">double</text>\n",
       "<text text-anchor=\"start\" x=\"460\" y=\"-428.8\" font-family=\"Times New Roman,serif\" font-size=\"14.00\"> </text>\n",
       "<polygon fill=\"none\" stroke=\"black\" points=\"360,-376 360,-413 492,-413 492,-376 360,-376\"/>\n",
       "<text text-anchor=\"start\" x=\"371\" y=\"-391.8\" font-family=\"Times New Roman,serif\" font-size=\"14.00\">Longitude </text>\n",
       "<text text-anchor=\"start\" x=\"432\" y=\"-391.8\" font-family=\"Times New Roman,serif\" font-style=\"italic\" font-size=\"14.00\">double</text>\n",
       "<text text-anchor=\"start\" x=\"472\" y=\"-391.8\" font-family=\"Times New Roman,serif\" font-size=\"14.00\"> </text>\n",
       "<polygon fill=\"none\" stroke=\"black\" points=\"360,-339 360,-376 492,-376 492,-339 360,-339\"/>\n",
       "<text text-anchor=\"start\" x=\"371\" y=\"-354.8\" font-family=\"Times New Roman,serif\" font-size=\"14.00\">Company </text>\n",
       "<text text-anchor=\"start\" x=\"430\" y=\"-354.8\" font-family=\"Times New Roman,serif\" font-style=\"italic\" font-size=\"14.00\">String</text>\n",
       "<text text-anchor=\"start\" x=\"466\" y=\"-354.8\" font-family=\"Times New Roman,serif\" font-size=\"14.00\"> </text>\n",
       "</g>\n",
       "<!-- ProductSales&#45;&gt;Outlets -->\n",
       "<g id=\"edge2\" class=\"edge\"><title>ProductSales-&gt;Outlets</title>\n",
       "<path fill=\"none\" stroke=\"black\" d=\"M152.082,-524C207.876,-524 283.989,-524 341.662,-524\"/>\n",
       "<polygon fill=\"black\" stroke=\"black\" points=\"341.842,-527.5 351.842,-524 341.842,-520.5 341.842,-527.5\"/>\n",
       "<text text-anchor=\"middle\" x=\"238\" y=\"-527.8\" font-family=\"Times New Roman,serif\" font-size=\"14.00\">OutletId → OutletId</text>\n",
       "</g>\n",
       "<!-- CompetitorPrices -->\n",
       "<g id=\"node4\" class=\"node\"><title>CompetitorPrices</title>\n",
       "<polygon fill=\"none\" stroke=\"black\" points=\"332,-275 332,-312 520,-312 520,-275 332,-275\"/>\n",
       "<text text-anchor=\"start\" x=\"371.5\" y=\"-290.8\" font-family=\"Times New Roman,serif\" font-weight=\"bold\" font-size=\"14.00\">CompetitorPrices</text>\n",
       "<polygon fill=\"none\" stroke=\"black\" points=\"332,-238 332,-275 520,-275 520,-238 332,-238\"/>\n",
       "<text text-anchor=\"start\" x=\"343\" y=\"-253.8\" font-family=\"Times New Roman,serif\" font-weight=\"bold\" font-size=\"14.00\">Key</text>\n",
       "<text text-anchor=\"start\" x=\"368\" y=\"-253.8\" font-family=\"Times New Roman,serif\" font-size=\"14.00\">  ProductId </text>\n",
       "<text text-anchor=\"start\" x=\"437\" y=\"-253.8\" font-family=\"Times New Roman,serif\" font-style=\"italic\" font-size=\"14.00\">int</text>\n",
       "<text text-anchor=\"start\" x=\"453\" y=\"-253.8\" font-family=\"Times New Roman,serif\" font-size=\"14.00\"> </text>\n",
       "<polygon fill=\"none\" stroke=\"black\" points=\"332,-201 332,-238 520,-238 520,-201 332,-201\"/>\n",
       "<text text-anchor=\"start\" x=\"343\" y=\"-216.8\" font-family=\"Times New Roman,serif\" font-weight=\"bold\" font-size=\"14.00\">Key</text>\n",
       "<text text-anchor=\"start\" x=\"368\" y=\"-216.8\" font-family=\"Times New Roman,serif\" font-size=\"14.00\">  CompetitorOutletId </text>\n",
       "<text text-anchor=\"start\" x=\"489\" y=\"-216.8\" font-family=\"Times New Roman,serif\" font-style=\"italic\" font-size=\"14.00\">int</text>\n",
       "<text text-anchor=\"start\" x=\"505\" y=\"-216.8\" font-family=\"Times New Roman,serif\" font-size=\"14.00\"> </text>\n",
       "<polygon fill=\"none\" stroke=\"black\" points=\"332,-164 332,-201 520,-201 520,-164 332,-164\"/>\n",
       "<text text-anchor=\"start\" x=\"343\" y=\"-179.8\" font-family=\"Times New Roman,serif\" font-weight=\"bold\" font-size=\"14.00\">Key</text>\n",
       "<text text-anchor=\"start\" x=\"368\" y=\"-179.8\" font-family=\"Times New Roman,serif\" font-size=\"14.00\">  OutletId </text>\n",
       "<text text-anchor=\"start\" x=\"426\" y=\"-179.8\" font-family=\"Times New Roman,serif\" font-style=\"italic\" font-size=\"14.00\">int</text>\n",
       "<text text-anchor=\"start\" x=\"442\" y=\"-179.8\" font-family=\"Times New Roman,serif\" font-size=\"14.00\"> </text>\n",
       "<polygon fill=\"none\" stroke=\"black\" points=\"332,-127 332,-164 520,-164 520,-127 332,-127\"/>\n",
       "<text text-anchor=\"start\" x=\"343\" y=\"-142.8\" font-family=\"Times New Roman,serif\" font-size=\"14.00\">CompetitorPrice </text>\n",
       "<text text-anchor=\"start\" x=\"440\" y=\"-142.8\" font-family=\"Times New Roman,serif\" font-style=\"italic\" font-size=\"14.00\">double</text>\n",
       "<text text-anchor=\"start\" x=\"480\" y=\"-142.8\" font-family=\"Times New Roman,serif\" font-size=\"14.00\"> </text>\n",
       "</g>\n",
       "<!-- ProductSales&#45;&gt;CompetitorPrices -->\n",
       "<g id=\"edge1\" class=\"edge\"><title>ProductSales-&gt;CompetitorPrices</title>\n",
       "<path fill=\"none\" stroke=\"black\" stroke-dasharray=\"5,2\" d=\"M152.082,-458.411C199.979,-416.57 262.849,-361.649 316.174,-315.066\"/>\n",
       "<polygon fill=\"black\" stroke=\"black\" points=\"318.741,-317.472 323.969,-308.257 314.135,-312.2 318.741,-317.472\"/>\n",
       "<text text-anchor=\"middle\" x=\"238\" y=\"-460.8\" font-family=\"Times New Roman,serif\" font-size=\"14.00\">OutletId → OutletId</text>\n",
       "<text text-anchor=\"middle\" x=\"238\" y=\"-445.8\" font-family=\"Times New Roman,serif\" font-size=\"14.00\">ProductId → ProductId</text>\n",
       "</g>\n",
       "<!-- CompetitorsOutlet -->\n",
       "<g id=\"node5\" class=\"node\"><title>CompetitorsOutlet</title>\n",
       "<polygon fill=\"none\" stroke=\"black\" points=\"813,-511 813,-548 1037,-548 1037,-511 813,-511\"/>\n",
       "<text text-anchor=\"start\" x=\"867.5\" y=\"-526.8\" font-family=\"Times New Roman,serif\" font-weight=\"bold\" font-size=\"14.00\">CompetitorsOutlet</text>\n",
       "<polygon fill=\"none\" stroke=\"black\" points=\"813,-474 813,-511 1037,-511 1037,-474 813,-474\"/>\n",
       "<text text-anchor=\"start\" x=\"824\" y=\"-489.8\" font-family=\"Times New Roman,serif\" font-weight=\"bold\" font-size=\"14.00\">Key</text>\n",
       "<text text-anchor=\"start\" x=\"849\" y=\"-489.8\" font-family=\"Times New Roman,serif\" font-size=\"14.00\">  CompetitorOutletId </text>\n",
       "<text text-anchor=\"start\" x=\"970\" y=\"-489.8\" font-family=\"Times New Roman,serif\" font-style=\"italic\" font-size=\"14.00\">int</text>\n",
       "<text text-anchor=\"start\" x=\"986\" y=\"-489.8\" font-family=\"Times New Roman,serif\" font-size=\"14.00\"> </text>\n",
       "<polygon fill=\"none\" stroke=\"black\" points=\"813,-437 813,-474 1037,-474 1037,-437 813,-437\"/>\n",
       "<text text-anchor=\"start\" x=\"824\" y=\"-452.8\" font-family=\"Times New Roman,serif\" font-size=\"14.00\">CompetitorOutletName </text>\n",
       "<text text-anchor=\"start\" x=\"958\" y=\"-452.8\" font-family=\"Times New Roman,serif\" font-style=\"italic\" font-size=\"14.00\">String</text>\n",
       "<text text-anchor=\"start\" x=\"994\" y=\"-452.8\" font-family=\"Times New Roman,serif\" font-size=\"14.00\"> </text>\n",
       "<polygon fill=\"none\" stroke=\"black\" points=\"813,-400 813,-437 1037,-437 1037,-400 813,-400\"/>\n",
       "<text text-anchor=\"start\" x=\"824\" y=\"-415.8\" font-family=\"Times New Roman,serif\" font-size=\"14.00\">CompetitorOutletAdress </text>\n",
       "<text text-anchor=\"start\" x=\"966\" y=\"-415.8\" font-family=\"Times New Roman,serif\" font-style=\"italic\" font-size=\"14.00\">String</text>\n",
       "<text text-anchor=\"start\" x=\"1002\" y=\"-415.8\" font-family=\"Times New Roman,serif\" font-size=\"14.00\"> </text>\n",
       "<polygon fill=\"none\" stroke=\"black\" points=\"813,-363 813,-400 1037,-400 1037,-363 813,-363\"/>\n",
       "<text text-anchor=\"start\" x=\"824\" y=\"-378.8\" font-family=\"Times New Roman,serif\" font-size=\"14.00\">CompetitorOutletZipCode </text>\n",
       "<text text-anchor=\"start\" x=\"975\" y=\"-378.8\" font-family=\"Times New Roman,serif\" font-style=\"italic\" font-size=\"14.00\">long</text>\n",
       "<text text-anchor=\"start\" x=\"1001\" y=\"-378.8\" font-family=\"Times New Roman,serif\" font-size=\"14.00\"> </text>\n",
       "<polygon fill=\"none\" stroke=\"black\" points=\"813,-326 813,-363 1037,-363 1037,-326 813,-326\"/>\n",
       "<text text-anchor=\"start\" x=\"824\" y=\"-341.8\" font-family=\"Times New Roman,serif\" font-size=\"14.00\">CompetitorOutletCity </text>\n",
       "<text text-anchor=\"start\" x=\"949\" y=\"-341.8\" font-family=\"Times New Roman,serif\" font-style=\"italic\" font-size=\"14.00\">String</text>\n",
       "<text text-anchor=\"start\" x=\"985\" y=\"-341.8\" font-family=\"Times New Roman,serif\" font-size=\"14.00\"> </text>\n",
       "<polygon fill=\"none\" stroke=\"black\" points=\"813,-289 813,-326 1037,-326 1037,-289 813,-289\"/>\n",
       "<text text-anchor=\"start\" x=\"824\" y=\"-304.8\" font-family=\"Times New Roman,serif\" font-size=\"14.00\">CompetitorOutletCountry </text>\n",
       "<text text-anchor=\"start\" x=\"972\" y=\"-304.8\" font-family=\"Times New Roman,serif\" font-style=\"italic\" font-size=\"14.00\">String</text>\n",
       "<text text-anchor=\"start\" x=\"1008\" y=\"-304.8\" font-family=\"Times New Roman,serif\" font-size=\"14.00\"> </text>\n",
       "<polygon fill=\"none\" stroke=\"black\" points=\"813,-252 813,-289 1037,-289 1037,-252 813,-252\"/>\n",
       "<text text-anchor=\"start\" x=\"824\" y=\"-267.8\" font-family=\"Times New Roman,serif\" font-size=\"14.00\">CompetitorOutletLatitude </text>\n",
       "<text text-anchor=\"start\" x=\"971\" y=\"-267.8\" font-family=\"Times New Roman,serif\" font-style=\"italic\" font-size=\"14.00\">double</text>\n",
       "<text text-anchor=\"start\" x=\"1011\" y=\"-267.8\" font-family=\"Times New Roman,serif\" font-size=\"14.00\"> </text>\n",
       "<polygon fill=\"none\" stroke=\"black\" points=\"813,-215 813,-252 1037,-252 1037,-215 813,-215\"/>\n",
       "<text text-anchor=\"start\" x=\"824\" y=\"-230.8\" font-family=\"Times New Roman,serif\" font-size=\"14.00\">CompetitorOutletLongitude </text>\n",
       "<text text-anchor=\"start\" x=\"982\" y=\"-230.8\" font-family=\"Times New Roman,serif\" font-style=\"italic\" font-size=\"14.00\">double</text>\n",
       "<text text-anchor=\"start\" x=\"1022\" y=\"-230.8\" font-family=\"Times New Roman,serif\" font-size=\"14.00\"> </text>\n",
       "<polygon fill=\"none\" stroke=\"black\" points=\"813,-178 813,-215 1037,-215 1037,-178 813,-178\"/>\n",
       "<text text-anchor=\"start\" x=\"824\" y=\"-193.8\" font-family=\"Times New Roman,serif\" font-size=\"14.00\">CompetitorOutletCompany </text>\n",
       "<text text-anchor=\"start\" x=\"981\" y=\"-193.8\" font-family=\"Times New Roman,serif\" font-style=\"italic\" font-size=\"14.00\">String</text>\n",
       "<text text-anchor=\"start\" x=\"1017\" y=\"-193.8\" font-family=\"Times New Roman,serif\" font-size=\"14.00\"> </text>\n",
       "</g>\n",
       "<!-- CompetitorPrices&#45;&gt;CompetitorsOutlet -->\n",
       "<g id=\"edge5\" class=\"edge\"><title>CompetitorPrices-&gt;CompetitorsOutlet</title>\n",
       "<path fill=\"none\" stroke=\"black\" d=\"M528.174,-249.111C605.163,-271.262 711.679,-301.91 794.825,-325.833\"/>\n",
       "<polygon fill=\"black\" stroke=\"black\" points=\"794.01,-329.24 804.588,-328.642 795.946,-322.513 794.01,-329.24\"/>\n",
       "<text text-anchor=\"middle\" x=\"666.5\" y=\"-323.8\" font-family=\"Times New Roman,serif\" font-size=\"14.00\">CompetitorOutletId → CompetitorOutletId</text>\n",
       "</g>\n",
       "<!-- DistanceMatrix -->\n",
       "<g id=\"node6\" class=\"node\"><title>DistanceMatrix</title>\n",
       "<polygon fill=\"none\" stroke=\"black\" points=\"821,-115 821,-152 1030,-152 1030,-115 821,-115\"/>\n",
       "<text text-anchor=\"start\" x=\"877.5\" y=\"-130.8\" font-family=\"Times New Roman,serif\" font-weight=\"bold\" font-size=\"14.00\">DistanceMatrix</text>\n",
       "<polygon fill=\"none\" stroke=\"black\" points=\"821,-78 821,-115 1030,-115 1030,-78 821,-78\"/>\n",
       "<text text-anchor=\"start\" x=\"832\" y=\"-93.8\" font-family=\"Times New Roman,serif\" font-weight=\"bold\" font-size=\"14.00\">Key</text>\n",
       "<text text-anchor=\"start\" x=\"857\" y=\"-93.8\" font-family=\"Times New Roman,serif\" font-size=\"14.00\">  OutletId </text>\n",
       "<text text-anchor=\"start\" x=\"915\" y=\"-93.8\" font-family=\"Times New Roman,serif\" font-style=\"italic\" font-size=\"14.00\">int</text>\n",
       "<text text-anchor=\"start\" x=\"931\" y=\"-93.8\" font-family=\"Times New Roman,serif\" font-size=\"14.00\"> </text>\n",
       "<polygon fill=\"none\" stroke=\"black\" points=\"821,-41 821,-78 1030,-78 1030,-41 821,-41\"/>\n",
       "<text text-anchor=\"start\" x=\"832\" y=\"-56.8\" font-family=\"Times New Roman,serif\" font-weight=\"bold\" font-size=\"14.00\">Key</text>\n",
       "<text text-anchor=\"start\" x=\"857\" y=\"-56.8\" font-family=\"Times New Roman,serif\" font-size=\"14.00\">  CompetitorOutletId </text>\n",
       "<text text-anchor=\"start\" x=\"978\" y=\"-56.8\" font-family=\"Times New Roman,serif\" font-style=\"italic\" font-size=\"14.00\">int</text>\n",
       "<text text-anchor=\"start\" x=\"994\" y=\"-56.8\" font-family=\"Times New Roman,serif\" font-size=\"14.00\"> </text>\n",
       "<polygon fill=\"none\" stroke=\"black\" points=\"821,-4 821,-41 1030,-41 1030,-4 821,-4\"/>\n",
       "<text text-anchor=\"start\" x=\"832\" y=\"-19.8\" font-family=\"Times New Roman,serif\" font-size=\"14.00\">Competitor distance KM </text>\n",
       "<text text-anchor=\"start\" x=\"975\" y=\"-19.8\" font-family=\"Times New Roman,serif\" font-style=\"italic\" font-size=\"14.00\">double</text>\n",
       "<text text-anchor=\"start\" x=\"1015\" y=\"-19.8\" font-family=\"Times New Roman,serif\" font-size=\"14.00\"> </text>\n",
       "</g>\n",
       "<!-- CompetitorPrices&#45;&gt;DistanceMatrix -->\n",
       "<g id=\"edge4\" class=\"edge\"><title>CompetitorPrices-&gt;DistanceMatrix</title>\n",
       "<path fill=\"none\" stroke=\"black\" d=\"M528.174,-191.093C607.484,-168.433 718.127,-136.821 802.278,-112.778\"/>\n",
       "<polygon fill=\"black\" stroke=\"black\" points=\"803.492,-116.071 812.146,-109.958 801.569,-109.34 803.492,-116.071\"/>\n",
       "<text text-anchor=\"middle\" x=\"666.5\" y=\"-203.8\" font-family=\"Times New Roman,serif\" font-size=\"14.00\">OutletId → OutletId</text>\n",
       "<text text-anchor=\"middle\" x=\"666.5\" y=\"-188.8\" font-family=\"Times New Roman,serif\" font-size=\"14.00\">CompetitorOutletId → CompetitorOutletId</text>\n",
       "</g>\n",
       "</g>\n",
       "</svg>"
      ],
      "text/plain": [
       "<IPython.core.display.SVG object>"
      ]
     },
     "execution_count": 19,
     "metadata": {},
     "output_type": "execute_result"
    }
   ],
   "source": [
    "price_index_cube.schema"
   ]
  },
  {
   "cell_type": "code",
   "execution_count": 20,
   "metadata": {},
   "outputs": [],
   "source": [
    "h = price_index_cube.hierarchies\n",
    "m = price_index_cube.measures\n",
    "lvl = price_index_cube.levels"
   ]
  },
  {
   "cell_type": "code",
   "execution_count": 21,
   "metadata": {},
   "outputs": [
    {
     "data": {
      "application/json": {
       "Competitor distance KM.VALUE": {
        "formatter": "DOUBLE[#,###.00]",
        "visible": true
       },
       "CompetitorOutletLatitude.VALUE": {
        "formatter": "DOUBLE[#,###.00]",
        "visible": true
       },
       "CompetitorOutletLongitude.VALUE": {
        "formatter": "DOUBLE[#,###.00]",
        "visible": true
       },
       "CompetitorPrice.VALUE": {
        "formatter": "DOUBLE[#,###.00]",
        "visible": true
       },
       "Latitude.VALUE": {
        "formatter": "DOUBLE[#,###.00]",
        "visible": true
       },
       "Longitude.VALUE": {
        "formatter": "DOUBLE[#,###.00]",
        "visible": true
       },
       "Margin.MEAN": {
        "formatter": "DOUBLE[#,###.00]",
        "visible": true
       },
       "Margin.SUM": {
        "formatter": "DOUBLE[#,###.00]",
        "visible": true
       },
       "SellingPrice.MEAN": {
        "formatter": "DOUBLE[#,###.00]",
        "visible": true
       },
       "SellingPrice.SUM": {
        "formatter": "DOUBLE[#,###.00]",
        "visible": true
       },
       "contributors.COUNT": {
        "formatter": null,
        "visible": true
       }
      },
      "text/html": [
       "<ul>\n",
       "<li>Measures\n",
       "  <ul>\n",
       "  <li>Competitor distance KM.VALUE\n",
       "    <ul>\n",
       "    <li>formatter: DOUBLE[#,###.00]</li>\n",
       "    <li>visible: True</li>\n",
       "    </ul>\n",
       "  </li>\n",
       "  <li>CompetitorOutletLatitude.VALUE\n",
       "    <ul>\n",
       "    <li>formatter: DOUBLE[#,###.00]</li>\n",
       "    <li>visible: True</li>\n",
       "    </ul>\n",
       "  </li>\n",
       "  <li>CompetitorOutletLongitude.VALUE\n",
       "    <ul>\n",
       "    <li>formatter: DOUBLE[#,###.00]</li>\n",
       "    <li>visible: True</li>\n",
       "    </ul>\n",
       "  </li>\n",
       "  <li>CompetitorPrice.VALUE\n",
       "    <ul>\n",
       "    <li>formatter: DOUBLE[#,###.00]</li>\n",
       "    <li>visible: True</li>\n",
       "    </ul>\n",
       "  </li>\n",
       "  <li>Latitude.VALUE\n",
       "    <ul>\n",
       "    <li>formatter: DOUBLE[#,###.00]</li>\n",
       "    <li>visible: True</li>\n",
       "    </ul>\n",
       "  </li>\n",
       "  <li>Longitude.VALUE\n",
       "    <ul>\n",
       "    <li>formatter: DOUBLE[#,###.00]</li>\n",
       "    <li>visible: True</li>\n",
       "    </ul>\n",
       "  </li>\n",
       "  <li>Margin.MEAN\n",
       "    <ul>\n",
       "    <li>formatter: DOUBLE[#,###.00]</li>\n",
       "    <li>visible: True</li>\n",
       "    </ul>\n",
       "  </li>\n",
       "  <li>Margin.SUM\n",
       "    <ul>\n",
       "    <li>formatter: DOUBLE[#,###.00]</li>\n",
       "    <li>visible: True</li>\n",
       "    </ul>\n",
       "  </li>\n",
       "  <li>SellingPrice.MEAN\n",
       "    <ul>\n",
       "    <li>formatter: DOUBLE[#,###.00]</li>\n",
       "    <li>visible: True</li>\n",
       "    </ul>\n",
       "  </li>\n",
       "  <li>SellingPrice.SUM\n",
       "    <ul>\n",
       "    <li>formatter: DOUBLE[#,###.00]</li>\n",
       "    <li>visible: True</li>\n",
       "    </ul>\n",
       "  </li>\n",
       "  <li>contributors.COUNT\n",
       "    <ul>\n",
       "    <li>formatter: None</li>\n",
       "    <li>visible: True</li>\n",
       "    </ul>\n",
       "  </li>\n",
       "  </ul>\n",
       "</li>\n",
       "</ul>\n"
      ],
      "text/plain": [
       "Measures()"
      ]
     },
     "execution_count": 21,
     "metadata": {
      "application/json": {
       "expanded": false,
       "root": "Measures"
      }
     },
     "output_type": "execute_result"
    }
   ],
   "source": [
    "m"
   ]
  },
  {
   "cell_type": "markdown",
   "metadata": {},
   "source": [
    "We can see a _SUM_ and _MEAN_ measure is created columns of type double/float for the base store - _ProductSales_.  \n",
    "A _VALUE_ measure is created for columns of type double/float in the other referenced stores.  \n",
    "\n",
    "With the cube created, let's start by computing the price index per outlet."
   ]
  },
  {
   "cell_type": "markdown",
   "metadata": {},
   "source": [
    "### 1. Computing the price index per outlet\n",
    "\n",
    "There are different existing formulas for the price index but the idea behind is always the same: the price index is a measurement of where a retailer is positioned compared to one or multiple of its competitors.\n",
    "\n",
    "The formula we will use in this example compares a product price to the average price found among the local competitors of a particular outlet, measuring at which percentage of this average competitors price the product is.\n",
    "\n",
    "We will weight the price index indicator by the margin when aggregating above outlet and product level. This is so that we can later optimize the price index for products that contribute the most to the margin. Other commonly used formulas weight by sales quantity or revenue.\n",
    "\n",
    "#### Price index formula:\n",
    "\n",
    "# $100 \\times \\frac{\\sum_{o,p \\in (Outlets,Products)}\\frac{Selling Price(o,p)}{Average Competitor Price(o,p)} \\times Margin(o,p)}{\\sum_{o,p \\in (Outlets,Products)}Margin(o,p)}$  \n",
    "\n",
    "Let's create a measure to get the mean of _CompetitorPrice_ which will be used to derive the price index."
   ]
  },
  {
   "cell_type": "code",
   "execution_count": 22,
   "metadata": {},
   "outputs": [
    {
     "data": {
      "text/html": [
       "<div>\n",
       "<style scoped>\n",
       "    .dataframe tbody tr th:only-of-type {\n",
       "        vertical-align: middle;\n",
       "    }\n",
       "\n",
       "    .dataframe tbody tr th {\n",
       "        vertical-align: top;\n",
       "    }\n",
       "\n",
       "    .dataframe thead th {\n",
       "        text-align: right;\n",
       "    }\n",
       "</style>\n",
       "<table border=\"1\" class=\"dataframe\">\n",
       "  <thead>\n",
       "    <tr style=\"text-align: right;\">\n",
       "      <th></th>\n",
       "      <th>CompetitorPrice.MEAN</th>\n",
       "    </tr>\n",
       "  </thead>\n",
       "  <tbody>\n",
       "    <tr>\n",
       "      <th>0</th>\n",
       "      <td>4.619731</td>\n",
       "    </tr>\n",
       "  </tbody>\n",
       "</table>\n",
       "</div>"
      ],
      "text/plain": [
       "   CompetitorPrice.MEAN\n",
       "0              4.619731"
      ]
     },
     "execution_count": 22,
     "metadata": {},
     "output_type": "execute_result"
    }
   ],
   "source": [
    "m[\"CompetitorPrice.MEAN\"] = tt.agg.mean(m[\"CompetitorPrice.VALUE\"])\n",
    "m[\"CompetitorPrice.MEAN\"].formatter = \"DOUBLE[#,###.00]\"\n",
    "\n",
    "price_index_cube.query(m[\"CompetitorPrice.MEAN\"])"
   ]
  },
  {
   "cell_type": "markdown",
   "metadata": {},
   "source": [
    "We see how the weight price index indicator can be achieved in the next few cells.  \n",
    "Realize how we are setting the scope on _ProductId_ and _OutletId_? This will ensure the summation of the various measures at the _Outlets_ and _Product_ level as required by the formula.\n",
    "\n",
    "# ${\\sum_{o,p \\in (Outlets,Products)}\\frac{Selling Price(o,p)}{Average Competitor Price(o,p)} \\times Margin(o,p)}$"
   ]
  },
  {
   "cell_type": "code",
   "execution_count": 23,
   "metadata": {},
   "outputs": [],
   "source": [
    "price_index_numerator = tt.agg.sum(\n",
    "    (m[\"SellingPrice.MEAN\"] * m[\"Margin.SUM\"]) / m[\"CompetitorPrice.MEAN\"],\n",
    "    scope=tt.scope.origin(lvl[\"ProductId\"], lvl[\"OutletId\"]),\n",
    ")"
   ]
  },
  {
   "cell_type": "markdown",
   "metadata": {},
   "source": [
    "Finally, we calculate the contribution of the product towards the total margin."
   ]
  },
  {
   "cell_type": "code",
   "execution_count": 24,
   "metadata": {},
   "outputs": [],
   "source": [
    "m[\"Price Index\"] = price_index_numerator / m[\"Margin.SUM\"]"
   ]
  },
  {
   "cell_type": "markdown",
   "metadata": {},
   "source": [
    "We can now have the price index per outlet and product.  \n",
    "As we are currently in sampling mode, let's trigger full data load to do some visualizations."
   ]
  },
  {
   "cell_type": "code",
   "execution_count": 25,
   "metadata": {},
   "outputs": [],
   "source": [
    "session.load_all_data()"
   ]
  },
  {
   "cell_type": "markdown",
   "metadata": {},
   "source": [
    "Let's visualize the price index per outlet."
   ]
  },
  {
   "cell_type": "code",
   "execution_count": 27,
   "metadata": {
    "atoti": {
     "height": 415,
     "state": {
      "name": "Price index by outlets",
      "type": "container",
      "value": {
       "body": {
        "configuration": {
         "tabular": {
          "addButtonFilter": "numeric",
          "cellRenderers": [
           "tree-layout"
          ],
          "columnOrder": {
           "args": {
            "orderedColumns": [
             "c-treeCells-member",
             "[Measures].[Price Index]"
            ]
           },
           "key": "explicit"
          },
          "columns": [],
          "columnsGroups": [
           {
            "captionProducer": "firstColumn",
            "cellFactory": "kpi-status",
            "selector": "kpi-status"
           },
           {
            "captionProducer": "firstColumn",
            "cellFactory": "lookup",
            "selector": "lookup"
           },
           {
            "captionProducer": "expiry",
            "cellFactory": "expiry",
            "selector": "kpi-expiry"
           },
           {
            "captionProducer": "columnMerge",
            "cellFactory": {
             "args": {},
             "key": "treeCells"
            },
            "selector": "member"
           }
          ],
          "defaultOptions": {},
          "expansion": {
           "automaticExpansion": true
          },
          "hideAddButton": true,
          "pinnedHeaderSelector": "member",
          "sortingMode": "non-breaking",
          "statisticsShown": true
         }
        },
        "contextValues": {},
        "mdx": "SELECT NON EMPTY Order(Hierarchize(Crossjoin(Hierarchize(DrilldownLevel([Hierarchies].[OutletId].[ALL].[AllMember])), Hierarchize(DrilldownLevel([Hierarchies].[OutletName].[ALL].[AllMember])))), [Measures].[Price Index], DESC) ON ROWS, NON EMPTY {[Measures].[Price Index], [Measures].[SellingPrice.MEAN], [Measures].[CompetitorPrice.MEAN]} ON COLUMNS FROM [PriceIndexCube] CELL PROPERTIES VALUE, FORMATTED_VALUE, BACK_COLOR, FORE_COLOR, FONT_FLAGS",
        "ranges": {
         "column": {
          "chunkSize": 50,
          "thresholdPercentage": 0.2
         },
         "row": {
          "chunkSize": 2000,
          "thresholdPercentage": 0.1
         }
        },
        "serverUrl": "",
        "updateMode": "once"
       },
       "containerKey": "pivot-table",
       "showTitleBar": false,
       "style": {}
      }
     }
    }
   },
   "outputs": [
    {
     "data": {
      "application/vnd.atoti.v0+json": {
       "cube": "PriceIndexCube",
       "name": "Price index by outlets",
       "session": "Unnamed"
      },
      "text/plain": [
       "Install and enable the atoti JupyterLab extension to see this widget."
      ]
     },
     "metadata": {},
     "output_type": "display_data"
    }
   ],
   "source": [
    "price_index_cube.visualize(\"Price index by outlets\")"
   ]
  },
  {
   "cell_type": "markdown",
   "metadata": {},
   "source": [
    "### 2. Computing number of Competitors per Distance Bucket  \n",
    "\n",
    "There are many ways to do compute the number of competitors per distance buckets. However, we are going to showcase how we can make use of the [`single_value`](https://docs.atoti.io/0.4.1/lib/atoti.html?highlight=single_value#atoti.agg.single_value) function and simulations to create the distance buckets.  \n",
    "\n",
    "Let's create a measure call `m[\"Threshold]` that contains the value for the distance bucket and we start by looking at the number of competitors within 1km distance radius from our outlet."
   ]
  },
  {
   "cell_type": "code",
   "execution_count": 27,
   "metadata": {},
   "outputs": [],
   "source": [
    "m[\"Threshold\"] = 1"
   ]
  },
  {
   "cell_type": "markdown",
   "metadata": {},
   "source": [
    "Due to the join to the _CompetitorsPrice_ store, the `m[\"Contributor.COUNT]` returned is based on the products.\n",
    "We want to obtain the number of distinct competitors' outlets that sell the same products as us, not the number of products.  "
   ]
  },
  {
   "cell_type": "code",
   "execution_count": 28,
   "metadata": {},
   "outputs": [],
   "source": [
    "m[\"Nr Competitors\"] = tt.agg.single_value(\n",
    "    tt.agg.count_distinct(competitorPrices[\"CompetitorOutletId\"]),\n",
    "    scope=tt.scope.origin(lvl[\"ProductId\"]),\n",
    ")"
   ]
  },
  {
   "cell_type": "markdown",
   "metadata": {},
   "source": [
    "We can now use the `where` condition to return the number of distinct competitors selling the same products and is located within our threshold radius."
   ]
  },
  {
   "cell_type": "code",
   "execution_count": 29,
   "metadata": {},
   "outputs": [],
   "source": [
    "m[\"Distance<Thresh\"] = tt.agg.single_value(\n",
    "    tt.where(\n",
    "        m[\"Competitor distance KM.VALUE\"] < m[\"Threshold\"], m[\"Nr Competitors\"], 0\n",
    "    ),\n",
    "    scope=tt.scope.origin(lvl[\"ProductId\"]),\n",
    ")\n",
    "\n",
    "m[\"Competitors<Thresh\"] = tt.agg.sum(\n",
    "    m[\"Distance<Thresh\"], scope=tt.scope.origin(lvl[\"CompetitorOutletId\"])\n",
    ")"
   ]
  },
  {
   "cell_type": "markdown",
   "metadata": {},
   "source": [
    "Naturally we can quickly use Pandas to derive the same value. However, when we use this one time setup together with simulations, we have the below benefits:\n",
    "- easily add / delete the distance buckets\n",
    "- ability to drill down on the data for each distance range to perform further analysis\n",
    "\n",
    "#### Setting up simulation for distance buckets\n",
    "We setup a simulation where we can replace the threshold value in order to be able to create scenarios for other ranges of distance.  \n",
    "We name this base scenario \"1 KM\"."
   ]
  },
  {
   "cell_type": "code",
   "execution_count": 30,
   "metadata": {},
   "outputs": [],
   "source": [
    "simulation = price_index_cube.setup_simulation(\n",
    "    \"Distance Simulation\", base_scenario=\"1 KM\", replace=[m[\"Threshold\"]]\n",
    ")\n",
    "\n",
    "lvl[\"Distance Simulation\"].comparator = tt.comparator.ASC"
   ]
  },
  {
   "cell_type": "markdown",
   "metadata": {},
   "source": [
    "We can now easily obtain the number of competitors per area simply by creating a scenario for each distance radius.  \n",
    "Let's start with the nearby competitors."
   ]
  },
  {
   "cell_type": "code",
   "execution_count": 31,
   "metadata": {},
   "outputs": [],
   "source": [
    "simulation.scenarios[\"5 KM\"] = 5\n",
    "simulation.scenarios[\"10 KM\"] = 10\n",
    "simulation.scenarios[\"15 KM\"] = 15\n",
    "simulation.scenarios[\"20 KM\"] = 20"
   ]
  },
  {
   "cell_type": "markdown",
   "metadata": {},
   "source": [
    "Let's do a quick data-viz to see how the number of competitors varies by the distance."
   ]
  },
  {
   "cell_type": "code",
   "execution_count": 33,
   "metadata": {
    "atoti": {
     "height": 468,
     "state": {
      "name": "Nr of competitors stacked by distance bucket",
      "type": "container",
      "value": {
       "body": {
        "configuration": {
         "mapping": {
          "horizontalSubplots": [],
          "stackBy": [
           "[Measure Simulations].[Distance Simulation].[Distance Simulation]"
          ],
          "values": [
           "[Measures].[Competitors<Thresh]"
          ],
          "verticalSubplots": [],
          "xAxis": [
           "[Hierarchies].[OutletName].[OutletName]",
           "[Hierarchies].[OutletId].[OutletId]"
          ]
         },
         "plotly": {
          "layout": {
           "xaxis": {
            "tickangle": "-45"
           },
           "yaxis": {
            "title": "Number of Competitors"
           }
          }
         },
         "type": "plotly-stacked-column-chart"
        },
        "query": {
         "mdx": "WITH  Member [Measures].[[Hierarchies]].[OutletId]].[OutletId]]_for_order] AS [Hierarchies].[OutletId].CurrentMember.MEMBER_VALUE  SELECT NON EMPTY Order(Crossjoin([Hierarchies].[OutletName].[OutletName].Members, [Measure Simulations].[Distance Simulation].[Distance Simulation].Members, [Hierarchies].[OutletId].[OutletId].Members), [Measures].[[Hierarchies]].[OutletId]].[OutletId]]_for_order], BASC) ON ROWS, NON EMPTY [Measures].[Competitors<Thresh] ON COLUMNS FROM [PriceIndexCube] CELL PROPERTIES BACK_COLOR, FONT_FLAGS, FORE_COLOR, FORMATTED_VALUE, VALUE",
         "serverUrl": "",
         "updateMode": "once"
        }
       },
       "containerKey": "chart",
       "showTitleBar": false,
       "style": {}
      }
     }
    }
   },
   "outputs": [
    {
     "data": {
      "application/vnd.atoti.v0+json": {
       "cube": "PriceIndexCube",
       "name": "Nr of competitors stacked by distance bucket",
       "session": "Unnamed"
      },
      "text/plain": [
       "Install and enable the atoti JupyterLab extension to see this widget."
      ]
     },
     "metadata": {},
     "output_type": "display_data"
    }
   ],
   "source": [
    "price_index_cube.visualize(\"Nr of competitors stacked by distance bucket\")"
   ]
  },
  {
   "cell_type": "markdown",
   "metadata": {},
   "source": [
    "How do we systematically make use of this information?   \n",
    "Let's create a function that outputs data from the cube for the machine learning."
   ]
  },
  {
   "cell_type": "code",
   "execution_count": 34,
   "metadata": {},
   "outputs": [],
   "source": [
    "def get_features():\n",
    "    # output dataframe for competitors count per area from cube querying\n",
    "    outlets_competitors_count_per_area = price_index_cube.query(\n",
    "        m[\"Competitors<Thresh\"], levels=[lvl[\"OutletId\"], lvl[\"Distance Simulation\"]],\n",
    "    ).reset_index()\n",
    "\n",
    "    # pivot the table such that each scenario becomes a column\n",
    "    outlets_competitors_count_per_area = outlets_competitors_count_per_area.pivot(\n",
    "        index=\"OutletId\", columns=\"Distance Simulation\", values=\"Competitors<Thresh\"\n",
    "    )\n",
    "\n",
    "    # output dataframe for price index by outlet from cube querying\n",
    "    price_index_per_outlet = price_index_cube.query(\n",
    "        m[\"Price Index\"], levels=[lvl[\"OutletId\"]]\n",
    "    ).reset_index()\n",
    "\n",
    "    # merge the 2 dataframe and return the output\n",
    "    outlets_features = pd.merge(\n",
    "        outlets_competitors_count_per_area,\n",
    "        price_index_per_outlet,\n",
    "        left_on=\"OutletId\",\n",
    "        right_on=\"OutletId\",\n",
    "        how=\"left\",\n",
    "    ).set_index(\"OutletId\")\n",
    "\n",
    "    return outlets_features"
   ]
  },
  {
   "cell_type": "markdown",
   "metadata": {},
   "source": [
    "## ML - Outlets clustering using price index and competitors number features\n",
    "We can use a machine algorithm such as k-means to make clusters with the features (1 KM, 5KM, 10KM, 15KM, 20KM, Price Index) that we can obtain from the cube.\n",
    "\n",
    "In this part we will use the previously calculated features (nr of competitor outlets and price index) to generate 5 clusters of outlets.  \n",
    "We will now use those clusters to generate new prices and assess whether we have managed to improve our pricing."
   ]
  },
  {
   "cell_type": "code",
   "execution_count": 35,
   "metadata": {},
   "outputs": [],
   "source": [
    "%matplotlib inline\n",
    "import matplotlib.pyplot as plt\n",
    "import numpy as np\n",
    "import pandas as pd\n",
    "import scipy as sc\n",
    "import seaborn as sns\n",
    "from sklearn.cluster import KMeans, MiniBatchKMeans\n",
    "from sklearn.metrics import pairwise_distances_argmin\n",
    "\n",
    "sns.set()  # for plot styling"
   ]
  },
  {
   "cell_type": "markdown",
   "metadata": {},
   "source": [
    "Let's get the price index and the number of competitors per area for each outlet.   "
   ]
  },
  {
   "cell_type": "code",
   "execution_count": 36,
   "metadata": {},
   "outputs": [
    {
     "data": {
      "text/html": [
       "<div>\n",
       "<style scoped>\n",
       "    .dataframe tbody tr th:only-of-type {\n",
       "        vertical-align: middle;\n",
       "    }\n",
       "\n",
       "    .dataframe tbody tr th {\n",
       "        vertical-align: top;\n",
       "    }\n",
       "\n",
       "    .dataframe thead th {\n",
       "        text-align: right;\n",
       "    }\n",
       "</style>\n",
       "<table border=\"1\" class=\"dataframe\">\n",
       "  <thead>\n",
       "    <tr style=\"text-align: right;\">\n",
       "      <th></th>\n",
       "      <th>1 KM</th>\n",
       "      <th>10 KM</th>\n",
       "      <th>15 KM</th>\n",
       "      <th>20 KM</th>\n",
       "      <th>5 KM</th>\n",
       "      <th>Price Index</th>\n",
       "    </tr>\n",
       "    <tr>\n",
       "      <th>OutletId</th>\n",
       "      <th></th>\n",
       "      <th></th>\n",
       "      <th></th>\n",
       "      <th></th>\n",
       "      <th></th>\n",
       "      <th></th>\n",
       "    </tr>\n",
       "  </thead>\n",
       "  <tbody>\n",
       "    <tr>\n",
       "      <th>1</th>\n",
       "      <td>11</td>\n",
       "      <td>66</td>\n",
       "      <td>71</td>\n",
       "      <td>71</td>\n",
       "      <td>51</td>\n",
       "      <td>0.986389</td>\n",
       "    </tr>\n",
       "    <tr>\n",
       "      <th>2</th>\n",
       "      <td>5</td>\n",
       "      <td>61</td>\n",
       "      <td>71</td>\n",
       "      <td>71</td>\n",
       "      <td>46</td>\n",
       "      <td>1.043176</td>\n",
       "    </tr>\n",
       "    <tr>\n",
       "      <th>3</th>\n",
       "      <td>5</td>\n",
       "      <td>71</td>\n",
       "      <td>71</td>\n",
       "      <td>71</td>\n",
       "      <td>36</td>\n",
       "      <td>0.960006</td>\n",
       "    </tr>\n",
       "    <tr>\n",
       "      <th>4</th>\n",
       "      <td>5</td>\n",
       "      <td>61</td>\n",
       "      <td>66</td>\n",
       "      <td>71</td>\n",
       "      <td>31</td>\n",
       "      <td>0.969073</td>\n",
       "    </tr>\n",
       "    <tr>\n",
       "      <th>5</th>\n",
       "      <td>5</td>\n",
       "      <td>56</td>\n",
       "      <td>71</td>\n",
       "      <td>71</td>\n",
       "      <td>36</td>\n",
       "      <td>1.030924</td>\n",
       "    </tr>\n",
       "  </tbody>\n",
       "</table>\n",
       "</div>"
      ],
      "text/plain": [
       "          1 KM  10 KM  15 KM  20 KM  5 KM  Price Index\n",
       "OutletId                                              \n",
       "1           11     66     71     71    51     0.986389\n",
       "2            5     61     71     71    46     1.043176\n",
       "3            5     71     71     71    36     0.960006\n",
       "4            5     61     66     71    31     0.969073\n",
       "5            5     56     71     71    36     1.030924"
      ]
     },
     "execution_count": 36,
     "metadata": {},
     "output_type": "execute_result"
    }
   ],
   "source": [
    "outlets_features = get_features()\n",
    "outlets_features.head()"
   ]
  },
  {
   "cell_type": "markdown",
   "metadata": {},
   "source": [
    "Let's set the number of clusters needed as 5. The number of clusters can increase if the number of outlets is huge.  \n",
    "We apply the k-mean on the _outlets_feature_ from above."
   ]
  },
  {
   "cell_type": "code",
   "execution_count": 37,
   "metadata": {},
   "outputs": [],
   "source": [
    "number_of_clusters = 5\n",
    "kmeans = MiniBatchKMeans(number_of_clusters)\n",
    "kmeans.fit(outlets_features)\n",
    "new_colors = kmeans.cluster_centers_[kmeans.predict(outlets_features)]\n",
    "k_means_labels = pairwise_distances_argmin(outlets_features, kmeans.cluster_centers_)\n",
    "labels = KMeans(number_of_clusters, random_state=0).fit_predict(outlets_features)"
   ]
  },
  {
   "cell_type": "markdown",
   "metadata": {},
   "source": [
    "Using competitors within 1km as an example, we can now analyze the result of the clustering by pair of features using matplotlib as shown below:"
   ]
  },
  {
   "cell_type": "code",
   "execution_count": 38,
   "metadata": {},
   "outputs": [
    {
     "data": {
      "text/plain": [
       "Text(0, 0.5, 'Price Index')"
      ]
     },
     "execution_count": 38,
     "metadata": {},
     "output_type": "execute_result"
    },
    {
     "data": {
      "image/png": "[encoded data removed]",
      "text/plain": [
       "<Figure size 432x288 with 1 Axes>"
      ]
     },
     "metadata": {},
     "output_type": "display_data"
    }
   ],
   "source": [
    "plt.scatter(\n",
    "    outlets_features.loc[:, \"1 KM\"],\n",
    "    outlets_features.loc[:, \"Price Index\"],\n",
    "    c=k_means_labels,\n",
    "    s=50,\n",
    "    cmap=\"viridis\",\n",
    ")\n",
    "\n",
    "plt.xlabel(\"Nr Competitors within 1km\")\n",
    "plt.ylabel(\"Price Index\")"
   ]
  },
  {
   "cell_type": "markdown",
   "metadata": {},
   "source": [
    "In the above plot, each color represents a cluster. We can see that clusters seem to be strongly based on the number of competitors rather than on the price index.  \n",
    "However, to avoid having to plot every couple of features and understand more quickly what our clusters are, we will use seaborn to have a plot of the clustering result for every pair of features."
   ]
  },
  {
   "cell_type": "code",
   "execution_count": 39,
   "metadata": {},
   "outputs": [
    {
     "data": {
      "text/html": [
       "<div>\n",
       "<style scoped>\n",
       "    .dataframe tbody tr th:only-of-type {\n",
       "        vertical-align: middle;\n",
       "    }\n",
       "\n",
       "    .dataframe tbody tr th {\n",
       "        vertical-align: top;\n",
       "    }\n",
       "\n",
       "    .dataframe thead th {\n",
       "        text-align: right;\n",
       "    }\n",
       "</style>\n",
       "<table border=\"1\" class=\"dataframe\">\n",
       "  <thead>\n",
       "    <tr style=\"text-align: right;\">\n",
       "      <th></th>\n",
       "      <th>1 KM</th>\n",
       "      <th>10 KM</th>\n",
       "      <th>15 KM</th>\n",
       "      <th>20 KM</th>\n",
       "      <th>5 KM</th>\n",
       "      <th>Price Index</th>\n",
       "      <th>Cluster</th>\n",
       "    </tr>\n",
       "    <tr>\n",
       "      <th>OutletId</th>\n",
       "      <th></th>\n",
       "      <th></th>\n",
       "      <th></th>\n",
       "      <th></th>\n",
       "      <th></th>\n",
       "      <th></th>\n",
       "      <th></th>\n",
       "    </tr>\n",
       "  </thead>\n",
       "  <tbody>\n",
       "    <tr>\n",
       "      <th>1</th>\n",
       "      <td>11</td>\n",
       "      <td>66</td>\n",
       "      <td>71</td>\n",
       "      <td>71</td>\n",
       "      <td>51</td>\n",
       "      <td>0.986389</td>\n",
       "      <td>2</td>\n",
       "    </tr>\n",
       "    <tr>\n",
       "      <th>2</th>\n",
       "      <td>5</td>\n",
       "      <td>61</td>\n",
       "      <td>71</td>\n",
       "      <td>71</td>\n",
       "      <td>46</td>\n",
       "      <td>1.043176</td>\n",
       "      <td>2</td>\n",
       "    </tr>\n",
       "    <tr>\n",
       "      <th>3</th>\n",
       "      <td>5</td>\n",
       "      <td>71</td>\n",
       "      <td>71</td>\n",
       "      <td>71</td>\n",
       "      <td>36</td>\n",
       "      <td>0.960006</td>\n",
       "      <td>2</td>\n",
       "    </tr>\n",
       "    <tr>\n",
       "      <th>4</th>\n",
       "      <td>5</td>\n",
       "      <td>61</td>\n",
       "      <td>66</td>\n",
       "      <td>71</td>\n",
       "      <td>31</td>\n",
       "      <td>0.969073</td>\n",
       "      <td>2</td>\n",
       "    </tr>\n",
       "    <tr>\n",
       "      <th>5</th>\n",
       "      <td>5</td>\n",
       "      <td>56</td>\n",
       "      <td>71</td>\n",
       "      <td>71</td>\n",
       "      <td>36</td>\n",
       "      <td>1.030924</td>\n",
       "      <td>2</td>\n",
       "    </tr>\n",
       "  </tbody>\n",
       "</table>\n",
       "</div>"
      ],
      "text/plain": [
       "          1 KM  10 KM  15 KM  20 KM  5 KM  Price Index  Cluster\n",
       "OutletId                                                       \n",
       "1           11     66     71     71    51     0.986389        2\n",
       "2            5     61     71     71    46     1.043176        2\n",
       "3            5     71     71     71    36     0.960006        2\n",
       "4            5     61     66     71    31     0.969073        2\n",
       "5            5     56     71     71    36     1.030924        2"
      ]
     },
     "execution_count": 39,
     "metadata": {},
     "output_type": "execute_result"
    }
   ],
   "source": [
    "outlets_features[\"Cluster\"] = labels\n",
    "outlets_features.head(5)"
   ]
  },
  {
   "cell_type": "code",
   "execution_count": 40,
   "metadata": {},
   "outputs": [
    {
     "data": {
      "text/plain": [
       "<seaborn.axisgrid.PairGrid at 0x27683bbddc0>"
      ]
     },
     "execution_count": 40,
     "metadata": {},
     "output_type": "execute_result"
    },
    {
     "data": {
      "image/png": "[encoded data removed]",
      "text/plain": [
       "<Figure size 1126.92x1080 with 42 Axes>"
      ]
     },
     "metadata": {},
     "output_type": "display_data"
    }
   ],
   "source": [
    "sns.pairplot(data=outlets_features, hue=\"Cluster\")"
   ]
  },
  {
   "cell_type": "markdown",
   "metadata": {},
   "source": [
    "We can have a better understanding of the clusters with the chart above.  \n",
    "For example majority of the outlets below to cluster 0, having less than 5 competitors within 1km radius. This cluster generally has index pricing around 1.\n",
    "\n",
    "Continuing this analysis tells us that:\n",
    "- Cluster 0 is a small cluster that has slightly lower price index and most competitors are more than 10km away. \n",
    "- Cluster 1 is a big cluster with little competitors around.\n",
    "- Cluster 2 is slight skewed towards a higher price index than the rest while the number of competitors are generally higher even within 5km distance radius.\n",
    "- Cluster 3 is a small cluster and the number of competitors increases tremendously as the distance radius increases.\n",
    "- Cluster 4 has a relatively lower price index even though some of the outlets has price index closer to 1. Number of competitors remains about the same across all buckets.\n",
    "\n",
    "While this gives us an idea of how to position ourselves, we need to put these into context before we can decide on what pricing strategy to apply on it.  \n",
    "Let's load the new cluster back into the cube to have more in-depth analysis."
   ]
  },
  {
   "cell_type": "markdown",
   "metadata": {},
   "source": [
    "## Pricing simulations around clusters\n",
    "We will now generate new prices using the previous clusters in order to take into account the different competitiveness constraints of the outlets.  "
   ]
  },
  {
   "cell_type": "code",
   "execution_count": 41,
   "metadata": {},
   "outputs": [],
   "source": [
    "from utils import pricer"
   ]
  },
  {
   "cell_type": "markdown",
   "metadata": {},
   "source": [
    "Using the clusters generated, the below pricing method tries to reduce the prices if the competitiveness is strong, and on the contrary increase it if there is few competition.  \n",
    "For instance, cluster 0 and cluster 4 has little competition, hence their price index could be slightly higher than 1.  \n",
    "The rest of the clusters have more competitors within 10km radius, hence could have their price index at 1 or slightly lower to maintain their competitivity.  "
   ]
  },
  {
   "cell_type": "code",
   "execution_count": 42,
   "metadata": {},
   "outputs": [],
   "source": [
    "selling_prices_based_on_clusters = pricer.optimize_prices(\n",
    "    product_sales_df, outlets_features\n",
    ")"
   ]
  },
  {
   "cell_type": "markdown",
   "metadata": {},
   "source": [
    "Thanks to atoti built-in simulations capabilities, we can easily create a new scenario for the new pricing by directly loading the price-optimised dataframe.  \n",
    "All the previously defined KPIs, e.g. the price index, will be re-computed on the fly, enabling us to compare the scenarios and their benefits."
   ]
  },
  {
   "cell_type": "code",
   "execution_count": 43,
   "metadata": {},
   "outputs": [],
   "source": [
    "productSales.scenarios[\"Selling Price Clustering 1\"].load_pandas(\n",
    "    selling_prices_based_on_clusters\n",
    ")"
   ]
  },
  {
   "cell_type": "code",
   "execution_count": 45,
   "metadata": {
    "atoti": {
     "state": {
      "name": "",
      "type": "container",
      "value": {
       "body": {
        "configuration": {
         "tabular": {
          "addButtonFilter": "numeric",
          "cellRenderers": [
           "tree-layout"
          ],
          "columnOrder": {
           "args": {
            "orderedColumns": [
             "c-treeCells-member",
             "([Measures].[Price Index],[Epoch].[Epoch].[Branch].[Base])",
             "([Measures].[Price Index],[Epoch].[Epoch].[Branch].[Selling Price Clustering 1])"
            ]
           },
           "key": "explicit"
          },
          "columns": [
           {
            "key": "([Measures].[Price Index],[Epoch].[Epoch].[Branch].[Base])",
            "width": 168
           },
           {
            "key": "([Measures].[Price Index],[Epoch].[Epoch].[Branch].[Selling Price Clustering 1])",
            "width": 195
           },
           {
            "key": "([Measures].[Price Index],[Epoch].[Epoch].[Branch].[Difference])",
            "width": 127
           },
           {
            "key": "([Measures].[Price Index (1)],[Epoch].[Epoch].[Branch].[Selling Price Clustering 1])",
            "width": 195
           }
          ],
          "columnsGroups": [
           {
            "captionProducer": "firstColumn",
            "cellFactory": "kpi-status",
            "selector": "kpi-status"
           },
           {
            "captionProducer": "firstColumn",
            "cellFactory": "lookup",
            "selector": "lookup"
           },
           {
            "captionProducer": "expiry",
            "cellFactory": "expiry",
            "selector": "kpi-expiry"
           },
           {
            "captionProducer": "columnMerge",
            "cellFactory": {
             "args": {},
             "key": "treeCells"
            },
            "selector": "member"
           }
          ],
          "defaultOptions": {},
          "expansion": {
           "automaticExpansion": true
          },
          "hideAddButton": true,
          "pinnedHeaderSelector": "member",
          "sortingMode": "non-breaking",
          "statisticsShown": true
         }
        },
        "contextValues": {},
        "mdx": "WITH  Member [Epoch].[Epoch].[Difference] AS [Epoch].[Epoch].[Selling Price Clustering 1] - [Epoch].[Epoch].[Base], CAPTION = \"Difference\"    Member [Measures].[Price Index (1)] AS [Measures].[Price Index], FORE_COLOR = CASE WHEN [Measures].[Price Index (1)] < 0 THEN rgb(255, 0, 0) END, FORMAT_STRING = \"#,###.00\", CAPTION = [Measures].[Price Index].MEMBER_CAPTION  SELECT NON EMPTY Crossjoin([Measures].[Price Index (1)], Union([Epoch].[Epoch].[Branch].Members, [Epoch].[Epoch].[Difference])) ON COLUMNS, NON EMPTY Hierarchize(DrilldownLevel([Hierarchies].[OutletId].[ALL].[AllMember])) ON ROWS FROM [PriceIndexCube] CELL PROPERTIES BACK_COLOR, FONT_FLAGS, FORE_COLOR, FORMATTED_VALUE, VALUE",
        "ranges": {
         "column": {
          "chunkSize": 50,
          "thresholdPercentage": 0.2
         },
         "row": {
          "chunkSize": 2000,
          "thresholdPercentage": 0.1
         }
        },
        "serverUrl": "",
        "updateMode": "once"
       },
       "containerKey": "pivot-table",
       "showTitleBar": false,
       "style": {}
      }
     }
    }
   },
   "outputs": [
    {
     "data": {
      "application/vnd.atoti.v0+json": {
       "cube": "PriceIndexCube",
       "name": null,
       "session": "Unnamed"
      },
      "text/plain": [
       "Install and enable the atoti JupyterLab extension to see this widget."
      ]
     },
     "metadata": {},
     "output_type": "display_data"
    }
   ],
   "source": [
    "price_index_cube.visualize()"
   ]
  },
  {
   "cell_type": "markdown",
   "metadata": {
    "atoti": {
     "state": {
      "name": "",
      "type": "container",
      "value": {
       "body": {
        "configuration": {},
        "query": {
         "mdx": "SELECT FROM [PriceIndexCube] CELL PROPERTIES VALUE, FORMATTED_VALUE, BACK_COLOR, FORE_COLOR, FONT_FLAGS"
        }
       },
       "containerKey": "chart",
       "showTitleBar": false
      }
     }
    }
   },
   "source": [
    "Let's load the cluster results obtained from the machine learning model into the cube."
   ]
  },
  {
   "cell_type": "code",
   "execution_count": 46,
   "metadata": {},
   "outputs": [
    {
     "data": {
      "text/html": [
       "<div>\n",
       "<style scoped>\n",
       "    .dataframe tbody tr th:only-of-type {\n",
       "        vertical-align: middle;\n",
       "    }\n",
       "\n",
       "    .dataframe tbody tr th {\n",
       "        vertical-align: top;\n",
       "    }\n",
       "\n",
       "    .dataframe thead th {\n",
       "        text-align: right;\n",
       "    }\n",
       "</style>\n",
       "<table border=\"1\" class=\"dataframe\">\n",
       "  <thead>\n",
       "    <tr style=\"text-align: right;\">\n",
       "      <th></th>\n",
       "      <th>Cluster</th>\n",
       "    </tr>\n",
       "    <tr>\n",
       "      <th>OutletId</th>\n",
       "      <th></th>\n",
       "    </tr>\n",
       "  </thead>\n",
       "  <tbody>\n",
       "    <tr>\n",
       "      <th>1</th>\n",
       "      <td>2</td>\n",
       "    </tr>\n",
       "    <tr>\n",
       "      <th>2</th>\n",
       "      <td>2</td>\n",
       "    </tr>\n",
       "    <tr>\n",
       "      <th>3</th>\n",
       "      <td>2</td>\n",
       "    </tr>\n",
       "    <tr>\n",
       "      <th>4</th>\n",
       "      <td>2</td>\n",
       "    </tr>\n",
       "    <tr>\n",
       "      <th>5</th>\n",
       "      <td>2</td>\n",
       "    </tr>\n",
       "  </tbody>\n",
       "</table>\n",
       "</div>"
      ],
      "text/plain": [
       "          Cluster\n",
       "OutletId         \n",
       "1               2\n",
       "2               2\n",
       "3               2\n",
       "4               2\n",
       "5               2"
      ]
     },
     "execution_count": 46,
     "metadata": {},
     "output_type": "execute_result"
    }
   ],
   "source": [
    "clusters_df = outlets_features[[\"Cluster\"]].reset_index()\n",
    "clusters_df.OutletId = clusters_df.OutletId.astype(\"int32\")\n",
    "clusters = session.read_pandas(clusters_df, keys=[\"OutletId\"], store_name=\"Clusters\")\n",
    "\n",
    "clusters.head(5)"
   ]
  },
  {
   "cell_type": "code",
   "execution_count": 47,
   "metadata": {},
   "outputs": [],
   "source": [
    "outlets.join(clusters)"
   ]
  },
  {
   "cell_type": "markdown",
   "metadata": {},
   "source": [
    "Let's see the spread of the clusters on the map."
   ]
  },
  {
   "cell_type": "code",
   "execution_count": 49,
   "metadata": {
    "atoti": {
     "height": 417,
     "state": {
      "name": "Spread of clusters on map",
      "type": "container",
      "value": {
       "body": {
        "configuration": {
         "mapping": {
          "cardinality": {
           "from": [
            "[Hierarchies].[OutletName].[OutletName]"
           ]
          },
          "lat": {
           "from": "[Measures].[Latitude.VALUE]"
          },
          "long": {
           "from": "[Measures].[Longitude.VALUE]"
          },
          "pointColor": {
           "from": [
            "[Hierarchies].[Cluster].[Cluster]"
           ]
          },
          "pointStrokeColor": {
           "value": "rgb(153, 153, 153)"
          },
          "pointStrokeWidth": {
           "value": 1
          },
          "r": {
           "from": "[Measures].[Competitors<Thresh]"
          }
         },
         "type": "pointMap"
        },
        "isConnected": true,
        "query": {
         "mdx": "SELECT {[Measures].[Longitude.VALUE], [Measures].[Latitude.VALUE], [Measures].[Competitors<Thresh]} ON COLUMNS, NON EMPTY Crossjoin([Hierarchies].[OutletName].[OutletName].Members, [Hierarchies].[Cluster].[Cluster].Members) ON ROWS FROM [PriceIndexCube] CELL PROPERTIES VALUE, FORMATTED_VALUE, BACK_COLOR, FORE_COLOR, FONT_FLAGS",
         "serverUrl": "",
         "updateMode": "once"
        }
       },
       "containerKey": "chart",
       "showTitleBar": false,
       "style": {}
      }
     }
    }
   },
   "outputs": [
    {
     "data": {
      "application/vnd.atoti.v0+json": {
       "cube": "PriceIndexCube",
       "name": "Spread of clusters on map",
       "session": "Unnamed"
      },
      "text/plain": [
       "Install and enable the atoti JupyterLab extension to see this widget."
      ]
     },
     "metadata": {},
     "output_type": "display_data"
    }
   ],
   "source": [
    "price_index_cube.visualize(\"Spread of clusters on map\")"
   ]
  },
  {
   "cell_type": "markdown",
   "metadata": {},
   "source": [
    "Interestingly, cluster 1 is distributed all over France except Paris, and mostly they are the only outlet in the neighbourhood that is under our retailer.  \n",
    "Cluster 4 is a small cluster around Lille, the capital of the Hauts-de-France region in northern France.\n",
    "The rest of the clusters have outlets under our retailer in close proximity, and most of them spread around Paris.  \n",
    "The size of the points on the map reflects the number of competitors within 1km - we can see the competition around the city is the highest. \n",
    "\n",
    "In the case of cluster 1, the outlet is the only one under the retailer in the neighbourhood. The number of competitors is low, hence price index is less affected by competition.  \n",
    "Rather, other factors such as variety of products, branding etc could take on a heavier factor on the price index - these are to be considered when applying a pricing strategy for this cluster. Generally, the price index could be higher.\n",
    "\n",
    "For the rest of the clusters, there are a few considerations. Within the same proximity, the outlets face the same competitors.  \n",
    "Not only so, consumers can easily detect the price differences of products between the outlets of the same retailer if they are close by one another.  \n",
    "Hence it make more sense to align their price index and it should be slightly lower to push up its competitivity."
   ]
  },
  {
   "cell_type": "markdown",
   "metadata": {},
   "source": [
    "Now, let's visualize the changes in price index for the 5 clusters."
   ]
  },
  {
   "cell_type": "code",
   "execution_count": 51,
   "metadata": {
    "atoti": {
     "state": {
      "name": "Price index optimisation difference",
      "type": "container",
      "value": {
       "body": {
        "configuration": {
         "mapping": {
          "horizontalSubplots": [],
          "splitBy": [
           "[Epoch].[Epoch].[Branch]"
          ],
          "values": [
           "[Measures].[Price Index]"
          ],
          "verticalSubplots": [],
          "xAxis": [
           "[Hierarchies].[Cluster].[Cluster]"
          ]
         },
         "plotly": {
          "layout": {
           "xaxis": {
            "title": "Clusters"
           },
           "yaxis": {
            "title": "Price Index"
           }
          }
         },
         "type": "plotly-clustered-column-chart"
        },
        "query": {
         "mdx": "SELECT NON EMPTY Crossjoin([Hierarchies].[Cluster].[Cluster].Members, [Epoch].[Epoch].[Branch].Members) ON ROWS, NON EMPTY [Measures].[Price Index] ON COLUMNS FROM [PriceIndexCube] CELL PROPERTIES VALUE, FORMATTED_VALUE, BACK_COLOR, FORE_COLOR, FONT_FLAGS",
         "serverUrl": "",
         "updateMode": "once"
        }
       },
       "containerKey": "chart",
       "showTitleBar": false,
       "style": {}
      }
     }
    }
   },
   "outputs": [
    {
     "data": {
      "application/vnd.atoti.v0+json": {
       "cube": "PriceIndexCube",
       "name": "Price index optimisation difference",
       "session": "Unnamed"
      },
      "text/plain": [
       "Install and enable the atoti JupyterLab extension to see this widget."
      ]
     },
     "metadata": {},
     "output_type": "display_data"
    }
   ],
   "source": [
    "price_index_cube.visualize(\"Price index optimisation difference\")"
   ]
  },
  {
   "cell_type": "markdown",
   "metadata": {},
   "source": [
    "We can see that the pricing method decreased the price index of outlets in clusters that have high competition in order for them to attract more customers.  \n",
    "On the contrary it increased the prices in outlets belonging to low competition clusters in order to maximize margin.  \n",
    "Cluster 1 and 4 for instance, have very few competitors. Hence their selling prices are adjusted higher, resulting in higher price index."
   ]
  },
  {
   "cell_type": "markdown",
   "metadata": {},
   "source": [
    "### Selling price simulation by clusters and outlets\n",
    "\n",
    "Zooming in on cluster 2, we see that _ActiveViam Outlet Paris 6_ has one of the highest compeititon within the cluster.  \n",
    "<img src=\"https://data.atoti.io/notebooks/geopricing/cluster2.png\" alt=\"Clustering 1\" style=\"width:300px;\"/>\n",
    "\n",
    "However, the store also has a relatively high price index within the cluster."
   ]
  },
  {
   "cell_type": "code",
   "execution_count": 53,
   "metadata": {
    "atoti": {
     "state": {
      "name": "Price index for cluster 2",
      "type": "container",
      "value": {
       "body": {
        "configuration": {
         "mapping": {
          "horizontalSubplots": [],
          "splitBy": [
           "[Epoch].[Epoch].[Branch]"
          ],
          "values": [
           "[Measures].[Price Index]"
          ],
          "verticalSubplots": [],
          "xAxis": [
           "[Hierarchies].[Cluster].[Cluster]",
           "[Hierarchies].[OutletId].[OutletId]",
           "[Hierarchies].[OutletName].[OutletName]"
          ]
         },
         "plotly": {
          "layout": {
           "xaxis": {
            "tickangle": "45"
           }
          }
         },
         "type": "plotly-clustered-column-chart"
        },
        "query": {
         "mdx": "SELECT NON EMPTY Crossjoin([Hierarchies].[Cluster].[Cluster].Members, [Hierarchies].[OutletId].[OutletId].Members, [Hierarchies].[OutletName].[OutletName].Members, [Epoch].[Epoch].[Branch].Members) ON ROWS, NON EMPTY [Measures].[Price Index] ON COLUMNS FROM (SELECT [Hierarchies].[Cluster].[ALL].[AllMember].[2] ON COLUMNS FROM [PriceIndexCube]) CELL PROPERTIES VALUE, FORMATTED_VALUE, BACK_COLOR, FORE_COLOR, FONT_FLAGS",
         "serverUrl": "",
         "updateMode": "once"
        }
       },
       "containerKey": "chart",
       "showTitleBar": false,
       "style": {}
      }
     }
    }
   },
   "outputs": [
    {
     "data": {
      "application/vnd.atoti.v0+json": {
       "cube": "PriceIndexCube",
       "name": "Price index for cluster 2",
       "session": "Unnamed"
      },
      "text/plain": [
       "Install and enable the atoti JupyterLab extension to see this widget."
      ]
     },
     "metadata": {},
     "output_type": "display_data"
    }
   ],
   "source": [
    "price_index_cube.visualize(\"Price index for cluster 2\")"
   ]
  },
  {
   "cell_type": "markdown",
   "metadata": {},
   "source": [
    "Let's scale down the price index of the outlet using atoti's simulation."
   ]
  },
  {
   "cell_type": "code",
   "execution_count": 54,
   "metadata": {},
   "outputs": [],
   "source": [
    "price_simulation = price_index_cube.setup_simulation(\n",
    "    \"Price simulation\",\n",
    "    base_scenario=\"Selling Price Initial\",\n",
    "    levels=[lvl[\"Cluster\"], lvl[\"OutletId\"]],\n",
    "    multiply=[m[\"SellingPrice.MEAN\"]],\n",
    ")"
   ]
  },
  {
   "cell_type": "markdown",
   "metadata": {},
   "source": [
    "Thanks to atoti built-in simulations capabilities, we can easily create a new scenario for the new pricing by directly loading the price-optimised dataframe.  \n",
    "All the previously defined KPIs, e.g. the price index, will be re-computed on the fly, enabling us to compare the scenarios and their benefits."
   ]
  },
  {
   "cell_type": "code",
   "execution_count": 55,
   "metadata": {},
   "outputs": [],
   "source": [
    "cluster_adjustment = price_simulation.scenarios[\"Selling Price New\"]\n",
    "cluster_adjustment.append((\"2\", 7, 0.95),)"
   ]
  },
  {
   "cell_type": "code",
   "execution_count": 57,
   "metadata": {
    "atoti": {
     "height": 380,
     "state": {
      "name": "Price index optimisation difference by scenario",
      "type": "container",
      "value": {
       "body": {
        "configuration": {
         "mapping": {
          "horizontalSubplots": [],
          "splitBy": [
           "[Measure Simulations].[Price simulation].[Price simulation]",
           "[Epoch].[Epoch].[Branch]"
          ],
          "values": [
           "[Measures].[Price Index]"
          ],
          "verticalSubplots": [],
          "xAxis": [
           "[Hierarchies].[Cluster].[Cluster]",
           "[Hierarchies].[OutletId].[OutletId]",
           "[Hierarchies].[OutletName].[OutletName]"
          ]
         },
         "plotly": {
          "layout": {
           "xaxis": {
            "tickangle": "45"
           }
          }
         },
         "type": "plotly-clustered-column-chart"
        },
        "query": {
         "mdx": "SELECT NON EMPTY Crossjoin([Hierarchies].[Cluster].[Cluster].Members, [Hierarchies].[OutletId].[OutletId].Members, [Hierarchies].[OutletName].[OutletName].Members, [Measure Simulations].[Price simulation].[Price simulation].Members, [Epoch].[Epoch].[Branch].Members) ON ROWS, NON EMPTY [Measures].[Price Index] ON COLUMNS FROM (SELECT [Hierarchies].[Cluster].[ALL].[AllMember].[2] ON COLUMNS FROM [PriceIndexCube]) CELL PROPERTIES VALUE, FORMATTED_VALUE, BACK_COLOR, FORE_COLOR, FONT_FLAGS",
         "serverUrl": "",
         "updateMode": "once"
        }
       },
       "containerKey": "chart",
       "showTitleBar": false,
       "style": {}
      }
     }
    }
   },
   "outputs": [
    {
     "data": {
      "application/vnd.atoti.v0+json": {
       "cube": "PriceIndexCube",
       "name": "Price index optimisation difference by scenario",
       "session": "Unnamed"
      },
      "text/plain": [
       "Install and enable the atoti JupyterLab extension to see this widget."
      ]
     },
     "metadata": {},
     "output_type": "display_data"
    }
   ],
   "source": [
    "price_index_cube.visualize(\"Price index optimisation difference by scenario\")"
   ]
  },
  {
   "cell_type": "markdown",
   "metadata": {},
   "source": [
    "The price index after price optimization and the outlet adjustment for the outlet looks more aligned now. \n",
    "\n",
    "We saw how machine learning helps to identify the clusters based on the amount geographical competitions.  \n",
    "With this information, we applied different pricing strategy to each cluster using simulations from atoti to understand the impact on the price index.\n",
    "We also look within a cluster to adjust the pricing of a specific outlet so that it's more attuned to the pricing of the other outlets in the cluster. \n",
    "\n",
    "With atoti, we can easily combine the simulations of various factors such as festivals, promotions, seasons etc.\n",
    "If we have more data such as the quantity of products sold, we can easily see the differences in the margin with each pricing strategy.  \n",
    "We can thereafter decide on the best pricing from the combination of simulations.\n",
    "\n",
    "Do have a look at how we can strategize the price index around product class in the [pricing-simulations-around-product-classes](https://github.com/atoti/notebooks/tree/master/retail/pricing-simulations-around-product-classes) notebook and its [corresponding article](https://www.atoti.io/data-dive-how-to-improve-pricing-strategies-with-a-set-of-checkout-receipts/).  \n",
    "Maybe you can have a go at combining the two strategies to get your own price index!"
   ]
  }
 ],
 "metadata": {
  "kernelspec": {
   "display_name": "Python 3",
   "language": "python",
   "name": "python3"
  },
  "language_info": {
   "codemirror_mode": {
    "name": "ipython",
    "version": 3
   },
   "file_extension": ".py",
   "mimetype": "text/x-python",
   "name": "python",
   "nbconvert_exporter": "python",
   "pygments_lexer": "ipython3",
   "version": "3.8.3"
  }
 },
 "nbformat": 4,
 "nbformat_minor": 4
}
