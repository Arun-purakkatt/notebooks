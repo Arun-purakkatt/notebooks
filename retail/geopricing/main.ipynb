{
 "cells": [
  {
   "cell_type": "markdown",
   "metadata": {},
   "source": [
    "# Geopricing with atoti - Part 1\n",
    "In this notebook we will explore a pricing use case that combines machine learning algorithms and atoti.  \n",
    "\n",
    "Through machine learning, we will be able to create clusters for our retail outlets depending on their local competition and current prices.  \n",
    "We will then be able to simulate various pricing strategies with atoti on each cluster.  \n",
    "\n",
    "For the machine learning, we will need a set of input features for each retail outlets:\n",
    "- Number of competitors per distance range (1 KM, 5 KM, 10 KM etc)\n",
    "- Price Index per outlet against its competitors\n",
    "\n",
    "We will see how we can make use of simulation to create different data input for the machine learning.\n",
    "We will then take the output from the machine learning to run different simulations:\n",
    "- Pricing simulations around clusters\n",
    "- Selling price simulation by clusters and retail outlets\n",
    "\n",
    "### Dependencies\n",
    "Let's start by installing the libraries required for this notebook to work."
   ]
  },
  {
   "cell_type": "code",
   "execution_count": 1,
   "metadata": {},
   "outputs": [
    {
     "name": "stdout",
     "output_type": "stream",
     "text": [
      "Collecting package metadata (current_repodata.json): ...working... done\n",
      "Solving environment: ...working... done\n",
      "\n",
      "# All requested packages already installed.\n",
      "\n"
     ]
    }
   ],
   "source": [
    "import sys\n",
    "\n",
    "!conda install --yes --prefix {sys.prefix} folium scipy scikit-learn matplotlib seaborn"
   ]
  },
  {
   "cell_type": "code",
   "execution_count": 2,
   "metadata": {},
   "outputs": [
    {
     "name": "stdout",
     "output_type": "stream",
     "text": [
      "Welcome to atoti 0.4.1!\n",
      "\n",
      "By using this community edition, you agree with the license available at https://www.atoti.io/eula.\n",
      "Browse the official documentation at https://docs.atoti.io.\n",
      "Join the community at https://www.atoti.io/register.\n",
      "\n",
      "You can hide this message by setting the ATOTI_HIDE_EULA_MESSAGE environment variable to True.\n"
     ]
    }
   ],
   "source": [
    "import atoti as tt\n",
    "import pandas as pd"
   ]
  },
  {
   "cell_type": "markdown",
   "metadata": {},
   "source": [
    "## Computing retail outlets features\n",
    "\n",
    "### Data preparation\n",
    "We will first start by loading our retail outlets into Pandas dataframe."
   ]
  },
  {
   "cell_type": "code",
   "execution_count": 3,
   "metadata": {},
   "outputs": [
    {
     "data": {
      "text/html": [
       "<div>\n",
       "<style scoped>\n",
       "    .dataframe tbody tr th:only-of-type {\n",
       "        vertical-align: middle;\n",
       "    }\n",
       "\n",
       "    .dataframe tbody tr th {\n",
       "        vertical-align: top;\n",
       "    }\n",
       "\n",
       "    .dataframe thead th {\n",
       "        text-align: right;\n",
       "    }\n",
       "</style>\n",
       "<table border=\"1\" class=\"dataframe\">\n",
       "  <thead>\n",
       "    <tr style=\"text-align: right;\">\n",
       "      <th></th>\n",
       "      <th>OutletId</th>\n",
       "      <th>OutletName</th>\n",
       "      <th>Adress</th>\n",
       "      <th>ZipCode</th>\n",
       "      <th>City</th>\n",
       "      <th>Country</th>\n",
       "      <th>Latitude</th>\n",
       "      <th>Longitude</th>\n",
       "      <th>Company</th>\n",
       "    </tr>\n",
       "  </thead>\n",
       "  <tbody>\n",
       "    <tr>\n",
       "      <th>0</th>\n",
       "      <td>1</td>\n",
       "      <td>ActiveViam Outlet Paris 1er</td>\n",
       "      <td>Paris 1er</td>\n",
       "      <td>75001</td>\n",
       "      <td>Paris</td>\n",
       "      <td>France</td>\n",
       "      <td>48.860757</td>\n",
       "      <td>2.342566</td>\n",
       "      <td>ActiveViam</td>\n",
       "    </tr>\n",
       "    <tr>\n",
       "      <th>1</th>\n",
       "      <td>2</td>\n",
       "      <td>ActiveViam Outlet Paris 15</td>\n",
       "      <td>Paris 15</td>\n",
       "      <td>75015</td>\n",
       "      <td>Paris</td>\n",
       "      <td>France</td>\n",
       "      <td>48.840412</td>\n",
       "      <td>2.312649</td>\n",
       "      <td>ActiveViam</td>\n",
       "    </tr>\n",
       "    <tr>\n",
       "      <th>2</th>\n",
       "      <td>3</td>\n",
       "      <td>ActiveViam Outlet Paris 18</td>\n",
       "      <td>Paris 18</td>\n",
       "      <td>75018</td>\n",
       "      <td>Paris</td>\n",
       "      <td>France</td>\n",
       "      <td>48.886483</td>\n",
       "      <td>2.344326</td>\n",
       "      <td>ActiveViam</td>\n",
       "    </tr>\n",
       "    <tr>\n",
       "      <th>3</th>\n",
       "      <td>4</td>\n",
       "      <td>ActiveViam Outlet Paris 12</td>\n",
       "      <td>Paris 12</td>\n",
       "      <td>75012</td>\n",
       "      <td>Paris</td>\n",
       "      <td>France</td>\n",
       "      <td>48.832182</td>\n",
       "      <td>2.375729</td>\n",
       "      <td>ActiveViam</td>\n",
       "    </tr>\n",
       "    <tr>\n",
       "      <th>4</th>\n",
       "      <td>5</td>\n",
       "      <td>ActiveViam Outlet Paris 16</td>\n",
       "      <td>Paris 16</td>\n",
       "      <td>75016</td>\n",
       "      <td>Paris</td>\n",
       "      <td>France</td>\n",
       "      <td>48.855454</td>\n",
       "      <td>2.280886</td>\n",
       "      <td>ActiveViam</td>\n",
       "    </tr>\n",
       "  </tbody>\n",
       "</table>\n",
       "</div>"
      ],
      "text/plain": [
       "   OutletId                   OutletName     Adress  ZipCode   City Country  \\\n",
       "0         1  ActiveViam Outlet Paris 1er  Paris 1er    75001  Paris  France   \n",
       "1         2   ActiveViam Outlet Paris 15   Paris 15    75015  Paris  France   \n",
       "2         3   ActiveViam Outlet Paris 18   Paris 18    75018  Paris  France   \n",
       "3         4   ActiveViam Outlet Paris 12   Paris 12    75012  Paris  France   \n",
       "4         5   ActiveViam Outlet Paris 16   Paris 16    75016  Paris  France   \n",
       "\n",
       "    Latitude  Longitude     Company  \n",
       "0  48.860757   2.342566  ActiveViam  \n",
       "1  48.840412   2.312649  ActiveViam  \n",
       "2  48.886483   2.344326  ActiveViam  \n",
       "3  48.832182   2.375729  ActiveViam  \n",
       "4  48.855454   2.280886  ActiveViam  "
      ]
     },
     "execution_count": 3,
     "metadata": {},
     "output_type": "execute_result"
    }
   ],
   "source": [
    "outlets_df = pd.read_csv(\n",
    "    \"https://data.atoti.io/notebooks/geopricing/outlets.csv\", sep=\";\"\n",
    ")\n",
    "outlets_df.head(5)"
   ]
  },
  {
   "cell_type": "markdown",
   "metadata": {},
   "source": [
    "And then those of the competitors."
   ]
  },
  {
   "cell_type": "code",
   "execution_count": 4,
   "metadata": {},
   "outputs": [
    {
     "data": {
      "text/html": [
       "<div>\n",
       "<style scoped>\n",
       "    .dataframe tbody tr th:only-of-type {\n",
       "        vertical-align: middle;\n",
       "    }\n",
       "\n",
       "    .dataframe tbody tr th {\n",
       "        vertical-align: top;\n",
       "    }\n",
       "\n",
       "    .dataframe thead th {\n",
       "        text-align: right;\n",
       "    }\n",
       "</style>\n",
       "<table border=\"1\" class=\"dataframe\">\n",
       "  <thead>\n",
       "    <tr style=\"text-align: right;\">\n",
       "      <th></th>\n",
       "      <th>CompetitorOutletId</th>\n",
       "      <th>CompetitorOutletName</th>\n",
       "      <th>CompetitorOutletAdress</th>\n",
       "      <th>CompetitorOutletZipCode</th>\n",
       "      <th>CompetitorOutletCity</th>\n",
       "      <th>CompetitorOutletCountry</th>\n",
       "      <th>CompetitorOutletLatitude</th>\n",
       "      <th>CompetitorOutletLongitude</th>\n",
       "      <th>CompetitorOutletCompany</th>\n",
       "    </tr>\n",
       "  </thead>\n",
       "  <tbody>\n",
       "    <tr>\n",
       "      <th>0</th>\n",
       "      <td>101</td>\n",
       "      <td>Concurrent Premium</td>\n",
       "      <td>Paris 1er</td>\n",
       "      <td>75001</td>\n",
       "      <td>Paris</td>\n",
       "      <td>France</td>\n",
       "      <td>48.860757</td>\n",
       "      <td>2.342566</td>\n",
       "      <td>Concurrent Premium</td>\n",
       "    </tr>\n",
       "    <tr>\n",
       "      <th>1</th>\n",
       "      <td>102</td>\n",
       "      <td>Concurrent Premium</td>\n",
       "      <td>Paris 15</td>\n",
       "      <td>75015</td>\n",
       "      <td>Paris</td>\n",
       "      <td>France</td>\n",
       "      <td>48.840412</td>\n",
       "      <td>2.312649</td>\n",
       "      <td>Concurrent Premium</td>\n",
       "    </tr>\n",
       "    <tr>\n",
       "      <th>2</th>\n",
       "      <td>103</td>\n",
       "      <td>Concurrent Premium</td>\n",
       "      <td>Paris 18</td>\n",
       "      <td>75018</td>\n",
       "      <td>Paris</td>\n",
       "      <td>France</td>\n",
       "      <td>48.886483</td>\n",
       "      <td>2.344326</td>\n",
       "      <td>Concurrent Premium</td>\n",
       "    </tr>\n",
       "    <tr>\n",
       "      <th>3</th>\n",
       "      <td>104</td>\n",
       "      <td>Concurrent Premium</td>\n",
       "      <td>Paris 12</td>\n",
       "      <td>75012</td>\n",
       "      <td>Paris</td>\n",
       "      <td>France</td>\n",
       "      <td>48.832182</td>\n",
       "      <td>2.375729</td>\n",
       "      <td>Concurrent Premium</td>\n",
       "    </tr>\n",
       "    <tr>\n",
       "      <th>4</th>\n",
       "      <td>105</td>\n",
       "      <td>Concurrent Premium</td>\n",
       "      <td>Paris 16</td>\n",
       "      <td>75016</td>\n",
       "      <td>Paris</td>\n",
       "      <td>France</td>\n",
       "      <td>48.855454</td>\n",
       "      <td>2.280886</td>\n",
       "      <td>Concurrent Premium</td>\n",
       "    </tr>\n",
       "  </tbody>\n",
       "</table>\n",
       "</div>"
      ],
      "text/plain": [
       "   CompetitorOutletId CompetitorOutletName CompetitorOutletAdress  \\\n",
       "0                 101   Concurrent Premium              Paris 1er   \n",
       "1                 102   Concurrent Premium               Paris 15   \n",
       "2                 103   Concurrent Premium               Paris 18   \n",
       "3                 104   Concurrent Premium               Paris 12   \n",
       "4                 105   Concurrent Premium               Paris 16   \n",
       "\n",
       "   CompetitorOutletZipCode CompetitorOutletCity CompetitorOutletCountry  \\\n",
       "0                    75001                Paris                  France   \n",
       "1                    75015                Paris                  France   \n",
       "2                    75018                Paris                  France   \n",
       "3                    75012                Paris                  France   \n",
       "4                    75016                Paris                  France   \n",
       "\n",
       "   CompetitorOutletLatitude  CompetitorOutletLongitude CompetitorOutletCompany  \n",
       "0                 48.860757                   2.342566      Concurrent Premium  \n",
       "1                 48.840412                   2.312649      Concurrent Premium  \n",
       "2                 48.886483                   2.344326      Concurrent Premium  \n",
       "3                 48.832182                   2.375729      Concurrent Premium  \n",
       "4                 48.855454                   2.280886      Concurrent Premium  "
      ]
     },
     "execution_count": 4,
     "metadata": {},
     "output_type": "execute_result"
    }
   ],
   "source": [
    "competitor_outlets_df = pd.read_csv(\n",
    "    \"https://data.atoti.io/notebooks/geopricing/competitor_outlets.csv\", sep=\";\"\n",
    ")\n",
    "competitor_outlets_df.head(5)"
   ]
  },
  {
   "cell_type": "markdown",
   "metadata": {},
   "source": [
    "We can already visualize on a map our retail outlets (in red) and those of the competition (in blue)."
   ]
  },
  {
   "cell_type": "code",
   "execution_count": 5,
   "metadata": {},
   "outputs": [],
   "source": [
    "from utils import geo_utils"
   ]
  },
  {
   "cell_type": "code",
   "execution_count": 6,
   "metadata": {},
   "outputs": [
    {
     "data": {
      "text/html": [
       "<div style=\"width:100%;\"><div style=\"position:relative;width:100%;height:0;padding-bottom:60%;\"><span style=\"color:#565656\">Make this Notebook Trusted to load map: File -> Trust Notebook</span><iframe src=\"about:blank\" style=\"position:absolute;width:100%;height:100%;left:0;top:0;border:none !important;\" data-html=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 onload=\"this.contentDocument.open();this.contentDocument.write(atob(this.getAttribute('data-html')));this.contentDocument.close();\" allowfullscreen webkitallowfullscreen mozallowfullscreen></iframe></div></div>"
      ],
      "text/plain": [
       "<folium.folium.Map at 0x170cf105760>"
      ]
     },
     "execution_count": 6,
     "metadata": {},
     "output_type": "execute_result"
    }
   ],
   "source": [
    "outlets_map = geo_utils.build_outlets_map(competitor_outlets_df, outlets_df)\n",
    "outlets_map"
   ]
  },
  {
   "cell_type": "markdown",
   "metadata": {},
   "source": [
    "To assess whether an outlet has strong competition or not, we will count how many competitor outlets there are within an area of radius 1km, 5km, 10km and 20km.  \n",
    "In order to to that, we first need to compute distances between outlets then count the number of competitor outlets for each of the kilometers values above.\n",
    "\n",
    "#### Computing distances between outlets\n",
    "To compute distances between outlets, we simply used the [harvesine formula](https://en.wikipedia.org/wiki/Haversine_formula). Note that another approach would be to use instead something like the [google API to compute distances and durations between two points](https://developers.google.com/maps/documentation/distance-matrix/intro) (thus taking into accounts possible means of transportation).\n",
    "\n",
    "First we build a matrix containing the distances between outlets and all competitors."
   ]
  },
  {
   "cell_type": "code",
   "execution_count": 7,
   "metadata": {},
   "outputs": [
    {
     "data": {
      "text/html": [
       "<div>\n",
       "<style scoped>\n",
       "    .dataframe tbody tr th:only-of-type {\n",
       "        vertical-align: middle;\n",
       "    }\n",
       "\n",
       "    .dataframe tbody tr th {\n",
       "        vertical-align: top;\n",
       "    }\n",
       "\n",
       "    .dataframe thead th {\n",
       "        text-align: right;\n",
       "    }\n",
       "</style>\n",
       "<table border=\"1\" class=\"dataframe\">\n",
       "  <thead>\n",
       "    <tr style=\"text-align: right;\">\n",
       "      <th></th>\n",
       "      <th>CompetitorOutletId</th>\n",
       "      <th>OutletId</th>\n",
       "      <th>Competitor distance KM</th>\n",
       "    </tr>\n",
       "  </thead>\n",
       "  <tbody>\n",
       "    <tr>\n",
       "      <th>0</th>\n",
       "      <td>101</td>\n",
       "      <td>1</td>\n",
       "      <td>0.000000</td>\n",
       "    </tr>\n",
       "    <tr>\n",
       "      <th>1</th>\n",
       "      <td>101</td>\n",
       "      <td>2</td>\n",
       "      <td>3.145965</td>\n",
       "    </tr>\n",
       "    <tr>\n",
       "      <th>2</th>\n",
       "      <td>101</td>\n",
       "      <td>3</td>\n",
       "      <td>2.861697</td>\n",
       "    </tr>\n",
       "    <tr>\n",
       "      <th>3</th>\n",
       "      <td>101</td>\n",
       "      <td>4</td>\n",
       "      <td>3.995581</td>\n",
       "    </tr>\n",
       "    <tr>\n",
       "      <th>4</th>\n",
       "      <td>101</td>\n",
       "      <td>5</td>\n",
       "      <td>4.547896</td>\n",
       "    </tr>\n",
       "  </tbody>\n",
       "</table>\n",
       "</div>"
      ],
      "text/plain": [
       "   CompetitorOutletId  OutletId  Competitor distance KM\n",
       "0                 101         1                0.000000\n",
       "1                 101         2                3.145965\n",
       "2                 101         3                2.861697\n",
       "3                 101         4                3.995581\n",
       "4                 101         5                4.547896"
      ]
     },
     "execution_count": 7,
     "metadata": {},
     "output_type": "execute_result"
    }
   ],
   "source": [
    "outlets_distances_matrix = geo_utils.create_outlets_distances_matrix(\n",
    "    outlets_df, competitor_outlets_df\n",
    ")\n",
    "\n",
    "outlets_distances_matrix.head()"
   ]
  },
  {
   "cell_type": "markdown",
   "metadata": {},
   "source": [
    "Next we proceed to load data into our outlets for the data cube.\n",
    "\n",
    "#### Data loading and cube creation\n",
    "We begin by creating an atoti session."
   ]
  },
  {
   "cell_type": "code",
   "execution_count": 8,
   "metadata": {},
   "outputs": [],
   "source": [
    "config = tt.config.create_config(port=9999)\n",
    "session = tt.create_session(config=config)"
   ]
  },
  {
   "cell_type": "markdown",
   "metadata": {},
   "source": [
    "We load the distance matrix into a data store. This will facilitate the computation of the number of competitors per area radius.  \n",
    "Though not implemented in this notebook, we can also use it for analysis of price index against the competitors within a distance range."
   ]
  },
  {
   "cell_type": "code",
   "execution_count": 9,
   "metadata": {},
   "outputs": [
    {
     "data": {
      "text/html": [
       "<div>\n",
       "<style scoped>\n",
       "    .dataframe tbody tr th:only-of-type {\n",
       "        vertical-align: middle;\n",
       "    }\n",
       "\n",
       "    .dataframe tbody tr th {\n",
       "        vertical-align: top;\n",
       "    }\n",
       "\n",
       "    .dataframe thead th {\n",
       "        text-align: right;\n",
       "    }\n",
       "</style>\n",
       "<table border=\"1\" class=\"dataframe\">\n",
       "  <thead>\n",
       "    <tr style=\"text-align: right;\">\n",
       "      <th></th>\n",
       "      <th></th>\n",
       "      <th>Competitor distance KM</th>\n",
       "    </tr>\n",
       "    <tr>\n",
       "      <th>OutletId</th>\n",
       "      <th>CompetitorOutletId</th>\n",
       "      <th></th>\n",
       "    </tr>\n",
       "  </thead>\n",
       "  <tbody>\n",
       "    <tr>\n",
       "      <th>1.0</th>\n",
       "      <th>101.0</th>\n",
       "      <td>0.000000</td>\n",
       "    </tr>\n",
       "    <tr>\n",
       "      <th>2.0</th>\n",
       "      <th>101.0</th>\n",
       "      <td>3.145965</td>\n",
       "    </tr>\n",
       "    <tr>\n",
       "      <th>3.0</th>\n",
       "      <th>101.0</th>\n",
       "      <td>2.861697</td>\n",
       "    </tr>\n",
       "    <tr>\n",
       "      <th>4.0</th>\n",
       "      <th>101.0</th>\n",
       "      <td>3.995581</td>\n",
       "    </tr>\n",
       "    <tr>\n",
       "      <th>5.0</th>\n",
       "      <th>101.0</th>\n",
       "      <td>4.547896</td>\n",
       "    </tr>\n",
       "  </tbody>\n",
       "</table>\n",
       "</div>"
      ],
      "text/plain": [
       "                             Competitor distance KM\n",
       "OutletId CompetitorOutletId                        \n",
       "1.0      101.0                             0.000000\n",
       "2.0      101.0                             3.145965\n",
       "3.0      101.0                             2.861697\n",
       "4.0      101.0                             3.995581\n",
       "5.0      101.0                             4.547896"
      ]
     },
     "execution_count": 9,
     "metadata": {},
     "output_type": "execute_result"
    }
   ],
   "source": [
    "distance_matrix = session.read_pandas(\n",
    "    outlets_distances_matrix,\n",
    "    keys=[\"OutletId\", \"CompetitorOutletId\"],\n",
    "    store_name=\"DistanceMatrix\",\n",
    "    types={\"OutletId\": tt.types.INT, \"CompetitorOutletId\": tt.types.INT,},\n",
    ")\n",
    "\n",
    "distance_matrix.head()"
   ]
  },
  {
   "cell_type": "markdown",
   "metadata": {},
   "source": [
    "Normally, we can have the selling price, cost price and quantity of the product sold. Margin hence can be derived, and we can consequently see the impact on margin when price index changes.  \n",
    "In this notebook however, we simplify the use case by having only the SellingPrice and the total Margin for each product by outlets.  "
   ]
  },
  {
   "cell_type": "code",
   "execution_count": 10,
   "metadata": {},
   "outputs": [],
   "source": [
    "#  We used pandas to read the selling price here as we will be using it again for price optimisation in the later section.\n",
    "product_sales_df = pd.read_csv(\n",
    "    \"https://data.atoti.io/notebooks/geopricing/outlet_prices.csv\"\n",
    ")"
   ]
  },
  {
   "cell_type": "code",
   "execution_count": 11,
   "metadata": {},
   "outputs": [
    {
     "name": "stderr",
     "output_type": "stream",
     "text": [
      "The store has been sampled because there are more than 10000 lines in the files to load. Call Session.load_all_data() to trigger the full load of the data.\n"
     ]
    },
    {
     "data": {
      "text/html": [
       "<div>\n",
       "<style scoped>\n",
       "    .dataframe tbody tr th:only-of-type {\n",
       "        vertical-align: middle;\n",
       "    }\n",
       "\n",
       "    .dataframe tbody tr th {\n",
       "        vertical-align: top;\n",
       "    }\n",
       "\n",
       "    .dataframe thead th {\n",
       "        text-align: right;\n",
       "    }\n",
       "</style>\n",
       "<table border=\"1\" class=\"dataframe\">\n",
       "  <thead>\n",
       "    <tr style=\"text-align: right;\">\n",
       "      <th></th>\n",
       "      <th></th>\n",
       "      <th>SellingPrice</th>\n",
       "      <th>Margin</th>\n",
       "    </tr>\n",
       "    <tr>\n",
       "      <th>ProductId</th>\n",
       "      <th>OutletId</th>\n",
       "      <th></th>\n",
       "      <th></th>\n",
       "    </tr>\n",
       "  </thead>\n",
       "  <tbody>\n",
       "    <tr>\n",
       "      <th rowspan=\"5\" valign=\"top\">4096.0</th>\n",
       "      <th>1.0</th>\n",
       "      <td>1.920</td>\n",
       "      <td>1959.530</td>\n",
       "    </tr>\n",
       "    <tr>\n",
       "      <th>2.0</th>\n",
       "      <td>2.068</td>\n",
       "      <td>2204.228</td>\n",
       "    </tr>\n",
       "    <tr>\n",
       "      <th>3.0</th>\n",
       "      <td>1.820</td>\n",
       "      <td>1835.545</td>\n",
       "    </tr>\n",
       "    <tr>\n",
       "      <th>4.0</th>\n",
       "      <td>1.825</td>\n",
       "      <td>1641.052</td>\n",
       "    </tr>\n",
       "    <tr>\n",
       "      <th>5.0</th>\n",
       "      <td>2.016</td>\n",
       "      <td>1307.136</td>\n",
       "    </tr>\n",
       "  </tbody>\n",
       "</table>\n",
       "</div>"
      ],
      "text/plain": [
       "                    SellingPrice    Margin\n",
       "ProductId OutletId                        \n",
       "4096.0    1.0              1.920  1959.530\n",
       "          2.0              2.068  2204.228\n",
       "          3.0              1.820  1835.545\n",
       "          4.0              1.825  1641.052\n",
       "          5.0              2.016  1307.136"
      ]
     },
     "execution_count": 11,
     "metadata": {},
     "output_type": "execute_result"
    }
   ],
   "source": [
    "productSales = session.read_pandas(\n",
    "    product_sales_df,\n",
    "    keys=[\"ProductId\", \"OutletId\"],\n",
    "    store_name=\"ProductSales\",\n",
    "    types={\"ProductId\": tt.types.INT, \"OutletId\": tt.types.INT},\n",
    ")\n",
    "\n",
    "productSales.head()"
   ]
  },
  {
   "cell_type": "code",
   "execution_count": 12,
   "metadata": {},
   "outputs": [],
   "source": [
    "price_index_cube = session.create_cube(productSales, \"PriceIndexCube\")"
   ]
  },
  {
   "cell_type": "markdown",
   "metadata": {},
   "source": [
    "We will also require the competitors' product pricing against our outlets.  \n",
    "Due to the amount of data in this store, the store will be sampled by default. We will proceed to load all the data only after we are done modeling the cube.  \n",
    "Note that atoti is able to load csv directly from s3."
   ]
  },
  {
   "cell_type": "code",
   "execution_count": 13,
   "metadata": {},
   "outputs": [
    {
     "data": {
      "text/html": [
       "<div>\n",
       "<style scoped>\n",
       "    .dataframe tbody tr th:only-of-type {\n",
       "        vertical-align: middle;\n",
       "    }\n",
       "\n",
       "    .dataframe tbody tr th {\n",
       "        vertical-align: top;\n",
       "    }\n",
       "\n",
       "    .dataframe thead th {\n",
       "        text-align: right;\n",
       "    }\n",
       "</style>\n",
       "<table border=\"1\" class=\"dataframe\">\n",
       "  <thead>\n",
       "    <tr style=\"text-align: right;\">\n",
       "      <th></th>\n",
       "      <th></th>\n",
       "      <th></th>\n",
       "      <th>CompetitorPrice</th>\n",
       "    </tr>\n",
       "    <tr>\n",
       "      <th>ProductId</th>\n",
       "      <th>CompetitorOutletId</th>\n",
       "      <th>OutletId</th>\n",
       "      <th></th>\n",
       "    </tr>\n",
       "  </thead>\n",
       "  <tbody>\n",
       "    <tr>\n",
       "      <th>4096.0</th>\n",
       "      <th>101.0</th>\n",
       "      <th>1.0</th>\n",
       "      <td>2.287</td>\n",
       "    </tr>\n",
       "    <tr>\n",
       "      <th>4097.0</th>\n",
       "      <th>101.0</th>\n",
       "      <th>1.0</th>\n",
       "      <td>2.320</td>\n",
       "    </tr>\n",
       "    <tr>\n",
       "      <th>4098.0</th>\n",
       "      <th>101.0</th>\n",
       "      <th>1.0</th>\n",
       "      <td>2.519</td>\n",
       "    </tr>\n",
       "    <tr>\n",
       "      <th>4099.0</th>\n",
       "      <th>101.0</th>\n",
       "      <th>1.0</th>\n",
       "      <td>2.504</td>\n",
       "    </tr>\n",
       "    <tr>\n",
       "      <th>4100.0</th>\n",
       "      <th>101.0</th>\n",
       "      <th>1.0</th>\n",
       "      <td>3.309</td>\n",
       "    </tr>\n",
       "  </tbody>\n",
       "</table>\n",
       "</div>"
      ],
      "text/plain": [
       "                                       CompetitorPrice\n",
       "ProductId CompetitorOutletId OutletId                 \n",
       "4096.0    101.0              1.0                 2.287\n",
       "4097.0    101.0              1.0                 2.320\n",
       "4098.0    101.0              1.0                 2.519\n",
       "4099.0    101.0              1.0                 2.504\n",
       "4100.0    101.0              1.0                 3.309"
      ]
     },
     "execution_count": 13,
     "metadata": {},
     "output_type": "execute_result"
    }
   ],
   "source": [
    "competitorPrices = session.read_csv(\n",
    "    \"s3://data.atoti.io/notebooks/geopricing/competitor_prices.csv\",\n",
    "    keys=[\"ProductId\", \"CompetitorOutletId\", \"OutletId\"],\n",
    "    store_name=\"CompetitorPrices\",\n",
    ")\n",
    "\n",
    "competitorPrices.head()"
   ]
  },
  {
   "cell_type": "markdown",
   "metadata": {},
   "source": [
    "We have the key stores necessary for us to generate the data required for machine learning.  \n",
    "However, we will also load the following stores that will allow us to have an in-depth analysis:\n",
    "- Products: Product catalogue\n",
    "- Outlets: Outlets information such as location\n",
    "- CompetitorsOutlets: Competitors' outlet information"
   ]
  },
  {
   "cell_type": "code",
   "execution_count": 14,
   "metadata": {},
   "outputs": [
    {
     "data": {
      "text/html": [
       "<div>\n",
       "<style scoped>\n",
       "    .dataframe tbody tr th:only-of-type {\n",
       "        vertical-align: middle;\n",
       "    }\n",
       "\n",
       "    .dataframe tbody tr th {\n",
       "        vertical-align: top;\n",
       "    }\n",
       "\n",
       "    .dataframe thead th {\n",
       "        text-align: right;\n",
       "    }\n",
       "</style>\n",
       "<table border=\"1\" class=\"dataframe\">\n",
       "  <thead>\n",
       "    <tr style=\"text-align: right;\">\n",
       "      <th></th>\n",
       "      <th>EAN</th>\n",
       "      <th>ProductName</th>\n",
       "      <th>Brand</th>\n",
       "      <th>Size</th>\n",
       "      <th>Unit</th>\n",
       "      <th>Department</th>\n",
       "      <th>SubDepartment</th>\n",
       "      <th>Category</th>\n",
       "      <th>SubCategory</th>\n",
       "    </tr>\n",
       "    <tr>\n",
       "      <th>ProductId</th>\n",
       "      <th></th>\n",
       "      <th></th>\n",
       "      <th></th>\n",
       "      <th></th>\n",
       "      <th></th>\n",
       "      <th></th>\n",
       "      <th></th>\n",
       "      <th></th>\n",
       "      <th></th>\n",
       "    </tr>\n",
       "  </thead>\n",
       "  <tbody>\n",
       "    <tr>\n",
       "      <th>4096</th>\n",
       "      <td>3124480000378</td>\n",
       "      <td>1,5L CANADA DRY PET</td>\n",
       "      <td>CANADA DRY</td>\n",
       "      <td>1.5</td>\n",
       "      <td>L</td>\n",
       "      <td>LIQUIDES</td>\n",
       "      <td>SOFT TRADITIONNELS</td>\n",
       "      <td>TONIC</td>\n",
       "      <td>GINGER ALE</td>\n",
       "    </tr>\n",
       "    <tr>\n",
       "      <th>4097</th>\n",
       "      <td>3124480183927</td>\n",
       "      <td>1,5L SCHWEPPES LEMON PET</td>\n",
       "      <td>SCHWEPPES</td>\n",
       "      <td>1.5</td>\n",
       "      <td>L</td>\n",
       "      <td>LIQUIDES</td>\n",
       "      <td>SOFT TRADITIONNELS</td>\n",
       "      <td>BOISSON AUX FRUITS  GAZEUX</td>\n",
       "      <td>PET - PVC</td>\n",
       "    </tr>\n",
       "    <tr>\n",
       "      <th>4098</th>\n",
       "      <td>3124480183811</td>\n",
       "      <td>2L OASIS ORANGE PET</td>\n",
       "      <td>OASIS</td>\n",
       "      <td>2</td>\n",
       "      <td>L</td>\n",
       "      <td>LIQUIDES</td>\n",
       "      <td>SOFT TRADITIONNELS</td>\n",
       "      <td>BOISSON AUX FRUITS  PLAT</td>\n",
       "      <td>PET - PVC</td>\n",
       "    </tr>\n",
       "    <tr>\n",
       "      <th>4099</th>\n",
       "      <td>3124480183828</td>\n",
       "      <td>2L OASIS TROPICAL PET</td>\n",
       "      <td>OASIS</td>\n",
       "      <td>2</td>\n",
       "      <td>L</td>\n",
       "      <td>LIQUIDES</td>\n",
       "      <td>SOFT TRADITIONNELS</td>\n",
       "      <td>BOISSON AUX FRUITS  PLAT</td>\n",
       "      <td>PET - PVC</td>\n",
       "    </tr>\n",
       "    <tr>\n",
       "      <th>4100</th>\n",
       "      <td>3124480186577</td>\n",
       "      <td>6X33CL OASIS TROPICAL BT</td>\n",
       "      <td>OASIS</td>\n",
       "      <td>6x33</td>\n",
       "      <td>cl</td>\n",
       "      <td>LIQUIDES</td>\n",
       "      <td>SOFT TRADITIONNELS</td>\n",
       "      <td>BOISSON AUX FRUITS  PLAT</td>\n",
       "      <td>BOITES</td>\n",
       "    </tr>\n",
       "  </tbody>\n",
       "</table>\n",
       "</div>"
      ],
      "text/plain": [
       "                     EAN               ProductName       Brand  Size Unit  \\\n",
       "ProductId                                                                   \n",
       "4096       3124480000378       1,5L CANADA DRY PET  CANADA DRY   1.5    L   \n",
       "4097       3124480183927  1,5L SCHWEPPES LEMON PET   SCHWEPPES   1.5    L   \n",
       "4098       3124480183811       2L OASIS ORANGE PET       OASIS     2    L   \n",
       "4099       3124480183828     2L OASIS TROPICAL PET       OASIS     2    L   \n",
       "4100       3124480186577  6X33CL OASIS TROPICAL BT       OASIS  6x33   cl   \n",
       "\n",
       "          Department       SubDepartment                    Category  \\\n",
       "ProductId                                                              \n",
       "4096        LIQUIDES  SOFT TRADITIONNELS                       TONIC   \n",
       "4097        LIQUIDES  SOFT TRADITIONNELS  BOISSON AUX FRUITS  GAZEUX   \n",
       "4098        LIQUIDES  SOFT TRADITIONNELS    BOISSON AUX FRUITS  PLAT   \n",
       "4099        LIQUIDES  SOFT TRADITIONNELS    BOISSON AUX FRUITS  PLAT   \n",
       "4100        LIQUIDES  SOFT TRADITIONNELS    BOISSON AUX FRUITS  PLAT   \n",
       "\n",
       "          SubCategory  \n",
       "ProductId              \n",
       "4096       GINGER ALE  \n",
       "4097        PET - PVC  \n",
       "4098        PET - PVC  \n",
       "4099        PET - PVC  \n",
       "4100           BOITES  "
      ]
     },
     "execution_count": 14,
     "metadata": {},
     "output_type": "execute_result"
    }
   ],
   "source": [
    "products = session.read_csv(\n",
    "    \"s3://data.atoti.io/notebooks/geopricing/products_info.csv\",\n",
    "    keys=[\"ProductId\"],\n",
    "    store_name=\"Products\",\n",
    ")\n",
    "\n",
    "products.head()"
   ]
  },
  {
   "cell_type": "markdown",
   "metadata": {},
   "source": [
    "Previously we have loaded our outlets and the competitors' outlet information into dataframes for the computation of the distance matrix.  \n",
    "We will load the same dataframes into atoti store."
   ]
  },
  {
   "cell_type": "code",
   "execution_count": 15,
   "metadata": {},
   "outputs": [
    {
     "data": {
      "text/html": [
       "<div>\n",
       "<style scoped>\n",
       "    .dataframe tbody tr th:only-of-type {\n",
       "        vertical-align: middle;\n",
       "    }\n",
       "\n",
       "    .dataframe tbody tr th {\n",
       "        vertical-align: top;\n",
       "    }\n",
       "\n",
       "    .dataframe thead th {\n",
       "        text-align: right;\n",
       "    }\n",
       "</style>\n",
       "<table border=\"1\" class=\"dataframe\">\n",
       "  <thead>\n",
       "    <tr style=\"text-align: right;\">\n",
       "      <th></th>\n",
       "      <th>OutletName</th>\n",
       "      <th>Adress</th>\n",
       "      <th>ZipCode</th>\n",
       "      <th>City</th>\n",
       "      <th>Country</th>\n",
       "      <th>Latitude</th>\n",
       "      <th>Longitude</th>\n",
       "      <th>Company</th>\n",
       "    </tr>\n",
       "    <tr>\n",
       "      <th>OutletId</th>\n",
       "      <th></th>\n",
       "      <th></th>\n",
       "      <th></th>\n",
       "      <th></th>\n",
       "      <th></th>\n",
       "      <th></th>\n",
       "      <th></th>\n",
       "      <th></th>\n",
       "    </tr>\n",
       "  </thead>\n",
       "  <tbody>\n",
       "    <tr>\n",
       "      <th>1</th>\n",
       "      <td>ActiveViam Outlet Paris 1er</td>\n",
       "      <td>Paris 1er</td>\n",
       "      <td>75001</td>\n",
       "      <td>Paris</td>\n",
       "      <td>France</td>\n",
       "      <td>48.860757</td>\n",
       "      <td>2.342566</td>\n",
       "      <td>ActiveViam</td>\n",
       "    </tr>\n",
       "    <tr>\n",
       "      <th>2</th>\n",
       "      <td>ActiveViam Outlet Paris 15</td>\n",
       "      <td>Paris 15</td>\n",
       "      <td>75015</td>\n",
       "      <td>Paris</td>\n",
       "      <td>France</td>\n",
       "      <td>48.840412</td>\n",
       "      <td>2.312649</td>\n",
       "      <td>ActiveViam</td>\n",
       "    </tr>\n",
       "    <tr>\n",
       "      <th>3</th>\n",
       "      <td>ActiveViam Outlet Paris 18</td>\n",
       "      <td>Paris 18</td>\n",
       "      <td>75018</td>\n",
       "      <td>Paris</td>\n",
       "      <td>France</td>\n",
       "      <td>48.886483</td>\n",
       "      <td>2.344326</td>\n",
       "      <td>ActiveViam</td>\n",
       "    </tr>\n",
       "    <tr>\n",
       "      <th>4</th>\n",
       "      <td>ActiveViam Outlet Paris 12</td>\n",
       "      <td>Paris 12</td>\n",
       "      <td>75012</td>\n",
       "      <td>Paris</td>\n",
       "      <td>France</td>\n",
       "      <td>48.832182</td>\n",
       "      <td>2.375729</td>\n",
       "      <td>ActiveViam</td>\n",
       "    </tr>\n",
       "    <tr>\n",
       "      <th>5</th>\n",
       "      <td>ActiveViam Outlet Paris 16</td>\n",
       "      <td>Paris 16</td>\n",
       "      <td>75016</td>\n",
       "      <td>Paris</td>\n",
       "      <td>France</td>\n",
       "      <td>48.855454</td>\n",
       "      <td>2.280886</td>\n",
       "      <td>ActiveViam</td>\n",
       "    </tr>\n",
       "  </tbody>\n",
       "</table>\n",
       "</div>"
      ],
      "text/plain": [
       "                           OutletName     Adress  ZipCode   City Country  \\\n",
       "OutletId                                                                   \n",
       "1         ActiveViam Outlet Paris 1er  Paris 1er    75001  Paris  France   \n",
       "2          ActiveViam Outlet Paris 15   Paris 15    75015  Paris  France   \n",
       "3          ActiveViam Outlet Paris 18   Paris 18    75018  Paris  France   \n",
       "4          ActiveViam Outlet Paris 12   Paris 12    75012  Paris  France   \n",
       "5          ActiveViam Outlet Paris 16   Paris 16    75016  Paris  France   \n",
       "\n",
       "           Latitude  Longitude     Company  \n",
       "OutletId                                    \n",
       "1         48.860757   2.342566  ActiveViam  \n",
       "2         48.840412   2.312649  ActiveViam  \n",
       "3         48.886483   2.344326  ActiveViam  \n",
       "4         48.832182   2.375729  ActiveViam  \n",
       "5         48.855454   2.280886  ActiveViam  "
      ]
     },
     "execution_count": 15,
     "metadata": {},
     "output_type": "execute_result"
    }
   ],
   "source": [
    "outlets = session.read_pandas(\n",
    "    outlets_df,\n",
    "    keys=[\"OutletId\"],\n",
    "    store_name=\"Outlets\",\n",
    "    types={\"OutletId\": tt.types.INT},\n",
    ")\n",
    "\n",
    "outlets.head()"
   ]
  },
  {
   "cell_type": "code",
   "execution_count": 16,
   "metadata": {},
   "outputs": [
    {
     "data": {
      "text/html": [
       "<div>\n",
       "<style scoped>\n",
       "    .dataframe tbody tr th:only-of-type {\n",
       "        vertical-align: middle;\n",
       "    }\n",
       "\n",
       "    .dataframe tbody tr th {\n",
       "        vertical-align: top;\n",
       "    }\n",
       "\n",
       "    .dataframe thead th {\n",
       "        text-align: right;\n",
       "    }\n",
       "</style>\n",
       "<table border=\"1\" class=\"dataframe\">\n",
       "  <thead>\n",
       "    <tr style=\"text-align: right;\">\n",
       "      <th></th>\n",
       "      <th>CompetitorOutletName</th>\n",
       "      <th>CompetitorOutletAdress</th>\n",
       "      <th>CompetitorOutletZipCode</th>\n",
       "      <th>CompetitorOutletCity</th>\n",
       "      <th>CompetitorOutletCountry</th>\n",
       "      <th>CompetitorOutletLatitude</th>\n",
       "      <th>CompetitorOutletLongitude</th>\n",
       "      <th>CompetitorOutletCompany</th>\n",
       "    </tr>\n",
       "    <tr>\n",
       "      <th>CompetitorOutletId</th>\n",
       "      <th></th>\n",
       "      <th></th>\n",
       "      <th></th>\n",
       "      <th></th>\n",
       "      <th></th>\n",
       "      <th></th>\n",
       "      <th></th>\n",
       "      <th></th>\n",
       "    </tr>\n",
       "  </thead>\n",
       "  <tbody>\n",
       "    <tr>\n",
       "      <th>101</th>\n",
       "      <td>Concurrent Premium</td>\n",
       "      <td>Paris 1er</td>\n",
       "      <td>75001</td>\n",
       "      <td>Paris</td>\n",
       "      <td>France</td>\n",
       "      <td>48.860757</td>\n",
       "      <td>2.342566</td>\n",
       "      <td>Concurrent Premium</td>\n",
       "    </tr>\n",
       "    <tr>\n",
       "      <th>102</th>\n",
       "      <td>Concurrent Premium</td>\n",
       "      <td>Paris 15</td>\n",
       "      <td>75015</td>\n",
       "      <td>Paris</td>\n",
       "      <td>France</td>\n",
       "      <td>48.840412</td>\n",
       "      <td>2.312649</td>\n",
       "      <td>Concurrent Premium</td>\n",
       "    </tr>\n",
       "    <tr>\n",
       "      <th>103</th>\n",
       "      <td>Concurrent Premium</td>\n",
       "      <td>Paris 18</td>\n",
       "      <td>75018</td>\n",
       "      <td>Paris</td>\n",
       "      <td>France</td>\n",
       "      <td>48.886483</td>\n",
       "      <td>2.344326</td>\n",
       "      <td>Concurrent Premium</td>\n",
       "    </tr>\n",
       "    <tr>\n",
       "      <th>104</th>\n",
       "      <td>Concurrent Premium</td>\n",
       "      <td>Paris 12</td>\n",
       "      <td>75012</td>\n",
       "      <td>Paris</td>\n",
       "      <td>France</td>\n",
       "      <td>48.832182</td>\n",
       "      <td>2.375729</td>\n",
       "      <td>Concurrent Premium</td>\n",
       "    </tr>\n",
       "    <tr>\n",
       "      <th>105</th>\n",
       "      <td>Concurrent Premium</td>\n",
       "      <td>Paris 16</td>\n",
       "      <td>75016</td>\n",
       "      <td>Paris</td>\n",
       "      <td>France</td>\n",
       "      <td>48.855454</td>\n",
       "      <td>2.280886</td>\n",
       "      <td>Concurrent Premium</td>\n",
       "    </tr>\n",
       "  </tbody>\n",
       "</table>\n",
       "</div>"
      ],
      "text/plain": [
       "                   CompetitorOutletName CompetitorOutletAdress  \\\n",
       "CompetitorOutletId                                               \n",
       "101                  Concurrent Premium              Paris 1er   \n",
       "102                  Concurrent Premium               Paris 15   \n",
       "103                  Concurrent Premium               Paris 18   \n",
       "104                  Concurrent Premium               Paris 12   \n",
       "105                  Concurrent Premium               Paris 16   \n",
       "\n",
       "                    CompetitorOutletZipCode CompetitorOutletCity  \\\n",
       "CompetitorOutletId                                                 \n",
       "101                                   75001                Paris   \n",
       "102                                   75015                Paris   \n",
       "103                                   75018                Paris   \n",
       "104                                   75012                Paris   \n",
       "105                                   75016                Paris   \n",
       "\n",
       "                   CompetitorOutletCountry  CompetitorOutletLatitude  \\\n",
       "CompetitorOutletId                                                     \n",
       "101                                 France                 48.860757   \n",
       "102                                 France                 48.840412   \n",
       "103                                 France                 48.886483   \n",
       "104                                 France                 48.832182   \n",
       "105                                 France                 48.855454   \n",
       "\n",
       "                    CompetitorOutletLongitude CompetitorOutletCompany  \n",
       "CompetitorOutletId                                                     \n",
       "101                                  2.342566      Concurrent Premium  \n",
       "102                                  2.312649      Concurrent Premium  \n",
       "103                                  2.344326      Concurrent Premium  \n",
       "104                                  2.375729      Concurrent Premium  \n",
       "105                                  2.280886      Concurrent Premium  "
      ]
     },
     "execution_count": 16,
     "metadata": {},
     "output_type": "execute_result"
    }
   ],
   "source": [
    "competitorOutlets = session.read_pandas(\n",
    "    competitor_outlets_df,\n",
    "    keys=[\"CompetitorOutletId\"],\n",
    "    store_name=\"CompetitorsOutlet\",\n",
    "    types={\"CompetitorOutletId\": tt.types.INT},\n",
    ")\n",
    "\n",
    "competitorOutlets.head()"
   ]
  },
  {
   "cell_type": "markdown",
   "metadata": {},
   "source": [
    "We choose _ProductSales_ as our base store as it contains the key facts for our outlets.  \n",
    "Correspondingly, we have our _CompetitorPrices_ store that has a many-to-many relationship with our _ProductSales_ as multiple outlets can sell the same products.\n",
    " \n",
    "We can easily setup this many-to-many relationship simply by joining the _CompetitorPrices_ store to our _ProductSales_ store by _ProductId_ and _OutletId_."
   ]
  },
  {
   "cell_type": "code",
   "execution_count": 17,
   "metadata": {},
   "outputs": [],
   "source": [
    "productSales.join(\n",
    "    competitorPrices, mapping={\"ProductId\": \"ProductId\", \"OutletId\": \"OutletId\"}\n",
    ")"
   ]
  },
  {
   "cell_type": "markdown",
   "metadata": {},
   "source": [
    "Let's also enrich our cube with extra information about the outlets to create a [snowflake schema](https://www.geeksforgeeks.org/snowflake-schema-in-data-warehouse-model/)."
   ]
  },
  {
   "cell_type": "code",
   "execution_count": 18,
   "metadata": {},
   "outputs": [],
   "source": [
    "productSales.join(products, mapping={\"ProductId\": \"ProductId\"})\n",
    "productSales.join(outlets, mapping={\"OutletId\": \"OutletId\"})\n",
    "competitorPrices.join(\n",
    "    competitorOutlets, mapping={\"CompetitorOutletId\": \"CompetitorOutletId\"}\n",
    ")\n",
    "competitorPrices.join(\n",
    "    distance_matrix,\n",
    "    mapping={\"CompetitorOutletId\": \"CompetitorOutletId\", \"OutletId\": \"OutletId\"},\n",
    ")"
   ]
  },
  {
   "cell_type": "markdown",
   "metadata": {},
   "source": [
    "Let's see the final design of our cube."
   ]
  },
  {
   "cell_type": "code",
   "execution_count": 19,
   "metadata": {},
   "outputs": [
    {
     "data": {
      "image/svg+xml": [
       "<svg xmlns=\"http://www.w3.org/2000/svg\" xmlns:xlink=\"http://www.w3.org/1999/xlink\" width=\"1053px\" height=\"1155px\" viewBox=\"0.00 0.00 1053.00 1154.50\">\n",
       "<g id=\"graph0\" class=\"graph\" transform=\"scale(1.0 1.0) rotate(0) translate(4 1150.5)\">\n",
       "<title>PriceIndexCube schema</title>\n",
       "<polygon fill=\"white\" stroke=\"none\" points=\"-4,4 -4,-1150.5 1049,-1150.5 1049,4 -4,4\"/>\n",
       "<!-- ProductSales -->\n",
       "<g id=\"node1\" class=\"node\"><title>ProductSales</title>\n",
       "<polygon fill=\"none\" stroke=\"black\" points=\"8,-579 8,-616 144,-616 144,-579 8,-579\"/>\n",
       "<text text-anchor=\"start\" x=\"35\" y=\"-594.8\" font-family=\"Times New Roman,serif\" font-weight=\"bold\" font-size=\"14.00\">ProductSales</text>\n",
       "<polygon fill=\"none\" stroke=\"black\" points=\"8,-542 8,-579 144,-579 144,-542 8,-542\"/>\n",
       "<text text-anchor=\"start\" x=\"19\" y=\"-557.8\" font-family=\"Times New Roman,serif\" font-weight=\"bold\" font-size=\"14.00\">Key</text>\n",
       "<text text-anchor=\"start\" x=\"44\" y=\"-557.8\" font-family=\"Times New Roman,serif\" font-size=\"14.00\">  ProductId </text>\n",
       "<text text-anchor=\"start\" x=\"113\" y=\"-557.8\" font-family=\"Times New Roman,serif\" font-style=\"italic\" font-size=\"14.00\">int</text>\n",
       "<text text-anchor=\"start\" x=\"129\" y=\"-557.8\" font-family=\"Times New Roman,serif\" font-size=\"14.00\"> </text>\n",
       "<polygon fill=\"none\" stroke=\"black\" points=\"8,-505 8,-542 144,-542 144,-505 8,-505\"/>\n",
       "<text text-anchor=\"start\" x=\"19\" y=\"-520.8\" font-family=\"Times New Roman,serif\" font-weight=\"bold\" font-size=\"14.00\">Key</text>\n",
       "<text text-anchor=\"start\" x=\"44\" y=\"-520.8\" font-family=\"Times New Roman,serif\" font-size=\"14.00\">  OutletId </text>\n",
       "<text text-anchor=\"start\" x=\"102\" y=\"-520.8\" font-family=\"Times New Roman,serif\" font-style=\"italic\" font-size=\"14.00\">int</text>\n",
       "<text text-anchor=\"start\" x=\"118\" y=\"-520.8\" font-family=\"Times New Roman,serif\" font-size=\"14.00\"> </text>\n",
       "<polygon fill=\"none\" stroke=\"black\" points=\"8,-468 8,-505 144,-505 144,-468 8,-468\"/>\n",
       "<text text-anchor=\"start\" x=\"19\" y=\"-483.8\" font-family=\"Times New Roman,serif\" font-size=\"14.00\">SellingPrice </text>\n",
       "<text text-anchor=\"start\" x=\"89\" y=\"-483.8\" font-family=\"Times New Roman,serif\" font-style=\"italic\" font-size=\"14.00\">double</text>\n",
       "<text text-anchor=\"start\" x=\"129\" y=\"-483.8\" font-family=\"Times New Roman,serif\" font-size=\"14.00\"> </text>\n",
       "<polygon fill=\"none\" stroke=\"black\" points=\"8,-431 8,-468 144,-468 144,-431 8,-431\"/>\n",
       "<text text-anchor=\"start\" x=\"19\" y=\"-446.8\" font-family=\"Times New Roman,serif\" font-size=\"14.00\">Margin </text>\n",
       "<text text-anchor=\"start\" x=\"62\" y=\"-446.8\" font-family=\"Times New Roman,serif\" font-style=\"italic\" font-size=\"14.00\">double</text>\n",
       "<text text-anchor=\"start\" x=\"102\" y=\"-446.8\" font-family=\"Times New Roman,serif\" font-size=\"14.00\"> </text>\n",
       "</g>\n",
       "<!-- Products -->\n",
       "<g id=\"node2\" class=\"node\"><title>Products</title>\n",
       "<polygon fill=\"none\" stroke=\"black\" points=\"350,-1105 350,-1142 503,-1142 503,-1105 350,-1105\"/>\n",
       "<text text-anchor=\"start\" x=\"399\" y=\"-1120.8\" font-family=\"Times New Roman,serif\" font-weight=\"bold\" font-size=\"14.00\">Products</text>\n",
       "<polygon fill=\"none\" stroke=\"black\" points=\"350,-1068 350,-1105 503,-1105 503,-1068 350,-1068\"/>\n",
       "<text text-anchor=\"start\" x=\"361\" y=\"-1083.8\" font-family=\"Times New Roman,serif\" font-weight=\"bold\" font-size=\"14.00\">Key</text>\n",
       "<text text-anchor=\"start\" x=\"386\" y=\"-1083.8\" font-family=\"Times New Roman,serif\" font-size=\"14.00\">  ProductId </text>\n",
       "<text text-anchor=\"start\" x=\"455\" y=\"-1083.8\" font-family=\"Times New Roman,serif\" font-style=\"italic\" font-size=\"14.00\">int</text>\n",
       "<text text-anchor=\"start\" x=\"471\" y=\"-1083.8\" font-family=\"Times New Roman,serif\" font-size=\"14.00\"> </text>\n",
       "<polygon fill=\"none\" stroke=\"black\" points=\"350,-1031 350,-1068 503,-1068 503,-1031 350,-1031\"/>\n",
       "<text text-anchor=\"start\" x=\"361\" y=\"-1046.8\" font-family=\"Times New Roman,serif\" font-size=\"14.00\">EAN </text>\n",
       "<text text-anchor=\"start\" x=\"393\" y=\"-1046.8\" font-family=\"Times New Roman,serif\" font-style=\"italic\" font-size=\"14.00\">long</text>\n",
       "<text text-anchor=\"start\" x=\"419\" y=\"-1046.8\" font-family=\"Times New Roman,serif\" font-size=\"14.00\"> </text>\n",
       "<polygon fill=\"none\" stroke=\"black\" points=\"350,-994 350,-1031 503,-1031 503,-994 350,-994\"/>\n",
       "<text text-anchor=\"start\" x=\"361\" y=\"-1009.8\" font-family=\"Times New Roman,serif\" font-size=\"14.00\">ProductName </text>\n",
       "<text text-anchor=\"start\" x=\"443\" y=\"-1009.8\" font-family=\"Times New Roman,serif\" font-style=\"italic\" font-size=\"14.00\">String</text>\n",
       "<text text-anchor=\"start\" x=\"479\" y=\"-1009.8\" font-family=\"Times New Roman,serif\" font-size=\"14.00\"> </text>\n",
       "<polygon fill=\"none\" stroke=\"black\" points=\"350,-957 350,-994 503,-994 503,-957 350,-957\"/>\n",
       "<text text-anchor=\"start\" x=\"361\" y=\"-972.8\" font-family=\"Times New Roman,serif\" font-size=\"14.00\">Brand </text>\n",
       "<text text-anchor=\"start\" x=\"399\" y=\"-972.8\" font-family=\"Times New Roman,serif\" font-style=\"italic\" font-size=\"14.00\">String</text>\n",
       "<text text-anchor=\"start\" x=\"435\" y=\"-972.8\" font-family=\"Times New Roman,serif\" font-size=\"14.00\"> </text>\n",
       "<polygon fill=\"none\" stroke=\"black\" points=\"350,-920 350,-957 503,-957 503,-920 350,-920\"/>\n",
       "<text text-anchor=\"start\" x=\"361\" y=\"-935.8\" font-family=\"Times New Roman,serif\" font-size=\"14.00\">Size </text>\n",
       "<text text-anchor=\"start\" x=\"389\" y=\"-935.8\" font-family=\"Times New Roman,serif\" font-style=\"italic\" font-size=\"14.00\">String</text>\n",
       "<text text-anchor=\"start\" x=\"425\" y=\"-935.8\" font-family=\"Times New Roman,serif\" font-size=\"14.00\"> </text>\n",
       "<polygon fill=\"none\" stroke=\"black\" points=\"350,-883 350,-920 503,-920 503,-883 350,-883\"/>\n",
       "<text text-anchor=\"start\" x=\"361\" y=\"-898.8\" font-family=\"Times New Roman,serif\" font-size=\"14.00\">Unit </text>\n",
       "<text text-anchor=\"start\" x=\"389\" y=\"-898.8\" font-family=\"Times New Roman,serif\" font-style=\"italic\" font-size=\"14.00\">String</text>\n",
       "<text text-anchor=\"start\" x=\"425\" y=\"-898.8\" font-family=\"Times New Roman,serif\" font-size=\"14.00\"> </text>\n",
       "<polygon fill=\"none\" stroke=\"black\" points=\"350,-846 350,-883 503,-883 503,-846 350,-846\"/>\n",
       "<text text-anchor=\"start\" x=\"361\" y=\"-861.8\" font-family=\"Times New Roman,serif\" font-size=\"14.00\">Department </text>\n",
       "<text text-anchor=\"start\" x=\"430\" y=\"-861.8\" font-family=\"Times New Roman,serif\" font-style=\"italic\" font-size=\"14.00\">String</text>\n",
       "<text text-anchor=\"start\" x=\"466\" y=\"-861.8\" font-family=\"Times New Roman,serif\" font-size=\"14.00\"> </text>\n",
       "<polygon fill=\"none\" stroke=\"black\" points=\"350,-809 350,-846 503,-846 503,-809 350,-809\"/>\n",
       "<text text-anchor=\"start\" x=\"361\" y=\"-824.8\" font-family=\"Times New Roman,serif\" font-size=\"14.00\">SubDepartment </text>\n",
       "<text text-anchor=\"start\" x=\"452\" y=\"-824.8\" font-family=\"Times New Roman,serif\" font-style=\"italic\" font-size=\"14.00\">String</text>\n",
       "<text text-anchor=\"start\" x=\"488\" y=\"-824.8\" font-family=\"Times New Roman,serif\" font-size=\"14.00\"> </text>\n",
       "<polygon fill=\"none\" stroke=\"black\" points=\"350,-772 350,-809 503,-809 503,-772 350,-772\"/>\n",
       "<text text-anchor=\"start\" x=\"361\" y=\"-787.8\" font-family=\"Times New Roman,serif\" font-size=\"14.00\">Category </text>\n",
       "<text text-anchor=\"start\" x=\"416\" y=\"-787.8\" font-family=\"Times New Roman,serif\" font-style=\"italic\" font-size=\"14.00\">String</text>\n",
       "<text text-anchor=\"start\" x=\"452\" y=\"-787.8\" font-family=\"Times New Roman,serif\" font-size=\"14.00\"> </text>\n",
       "<polygon fill=\"none\" stroke=\"black\" points=\"350,-735 350,-772 503,-772 503,-735 350,-735\"/>\n",
       "<text text-anchor=\"start\" x=\"361\" y=\"-750.8\" font-family=\"Times New Roman,serif\" font-size=\"14.00\">SubCategory </text>\n",
       "<text text-anchor=\"start\" x=\"439\" y=\"-750.8\" font-family=\"Times New Roman,serif\" font-style=\"italic\" font-size=\"14.00\">String</text>\n",
       "<text text-anchor=\"start\" x=\"475\" y=\"-750.8\" font-family=\"Times New Roman,serif\" font-size=\"14.00\"> </text>\n",
       "</g>\n",
       "<!-- ProductSales&#45;&gt;Products -->\n",
       "<g id=\"edge3\" class=\"edge\"><title>ProductSales-&gt;Products</title>\n",
       "<path fill=\"none\" stroke=\"black\" d=\"M152.082,-613.538C205.664,-677.436 277.986,-763.682 334.718,-831.337\"/>\n",
       "<polygon fill=\"black\" stroke=\"black\" points=\"332.099,-833.66 341.206,-839.074 337.463,-829.162 332.099,-833.66\"/>\n",
       "<text text-anchor=\"middle\" x=\"238\" y=\"-795.8\" font-family=\"Times New Roman,serif\" font-size=\"14.00\">ProductId → ProductId</text>\n",
       "</g>\n",
       "<!-- Outlets -->\n",
       "<g id=\"node3\" class=\"node\"><title>Outlets</title>\n",
       "<polygon fill=\"none\" stroke=\"black\" points=\"360,-672 360,-709 492,-709 492,-672 360,-672\"/>\n",
       "<text text-anchor=\"start\" x=\"403.5\" y=\"-687.8\" font-family=\"Times New Roman,serif\" font-weight=\"bold\" font-size=\"14.00\">Outlets</text>\n",
       "<polygon fill=\"none\" stroke=\"black\" points=\"360,-635 360,-672 492,-672 492,-635 360,-635\"/>\n",
       "<text text-anchor=\"start\" x=\"371\" y=\"-650.8\" font-family=\"Times New Roman,serif\" font-weight=\"bold\" font-size=\"14.00\">Key</text>\n",
       "<text text-anchor=\"start\" x=\"396\" y=\"-650.8\" font-family=\"Times New Roman,serif\" font-size=\"14.00\">  OutletId </text>\n",
       "<text text-anchor=\"start\" x=\"454\" y=\"-650.8\" font-family=\"Times New Roman,serif\" font-style=\"italic\" font-size=\"14.00\">int</text>\n",
       "<text text-anchor=\"start\" x=\"470\" y=\"-650.8\" font-family=\"Times New Roman,serif\" font-size=\"14.00\"> </text>\n",
       "<polygon fill=\"none\" stroke=\"black\" points=\"360,-598 360,-635 492,-635 492,-598 360,-598\"/>\n",
       "<text text-anchor=\"start\" x=\"371\" y=\"-613.8\" font-family=\"Times New Roman,serif\" font-size=\"14.00\">OutletName </text>\n",
       "<text text-anchor=\"start\" x=\"441\" y=\"-613.8\" font-family=\"Times New Roman,serif\" font-style=\"italic\" font-size=\"14.00\">String</text>\n",
       "<text text-anchor=\"start\" x=\"477\" y=\"-613.8\" font-family=\"Times New Roman,serif\" font-size=\"14.00\"> </text>\n",
       "<polygon fill=\"none\" stroke=\"black\" points=\"360,-561 360,-598 492,-598 492,-561 360,-561\"/>\n",
       "<text text-anchor=\"start\" x=\"371\" y=\"-576.8\" font-family=\"Times New Roman,serif\" font-size=\"14.00\">Adress </text>\n",
       "<text text-anchor=\"start\" x=\"415\" y=\"-576.8\" font-family=\"Times New Roman,serif\" font-style=\"italic\" font-size=\"14.00\">String</text>\n",
       "<text text-anchor=\"start\" x=\"451\" y=\"-576.8\" font-family=\"Times New Roman,serif\" font-size=\"14.00\"> </text>\n",
       "<polygon fill=\"none\" stroke=\"black\" points=\"360,-524 360,-561 492,-561 492,-524 360,-524\"/>\n",
       "<text text-anchor=\"start\" x=\"371\" y=\"-539.8\" font-family=\"Times New Roman,serif\" font-size=\"14.00\">ZipCode </text>\n",
       "<text text-anchor=\"start\" x=\"425\" y=\"-539.8\" font-family=\"Times New Roman,serif\" font-style=\"italic\" font-size=\"14.00\">long</text>\n",
       "<text text-anchor=\"start\" x=\"451\" y=\"-539.8\" font-family=\"Times New Roman,serif\" font-size=\"14.00\"> </text>\n",
       "<polygon fill=\"none\" stroke=\"black\" points=\"360,-487 360,-524 492,-524 492,-487 360,-487\"/>\n",
       "<text text-anchor=\"start\" x=\"371\" y=\"-502.8\" font-family=\"Times New Roman,serif\" font-size=\"14.00\">City </text>\n",
       "<text text-anchor=\"start\" x=\"399\" y=\"-502.8\" font-family=\"Times New Roman,serif\" font-style=\"italic\" font-size=\"14.00\">String</text>\n",
       "<text text-anchor=\"start\" x=\"435\" y=\"-502.8\" font-family=\"Times New Roman,serif\" font-size=\"14.00\"> </text>\n",
       "<polygon fill=\"none\" stroke=\"black\" points=\"360,-450 360,-487 492,-487 492,-450 360,-450\"/>\n",
       "<text text-anchor=\"start\" x=\"371\" y=\"-465.8\" font-family=\"Times New Roman,serif\" font-size=\"14.00\">Country </text>\n",
       "<text text-anchor=\"start\" x=\"421\" y=\"-465.8\" font-family=\"Times New Roman,serif\" font-style=\"italic\" font-size=\"14.00\">String</text>\n",
       "<text text-anchor=\"start\" x=\"457\" y=\"-465.8\" font-family=\"Times New Roman,serif\" font-size=\"14.00\"> </text>\n",
       "<polygon fill=\"none\" stroke=\"black\" points=\"360,-413 360,-450 492,-450 492,-413 360,-413\"/>\n",
       "<text text-anchor=\"start\" x=\"371\" y=\"-428.8\" font-family=\"Times New Roman,serif\" font-size=\"14.00\">Latitude </text>\n",
       "<text text-anchor=\"start\" x=\"420\" y=\"-428.8\" font-family=\"Times New Roman,serif\" font-style=\"italic\" font-size=\"14.00\">double</text>\n",
       "<text text-anchor=\"start\" x=\"460\" y=\"-428.8\" font-family=\"Times New Roman,serif\" font-size=\"14.00\"> </text>\n",
       "<polygon fill=\"none\" stroke=\"black\" points=\"360,-376 360,-413 492,-413 492,-376 360,-376\"/>\n",
       "<text text-anchor=\"start\" x=\"371\" y=\"-391.8\" font-family=\"Times New Roman,serif\" font-size=\"14.00\">Longitude </text>\n",
       "<text text-anchor=\"start\" x=\"432\" y=\"-391.8\" font-family=\"Times New Roman,serif\" font-style=\"italic\" font-size=\"14.00\">double</text>\n",
       "<text text-anchor=\"start\" x=\"472\" y=\"-391.8\" font-family=\"Times New Roman,serif\" font-size=\"14.00\"> </text>\n",
       "<polygon fill=\"none\" stroke=\"black\" points=\"360,-339 360,-376 492,-376 492,-339 360,-339\"/>\n",
       "<text text-anchor=\"start\" x=\"371\" y=\"-354.8\" font-family=\"Times New Roman,serif\" font-size=\"14.00\">Company </text>\n",
       "<text text-anchor=\"start\" x=\"430\" y=\"-354.8\" font-family=\"Times New Roman,serif\" font-style=\"italic\" font-size=\"14.00\">String</text>\n",
       "<text text-anchor=\"start\" x=\"466\" y=\"-354.8\" font-family=\"Times New Roman,serif\" font-size=\"14.00\"> </text>\n",
       "</g>\n",
       "<!-- ProductSales&#45;&gt;Outlets -->\n",
       "<g id=\"edge2\" class=\"edge\"><title>ProductSales-&gt;Outlets</title>\n",
       "<path fill=\"none\" stroke=\"black\" d=\"M152.082,-524C207.876,-524 283.989,-524 341.662,-524\"/>\n",
       "<polygon fill=\"black\" stroke=\"black\" points=\"341.842,-527.5 351.842,-524 341.842,-520.5 341.842,-527.5\"/>\n",
       "<text text-anchor=\"middle\" x=\"238\" y=\"-527.8\" font-family=\"Times New Roman,serif\" font-size=\"14.00\">OutletId → OutletId</text>\n",
       "</g>\n",
       "<!-- CompetitorPrices -->\n",
       "<g id=\"node4\" class=\"node\"><title>CompetitorPrices</title>\n",
       "<polygon fill=\"none\" stroke=\"black\" points=\"332,-275 332,-312 520,-312 520,-275 332,-275\"/>\n",
       "<text text-anchor=\"start\" x=\"371.5\" y=\"-290.8\" font-family=\"Times New Roman,serif\" font-weight=\"bold\" font-size=\"14.00\">CompetitorPrices</text>\n",
       "<polygon fill=\"none\" stroke=\"black\" points=\"332,-238 332,-275 520,-275 520,-238 332,-238\"/>\n",
       "<text text-anchor=\"start\" x=\"343\" y=\"-253.8\" font-family=\"Times New Roman,serif\" font-weight=\"bold\" font-size=\"14.00\">Key</text>\n",
       "<text text-anchor=\"start\" x=\"368\" y=\"-253.8\" font-family=\"Times New Roman,serif\" font-size=\"14.00\">  ProductId </text>\n",
       "<text text-anchor=\"start\" x=\"437\" y=\"-253.8\" font-family=\"Times New Roman,serif\" font-style=\"italic\" font-size=\"14.00\">int</text>\n",
       "<text text-anchor=\"start\" x=\"453\" y=\"-253.8\" font-family=\"Times New Roman,serif\" font-size=\"14.00\"> </text>\n",
       "<polygon fill=\"none\" stroke=\"black\" points=\"332,-201 332,-238 520,-238 520,-201 332,-201\"/>\n",
       "<text text-anchor=\"start\" x=\"343\" y=\"-216.8\" font-family=\"Times New Roman,serif\" font-weight=\"bold\" font-size=\"14.00\">Key</text>\n",
       "<text text-anchor=\"start\" x=\"368\" y=\"-216.8\" font-family=\"Times New Roman,serif\" font-size=\"14.00\">  CompetitorOutletId </text>\n",
       "<text text-anchor=\"start\" x=\"489\" y=\"-216.8\" font-family=\"Times New Roman,serif\" font-style=\"italic\" font-size=\"14.00\">int</text>\n",
       "<text text-anchor=\"start\" x=\"505\" y=\"-216.8\" font-family=\"Times New Roman,serif\" font-size=\"14.00\"> </text>\n",
       "<polygon fill=\"none\" stroke=\"black\" points=\"332,-164 332,-201 520,-201 520,-164 332,-164\"/>\n",
       "<text text-anchor=\"start\" x=\"343\" y=\"-179.8\" font-family=\"Times New Roman,serif\" font-weight=\"bold\" font-size=\"14.00\">Key</text>\n",
       "<text text-anchor=\"start\" x=\"368\" y=\"-179.8\" font-family=\"Times New Roman,serif\" font-size=\"14.00\">  OutletId </text>\n",
       "<text text-anchor=\"start\" x=\"426\" y=\"-179.8\" font-family=\"Times New Roman,serif\" font-style=\"italic\" font-size=\"14.00\">int</text>\n",
       "<text text-anchor=\"start\" x=\"442\" y=\"-179.8\" font-family=\"Times New Roman,serif\" font-size=\"14.00\"> </text>\n",
       "<polygon fill=\"none\" stroke=\"black\" points=\"332,-127 332,-164 520,-164 520,-127 332,-127\"/>\n",
       "<text text-anchor=\"start\" x=\"343\" y=\"-142.8\" font-family=\"Times New Roman,serif\" font-size=\"14.00\">CompetitorPrice </text>\n",
       "<text text-anchor=\"start\" x=\"440\" y=\"-142.8\" font-family=\"Times New Roman,serif\" font-style=\"italic\" font-size=\"14.00\">double</text>\n",
       "<text text-anchor=\"start\" x=\"480\" y=\"-142.8\" font-family=\"Times New Roman,serif\" font-size=\"14.00\"> </text>\n",
       "</g>\n",
       "<!-- ProductSales&#45;&gt;CompetitorPrices -->\n",
       "<g id=\"edge1\" class=\"edge\"><title>ProductSales-&gt;CompetitorPrices</title>\n",
       "<path fill=\"none\" stroke=\"black\" stroke-dasharray=\"5,2\" d=\"M152.082,-458.411C199.979,-416.57 262.849,-361.649 316.174,-315.066\"/>\n",
       "<polygon fill=\"black\" stroke=\"black\" points=\"318.741,-317.472 323.969,-308.257 314.135,-312.2 318.741,-317.472\"/>\n",
       "<text text-anchor=\"middle\" x=\"238\" y=\"-460.8\" font-family=\"Times New Roman,serif\" font-size=\"14.00\">OutletId → OutletId</text>\n",
       "<text text-anchor=\"middle\" x=\"238\" y=\"-445.8\" font-family=\"Times New Roman,serif\" font-size=\"14.00\">ProductId → ProductId</text>\n",
       "</g>\n",
       "<!-- CompetitorsOutlet -->\n",
       "<g id=\"node5\" class=\"node\"><title>CompetitorsOutlet</title>\n",
       "<polygon fill=\"none\" stroke=\"black\" points=\"813,-511 813,-548 1037,-548 1037,-511 813,-511\"/>\n",
       "<text text-anchor=\"start\" x=\"867.5\" y=\"-526.8\" font-family=\"Times New Roman,serif\" font-weight=\"bold\" font-size=\"14.00\">CompetitorsOutlet</text>\n",
       "<polygon fill=\"none\" stroke=\"black\" points=\"813,-474 813,-511 1037,-511 1037,-474 813,-474\"/>\n",
       "<text text-anchor=\"start\" x=\"824\" y=\"-489.8\" font-family=\"Times New Roman,serif\" font-weight=\"bold\" font-size=\"14.00\">Key</text>\n",
       "<text text-anchor=\"start\" x=\"849\" y=\"-489.8\" font-family=\"Times New Roman,serif\" font-size=\"14.00\">  CompetitorOutletId </text>\n",
       "<text text-anchor=\"start\" x=\"970\" y=\"-489.8\" font-family=\"Times New Roman,serif\" font-style=\"italic\" font-size=\"14.00\">int</text>\n",
       "<text text-anchor=\"start\" x=\"986\" y=\"-489.8\" font-family=\"Times New Roman,serif\" font-size=\"14.00\"> </text>\n",
       "<polygon fill=\"none\" stroke=\"black\" points=\"813,-437 813,-474 1037,-474 1037,-437 813,-437\"/>\n",
       "<text text-anchor=\"start\" x=\"824\" y=\"-452.8\" font-family=\"Times New Roman,serif\" font-size=\"14.00\">CompetitorOutletName </text>\n",
       "<text text-anchor=\"start\" x=\"958\" y=\"-452.8\" font-family=\"Times New Roman,serif\" font-style=\"italic\" font-size=\"14.00\">String</text>\n",
       "<text text-anchor=\"start\" x=\"994\" y=\"-452.8\" font-family=\"Times New Roman,serif\" font-size=\"14.00\"> </text>\n",
       "<polygon fill=\"none\" stroke=\"black\" points=\"813,-400 813,-437 1037,-437 1037,-400 813,-400\"/>\n",
       "<text text-anchor=\"start\" x=\"824\" y=\"-415.8\" font-family=\"Times New Roman,serif\" font-size=\"14.00\">CompetitorOutletAdress </text>\n",
       "<text text-anchor=\"start\" x=\"966\" y=\"-415.8\" font-family=\"Times New Roman,serif\" font-style=\"italic\" font-size=\"14.00\">String</text>\n",
       "<text text-anchor=\"start\" x=\"1002\" y=\"-415.8\" font-family=\"Times New Roman,serif\" font-size=\"14.00\"> </text>\n",
       "<polygon fill=\"none\" stroke=\"black\" points=\"813,-363 813,-400 1037,-400 1037,-363 813,-363\"/>\n",
       "<text text-anchor=\"start\" x=\"824\" y=\"-378.8\" font-family=\"Times New Roman,serif\" font-size=\"14.00\">CompetitorOutletZipCode </text>\n",
       "<text text-anchor=\"start\" x=\"975\" y=\"-378.8\" font-family=\"Times New Roman,serif\" font-style=\"italic\" font-size=\"14.00\">long</text>\n",
       "<text text-anchor=\"start\" x=\"1001\" y=\"-378.8\" font-family=\"Times New Roman,serif\" font-size=\"14.00\"> </text>\n",
       "<polygon fill=\"none\" stroke=\"black\" points=\"813,-326 813,-363 1037,-363 1037,-326 813,-326\"/>\n",
       "<text text-anchor=\"start\" x=\"824\" y=\"-341.8\" font-family=\"Times New Roman,serif\" font-size=\"14.00\">CompetitorOutletCity </text>\n",
       "<text text-anchor=\"start\" x=\"949\" y=\"-341.8\" font-family=\"Times New Roman,serif\" font-style=\"italic\" font-size=\"14.00\">String</text>\n",
       "<text text-anchor=\"start\" x=\"985\" y=\"-341.8\" font-family=\"Times New Roman,serif\" font-size=\"14.00\"> </text>\n",
       "<polygon fill=\"none\" stroke=\"black\" points=\"813,-289 813,-326 1037,-326 1037,-289 813,-289\"/>\n",
       "<text text-anchor=\"start\" x=\"824\" y=\"-304.8\" font-family=\"Times New Roman,serif\" font-size=\"14.00\">CompetitorOutletCountry </text>\n",
       "<text text-anchor=\"start\" x=\"972\" y=\"-304.8\" font-family=\"Times New Roman,serif\" font-style=\"italic\" font-size=\"14.00\">String</text>\n",
       "<text text-anchor=\"start\" x=\"1008\" y=\"-304.8\" font-family=\"Times New Roman,serif\" font-size=\"14.00\"> </text>\n",
       "<polygon fill=\"none\" stroke=\"black\" points=\"813,-252 813,-289 1037,-289 1037,-252 813,-252\"/>\n",
       "<text text-anchor=\"start\" x=\"824\" y=\"-267.8\" font-family=\"Times New Roman,serif\" font-size=\"14.00\">CompetitorOutletLatitude </text>\n",
       "<text text-anchor=\"start\" x=\"971\" y=\"-267.8\" font-family=\"Times New Roman,serif\" font-style=\"italic\" font-size=\"14.00\">double</text>\n",
       "<text text-anchor=\"start\" x=\"1011\" y=\"-267.8\" font-family=\"Times New Roman,serif\" font-size=\"14.00\"> </text>\n",
       "<polygon fill=\"none\" stroke=\"black\" points=\"813,-215 813,-252 1037,-252 1037,-215 813,-215\"/>\n",
       "<text text-anchor=\"start\" x=\"824\" y=\"-230.8\" font-family=\"Times New Roman,serif\" font-size=\"14.00\">CompetitorOutletLongitude </text>\n",
       "<text text-anchor=\"start\" x=\"982\" y=\"-230.8\" font-family=\"Times New Roman,serif\" font-style=\"italic\" font-size=\"14.00\">double</text>\n",
       "<text text-anchor=\"start\" x=\"1022\" y=\"-230.8\" font-family=\"Times New Roman,serif\" font-size=\"14.00\"> </text>\n",
       "<polygon fill=\"none\" stroke=\"black\" points=\"813,-178 813,-215 1037,-215 1037,-178 813,-178\"/>\n",
       "<text text-anchor=\"start\" x=\"824\" y=\"-193.8\" font-family=\"Times New Roman,serif\" font-size=\"14.00\">CompetitorOutletCompany </text>\n",
       "<text text-anchor=\"start\" x=\"981\" y=\"-193.8\" font-family=\"Times New Roman,serif\" font-style=\"italic\" font-size=\"14.00\">String</text>\n",
       "<text text-anchor=\"start\" x=\"1017\" y=\"-193.8\" font-family=\"Times New Roman,serif\" font-size=\"14.00\"> </text>\n",
       "</g>\n",
       "<!-- CompetitorPrices&#45;&gt;CompetitorsOutlet -->\n",
       "<g id=\"edge5\" class=\"edge\"><title>CompetitorPrices-&gt;CompetitorsOutlet</title>\n",
       "<path fill=\"none\" stroke=\"black\" d=\"M528.174,-249.111C605.163,-271.262 711.679,-301.91 794.825,-325.833\"/>\n",
       "<polygon fill=\"black\" stroke=\"black\" points=\"794.01,-329.24 804.588,-328.642 795.946,-322.513 794.01,-329.24\"/>\n",
       "<text text-anchor=\"middle\" x=\"666.5\" y=\"-323.8\" font-family=\"Times New Roman,serif\" font-size=\"14.00\">CompetitorOutletId → CompetitorOutletId</text>\n",
       "</g>\n",
       "<!-- DistanceMatrix -->\n",
       "<g id=\"node6\" class=\"node\"><title>DistanceMatrix</title>\n",
       "<polygon fill=\"none\" stroke=\"black\" points=\"821,-115 821,-152 1030,-152 1030,-115 821,-115\"/>\n",
       "<text text-anchor=\"start\" x=\"877.5\" y=\"-130.8\" font-family=\"Times New Roman,serif\" font-weight=\"bold\" font-size=\"14.00\">DistanceMatrix</text>\n",
       "<polygon fill=\"none\" stroke=\"black\" points=\"821,-78 821,-115 1030,-115 1030,-78 821,-78\"/>\n",
       "<text text-anchor=\"start\" x=\"832\" y=\"-93.8\" font-family=\"Times New Roman,serif\" font-weight=\"bold\" font-size=\"14.00\">Key</text>\n",
       "<text text-anchor=\"start\" x=\"857\" y=\"-93.8\" font-family=\"Times New Roman,serif\" font-size=\"14.00\">  OutletId </text>\n",
       "<text text-anchor=\"start\" x=\"915\" y=\"-93.8\" font-family=\"Times New Roman,serif\" font-style=\"italic\" font-size=\"14.00\">int</text>\n",
       "<text text-anchor=\"start\" x=\"931\" y=\"-93.8\" font-family=\"Times New Roman,serif\" font-size=\"14.00\"> </text>\n",
       "<polygon fill=\"none\" stroke=\"black\" points=\"821,-41 821,-78 1030,-78 1030,-41 821,-41\"/>\n",
       "<text text-anchor=\"start\" x=\"832\" y=\"-56.8\" font-family=\"Times New Roman,serif\" font-weight=\"bold\" font-size=\"14.00\">Key</text>\n",
       "<text text-anchor=\"start\" x=\"857\" y=\"-56.8\" font-family=\"Times New Roman,serif\" font-size=\"14.00\">  CompetitorOutletId </text>\n",
       "<text text-anchor=\"start\" x=\"978\" y=\"-56.8\" font-family=\"Times New Roman,serif\" font-style=\"italic\" font-size=\"14.00\">int</text>\n",
       "<text text-anchor=\"start\" x=\"994\" y=\"-56.8\" font-family=\"Times New Roman,serif\" font-size=\"14.00\"> </text>\n",
       "<polygon fill=\"none\" stroke=\"black\" points=\"821,-4 821,-41 1030,-41 1030,-4 821,-4\"/>\n",
       "<text text-anchor=\"start\" x=\"832\" y=\"-19.8\" font-family=\"Times New Roman,serif\" font-size=\"14.00\">Competitor distance KM </text>\n",
       "<text text-anchor=\"start\" x=\"975\" y=\"-19.8\" font-family=\"Times New Roman,serif\" font-style=\"italic\" font-size=\"14.00\">double</text>\n",
       "<text text-anchor=\"start\" x=\"1015\" y=\"-19.8\" font-family=\"Times New Roman,serif\" font-size=\"14.00\"> </text>\n",
       "</g>\n",
       "<!-- CompetitorPrices&#45;&gt;DistanceMatrix -->\n",
       "<g id=\"edge4\" class=\"edge\"><title>CompetitorPrices-&gt;DistanceMatrix</title>\n",
       "<path fill=\"none\" stroke=\"black\" d=\"M528.174,-191.093C607.484,-168.433 718.127,-136.821 802.278,-112.778\"/>\n",
       "<polygon fill=\"black\" stroke=\"black\" points=\"803.492,-116.071 812.146,-109.958 801.569,-109.34 803.492,-116.071\"/>\n",
       "<text text-anchor=\"middle\" x=\"666.5\" y=\"-203.8\" font-family=\"Times New Roman,serif\" font-size=\"14.00\">OutletId → OutletId</text>\n",
       "<text text-anchor=\"middle\" x=\"666.5\" y=\"-188.8\" font-family=\"Times New Roman,serif\" font-size=\"14.00\">CompetitorOutletId → CompetitorOutletId</text>\n",
       "</g>\n",
       "</g>\n",
       "</svg>"
      ],
      "text/plain": [
       "<IPython.core.display.SVG object>"
      ]
     },
     "execution_count": 19,
     "metadata": {},
     "output_type": "execute_result"
    }
   ],
   "source": [
    "price_index_cube.schema"
   ]
  },
  {
   "cell_type": "code",
   "execution_count": 20,
   "metadata": {},
   "outputs": [],
   "source": [
    "h = price_index_cube.hierarchies\n",
    "m = price_index_cube.measures\n",
    "lvl = price_index_cube.levels"
   ]
  },
  {
   "cell_type": "code",
   "execution_count": 21,
   "metadata": {},
   "outputs": [
    {
     "data": {
      "application/json": {
       "Competitor distance KM.VALUE": {
        "formatter": "DOUBLE[#,###.00]",
        "visible": true
       },
       "CompetitorOutletLatitude.VALUE": {
        "formatter": "DOUBLE[#,###.00]",
        "visible": true
       },
       "CompetitorOutletLongitude.VALUE": {
        "formatter": "DOUBLE[#,###.00]",
        "visible": true
       },
       "CompetitorPrice.VALUE": {
        "formatter": "DOUBLE[#,###.00]",
        "visible": true
       },
       "Latitude.VALUE": {
        "formatter": "DOUBLE[#,###.00]",
        "visible": true
       },
       "Longitude.VALUE": {
        "formatter": "DOUBLE[#,###.00]",
        "visible": true
       },
       "Margin.MEAN": {
        "formatter": "DOUBLE[#,###.00]",
        "visible": true
       },
       "Margin.SUM": {
        "formatter": "DOUBLE[#,###.00]",
        "visible": true
       },
       "SellingPrice.MEAN": {
        "formatter": "DOUBLE[#,###.00]",
        "visible": true
       },
       "SellingPrice.SUM": {
        "formatter": "DOUBLE[#,###.00]",
        "visible": true
       },
       "contributors.COUNT": {
        "formatter": null,
        "visible": true
       }
      },
      "text/html": [
       "<ul>\n",
       "<li>Measures\n",
       "  <ul>\n",
       "  <li>Competitor distance KM.VALUE\n",
       "    <ul>\n",
       "    <li>formatter: DOUBLE[#,###.00]</li>\n",
       "    <li>visible: True</li>\n",
       "    </ul>\n",
       "  </li>\n",
       "  <li>CompetitorOutletLatitude.VALUE\n",
       "    <ul>\n",
       "    <li>formatter: DOUBLE[#,###.00]</li>\n",
       "    <li>visible: True</li>\n",
       "    </ul>\n",
       "  </li>\n",
       "  <li>CompetitorOutletLongitude.VALUE\n",
       "    <ul>\n",
       "    <li>formatter: DOUBLE[#,###.00]</li>\n",
       "    <li>visible: True</li>\n",
       "    </ul>\n",
       "  </li>\n",
       "  <li>CompetitorPrice.VALUE\n",
       "    <ul>\n",
       "    <li>formatter: DOUBLE[#,###.00]</li>\n",
       "    <li>visible: True</li>\n",
       "    </ul>\n",
       "  </li>\n",
       "  <li>Latitude.VALUE\n",
       "    <ul>\n",
       "    <li>formatter: DOUBLE[#,###.00]</li>\n",
       "    <li>visible: True</li>\n",
       "    </ul>\n",
       "  </li>\n",
       "  <li>Longitude.VALUE\n",
       "    <ul>\n",
       "    <li>formatter: DOUBLE[#,###.00]</li>\n",
       "    <li>visible: True</li>\n",
       "    </ul>\n",
       "  </li>\n",
       "  <li>Margin.MEAN\n",
       "    <ul>\n",
       "    <li>formatter: DOUBLE[#,###.00]</li>\n",
       "    <li>visible: True</li>\n",
       "    </ul>\n",
       "  </li>\n",
       "  <li>Margin.SUM\n",
       "    <ul>\n",
       "    <li>formatter: DOUBLE[#,###.00]</li>\n",
       "    <li>visible: True</li>\n",
       "    </ul>\n",
       "  </li>\n",
       "  <li>SellingPrice.MEAN\n",
       "    <ul>\n",
       "    <li>formatter: DOUBLE[#,###.00]</li>\n",
       "    <li>visible: True</li>\n",
       "    </ul>\n",
       "  </li>\n",
       "  <li>SellingPrice.SUM\n",
       "    <ul>\n",
       "    <li>formatter: DOUBLE[#,###.00]</li>\n",
       "    <li>visible: True</li>\n",
       "    </ul>\n",
       "  </li>\n",
       "  <li>contributors.COUNT\n",
       "    <ul>\n",
       "    <li>formatter: None</li>\n",
       "    <li>visible: True</li>\n",
       "    </ul>\n",
       "  </li>\n",
       "  </ul>\n",
       "</li>\n",
       "</ul>\n"
      ],
      "text/plain": [
       "Measures()"
      ]
     },
     "execution_count": 21,
     "metadata": {
      "application/json": {
       "expanded": false,
       "root": "Measures"
      }
     },
     "output_type": "execute_result"
    }
   ],
   "source": [
    "m"
   ]
  },
  {
   "cell_type": "markdown",
   "metadata": {},
   "source": [
    "We can see a _SUM_ and _MEAN_ measure is created columns of type double/float for the base store - _ProductSales_.  \n",
    "A _VALUE_ measure is created for columns of type double/float in the other referenced stores.  \n",
    "\n",
    "With the cube created, let's start by computing the price index per outlet."
   ]
  },
  {
   "cell_type": "markdown",
   "metadata": {},
   "source": [
    "### 1. Computing the price index per outlet\n",
    "\n",
    "There are different existing formulas for the price index but the idea behind is always the same: the price index is a measurement of where a retailer is positioned compared to one or multiple of its competitors.\n",
    "\n",
    "The formula we will use in this example compares a product price to the average price found among the local competitors of a particular outlet, measuring at which percentage of this average competitors price the product is.\n",
    "\n",
    "We will weight the price index indicator by the margin when aggregating above outlet and product level. This is so that we can later optimize the price index for products that contribute the most to the margin. Other commonly used formulas weight by sales quantity or revenue.\n",
    "\n",
    "#### Price index formula:\n",
    "\n",
    "# $100 \\times \\frac{\\sum_{o,p \\in (Outlets,Products)}\\frac{Selling Price(o,p)}{Average Competitor Price(o,p)} \\times Margin(o,p)}{\\sum_{o,p \\in (Outlets,Products)}Margin(o,p)}$  \n",
    "\n",
    "Let's create a measure to get the mean of _CompetitorPrice_ which will be used to derive the price index."
   ]
  },
  {
   "cell_type": "code",
   "execution_count": 22,
   "metadata": {},
   "outputs": [],
   "source": [
    "m[\"CompetitorPrice.MEAN\"] = tt.agg.mean(competitorPrices[\"CompetitorPrice\"])"
   ]
  },
  {
   "cell_type": "markdown",
   "metadata": {},
   "source": [
    "We see how the weight price index indicator can be achieved in the next few cells.  \n",
    "Realize how we are setting the scope on _ProductId_ and _OutletId_? This will ensure the summation of the various measures at the _Outlets_ and _Product_ level as required by the formula.\n",
    "\n",
    "# ${\\sum_{o,p \\in (Outlets,Products)}\\frac{Selling Price(o,p)}{Average Competitor Price(o,p)} \\times Margin(o,p)}$"
   ]
  },
  {
   "cell_type": "code",
   "execution_count": 23,
   "metadata": {},
   "outputs": [],
   "source": [
    "price_index_numerator = tt.agg.sum(\n",
    "    (m[\"SellingPrice.MEAN\"] * m[\"Margin.SUM\"]) / m[\"CompetitorPrice.MEAN\"],\n",
    "    scope=tt.scope.origin(lvl[\"ProductId\"], lvl[\"OutletId\"]),\n",
    ")"
   ]
  },
  {
   "cell_type": "markdown",
   "metadata": {},
   "source": [
    "Finally, we calculate the contribution of the product towards the total margin."
   ]
  },
  {
   "cell_type": "code",
   "execution_count": 24,
   "metadata": {},
   "outputs": [],
   "source": [
    "m[\"Price Index\"] = price_index_numerator / m[\"Margin.SUM\"]"
   ]
  },
  {
   "cell_type": "markdown",
   "metadata": {},
   "source": [
    "We can now have the price index per outlet and product.  \n",
    "As we are currently in sampling mode, let's trigger full data load to do some visualizations."
   ]
  },
  {
   "cell_type": "code",
   "execution_count": 25,
   "metadata": {},
   "outputs": [],
   "source": [
    "session.load_all_data()"
   ]
  },
  {
   "cell_type": "markdown",
   "metadata": {},
   "source": [
    "Let's visualize the price index per outlet."
   ]
  },
  {
   "cell_type": "code",
   "execution_count": 27,
   "metadata": {
    "atoti": {
     "state": {
      "name": "",
      "type": "container",
      "value": {
       "body": {
        "configuration": {
         "tabular": {
          "addButtonFilter": "numeric",
          "cellRenderers": [
           "tree-layout"
          ],
          "columns": [
           {
            "key": "[Measures].[CompetitorPrice.MEAN]",
            "width": 150
           },
           {
            "key": "[Measures].[CompetitorPrice.MEAN (1)]",
            "width": 145
           }
          ],
          "columnsGroups": [
           {
            "captionProducer": "firstColumn",
            "cellFactory": "kpi-status",
            "selector": "kpi-status"
           },
           {
            "captionProducer": "firstColumn",
            "cellFactory": "lookup",
            "selector": "lookup"
           },
           {
            "captionProducer": "expiry",
            "cellFactory": "expiry",
            "selector": "kpi-expiry"
           },
           {
            "captionProducer": "columnMerge",
            "cellFactory": {
             "args": {},
             "key": "treeCells"
            },
            "selector": "member"
           }
          ],
          "defaultOptions": {},
          "expansion": {
           "automaticExpansion": true
          },
          "hideAddButton": true,
          "pinnedHeaderSelector": "member",
          "sortingMode": "non-breaking",
          "statisticsShown": true
         }
        },
        "contextValues": {},
        "mdx": "SELECT NON EMPTY Hierarchize(Crossjoin(Hierarchize(DrilldownLevel([Hierarchies].[OutletId].[ALL].[AllMember])), Hierarchize(DrilldownLevel([Hierarchies].[OutletName].[ALL].[AllMember])))) ON ROWS, NON EMPTY {[Measures].[Price Index]} ON COLUMNS FROM [PriceIndexCube] CELL PROPERTIES BACK_COLOR, FONT_FLAGS, FORE_COLOR, FORMATTED_VALUE, VALUE",
        "ranges": {
         "column": {
          "chunkSize": 50,
          "thresholdPercentage": 0.2
         },
         "row": {
          "chunkSize": 2000,
          "thresholdPercentage": 0.1
         }
        },
        "serverUrl": "",
        "updateMode": "once"
       },
       "containerKey": "pivot-table",
       "showTitleBar": false,
       "style": {}
      }
     }
    }
   },
   "outputs": [
    {
     "data": {
      "application/vnd.atoti.v0+json": {
       "cube": "PriceIndexCube",
       "name": null,
       "session": "Unnamed"
      },
      "text/plain": [
       "Install and enable the atoti JupyterLab extension to see this widget."
      ]
     },
     "metadata": {},
     "output_type": "display_data"
    }
   ],
   "source": [
    "price_index_cube.visualize()"
   ]
  },
  {
   "cell_type": "markdown",
   "metadata": {},
   "source": [
    "### 2. Computing number of Competitors per Distance Bucket  \n",
    "\n",
    "There are many ways to do compute the number of competitors per distance buckets. However, we are going to showcase how we can make use of the [`single_value`](https://docs.atoti.io/0.4.1/lib/atoti.html?highlight=single_value#atoti.agg.single_value) function and simulations to create the distance buckets.  \n",
    "\n",
    "Let's create a measure call `m[\"Threshold]` that contains the value for the distance bucket and we start by looking at the number of competitors within 1km distance radius from our outlet."
   ]
  },
  {
   "cell_type": "code",
   "execution_count": 27,
   "metadata": {},
   "outputs": [],
   "source": [
    "m[\"Threshold\"] = 1"
   ]
  },
  {
   "cell_type": "markdown",
   "metadata": {},
   "source": [
    "Due to the join to the _CompetitorsPrice_ store, the `m[\"Contributor.COUNT]` returned is based on the products.\n",
    "We want to obtain the number of distinct competitors' outlets that sell the same products as us, not the number of products.  "
   ]
  },
  {
   "cell_type": "code",
   "execution_count": 28,
   "metadata": {},
   "outputs": [],
   "source": [
    "m[\"Nr Competitors\"] = tt.agg.single_value(\n",
    "    tt.agg.count_distinct(competitorPrices[\"CompetitorOutletId\"]),\n",
    "    scope=tt.scope.origin(lvl[\"ProductId\"]),\n",
    ")"
   ]
  },
  {
   "cell_type": "markdown",
   "metadata": {},
   "source": [
    "We can now use the `where` condition to return the number of distinct competitors selling the same products and is located within our threshold radius."
   ]
  },
  {
   "cell_type": "code",
   "execution_count": 29,
   "metadata": {},
   "outputs": [],
   "source": [
    "m[\"Distance<Thresh\"] = tt.agg.single_value(\n",
    "    tt.where(m[\"Competitor distance KM.VALUE\"] < m[\"Threshold\"], m[\"Nr Competitors\"], 0),\n",
    "    scope=tt.scope.origin(lvl[\"ProductId\"]),\n",
    ")\n",
    "\n",
    "m[\"Competitors<Thresh\"] = tt.agg.sum(\n",
    "    m[\"Distance<Thresh\"], scope=tt.scope.origin(lvl[\"CompetitorOutletId\"])\n",
    ")"
   ]
  },
  {
   "cell_type": "markdown",
   "metadata": {},
   "source": [
    "Naturally we can quickly use Pandas to derive the same value. However, when we use this one time setup together with simulations, we have the below benefits:\n",
    "- easily add / delete the distance buckets\n",
    "- ability to drill down on the data for each distance range to perform further analysis\n",
    "\n",
    "#### Setting up simulation for distance buckets\n",
    "We setup a simulation where we can replace the threshold value in order to be able to create scenarios for other ranges of distance.  \n",
    "We name this base scenario \"1 KM\"."
   ]
  },
  {
   "cell_type": "code",
   "execution_count": 30,
   "metadata": {},
   "outputs": [],
   "source": [
    "simulation = price_index_cube.setup_simulation(\n",
    "    \"Distance Simulation\", base_scenario=\"1 KM\", replace=[m[\"Threshold\"]]\n",
    ")"
   ]
  },
  {
   "cell_type": "markdown",
   "metadata": {},
   "source": [
    "We can now easily obtain the number of competitors per area simply by creating a scenario for each distance radius.  \n",
    "Let's start with the nearby competitors."
   ]
  },
  {
   "cell_type": "code",
   "execution_count": 31,
   "metadata": {},
   "outputs": [],
   "source": [
    "simulation.scenarios[\"5 KM\"] = 5\n",
    "simulation.scenarios[\"10 KM\"] = 10"
   ]
  },
  {
   "cell_type": "markdown",
   "metadata": {},
   "source": [
    "Let's do a quick data-viz to see how the number of competitors varies by the distance."
   ]
  },
  {
   "cell_type": "code",
   "execution_count": 33,
   "metadata": {
    "atoti": {
     "height": 468,
     "state": {
      "name": "Nr of competitors stacked by distance bucket",
      "type": "container",
      "value": {
       "body": {
        "configuration": {
         "mapping": {
          "horizontalSubplots": [],
          "stackBy": [
           "[Measure Simulations].[Distance Simulation].[Distance Simulation]"
          ],
          "values": [
           "[Measures].[Competitors<Thresh]"
          ],
          "verticalSubplots": [],
          "xAxis": [
           "[Hierarchies].[OutletName].[OutletName]",
           "[Hierarchies].[OutletId].[OutletId]"
          ]
         },
         "plotly": {
          "layout": {
           "xaxis": {
            "tickangle": "-45"
           },
           "yaxis": {
            "title": "Number of Competitors"
           }
          }
         },
         "type": "plotly-stacked-column-chart"
        },
        "query": {
         "mdx": "WITH  Member [Measures].[[Hierarchies]].[OutletId]].[OutletId]]_for_order] AS [Hierarchies].[OutletId].CurrentMember.MEMBER_VALUE  SELECT NON EMPTY Order(Crossjoin([Hierarchies].[OutletName].[OutletName].Members, [Measure Simulations].[Distance Simulation].[Distance Simulation].Members, [Hierarchies].[OutletId].[OutletId].Members), [Measures].[[Hierarchies]].[OutletId]].[OutletId]]_for_order], BASC) ON ROWS, NON EMPTY [Measures].[Competitors<Thresh] ON COLUMNS FROM [PriceIndexCube] CELL PROPERTIES BACK_COLOR, FONT_FLAGS, FORE_COLOR, FORMATTED_VALUE, VALUE",
         "serverUrl": "",
         "updateMode": "once"
        }
       },
       "containerKey": "chart",
       "showTitleBar": false,
       "style": {}
      }
     }
    }
   },
   "outputs": [
    {
     "data": {
      "application/vnd.atoti.v0+json": {
       "cube": "PriceIndexCube",
       "name": "Nr of competitors stacked by distance bucket",
       "session": "Unnamed"
      },
      "text/plain": [
       "Install and enable the atoti JupyterLab extension to see this widget."
      ]
     },
     "metadata": {},
     "output_type": "display_data"
    }
   ],
   "source": [
    "price_index_cube.visualize(\"Nr of competitors stacked by distance bucket\")"
   ]
  },
  {
   "cell_type": "markdown",
   "metadata": {},
   "source": [
    "How do we systematically make use of this information?  "
   ]
  },
  {
   "cell_type": "markdown",
   "metadata": {},
   "source": [
    "## ML - Outlets clustering using price index and competitors number features\n",
    "We can use a machine algorithm such as k-means to make clusters with the features (1 KM, 5KM, 10KM, Price Index) that we can obtain from the cube.\n",
    "\n",
    "In this part we will use the previously calculated features (nr of competitor outlets and price index) to generate 5 clusters of outlets.  \n",
    "We will now use those clusters to generate new prices and assess whether we have managed to improve our pricing."
   ]
  },
  {
   "cell_type": "code",
   "execution_count": 34,
   "metadata": {},
   "outputs": [],
   "source": [
    "%matplotlib inline\n",
    "import matplotlib.pyplot as plt\n",
    "import numpy as np\n",
    "import pandas as pd\n",
    "import scipy as sc\n",
    "import seaborn as sns\n",
    "from sklearn.cluster import KMeans, MiniBatchKMeans\n",
    "from sklearn.metrics import pairwise_distances_argmin\n",
    "\n",
    "sns.set()  # for plot styling"
   ]
  },
  {
   "cell_type": "markdown",
   "metadata": {},
   "source": [
    "We create two functions:\n",
    "1. get the dataset required for the machine learning from atoti\n",
    "2. execute the machine learning algorithm."
   ]
  },
  {
   "cell_type": "code",
   "execution_count": 35,
   "metadata": {},
   "outputs": [],
   "source": [
    "def get_features():\n",
    "    # output dataframe for competitors count per area from cube querying\n",
    "    outlets_competitors_count_per_area = price_index_cube.query(\n",
    "        m[\"Competitors<Thresh\"], levels=[lvl[\"OutletId\"], lvl[\"Distance Simulation\"]],\n",
    "    ).reset_index()\n",
    "\n",
    "    # pivot the table such that each scenario becomes a column\n",
    "    outlets_competitors_count_per_area = outlets_competitors_count_per_area.pivot(\n",
    "        index=\"OutletId\", columns=\"Distance Simulation\", values=\"Competitors<Thresh\"\n",
    "    )\n",
    "\n",
    "    # output dataframe for price index by outlet from cube querying\n",
    "    price_index_per_outlet = price_index_cube.query(\n",
    "        m[\"Price Index\"], levels=[lvl[\"OutletId\"]]\n",
    "    ).reset_index()\n",
    "\n",
    "    # merge the 2 dataframe and return the output\n",
    "    outlets_features = pd.merge(\n",
    "        outlets_competitors_count_per_area,\n",
    "        price_index_per_outlet,\n",
    "        left_on=\"OutletId\",\n",
    "        right_on=\"OutletId\",\n",
    "        how=\"left\",\n",
    "    ).set_index(\"OutletId\")\n",
    "\n",
    "    return outlets_features"
   ]
  },
  {
   "cell_type": "code",
   "execution_count": 36,
   "metadata": {},
   "outputs": [],
   "source": [
    "def run_algorithm(number_of_clusters, features_df):\n",
    "    kmeans = MiniBatchKMeans(number_of_clusters)\n",
    "    kmeans.fit(features_df)\n",
    "    new_colors = kmeans.cluster_centers_[kmeans.predict(features_df)]\n",
    "    k_means_labels = pairwise_distances_argmin(features_df, kmeans.cluster_centers_)\n",
    "    labels = KMeans(number_of_clusters, random_state=0).fit_predict(features_df)\n",
    "\n",
    "    return k_means_labels, labels"
   ]
  },
  {
   "cell_type": "markdown",
   "metadata": {},
   "source": [
    "Let's get the price index and the number of competitors per area for each outlet.   "
   ]
  },
  {
   "cell_type": "code",
   "execution_count": 37,
   "metadata": {},
   "outputs": [
    {
     "data": {
      "text/html": [
       "<div>\n",
       "<style scoped>\n",
       "    .dataframe tbody tr th:only-of-type {\n",
       "        vertical-align: middle;\n",
       "    }\n",
       "\n",
       "    .dataframe tbody tr th {\n",
       "        vertical-align: top;\n",
       "    }\n",
       "\n",
       "    .dataframe thead th {\n",
       "        text-align: right;\n",
       "    }\n",
       "</style>\n",
       "<table border=\"1\" class=\"dataframe\">\n",
       "  <thead>\n",
       "    <tr style=\"text-align: right;\">\n",
       "      <th></th>\n",
       "      <th>1 KM</th>\n",
       "      <th>10 KM</th>\n",
       "      <th>5 KM</th>\n",
       "      <th>Price Index</th>\n",
       "    </tr>\n",
       "    <tr>\n",
       "      <th>OutletId</th>\n",
       "      <th></th>\n",
       "      <th></th>\n",
       "      <th></th>\n",
       "      <th></th>\n",
       "    </tr>\n",
       "  </thead>\n",
       "  <tbody>\n",
       "    <tr>\n",
       "      <th>1</th>\n",
       "      <td>11</td>\n",
       "      <td>66</td>\n",
       "      <td>51</td>\n",
       "      <td>0.986389</td>\n",
       "    </tr>\n",
       "    <tr>\n",
       "      <th>2</th>\n",
       "      <td>5</td>\n",
       "      <td>61</td>\n",
       "      <td>46</td>\n",
       "      <td>1.043176</td>\n",
       "    </tr>\n",
       "    <tr>\n",
       "      <th>3</th>\n",
       "      <td>5</td>\n",
       "      <td>71</td>\n",
       "      <td>36</td>\n",
       "      <td>0.960006</td>\n",
       "    </tr>\n",
       "    <tr>\n",
       "      <th>4</th>\n",
       "      <td>5</td>\n",
       "      <td>61</td>\n",
       "      <td>31</td>\n",
       "      <td>0.969073</td>\n",
       "    </tr>\n",
       "    <tr>\n",
       "      <th>5</th>\n",
       "      <td>5</td>\n",
       "      <td>56</td>\n",
       "      <td>36</td>\n",
       "      <td>1.030924</td>\n",
       "    </tr>\n",
       "  </tbody>\n",
       "</table>\n",
       "</div>"
      ],
      "text/plain": [
       "          1 KM  10 KM  5 KM  Price Index\n",
       "OutletId                                \n",
       "1           11     66    51     0.986389\n",
       "2            5     61    46     1.043176\n",
       "3            5     71    36     0.960006\n",
       "4            5     61    31     0.969073\n",
       "5            5     56    36     1.030924"
      ]
     },
     "execution_count": 37,
     "metadata": {},
     "output_type": "execute_result"
    }
   ],
   "source": [
    "outlets_features = get_features()\n",
    "outlets_features.head()"
   ]
  },
  {
   "cell_type": "markdown",
   "metadata": {},
   "source": [
    "Let's set the number of clusters needed as 5. The number of clusters can increase if the number of outlets is huge.  \n",
    "We pass in the _outlets_features_ dataframe obtained from the cube to get the clustering details."
   ]
  },
  {
   "cell_type": "code",
   "execution_count": 38,
   "metadata": {},
   "outputs": [],
   "source": [
    "k_means_labels_1, labels_1 = run_algorithm(\n",
    "    number_of_clusters=5, features_df=outlets_features\n",
    ")"
   ]
  },
  {
   "cell_type": "markdown",
   "metadata": {},
   "source": [
    "Using competitors within 1km as an example, we can now analyze the result of the clustering by pair of features using matplotlib as shown below:"
   ]
  },
  {
   "cell_type": "code",
   "execution_count": 39,
   "metadata": {},
   "outputs": [
    {
     "data": {
      "text/plain": [
       "Text(0, 0.5, 'Price Index')"
      ]
     },
     "execution_count": 39,
     "metadata": {},
     "output_type": "execute_result"
    },
    {
     "data": {
      "image/png": "[encoded data removed]",
      "text/plain": [
       "<Figure size 432x288 with 1 Axes>"
      ]
     },
     "metadata": {},
     "output_type": "display_data"
    }
   ],
   "source": [
    "plt.scatter(\n",
    "    outlets_features.loc[:, \"1 KM\"],\n",
    "    outlets_features.loc[:, \"Price Index\"],\n",
    "    c=k_means_labels_1,\n",
    "    s=50,\n",
    "    cmap=\"viridis\",\n",
    ")\n",
    "\n",
    "plt.xlabel(\"Nr Competitors within 1km\")\n",
    "plt.ylabel(\"Price Index\")"
   ]
  },
  {
   "cell_type": "markdown",
   "metadata": {},
   "source": [
    "In the above plot, each color represents a cluster. We can see that clusters seem to be strongly based on the number of competitors rather than on the price index.  \n",
    "However, to avoid having to plot every couple of features and understand more quickly what our clusters are, we will use seaborn to have a plot of the clustering result for every pair of features."
   ]
  },
  {
   "cell_type": "code",
   "execution_count": 40,
   "metadata": {},
   "outputs": [
    {
     "data": {
      "text/html": [
       "<div>\n",
       "<style scoped>\n",
       "    .dataframe tbody tr th:only-of-type {\n",
       "        vertical-align: middle;\n",
       "    }\n",
       "\n",
       "    .dataframe tbody tr th {\n",
       "        vertical-align: top;\n",
       "    }\n",
       "\n",
       "    .dataframe thead th {\n",
       "        text-align: right;\n",
       "    }\n",
       "</style>\n",
       "<table border=\"1\" class=\"dataframe\">\n",
       "  <thead>\n",
       "    <tr style=\"text-align: right;\">\n",
       "      <th></th>\n",
       "      <th>1 KM</th>\n",
       "      <th>10 KM</th>\n",
       "      <th>5 KM</th>\n",
       "      <th>Price Index</th>\n",
       "      <th>Cluster</th>\n",
       "    </tr>\n",
       "    <tr>\n",
       "      <th>OutletId</th>\n",
       "      <th></th>\n",
       "      <th></th>\n",
       "      <th></th>\n",
       "      <th></th>\n",
       "      <th></th>\n",
       "    </tr>\n",
       "  </thead>\n",
       "  <tbody>\n",
       "    <tr>\n",
       "      <th>1</th>\n",
       "      <td>11</td>\n",
       "      <td>66</td>\n",
       "      <td>51</td>\n",
       "      <td>0.986389</td>\n",
       "      <td>1</td>\n",
       "    </tr>\n",
       "    <tr>\n",
       "      <th>2</th>\n",
       "      <td>5</td>\n",
       "      <td>61</td>\n",
       "      <td>46</td>\n",
       "      <td>1.043176</td>\n",
       "      <td>1</td>\n",
       "    </tr>\n",
       "    <tr>\n",
       "      <th>3</th>\n",
       "      <td>5</td>\n",
       "      <td>71</td>\n",
       "      <td>36</td>\n",
       "      <td>0.960006</td>\n",
       "      <td>3</td>\n",
       "    </tr>\n",
       "    <tr>\n",
       "      <th>4</th>\n",
       "      <td>5</td>\n",
       "      <td>61</td>\n",
       "      <td>31</td>\n",
       "      <td>0.969073</td>\n",
       "      <td>3</td>\n",
       "    </tr>\n",
       "    <tr>\n",
       "      <th>5</th>\n",
       "      <td>5</td>\n",
       "      <td>56</td>\n",
       "      <td>36</td>\n",
       "      <td>1.030924</td>\n",
       "      <td>3</td>\n",
       "    </tr>\n",
       "  </tbody>\n",
       "</table>\n",
       "</div>"
      ],
      "text/plain": [
       "          1 KM  10 KM  5 KM  Price Index  Cluster\n",
       "OutletId                                         \n",
       "1           11     66    51     0.986389        1\n",
       "2            5     61    46     1.043176        1\n",
       "3            5     71    36     0.960006        3\n",
       "4            5     61    31     0.969073        3\n",
       "5            5     56    36     1.030924        3"
      ]
     },
     "execution_count": 40,
     "metadata": {},
     "output_type": "execute_result"
    }
   ],
   "source": [
    "outlets_features[\"Cluster\"] = labels_1\n",
    "outlets_features.head(5)"
   ]
  },
  {
   "cell_type": "code",
   "execution_count": 41,
   "metadata": {},
   "outputs": [
    {
     "data": {
      "text/plain": [
       "<seaborn.axisgrid.PairGrid at 0x170d801b9a0>"
      ]
     },
     "execution_count": 41,
     "metadata": {},
     "output_type": "execute_result"
    },
    {
     "data": {
      "image/png": "[encoded data removed]",
      "text/plain": [
       "<Figure size 766.925x720 with 20 Axes>"
      ]
     },
     "metadata": {},
     "output_type": "display_data"
    }
   ],
   "source": [
    "sns.pairplot(data=outlets_features, hue=\"Cluster\")"
   ]
  },
  {
   "cell_type": "markdown",
   "metadata": {},
   "source": [
    "We can have a better understanding of the clusters with the chart above.  \n",
    "For example majority of the outlets below to cluster 0, having less than 5 competitors within 1km radius. This cluster generally has index pricing around 1.\n",
    "\n",
    "Continuing this analysis tells us that:\n",
    "- Cluster 0 has a even spread of price index around 1.0 and generally has few competitors in the neighbourhood.\n",
    "- Cluster 1 is skewed towards a higher price index and has more competitors that are located further away.\n",
    "- Cluster 2 is a small cluster that as few competitors nearby but number of competitors located within 10km increases tremendously.\n",
    "- Cluster 3 is a small cluster that has a lower price index and has more competitors that are within 10km radius.\n",
    "- Cluster 4 generally has little competitors around but the price index is also much lower."
   ]
  },
  {
   "cell_type": "markdown",
   "metadata": {},
   "source": [
    "## Pricing simulations around clusters\n",
    "We will now generate new prices using the previous clusters in order to take into account the different competitiveness constraints of the outlets.  "
   ]
  },
  {
   "cell_type": "code",
   "execution_count": 42,
   "metadata": {},
   "outputs": [],
   "source": [
    "from utils import pricer"
   ]
  },
  {
   "cell_type": "markdown",
   "metadata": {},
   "source": [
    "Using the clusters generated, the below pricing method tries to reduce the prices if the competitiveness is strong, and on the contrary increase it if there is few competition.  \n",
    "For instance, cluster 0 and cluster 4 has little competition, hence their price index could be slightly higher than 1.  \n",
    "The rest of the clusters have more competitors within 10km radius, hence could have their price index at 1 or slightly lower to maintain their competitivity.  "
   ]
  },
  {
   "cell_type": "code",
   "execution_count": 43,
   "metadata": {},
   "outputs": [],
   "source": [
    "selling_prices_based_on_clusters = pricer.optimize_prices(\n",
    "    product_sales_df, outlets_features\n",
    ")"
   ]
  },
  {
   "cell_type": "markdown",
   "metadata": {},
   "source": [
    "Thanks to atoti built-in simulations capabilities, we can easily create a new scenario for the new pricing by directly loading the price-optimised dataframe.  \n",
    "All the previously defined KPIs, e.g. the price index, will be re-computed on the fly, enabling us to compare the scenarios and their benefits."
   ]
  },
  {
   "cell_type": "code",
   "execution_count": 44,
   "metadata": {},
   "outputs": [],
   "source": [
    "productSales.scenarios[\"Selling Price Clustering 1\"].load_pandas(\n",
    "    selling_prices_based_on_clusters\n",
    ")"
   ]
  },
  {
   "cell_type": "code",
   "execution_count": 46,
   "metadata": {
    "atoti": {
     "state": {
      "name": "",
      "type": "container",
      "value": {
       "body": {
        "configuration": {
         "tabular": {
          "addButtonFilter": "numeric",
          "cellRenderers": [
           "tree-layout"
          ],
          "columnOrder": {
           "args": {
            "orderedColumns": [
             "c-treeCells-member",
             "([Measures].[Price Index],[Epoch].[Epoch].[Branch].[Base])",
             "([Measures].[Price Index],[Epoch].[Epoch].[Branch].[Selling Price Clustering 1])"
            ]
           },
           "key": "explicit"
          },
          "columns": [
           {
            "key": "([Measures].[Price Index],[Epoch].[Epoch].[Branch].[Base])",
            "width": 168
           },
           {
            "key": "([Measures].[Price Index],[Epoch].[Epoch].[Branch].[Selling Price Clustering 1])",
            "width": 195
           },
           {
            "key": "([Measures].[Price Index],[Epoch].[Epoch].[Branch].[Difference])",
            "width": 127
           },
           {
            "key": "([Measures].[Price Index (1)],[Epoch].[Epoch].[Branch].[Selling Price Clustering 1])",
            "width": 195
           }
          ],
          "columnsGroups": [
           {
            "captionProducer": "firstColumn",
            "cellFactory": "kpi-status",
            "selector": "kpi-status"
           },
           {
            "captionProducer": "firstColumn",
            "cellFactory": "lookup",
            "selector": "lookup"
           },
           {
            "captionProducer": "expiry",
            "cellFactory": "expiry",
            "selector": "kpi-expiry"
           },
           {
            "captionProducer": "columnMerge",
            "cellFactory": {
             "args": {},
             "key": "treeCells"
            },
            "selector": "member"
           }
          ],
          "defaultOptions": {},
          "expansion": {
           "automaticExpansion": true
          },
          "hideAddButton": true,
          "pinnedHeaderSelector": "member",
          "sortingMode": "non-breaking",
          "statisticsShown": true
         }
        },
        "contextValues": {},
        "mdx": "WITH  Member [Epoch].[Epoch].[Difference] AS [Epoch].[Epoch].[Selling Price Clustering 1] - [Epoch].[Epoch].[Base], CAPTION = \"Difference\"    Member [Measures].[Price Index (1)] AS [Measures].[Price Index], FORE_COLOR = CASE WHEN [Measures].[Price Index (1)] < 0 THEN rgb(255, 0, 0) END, FORMAT_STRING = \"#,###.00\", CAPTION = [Measures].[Price Index].MEMBER_CAPTION  SELECT NON EMPTY Crossjoin([Measures].[Price Index (1)], Union([Epoch].[Epoch].[Branch].Members, [Epoch].[Epoch].[Difference])) ON COLUMNS, NON EMPTY Hierarchize(DrilldownLevel([Hierarchies].[OutletId].[ALL].[AllMember])) ON ROWS FROM [PriceIndexCube] CELL PROPERTIES BACK_COLOR, FONT_FLAGS, FORE_COLOR, FORMATTED_VALUE, VALUE",
        "ranges": {
         "column": {
          "chunkSize": 50,
          "thresholdPercentage": 0.2
         },
         "row": {
          "chunkSize": 2000,
          "thresholdPercentage": 0.1
         }
        },
        "serverUrl": "",
        "updateMode": "once"
       },
       "containerKey": "pivot-table",
       "showTitleBar": false,
       "style": {}
      }
     }
    }
   },
   "outputs": [
    {
     "data": {
      "application/vnd.atoti.v0+json": {
       "cube": "PriceIndexCube",
       "name": null,
       "session": "Unnamed"
      },
      "text/plain": [
       "Install and enable the atoti JupyterLab extension to see this widget."
      ]
     },
     "metadata": {},
     "output_type": "display_data"
    }
   ],
   "source": [
    "price_index_cube.visualize()"
   ]
  },
  {
   "cell_type": "markdown",
   "metadata": {
    "atoti": {
     "state": {
      "name": "",
      "type": "container",
      "value": {
       "body": {
        "configuration": {},
        "query": {
         "mdx": "SELECT FROM [PriceIndexCube] CELL PROPERTIES VALUE, FORMATTED_VALUE, BACK_COLOR, FORE_COLOR, FONT_FLAGS"
        }
       },
       "containerKey": "chart",
       "showTitleBar": false
      }
     }
    }
   },
   "source": [
    "Let's load the cluster results obtained from the machine learning model into the cube."
   ]
  },
  {
   "cell_type": "code",
   "execution_count": 47,
   "metadata": {},
   "outputs": [
    {
     "data": {
      "text/html": [
       "<div>\n",
       "<style scoped>\n",
       "    .dataframe tbody tr th:only-of-type {\n",
       "        vertical-align: middle;\n",
       "    }\n",
       "\n",
       "    .dataframe tbody tr th {\n",
       "        vertical-align: top;\n",
       "    }\n",
       "\n",
       "    .dataframe thead th {\n",
       "        text-align: right;\n",
       "    }\n",
       "</style>\n",
       "<table border=\"1\" class=\"dataframe\">\n",
       "  <thead>\n",
       "    <tr style=\"text-align: right;\">\n",
       "      <th></th>\n",
       "      <th>Cluster</th>\n",
       "    </tr>\n",
       "    <tr>\n",
       "      <th>OutletId</th>\n",
       "      <th></th>\n",
       "    </tr>\n",
       "  </thead>\n",
       "  <tbody>\n",
       "    <tr>\n",
       "      <th>1</th>\n",
       "      <td>1</td>\n",
       "    </tr>\n",
       "    <tr>\n",
       "      <th>2</th>\n",
       "      <td>1</td>\n",
       "    </tr>\n",
       "    <tr>\n",
       "      <th>3</th>\n",
       "      <td>3</td>\n",
       "    </tr>\n",
       "    <tr>\n",
       "      <th>4</th>\n",
       "      <td>3</td>\n",
       "    </tr>\n",
       "    <tr>\n",
       "      <th>5</th>\n",
       "      <td>3</td>\n",
       "    </tr>\n",
       "  </tbody>\n",
       "</table>\n",
       "</div>"
      ],
      "text/plain": [
       "          Cluster\n",
       "OutletId         \n",
       "1               1\n",
       "2               1\n",
       "3               3\n",
       "4               3\n",
       "5               3"
      ]
     },
     "execution_count": 47,
     "metadata": {},
     "output_type": "execute_result"
    }
   ],
   "source": [
    "clusters_df = outlets_features[[\"Cluster\"]].reset_index()\n",
    "clusters_df.OutletId = clusters_df.OutletId.astype(\"int32\")\n",
    "clusters = session.read_pandas(\n",
    "    clusters_df, keys=[\"OutletId\"], store_name=\"Clusters\"\n",
    ")\n",
    "\n",
    "clusters.head(5)"
   ]
  },
  {
   "cell_type": "code",
   "execution_count": 48,
   "metadata": {},
   "outputs": [],
   "source": [
    "outlets.join(clusters)"
   ]
  },
  {
   "cell_type": "markdown",
   "metadata": {},
   "source": [
    "With the cluster information added to the cube, we can now visualize the changes in price index for the 5 clusters."
   ]
  },
  {
   "cell_type": "code",
   "execution_count": 50,
   "metadata": {
    "atoti": {
     "state": {
      "name": "Price index optimisation difference",
      "type": "container",
      "value": {
       "body": {
        "configuration": {
         "mapping": {
          "horizontalSubplots": [],
          "splitBy": [
           "[Epoch].[Epoch].[Branch]"
          ],
          "values": [
           "[Measures].[Price Index]"
          ],
          "verticalSubplots": [],
          "xAxis": [
           "[Hierarchies].[Cluster].[Cluster]"
          ]
         },
         "plotly": {
          "layout": {
           "xaxis": {
            "title": "Clusters"
           },
           "yaxis": {
            "title": "Price Index"
           }
          }
         },
         "type": "plotly-clustered-column-chart"
        },
        "query": {
         "mdx": "SELECT NON EMPTY Crossjoin([Hierarchies].[Cluster].[Cluster].Members, [Epoch].[Epoch].[Branch].Members) ON ROWS, NON EMPTY [Measures].[Price Index] ON COLUMNS FROM [PriceIndexCube] CELL PROPERTIES VALUE, FORMATTED_VALUE, BACK_COLOR, FORE_COLOR, FONT_FLAGS",
         "serverUrl": "",
         "updateMode": "once"
        }
       },
       "containerKey": "chart",
       "showTitleBar": false,
       "style": {}
      }
     }
    }
   },
   "outputs": [
    {
     "data": {
      "application/vnd.atoti.v0+json": {
       "cube": "PriceIndexCube",
       "name": "Price index optimisation difference",
       "session": "Unnamed"
      },
      "text/plain": [
       "Install and enable the atoti JupyterLab extension to see this widget."
      ]
     },
     "metadata": {},
     "output_type": "display_data"
    }
   ],
   "source": [
    "price_index_cube.visualize(\"Price index optimisation difference\")"
   ]
  },
  {
   "cell_type": "markdown",
   "metadata": {},
   "source": [
    "We can see that the pricing method decreased the price index of outlets in clusters that have high competition in order for them to attract more customers.  \n",
    "On the contrary it increased the prices in outlets belonging to low competition clusters in order to maximize margin.  \n",
    "Cluster 1 and 4 for instance, have very few competitors. Hence their selling prices are adjusted higher, resulting in higher price index."
   ]
  },
  {
   "cell_type": "markdown",
   "metadata": {},
   "source": [
    "### Different data input for machine learning with distance buckets simulation\n",
    "\n",
    "Depending on the location and type of environment, some people may be willing to go further to make their purchases.\n",
    "Let's see how the clustering will change if we include a wider distance radius.\n",
    "We will leverage on the simulation we created earlier on to add 2 distance buckets - 15km and 20km."
   ]
  },
  {
   "cell_type": "code",
   "execution_count": 56,
   "metadata": {},
   "outputs": [
    {
     "data": {
      "text/html": [
       "<div>\n",
       "<style scoped>\n",
       "    .dataframe tbody tr th:only-of-type {\n",
       "        vertical-align: middle;\n",
       "    }\n",
       "\n",
       "    .dataframe tbody tr th {\n",
       "        vertical-align: top;\n",
       "    }\n",
       "\n",
       "    .dataframe thead th {\n",
       "        text-align: right;\n",
       "    }\n",
       "</style>\n",
       "<table border=\"1\" class=\"dataframe\">\n",
       "  <thead>\n",
       "    <tr style=\"text-align: right;\">\n",
       "      <th></th>\n",
       "      <th>1 KM</th>\n",
       "      <th>10 KM</th>\n",
       "      <th>15 KM</th>\n",
       "      <th>20 KM</th>\n",
       "      <th>5 KM</th>\n",
       "      <th>Price Index</th>\n",
       "    </tr>\n",
       "    <tr>\n",
       "      <th>OutletId</th>\n",
       "      <th></th>\n",
       "      <th></th>\n",
       "      <th></th>\n",
       "      <th></th>\n",
       "      <th></th>\n",
       "      <th></th>\n",
       "    </tr>\n",
       "  </thead>\n",
       "  <tbody>\n",
       "    <tr>\n",
       "      <th>1</th>\n",
       "      <td>11</td>\n",
       "      <td>66</td>\n",
       "      <td>71</td>\n",
       "      <td>71</td>\n",
       "      <td>51</td>\n",
       "      <td>0.986389</td>\n",
       "    </tr>\n",
       "    <tr>\n",
       "      <th>2</th>\n",
       "      <td>5</td>\n",
       "      <td>61</td>\n",
       "      <td>71</td>\n",
       "      <td>71</td>\n",
       "      <td>46</td>\n",
       "      <td>1.043176</td>\n",
       "    </tr>\n",
       "    <tr>\n",
       "      <th>3</th>\n",
       "      <td>5</td>\n",
       "      <td>71</td>\n",
       "      <td>71</td>\n",
       "      <td>71</td>\n",
       "      <td>36</td>\n",
       "      <td>0.960006</td>\n",
       "    </tr>\n",
       "    <tr>\n",
       "      <th>4</th>\n",
       "      <td>5</td>\n",
       "      <td>61</td>\n",
       "      <td>66</td>\n",
       "      <td>71</td>\n",
       "      <td>31</td>\n",
       "      <td>0.969073</td>\n",
       "    </tr>\n",
       "    <tr>\n",
       "      <th>5</th>\n",
       "      <td>5</td>\n",
       "      <td>56</td>\n",
       "      <td>71</td>\n",
       "      <td>71</td>\n",
       "      <td>36</td>\n",
       "      <td>1.030924</td>\n",
       "    </tr>\n",
       "  </tbody>\n",
       "</table>\n",
       "</div>"
      ],
      "text/plain": [
       "          1 KM  10 KM  15 KM  20 KM  5 KM  Price Index\n",
       "OutletId                                              \n",
       "1           11     66     71     71    51     0.986389\n",
       "2            5     61     71     71    46     1.043176\n",
       "3            5     71     71     71    36     0.960006\n",
       "4            5     61     66     71    31     0.969073\n",
       "5            5     56     71     71    36     1.030924"
      ]
     },
     "execution_count": 56,
     "metadata": {},
     "output_type": "execute_result"
    }
   ],
   "source": [
    "simulation.scenarios[\"15 KM\"] = 15\n",
    "simulation.scenarios[\"20 KM\"] = 20\n",
    "\n",
    "outlets_features_2 = get_features()\n",
    "outlets_features_2.head()"
   ]
  },
  {
   "cell_type": "code",
   "execution_count": 57,
   "metadata": {},
   "outputs": [],
   "source": [
    "k_means_labels_2, labels_2 = run_algorithm(\n",
    "    number_of_clusters=5, features_df=outlets_features_2\n",
    ")"
   ]
  },
  {
   "cell_type": "code",
   "execution_count": 58,
   "metadata": {},
   "outputs": [
    {
     "data": {
      "text/html": [
       "<div>\n",
       "<style scoped>\n",
       "    .dataframe tbody tr th:only-of-type {\n",
       "        vertical-align: middle;\n",
       "    }\n",
       "\n",
       "    .dataframe tbody tr th {\n",
       "        vertical-align: top;\n",
       "    }\n",
       "\n",
       "    .dataframe thead th {\n",
       "        text-align: right;\n",
       "    }\n",
       "</style>\n",
       "<table border=\"1\" class=\"dataframe\">\n",
       "  <thead>\n",
       "    <tr style=\"text-align: right;\">\n",
       "      <th></th>\n",
       "      <th>1 KM</th>\n",
       "      <th>10 KM</th>\n",
       "      <th>15 KM</th>\n",
       "      <th>20 KM</th>\n",
       "      <th>5 KM</th>\n",
       "      <th>Price Index</th>\n",
       "      <th>Cluster</th>\n",
       "    </tr>\n",
       "    <tr>\n",
       "      <th>OutletId</th>\n",
       "      <th></th>\n",
       "      <th></th>\n",
       "      <th></th>\n",
       "      <th></th>\n",
       "      <th></th>\n",
       "      <th></th>\n",
       "      <th></th>\n",
       "    </tr>\n",
       "  </thead>\n",
       "  <tbody>\n",
       "    <tr>\n",
       "      <th>1</th>\n",
       "      <td>11</td>\n",
       "      <td>66</td>\n",
       "      <td>71</td>\n",
       "      <td>71</td>\n",
       "      <td>51</td>\n",
       "      <td>0.986389</td>\n",
       "      <td>2</td>\n",
       "    </tr>\n",
       "    <tr>\n",
       "      <th>2</th>\n",
       "      <td>5</td>\n",
       "      <td>61</td>\n",
       "      <td>71</td>\n",
       "      <td>71</td>\n",
       "      <td>46</td>\n",
       "      <td>1.043176</td>\n",
       "      <td>2</td>\n",
       "    </tr>\n",
       "    <tr>\n",
       "      <th>3</th>\n",
       "      <td>5</td>\n",
       "      <td>71</td>\n",
       "      <td>71</td>\n",
       "      <td>71</td>\n",
       "      <td>36</td>\n",
       "      <td>0.960006</td>\n",
       "      <td>2</td>\n",
       "    </tr>\n",
       "    <tr>\n",
       "      <th>4</th>\n",
       "      <td>5</td>\n",
       "      <td>61</td>\n",
       "      <td>66</td>\n",
       "      <td>71</td>\n",
       "      <td>31</td>\n",
       "      <td>0.969073</td>\n",
       "      <td>2</td>\n",
       "    </tr>\n",
       "    <tr>\n",
       "      <th>5</th>\n",
       "      <td>5</td>\n",
       "      <td>56</td>\n",
       "      <td>71</td>\n",
       "      <td>71</td>\n",
       "      <td>36</td>\n",
       "      <td>1.030924</td>\n",
       "      <td>2</td>\n",
       "    </tr>\n",
       "  </tbody>\n",
       "</table>\n",
       "</div>"
      ],
      "text/plain": [
       "          1 KM  10 KM  15 KM  20 KM  5 KM  Price Index  Cluster\n",
       "OutletId                                                       \n",
       "1           11     66     71     71    51     0.986389        2\n",
       "2            5     61     71     71    46     1.043176        2\n",
       "3            5     71     71     71    36     0.960006        2\n",
       "4            5     61     66     71    31     0.969073        2\n",
       "5            5     56     71     71    36     1.030924        2"
      ]
     },
     "execution_count": 58,
     "metadata": {},
     "output_type": "execute_result"
    }
   ],
   "source": [
    "outlets_features_2[\"Cluster\"] = labels_2\n",
    "outlets_features_2.head(5)"
   ]
  },
  {
   "cell_type": "code",
   "execution_count": 59,
   "metadata": {},
   "outputs": [
    {
     "data": {
      "text/plain": [
       "<seaborn.axisgrid.PairGrid at 0x170d8cb2d00>"
      ]
     },
     "execution_count": 59,
     "metadata": {},
     "output_type": "execute_result"
    },
    {
     "data": {
      "image/png": "[encoded data removed]",
      "text/plain": [
       "<Figure size 1126.92x1080 with 42 Axes>"
      ]
     },
     "metadata": {},
     "output_type": "display_data"
    }
   ],
   "source": [
    "sns.pairplot(data=outlets_features_2, hue=\"Cluster\")"
   ]
  },
  {
   "cell_type": "markdown",
   "metadata": {},
   "source": [
    "Compared to the initial distance buckets, the cluster size has changed.\n",
    "- New cluster 0 is similar to the initial cluster 2: a small cluster that has slightly lower price index and most competitors are more than 10km away. \n",
    "- New cluster 1 is similar to the initial cluster 0: this is a big cluster with little competitors around.\n",
    "- New cluster 2 is similar to the initial cluster 1: slight skewed towards a higher price index than the rest while the number of competitors are generally higher even within 5km distance radius.\n",
    "- New cluster 3 becomes even smaller but the number of competitors increases tremendously as the distance radius increases.\n",
    "- New cluster 4 price index is still much lower comparatively even though some of the outlets has price index closer to 1. Number of competitors remains about the same across all buckets.\n",
    "\n",
    "<img src=\"https://s3.eu-west-3.amazonaws.com/data.atoti.io/notebooks/geopricing/clustering1.png\" alt=\"Clustering 1\" style=\"width:600px;\"/>\n",
    "\n",
    "While this gives us an idea of how to position ourselves, we need to put these into context before we can decide on what pricing strategy to apply on it.  \n",
    "Let's load the new cluster back into the cube to have more in-depth analysis."
   ]
  },
  {
   "cell_type": "code",
   "execution_count": 60,
   "metadata": {},
   "outputs": [],
   "source": [
    "new_clusters_df = outlets_features_2[[\"Cluster\"]].reset_index()\n",
    "new_clusters_df.OutletId = new_clusters_df.OutletId.astype(\"int32\")\n",
    "\n",
    "clusters.scenarios[\"Clustering 2\"].load_pandas(new_clusters_df)"
   ]
  },
  {
   "cell_type": "markdown",
   "metadata": {},
   "source": [
    "We see how the distribution of the outlets have changed after adding in 2 more distance buckets."
   ]
  },
  {
   "cell_type": "code",
   "execution_count": 62,
   "metadata": {
    "atoti": {
     "state": {
      "name": "Outlets distribution across clusters before and after",
      "type": "container",
      "value": {
       "body": {
        "configuration": {
         "mapping": {
          "horizontalSubplots": [
           "[Epoch].[Epoch].[Branch]"
          ],
          "sliceBy": [
           "[Hierarchies].[Cluster].[Cluster]"
          ],
          "values": [
           "[Measures].[Store Count]"
          ],
          "verticalSubplots": []
         },
         "subplotModeEnabled": true,
         "type": "plotly-pie-chart"
        },
        "query": {
         "mdx": "WITH  Member [Measures].[Store Count] AS Count(Descendants([Hierarchies].[OutletId].CurrentMember, [Hierarchies].[OutletId].[OutletId]), EXCLUDEEMPTY), FORMAT_STRING = \"#,###.##\"  SELECT NON EMPTY [Measures].[Store Count] ON COLUMNS, NON EMPTY Crossjoin([Hierarchies].[Cluster].[Cluster].Members, [Epoch].[Epoch].[Branch].Members) ON ROWS FROM (SELECT {[Epoch].[Epoch].[Branch].[Base], [Epoch].[Epoch].[Branch].[Clustering 2]} ON COLUMNS FROM [PriceIndexCube]) CELL PROPERTIES BACK_COLOR, FONT_FLAGS, FORE_COLOR, FORMATTED_VALUE, VALUE",
         "serverUrl": "",
         "updateMode": "once"
        }
       },
       "containerKey": "chart",
       "showTitleBar": false,
       "style": {}
      }
     }
    }
   },
   "outputs": [
    {
     "data": {
      "application/vnd.atoti.v0+json": {
       "cube": "PriceIndexCube",
       "name": "Outlets distribution across clusters before and after",
       "session": "Unnamed"
      },
      "text/plain": [
       "Install and enable the atoti JupyterLab extension to see this widget."
      ]
     },
     "metadata": {},
     "output_type": "display_data"
    }
   ],
   "source": [
    "price_index_cube.visualize(\"Outlets distribution across clusters before and after\")"
   ]
  },
  {
   "cell_type": "code",
   "execution_count": 63,
   "metadata": {
    "atoti": {
     "state": {
      "name": "Spread of clusters on map",
      "type": "container",
      "value": {
       "body": {
        "configuration": {
         "mapping": {
          "cardinality": {
           "from": [
            "[Hierarchies].[OutletName].[OutletName]"
           ]
          },
          "lat": {
           "from": "[Measures].[Latitude.VALUE]"
          },
          "long": {
           "from": "[Measures].[Longitude.VALUE]"
          },
          "pointColor": {
           "from": [
            "[Hierarchies].[Cluster].[Cluster]"
           ]
          },
          "pointStrokeColor": {
           "value": "rgb(153, 153, 153)"
          },
          "pointStrokeWidth": {
           "value": 1
          },
          "r": {
           "from": "[Measures].[Competitors<Thresh]"
          }
         },
         "type": "pointMap"
        },
        "query": {
         "mdx": "SELECT {[Measures].[Longitude.VALUE], [Measures].[Latitude.VALUE], [Measures].[Competitors<Thresh]} ON COLUMNS, NON EMPTY Crossjoin([Hierarchies].[OutletName].[OutletName].Members, [Hierarchies].[Cluster].[Cluster].Members) ON ROWS FROM [PriceIndexCube] WHERE [Epoch].[Epoch].[Branch].[Clustering 2] CELL PROPERTIES VALUE, FORMATTED_VALUE, BACK_COLOR, FORE_COLOR, FONT_FLAGS",
         "serverUrl": "",
         "updateMode": "once"
        }
       },
       "containerKey": "chart",
       "showTitleBar": false,
       "style": {}
      }
     }
    }
   },
   "outputs": [
    {
     "data": {
      "application/vnd.atoti.v0+json": {
       "cube": "PriceIndexCube",
       "name": "Spread of clusters on map",
       "session": "Unnamed"
      },
      "text/plain": [
       "Install and enable the atoti JupyterLab extension to see this widget."
      ]
     },
     "metadata": {},
     "output_type": "display_data"
    }
   ],
   "source": [
    "price_index_cube.visualize(\"Spread of clusters on map\")"
   ]
  },
  {
   "cell_type": "markdown",
   "metadata": {},
   "source": [
    "Interestingly, cluster 1 is distributed all over France except Paris, and mostly they are the only outlet in the neighbourhood that is under our retailer.  \n",
    "Cluster 3 is a small cluster around Lille, the capital of the Hauts-de-France region in northern France.\n",
    "The rest of the clusters have outlets under our retailer in close proximity, and most of them spread around Paris.  \n",
    "The size of the points on the map reflects the number of competitors within 1km - we can see the competition around the city is the highest. \n",
    "\n",
    "In the case of cluster 1, the outlet is the only one under the retailer in the neighbour. The number of competitors is low, hence price index is less affected by competition.  \n",
    "Rather, other factors such as variety of products, branding etc could take on a heavier factor on the price index - these are to be considered when applying a pricing strategy for this cluster. Generally, the price index could be higher.\n",
    "\n",
    "For the rest of the clusters, there are a few considerations. Within the same proximity, their competitors of the outlets are the same.  \n",
    "Not only so, consumers can easily detect the price differences of products between the outlets of the same retailer if they are close by one another.  \n",
    "Hence it make more sense to align their price index and it should be slightly lower to push up its competitivity."
   ]
  },
  {
   "cell_type": "markdown",
   "metadata": {},
   "source": [
    "### Selling price simulation by clusters and outlets\n",
    "\n",
    "Let's apply a new pricing strategy on the new cluster groups. This time round, let's adjust the selling price by clusters instead.  \n",
    "Just in case we need to trim the price index of certain outlets within a cluster, we will include the _OutletId_ as a parameter for the simulation."
   ]
  },
  {
   "cell_type": "code",
   "execution_count": 64,
   "metadata": {},
   "outputs": [],
   "source": [
    "price_simulation = price_index_cube.setup_simulation(\n",
    "    \"Price simulation\",\n",
    "    base_scenario=\"Selling Price Initial\",\n",
    "    levels=[lvl[\"Cluster\"], lvl[\"OutletId\"]],\n",
    "    multiply=[m[\"SellingPrice.MEAN\"]],\n",
    ")"
   ]
  },
  {
   "cell_type": "markdown",
   "metadata": {},
   "source": [
    "Thanks to atoti built-in simulations capabilities, we can easily create a new scenario for the new pricing by directly loading the price-optimised dataframe.  \n",
    "All the previously defined KPIs, e.g. the price index, will be re-computed on the fly, enabling us to compare the scenarios and their benefits."
   ]
  },
  {
   "cell_type": "code",
   "execution_count": 65,
   "metadata": {},
   "outputs": [],
   "source": [
    "new_cluster_adjustment = price_simulation.scenarios[\"Selling Price New\"]\n",
    "new_cluster_adjustment.append(\n",
    "    (\"0\", None, 1.0),\n",
    "    (\"1\", None, 1.05),\n",
    "    (\"2\", None, 0.95),\n",
    "    (\"3\", None, 1.0),\n",
    "    (\"4\", None, 1.05),\n",
    ")"
   ]
  },
  {
   "cell_type": "code",
   "execution_count": 67,
   "metadata": {
    "atoti": {
     "height": 581,
     "state": {
      "name": "Price index optimisation difference by scenario",
      "type": "container",
      "value": {
       "body": {
        "configuration": {
         "mapping": {
          "horizontalSubplots": [],
          "splitBy": [
           "[Measure Simulations].[Price simulation].[Price simulation]",
           "[Epoch].[Epoch].[Branch]"
          ],
          "values": [
           "[Measures].[Price Index]"
          ],
          "verticalSubplots": [],
          "xAxis": [
           "[Hierarchies].[Cluster].[Cluster]",
           "[Hierarchies].[OutletName].[OutletName]",
           "[Hierarchies].[OutletId].[OutletId]"
          ]
         },
         "plotly": {
          "layout": {
           "xaxis": {
            "tickangle": "50"
           }
          }
         },
         "subplotModeEnabled": true,
         "type": "plotly-clustered-column-chart"
        },
        "query": {
         "mdx": "WITH  Member [Measures].[[Hierarchies]].[Cluster]].[Cluster]]_for_order] AS [Hierarchies].[Cluster].CurrentMember.MEMBER_VALUE  SELECT NON EMPTY Order(Crossjoin([Hierarchies].[Cluster].[Cluster].Members, [Hierarchies].[OutletName].[OutletName].Members, [Hierarchies].[OutletId].[OutletId].Members, [Measure Simulations].[Price simulation].[Price simulation].Members, [Epoch].[Epoch].[Branch].Members), [Measures].[[Hierarchies]].[Cluster]].[Cluster]]_for_order], BASC) ON ROWS, NON EMPTY [Measures].[Price Index] ON COLUMNS FROM (SELECT {[Epoch].[Epoch].[Branch].[Base], [Epoch].[Epoch].[Branch].[Selling Price Clustering 1]} ON COLUMNS FROM [PriceIndexCube]) CELL PROPERTIES BACK_COLOR, FONT_FLAGS, FORE_COLOR, FORMATTED_VALUE, VALUE",
         "serverUrl": "",
         "updateMode": "once"
        }
       },
       "containerKey": "chart",
       "showTitleBar": false,
       "style": {}
      }
     }
    }
   },
   "outputs": [
    {
     "data": {
      "application/vnd.atoti.v0+json": {
       "cube": "PriceIndexCube",
       "name": "Price index optimisation difference by scenario",
       "session": "Unnamed"
      },
      "text/plain": [
       "Install and enable the atoti JupyterLab extension to see this widget."
      ]
     },
     "metadata": {},
     "output_type": "display_data"
    }
   ],
   "source": [
    "price_index_cube.visualize(\"Price index optimisation difference by scenario\")"
   ]
  },
  {
   "cell_type": "markdown",
   "metadata": {},
   "source": [
    "Among cluster 3, seems that the price index of the outlet ActiveViam Outlet Paris 16 (5) is slightly higher than the rest in its cluster.  \n",
    "Let's try to adjust it so that its price index is slightly below 1."
   ]
  },
  {
   "cell_type": "code",
   "execution_count": 68,
   "metadata": {},
   "outputs": [],
   "source": [
    "new_cluster_adjustment.append((\"3\", \"5\", 0.95))"
   ]
  },
  {
   "cell_type": "code",
   "execution_count": 70,
   "metadata": {
    "atoti": {
     "height": 509,
     "state": {
      "name": "Price simulation of outlet 5",
      "type": "container",
      "value": {
       "body": {
        "configuration": {
         "mapping": {
          "horizontalSubplots": [],
          "splitBy": [
           "[Measure Simulations].[Price simulation].[Price simulation]",
           "[Epoch].[Epoch].[Branch]"
          ],
          "values": [
           "[Measures].[Price Index]"
          ],
          "verticalSubplots": [],
          "xAxis": [
           "[Hierarchies].[Cluster].[Cluster]",
           "[Hierarchies].[OutletName].[OutletName]",
           "[Hierarchies].[OutletId].[OutletId]"
          ]
         },
         "plotly": {
          "layout": {
           "xaxis": {
            "tickangle": "45"
           }
          }
         },
         "type": "plotly-clustered-column-chart"
        },
        "query": {
         "mdx": "SELECT NON EMPTY Crossjoin([Hierarchies].[Cluster].[Cluster].Members, [Hierarchies].[OutletName].[OutletName].Members, [Hierarchies].[OutletId].[OutletId].Members, [Measure Simulations].[Price simulation].[Price simulation].Members, [Epoch].[Epoch].[Branch].Members) ON ROWS, NON EMPTY [Measures].[Price Index] ON COLUMNS FROM (SELECT [Hierarchies].[Cluster].[ALL].[AllMember].[3] ON COLUMNS FROM (SELECT {[Epoch].[Epoch].[Branch].[Base], [Epoch].[Epoch].[Branch].[Selling Price Clustering 1]} ON COLUMNS FROM [PriceIndexCube])) CELL PROPERTIES VALUE, FORMATTED_VALUE, BACK_COLOR, FORE_COLOR, FONT_FLAGS",
         "serverUrl": "",
         "updateMode": "once"
        }
       },
       "containerKey": "chart",
       "showTitleBar": false,
       "style": {}
      }
     }
    }
   },
   "outputs": [
    {
     "data": {
      "application/vnd.atoti.v0+json": {
       "cube": "PriceIndexCube",
       "name": "Price simulation of outlet 5",
       "session": "Unnamed"
      },
      "text/plain": [
       "Install and enable the atoti JupyterLab extension to see this widget."
      ]
     },
     "metadata": {},
     "output_type": "display_data"
    }
   ],
   "source": [
    "price_index_cube.visualize(\"Price simulation of outlet 5\")"
   ]
  },
  {
   "cell_type": "markdown",
   "metadata": {},
   "source": [
    "We saw how machine learning helps to identify the clusters based on the amount geographical competitions.  \n",
    "With this information, we applied different pricing strategy to each cluster using simulations from atoti to understand the impact on the price index.\n",
    "We also look within a cluster to adjust the pricing of a specific outlet so that it's more attuned to the pricing of the other outlets in the cluster. \n",
    "\n",
    "With atoti, we can easily combine the simulations of various factors such as festivals, promotions, seasons etc.\n",
    "If we have more data such as the quantity of products sold, we can easily see the differences in the margin with each pricing strategy.  \n",
    "We can thereafter decide on the best pricing from the combination of simulations.\n",
    "\n",
    "Do have a look at how we can strategize the price index around product class in the [pricing-simulations-around-product-classes](https://github.com/atoti/notebooks/tree/master/retail/pricing-simulations-around-product-classes) notebook and its [corresponding article](https://www.atoti.io/data-dive-how-to-improve-pricing-strategies-with-a-set-of-checkout-receipts/).  \n",
    "Maybe you can have a go at combining the two strategies to get your own price index!"
   ]
  },
  {
   "cell_type": "code",
   "execution_count": null,
   "metadata": {},
   "outputs": [],
   "source": []
  }
 ],
 "metadata": {
  "kernelspec": {
   "display_name": "Python 3",
   "language": "python",
   "name": "python3"
  },
  "language_info": {
   "codemirror_mode": {
    "name": "ipython",
    "version": 3
   },
   "file_extension": ".py",
   "mimetype": "text/x-python",
   "name": "python",
   "nbconvert_exporter": "python",
   "pygments_lexer": "ipython3",
   "version": "3.8.3"
  }
 },
 "nbformat": 4,
 "nbformat_minor": 4
}
