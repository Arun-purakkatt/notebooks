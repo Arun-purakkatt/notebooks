{
 "cells": [
  {
   "cell_type": "markdown",
   "metadata": {},
   "source": [
    "# Geopricing with atoti\n",
    "\n",
    "#dataviz, #simulations, #machine-learning\n",
    "\n",
    "In this notebook we will create an analytical application to explore retail store pricing and sales data. The sample data in this example has only a few stores and products, but atoti's backend is designed to handle big volumes of data. Please read more about atoti in this article [The key to interactive visualization in Python notebooks](https://www.atoti.io/olap-cubes-the-key-to-interactive-visualization-in-python-notebooks/).\n",
    "\n",
    "By bringing together the information about sales, prices, competitors and geographical distances, we'll able to **interactively analyse** store margin and it's pricing strategy against competitors. In addition to that, we'll **clusterize the stores** based on the available data - price index and number of nearest competitors - using a machine learning algorithm and inject that information back into the application to identify similar stores. Having found the similar stores, we will use the powerful **simulation** capabilities in atoti to experiment with a store pricing strategy and immidiately visualize the impact on sales margin.\n",
    "\n",
    "Quick links to the main sections of this notebook:\n",
    "\n",
    "- [Getting started with data exploration](#start)\n",
    "- [Enriching sales data with attributes](#enrich_attributes)\n",
    "- [Interactive price index](#price_index)\n",
    "- [Nearest competitors count](#grouping)\n",
    "- [Extracting features](#features)\n",
    "- [Clusterization using K-means](#cluster)\n",
    "- [Optimizing prices based on similar competitors](#optimization)\n",
    "- [Before and After optimization](#before_and_after)\n",
    "- [Simulating a price reduction](#simulations)\n",
    "\n",
    "### Imports <a name=\"imports\"></a>\n",
    "\n",
    "Let's start by importing the libraries required for this notebook to work."
   ]
  },
  {
   "cell_type": "code",
   "execution_count": 1,
   "metadata": {},
   "outputs": [
    {
     "name": "stdout",
     "output_type": "stream",
     "text": [
      "Welcome to atoti 0.4.2.20200617181308!\n",
      "\n",
      "By using this community edition, you agree with the license available at https://www.atoti.io/eula.\n",
      "Browse the official documentation at https://docs.atoti.io.\n",
      "Join the community at https://www.atoti.io/register.\n",
      "\n",
      "You can hide this message by setting the ATOTI_HIDE_EULA_MESSAGE environment variable to True.\n"
     ]
    }
   ],
   "source": [
    "import scipy\n",
    "import folium\n",
    "import matplotlib\n",
    "import seaborn\n",
    "import atoti as tt\n",
    "import pandas as pd"
   ]
  },
  {
   "cell_type": "markdown",
   "metadata": {},
   "source": [
    "# Getting started with data exploration <a name=\"start\"></a>\n",
    "\n",
    "In this section we'll create a basic atoti app to summarize sales margin."
   ]
  },
  {
   "cell_type": "code",
   "execution_count": 2,
   "metadata": {},
   "outputs": [
    {
     "name": "stderr",
     "output_type": "stream",
     "text": [
      "The store has been sampled because there are more than 10000 lines in the files to load. Call Session.load_all_data() to trigger the full load of the data.\n"
     ]
    },
    {
     "data": {
      "text/html": [
       "<div>\n",
       "<style scoped>\n",
       "    .dataframe tbody tr th:only-of-type {\n",
       "        vertical-align: middle;\n",
       "    }\n",
       "\n",
       "    .dataframe tbody tr th {\n",
       "        vertical-align: top;\n",
       "    }\n",
       "\n",
       "    .dataframe thead th {\n",
       "        text-align: right;\n",
       "    }\n",
       "</style>\n",
       "<table border=\"1\" class=\"dataframe\">\n",
       "  <thead>\n",
       "    <tr style=\"text-align: right;\">\n",
       "      <th></th>\n",
       "      <th></th>\n",
       "      <th>SellingPrice</th>\n",
       "      <th>Margin</th>\n",
       "    </tr>\n",
       "    <tr>\n",
       "      <th>ProductId</th>\n",
       "      <th>OutletId</th>\n",
       "      <th></th>\n",
       "      <th></th>\n",
       "    </tr>\n",
       "  </thead>\n",
       "  <tbody>\n",
       "    <tr>\n",
       "      <th rowspan=\"3\" valign=\"top\">4096.0</th>\n",
       "      <th>1.0</th>\n",
       "      <td>1.920</td>\n",
       "      <td>1959.530</td>\n",
       "    </tr>\n",
       "    <tr>\n",
       "      <th>2.0</th>\n",
       "      <td>2.068</td>\n",
       "      <td>2204.228</td>\n",
       "    </tr>\n",
       "    <tr>\n",
       "      <th>3.0</th>\n",
       "      <td>1.820</td>\n",
       "      <td>1835.545</td>\n",
       "    </tr>\n",
       "  </tbody>\n",
       "</table>\n",
       "</div>"
      ],
      "text/plain": [
       "                    SellingPrice    Margin\n",
       "ProductId OutletId                        \n",
       "4096.0    1.0              1.920  1959.530\n",
       "          2.0              2.068  2204.228\n",
       "          3.0              1.820  1835.545"
      ]
     },
     "execution_count": 2,
     "metadata": {},
     "output_type": "execute_result"
    }
   ],
   "source": [
    "# creating an atoti session\n",
    "session = tt.create_session()\n",
    "\n",
    "# loading sales data\n",
    "productSales = session.read_csv(\n",
    "    \"s3://data.atoti.io/notebooks/geopricing/outlet_prices.csv\",\n",
    "    keys=[\"ProductId\", \"OutletId\"],\n",
    "    store_name=\"ProductSales\",\n",
    "    types={\"ProductId\": tt.types.INT, \"OutletId\": tt.types.INT},\n",
    ")\n",
    "\n",
    "productSales.head(3)"
   ]
  },
  {
   "cell_type": "markdown",
   "metadata": {},
   "source": [
    "Our data already contains the `Margin` column which is based on quantity, unit price and cost. It’s a good practice to do this kind of fact-level preprocessing outside atoti. Indeed, it avoids redoing these computations on every row over and over, slowing down every query. Like that, atoti only has to do what it’s the best at: aggregation."
   ]
  },
  {
   "cell_type": "code",
   "execution_count": 3,
   "metadata": {},
   "outputs": [
    {
     "data": {
      "image/svg+xml": [
       "<svg xmlns=\"http://www.w3.org/2000/svg\" xmlns:xlink=\"http://www.w3.org/1999/xlink\" width=\"159px\" height=\"196px\" viewBox=\"0.00 0.00 159.00 196.00\">\n",
       "<g id=\"graph0\" class=\"graph\" transform=\"scale(1.0 1.0) rotate(0) translate(4 192)\">\n",
       "<title>PriceIndexCube schema</title>\n",
       "<polygon fill=\"white\" stroke=\"transparent\" points=\"-4,4 -4,-192 155,-192 155,4 -4,4\"/>\n",
       "<!-- ProductSales -->\n",
       "<g id=\"node1\" class=\"node\">\n",
       "<title>ProductSales</title>\n",
       "<polygon fill=\"none\" stroke=\"black\" points=\"8.5,-148 8.5,-184 143.5,-184 143.5,-148 8.5,-148\"/>\n",
       "<text text-anchor=\"start\" x=\"39.45\" y=\"-162.8\" font-family=\"Times,serif\" font-weight=\"bold\" font-size=\"14.00\">ProductSales</text>\n",
       "<polygon fill=\"none\" stroke=\"black\" points=\"8.5,-112 8.5,-148 143.5,-148 143.5,-112 8.5,-112\"/>\n",
       "<text text-anchor=\"start\" x=\"19.5\" y=\"-126.8\" font-family=\"Times,serif\" font-weight=\"bold\" font-size=\"14.00\">Key</text>\n",
       "<text text-anchor=\"start\" x=\"42.82\" y=\"-126.8\" font-family=\"Times,serif\" font-size=\"14.00\">  ProductId </text>\n",
       "<text text-anchor=\"start\" x=\"108.54\" y=\"-126.8\" font-family=\"Times,serif\" font-style=\"italic\" font-size=\"14.00\">int</text>\n",
       "<text text-anchor=\"start\" x=\"123.32\" y=\"-126.8\" font-family=\"Times,serif\" font-size=\"14.00\"> </text>\n",
       "<polygon fill=\"none\" stroke=\"black\" points=\"8.5,-76 8.5,-112 143.5,-112 143.5,-76 8.5,-76\"/>\n",
       "<text text-anchor=\"start\" x=\"19.5\" y=\"-90.8\" font-family=\"Times,serif\" font-weight=\"bold\" font-size=\"14.00\">Key</text>\n",
       "<text text-anchor=\"start\" x=\"42.82\" y=\"-90.8\" font-family=\"Times,serif\" font-size=\"14.00\">  OutletId </text>\n",
       "<text text-anchor=\"start\" x=\"99.98\" y=\"-90.8\" font-family=\"Times,serif\" font-style=\"italic\" font-size=\"14.00\">int</text>\n",
       "<text text-anchor=\"start\" x=\"114.76\" y=\"-90.8\" font-family=\"Times,serif\" font-size=\"14.00\"> </text>\n",
       "<polygon fill=\"none\" stroke=\"black\" points=\"8.5,-40 8.5,-76 143.5,-76 143.5,-40 8.5,-40\"/>\n",
       "<text text-anchor=\"start\" x=\"19.23\" y=\"-54.8\" font-family=\"Times,serif\" font-size=\"14.00\">SellingPrice </text>\n",
       "<text text-anchor=\"start\" x=\"91.17\" y=\"-54.8\" font-family=\"Times,serif\" font-style=\"italic\" font-size=\"14.00\">double</text>\n",
       "<text text-anchor=\"start\" x=\"129.27\" y=\"-54.8\" font-family=\"Times,serif\" font-size=\"14.00\"> </text>\n",
       "<polygon fill=\"none\" stroke=\"black\" points=\"8.5,-4 8.5,-40 143.5,-40 143.5,-4 8.5,-4\"/>\n",
       "<text text-anchor=\"start\" x=\"19.5\" y=\"-18.8\" font-family=\"Times,serif\" font-size=\"14.00\">Margin </text>\n",
       "<text text-anchor=\"start\" x=\"63.97\" y=\"-18.8\" font-family=\"Times,serif\" font-style=\"italic\" font-size=\"14.00\">double</text>\n",
       "<text text-anchor=\"start\" x=\"102.07\" y=\"-18.8\" font-family=\"Times,serif\" font-size=\"14.00\"> </text>\n",
       "</g>\n",
       "</g>\n",
       "</svg>"
      ],
      "text/plain": [
       "<IPython.core.display.SVG object>"
      ]
     },
     "execution_count": 3,
     "metadata": {},
     "output_type": "execute_result"
    }
   ],
   "source": [
    "# creating the analytical cube:\n",
    "cube = session.create_cube(productSales, \"PriceIndexCube\")\n",
    "\n",
    "h = cube.hierarchies\n",
    "m = cube.measures\n",
    "lvl = cube.levels\n",
    "\n",
    "# initial simple data model\n",
    "cube.schema"
   ]
  },
  {
   "cell_type": "markdown",
   "metadata": {},
   "source": [
    "The above code is anough to start exploring the basic sales summary in atoti app:"
   ]
  },
  {
   "cell_type": "code",
   "execution_count": 4,
   "metadata": {},
   "outputs": [
    {
     "data": {
      "text/plain": [
       "'http://localhost:58676'"
      ]
     },
     "execution_count": 4,
     "metadata": {},
     "output_type": "execute_result"
    }
   ],
   "source": [
    "session.url"
   ]
  },
  {
   "cell_type": "markdown",
   "metadata": {},
   "source": [
    "In the subsequent sections, we'll enrich the data and add more sophisticated analytics, in addition to the default `.SUM` and `.AVG` aggregation functions."
   ]
  },
  {
   "cell_type": "markdown",
   "metadata": {},
   "source": [
    "# Load all data <a name = \"load_all\"></a>\n",
    "By default, atoti will load a subset of data to simplify the development and testing. \n",
    "Uncomment and run this line to load all data:"
   ]
  },
  {
   "cell_type": "code",
   "execution_count": null,
   "metadata": {},
   "outputs": [],
   "source": [
    "# session.load_all_data()"
   ]
  },
  {
   "cell_type": "markdown",
   "metadata": {},
   "source": [
    "# Enriching sales data with attributes <a name=\"enrich_attributes\"></a>\n",
    "\n",
    "In this section we'll load a few extra attributes and link them to the sales datastore, to enable analysis along more dimensions."
   ]
  },
  {
   "cell_type": "code",
   "execution_count": 5,
   "metadata": {},
   "outputs": [
    {
     "data": {
      "text/html": [
       "<div>\n",
       "<style scoped>\n",
       "    .dataframe tbody tr th:only-of-type {\n",
       "        vertical-align: middle;\n",
       "    }\n",
       "\n",
       "    .dataframe tbody tr th {\n",
       "        vertical-align: top;\n",
       "    }\n",
       "\n",
       "    .dataframe thead th {\n",
       "        text-align: right;\n",
       "    }\n",
       "</style>\n",
       "<table border=\"1\" class=\"dataframe\">\n",
       "  <thead>\n",
       "    <tr style=\"text-align: right;\">\n",
       "      <th></th>\n",
       "      <th>OutletName</th>\n",
       "      <th>Adress</th>\n",
       "      <th>ZipCode</th>\n",
       "      <th>City</th>\n",
       "      <th>Country</th>\n",
       "      <th>Latitude</th>\n",
       "      <th>Longitude</th>\n",
       "      <th>Company</th>\n",
       "    </tr>\n",
       "    <tr>\n",
       "      <th>OutletId</th>\n",
       "      <th></th>\n",
       "      <th></th>\n",
       "      <th></th>\n",
       "      <th></th>\n",
       "      <th></th>\n",
       "      <th></th>\n",
       "      <th></th>\n",
       "      <th></th>\n",
       "    </tr>\n",
       "  </thead>\n",
       "  <tbody>\n",
       "    <tr>\n",
       "      <th>1</th>\n",
       "      <td>ActiveViam Outlet Paris 1er</td>\n",
       "      <td>Paris 1er</td>\n",
       "      <td>75001</td>\n",
       "      <td>Paris</td>\n",
       "      <td>France</td>\n",
       "      <td>48.860757</td>\n",
       "      <td>2.342566</td>\n",
       "      <td>ActiveViam</td>\n",
       "    </tr>\n",
       "    <tr>\n",
       "      <th>2</th>\n",
       "      <td>ActiveViam Outlet Paris 15</td>\n",
       "      <td>Paris 15</td>\n",
       "      <td>75015</td>\n",
       "      <td>Paris</td>\n",
       "      <td>France</td>\n",
       "      <td>48.840412</td>\n",
       "      <td>2.312649</td>\n",
       "      <td>ActiveViam</td>\n",
       "    </tr>\n",
       "    <tr>\n",
       "      <th>3</th>\n",
       "      <td>ActiveViam Outlet Paris 18</td>\n",
       "      <td>Paris 18</td>\n",
       "      <td>75018</td>\n",
       "      <td>Paris</td>\n",
       "      <td>France</td>\n",
       "      <td>48.886483</td>\n",
       "      <td>2.344326</td>\n",
       "      <td>ActiveViam</td>\n",
       "    </tr>\n",
       "  </tbody>\n",
       "</table>\n",
       "</div>"
      ],
      "text/plain": [
       "                           OutletName     Adress  ZipCode   City Country  \\\n",
       "OutletId                                                                   \n",
       "1         ActiveViam Outlet Paris 1er  Paris 1er    75001  Paris  France   \n",
       "2          ActiveViam Outlet Paris 15   Paris 15    75015  Paris  France   \n",
       "3          ActiveViam Outlet Paris 18   Paris 18    75018  Paris  France   \n",
       "\n",
       "           Latitude  Longitude     Company  \n",
       "OutletId                                    \n",
       "1         48.860757   2.342566  ActiveViam  \n",
       "2         48.840412   2.312649  ActiveViam  \n",
       "3         48.886483   2.344326  ActiveViam  "
      ]
     },
     "execution_count": 5,
     "metadata": {},
     "output_type": "execute_result"
    }
   ],
   "source": [
    "# let's load outlet and product attributes into atoti and link them to the sales data\n",
    "outlets = session.read_csv(\n",
    "    \"s3://data.atoti.io/notebooks/geopricing/outlets.csv\",\n",
    "    keys=[\"OutletId\"],\n",
    "    store_name=\"Outlets\",\n",
    "    types={\"OutletId\": tt.types.INT},\n",
    ")\n",
    "\n",
    "outlets.head(3)"
   ]
  },
  {
   "cell_type": "code",
   "execution_count": 6,
   "metadata": {},
   "outputs": [
    {
     "data": {
      "text/html": [
       "<div>\n",
       "<style scoped>\n",
       "    .dataframe tbody tr th:only-of-type {\n",
       "        vertical-align: middle;\n",
       "    }\n",
       "\n",
       "    .dataframe tbody tr th {\n",
       "        vertical-align: top;\n",
       "    }\n",
       "\n",
       "    .dataframe thead th {\n",
       "        text-align: right;\n",
       "    }\n",
       "</style>\n",
       "<table border=\"1\" class=\"dataframe\">\n",
       "  <thead>\n",
       "    <tr style=\"text-align: right;\">\n",
       "      <th></th>\n",
       "      <th>EAN</th>\n",
       "      <th>ProductName</th>\n",
       "      <th>Brand</th>\n",
       "      <th>Size</th>\n",
       "      <th>Unit</th>\n",
       "      <th>Department</th>\n",
       "      <th>SubDepartment</th>\n",
       "      <th>Category</th>\n",
       "      <th>SubCategory</th>\n",
       "    </tr>\n",
       "    <tr>\n",
       "      <th>ProductId</th>\n",
       "      <th></th>\n",
       "      <th></th>\n",
       "      <th></th>\n",
       "      <th></th>\n",
       "      <th></th>\n",
       "      <th></th>\n",
       "      <th></th>\n",
       "      <th></th>\n",
       "      <th></th>\n",
       "    </tr>\n",
       "  </thead>\n",
       "  <tbody>\n",
       "    <tr>\n",
       "      <th>4096</th>\n",
       "      <td>3124480000378</td>\n",
       "      <td>1,5L CANADA DRY PET</td>\n",
       "      <td>CANADA DRY</td>\n",
       "      <td>1.5</td>\n",
       "      <td>L</td>\n",
       "      <td>LIQUIDES</td>\n",
       "      <td>SOFT TRADITIONNELS</td>\n",
       "      <td>TONIC</td>\n",
       "      <td>GINGER ALE</td>\n",
       "    </tr>\n",
       "    <tr>\n",
       "      <th>4097</th>\n",
       "      <td>3124480183927</td>\n",
       "      <td>1,5L SCHWEPPES LEMON PET</td>\n",
       "      <td>SCHWEPPES</td>\n",
       "      <td>1.5</td>\n",
       "      <td>L</td>\n",
       "      <td>LIQUIDES</td>\n",
       "      <td>SOFT TRADITIONNELS</td>\n",
       "      <td>BOISSON AUX FRUITS  GAZEUX</td>\n",
       "      <td>PET - PVC</td>\n",
       "    </tr>\n",
       "    <tr>\n",
       "      <th>4098</th>\n",
       "      <td>3124480183811</td>\n",
       "      <td>2L OASIS ORANGE PET</td>\n",
       "      <td>OASIS</td>\n",
       "      <td>2.0</td>\n",
       "      <td>L</td>\n",
       "      <td>LIQUIDES</td>\n",
       "      <td>SOFT TRADITIONNELS</td>\n",
       "      <td>BOISSON AUX FRUITS  PLAT</td>\n",
       "      <td>PET - PVC</td>\n",
       "    </tr>\n",
       "  </tbody>\n",
       "</table>\n",
       "</div>"
      ],
      "text/plain": [
       "                     EAN               ProductName       Brand  Size Unit  \\\n",
       "ProductId                                                                   \n",
       "4096       3124480000378       1,5L CANADA DRY PET  CANADA DRY   1.5    L   \n",
       "4097       3124480183927  1,5L SCHWEPPES LEMON PET   SCHWEPPES   1.5    L   \n",
       "4098       3124480183811       2L OASIS ORANGE PET       OASIS   2.0    L   \n",
       "\n",
       "          Department       SubDepartment                    Category  \\\n",
       "ProductId                                                              \n",
       "4096        LIQUIDES  SOFT TRADITIONNELS                       TONIC   \n",
       "4097        LIQUIDES  SOFT TRADITIONNELS  BOISSON AUX FRUITS  GAZEUX   \n",
       "4098        LIQUIDES  SOFT TRADITIONNELS    BOISSON AUX FRUITS  PLAT   \n",
       "\n",
       "          SubCategory  \n",
       "ProductId              \n",
       "4096       GINGER ALE  \n",
       "4097        PET - PVC  \n",
       "4098        PET - PVC  "
      ]
     },
     "execution_count": 6,
     "metadata": {},
     "output_type": "execute_result"
    }
   ],
   "source": [
    "products = session.read_csv(\n",
    "    \"s3://data.atoti.io/notebooks/geopricing/products_info.csv\",\n",
    "    keys=[\"ProductId\"],\n",
    "    store_name=\"Products\",\n",
    ")\n",
    "\n",
    "products.head(3)"
   ]
  },
  {
   "cell_type": "code",
   "execution_count": 7,
   "metadata": {},
   "outputs": [
    {
     "data": {
      "image/svg+xml": [
       "<svg xmlns=\"http://www.w3.org/2000/svg\" xmlns:xlink=\"http://www.w3.org/1999/xlink\" width=\"493px\" height=\"798px\" viewBox=\"0.00 0.00 493.24 798.00\">\n",
       "<g id=\"graph0\" class=\"graph\" transform=\"scale(1.0 1.0) rotate(0) translate(4 794)\">\n",
       "<title>PriceIndexCube schema</title>\n",
       "<polygon fill=\"white\" stroke=\"transparent\" points=\"-4,4 -4,-794 489.24,-794 489.24,4 -4,4\"/>\n",
       "<!-- ProductSales -->\n",
       "<g id=\"node1\" class=\"node\">\n",
       "<title>ProductSales</title>\n",
       "<polygon fill=\"none\" stroke=\"black\" points=\"8.5,-458 8.5,-494 143.5,-494 143.5,-458 8.5,-458\"/>\n",
       "<text text-anchor=\"start\" x=\"39.45\" y=\"-472.8\" font-family=\"Times,serif\" font-weight=\"bold\" font-size=\"14.00\">ProductSales</text>\n",
       "<polygon fill=\"none\" stroke=\"black\" points=\"8.5,-422 8.5,-458 143.5,-458 143.5,-422 8.5,-422\"/>\n",
       "<text text-anchor=\"start\" x=\"19.5\" y=\"-436.8\" font-family=\"Times,serif\" font-weight=\"bold\" font-size=\"14.00\">Key</text>\n",
       "<text text-anchor=\"start\" x=\"42.82\" y=\"-436.8\" font-family=\"Times,serif\" font-size=\"14.00\">  ProductId </text>\n",
       "<text text-anchor=\"start\" x=\"108.54\" y=\"-436.8\" font-family=\"Times,serif\" font-style=\"italic\" font-size=\"14.00\">int</text>\n",
       "<text text-anchor=\"start\" x=\"123.32\" y=\"-436.8\" font-family=\"Times,serif\" font-size=\"14.00\"> </text>\n",
       "<polygon fill=\"none\" stroke=\"black\" points=\"8.5,-386 8.5,-422 143.5,-422 143.5,-386 8.5,-386\"/>\n",
       "<text text-anchor=\"start\" x=\"19.5\" y=\"-400.8\" font-family=\"Times,serif\" font-weight=\"bold\" font-size=\"14.00\">Key</text>\n",
       "<text text-anchor=\"start\" x=\"42.82\" y=\"-400.8\" font-family=\"Times,serif\" font-size=\"14.00\">  OutletId </text>\n",
       "<text text-anchor=\"start\" x=\"99.98\" y=\"-400.8\" font-family=\"Times,serif\" font-style=\"italic\" font-size=\"14.00\">int</text>\n",
       "<text text-anchor=\"start\" x=\"114.76\" y=\"-400.8\" font-family=\"Times,serif\" font-size=\"14.00\"> </text>\n",
       "<polygon fill=\"none\" stroke=\"black\" points=\"8.5,-350 8.5,-386 143.5,-386 143.5,-350 8.5,-350\"/>\n",
       "<text text-anchor=\"start\" x=\"19.23\" y=\"-364.8\" font-family=\"Times,serif\" font-size=\"14.00\">SellingPrice </text>\n",
       "<text text-anchor=\"start\" x=\"91.17\" y=\"-364.8\" font-family=\"Times,serif\" font-style=\"italic\" font-size=\"14.00\">double</text>\n",
       "<text text-anchor=\"start\" x=\"129.27\" y=\"-364.8\" font-family=\"Times,serif\" font-size=\"14.00\"> </text>\n",
       "<polygon fill=\"none\" stroke=\"black\" points=\"8.5,-314 8.5,-350 143.5,-350 143.5,-314 8.5,-314\"/>\n",
       "<text text-anchor=\"start\" x=\"19.5\" y=\"-328.8\" font-family=\"Times,serif\" font-size=\"14.00\">Margin </text>\n",
       "<text text-anchor=\"start\" x=\"63.97\" y=\"-328.8\" font-family=\"Times,serif\" font-style=\"italic\" font-size=\"14.00\">double</text>\n",
       "<text text-anchor=\"start\" x=\"102.07\" y=\"-328.8\" font-family=\"Times,serif\" font-size=\"14.00\"> </text>\n",
       "</g>\n",
       "<!-- Outlets -->\n",
       "<g id=\"node2\" class=\"node\">\n",
       "<title>Outlets</title>\n",
       "<polygon fill=\"none\" stroke=\"black\" points=\"336.74,-750 336.74,-786 467.74,-786 467.74,-750 336.74,-750\"/>\n",
       "<text text-anchor=\"start\" x=\"382.02\" y=\"-764.8\" font-family=\"Times,serif\" font-weight=\"bold\" font-size=\"14.00\">Outlets</text>\n",
       "<polygon fill=\"none\" stroke=\"black\" points=\"336.74,-714 336.74,-750 467.74,-750 467.74,-714 336.74,-714\"/>\n",
       "<text text-anchor=\"start\" x=\"347.74\" y=\"-728.8\" font-family=\"Times,serif\" font-weight=\"bold\" font-size=\"14.00\">Key</text>\n",
       "<text text-anchor=\"start\" x=\"371.07\" y=\"-728.8\" font-family=\"Times,serif\" font-size=\"14.00\">  OutletId </text>\n",
       "<text text-anchor=\"start\" x=\"428.22\" y=\"-728.8\" font-family=\"Times,serif\" font-style=\"italic\" font-size=\"14.00\">int</text>\n",
       "<text text-anchor=\"start\" x=\"443\" y=\"-728.8\" font-family=\"Times,serif\" font-size=\"14.00\"> </text>\n",
       "<polygon fill=\"none\" stroke=\"black\" points=\"336.74,-678 336.74,-714 467.74,-714 467.74,-678 336.74,-678\"/>\n",
       "<text text-anchor=\"start\" x=\"347.42\" y=\"-692.8\" font-family=\"Times,serif\" font-size=\"14.00\">OutletName </text>\n",
       "<text text-anchor=\"start\" x=\"419.34\" y=\"-692.8\" font-family=\"Times,serif\" font-style=\"italic\" font-size=\"14.00\">String</text>\n",
       "<text text-anchor=\"start\" x=\"453.57\" y=\"-692.8\" font-family=\"Times,serif\" font-size=\"14.00\"> </text>\n",
       "<polygon fill=\"none\" stroke=\"black\" points=\"336.74,-642 336.74,-678 467.74,-678 467.74,-642 336.74,-642\"/>\n",
       "<text text-anchor=\"start\" x=\"347.74\" y=\"-656.8\" font-family=\"Times,serif\" font-size=\"14.00\">Adress </text>\n",
       "<text text-anchor=\"start\" x=\"390.13\" y=\"-656.8\" font-family=\"Times,serif\" font-style=\"italic\" font-size=\"14.00\">String</text>\n",
       "<text text-anchor=\"start\" x=\"424.35\" y=\"-656.8\" font-family=\"Times,serif\" font-size=\"14.00\"> </text>\n",
       "<polygon fill=\"none\" stroke=\"black\" points=\"336.74,-606 336.74,-642 467.74,-642 467.74,-606 336.74,-606\"/>\n",
       "<text text-anchor=\"start\" x=\"347.74\" y=\"-620.8\" font-family=\"Times,serif\" font-size=\"14.00\">ZipCode </text>\n",
       "<text text-anchor=\"start\" x=\"400.24\" y=\"-620.8\" font-family=\"Times,serif\" font-style=\"italic\" font-size=\"14.00\">int</text>\n",
       "<text text-anchor=\"start\" x=\"415.02\" y=\"-620.8\" font-family=\"Times,serif\" font-size=\"14.00\"> </text>\n",
       "<polygon fill=\"none\" stroke=\"black\" points=\"336.74,-570 336.74,-606 467.74,-606 467.74,-570 336.74,-570\"/>\n",
       "<text text-anchor=\"start\" x=\"347.74\" y=\"-584.8\" font-family=\"Times,serif\" font-size=\"14.00\">City </text>\n",
       "<text text-anchor=\"start\" x=\"375.36\" y=\"-584.8\" font-family=\"Times,serif\" font-style=\"italic\" font-size=\"14.00\">String</text>\n",
       "<text text-anchor=\"start\" x=\"409.59\" y=\"-584.8\" font-family=\"Times,serif\" font-size=\"14.00\"> </text>\n",
       "<polygon fill=\"none\" stroke=\"black\" points=\"336.74,-534 336.74,-570 467.74,-570 467.74,-534 336.74,-534\"/>\n",
       "<text text-anchor=\"start\" x=\"347.74\" y=\"-548.8\" font-family=\"Times,serif\" font-size=\"14.00\">Country </text>\n",
       "<text text-anchor=\"start\" x=\"397.13\" y=\"-548.8\" font-family=\"Times,serif\" font-style=\"italic\" font-size=\"14.00\">String</text>\n",
       "<text text-anchor=\"start\" x=\"431.36\" y=\"-548.8\" font-family=\"Times,serif\" font-size=\"14.00\"> </text>\n",
       "<polygon fill=\"none\" stroke=\"black\" points=\"336.74,-498 336.74,-534 467.74,-534 467.74,-498 336.74,-498\"/>\n",
       "<text text-anchor=\"start\" x=\"347.74\" y=\"-512.8\" font-family=\"Times,serif\" font-size=\"14.00\">Latitude </text>\n",
       "<text text-anchor=\"start\" x=\"397.89\" y=\"-512.8\" font-family=\"Times,serif\" font-style=\"italic\" font-size=\"14.00\">double</text>\n",
       "<text text-anchor=\"start\" x=\"436\" y=\"-512.8\" font-family=\"Times,serif\" font-size=\"14.00\"> </text>\n",
       "<polygon fill=\"none\" stroke=\"black\" points=\"336.74,-462 336.74,-498 467.74,-498 467.74,-462 336.74,-462\"/>\n",
       "<text text-anchor=\"start\" x=\"347.74\" y=\"-476.8\" font-family=\"Times,serif\" font-size=\"14.00\">Longitude </text>\n",
       "<text text-anchor=\"start\" x=\"408.79\" y=\"-476.8\" font-family=\"Times,serif\" font-style=\"italic\" font-size=\"14.00\">double</text>\n",
       "<text text-anchor=\"start\" x=\"446.89\" y=\"-476.8\" font-family=\"Times,serif\" font-size=\"14.00\"> </text>\n",
       "<polygon fill=\"none\" stroke=\"black\" points=\"336.74,-426 336.74,-462 467.74,-462 467.74,-426 336.74,-426\"/>\n",
       "<text text-anchor=\"start\" x=\"347.74\" y=\"-440.8\" font-family=\"Times,serif\" font-size=\"14.00\">Company </text>\n",
       "<text text-anchor=\"start\" x=\"405.68\" y=\"-440.8\" font-family=\"Times,serif\" font-style=\"italic\" font-size=\"14.00\">String</text>\n",
       "<text text-anchor=\"start\" x=\"439.91\" y=\"-440.8\" font-family=\"Times,serif\" font-size=\"14.00\"> </text>\n",
       "</g>\n",
       "<!-- ProductSales&#45;&gt;Outlets -->\n",
       "<g id=\"edge2\" class=\"edge\">\n",
       "<title>ProductSales-&gt;Outlets</title>\n",
       "<path fill=\"none\" stroke=\"black\" d=\"M151.3,-450.6C201.51,-481.88 267.64,-523.08 319.2,-555.2\"/>\n",
       "<polygon fill=\"black\" stroke=\"black\" points=\"317.66,-558.36 328,-560.68 321.36,-552.42 317.66,-558.36\"/>\n",
       "<text text-anchor=\"middle\" x=\"234.62\" y=\"-543.48\" font-family=\"Times,serif\" font-size=\"14.00\">OutletId → OutletId</text>\n",
       "</g>\n",
       "<!-- Products -->\n",
       "<g id=\"node3\" class=\"node\">\n",
       "<title>Products</title>\n",
       "<polygon fill=\"none\" stroke=\"black\" points=\"326.74,-364 326.74,-400 477.74,-400 477.74,-364 326.74,-364\"/>\n",
       "<text text-anchor=\"start\" x=\"377.74\" y=\"-378.8\" font-family=\"Times,serif\" font-weight=\"bold\" font-size=\"14.00\">Products</text>\n",
       "<polygon fill=\"none\" stroke=\"black\" points=\"326.74,-328 326.74,-364 477.74,-364 477.74,-328 326.74,-328\"/>\n",
       "<text text-anchor=\"start\" x=\"337.74\" y=\"-342.8\" font-family=\"Times,serif\" font-weight=\"bold\" font-size=\"14.00\">Key</text>\n",
       "<text text-anchor=\"start\" x=\"361.07\" y=\"-342.8\" font-family=\"Times,serif\" font-size=\"14.00\">  ProductId </text>\n",
       "<text text-anchor=\"start\" x=\"426.78\" y=\"-342.8\" font-family=\"Times,serif\" font-style=\"italic\" font-size=\"14.00\">int</text>\n",
       "<text text-anchor=\"start\" x=\"441.56\" y=\"-342.8\" font-family=\"Times,serif\" font-size=\"14.00\"> </text>\n",
       "<polygon fill=\"none\" stroke=\"black\" points=\"326.74,-292 326.74,-328 477.74,-328 477.74,-292 326.74,-292\"/>\n",
       "<text text-anchor=\"start\" x=\"337.74\" y=\"-306.8\" font-family=\"Times,serif\" font-size=\"14.00\">EAN </text>\n",
       "<text text-anchor=\"start\" x=\"370.02\" y=\"-306.8\" font-family=\"Times,serif\" font-style=\"italic\" font-size=\"14.00\">long</text>\n",
       "<text text-anchor=\"start\" x=\"394.91\" y=\"-306.8\" font-family=\"Times,serif\" font-size=\"14.00\"> </text>\n",
       "<polygon fill=\"none\" stroke=\"black\" points=\"326.74,-256 326.74,-292 477.74,-292 477.74,-256 326.74,-256\"/>\n",
       "<text text-anchor=\"start\" x=\"337.74\" y=\"-270.8\" font-family=\"Times,serif\" font-size=\"14.00\">ProductName </text>\n",
       "<text text-anchor=\"start\" x=\"418.22\" y=\"-270.8\" font-family=\"Times,serif\" font-style=\"italic\" font-size=\"14.00\">String</text>\n",
       "<text text-anchor=\"start\" x=\"452.45\" y=\"-270.8\" font-family=\"Times,serif\" font-size=\"14.00\"> </text>\n",
       "<polygon fill=\"none\" stroke=\"black\" points=\"326.74,-220 326.74,-256 477.74,-256 477.74,-220 326.74,-220\"/>\n",
       "<text text-anchor=\"start\" x=\"337.74\" y=\"-234.8\" font-family=\"Times,serif\" font-size=\"14.00\">Brand </text>\n",
       "<text text-anchor=\"start\" x=\"375.46\" y=\"-234.8\" font-family=\"Times,serif\" font-style=\"italic\" font-size=\"14.00\">String</text>\n",
       "<text text-anchor=\"start\" x=\"409.68\" y=\"-234.8\" font-family=\"Times,serif\" font-size=\"14.00\"> </text>\n",
       "<polygon fill=\"none\" stroke=\"black\" points=\"326.74,-184 326.74,-220 477.74,-220 477.74,-184 326.74,-184\"/>\n",
       "<text text-anchor=\"start\" x=\"337.74\" y=\"-198.8\" font-family=\"Times,serif\" font-size=\"14.00\">Size </text>\n",
       "<text text-anchor=\"start\" x=\"365.35\" y=\"-198.8\" font-family=\"Times,serif\" font-style=\"italic\" font-size=\"14.00\">String</text>\n",
       "<text text-anchor=\"start\" x=\"399.57\" y=\"-198.8\" font-family=\"Times,serif\" font-size=\"14.00\"> </text>\n",
       "<polygon fill=\"none\" stroke=\"black\" points=\"326.74,-148 326.74,-184 477.74,-184 477.74,-148 326.74,-148\"/>\n",
       "<text text-anchor=\"start\" x=\"337.74\" y=\"-162.8\" font-family=\"Times,serif\" font-size=\"14.00\">Unit </text>\n",
       "<text text-anchor=\"start\" x=\"366.13\" y=\"-162.8\" font-family=\"Times,serif\" font-style=\"italic\" font-size=\"14.00\">String</text>\n",
       "<text text-anchor=\"start\" x=\"400.36\" y=\"-162.8\" font-family=\"Times,serif\" font-size=\"14.00\"> </text>\n",
       "<polygon fill=\"none\" stroke=\"black\" points=\"326.74,-112 326.74,-148 477.74,-148 477.74,-112 326.74,-112\"/>\n",
       "<text text-anchor=\"start\" x=\"337.74\" y=\"-126.8\" font-family=\"Times,serif\" font-size=\"14.00\">Department </text>\n",
       "<text text-anchor=\"start\" x=\"407.33\" y=\"-126.8\" font-family=\"Times,serif\" font-style=\"italic\" font-size=\"14.00\">String</text>\n",
       "<text text-anchor=\"start\" x=\"441.55\" y=\"-126.8\" font-family=\"Times,serif\" font-size=\"14.00\"> </text>\n",
       "<polygon fill=\"none\" stroke=\"black\" points=\"326.74,-76 326.74,-112 477.74,-112 477.74,-76 326.74,-76\"/>\n",
       "<text text-anchor=\"start\" x=\"337.69\" y=\"-90.8\" font-family=\"Times,serif\" font-size=\"14.00\">SubDepartment </text>\n",
       "<text text-anchor=\"start\" x=\"429.06\" y=\"-90.8\" font-family=\"Times,serif\" font-style=\"italic\" font-size=\"14.00\">String</text>\n",
       "<text text-anchor=\"start\" x=\"463.29\" y=\"-90.8\" font-family=\"Times,serif\" font-size=\"14.00\"> </text>\n",
       "<polygon fill=\"none\" stroke=\"black\" points=\"326.74,-40 326.74,-76 477.74,-76 477.74,-40 326.74,-40\"/>\n",
       "<text text-anchor=\"start\" x=\"337.74\" y=\"-54.8\" font-family=\"Times,serif\" font-size=\"14.00\">Category </text>\n",
       "<text text-anchor=\"start\" x=\"392.56\" y=\"-54.8\" font-family=\"Times,serif\" font-style=\"italic\" font-size=\"14.00\">String</text>\n",
       "<text text-anchor=\"start\" x=\"426.79\" y=\"-54.8\" font-family=\"Times,serif\" font-size=\"14.00\"> </text>\n",
       "<polygon fill=\"none\" stroke=\"black\" points=\"326.74,-4 326.74,-40 477.74,-40 477.74,-4 326.74,-4\"/>\n",
       "<text text-anchor=\"start\" x=\"337.74\" y=\"-18.8\" font-family=\"Times,serif\" font-size=\"14.00\">SubCategory </text>\n",
       "<text text-anchor=\"start\" x=\"414.35\" y=\"-18.8\" font-family=\"Times,serif\" font-style=\"italic\" font-size=\"14.00\">String</text>\n",
       "<text text-anchor=\"start\" x=\"448.57\" y=\"-18.8\" font-family=\"Times,serif\" font-size=\"14.00\"> </text>\n",
       "</g>\n",
       "<!-- ProductSales&#45;&gt;Products -->\n",
       "<g id=\"edge1\" class=\"edge\">\n",
       "<title>ProductSales-&gt;Products</title>\n",
       "<path fill=\"none\" stroke=\"black\" d=\"M151.3,-357.4C198.41,-328.05 259.55,-289.96 309.51,-258.84\"/>\n",
       "<polygon fill=\"black\" stroke=\"black\" points=\"311.43,-261.77 318.07,-253.51 307.73,-255.82 311.43,-261.77\"/>\n",
       "<text text-anchor=\"middle\" x=\"234.62\" y=\"-347.48\" font-family=\"Times,serif\" font-size=\"14.00\">ProductId → ProductId</text>\n",
       "</g>\n",
       "</g>\n",
       "</svg>"
      ],
      "text/plain": [
       "<IPython.core.display.SVG object>"
      ]
     },
     "execution_count": 7,
     "metadata": {},
     "output_type": "execute_result"
    }
   ],
   "source": [
    "# Linking attributes to sales data\n",
    "productSales.join(outlets, mapping={\"OutletId\": \"OutletId\"})\n",
    "productSales.join(products, mapping={\"ProductId\": \"ProductId\"})\n",
    "cube.schema"
   ]
  },
  {
   "cell_type": "markdown",
   "metadata": {},
   "source": [
    "More dimensions became available for analysis and exploration:"
   ]
  },
  {
   "cell_type": "code",
   "execution_count": 9,
   "metadata": {
    "atoti": {
     "state": {
      "name": "",
      "type": "container",
      "value": {
       "body": {
        "configuration": {
         "tabular": {
          "addButtonFilter": "numeric",
          "cellRenderers": [
           "tree-layout"
          ],
          "columnsGroups": [
           {
            "captionProducer": "firstColumn",
            "cellFactory": "kpi-status",
            "selector": "kpi-status"
           },
           {
            "captionProducer": "firstColumn",
            "cellFactory": "lookup",
            "selector": "lookup"
           },
           {
            "captionProducer": "expiry",
            "cellFactory": "expiry",
            "selector": "kpi-expiry"
           },
           {
            "captionProducer": "columnMerge",
            "cellFactory": {
             "args": {},
             "key": "treeCells"
            },
            "selector": "member"
           }
          ],
          "defaultOptions": {},
          "expansion": {
           "automaticExpansion": true
          },
          "hideAddButton": true,
          "pinnedHeaderSelector": "member",
          "sortingMode": "non-breaking",
          "statisticsShown": true
         }
        },
        "contextValues": {},
        "mdx": "SELECT NON EMPTY [Measures].[Margin.SUM] ON COLUMNS, NON EMPTY Hierarchize(DrilldownLevel([Hierarchies].[Brand].[ALL].[AllMember])) ON ROWS FROM [PriceIndexCube] CELL PROPERTIES VALUE, FORMATTED_VALUE, BACK_COLOR, FORE_COLOR, FONT_FLAGS",
        "ranges": {
         "column": {
          "chunkSize": 50,
          "thresholdPercentage": 0.2
         },
         "row": {
          "chunkSize": 2000,
          "thresholdPercentage": 0.1
         }
        },
        "serverUrl": "",
        "updateMode": "once"
       },
       "containerKey": "pivot-table",
       "showTitleBar": false,
       "style": {}
      }
     }
    }
   },
   "outputs": [
    {
     "data": {
      "application/vnd.atoti.v0+json": {
       "cube": "PriceIndexCube",
       "name": null,
       "session": "Unnamed"
      },
      "text/plain": [
       "Install and enable the atoti JupyterLab extension to see this widget."
      ]
     },
     "metadata": {},
     "output_type": "display_data"
    }
   ],
   "source": [
    "cube.visualize()"
   ]
  },
  {
   "cell_type": "markdown",
   "metadata": {},
   "source": [
    "# Interactive price index <a name = \"price_index\"></a>"
   ]
  },
  {
   "cell_type": "markdown",
   "metadata": {},
   "source": [
    "In this section we load competitor prices by product and use them to interactively compute the **PriceIndex** for a given outlet on-the-fly.\n",
    "\n",
    "The `CompetitorPrices` data contains the list of stores that sell the same products. The new datastore will have a many-to-many relationship with our `ProductSales` store as multiple outlets can sell same products."
   ]
  },
  {
   "cell_type": "code",
   "execution_count": 10,
   "metadata": {},
   "outputs": [
    {
     "data": {
      "text/html": [
       "<div>\n",
       "<style scoped>\n",
       "    .dataframe tbody tr th:only-of-type {\n",
       "        vertical-align: middle;\n",
       "    }\n",
       "\n",
       "    .dataframe tbody tr th {\n",
       "        vertical-align: top;\n",
       "    }\n",
       "\n",
       "    .dataframe thead th {\n",
       "        text-align: right;\n",
       "    }\n",
       "</style>\n",
       "<table border=\"1\" class=\"dataframe\">\n",
       "  <thead>\n",
       "    <tr style=\"text-align: right;\">\n",
       "      <th></th>\n",
       "      <th></th>\n",
       "      <th></th>\n",
       "      <th>CompetitorPrice</th>\n",
       "    </tr>\n",
       "    <tr>\n",
       "      <th>ProductId</th>\n",
       "      <th>CompetitorOutletId</th>\n",
       "      <th>OutletId</th>\n",
       "      <th></th>\n",
       "    </tr>\n",
       "  </thead>\n",
       "  <tbody>\n",
       "    <tr>\n",
       "      <th>4096.0</th>\n",
       "      <th>101.0</th>\n",
       "      <th>1.0</th>\n",
       "      <td>2.287</td>\n",
       "    </tr>\n",
       "    <tr>\n",
       "      <th>4097.0</th>\n",
       "      <th>101.0</th>\n",
       "      <th>1.0</th>\n",
       "      <td>2.320</td>\n",
       "    </tr>\n",
       "    <tr>\n",
       "      <th>4098.0</th>\n",
       "      <th>101.0</th>\n",
       "      <th>1.0</th>\n",
       "      <td>2.519</td>\n",
       "    </tr>\n",
       "  </tbody>\n",
       "</table>\n",
       "</div>"
      ],
      "text/plain": [
       "                                       CompetitorPrice\n",
       "ProductId CompetitorOutletId OutletId                 \n",
       "4096.0    101.0              1.0                 2.287\n",
       "4097.0    101.0              1.0                 2.320\n",
       "4098.0    101.0              1.0                 2.519"
      ]
     },
     "execution_count": 10,
     "metadata": {},
     "output_type": "execute_result"
    }
   ],
   "source": [
    "competitorPrices = session.read_csv(\n",
    "    \"s3://data.atoti.io/notebooks/geopricing/competitor_prices.csv\",\n",
    "    keys=[\"ProductId\", \"CompetitorOutletId\", \"OutletId\"],\n",
    "    store_name=\"CompetitorPrices\"\n",
    ")\n",
    "\n",
    "competitorPrices.head(3)"
   ]
  },
  {
   "cell_type": "code",
   "execution_count": 12,
   "metadata": {},
   "outputs": [],
   "source": [
    "productSales.join(\n",
    "    competitorPrices, mapping={\"ProductId\": \"ProductId\", \"OutletId\": \"OutletId\"}\n",
    ")"
   ]
  },
  {
   "cell_type": "markdown",
   "metadata": {},
   "source": [
    "Having loaded the competitor prices, we can now define a measure that will interactively compute the **PriceIndex** to see how a retailer **is positioned against one or more of its competitors**. \n",
    "\n",
    "The following formula computes an average ratio of outlet price to that of competitors, weighted by sales margin: \n",
    "\n",
    "$$PriceIndex = 100 \\cdot \\frac{\\sum_{o,p \\in (Outlets,Products)}\\frac{Selling Price(o,p)}{Average Competitor Price(o,p)} \\cdot Margin(o,p)}{\\sum_{o,p \\in (Outlets,Products)}Margin(o,p)}$$ \n"
   ]
  },
  {
   "cell_type": "code",
   "execution_count": 13,
   "metadata": {},
   "outputs": [],
   "source": [
    "# The selling price is defined for each OutletId and ProductId, \n",
    "# hence we are defining it using `single_value` aggregation function:\n",
    "m['SellingPrice'] = tt.agg.single_value(productSales[\"SellingPrice\"])\n",
    "\n",
    "# hiding the MEAN and SUM aggregation functions for price, created automatically by atoti by default:\n",
    "m['SellingPrice.MEAN'].visible = True\n",
    "m['SellingPrice.SUM'].visible = True"
   ]
  },
  {
   "cell_type": "code",
   "execution_count": 19,
   "metadata": {},
   "outputs": [],
   "source": [
    "# Let's use `stop` aggregation function to require \"ProductId\" attribute for the average price:\n",
    "m['AverageCompetitorPrice'] = tt.agg.stop(tt.agg.mean(m[\"CompetitorPrice.VALUE\"]), lvl['ProductId'])"
   ]
  },
  {
   "cell_type": "markdown",
   "metadata": {},
   "source": [
    "For sum up across outlets and products, $\\sum_{0,p}$ we set the aggregation scope by `ProductId` and `OutletId`:"
   ]
  },
  {
   "cell_type": "code",
   "execution_count": 20,
   "metadata": {},
   "outputs": [],
   "source": [
    "price_index_numerator = tt.agg.sum(\n",
    "    m[\"SellingPrice\"]  / m[\"AverageCompetitorPrice\"]* m[\"Margin.SUM\"],\n",
    "    scope=tt.scope.origin(lvl[\"ProductId\"], lvl[\"OutletId\"]),\n",
    ")\n",
    "\n",
    "m[\"PriceIndex\"] = price_index_numerator / m[\"Margin.SUM\"]"
   ]
  },
  {
   "cell_type": "markdown",
   "metadata": {},
   "source": [
    "We can now experiment and interactively recompute the **price index** - by playing with the scope competitors. Let's add a few attributes for competitors:"
   ]
  },
  {
   "cell_type": "code",
   "execution_count": 21,
   "metadata": {},
   "outputs": [],
   "source": [
    "competitorAttributes = session.read_csv(\n",
    "    \"s3://data.atoti.io/notebooks/geopricing/competitor_outlets.csv\",\n",
    "    keys=[\"CompetitorOutletId\"],\n",
    "    store_name=\"competitorAttributes\",\n",
    "    types={\"CompetitorOutletId\": tt.types.INT},\n",
    ")\n",
    "\n",
    "competitorPrices.join(\n",
    "    competitorAttributes, mapping={\"CompetitorOutletId\": \"CompetitorOutletId\"}\n",
    ")"
   ]
  },
  {
   "cell_type": "markdown",
   "metadata": {},
   "source": [
    "In the following view, we have visualized the `PriceIndex` for one of the outlets. \n",
    "We can also break it down or filter, for instance by `CompetitorOutletCity`, and the `PriceIndex` will be reaggregated from data on-the-fly."
   ]
  },
  {
   "cell_type": "code",
   "execution_count": 23,
   "metadata": {
    "atoti": {
     "state": {
      "name": "",
      "type": "container",
      "value": {
       "body": {
        "configuration": {
         "tabular": {
          "addButtonFilter": "numeric",
          "cellRenderers": [
           "tree-layout"
          ],
          "columns": [
           {
            "key": "c-treeCells-member",
            "width": 227
           }
          ],
          "columnsGroups": [
           {
            "captionProducer": "firstColumn",
            "cellFactory": "kpi-status",
            "selector": "kpi-status"
           },
           {
            "captionProducer": "firstColumn",
            "cellFactory": "lookup",
            "selector": "lookup"
           },
           {
            "captionProducer": "expiry",
            "cellFactory": "expiry",
            "selector": "kpi-expiry"
           },
           {
            "captionProducer": "columnMerge",
            "cellFactory": {
             "args": {},
             "key": "treeCells"
            },
            "selector": "member"
           }
          ],
          "defaultOptions": {},
          "expansion": {
           "automaticExpansion": true
          },
          "hideAddButton": true,
          "pinnedHeaderSelector": "member",
          "sortingMode": "non-breaking",
          "statisticsShown": true
         }
        },
        "contextValues": {},
        "mdx": "SELECT NON EMPTY Crossjoin([Measures].[PriceIndex], Hierarchize(DrilldownLevel([Hierarchies].[CompetitorOutletCity].[ALL].[AllMember]))) ON COLUMNS, NON EMPTY Hierarchize(Crossjoin(DrilldownLevel([Hierarchies].[OutletId].[ALL].[AllMember]), [Hierarchies].[OutletName].[OutletName].Members)) ON ROWS FROM (SELECT TopCount(Filter([Hierarchies].[OutletId].Levels(1).Members, NOT IsEmpty([Measures].[contributors.COUNT])), 1, [Measures].[contributors.COUNT]) ON COLUMNS FROM [PriceIndexCube]) CELL PROPERTIES VALUE, FORMATTED_VALUE, BACK_COLOR, FORE_COLOR, FONT_FLAGS",
        "ranges": {
         "column": {
          "chunkSize": 50,
          "thresholdPercentage": 0.2
         },
         "row": {
          "chunkSize": 2000,
          "thresholdPercentage": 0.1
         }
        },
        "serverUrl": "",
        "updateMode": "once"
       },
       "containerKey": "pivot-table",
       "showTitleBar": false,
       "style": {}
      }
     }
    }
   },
   "outputs": [
    {
     "data": {
      "application/vnd.atoti.v0+json": {
       "cube": "PriceIndexCube",
       "name": null,
       "session": "Unnamed"
      },
      "text/plain": [
       "Install and enable the atoti JupyterLab extension to see this widget."
      ]
     },
     "metadata": {},
     "output_type": "display_data"
    }
   ],
   "source": [
    "cube.visualize()"
   ]
  },
  {
   "cell_type": "markdown",
   "metadata": {},
   "source": [
    "# Distancies to competitors"
   ]
  },
  {
   "cell_type": "markdown",
   "metadata": {},
   "source": [
    "To assess whether an outlet has strong competition or not, we will count number of competitors 1km, 5km, 10km and 20km away from each outlet. We will use atoti to interactively aggregate the number of stores around an outlet. \n",
    "\n",
    "To enrich the outlet information with distances to its nearest competitors, let's use the [harvesine formula](https://en.wikipedia.org/wiki/Haversine_formula) . Note that another approach would be to use instead something like the [google API to compute distances and durations between two points](https://developers.google.com/maps/documentation/distance-matrix/intro) (thus taking into accounts possible means of transportation).\n",
    "\n",
    "First we build a matrix containing the distances between outlets and all competitors."
   ]
  },
  {
   "cell_type": "code",
   "execution_count": 24,
   "metadata": {},
   "outputs": [
    {
     "data": {
      "text/html": [
       "<div>\n",
       "<style scoped>\n",
       "    .dataframe tbody tr th:only-of-type {\n",
       "        vertical-align: middle;\n",
       "    }\n",
       "\n",
       "    .dataframe tbody tr th {\n",
       "        vertical-align: top;\n",
       "    }\n",
       "\n",
       "    .dataframe thead th {\n",
       "        text-align: right;\n",
       "    }\n",
       "</style>\n",
       "<table border=\"1\" class=\"dataframe\">\n",
       "  <thead>\n",
       "    <tr style=\"text-align: right;\">\n",
       "      <th></th>\n",
       "      <th>CompetitorOutletId</th>\n",
       "      <th>OutletId</th>\n",
       "      <th>Competitor distance KM</th>\n",
       "    </tr>\n",
       "  </thead>\n",
       "  <tbody>\n",
       "    <tr>\n",
       "      <th>0</th>\n",
       "      <td>101</td>\n",
       "      <td>1</td>\n",
       "      <td>0.000000</td>\n",
       "    </tr>\n",
       "    <tr>\n",
       "      <th>1</th>\n",
       "      <td>101</td>\n",
       "      <td>2</td>\n",
       "      <td>3.145965</td>\n",
       "    </tr>\n",
       "    <tr>\n",
       "      <th>2</th>\n",
       "      <td>101</td>\n",
       "      <td>3</td>\n",
       "      <td>2.861697</td>\n",
       "    </tr>\n",
       "  </tbody>\n",
       "</table>\n",
       "</div>"
      ],
      "text/plain": [
       "   CompetitorOutletId  OutletId  Competitor distance KM\n",
       "0                 101         1                0.000000\n",
       "1                 101         2                3.145965\n",
       "2                 101         3                2.861697"
      ]
     },
     "execution_count": 24,
     "metadata": {},
     "output_type": "execute_result"
    }
   ],
   "source": [
    "# this utility allows to compute distances using the harvesine formula\n",
    "from utils import geo_utils\n",
    "outlets_distances_matrix = geo_utils.create_outlets_distances_matrix(\n",
    "    pd.read_csv(\"https://data.atoti.io/notebooks/geopricing/outlets.csv\", sep=\";\"),\n",
    "    pd.read_csv(\n",
    "        \"https://data.atoti.io/notebooks/geopricing/competitor_outlets.csv\", sep=\";\"\n",
    "    )\n",
    ")\n",
    "\n",
    "outlets_distances_matrix.head(3)"
   ]
  },
  {
   "cell_type": "code",
   "execution_count": 25,
   "metadata": {},
   "outputs": [],
   "source": [
    "# loading the distances into the app\n",
    "distance_matrix = session.read_pandas(\n",
    "    outlets_distances_matrix,\n",
    "    keys=[\"OutletId\", \"CompetitorOutletId\"],\n",
    "    store_name=\"DistanceMatrix\",\n",
    "    types={\"OutletId\": tt.types.INT, \"CompetitorOutletId\": tt.types.INT,},\n",
    ")\n",
    "\n",
    "competitorPrices.join(\n",
    "    distance_matrix,\n",
    "    mapping={\"CompetitorOutletId\": \"CompetitorOutletId\", \"OutletId\": \"OutletId\"},\n",
    ")"
   ]
  },
  {
   "cell_type": "code",
   "execution_count": null,
   "metadata": {},
   "outputs": [],
   "source": [
    "# cube.schema"
   ]
  },
  {
   "cell_type": "markdown",
   "metadata": {},
   "source": [
    "## Counting the nearest competitors <a name = \"grouping\"></a>\n",
    "\n",
    "In the previous section, we have computed and uploaded distances into atoti. Now let's count the nearest competitors and group them into buckets - within 5 km, 10 km, etc - to quantify the density of competitors for a given outlet.\n",
    "\n",
    "To be able to easily change the distance we'll create a measure for the distance, and use simulations to override it. This way we'll be able to count competitors for the various distances that we simulated.\n",
    "\n",
    "The competitors will be counted on the fly, based on the selected scope, so we can perform the analysis interactively."
   ]
  },
  {
   "cell_type": "code",
   "execution_count": 27,
   "metadata": {},
   "outputs": [],
   "source": [
    "# Creating a parameter for the distance threshold:\n",
    "m[\"Distance in KM\"] = 1.0"
   ]
  },
  {
   "cell_type": "code",
   "execution_count": null,
   "metadata": {},
   "outputs": [],
   "source": [
    "# Outlets are linked with Competitors through the same Product that they both sell.\n",
    "# Hence for each Outlet, there'd need to count distinct Counterparties.\n",
    "\n",
    "\n",
    "# Hence to count Competitors of a given Store\n",
    "# We will first fetch the number of different competitors for each product\n",
    "count_at_product = tt.agg.single_value(\n",
    "    tt.agg.count_distinct(competitorPrices[\"CompetitorOutletId\"]),\n",
    "    scope=tt.scope.origin(lvl[\"ProductId\"]),\n",
    ")\n",
    "\n",
    "# We can now use the `where` condition to return the number of distinct competitors \n",
    "# selling the same products and is located within our threshold radius.\n",
    "????m[\"IndicatorWithinDistance\"] = tt.agg.single_value(\n",
    "    tt.where(\n",
    "        m[\"Competitor distance KM.VALUE\"] < m[\"Threshold\"], count_at_product, 0\n",
    "    ),\n",
    "    scope=tt.scope.origin(lvl[\"ProductId\"]),\n",
    ")\n",
    "\n",
    "# This measure will display the number of competitors within a range\n",
    "m[\"NearestCompetitorsCount\"] = tt.agg.sum(\n",
    "    m[\"Distance<Thresh\"], scope=tt.scope.origin(lvl[\"CompetitorOutletId\"])\n",
    ")"
   ]
  },
  {
   "cell_type": "markdown",
   "metadata": {},
   "source": [
    "The `NearestCompetitorsCount` measure allows to recompute the number of competitors based on user query - for the desired outlet and with the desired filters. \n",
    "\n",
    "To vizualize the number of competitors based on different distance settings, we'll create a simulation and override the 1.0 km distance we've set above. "
   ]
  },
  {
   "cell_type": "code",
   "execution_count": 29,
   "metadata": {},
   "outputs": [],
   "source": [
    "simulation = cube.setup_simulation(\n",
    "    \"Distance Simulation\", base_scenario=\"1 KM\", replace=[m[\"Distance in KM\"]]\n",
    ")\n",
    "# Setting to sort the scenario labels:\n",
    "lvl[\"Distance Simulation\"].comparator = tt.comparator.ASC\n",
    "\n",
    "# Overriding the default value for the distance\n",
    "simulation.scenarios[\"5 KM\"] = 5.0\n",
    "simulation.scenarios[\"10 KM\"] = 10.0\n",
    "simulation.scenarios[\"15 KM\"] = 15.0\n",
    "simulation.scenarios[\"20 KM\"] = 20.0"
   ]
  },
  {
   "cell_type": "markdown",
   "metadata": {},
   "source": [
    "Let's do a quick data-viz to see how the number of competitors varies by the distance."
   ]
  },
  {
   "cell_type": "code",
   "execution_count": null,
   "metadata": {
    "atoti": {
     "height": 468,
     "state": {
      "name": "Nr of competitors stacked by distance bucket",
      "type": "container",
      "value": {
       "body": {
        "configuration": {
         "mapping": {
          "horizontalSubplots": [],
          "stackBy": [
           "[Measure Simulations].[Distance Simulation].[Distance Simulation]"
          ],
          "values": [
           "[Measures].[Competitors<Thresh]"
          ],
          "verticalSubplots": [],
          "xAxis": [
           "[Hierarchies].[OutletName].[OutletName]",
           "[Hierarchies].[OutletId].[OutletId]"
          ]
         },
         "plotly": {
          "layout": {
           "xaxis": {
            "tickangle": "-45"
           },
           "yaxis": {
            "title": "Number of Competitors"
           }
          }
         },
         "type": "plotly-stacked-column-chart"
        },
        "query": {
         "mdx": "WITH  Member [Measures].[[Hierarchies]].[OutletId]].[OutletId]]_for_order] AS [Hierarchies].[OutletId].CurrentMember.MEMBER_VALUE  SELECT NON EMPTY Order(Crossjoin([Hierarchies].[OutletName].[OutletName].Members, [Measure Simulations].[Distance Simulation].[Distance Simulation].Members, [Hierarchies].[OutletId].[OutletId].Members), [Measures].[[Hierarchies]].[OutletId]].[OutletId]]_for_order], BASC) ON ROWS, NON EMPTY [Measures].[Competitors<Thresh] ON COLUMNS FROM [PriceIndexCube] CELL PROPERTIES BACK_COLOR, FONT_FLAGS, FORE_COLOR, FORMATTED_VALUE, VALUE",
         "serverUrl": "",
         "updateMode": "once"
        }
       },
       "containerKey": "chart",
       "showTitleBar": false,
       "style": {}
      }
     }
    }
   },
   "outputs": [],
   "source": [
    "cube.visualize(\"Number of competitors stacked by distance bucket\")"
   ]
  },
  {
   "cell_type": "markdown",
   "metadata": {},
   "source": [
    "# Extracting data <a name = \"extract\"></a>"
   ]
  },
  {
   "cell_type": "markdown",
   "metadata": {},
   "source": [
    "We want to use the `NearestCompetitorsCount` and `PriceIndex` metrics defined above - to train a model and clusterize the stores. Let's extract the data from atoti."
   ]
  },
  {
   "cell_type": "code",
   "execution_count": 34,
   "metadata": {},
   "outputs": [],
   "source": [
    "def get_features():\n",
    "    \n",
    "    # this function extracts \n",
    "    \n",
    "    # output dataframe for competitors count per area from cube querying\n",
    "    outlets_competitors_count_per_area = cube.query(\n",
    "        m[\"NearestCompetitorsCount\"], levels=[lvl[\"OutletId\"], lvl[\"Distance Simulation\"]],\n",
    "    ).reset_index()\n",
    "\n",
    "    # pivot the table such that each scenario becomes a column\n",
    "    outlets_competitors_count_per_area = outlets_competitors_count_per_area.pivot(\n",
    "        index=\"OutletId\", columns=\"Distance Simulation\", values=\"Competitors<Thresh\"\n",
    "    )\n",
    "\n",
    "    # output dataframe for price index by outlet from cube querying\n",
    "    price_index_per_outlet = cube.query(\n",
    "        m[\"Price Index\"], levels=[lvl[\"OutletId\"]]\n",
    "    ).reset_index()\n",
    "\n",
    "    # merge the 2 dataframe and return the output\n",
    "    outlets_features = pd.merge(\n",
    "        outlets_competitors_count_per_area,\n",
    "        price_index_per_outlet,\n",
    "        left_on=\"OutletId\",\n",
    "        right_on=\"OutletId\",\n",
    "        how=\"left\",\n",
    "    ).set_index(\"OutletId\")\n",
    "\n",
    "    return outlets_features"
   ]
  },
  {
   "cell_type": "code",
   "execution_count": 35,
   "metadata": {},
   "outputs": [
    {
     "ename": "KeyError",
     "evalue": "'NearestCompetitorsCount'",
     "output_type": "error",
     "traceback": [
      "\u001b[0;31m---------------------------------------------------------------------------\u001b[0m",
      "\u001b[0;31mKeyError\u001b[0m                                  Traceback (most recent call last)",
      "\u001b[0;32m<ipython-input-35-5d801f2e8094>\u001b[0m in \u001b[0;36m<module>\u001b[0;34m\u001b[0m\n\u001b[0;32m----> 1\u001b[0;31m \u001b[0moutlets_features\u001b[0m \u001b[0;34m=\u001b[0m \u001b[0mget_features\u001b[0m\u001b[0;34m(\u001b[0m\u001b[0;34m)\u001b[0m\u001b[0;34m\u001b[0m\u001b[0;34m\u001b[0m\u001b[0m\n\u001b[0m\u001b[1;32m      2\u001b[0m \u001b[0moutlets_features\u001b[0m\u001b[0;34m.\u001b[0m\u001b[0mhead\u001b[0m\u001b[0;34m(\u001b[0m\u001b[0;34m)\u001b[0m\u001b[0;34m\u001b[0m\u001b[0;34m\u001b[0m\u001b[0m\n",
      "\u001b[0;32m<ipython-input-34-108ca7dc928b>\u001b[0m in \u001b[0;36mget_features\u001b[0;34m()\u001b[0m\n\u001b[1;32m      5\u001b[0m     \u001b[0;31m# output dataframe for competitors count per area from cube querying\u001b[0m\u001b[0;34m\u001b[0m\u001b[0;34m\u001b[0m\u001b[0;34m\u001b[0m\u001b[0m\n\u001b[1;32m      6\u001b[0m     outlets_competitors_count_per_area = cube.query(\n\u001b[0;32m----> 7\u001b[0;31m         \u001b[0mm\u001b[0m\u001b[0;34m[\u001b[0m\u001b[0;34m\"NearestCompetitorsCount\"\u001b[0m\u001b[0;34m]\u001b[0m\u001b[0;34m,\u001b[0m \u001b[0mlevels\u001b[0m\u001b[0;34m=\u001b[0m\u001b[0;34m[\u001b[0m\u001b[0mlvl\u001b[0m\u001b[0;34m[\u001b[0m\u001b[0;34m\"OutletId\"\u001b[0m\u001b[0;34m]\u001b[0m\u001b[0;34m,\u001b[0m \u001b[0mlvl\u001b[0m\u001b[0;34m[\u001b[0m\u001b[0;34m\"Distance Simulation\"\u001b[0m\u001b[0;34m]\u001b[0m\u001b[0;34m]\u001b[0m\u001b[0;34m,\u001b[0m\u001b[0;34m\u001b[0m\u001b[0;34m\u001b[0m\u001b[0m\n\u001b[0m\u001b[1;32m      8\u001b[0m     ).reset_index()\n\u001b[1;32m      9\u001b[0m \u001b[0;34m\u001b[0m\u001b[0m\n",
      "\u001b[0;32m~/miniconda3/envs/atoti-ce-0.4.1/lib/python3.8/site-packages/atoti/measures.py\u001b[0m in \u001b[0;36m__getitem__\u001b[0;34m(self, key)\u001b[0m\n\u001b[1;32m     70\u001b[0m             )\n\u001b[1;32m     71\u001b[0m         \u001b[0;32mexcept\u001b[0m \u001b[0mAtotiJavaException\u001b[0m\u001b[0;34m:\u001b[0m\u001b[0;34m\u001b[0m\u001b[0;34m\u001b[0m\u001b[0m\n\u001b[0;32m---> 72\u001b[0;31m             \u001b[0;32mraise\u001b[0m \u001b[0mKeyError\u001b[0m\u001b[0;34m(\u001b[0m\u001b[0mkey\u001b[0m\u001b[0;34m)\u001b[0m \u001b[0;32mfrom\u001b[0m \u001b[0;32mNone\u001b[0m\u001b[0;34m\u001b[0m\u001b[0;34m\u001b[0m\u001b[0m\n\u001b[0m\u001b[1;32m     73\u001b[0m \u001b[0;34m\u001b[0m\u001b[0m\n\u001b[1;32m     74\u001b[0m     \u001b[0;32mdef\u001b[0m \u001b[0m__setitem__\u001b[0m\u001b[0;34m(\u001b[0m\u001b[0mself\u001b[0m\u001b[0;34m,\u001b[0m \u001b[0mkey\u001b[0m\u001b[0;34m:\u001b[0m \u001b[0mstr\u001b[0m\u001b[0;34m,\u001b[0m \u001b[0mvalue\u001b[0m\u001b[0;34m:\u001b[0m \u001b[0mMeasureLike\u001b[0m\u001b[0;34m)\u001b[0m\u001b[0;34m:\u001b[0m\u001b[0;34m\u001b[0m\u001b[0;34m\u001b[0m\u001b[0m\n",
      "\u001b[0;31mKeyError\u001b[0m: 'NearestCompetitorsCount'"
     ]
    }
   ],
   "source": [
    "outlets_features = get_features()\n",
    "outlets_features.head()"
   ]
  },
  {
   "cell_type": "markdown",
   "metadata": {},
   "source": [
    "## K-Means clusterization <a name=\"cluster\"></a>\n",
    "\n",
    "In this section we are applying sklearn implementation of the k-means clusterization on the stores based on the features extracted from atoti. The model is trained on the following features - number of nearest competitors and store's Price Index  - and the desired number of clusters is set to 5. \n",
    "\n",
    "We will inject the resulting labels back into atoti. We hope that clusterisation will allow us to reveal groups of similar outlets and may help making business decisions around the pricing strategy."
   ]
  },
  {
   "cell_type": "code",
   "execution_count": null,
   "metadata": {},
   "outputs": [],
   "source": [
    "%matplotlib inline\n",
    "import matplotlib.pyplot as plt\n",
    "import numpy as np\n",
    "import pandas as pd\n",
    "import scipy as sc\n",
    "import seaborn as sns\n",
    "from sklearn.cluster import KMeans, MiniBatchKMeans\n",
    "from sklearn.metrics import pairwise_distances_argmin\n",
    "\n",
    "sns.set()  # for plot styling\n",
    "\n",
    "number_of_clusters = 5\n",
    "kmeans = MiniBatchKMeans(number_of_clusters)\n",
    "kmeans.fit(outlets_features)\n",
    "new_colors = kmeans.cluster_centers_[kmeans.predict(outlets_features)]\n",
    "k_means_labels = pairwise_distances_argmin(outlets_features, kmeans.cluster_centers_)\n",
    "labels = KMeans(number_of_clusters, random_state=0).fit_predict(outlets_features)"
   ]
  },
  {
   "cell_type": "markdown",
   "metadata": {},
   "source": [
    "Using competitors within 1km as an example, we can now analyze the result of the clustering by pair of features using matplotlib as shown below:"
   ]
  },
  {
   "cell_type": "code",
   "execution_count": null,
   "metadata": {},
   "outputs": [],
   "source": [
    "plt.scatter(\n",
    "    outlets_features.loc[:, \"1 KM\"],\n",
    "    outlets_features.loc[:, \"Price Index\"],\n",
    "    c=k_means_labels,\n",
    "    s=50,\n",
    "    cmap=\"viridis\",\n",
    ")\n",
    "\n",
    "plt.xlabel(\"Nr Competitors within 1km\")\n",
    "plt.ylabel(\"Price Index\")"
   ]
  },
  {
   "cell_type": "markdown",
   "metadata": {},
   "source": [
    "In the above plot, each color represents a cluster. We can see that clusters seem to be strongly based on the number of competitors rather than on the price index.  \n",
    "However, to avoid having to plot every couple of features and understand more quickly what our clusters are, we will use seaborn to have a plot of the clustering result for every pair of features."
   ]
  },
  {
   "cell_type": "code",
   "execution_count": null,
   "metadata": {},
   "outputs": [],
   "source": [
    "outlets_features[\"Cluster\"] = labels\n",
    "outlets_features.head(5)"
   ]
  },
  {
   "cell_type": "code",
   "execution_count": null,
   "metadata": {},
   "outputs": [],
   "source": [
    "sns.pairplot(data=outlets_features, hue=\"Cluster\")"
   ]
  },
  {
   "cell_type": "markdown",
   "metadata": {},
   "source": [
    "We can have a better understanding of the clusters with the chart above.  \n",
    "For example majority of the outlets below to cluster 0, having less than 5 competitors within 1km radius. This cluster generally has index pricing around 1.\n",
    "\n",
    "Continuing this analysis tells us that:\n",
    "- Cluster 0 is a small cluster that has slightly lower price index and most competitors are more than 10km away. \n",
    "- Cluster 1 is a big cluster with little competitors around.\n",
    "- Cluster 2 is slight skewed towards a higher price index than the rest while the number of competitors are generally higher even within 5km distance radius.\n",
    "- Cluster 3 is a small cluster and the number of competitors increases tremendously as the distance radius increases.\n",
    "- Cluster 4 has a relatively lower price index even though some of the outlets has price index closer to 1. Number of competitors remains about the same across all buckets.\n",
    "\n",
    "While this gives us an idea of how to position ourselves, we need to put these into context before we can decide on what pricing strategy to apply on it.  \n",
    "Let's load the new cluster back into the cube to have more in-depth analysis."
   ]
  },
  {
   "cell_type": "markdown",
   "metadata": {},
   "source": [
    "## Optimizing prices based on similar competitors <a name = \"optimization\"></a>\n",
    "\n",
    "We will now compute new optimized prices using the information about clusters in order to take into account the different competitiveness constraints of the outlets. \n",
    "\n",
    "The below optimization algorithm aims to reduce the prices if the competitiveness is strong, and on the contrary increase it if there is few competition.  \n",
    "\n",
    "For instance, cluster 0 and cluster 4 have low competition, hence their price index could be slightly higher than 1.  \n",
    "The rest of the clusters have more competitors within 10km radius, hence could have their price index at 1 or slightly lower to maintain their competitivity. "
   ]
  },
  {
   "cell_type": "code",
   "execution_count": null,
   "metadata": {},
   "outputs": [],
   "source": [
    "from utils import pricer\n",
    "selling_prices_based_on_clusters = pricer.optimize_prices(\n",
    "    pd.read_csv(\"https://data.atoti.io/notebooks/geopricing/outlets.csv\", sep=\";\"), \n",
    "    outlets_features\n",
    ")"
   ]
  },
  {
   "cell_type": "markdown",
   "metadata": {},
   "source": [
    "# Optimization: before and after  <a name =\"before_and_after\"></a>"
   ]
  },
  {
   "cell_type": "markdown",
   "metadata": {},
   "source": [
    "Using the atoti's built-in simulations capabilities, we can easily upload the new optimized prices and evaluate the impact on the the previously defined KPIs."
   ]
  },
  {
   "cell_type": "code",
   "execution_count": null,
   "metadata": {},
   "outputs": [],
   "source": [
    "productSales.scenarios[\"Selling Price Clustering 1\"].load_pandas(\n",
    "    selling_prices_based_on_clusters\n",
    ")"
   ]
  },
  {
   "cell_type": "code",
   "execution_count": null,
   "metadata": {
    "atoti": {
     "state": {
      "name": "",
      "type": "container",
      "value": {
       "body": {
        "configuration": {
         "tabular": {
          "addButtonFilter": "numeric",
          "cellRenderers": [
           "tree-layout"
          ],
          "columnOrder": {
           "args": {
            "orderedColumns": [
             "c-treeCells-member",
             "([Measures].[Price Index],[Epoch].[Epoch].[Branch].[Base])",
             "([Measures].[Price Index],[Epoch].[Epoch].[Branch].[Selling Price Clustering 1])"
            ]
           },
           "key": "explicit"
          },
          "columns": [
           {
            "key": "([Measures].[Price Index],[Epoch].[Epoch].[Branch].[Base])",
            "width": 168
           },
           {
            "key": "([Measures].[Price Index],[Epoch].[Epoch].[Branch].[Selling Price Clustering 1])",
            "width": 195
           },
           {
            "key": "([Measures].[Price Index],[Epoch].[Epoch].[Branch].[Difference])",
            "width": 127
           },
           {
            "key": "([Measures].[Price Index (1)],[Epoch].[Epoch].[Branch].[Selling Price Clustering 1])",
            "width": 195
           }
          ],
          "columnsGroups": [
           {
            "captionProducer": "firstColumn",
            "cellFactory": "kpi-status",
            "selector": "kpi-status"
           },
           {
            "captionProducer": "firstColumn",
            "cellFactory": "lookup",
            "selector": "lookup"
           },
           {
            "captionProducer": "expiry",
            "cellFactory": "expiry",
            "selector": "kpi-expiry"
           },
           {
            "captionProducer": "columnMerge",
            "cellFactory": {
             "args": {},
             "key": "treeCells"
            },
            "selector": "member"
           }
          ],
          "defaultOptions": {},
          "expansion": {
           "automaticExpansion": true
          },
          "hideAddButton": true,
          "pinnedHeaderSelector": "member",
          "sortingMode": "non-breaking",
          "statisticsShown": true
         }
        },
        "contextValues": {},
        "mdx": "WITH  Member [Epoch].[Epoch].[Difference] AS [Epoch].[Epoch].[Selling Price Clustering 1] - [Epoch].[Epoch].[Base], CAPTION = \"Difference\"    Member [Measures].[Price Index (1)] AS [Measures].[Price Index], FORE_COLOR = CASE WHEN [Measures].[Price Index (1)] < 0 THEN rgb(255, 0, 0) END, FORMAT_STRING = \"#,###.00\", CAPTION = [Measures].[Price Index].MEMBER_CAPTION  SELECT NON EMPTY Crossjoin([Measures].[Price Index (1)], Union([Epoch].[Epoch].[Branch].Members, [Epoch].[Epoch].[Difference])) ON COLUMNS, NON EMPTY Hierarchize(DrilldownLevel([Hierarchies].[OutletId].[ALL].[AllMember])) ON ROWS FROM [PriceIndexCube] CELL PROPERTIES BACK_COLOR, FONT_FLAGS, FORE_COLOR, FORMATTED_VALUE, VALUE",
        "ranges": {
         "column": {
          "chunkSize": 50,
          "thresholdPercentage": 0.2
         },
         "row": {
          "chunkSize": 2000,
          "thresholdPercentage": 0.1
         }
        },
        "serverUrl": "",
        "updateMode": "once"
       },
       "containerKey": "pivot-table",
       "showTitleBar": false,
       "style": {}
      }
     }
    }
   },
   "outputs": [],
   "source": [
    "price_index_cube.visualize()"
   ]
  },
  {
   "cell_type": "markdown",
   "metadata": {
    "atoti": {
     "state": {
      "name": "",
      "type": "container",
      "value": {
       "body": {
        "configuration": {},
        "query": {
         "mdx": "SELECT FROM [PriceIndexCube] CELL PROPERTIES VALUE, FORMATTED_VALUE, BACK_COLOR, FORE_COLOR, FONT_FLAGS"
        }
       },
       "containerKey": "chart",
       "showTitleBar": false
      }
     }
    }
   },
   "source": [
    "Let's load the cluster results obtained from the machine learning model into the cube."
   ]
  },
  {
   "cell_type": "code",
   "execution_count": null,
   "metadata": {},
   "outputs": [],
   "source": [
    "clusters_df = outlets_features[[\"Cluster\"]].reset_index()\n",
    "clusters_df.OutletId = clusters_df.OutletId.astype(\"int32\")\n",
    "clusters = session.read_pandas(clusters_df, keys=[\"OutletId\"], store_name=\"Clusters\")\n",
    "\n",
    "clusters.head(5)"
   ]
  },
  {
   "cell_type": "code",
   "execution_count": null,
   "metadata": {},
   "outputs": [],
   "source": [
    "outlets.join(clusters)"
   ]
  },
  {
   "cell_type": "markdown",
   "metadata": {},
   "source": [
    "Let's see the spread of the clusters on the map."
   ]
  },
  {
   "cell_type": "code",
   "execution_count": null,
   "metadata": {
    "atoti": {
     "height": 417,
     "state": {
      "name": "Spread of clusters on map",
      "type": "container",
      "value": {
       "body": {
        "configuration": {
         "mapping": {
          "cardinality": {
           "from": [
            "[Hierarchies].[OutletName].[OutletName]"
           ]
          },
          "lat": {
           "from": "[Measures].[Latitude.VALUE]"
          },
          "long": {
           "from": "[Measures].[Longitude.VALUE]"
          },
          "pointColor": {
           "from": [
            "[Hierarchies].[Cluster].[Cluster]"
           ]
          },
          "pointStrokeColor": {
           "value": "rgb(153, 153, 153)"
          },
          "pointStrokeWidth": {
           "value": 1
          },
          "r": {
           "from": "[Measures].[Competitors<Thresh]"
          }
         },
         "type": "pointMap"
        },
        "isConnected": true,
        "query": {
         "mdx": "SELECT {[Measures].[Longitude.VALUE], [Measures].[Latitude.VALUE], [Measures].[Competitors<Thresh]} ON COLUMNS, NON EMPTY Crossjoin([Hierarchies].[OutletName].[OutletName].Members, [Hierarchies].[Cluster].[Cluster].Members) ON ROWS FROM [PriceIndexCube] CELL PROPERTIES VALUE, FORMATTED_VALUE, BACK_COLOR, FORE_COLOR, FONT_FLAGS",
         "serverUrl": "",
         "updateMode": "once"
        }
       },
       "containerKey": "chart",
       "showTitleBar": false,
       "style": {}
      }
     }
    }
   },
   "outputs": [],
   "source": [
    "price_index_cube.visualize(\"Spread of clusters on map\")"
   ]
  },
  {
   "cell_type": "markdown",
   "metadata": {},
   "source": [
    "Interestingly, cluster 1 is distributed all over France except Paris, and mostly they are the only outlet in the neighbourhood that is under our retailer.  \n",
    "Cluster 4 is a small cluster around Lille, the capital of the Hauts-de-France region in northern France.\n",
    "The rest of the clusters have outlets under our retailer in close proximity, and most of them spread around Paris.  \n",
    "The size of the points on the map reflects the number of competitors within 1km - we can see the competition around the city is the highest. \n",
    "\n",
    "In the case of cluster 1, the outlet is the only one under the retailer in the neighbourhood. The number of competitors is low, hence price index is less affected by competition.  \n",
    "Rather, other factors such as variety of products, branding etc could take on a heavier factor on the price index - these are to be considered when applying a pricing strategy for this cluster. Generally, the price index could be higher.\n",
    "\n",
    "For the rest of the clusters, there are a few considerations. Within the same proximity, the outlets face the same competitors.  \n",
    "Not only so, consumers can easily detect the price differences of products between the outlets of the same retailer if they are close by one another.  \n",
    "Hence it make more sense to align their price index and it should be slightly lower to push up its competitivity."
   ]
  },
  {
   "cell_type": "markdown",
   "metadata": {},
   "source": [
    "Now, let's visualize the changes in price index for the 5 clusters."
   ]
  },
  {
   "cell_type": "code",
   "execution_count": null,
   "metadata": {
    "atoti": {
     "state": {
      "name": "Price index optimisation difference",
      "type": "container",
      "value": {
       "body": {
        "configuration": {
         "mapping": {
          "horizontalSubplots": [],
          "splitBy": [
           "[Epoch].[Epoch].[Branch]"
          ],
          "values": [
           "[Measures].[Price Index]"
          ],
          "verticalSubplots": [],
          "xAxis": [
           "[Hierarchies].[Cluster].[Cluster]"
          ]
         },
         "plotly": {
          "layout": {
           "xaxis": {
            "title": "Clusters"
           },
           "yaxis": {
            "title": "Price Index"
           }
          }
         },
         "type": "plotly-clustered-column-chart"
        },
        "query": {
         "mdx": "SELECT NON EMPTY Crossjoin([Hierarchies].[Cluster].[Cluster].Members, [Epoch].[Epoch].[Branch].Members) ON ROWS, NON EMPTY [Measures].[Price Index] ON COLUMNS FROM [PriceIndexCube] CELL PROPERTIES VALUE, FORMATTED_VALUE, BACK_COLOR, FORE_COLOR, FONT_FLAGS",
         "serverUrl": "",
         "updateMode": "once"
        }
       },
       "containerKey": "chart",
       "showTitleBar": false,
       "style": {}
      }
     }
    }
   },
   "outputs": [],
   "source": [
    "price_index_cube.visualize(\"Price index optimisation difference\")"
   ]
  },
  {
   "cell_type": "markdown",
   "metadata": {},
   "source": [
    "We can see that the pricing method decreased the price index of outlets in clusters that have high competition in order for them to attract more customers.  \n",
    "On the contrary it increased the prices in outlets belonging to low competition clusters in order to maximize margin.  \n",
    "Cluster 1 and 4 for instance, have very few competitors. Hence their selling prices are adjusted higher, resulting in higher price index."
   ]
  },
  {
   "cell_type": "markdown",
   "metadata": {},
   "source": [
    "### Simulating a price reduction <a name = \"simulations\"></a>\n",
    "\n",
    "Zooming in on cluster 2, we see that _ActiveViam Outlet Paris 6_ has one of the highest compeititon within the cluster.  \n",
    "<img src=\"https://data.atoti.io/notebooks/geopricing/cluster2.png\" alt=\"Clustering 1\" style=\"width:300px;\"/>\n",
    "\n",
    "However, the store also has a relatively high price index within the cluster."
   ]
  },
  {
   "cell_type": "code",
   "execution_count": null,
   "metadata": {
    "atoti": {
     "state": {
      "name": "Price index for cluster 2",
      "type": "container",
      "value": {
       "body": {
        "configuration": {
         "mapping": {
          "horizontalSubplots": [],
          "splitBy": [
           "[Epoch].[Epoch].[Branch]"
          ],
          "values": [
           "[Measures].[Price Index]"
          ],
          "verticalSubplots": [],
          "xAxis": [
           "[Hierarchies].[Cluster].[Cluster]",
           "[Hierarchies].[OutletId].[OutletId]",
           "[Hierarchies].[OutletName].[OutletName]"
          ]
         },
         "plotly": {
          "layout": {
           "xaxis": {
            "tickangle": "45"
           }
          }
         },
         "type": "plotly-clustered-column-chart"
        },
        "query": {
         "mdx": "SELECT NON EMPTY Crossjoin([Hierarchies].[Cluster].[Cluster].Members, [Hierarchies].[OutletId].[OutletId].Members, [Hierarchies].[OutletName].[OutletName].Members, [Epoch].[Epoch].[Branch].Members) ON ROWS, NON EMPTY [Measures].[Price Index] ON COLUMNS FROM (SELECT [Hierarchies].[Cluster].[ALL].[AllMember].[2] ON COLUMNS FROM [PriceIndexCube]) CELL PROPERTIES VALUE, FORMATTED_VALUE, BACK_COLOR, FORE_COLOR, FONT_FLAGS",
         "serverUrl": "",
         "updateMode": "once"
        }
       },
       "containerKey": "chart",
       "showTitleBar": false,
       "style": {}
      }
     }
    }
   },
   "outputs": [],
   "source": [
    "price_index_cube.visualize(\"Price index for cluster 2\")"
   ]
  },
  {
   "cell_type": "markdown",
   "metadata": {},
   "source": [
    "Let's scale down the price index of the outlet using atoti's simulation."
   ]
  },
  {
   "cell_type": "code",
   "execution_count": null,
   "metadata": {},
   "outputs": [],
   "source": [
    "price_simulation = price_index_cube.setup_simulation(\n",
    "    \"Price simulation\",\n",
    "    base_scenario=\"Selling Price Initial\",\n",
    "    levels=[lvl[\"Cluster\"], lvl[\"OutletId\"]],\n",
    "    multiply=[m[\"SellingPrice.MEAN\"]],\n",
    ")"
   ]
  },
  {
   "cell_type": "markdown",
   "metadata": {},
   "source": [
    "Thanks to atoti built-in simulations capabilities, we can easily create a new scenario for the new pricing by directly loading the price-optimised dataframe.  \n",
    "All the previously defined KPIs, e.g. the price index, will be re-computed on the fly, enabling us to compare the scenarios and their benefits."
   ]
  },
  {
   "cell_type": "code",
   "execution_count": null,
   "metadata": {},
   "outputs": [],
   "source": [
    "cluster_adjustment = price_simulation.scenarios[\"Selling Price New\"]\n",
    "cluster_adjustment.append((\"2\", 7, 0.95),)"
   ]
  },
  {
   "cell_type": "code",
   "execution_count": null,
   "metadata": {
    "atoti": {
     "height": 380,
     "state": {
      "name": "Price index optimisation difference by scenario",
      "type": "container",
      "value": {
       "body": {
        "configuration": {
         "mapping": {
          "horizontalSubplots": [],
          "splitBy": [
           "[Measure Simulations].[Price simulation].[Price simulation]",
           "[Epoch].[Epoch].[Branch]"
          ],
          "values": [
           "[Measures].[Price Index]"
          ],
          "verticalSubplots": [],
          "xAxis": [
           "[Hierarchies].[Cluster].[Cluster]",
           "[Hierarchies].[OutletId].[OutletId]",
           "[Hierarchies].[OutletName].[OutletName]"
          ]
         },
         "plotly": {
          "layout": {
           "xaxis": {
            "tickangle": "45"
           }
          }
         },
         "type": "plotly-clustered-column-chart"
        },
        "query": {
         "mdx": "SELECT NON EMPTY Crossjoin([Hierarchies].[Cluster].[Cluster].Members, [Hierarchies].[OutletId].[OutletId].Members, [Hierarchies].[OutletName].[OutletName].Members, [Measure Simulations].[Price simulation].[Price simulation].Members, [Epoch].[Epoch].[Branch].Members) ON ROWS, NON EMPTY [Measures].[Price Index] ON COLUMNS FROM (SELECT [Hierarchies].[Cluster].[ALL].[AllMember].[2] ON COLUMNS FROM [PriceIndexCube]) CELL PROPERTIES VALUE, FORMATTED_VALUE, BACK_COLOR, FORE_COLOR, FONT_FLAGS",
         "serverUrl": "",
         "updateMode": "once"
        }
       },
       "containerKey": "chart",
       "showTitleBar": false,
       "style": {}
      }
     }
    }
   },
   "outputs": [],
   "source": [
    "price_index_cube.visualize(\"Price index optimisation difference by scenario\")"
   ]
  },
  {
   "cell_type": "markdown",
   "metadata": {},
   "source": [
    "The price index after price optimization and the outlet adjustment for the outlet looks more aligned now. \n",
    "\n",
    "We saw how machine learning helps to identify the clusters based on the amount geographical competitions.  \n",
    "With this information, we applied different pricing strategy to each cluster using simulations from atoti to understand the impact on the price index.\n",
    "We also look within a cluster to adjust the pricing of a specific outlet so that it's more attuned to the pricing of the other outlets in the cluster. \n",
    "\n",
    "With atoti, we can easily combine the simulations of various factors such as festivals, promotions, seasons etc.\n",
    "If we have more data such as the quantity of products sold, we can easily see the differences in the margin with each pricing strategy.  \n",
    "We can thereafter decide on the best pricing from the combination of simulations.\n",
    "\n",
    "Do have a look at how we can strategize the price index around product class in the [pricing-simulations-around-product-classes](https://github.com/atoti/notebooks/tree/master/retail/pricing-simulations-around-product-classes) notebook and its [corresponding article](https://www.atoti.io/data-dive-how-to-improve-pricing-strategies-with-a-set-of-checkout-receipts/).  \n",
    "Maybe you can have a go at combining the two strategies to get your own price index!"
   ]
  }
 ],
 "metadata": {
  "kernelspec": {
   "display_name": "Python 3",
   "language": "python",
   "name": "python3"
  },
  "language_info": {
   "codemirror_mode": {
    "name": "ipython",
    "version": 3
   },
   "file_extension": ".py",
   "mimetype": "text/x-python",
   "name": "python",
   "nbconvert_exporter": "python",
   "pygments_lexer": "ipython3",
   "version": "3.8.3"
  }
 },
 "nbformat": 4,
 "nbformat_minor": 4
}
