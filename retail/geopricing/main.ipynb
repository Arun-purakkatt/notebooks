{
 "cells": [
  {
   "cell_type": "markdown",
   "metadata": {},
   "source": [
    "# Geopricing with atoti\n",
    "In this notebook we will explore a pricing use case that combines machine learning algorithms and atoti.  \n",
    "\n",
    "Through machine learning, we will be able to create clusters of stores depending on their local competition and current prices.  \n",
    "We will then be able to simulate various pricing strategies with atoti.  \n",
    "\n",
    "For the machine learning, we will need a set of input features for each store:\n",
    "- Number of competitors per distance range (1 KM, 5 KM, 10 KM etc)\n",
    "- Price Index per store against its competitors\n",
    "\n",
    "We will see how we can make use of simulation to create different data input for the machine learning.\n",
    "We will then take the output from the machine learning to run different simulations:\n",
    "- Pricing simulations around clusters\n",
    "- Selling price simulation by clusters and stores\n",
    "\n",
    "### Dependencies\n",
    "Let's start by installing the libraries required for this notebook to work."
   ]
  },
  {
   "cell_type": "code",
   "execution_count": 1,
   "metadata": {},
   "outputs": [
    {
     "name": "stdout",
     "output_type": "stream",
     "text": [
      "Collecting package metadata (current_repodata.json): ...working... done\n",
      "Solving environment: ...working... done\n",
      "\n",
      "# All requested packages already installed.\n",
      "\n"
     ]
    }
   ],
   "source": [
    "import sys\n",
    "\n",
    "!conda install --yes --prefix {sys.prefix} folium scipy scikit-learn matplotlib seaborn"
   ]
  },
  {
   "cell_type": "code",
   "execution_count": 2,
   "metadata": {},
   "outputs": [
    {
     "name": "stdout",
     "output_type": "stream",
     "text": [
      "Welcome to atoti 0.4.1!\n",
      "\n",
      "By using this community edition, you agree with the license available at https://www.atoti.io/eula.\n",
      "Browse the official documentation at https://docs.atoti.io.\n",
      "Join the community at https://www.atoti.io/register.\n",
      "\n",
      "You can hide this message by setting the ATOTI_HIDE_EULA_MESSAGE environment variable to True.\n"
     ]
    }
   ],
   "source": [
    "import atoti as tt\n",
    "import pandas as pd"
   ]
  },
  {
   "cell_type": "markdown",
   "metadata": {},
   "source": [
    "## Computing stores features\n",
    "\n",
    "### Data preparation\n",
    "We will first start by loading our stores into Pandas dataframe."
   ]
  },
  {
   "cell_type": "code",
   "execution_count": 3,
   "metadata": {},
   "outputs": [
    {
     "data": {
      "text/html": [
       "<div>\n",
       "<style scoped>\n",
       "    .dataframe tbody tr th:only-of-type {\n",
       "        vertical-align: middle;\n",
       "    }\n",
       "\n",
       "    .dataframe tbody tr th {\n",
       "        vertical-align: top;\n",
       "    }\n",
       "\n",
       "    .dataframe thead th {\n",
       "        text-align: right;\n",
       "    }\n",
       "</style>\n",
       "<table border=\"1\" class=\"dataframe\">\n",
       "  <thead>\n",
       "    <tr style=\"text-align: right;\">\n",
       "      <th></th>\n",
       "      <th>StoreId</th>\n",
       "      <th>StoreName</th>\n",
       "      <th>Adress</th>\n",
       "      <th>ZipCode</th>\n",
       "      <th>City</th>\n",
       "      <th>Country</th>\n",
       "      <th>Latitude</th>\n",
       "      <th>Longitude</th>\n",
       "      <th>Company</th>\n",
       "    </tr>\n",
       "  </thead>\n",
       "  <tbody>\n",
       "    <tr>\n",
       "      <th>0</th>\n",
       "      <td>1</td>\n",
       "      <td>ActiveViam Store Paris 1er</td>\n",
       "      <td>Paris 1er</td>\n",
       "      <td>75001</td>\n",
       "      <td>Paris</td>\n",
       "      <td>France</td>\n",
       "      <td>48.860757</td>\n",
       "      <td>2.342566</td>\n",
       "      <td>ActiveViam</td>\n",
       "    </tr>\n",
       "    <tr>\n",
       "      <th>1</th>\n",
       "      <td>2</td>\n",
       "      <td>ActiveViam Store Paris 15</td>\n",
       "      <td>Paris 15</td>\n",
       "      <td>75015</td>\n",
       "      <td>Paris</td>\n",
       "      <td>France</td>\n",
       "      <td>48.840412</td>\n",
       "      <td>2.312649</td>\n",
       "      <td>ActiveViam</td>\n",
       "    </tr>\n",
       "    <tr>\n",
       "      <th>2</th>\n",
       "      <td>3</td>\n",
       "      <td>ActiveViam Store Paris 18</td>\n",
       "      <td>Paris 18</td>\n",
       "      <td>75018</td>\n",
       "      <td>Paris</td>\n",
       "      <td>France</td>\n",
       "      <td>48.886483</td>\n",
       "      <td>2.344326</td>\n",
       "      <td>ActiveViam</td>\n",
       "    </tr>\n",
       "    <tr>\n",
       "      <th>3</th>\n",
       "      <td>4</td>\n",
       "      <td>ActiveViam Store Paris 12</td>\n",
       "      <td>Paris 12</td>\n",
       "      <td>75012</td>\n",
       "      <td>Paris</td>\n",
       "      <td>France</td>\n",
       "      <td>48.832182</td>\n",
       "      <td>2.375729</td>\n",
       "      <td>ActiveViam</td>\n",
       "    </tr>\n",
       "    <tr>\n",
       "      <th>4</th>\n",
       "      <td>5</td>\n",
       "      <td>ActiveViam Store Paris 16</td>\n",
       "      <td>Paris 16</td>\n",
       "      <td>75016</td>\n",
       "      <td>Paris</td>\n",
       "      <td>France</td>\n",
       "      <td>48.855454</td>\n",
       "      <td>2.280886</td>\n",
       "      <td>ActiveViam</td>\n",
       "    </tr>\n",
       "  </tbody>\n",
       "</table>\n",
       "</div>"
      ],
      "text/plain": [
       "   StoreId                   StoreName     Adress  ZipCode   City Country  \\\n",
       "0        1  ActiveViam Store Paris 1er  Paris 1er    75001  Paris  France   \n",
       "1        2   ActiveViam Store Paris 15   Paris 15    75015  Paris  France   \n",
       "2        3   ActiveViam Store Paris 18   Paris 18    75018  Paris  France   \n",
       "3        4   ActiveViam Store Paris 12   Paris 12    75012  Paris  France   \n",
       "4        5   ActiveViam Store Paris 16   Paris 16    75016  Paris  France   \n",
       "\n",
       "    Latitude  Longitude     Company  \n",
       "0  48.860757   2.342566  ActiveViam  \n",
       "1  48.840412   2.312649  ActiveViam  \n",
       "2  48.886483   2.344326  ActiveViam  \n",
       "3  48.832182   2.375729  ActiveViam  \n",
       "4  48.855454   2.280886  ActiveViam  "
      ]
     },
     "execution_count": 3,
     "metadata": {},
     "output_type": "execute_result"
    }
   ],
   "source": [
    "stores_df = pd.read_csv(\n",
    "    \"https://data.atoti.io/notebooks/geopricing/stores.csv\", sep=\";\"\n",
    ")\n",
    "stores_df.head(5)"
   ]
  },
  {
   "cell_type": "markdown",
   "metadata": {},
   "source": [
    "And then those of the competitors."
   ]
  },
  {
   "cell_type": "code",
   "execution_count": 4,
   "metadata": {},
   "outputs": [
    {
     "data": {
      "text/html": [
       "<div>\n",
       "<style scoped>\n",
       "    .dataframe tbody tr th:only-of-type {\n",
       "        vertical-align: middle;\n",
       "    }\n",
       "\n",
       "    .dataframe tbody tr th {\n",
       "        vertical-align: top;\n",
       "    }\n",
       "\n",
       "    .dataframe thead th {\n",
       "        text-align: right;\n",
       "    }\n",
       "</style>\n",
       "<table border=\"1\" class=\"dataframe\">\n",
       "  <thead>\n",
       "    <tr style=\"text-align: right;\">\n",
       "      <th></th>\n",
       "      <th>CompetitorStoreId</th>\n",
       "      <th>CompetitorStoreName</th>\n",
       "      <th>CompetitorStoreAdress</th>\n",
       "      <th>CompetitorStoreZipCode</th>\n",
       "      <th>CompetitorStoreCity</th>\n",
       "      <th>CompetitorStoreCountry</th>\n",
       "      <th>CompetitorStoreLatitude</th>\n",
       "      <th>CompetitorStoreLongitude</th>\n",
       "      <th>CompetitorStoreCompany</th>\n",
       "    </tr>\n",
       "  </thead>\n",
       "  <tbody>\n",
       "    <tr>\n",
       "      <th>0</th>\n",
       "      <td>101</td>\n",
       "      <td>Concurrent Premium</td>\n",
       "      <td>Paris 1er</td>\n",
       "      <td>75001</td>\n",
       "      <td>Paris</td>\n",
       "      <td>France</td>\n",
       "      <td>48.860757</td>\n",
       "      <td>2.342566</td>\n",
       "      <td>Concurrent Premium</td>\n",
       "    </tr>\n",
       "    <tr>\n",
       "      <th>1</th>\n",
       "      <td>102</td>\n",
       "      <td>Concurrent Premium</td>\n",
       "      <td>Paris 15</td>\n",
       "      <td>75015</td>\n",
       "      <td>Paris</td>\n",
       "      <td>France</td>\n",
       "      <td>48.840412</td>\n",
       "      <td>2.312649</td>\n",
       "      <td>Concurrent Premium</td>\n",
       "    </tr>\n",
       "    <tr>\n",
       "      <th>2</th>\n",
       "      <td>103</td>\n",
       "      <td>Concurrent Premium</td>\n",
       "      <td>Paris 18</td>\n",
       "      <td>75018</td>\n",
       "      <td>Paris</td>\n",
       "      <td>France</td>\n",
       "      <td>48.886483</td>\n",
       "      <td>2.344326</td>\n",
       "      <td>Concurrent Premium</td>\n",
       "    </tr>\n",
       "    <tr>\n",
       "      <th>3</th>\n",
       "      <td>104</td>\n",
       "      <td>Concurrent Premium</td>\n",
       "      <td>Paris 12</td>\n",
       "      <td>75012</td>\n",
       "      <td>Paris</td>\n",
       "      <td>France</td>\n",
       "      <td>48.832182</td>\n",
       "      <td>2.375729</td>\n",
       "      <td>Concurrent Premium</td>\n",
       "    </tr>\n",
       "    <tr>\n",
       "      <th>4</th>\n",
       "      <td>105</td>\n",
       "      <td>Concurrent Premium</td>\n",
       "      <td>Paris 16</td>\n",
       "      <td>75016</td>\n",
       "      <td>Paris</td>\n",
       "      <td>France</td>\n",
       "      <td>48.855454</td>\n",
       "      <td>2.280886</td>\n",
       "      <td>Concurrent Premium</td>\n",
       "    </tr>\n",
       "  </tbody>\n",
       "</table>\n",
       "</div>"
      ],
      "text/plain": [
       "   CompetitorStoreId CompetitorStoreName CompetitorStoreAdress  \\\n",
       "0                101  Concurrent Premium             Paris 1er   \n",
       "1                102  Concurrent Premium              Paris 15   \n",
       "2                103  Concurrent Premium              Paris 18   \n",
       "3                104  Concurrent Premium              Paris 12   \n",
       "4                105  Concurrent Premium              Paris 16   \n",
       "\n",
       "   CompetitorStoreZipCode CompetitorStoreCity CompetitorStoreCountry  \\\n",
       "0                   75001               Paris                 France   \n",
       "1                   75015               Paris                 France   \n",
       "2                   75018               Paris                 France   \n",
       "3                   75012               Paris                 France   \n",
       "4                   75016               Paris                 France   \n",
       "\n",
       "   CompetitorStoreLatitude  CompetitorStoreLongitude CompetitorStoreCompany  \n",
       "0                48.860757                  2.342566     Concurrent Premium  \n",
       "1                48.840412                  2.312649     Concurrent Premium  \n",
       "2                48.886483                  2.344326     Concurrent Premium  \n",
       "3                48.832182                  2.375729     Concurrent Premium  \n",
       "4                48.855454                  2.280886     Concurrent Premium  "
      ]
     },
     "execution_count": 4,
     "metadata": {},
     "output_type": "execute_result"
    }
   ],
   "source": [
    "competitor_stores_df = pd.read_csv(\n",
    "    \"https://data.atoti.io/notebooks/geopricing/competitor_stores.csv\", sep=\";\"\n",
    ")\n",
    "competitor_stores_df.head(5)"
   ]
  },
  {
   "cell_type": "markdown",
   "metadata": {},
   "source": [
    "We can already visualize on a map our stores (in red) and those of the competition (in blue)."
   ]
  },
  {
   "cell_type": "code",
   "execution_count": 5,
   "metadata": {},
   "outputs": [],
   "source": [
    "from utils import geo_utils"
   ]
  },
  {
   "cell_type": "code",
   "execution_count": 6,
   "metadata": {},
   "outputs": [
    {
     "data": {
      "text/html": [
       "<div style=\"width:100%;\"><div style=\"position:relative;width:100%;height:0;padding-bottom:60%;\"><span style=\"color:#565656\">Make this Notebook Trusted to load map: File -> Trust Notebook</span><iframe src=\"about:blank\" style=\"position:absolute;width:100%;height:100%;left:0;top:0;border:none !important;\" data-html=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 onload=\"this.contentDocument.open();this.contentDocument.write(atob(this.getAttribute('data-html')));this.contentDocument.close();\" allowfullscreen webkitallowfullscreen mozallowfullscreen></iframe></div></div>"
      ],
      "text/plain": [
       "<folium.folium.Map at 0x1829c5d7160>"
      ]
     },
     "execution_count": 6,
     "metadata": {},
     "output_type": "execute_result"
    }
   ],
   "source": [
    "stores_map = geo_utils.build_stores_map(competitor_stores_df, stores_df)\n",
    "stores_map"
   ]
  },
  {
   "cell_type": "markdown",
   "metadata": {},
   "source": [
    "To assess whether a store has strong competition or not, we will count how many competitor stores there are within an area of radius 1km, 5km, 10km and 20km.  \n",
    "In order to to that, we first need to compute distances between stores then count the number of competitor stores for each of the kilometers values above.\n",
    "\n",
    "#### Computing distances between stores\n",
    "To compute distances between stores, we simply used the [harvesine formula](https://en.wikipedia.org/wiki/Haversine_formula). Note that another approach would be to use instead something like the [google API to compute distances and durations between two points](https://developers.google.com/maps/documentation/distance-matrix/intro) (thus taking into accounts possible means of transportation).\n",
    "\n",
    "First we build a matrix containing the distances between stores and all competitors."
   ]
  },
  {
   "cell_type": "code",
   "execution_count": 7,
   "metadata": {},
   "outputs": [
    {
     "data": {
      "text/html": [
       "<div>\n",
       "<style scoped>\n",
       "    .dataframe tbody tr th:only-of-type {\n",
       "        vertical-align: middle;\n",
       "    }\n",
       "\n",
       "    .dataframe tbody tr th {\n",
       "        vertical-align: top;\n",
       "    }\n",
       "\n",
       "    .dataframe thead th {\n",
       "        text-align: right;\n",
       "    }\n",
       "</style>\n",
       "<table border=\"1\" class=\"dataframe\">\n",
       "  <thead>\n",
       "    <tr style=\"text-align: right;\">\n",
       "      <th></th>\n",
       "      <th>CompetitorStoreId</th>\n",
       "      <th>StoreId</th>\n",
       "      <th>Competitor distance KM</th>\n",
       "    </tr>\n",
       "  </thead>\n",
       "  <tbody>\n",
       "    <tr>\n",
       "      <th>0</th>\n",
       "      <td>101</td>\n",
       "      <td>1</td>\n",
       "      <td>0.000000</td>\n",
       "    </tr>\n",
       "    <tr>\n",
       "      <th>1</th>\n",
       "      <td>101</td>\n",
       "      <td>2</td>\n",
       "      <td>3.145965</td>\n",
       "    </tr>\n",
       "    <tr>\n",
       "      <th>2</th>\n",
       "      <td>101</td>\n",
       "      <td>3</td>\n",
       "      <td>2.861697</td>\n",
       "    </tr>\n",
       "    <tr>\n",
       "      <th>3</th>\n",
       "      <td>101</td>\n",
       "      <td>4</td>\n",
       "      <td>3.995581</td>\n",
       "    </tr>\n",
       "    <tr>\n",
       "      <th>4</th>\n",
       "      <td>101</td>\n",
       "      <td>5</td>\n",
       "      <td>4.547896</td>\n",
       "    </tr>\n",
       "  </tbody>\n",
       "</table>\n",
       "</div>"
      ],
      "text/plain": [
       "   CompetitorStoreId  StoreId  Competitor distance KM\n",
       "0                101        1                0.000000\n",
       "1                101        2                3.145965\n",
       "2                101        3                2.861697\n",
       "3                101        4                3.995581\n",
       "4                101        5                4.547896"
      ]
     },
     "execution_count": 7,
     "metadata": {},
     "output_type": "execute_result"
    }
   ],
   "source": [
    "stores_distances_matrix = geo_utils.create_stores_distances_matrix(\n",
    "    stores_df, competitor_stores_df\n",
    ")\n",
    "\n",
    "stores_distances_matrix.head()"
   ]
  },
  {
   "cell_type": "markdown",
   "metadata": {},
   "source": [
    "Next we proceed to load data into our stores for the data cube.\n",
    "\n",
    "#### Data loading and cube creation\n",
    "We begin by creating an atoti session."
   ]
  },
  {
   "cell_type": "code",
   "execution_count": 8,
   "metadata": {},
   "outputs": [],
   "source": [
    "session = tt.create_session()"
   ]
  },
  {
   "cell_type": "markdown",
   "metadata": {},
   "source": [
    "We load the distance matrix into a data store. This will facilitate the computation of the number of competitors per area radius.  \n",
    "Though not implemented in this notebook, we can also use it for analysis of price index against the competitors within a distance range."
   ]
  },
  {
   "cell_type": "code",
   "execution_count": 9,
   "metadata": {},
   "outputs": [
    {
     "data": {
      "text/html": [
       "<div>\n",
       "<style scoped>\n",
       "    .dataframe tbody tr th:only-of-type {\n",
       "        vertical-align: middle;\n",
       "    }\n",
       "\n",
       "    .dataframe tbody tr th {\n",
       "        vertical-align: top;\n",
       "    }\n",
       "\n",
       "    .dataframe thead th {\n",
       "        text-align: right;\n",
       "    }\n",
       "</style>\n",
       "<table border=\"1\" class=\"dataframe\">\n",
       "  <thead>\n",
       "    <tr style=\"text-align: right;\">\n",
       "      <th></th>\n",
       "      <th></th>\n",
       "      <th>Competitor distance KM</th>\n",
       "    </tr>\n",
       "    <tr>\n",
       "      <th>StoreId</th>\n",
       "      <th>CompetitorStoreId</th>\n",
       "      <th></th>\n",
       "    </tr>\n",
       "  </thead>\n",
       "  <tbody>\n",
       "    <tr>\n",
       "      <th>1.0</th>\n",
       "      <th>101.0</th>\n",
       "      <td>0.000000</td>\n",
       "    </tr>\n",
       "    <tr>\n",
       "      <th>2.0</th>\n",
       "      <th>101.0</th>\n",
       "      <td>3.145965</td>\n",
       "    </tr>\n",
       "    <tr>\n",
       "      <th>3.0</th>\n",
       "      <th>101.0</th>\n",
       "      <td>2.861697</td>\n",
       "    </tr>\n",
       "    <tr>\n",
       "      <th>4.0</th>\n",
       "      <th>101.0</th>\n",
       "      <td>3.995581</td>\n",
       "    </tr>\n",
       "    <tr>\n",
       "      <th>5.0</th>\n",
       "      <th>101.0</th>\n",
       "      <td>4.547896</td>\n",
       "    </tr>\n",
       "  </tbody>\n",
       "</table>\n",
       "</div>"
      ],
      "text/plain": [
       "                           Competitor distance KM\n",
       "StoreId CompetitorStoreId                        \n",
       "1.0     101.0                            0.000000\n",
       "2.0     101.0                            3.145965\n",
       "3.0     101.0                            2.861697\n",
       "4.0     101.0                            3.995581\n",
       "5.0     101.0                            4.547896"
      ]
     },
     "execution_count": 9,
     "metadata": {},
     "output_type": "execute_result"
    }
   ],
   "source": [
    "distance_matrix = session.read_pandas(\n",
    "    stores_distances_matrix,\n",
    "    keys=[\"StoreId\", \"CompetitorStoreId\"],\n",
    "    store_name=\"DistanceMatrix\",\n",
    "    types={\"StoreId\": tt.types.INT, \"CompetitorStoreId\": tt.types.INT,},\n",
    ")\n",
    "\n",
    "distance_matrix.head()"
   ]
  },
  {
   "cell_type": "markdown",
   "metadata": {},
   "source": [
    "Normally, we can have the selling price, cost price and quantity of the product sold. Margin hence can be derived, and we can consequently see the impact on margin when price index changes.  \n",
    "In this notebook however, we simplify the use case by having only the SellingPrice and the total Margin for each product by stores.  "
   ]
  },
  {
   "cell_type": "markdown",
   "metadata": {},
   "source": [
    "We multiply SellingPrice by Margin in the dataframe before loading it into atoti. This value will be used to compute the price index of the stores in the later section.  \n",
    "It’s a good practice to do this kind of fact-level preprocessing outside atoti, as it avoids redoing these computations on every row over and over, slowing down every query."
   ]
  },
  {
   "cell_type": "code",
   "execution_count": 10,
   "metadata": {},
   "outputs": [],
   "source": [
    "#  We used pandas to read the selling price here as we will be using it again for price optimisation in the later section.\n",
    "product_sales_df = pd.read_csv(\n",
    "    \"https://data.atoti.io/notebooks/geopricing/product_sales.csv\"\n",
    ")\n",
    "\n",
    "product_sales_df[\"SellingPrice_x_Margin\"] = (\n",
    "    product_sales_df[\"SellingPrice\"] * product_sales_df[\"Margin\"]\n",
    ")"
   ]
  },
  {
   "cell_type": "code",
   "execution_count": 11,
   "metadata": {},
   "outputs": [
    {
     "name": "stderr",
     "output_type": "stream",
     "text": [
      "The store has been sampled because there are more than 10000 lines in the files to load. Call Session.load_all_data() to trigger the full load of the data.\n"
     ]
    },
    {
     "data": {
      "text/html": [
       "<div>\n",
       "<style scoped>\n",
       "    .dataframe tbody tr th:only-of-type {\n",
       "        vertical-align: middle;\n",
       "    }\n",
       "\n",
       "    .dataframe tbody tr th {\n",
       "        vertical-align: top;\n",
       "    }\n",
       "\n",
       "    .dataframe thead th {\n",
       "        text-align: right;\n",
       "    }\n",
       "</style>\n",
       "<table border=\"1\" class=\"dataframe\">\n",
       "  <thead>\n",
       "    <tr style=\"text-align: right;\">\n",
       "      <th></th>\n",
       "      <th></th>\n",
       "      <th>SellingPrice</th>\n",
       "      <th>Margin</th>\n",
       "      <th>SellingPrice_x_Margin</th>\n",
       "    </tr>\n",
       "    <tr>\n",
       "      <th>ProductId</th>\n",
       "      <th>StoreId</th>\n",
       "      <th></th>\n",
       "      <th></th>\n",
       "      <th></th>\n",
       "    </tr>\n",
       "  </thead>\n",
       "  <tbody>\n",
       "    <tr>\n",
       "      <th rowspan=\"5\" valign=\"top\">4096.0</th>\n",
       "      <th>1.0</th>\n",
       "      <td>1.920</td>\n",
       "      <td>1959.530</td>\n",
       "      <td>3762.297600</td>\n",
       "    </tr>\n",
       "    <tr>\n",
       "      <th>2.0</th>\n",
       "      <td>2.068</td>\n",
       "      <td>2204.228</td>\n",
       "      <td>4558.343504</td>\n",
       "    </tr>\n",
       "    <tr>\n",
       "      <th>3.0</th>\n",
       "      <td>1.820</td>\n",
       "      <td>1835.545</td>\n",
       "      <td>3340.691900</td>\n",
       "    </tr>\n",
       "    <tr>\n",
       "      <th>4.0</th>\n",
       "      <td>1.825</td>\n",
       "      <td>1641.052</td>\n",
       "      <td>2994.919900</td>\n",
       "    </tr>\n",
       "    <tr>\n",
       "      <th>5.0</th>\n",
       "      <td>2.016</td>\n",
       "      <td>1307.136</td>\n",
       "      <td>2635.186176</td>\n",
       "    </tr>\n",
       "  </tbody>\n",
       "</table>\n",
       "</div>"
      ],
      "text/plain": [
       "                   SellingPrice    Margin  SellingPrice_x_Margin\n",
       "ProductId StoreId                                               \n",
       "4096.0    1.0             1.920  1959.530            3762.297600\n",
       "          2.0             2.068  2204.228            4558.343504\n",
       "          3.0             1.820  1835.545            3340.691900\n",
       "          4.0             1.825  1641.052            2994.919900\n",
       "          5.0             2.016  1307.136            2635.186176"
      ]
     },
     "execution_count": 11,
     "metadata": {},
     "output_type": "execute_result"
    }
   ],
   "source": [
    "productSales = session.read_pandas(\n",
    "    product_sales_df,\n",
    "    keys=[\"ProductId\", \"StoreId\"],\n",
    "    store_name=\"ProductSales\",\n",
    "    types={\"ProductId\": tt.types.INT, \"StoreId\": tt.types.INT},\n",
    ")\n",
    "\n",
    "productSales.head()"
   ]
  },
  {
   "cell_type": "code",
   "execution_count": 12,
   "metadata": {},
   "outputs": [],
   "source": [
    "price_index_cube = session.create_cube(productSales, \"PriceIndexCube\")"
   ]
  },
  {
   "cell_type": "markdown",
   "metadata": {},
   "source": [
    "We will also require the competitors' product pricing against our stores.  \n",
    "Due to the amount of data in this store, the store will be sampled by default. We will proceed to load all the data only after we are done modeling the cube.  \n",
    "Note that atoti is able to load csv directly from s3."
   ]
  },
  {
   "cell_type": "code",
   "execution_count": 13,
   "metadata": {},
   "outputs": [
    {
     "data": {
      "text/html": [
       "<div>\n",
       "<style scoped>\n",
       "    .dataframe tbody tr th:only-of-type {\n",
       "        vertical-align: middle;\n",
       "    }\n",
       "\n",
       "    .dataframe tbody tr th {\n",
       "        vertical-align: top;\n",
       "    }\n",
       "\n",
       "    .dataframe thead th {\n",
       "        text-align: right;\n",
       "    }\n",
       "</style>\n",
       "<table border=\"1\" class=\"dataframe\">\n",
       "  <thead>\n",
       "    <tr style=\"text-align: right;\">\n",
       "      <th></th>\n",
       "      <th></th>\n",
       "      <th></th>\n",
       "      <th>CompetitorPrice</th>\n",
       "    </tr>\n",
       "    <tr>\n",
       "      <th>ProductId</th>\n",
       "      <th>CompetitorStoreId</th>\n",
       "      <th>StoreId</th>\n",
       "      <th></th>\n",
       "    </tr>\n",
       "  </thead>\n",
       "  <tbody>\n",
       "    <tr>\n",
       "      <th>4096.0</th>\n",
       "      <th>101.0</th>\n",
       "      <th>1.0</th>\n",
       "      <td>2.287</td>\n",
       "    </tr>\n",
       "    <tr>\n",
       "      <th>4097.0</th>\n",
       "      <th>101.0</th>\n",
       "      <th>1.0</th>\n",
       "      <td>2.320</td>\n",
       "    </tr>\n",
       "    <tr>\n",
       "      <th>4098.0</th>\n",
       "      <th>101.0</th>\n",
       "      <th>1.0</th>\n",
       "      <td>2.519</td>\n",
       "    </tr>\n",
       "    <tr>\n",
       "      <th>4099.0</th>\n",
       "      <th>101.0</th>\n",
       "      <th>1.0</th>\n",
       "      <td>2.504</td>\n",
       "    </tr>\n",
       "    <tr>\n",
       "      <th>4100.0</th>\n",
       "      <th>101.0</th>\n",
       "      <th>1.0</th>\n",
       "      <td>3.309</td>\n",
       "    </tr>\n",
       "  </tbody>\n",
       "</table>\n",
       "</div>"
      ],
      "text/plain": [
       "                                     CompetitorPrice\n",
       "ProductId CompetitorStoreId StoreId                 \n",
       "4096.0    101.0             1.0                2.287\n",
       "4097.0    101.0             1.0                2.320\n",
       "4098.0    101.0             1.0                2.519\n",
       "4099.0    101.0             1.0                2.504\n",
       "4100.0    101.0             1.0                3.309"
      ]
     },
     "execution_count": 13,
     "metadata": {},
     "output_type": "execute_result"
    }
   ],
   "source": [
    "competitorPrices = session.read_csv(\n",
    "    \"s3://data.atoti.io/notebooks/geopricing/competitor_prices.csv\",\n",
    "    keys=[\"ProductId\", \"CompetitorStoreId\", \"StoreId\"],\n",
    "    store_name=\"CompetitorPrices\",\n",
    "    types={\n",
    "        \"ProductId\": tt.types.INT,\n",
    "        \"StoreId\": tt.types.INT,\n",
    "        \"CompetitorStoreId\": tt.types.INT,\n",
    "    },\n",
    ")\n",
    "\n",
    "competitorPrices.head()"
   ]
  },
  {
   "cell_type": "markdown",
   "metadata": {},
   "source": [
    "We have the key stores necessary for us to generate the data required for machine learning.  \n",
    "However, we will also load the following stores that will allow us to have an in-depth analysis:\n",
    "- Products: Product catalogue\n",
    "- Stores: Store information such as location\n",
    "- CompetitorsStores: Competitors' store information"
   ]
  },
  {
   "cell_type": "code",
   "execution_count": 14,
   "metadata": {},
   "outputs": [
    {
     "data": {
      "text/html": [
       "<div>\n",
       "<style scoped>\n",
       "    .dataframe tbody tr th:only-of-type {\n",
       "        vertical-align: middle;\n",
       "    }\n",
       "\n",
       "    .dataframe tbody tr th {\n",
       "        vertical-align: top;\n",
       "    }\n",
       "\n",
       "    .dataframe thead th {\n",
       "        text-align: right;\n",
       "    }\n",
       "</style>\n",
       "<table border=\"1\" class=\"dataframe\">\n",
       "  <thead>\n",
       "    <tr style=\"text-align: right;\">\n",
       "      <th></th>\n",
       "      <th>EAN</th>\n",
       "      <th>ProductName</th>\n",
       "      <th>Brand</th>\n",
       "      <th>Size</th>\n",
       "      <th>Unit</th>\n",
       "      <th>Department</th>\n",
       "      <th>SubDepartment</th>\n",
       "      <th>Category</th>\n",
       "      <th>SubCategory</th>\n",
       "    </tr>\n",
       "    <tr>\n",
       "      <th>ProductId</th>\n",
       "      <th></th>\n",
       "      <th></th>\n",
       "      <th></th>\n",
       "      <th></th>\n",
       "      <th></th>\n",
       "      <th></th>\n",
       "      <th></th>\n",
       "      <th></th>\n",
       "      <th></th>\n",
       "    </tr>\n",
       "  </thead>\n",
       "  <tbody>\n",
       "    <tr>\n",
       "      <th>4096</th>\n",
       "      <td>3124480000378</td>\n",
       "      <td>1,5L CANADA DRY PET</td>\n",
       "      <td>CANADA DRY</td>\n",
       "      <td>1.5</td>\n",
       "      <td>L</td>\n",
       "      <td>LIQUIDES</td>\n",
       "      <td>SOFT TRADITIONNELS</td>\n",
       "      <td>TONIC</td>\n",
       "      <td>GINGER ALE</td>\n",
       "    </tr>\n",
       "    <tr>\n",
       "      <th>4097</th>\n",
       "      <td>3124480183927</td>\n",
       "      <td>1,5L SCHWEPPES LEMON PET</td>\n",
       "      <td>SCHWEPPES</td>\n",
       "      <td>1.5</td>\n",
       "      <td>L</td>\n",
       "      <td>LIQUIDES</td>\n",
       "      <td>SOFT TRADITIONNELS</td>\n",
       "      <td>BOISSON AUX FRUITS  GAZEUX</td>\n",
       "      <td>PET - PVC</td>\n",
       "    </tr>\n",
       "    <tr>\n",
       "      <th>4098</th>\n",
       "      <td>3124480183811</td>\n",
       "      <td>2L OASIS ORANGE PET</td>\n",
       "      <td>OASIS</td>\n",
       "      <td>2</td>\n",
       "      <td>L</td>\n",
       "      <td>LIQUIDES</td>\n",
       "      <td>SOFT TRADITIONNELS</td>\n",
       "      <td>BOISSON AUX FRUITS  PLAT</td>\n",
       "      <td>PET - PVC</td>\n",
       "    </tr>\n",
       "    <tr>\n",
       "      <th>4099</th>\n",
       "      <td>3124480183828</td>\n",
       "      <td>2L OASIS TROPICAL PET</td>\n",
       "      <td>OASIS</td>\n",
       "      <td>2</td>\n",
       "      <td>L</td>\n",
       "      <td>LIQUIDES</td>\n",
       "      <td>SOFT TRADITIONNELS</td>\n",
       "      <td>BOISSON AUX FRUITS  PLAT</td>\n",
       "      <td>PET - PVC</td>\n",
       "    </tr>\n",
       "    <tr>\n",
       "      <th>4100</th>\n",
       "      <td>3124480186577</td>\n",
       "      <td>6X33CL OASIS TROPICAL BT</td>\n",
       "      <td>OASIS</td>\n",
       "      <td>6x33</td>\n",
       "      <td>cl</td>\n",
       "      <td>LIQUIDES</td>\n",
       "      <td>SOFT TRADITIONNELS</td>\n",
       "      <td>BOISSON AUX FRUITS  PLAT</td>\n",
       "      <td>BOITES</td>\n",
       "    </tr>\n",
       "  </tbody>\n",
       "</table>\n",
       "</div>"
      ],
      "text/plain": [
       "                     EAN               ProductName       Brand  Size Unit  \\\n",
       "ProductId                                                                   \n",
       "4096       3124480000378       1,5L CANADA DRY PET  CANADA DRY   1.5    L   \n",
       "4097       3124480183927  1,5L SCHWEPPES LEMON PET   SCHWEPPES   1.5    L   \n",
       "4098       3124480183811       2L OASIS ORANGE PET       OASIS     2    L   \n",
       "4099       3124480183828     2L OASIS TROPICAL PET       OASIS     2    L   \n",
       "4100       3124480186577  6X33CL OASIS TROPICAL BT       OASIS  6x33   cl   \n",
       "\n",
       "          Department       SubDepartment                    Category  \\\n",
       "ProductId                                                              \n",
       "4096        LIQUIDES  SOFT TRADITIONNELS                       TONIC   \n",
       "4097        LIQUIDES  SOFT TRADITIONNELS  BOISSON AUX FRUITS  GAZEUX   \n",
       "4098        LIQUIDES  SOFT TRADITIONNELS    BOISSON AUX FRUITS  PLAT   \n",
       "4099        LIQUIDES  SOFT TRADITIONNELS    BOISSON AUX FRUITS  PLAT   \n",
       "4100        LIQUIDES  SOFT TRADITIONNELS    BOISSON AUX FRUITS  PLAT   \n",
       "\n",
       "          SubCategory  \n",
       "ProductId              \n",
       "4096       GINGER ALE  \n",
       "4097        PET - PVC  \n",
       "4098        PET - PVC  \n",
       "4099        PET - PVC  \n",
       "4100           BOITES  "
      ]
     },
     "execution_count": 14,
     "metadata": {},
     "output_type": "execute_result"
    }
   ],
   "source": [
    "products = session.read_csv(\n",
    "    \"s3://data.atoti.io/notebooks/geopricing/products_info.csv\",\n",
    "    sep=\";\",\n",
    "    keys=[\"ProductId\"],\n",
    "    store_name=\"Products\",\n",
    "    types={\"ProductId\": tt.types.INT},\n",
    ")\n",
    "\n",
    "products.head()"
   ]
  },
  {
   "cell_type": "markdown",
   "metadata": {},
   "source": [
    "Previously we have loaded our stores and the competitors' store information into dataframes for the computation of the distance matrix.  \n",
    "We will load the same dataframes into atoti store."
   ]
  },
  {
   "cell_type": "code",
   "execution_count": 15,
   "metadata": {},
   "outputs": [
    {
     "data": {
      "text/html": [
       "<div>\n",
       "<style scoped>\n",
       "    .dataframe tbody tr th:only-of-type {\n",
       "        vertical-align: middle;\n",
       "    }\n",
       "\n",
       "    .dataframe tbody tr th {\n",
       "        vertical-align: top;\n",
       "    }\n",
       "\n",
       "    .dataframe thead th {\n",
       "        text-align: right;\n",
       "    }\n",
       "</style>\n",
       "<table border=\"1\" class=\"dataframe\">\n",
       "  <thead>\n",
       "    <tr style=\"text-align: right;\">\n",
       "      <th></th>\n",
       "      <th>StoreName</th>\n",
       "      <th>Adress</th>\n",
       "      <th>ZipCode</th>\n",
       "      <th>City</th>\n",
       "      <th>Country</th>\n",
       "      <th>Latitude</th>\n",
       "      <th>Longitude</th>\n",
       "      <th>Company</th>\n",
       "    </tr>\n",
       "    <tr>\n",
       "      <th>StoreId</th>\n",
       "      <th></th>\n",
       "      <th></th>\n",
       "      <th></th>\n",
       "      <th></th>\n",
       "      <th></th>\n",
       "      <th></th>\n",
       "      <th></th>\n",
       "      <th></th>\n",
       "    </tr>\n",
       "  </thead>\n",
       "  <tbody>\n",
       "    <tr>\n",
       "      <th>1</th>\n",
       "      <td>ActiveViam Store Paris 1er</td>\n",
       "      <td>Paris 1er</td>\n",
       "      <td>75001</td>\n",
       "      <td>Paris</td>\n",
       "      <td>France</td>\n",
       "      <td>48.860757</td>\n",
       "      <td>2.342566</td>\n",
       "      <td>ActiveViam</td>\n",
       "    </tr>\n",
       "    <tr>\n",
       "      <th>2</th>\n",
       "      <td>ActiveViam Store Paris 15</td>\n",
       "      <td>Paris 15</td>\n",
       "      <td>75015</td>\n",
       "      <td>Paris</td>\n",
       "      <td>France</td>\n",
       "      <td>48.840412</td>\n",
       "      <td>2.312649</td>\n",
       "      <td>ActiveViam</td>\n",
       "    </tr>\n",
       "    <tr>\n",
       "      <th>3</th>\n",
       "      <td>ActiveViam Store Paris 18</td>\n",
       "      <td>Paris 18</td>\n",
       "      <td>75018</td>\n",
       "      <td>Paris</td>\n",
       "      <td>France</td>\n",
       "      <td>48.886483</td>\n",
       "      <td>2.344326</td>\n",
       "      <td>ActiveViam</td>\n",
       "    </tr>\n",
       "    <tr>\n",
       "      <th>4</th>\n",
       "      <td>ActiveViam Store Paris 12</td>\n",
       "      <td>Paris 12</td>\n",
       "      <td>75012</td>\n",
       "      <td>Paris</td>\n",
       "      <td>France</td>\n",
       "      <td>48.832182</td>\n",
       "      <td>2.375729</td>\n",
       "      <td>ActiveViam</td>\n",
       "    </tr>\n",
       "    <tr>\n",
       "      <th>5</th>\n",
       "      <td>ActiveViam Store Paris 16</td>\n",
       "      <td>Paris 16</td>\n",
       "      <td>75016</td>\n",
       "      <td>Paris</td>\n",
       "      <td>France</td>\n",
       "      <td>48.855454</td>\n",
       "      <td>2.280886</td>\n",
       "      <td>ActiveViam</td>\n",
       "    </tr>\n",
       "  </tbody>\n",
       "</table>\n",
       "</div>"
      ],
      "text/plain": [
       "                          StoreName     Adress  ZipCode   City Country  \\\n",
       "StoreId                                                                  \n",
       "1        ActiveViam Store Paris 1er  Paris 1er    75001  Paris  France   \n",
       "2         ActiveViam Store Paris 15   Paris 15    75015  Paris  France   \n",
       "3         ActiveViam Store Paris 18   Paris 18    75018  Paris  France   \n",
       "4         ActiveViam Store Paris 12   Paris 12    75012  Paris  France   \n",
       "5         ActiveViam Store Paris 16   Paris 16    75016  Paris  France   \n",
       "\n",
       "          Latitude  Longitude     Company  \n",
       "StoreId                                    \n",
       "1        48.860757   2.342566  ActiveViam  \n",
       "2        48.840412   2.312649  ActiveViam  \n",
       "3        48.886483   2.344326  ActiveViam  \n",
       "4        48.832182   2.375729  ActiveViam  \n",
       "5        48.855454   2.280886  ActiveViam  "
      ]
     },
     "execution_count": 15,
     "metadata": {},
     "output_type": "execute_result"
    }
   ],
   "source": [
    "stores = session.read_pandas(\n",
    "    stores_df,\n",
    "    #     sep=\";\",\n",
    "    keys=[\"StoreId\"],\n",
    "    store_name=\"Stores\",\n",
    "    types={\"StoreId\": tt.types.INT},\n",
    ")\n",
    "\n",
    "stores.head()"
   ]
  },
  {
   "cell_type": "code",
   "execution_count": 16,
   "metadata": {},
   "outputs": [
    {
     "data": {
      "text/html": [
       "<div>\n",
       "<style scoped>\n",
       "    .dataframe tbody tr th:only-of-type {\n",
       "        vertical-align: middle;\n",
       "    }\n",
       "\n",
       "    .dataframe tbody tr th {\n",
       "        vertical-align: top;\n",
       "    }\n",
       "\n",
       "    .dataframe thead th {\n",
       "        text-align: right;\n",
       "    }\n",
       "</style>\n",
       "<table border=\"1\" class=\"dataframe\">\n",
       "  <thead>\n",
       "    <tr style=\"text-align: right;\">\n",
       "      <th></th>\n",
       "      <th>CompetitorStoreName</th>\n",
       "      <th>CompetitorStoreAdress</th>\n",
       "      <th>CompetitorStoreZipCode</th>\n",
       "      <th>CompetitorStoreCity</th>\n",
       "      <th>CompetitorStoreCountry</th>\n",
       "      <th>CompetitorStoreLatitude</th>\n",
       "      <th>CompetitorStoreLongitude</th>\n",
       "      <th>CompetitorStoreCompany</th>\n",
       "    </tr>\n",
       "    <tr>\n",
       "      <th>CompetitorStoreId</th>\n",
       "      <th></th>\n",
       "      <th></th>\n",
       "      <th></th>\n",
       "      <th></th>\n",
       "      <th></th>\n",
       "      <th></th>\n",
       "      <th></th>\n",
       "      <th></th>\n",
       "    </tr>\n",
       "  </thead>\n",
       "  <tbody>\n",
       "    <tr>\n",
       "      <th>101</th>\n",
       "      <td>Concurrent Premium</td>\n",
       "      <td>Paris 1er</td>\n",
       "      <td>75001</td>\n",
       "      <td>Paris</td>\n",
       "      <td>France</td>\n",
       "      <td>48.860757</td>\n",
       "      <td>2.342566</td>\n",
       "      <td>Concurrent Premium</td>\n",
       "    </tr>\n",
       "    <tr>\n",
       "      <th>102</th>\n",
       "      <td>Concurrent Premium</td>\n",
       "      <td>Paris 15</td>\n",
       "      <td>75015</td>\n",
       "      <td>Paris</td>\n",
       "      <td>France</td>\n",
       "      <td>48.840412</td>\n",
       "      <td>2.312649</td>\n",
       "      <td>Concurrent Premium</td>\n",
       "    </tr>\n",
       "    <tr>\n",
       "      <th>103</th>\n",
       "      <td>Concurrent Premium</td>\n",
       "      <td>Paris 18</td>\n",
       "      <td>75018</td>\n",
       "      <td>Paris</td>\n",
       "      <td>France</td>\n",
       "      <td>48.886483</td>\n",
       "      <td>2.344326</td>\n",
       "      <td>Concurrent Premium</td>\n",
       "    </tr>\n",
       "    <tr>\n",
       "      <th>104</th>\n",
       "      <td>Concurrent Premium</td>\n",
       "      <td>Paris 12</td>\n",
       "      <td>75012</td>\n",
       "      <td>Paris</td>\n",
       "      <td>France</td>\n",
       "      <td>48.832182</td>\n",
       "      <td>2.375729</td>\n",
       "      <td>Concurrent Premium</td>\n",
       "    </tr>\n",
       "    <tr>\n",
       "      <th>105</th>\n",
       "      <td>Concurrent Premium</td>\n",
       "      <td>Paris 16</td>\n",
       "      <td>75016</td>\n",
       "      <td>Paris</td>\n",
       "      <td>France</td>\n",
       "      <td>48.855454</td>\n",
       "      <td>2.280886</td>\n",
       "      <td>Concurrent Premium</td>\n",
       "    </tr>\n",
       "  </tbody>\n",
       "</table>\n",
       "</div>"
      ],
      "text/plain": [
       "                  CompetitorStoreName CompetitorStoreAdress  \\\n",
       "CompetitorStoreId                                             \n",
       "101                Concurrent Premium             Paris 1er   \n",
       "102                Concurrent Premium              Paris 15   \n",
       "103                Concurrent Premium              Paris 18   \n",
       "104                Concurrent Premium              Paris 12   \n",
       "105                Concurrent Premium              Paris 16   \n",
       "\n",
       "                   CompetitorStoreZipCode CompetitorStoreCity  \\\n",
       "CompetitorStoreId                                               \n",
       "101                                 75001               Paris   \n",
       "102                                 75015               Paris   \n",
       "103                                 75018               Paris   \n",
       "104                                 75012               Paris   \n",
       "105                                 75016               Paris   \n",
       "\n",
       "                  CompetitorStoreCountry  CompetitorStoreLatitude  \\\n",
       "CompetitorStoreId                                                   \n",
       "101                               France                48.860757   \n",
       "102                               France                48.840412   \n",
       "103                               France                48.886483   \n",
       "104                               France                48.832182   \n",
       "105                               France                48.855454   \n",
       "\n",
       "                   CompetitorStoreLongitude CompetitorStoreCompany  \n",
       "CompetitorStoreId                                                   \n",
       "101                                2.342566     Concurrent Premium  \n",
       "102                                2.312649     Concurrent Premium  \n",
       "103                                2.344326     Concurrent Premium  \n",
       "104                                2.375729     Concurrent Premium  \n",
       "105                                2.280886     Concurrent Premium  "
      ]
     },
     "execution_count": 16,
     "metadata": {},
     "output_type": "execute_result"
    }
   ],
   "source": [
    "competitorStore = session.read_pandas(\n",
    "    competitor_stores_df,\n",
    "    #     sep=\";\",\n",
    "    keys=[\"CompetitorStoreId\"],\n",
    "    store_name=\"CompetitorsStores\",\n",
    "    types={\"CompetitorStoreId\": tt.types.INT},\n",
    ")\n",
    "\n",
    "competitorStore.head()"
   ]
  },
  {
   "cell_type": "markdown",
   "metadata": {},
   "source": [
    "_ProductSales_ will be our base store as we want to be able to see all the products available in our stores.  \n",
    "Competitors may or may not have the same products as our product catalogue. We are only interested in the products that we are also selling.  \n",
    "Hence we will join the _CompetitorPrices_ store to our _ProductSales_ store by _ProductId_ and _StoreId_."
   ]
  },
  {
   "cell_type": "code",
   "execution_count": 17,
   "metadata": {},
   "outputs": [],
   "source": [
    "productSales.join(\n",
    "    competitorPrices, mapping={\"ProductId\": \"ProductId\", \"StoreId\": \"StoreId\"}\n",
    ")"
   ]
  },
  {
   "cell_type": "markdown",
   "metadata": {},
   "source": [
    "To have more efficient joins, we join the _Products_ and _Stores_ to the base store since this is the most direct reference. "
   ]
  },
  {
   "cell_type": "code",
   "execution_count": 18,
   "metadata": {},
   "outputs": [],
   "source": [
    "productSales.join(products, mapping={\"ProductId\": \"ProductId\"})\n",
    "productSales.join(stores, mapping={\"StoreId\": \"StoreId\"})"
   ]
  },
  {
   "cell_type": "markdown",
   "metadata": {},
   "source": [
    "As _CompetitorPrices_ store is more granular than the _CompetitorStore_, we join the latter to _CompetitorPrices_."
   ]
  },
  {
   "cell_type": "code",
   "execution_count": 19,
   "metadata": {},
   "outputs": [],
   "source": [
    "competitorPrices.join(\n",
    "    competitorStore, mapping={\"CompetitorStoreId\": \"CompetitorStoreId\"}\n",
    ")"
   ]
  },
  {
   "cell_type": "markdown",
   "metadata": {},
   "source": [
    "_DistanceMatrix_ contains both the _StoreId_ and _CompetitorStoreId_.  \\\n",
    "As _CompetitorPrices_ store is already joined to the _ProductSales_ store which contains the _StoreId_.  \\\n",
    "By joining _DistanceMatrix_ to the _CompetitorPrices_, the _DistanceMatrix_ store automatically get linked to the _ProductSales_ store."
   ]
  },
  {
   "cell_type": "code",
   "execution_count": 20,
   "metadata": {},
   "outputs": [],
   "source": [
    "competitorPrices.join(\n",
    "    distance_matrix,\n",
    "    mapping={\"CompetitorStoreId\": \"CompetitorStoreId\", \"StoreId\": \"StoreId\"},\n",
    ")"
   ]
  },
  {
   "cell_type": "markdown",
   "metadata": {},
   "source": [
    "Let's see the final design of our cube."
   ]
  },
  {
   "cell_type": "code",
   "execution_count": 21,
   "metadata": {},
   "outputs": [
    {
     "data": {
      "image/svg+xml": [
       "<svg xmlns=\"http://www.w3.org/2000/svg\" xmlns:xlink=\"http://www.w3.org/1999/xlink\" width=\"1099px\" height=\"1155px\" viewBox=\"0.00 0.00 1099.00 1154.50\">\n",
       "<g id=\"graph0\" class=\"graph\" transform=\"scale(1.0 1.0) rotate(0) translate(4 1150.5)\">\n",
       "<title>PriceIndexCube schema</title>\n",
       "<polygon fill=\"white\" stroke=\"none\" points=\"-4,4 -4,-1150.5 1095,-1150.5 1095,4 -4,4\"/>\n",
       "<!-- ProductSales -->\n",
       "<g id=\"node1\" class=\"node\"><title>ProductSales</title>\n",
       "<polygon fill=\"none\" stroke=\"black\" points=\"8,-598 8,-635 204,-635 204,-598 8,-598\"/>\n",
       "<text text-anchor=\"start\" x=\"65\" y=\"-613.8\" font-family=\"Times New Roman,serif\" font-weight=\"bold\" font-size=\"14.00\">ProductSales</text>\n",
       "<polygon fill=\"none\" stroke=\"black\" points=\"8,-561 8,-598 204,-598 204,-561 8,-561\"/>\n",
       "<text text-anchor=\"start\" x=\"19\" y=\"-576.8\" font-family=\"Times New Roman,serif\" font-weight=\"bold\" font-size=\"14.00\">Key</text>\n",
       "<text text-anchor=\"start\" x=\"44\" y=\"-576.8\" font-family=\"Times New Roman,serif\" font-size=\"14.00\">  ProductId </text>\n",
       "<text text-anchor=\"start\" x=\"113\" y=\"-576.8\" font-family=\"Times New Roman,serif\" font-style=\"italic\" font-size=\"14.00\">int</text>\n",
       "<text text-anchor=\"start\" x=\"129\" y=\"-576.8\" font-family=\"Times New Roman,serif\" font-size=\"14.00\"> </text>\n",
       "<polygon fill=\"none\" stroke=\"black\" points=\"8,-524 8,-561 204,-561 204,-524 8,-524\"/>\n",
       "<text text-anchor=\"start\" x=\"19\" y=\"-539.8\" font-family=\"Times New Roman,serif\" font-weight=\"bold\" font-size=\"14.00\">Key</text>\n",
       "<text text-anchor=\"start\" x=\"44\" y=\"-539.8\" font-family=\"Times New Roman,serif\" font-size=\"14.00\">  StoreId </text>\n",
       "<text text-anchor=\"start\" x=\"98\" y=\"-539.8\" font-family=\"Times New Roman,serif\" font-style=\"italic\" font-size=\"14.00\">int</text>\n",
       "<text text-anchor=\"start\" x=\"114\" y=\"-539.8\" font-family=\"Times New Roman,serif\" font-size=\"14.00\"> </text>\n",
       "<polygon fill=\"none\" stroke=\"black\" points=\"8,-487 8,-524 204,-524 204,-487 8,-487\"/>\n",
       "<text text-anchor=\"start\" x=\"19\" y=\"-502.8\" font-family=\"Times New Roman,serif\" font-size=\"14.00\">SellingPrice </text>\n",
       "<text text-anchor=\"start\" x=\"89\" y=\"-502.8\" font-family=\"Times New Roman,serif\" font-style=\"italic\" font-size=\"14.00\">double</text>\n",
       "<text text-anchor=\"start\" x=\"129\" y=\"-502.8\" font-family=\"Times New Roman,serif\" font-size=\"14.00\"> </text>\n",
       "<polygon fill=\"none\" stroke=\"black\" points=\"8,-450 8,-487 204,-487 204,-450 8,-450\"/>\n",
       "<text text-anchor=\"start\" x=\"19\" y=\"-465.8\" font-family=\"Times New Roman,serif\" font-size=\"14.00\">Margin </text>\n",
       "<text text-anchor=\"start\" x=\"62\" y=\"-465.8\" font-family=\"Times New Roman,serif\" font-style=\"italic\" font-size=\"14.00\">double</text>\n",
       "<text text-anchor=\"start\" x=\"102\" y=\"-465.8\" font-family=\"Times New Roman,serif\" font-size=\"14.00\"> </text>\n",
       "<polygon fill=\"none\" stroke=\"black\" points=\"8,-413 8,-450 204,-450 204,-413 8,-413\"/>\n",
       "<text text-anchor=\"start\" x=\"19\" y=\"-428.8\" font-family=\"Times New Roman,serif\" font-size=\"14.00\">SellingPrice_x_Margin </text>\n",
       "<text text-anchor=\"start\" x=\"149\" y=\"-428.8\" font-family=\"Times New Roman,serif\" font-style=\"italic\" font-size=\"14.00\">double</text>\n",
       "<text text-anchor=\"start\" x=\"189\" y=\"-428.8\" font-family=\"Times New Roman,serif\" font-size=\"14.00\"> </text>\n",
       "</g>\n",
       "<!-- Products -->\n",
       "<g id=\"node2\" class=\"node\"><title>Products</title>\n",
       "<polygon fill=\"none\" stroke=\"black\" points=\"408.5,-1105 408.5,-1142 561.5,-1142 561.5,-1105 408.5,-1105\"/>\n",
       "<text text-anchor=\"start\" x=\"457.5\" y=\"-1120.8\" font-family=\"Times New Roman,serif\" font-weight=\"bold\" font-size=\"14.00\">Products</text>\n",
       "<polygon fill=\"none\" stroke=\"black\" points=\"408.5,-1068 408.5,-1105 561.5,-1105 561.5,-1068 408.5,-1068\"/>\n",
       "<text text-anchor=\"start\" x=\"419.5\" y=\"-1083.8\" font-family=\"Times New Roman,serif\" font-weight=\"bold\" font-size=\"14.00\">Key</text>\n",
       "<text text-anchor=\"start\" x=\"444.5\" y=\"-1083.8\" font-family=\"Times New Roman,serif\" font-size=\"14.00\">  ProductId </text>\n",
       "<text text-anchor=\"start\" x=\"513.5\" y=\"-1083.8\" font-family=\"Times New Roman,serif\" font-style=\"italic\" font-size=\"14.00\">int</text>\n",
       "<text text-anchor=\"start\" x=\"529.5\" y=\"-1083.8\" font-family=\"Times New Roman,serif\" font-size=\"14.00\"> </text>\n",
       "<polygon fill=\"none\" stroke=\"black\" points=\"408.5,-1031 408.5,-1068 561.5,-1068 561.5,-1031 408.5,-1031\"/>\n",
       "<text text-anchor=\"start\" x=\"419.5\" y=\"-1046.8\" font-family=\"Times New Roman,serif\" font-size=\"14.00\">EAN </text>\n",
       "<text text-anchor=\"start\" x=\"451.5\" y=\"-1046.8\" font-family=\"Times New Roman,serif\" font-style=\"italic\" font-size=\"14.00\">long</text>\n",
       "<text text-anchor=\"start\" x=\"477.5\" y=\"-1046.8\" font-family=\"Times New Roman,serif\" font-size=\"14.00\"> </text>\n",
       "<polygon fill=\"none\" stroke=\"black\" points=\"408.5,-994 408.5,-1031 561.5,-1031 561.5,-994 408.5,-994\"/>\n",
       "<text text-anchor=\"start\" x=\"419.5\" y=\"-1009.8\" font-family=\"Times New Roman,serif\" font-size=\"14.00\">ProductName </text>\n",
       "<text text-anchor=\"start\" x=\"501.5\" y=\"-1009.8\" font-family=\"Times New Roman,serif\" font-style=\"italic\" font-size=\"14.00\">String</text>\n",
       "<text text-anchor=\"start\" x=\"537.5\" y=\"-1009.8\" font-family=\"Times New Roman,serif\" font-size=\"14.00\"> </text>\n",
       "<polygon fill=\"none\" stroke=\"black\" points=\"408.5,-957 408.5,-994 561.5,-994 561.5,-957 408.5,-957\"/>\n",
       "<text text-anchor=\"start\" x=\"419.5\" y=\"-972.8\" font-family=\"Times New Roman,serif\" font-size=\"14.00\">Brand </text>\n",
       "<text text-anchor=\"start\" x=\"457.5\" y=\"-972.8\" font-family=\"Times New Roman,serif\" font-style=\"italic\" font-size=\"14.00\">String</text>\n",
       "<text text-anchor=\"start\" x=\"493.5\" y=\"-972.8\" font-family=\"Times New Roman,serif\" font-size=\"14.00\"> </text>\n",
       "<polygon fill=\"none\" stroke=\"black\" points=\"408.5,-920 408.5,-957 561.5,-957 561.5,-920 408.5,-920\"/>\n",
       "<text text-anchor=\"start\" x=\"419.5\" y=\"-935.8\" font-family=\"Times New Roman,serif\" font-size=\"14.00\">Size </text>\n",
       "<text text-anchor=\"start\" x=\"447.5\" y=\"-935.8\" font-family=\"Times New Roman,serif\" font-style=\"italic\" font-size=\"14.00\">String</text>\n",
       "<text text-anchor=\"start\" x=\"483.5\" y=\"-935.8\" font-family=\"Times New Roman,serif\" font-size=\"14.00\"> </text>\n",
       "<polygon fill=\"none\" stroke=\"black\" points=\"408.5,-883 408.5,-920 561.5,-920 561.5,-883 408.5,-883\"/>\n",
       "<text text-anchor=\"start\" x=\"419.5\" y=\"-898.8\" font-family=\"Times New Roman,serif\" font-size=\"14.00\">Unit </text>\n",
       "<text text-anchor=\"start\" x=\"447.5\" y=\"-898.8\" font-family=\"Times New Roman,serif\" font-style=\"italic\" font-size=\"14.00\">String</text>\n",
       "<text text-anchor=\"start\" x=\"483.5\" y=\"-898.8\" font-family=\"Times New Roman,serif\" font-size=\"14.00\"> </text>\n",
       "<polygon fill=\"none\" stroke=\"black\" points=\"408.5,-846 408.5,-883 561.5,-883 561.5,-846 408.5,-846\"/>\n",
       "<text text-anchor=\"start\" x=\"419.5\" y=\"-861.8\" font-family=\"Times New Roman,serif\" font-size=\"14.00\">Department </text>\n",
       "<text text-anchor=\"start\" x=\"488.5\" y=\"-861.8\" font-family=\"Times New Roman,serif\" font-style=\"italic\" font-size=\"14.00\">String</text>\n",
       "<text text-anchor=\"start\" x=\"524.5\" y=\"-861.8\" font-family=\"Times New Roman,serif\" font-size=\"14.00\"> </text>\n",
       "<polygon fill=\"none\" stroke=\"black\" points=\"408.5,-809 408.5,-846 561.5,-846 561.5,-809 408.5,-809\"/>\n",
       "<text text-anchor=\"start\" x=\"419.5\" y=\"-824.8\" font-family=\"Times New Roman,serif\" font-size=\"14.00\">SubDepartment </text>\n",
       "<text text-anchor=\"start\" x=\"510.5\" y=\"-824.8\" font-family=\"Times New Roman,serif\" font-style=\"italic\" font-size=\"14.00\">String</text>\n",
       "<text text-anchor=\"start\" x=\"546.5\" y=\"-824.8\" font-family=\"Times New Roman,serif\" font-size=\"14.00\"> </text>\n",
       "<polygon fill=\"none\" stroke=\"black\" points=\"408.5,-772 408.5,-809 561.5,-809 561.5,-772 408.5,-772\"/>\n",
       "<text text-anchor=\"start\" x=\"419.5\" y=\"-787.8\" font-family=\"Times New Roman,serif\" font-size=\"14.00\">Category </text>\n",
       "<text text-anchor=\"start\" x=\"474.5\" y=\"-787.8\" font-family=\"Times New Roman,serif\" font-style=\"italic\" font-size=\"14.00\">String</text>\n",
       "<text text-anchor=\"start\" x=\"510.5\" y=\"-787.8\" font-family=\"Times New Roman,serif\" font-size=\"14.00\"> </text>\n",
       "<polygon fill=\"none\" stroke=\"black\" points=\"408.5,-735 408.5,-772 561.5,-772 561.5,-735 408.5,-735\"/>\n",
       "<text text-anchor=\"start\" x=\"419.5\" y=\"-750.8\" font-family=\"Times New Roman,serif\" font-size=\"14.00\">SubCategory </text>\n",
       "<text text-anchor=\"start\" x=\"497.5\" y=\"-750.8\" font-family=\"Times New Roman,serif\" font-style=\"italic\" font-size=\"14.00\">String</text>\n",
       "<text text-anchor=\"start\" x=\"533.5\" y=\"-750.8\" font-family=\"Times New Roman,serif\" font-size=\"14.00\"> </text>\n",
       "</g>\n",
       "<!-- ProductSales&#45;&gt;Products -->\n",
       "<g id=\"edge3\" class=\"edge\"><title>ProductSales-&gt;Products</title>\n",
       "<path fill=\"none\" stroke=\"black\" d=\"M211.376,-639.05C268.351,-701.85 338.209,-778.852 392.879,-839.112\"/>\n",
       "<polygon fill=\"black\" stroke=\"black\" points=\"390.497,-841.696 399.808,-846.75 395.681,-836.992 390.497,-841.696\"/>\n",
       "<text text-anchor=\"middle\" x=\"298\" y=\"-807.8\" font-family=\"Times New Roman,serif\" font-size=\"14.00\">ProductId → ProductId</text>\n",
       "</g>\n",
       "<!-- Stores -->\n",
       "<g id=\"node3\" class=\"node\"><title>Stores</title>\n",
       "<polygon fill=\"none\" stroke=\"black\" points=\"420.5,-672 420.5,-709 549.5,-709 549.5,-672 420.5,-672\"/>\n",
       "<text text-anchor=\"start\" x=\"465\" y=\"-687.8\" font-family=\"Times New Roman,serif\" font-weight=\"bold\" font-size=\"14.00\">Stores</text>\n",
       "<polygon fill=\"none\" stroke=\"black\" points=\"420.5,-635 420.5,-672 549.5,-672 549.5,-635 420.5,-635\"/>\n",
       "<text text-anchor=\"start\" x=\"431.5\" y=\"-650.8\" font-family=\"Times New Roman,serif\" font-weight=\"bold\" font-size=\"14.00\">Key</text>\n",
       "<text text-anchor=\"start\" x=\"456.5\" y=\"-650.8\" font-family=\"Times New Roman,serif\" font-size=\"14.00\">  StoreId </text>\n",
       "<text text-anchor=\"start\" x=\"510.5\" y=\"-650.8\" font-family=\"Times New Roman,serif\" font-style=\"italic\" font-size=\"14.00\">int</text>\n",
       "<text text-anchor=\"start\" x=\"526.5\" y=\"-650.8\" font-family=\"Times New Roman,serif\" font-size=\"14.00\"> </text>\n",
       "<polygon fill=\"none\" stroke=\"black\" points=\"420.5,-598 420.5,-635 549.5,-635 549.5,-598 420.5,-598\"/>\n",
       "<text text-anchor=\"start\" x=\"431.5\" y=\"-613.8\" font-family=\"Times New Roman,serif\" font-size=\"14.00\">StoreName </text>\n",
       "<text text-anchor=\"start\" x=\"498.5\" y=\"-613.8\" font-family=\"Times New Roman,serif\" font-style=\"italic\" font-size=\"14.00\">String</text>\n",
       "<text text-anchor=\"start\" x=\"534.5\" y=\"-613.8\" font-family=\"Times New Roman,serif\" font-size=\"14.00\"> </text>\n",
       "<polygon fill=\"none\" stroke=\"black\" points=\"420.5,-561 420.5,-598 549.5,-598 549.5,-561 420.5,-561\"/>\n",
       "<text text-anchor=\"start\" x=\"431.5\" y=\"-576.8\" font-family=\"Times New Roman,serif\" font-size=\"14.00\">Adress </text>\n",
       "<text text-anchor=\"start\" x=\"475.5\" y=\"-576.8\" font-family=\"Times New Roman,serif\" font-style=\"italic\" font-size=\"14.00\">String</text>\n",
       "<text text-anchor=\"start\" x=\"511.5\" y=\"-576.8\" font-family=\"Times New Roman,serif\" font-size=\"14.00\"> </text>\n",
       "<polygon fill=\"none\" stroke=\"black\" points=\"420.5,-524 420.5,-561 549.5,-561 549.5,-524 420.5,-524\"/>\n",
       "<text text-anchor=\"start\" x=\"431.5\" y=\"-539.8\" font-family=\"Times New Roman,serif\" font-size=\"14.00\">ZipCode </text>\n",
       "<text text-anchor=\"start\" x=\"485.5\" y=\"-539.8\" font-family=\"Times New Roman,serif\" font-style=\"italic\" font-size=\"14.00\">long</text>\n",
       "<text text-anchor=\"start\" x=\"511.5\" y=\"-539.8\" font-family=\"Times New Roman,serif\" font-size=\"14.00\"> </text>\n",
       "<polygon fill=\"none\" stroke=\"black\" points=\"420.5,-487 420.5,-524 549.5,-524 549.5,-487 420.5,-487\"/>\n",
       "<text text-anchor=\"start\" x=\"431.5\" y=\"-502.8\" font-family=\"Times New Roman,serif\" font-size=\"14.00\">City </text>\n",
       "<text text-anchor=\"start\" x=\"459.5\" y=\"-502.8\" font-family=\"Times New Roman,serif\" font-style=\"italic\" font-size=\"14.00\">String</text>\n",
       "<text text-anchor=\"start\" x=\"495.5\" y=\"-502.8\" font-family=\"Times New Roman,serif\" font-size=\"14.00\"> </text>\n",
       "<polygon fill=\"none\" stroke=\"black\" points=\"420.5,-450 420.5,-487 549.5,-487 549.5,-450 420.5,-450\"/>\n",
       "<text text-anchor=\"start\" x=\"431.5\" y=\"-465.8\" font-family=\"Times New Roman,serif\" font-size=\"14.00\">Country </text>\n",
       "<text text-anchor=\"start\" x=\"481.5\" y=\"-465.8\" font-family=\"Times New Roman,serif\" font-style=\"italic\" font-size=\"14.00\">String</text>\n",
       "<text text-anchor=\"start\" x=\"517.5\" y=\"-465.8\" font-family=\"Times New Roman,serif\" font-size=\"14.00\"> </text>\n",
       "<polygon fill=\"none\" stroke=\"black\" points=\"420.5,-413 420.5,-450 549.5,-450 549.5,-413 420.5,-413\"/>\n",
       "<text text-anchor=\"start\" x=\"431.5\" y=\"-428.8\" font-family=\"Times New Roman,serif\" font-size=\"14.00\">Latitude </text>\n",
       "<text text-anchor=\"start\" x=\"480.5\" y=\"-428.8\" font-family=\"Times New Roman,serif\" font-style=\"italic\" font-size=\"14.00\">double</text>\n",
       "<text text-anchor=\"start\" x=\"520.5\" y=\"-428.8\" font-family=\"Times New Roman,serif\" font-size=\"14.00\"> </text>\n",
       "<polygon fill=\"none\" stroke=\"black\" points=\"420.5,-376 420.5,-413 549.5,-413 549.5,-376 420.5,-376\"/>\n",
       "<text text-anchor=\"start\" x=\"431.5\" y=\"-391.8\" font-family=\"Times New Roman,serif\" font-size=\"14.00\">Longitude </text>\n",
       "<text text-anchor=\"start\" x=\"492.5\" y=\"-391.8\" font-family=\"Times New Roman,serif\" font-style=\"italic\" font-size=\"14.00\">double</text>\n",
       "<text text-anchor=\"start\" x=\"532.5\" y=\"-391.8\" font-family=\"Times New Roman,serif\" font-size=\"14.00\"> </text>\n",
       "<polygon fill=\"none\" stroke=\"black\" points=\"420.5,-339 420.5,-376 549.5,-376 549.5,-339 420.5,-339\"/>\n",
       "<text text-anchor=\"start\" x=\"431.5\" y=\"-354.8\" font-family=\"Times New Roman,serif\" font-size=\"14.00\">Company </text>\n",
       "<text text-anchor=\"start\" x=\"490.5\" y=\"-354.8\" font-family=\"Times New Roman,serif\" font-style=\"italic\" font-size=\"14.00\">String</text>\n",
       "<text text-anchor=\"start\" x=\"526.5\" y=\"-354.8\" font-family=\"Times New Roman,serif\" font-size=\"14.00\"> </text>\n",
       "</g>\n",
       "<!-- ProductSales&#45;&gt;Stores -->\n",
       "<g id=\"edge2\" class=\"edge\"><title>ProductSales-&gt;Stores</title>\n",
       "<path fill=\"none\" stroke=\"black\" d=\"M212.126,-524C272.035,-524 345.998,-524 401.569,-524\"/>\n",
       "<polygon fill=\"black\" stroke=\"black\" points=\"401.724,-527.5 411.724,-524 401.724,-520.5 401.724,-527.5\"/>\n",
       "<text text-anchor=\"middle\" x=\"298\" y=\"-527.8\" font-family=\"Times New Roman,serif\" font-size=\"14.00\">StoreId → StoreId</text>\n",
       "</g>\n",
       "<!-- CompetitorPrices -->\n",
       "<g id=\"node4\" class=\"node\"><title>CompetitorPrices</title>\n",
       "<polygon fill=\"none\" stroke=\"black\" points=\"392.5,-275 392.5,-312 577.5,-312 577.5,-275 392.5,-275\"/>\n",
       "<text text-anchor=\"start\" x=\"430.5\" y=\"-290.8\" font-family=\"Times New Roman,serif\" font-weight=\"bold\" font-size=\"14.00\">CompetitorPrices</text>\n",
       "<polygon fill=\"none\" stroke=\"black\" points=\"392.5,-238 392.5,-275 577.5,-275 577.5,-238 392.5,-238\"/>\n",
       "<text text-anchor=\"start\" x=\"403.5\" y=\"-253.8\" font-family=\"Times New Roman,serif\" font-weight=\"bold\" font-size=\"14.00\">Key</text>\n",
       "<text text-anchor=\"start\" x=\"428.5\" y=\"-253.8\" font-family=\"Times New Roman,serif\" font-size=\"14.00\">  ProductId </text>\n",
       "<text text-anchor=\"start\" x=\"497.5\" y=\"-253.8\" font-family=\"Times New Roman,serif\" font-style=\"italic\" font-size=\"14.00\">int</text>\n",
       "<text text-anchor=\"start\" x=\"513.5\" y=\"-253.8\" font-family=\"Times New Roman,serif\" font-size=\"14.00\"> </text>\n",
       "<polygon fill=\"none\" stroke=\"black\" points=\"392.5,-201 392.5,-238 577.5,-238 577.5,-201 392.5,-201\"/>\n",
       "<text text-anchor=\"start\" x=\"403.5\" y=\"-216.8\" font-family=\"Times New Roman,serif\" font-weight=\"bold\" font-size=\"14.00\">Key</text>\n",
       "<text text-anchor=\"start\" x=\"428.5\" y=\"-216.8\" font-family=\"Times New Roman,serif\" font-size=\"14.00\">  CompetitorStoreId </text>\n",
       "<text text-anchor=\"start\" x=\"546.5\" y=\"-216.8\" font-family=\"Times New Roman,serif\" font-style=\"italic\" font-size=\"14.00\">int</text>\n",
       "<text text-anchor=\"start\" x=\"562.5\" y=\"-216.8\" font-family=\"Times New Roman,serif\" font-size=\"14.00\"> </text>\n",
       "<polygon fill=\"none\" stroke=\"black\" points=\"392.5,-164 392.5,-201 577.5,-201 577.5,-164 392.5,-164\"/>\n",
       "<text text-anchor=\"start\" x=\"403.5\" y=\"-179.8\" font-family=\"Times New Roman,serif\" font-weight=\"bold\" font-size=\"14.00\">Key</text>\n",
       "<text text-anchor=\"start\" x=\"428.5\" y=\"-179.8\" font-family=\"Times New Roman,serif\" font-size=\"14.00\">  StoreId </text>\n",
       "<text text-anchor=\"start\" x=\"482.5\" y=\"-179.8\" font-family=\"Times New Roman,serif\" font-style=\"italic\" font-size=\"14.00\">int</text>\n",
       "<text text-anchor=\"start\" x=\"498.5\" y=\"-179.8\" font-family=\"Times New Roman,serif\" font-size=\"14.00\"> </text>\n",
       "<polygon fill=\"none\" stroke=\"black\" points=\"392.5,-127 392.5,-164 577.5,-164 577.5,-127 392.5,-127\"/>\n",
       "<text text-anchor=\"start\" x=\"403.5\" y=\"-142.8\" font-family=\"Times New Roman,serif\" font-size=\"14.00\">CompetitorPrice </text>\n",
       "<text text-anchor=\"start\" x=\"500.5\" y=\"-142.8\" font-family=\"Times New Roman,serif\" font-style=\"italic\" font-size=\"14.00\">double</text>\n",
       "<text text-anchor=\"start\" x=\"540.5\" y=\"-142.8\" font-family=\"Times New Roman,serif\" font-size=\"14.00\"> </text>\n",
       "</g>\n",
       "<!-- ProductSales&#45;&gt;CompetitorPrices -->\n",
       "<g id=\"edge1\" class=\"edge\"><title>ProductSales-&gt;CompetitorPrices</title>\n",
       "<path fill=\"none\" stroke=\"black\" stroke-dasharray=\"5,2\" d=\"M212.126,-439.117C263.241,-397.845 324.586,-348.313 376.01,-306.791\"/>\n",
       "<polygon fill=\"black\" stroke=\"black\" points=\"378.267,-309.468 383.848,-300.463 373.869,-304.022 378.267,-309.468\"/>\n",
       "<text text-anchor=\"middle\" x=\"298\" y=\"-434.8\" font-family=\"Times New Roman,serif\" font-size=\"14.00\">StoreId → StoreId</text>\n",
       "<text text-anchor=\"middle\" x=\"298\" y=\"-419.8\" font-family=\"Times New Roman,serif\" font-size=\"14.00\">ProductId → ProductId</text>\n",
       "</g>\n",
       "<!-- CompetitorsStores -->\n",
       "<g id=\"node5\" class=\"node\"><title>CompetitorsStores</title>\n",
       "<polygon fill=\"none\" stroke=\"black\" points=\"863,-511 863,-548 1083,-548 1083,-511 863,-511\"/>\n",
       "<text text-anchor=\"start\" x=\"915.5\" y=\"-526.8\" font-family=\"Times New Roman,serif\" font-weight=\"bold\" font-size=\"14.00\">CompetitorsStores</text>\n",
       "<polygon fill=\"none\" stroke=\"black\" points=\"863,-474 863,-511 1083,-511 1083,-474 863,-474\"/>\n",
       "<text text-anchor=\"start\" x=\"874\" y=\"-489.8\" font-family=\"Times New Roman,serif\" font-weight=\"bold\" font-size=\"14.00\">Key</text>\n",
       "<text text-anchor=\"start\" x=\"899\" y=\"-489.8\" font-family=\"Times New Roman,serif\" font-size=\"14.00\">  CompetitorStoreId </text>\n",
       "<text text-anchor=\"start\" x=\"1017\" y=\"-489.8\" font-family=\"Times New Roman,serif\" font-style=\"italic\" font-size=\"14.00\">int</text>\n",
       "<text text-anchor=\"start\" x=\"1033\" y=\"-489.8\" font-family=\"Times New Roman,serif\" font-size=\"14.00\"> </text>\n",
       "<polygon fill=\"none\" stroke=\"black\" points=\"863,-437 863,-474 1083,-474 1083,-437 863,-437\"/>\n",
       "<text text-anchor=\"start\" x=\"874\" y=\"-452.8\" font-family=\"Times New Roman,serif\" font-size=\"14.00\">CompetitorStoreName </text>\n",
       "<text text-anchor=\"start\" x=\"1004\" y=\"-452.8\" font-family=\"Times New Roman,serif\" font-style=\"italic\" font-size=\"14.00\">String</text>\n",
       "<text text-anchor=\"start\" x=\"1040\" y=\"-452.8\" font-family=\"Times New Roman,serif\" font-size=\"14.00\"> </text>\n",
       "<polygon fill=\"none\" stroke=\"black\" points=\"863,-400 863,-437 1083,-437 1083,-400 863,-400\"/>\n",
       "<text text-anchor=\"start\" x=\"874\" y=\"-415.8\" font-family=\"Times New Roman,serif\" font-size=\"14.00\">CompetitorStoreAdress </text>\n",
       "<text text-anchor=\"start\" x=\"1012\" y=\"-415.8\" font-family=\"Times New Roman,serif\" font-style=\"italic\" font-size=\"14.00\">String</text>\n",
       "<text text-anchor=\"start\" x=\"1048\" y=\"-415.8\" font-family=\"Times New Roman,serif\" font-size=\"14.00\"> </text>\n",
       "<polygon fill=\"none\" stroke=\"black\" points=\"863,-363 863,-400 1083,-400 1083,-363 863,-363\"/>\n",
       "<text text-anchor=\"start\" x=\"874\" y=\"-378.8\" font-family=\"Times New Roman,serif\" font-size=\"14.00\">CompetitorStoreZipCode </text>\n",
       "<text text-anchor=\"start\" x=\"1022\" y=\"-378.8\" font-family=\"Times New Roman,serif\" font-style=\"italic\" font-size=\"14.00\">long</text>\n",
       "<text text-anchor=\"start\" x=\"1048\" y=\"-378.8\" font-family=\"Times New Roman,serif\" font-size=\"14.00\"> </text>\n",
       "<polygon fill=\"none\" stroke=\"black\" points=\"863,-326 863,-363 1083,-363 1083,-326 863,-326\"/>\n",
       "<text text-anchor=\"start\" x=\"874\" y=\"-341.8\" font-family=\"Times New Roman,serif\" font-size=\"14.00\">CompetitorStoreCity </text>\n",
       "<text text-anchor=\"start\" x=\"995\" y=\"-341.8\" font-family=\"Times New Roman,serif\" font-style=\"italic\" font-size=\"14.00\">String</text>\n",
       "<text text-anchor=\"start\" x=\"1031\" y=\"-341.8\" font-family=\"Times New Roman,serif\" font-size=\"14.00\"> </text>\n",
       "<polygon fill=\"none\" stroke=\"black\" points=\"863,-289 863,-326 1083,-326 1083,-289 863,-289\"/>\n",
       "<text text-anchor=\"start\" x=\"874\" y=\"-304.8\" font-family=\"Times New Roman,serif\" font-size=\"14.00\">CompetitorStoreCountry </text>\n",
       "<text text-anchor=\"start\" x=\"1018\" y=\"-304.8\" font-family=\"Times New Roman,serif\" font-style=\"italic\" font-size=\"14.00\">String</text>\n",
       "<text text-anchor=\"start\" x=\"1054\" y=\"-304.8\" font-family=\"Times New Roman,serif\" font-size=\"14.00\"> </text>\n",
       "<polygon fill=\"none\" stroke=\"black\" points=\"863,-252 863,-289 1083,-289 1083,-252 863,-252\"/>\n",
       "<text text-anchor=\"start\" x=\"874\" y=\"-267.8\" font-family=\"Times New Roman,serif\" font-size=\"14.00\">CompetitorStoreLatitude </text>\n",
       "<text text-anchor=\"start\" x=\"1017\" y=\"-267.8\" font-family=\"Times New Roman,serif\" font-style=\"italic\" font-size=\"14.00\">double</text>\n",
       "<text text-anchor=\"start\" x=\"1057\" y=\"-267.8\" font-family=\"Times New Roman,serif\" font-size=\"14.00\"> </text>\n",
       "<polygon fill=\"none\" stroke=\"black\" points=\"863,-215 863,-252 1083,-252 1083,-215 863,-215\"/>\n",
       "<text text-anchor=\"start\" x=\"874\" y=\"-230.8\" font-family=\"Times New Roman,serif\" font-size=\"14.00\">CompetitorStoreLongitude </text>\n",
       "<text text-anchor=\"start\" x=\"1028\" y=\"-230.8\" font-family=\"Times New Roman,serif\" font-style=\"italic\" font-size=\"14.00\">double</text>\n",
       "<text text-anchor=\"start\" x=\"1068\" y=\"-230.8\" font-family=\"Times New Roman,serif\" font-size=\"14.00\"> </text>\n",
       "<polygon fill=\"none\" stroke=\"black\" points=\"863,-178 863,-215 1083,-215 1083,-178 863,-178\"/>\n",
       "<text text-anchor=\"start\" x=\"874\" y=\"-193.8\" font-family=\"Times New Roman,serif\" font-size=\"14.00\">CompetitorStoreCompany </text>\n",
       "<text text-anchor=\"start\" x=\"1027\" y=\"-193.8\" font-family=\"Times New Roman,serif\" font-style=\"italic\" font-size=\"14.00\">String</text>\n",
       "<text text-anchor=\"start\" x=\"1063\" y=\"-193.8\" font-family=\"Times New Roman,serif\" font-size=\"14.00\"> </text>\n",
       "</g>\n",
       "<!-- CompetitorPrices&#45;&gt;CompetitorsStores -->\n",
       "<g id=\"edge5\" class=\"edge\"><title>CompetitorPrices-&gt;CompetitorsStores</title>\n",
       "<path fill=\"none\" stroke=\"black\" d=\"M585.124,-249.283C660.322,-271.387 764.051,-301.876 845.173,-325.721\"/>\n",
       "<polygon fill=\"black\" stroke=\"black\" points=\"844.369,-329.133 854.95,-328.595 846.343,-322.417 844.369,-329.133\"/>\n",
       "<text text-anchor=\"middle\" x=\"720\" y=\"-323.8\" font-family=\"Times New Roman,serif\" font-size=\"14.00\">CompetitorStoreId → CompetitorStoreId</text>\n",
       "</g>\n",
       "<!-- DistanceMatrix -->\n",
       "<g id=\"node6\" class=\"node\"><title>DistanceMatrix</title>\n",
       "<polygon fill=\"none\" stroke=\"black\" points=\"869,-115 869,-152 1078,-152 1078,-115 869,-115\"/>\n",
       "<text text-anchor=\"start\" x=\"925.5\" y=\"-130.8\" font-family=\"Times New Roman,serif\" font-weight=\"bold\" font-size=\"14.00\">DistanceMatrix</text>\n",
       "<polygon fill=\"none\" stroke=\"black\" points=\"869,-78 869,-115 1078,-115 1078,-78 869,-78\"/>\n",
       "<text text-anchor=\"start\" x=\"880\" y=\"-93.8\" font-family=\"Times New Roman,serif\" font-weight=\"bold\" font-size=\"14.00\">Key</text>\n",
       "<text text-anchor=\"start\" x=\"905\" y=\"-93.8\" font-family=\"Times New Roman,serif\" font-size=\"14.00\">  StoreId </text>\n",
       "<text text-anchor=\"start\" x=\"959\" y=\"-93.8\" font-family=\"Times New Roman,serif\" font-style=\"italic\" font-size=\"14.00\">int</text>\n",
       "<text text-anchor=\"start\" x=\"975\" y=\"-93.8\" font-family=\"Times New Roman,serif\" font-size=\"14.00\"> </text>\n",
       "<polygon fill=\"none\" stroke=\"black\" points=\"869,-41 869,-78 1078,-78 1078,-41 869,-41\"/>\n",
       "<text text-anchor=\"start\" x=\"880\" y=\"-56.8\" font-family=\"Times New Roman,serif\" font-weight=\"bold\" font-size=\"14.00\">Key</text>\n",
       "<text text-anchor=\"start\" x=\"905\" y=\"-56.8\" font-family=\"Times New Roman,serif\" font-size=\"14.00\">  CompetitorStoreId </text>\n",
       "<text text-anchor=\"start\" x=\"1023\" y=\"-56.8\" font-family=\"Times New Roman,serif\" font-style=\"italic\" font-size=\"14.00\">int</text>\n",
       "<text text-anchor=\"start\" x=\"1039\" y=\"-56.8\" font-family=\"Times New Roman,serif\" font-size=\"14.00\"> </text>\n",
       "<polygon fill=\"none\" stroke=\"black\" points=\"869,-4 869,-41 1078,-41 1078,-4 869,-4\"/>\n",
       "<text text-anchor=\"start\" x=\"880\" y=\"-19.8\" font-family=\"Times New Roman,serif\" font-size=\"14.00\">Competitor distance KM </text>\n",
       "<text text-anchor=\"start\" x=\"1023\" y=\"-19.8\" font-family=\"Times New Roman,serif\" font-style=\"italic\" font-size=\"14.00\">double</text>\n",
       "<text text-anchor=\"start\" x=\"1063\" y=\"-19.8\" font-family=\"Times New Roman,serif\" font-size=\"14.00\"> </text>\n",
       "</g>\n",
       "<!-- CompetitorPrices&#45;&gt;DistanceMatrix -->\n",
       "<g id=\"edge4\" class=\"edge\"><title>CompetitorPrices-&gt;DistanceMatrix</title>\n",
       "<path fill=\"none\" stroke=\"black\" d=\"M585.124,-190.922C661.925,-168.505 768.486,-137.402 850.329,-113.514\"/>\n",
       "<polygon fill=\"black\" stroke=\"black\" points=\"851.564,-116.799 860.183,-110.637 849.603,-110.079 851.564,-116.799\"/>\n",
       "<text text-anchor=\"middle\" x=\"720\" y=\"-203.8\" font-family=\"Times New Roman,serif\" font-size=\"14.00\">StoreId → StoreId</text>\n",
       "<text text-anchor=\"middle\" x=\"720\" y=\"-188.8\" font-family=\"Times New Roman,serif\" font-size=\"14.00\">CompetitorStoreId → CompetitorStoreId</text>\n",
       "</g>\n",
       "</g>\n",
       "</svg>"
      ],
      "text/plain": [
       "<IPython.core.display.SVG object>"
      ]
     },
     "execution_count": 21,
     "metadata": {},
     "output_type": "execute_result"
    }
   ],
   "source": [
    "price_index_cube.schema"
   ]
  },
  {
   "cell_type": "code",
   "execution_count": 22,
   "metadata": {},
   "outputs": [],
   "source": [
    "h = price_index_cube.hierarchies\n",
    "m = price_index_cube.measures\n",
    "lvl = price_index_cube.levels"
   ]
  },
  {
   "cell_type": "code",
   "execution_count": 23,
   "metadata": {},
   "outputs": [
    {
     "data": {
      "application/json": {
       "Competitor distance KM.VALUE": {
        "formatter": "DOUBLE[#,###.00]",
        "visible": true
       },
       "CompetitorPrice.VALUE": {
        "formatter": "DOUBLE[#,###.00]",
        "visible": true
       },
       "CompetitorStoreLatitude.VALUE": {
        "formatter": "DOUBLE[#,###.00]",
        "visible": true
       },
       "CompetitorStoreLongitude.VALUE": {
        "formatter": "DOUBLE[#,###.00]",
        "visible": true
       },
       "Latitude.VALUE": {
        "formatter": "DOUBLE[#,###.00]",
        "visible": true
       },
       "Longitude.VALUE": {
        "formatter": "DOUBLE[#,###.00]",
        "visible": true
       },
       "Margin.MEAN": {
        "formatter": "DOUBLE[#,###.00]",
        "visible": true
       },
       "Margin.SUM": {
        "formatter": "DOUBLE[#,###.00]",
        "visible": true
       },
       "SellingPrice.MEAN": {
        "formatter": "DOUBLE[#,###.00]",
        "visible": true
       },
       "SellingPrice.SUM": {
        "formatter": "DOUBLE[#,###.00]",
        "visible": true
       },
       "SellingPrice_x_Margin.MEAN": {
        "formatter": "DOUBLE[#,###.00]",
        "visible": true
       },
       "SellingPrice_x_Margin.SUM": {
        "formatter": "DOUBLE[#,###.00]",
        "visible": true
       },
       "contributors.COUNT": {
        "formatter": null,
        "visible": true
       }
      },
      "text/html": [
       "<ul>\n",
       "<li>Measures\n",
       "  <ul>\n",
       "  <li>Competitor distance KM.VALUE\n",
       "    <ul>\n",
       "    <li>formatter: DOUBLE[#,###.00]</li>\n",
       "    <li>visible: True</li>\n",
       "    </ul>\n",
       "  </li>\n",
       "  <li>CompetitorPrice.VALUE\n",
       "    <ul>\n",
       "    <li>formatter: DOUBLE[#,###.00]</li>\n",
       "    <li>visible: True</li>\n",
       "    </ul>\n",
       "  </li>\n",
       "  <li>CompetitorStoreLatitude.VALUE\n",
       "    <ul>\n",
       "    <li>formatter: DOUBLE[#,###.00]</li>\n",
       "    <li>visible: True</li>\n",
       "    </ul>\n",
       "  </li>\n",
       "  <li>CompetitorStoreLongitude.VALUE\n",
       "    <ul>\n",
       "    <li>formatter: DOUBLE[#,###.00]</li>\n",
       "    <li>visible: True</li>\n",
       "    </ul>\n",
       "  </li>\n",
       "  <li>Latitude.VALUE\n",
       "    <ul>\n",
       "    <li>formatter: DOUBLE[#,###.00]</li>\n",
       "    <li>visible: True</li>\n",
       "    </ul>\n",
       "  </li>\n",
       "  <li>Longitude.VALUE\n",
       "    <ul>\n",
       "    <li>formatter: DOUBLE[#,###.00]</li>\n",
       "    <li>visible: True</li>\n",
       "    </ul>\n",
       "  </li>\n",
       "  <li>Margin.MEAN\n",
       "    <ul>\n",
       "    <li>formatter: DOUBLE[#,###.00]</li>\n",
       "    <li>visible: True</li>\n",
       "    </ul>\n",
       "  </li>\n",
       "  <li>Margin.SUM\n",
       "    <ul>\n",
       "    <li>formatter: DOUBLE[#,###.00]</li>\n",
       "    <li>visible: True</li>\n",
       "    </ul>\n",
       "  </li>\n",
       "  <li>SellingPrice.MEAN\n",
       "    <ul>\n",
       "    <li>formatter: DOUBLE[#,###.00]</li>\n",
       "    <li>visible: True</li>\n",
       "    </ul>\n",
       "  </li>\n",
       "  <li>SellingPrice.SUM\n",
       "    <ul>\n",
       "    <li>formatter: DOUBLE[#,###.00]</li>\n",
       "    <li>visible: True</li>\n",
       "    </ul>\n",
       "  </li>\n",
       "  <li>SellingPrice_x_Margin.MEAN\n",
       "    <ul>\n",
       "    <li>formatter: DOUBLE[#,###.00]</li>\n",
       "    <li>visible: True</li>\n",
       "    </ul>\n",
       "  </li>\n",
       "  <li>SellingPrice_x_Margin.SUM\n",
       "    <ul>\n",
       "    <li>formatter: DOUBLE[#,###.00]</li>\n",
       "    <li>visible: True</li>\n",
       "    </ul>\n",
       "  </li>\n",
       "  <li>contributors.COUNT\n",
       "    <ul>\n",
       "    <li>formatter: None</li>\n",
       "    <li>visible: True</li>\n",
       "    </ul>\n",
       "  </li>\n",
       "  </ul>\n",
       "</li>\n",
       "</ul>\n"
      ],
      "text/plain": [
       "Measures()"
      ]
     },
     "execution_count": 23,
     "metadata": {
      "application/json": {
       "expanded": false,
       "root": "Measures"
      }
     },
     "output_type": "execute_result"
    }
   ],
   "source": [
    "m"
   ]
  },
  {
   "cell_type": "markdown",
   "metadata": {},
   "source": [
    "We can see a _SUM_ and _MEAN_ measure is created columns of type double/float for the base store - _ProductSales_.  \\\n",
    "A _VALUE_ measure is created for columns of type double/float in the other referenced stores.  \n",
    "\n",
    "With the cube created, let's start by computing the price index per store."
   ]
  },
  {
   "cell_type": "markdown",
   "metadata": {},
   "source": [
    "### 1. Computing the price index per store\n",
    "\n",
    "There are different existing formulas for the price index but the idea behind is always the same: the price index is a measurement of where a retailer is positioned compared to one or multiple of its competitors.\n",
    "\n",
    "The formula we will use in this example compares a product price to the average price found among the local competitors of a particular store, measuring at which percentage of this average competitors price the product is.\n",
    "\n",
    "We will weight the price index indicator by the margin when aggregating above store and product level. This is so that we can later optimize the price index for products that contribute the most to the margin. Other commonly used formulas weight by sales quantity or revenue.\n",
    "\n",
    "#### Price index formula:\n",
    "\n",
    "# $100 \\times \\frac{\\sum_{s,p \\in (Stores,Products)}\\frac{Selling Price(s,p)}{Average Competitor Price(s,p)} \\times Margin(s,p)}{\\sum_{s,p \\in (Stores,Products)}Margin(s,p)}$  \n",
    "\n",
    "Let's create a measure to get the mean of _CompetitorPrice_ which will be used to derive the price index."
   ]
  },
  {
   "cell_type": "code",
   "execution_count": 24,
   "metadata": {},
   "outputs": [],
   "source": [
    "m[\"CompetitorPrice.MEAN\"] = tt.agg.mean(competitorPrices[\"CompetitorPrice\"])"
   ]
  },
  {
   "cell_type": "markdown",
   "metadata": {},
   "source": [
    "We see how the weight price index indicator can be achieved in the next few cells.  \n",
    "Realize how we are setting the scope on _ProductId_ and _StoreId_? This will ensure the summation of the various measures at the _Store_ and _Product_ level as required by the formula.\n",
    "\n",
    "# ${\\sum_{s,p \\in (Stores,Products)}\\frac{Selling Price(s,p)}{Average Competitor Price(s,p)} \\times Margin(s,p)}$"
   ]
  },
  {
   "cell_type": "code",
   "execution_count": 25,
   "metadata": {},
   "outputs": [],
   "source": [
    "price_index_numerator = tt.agg.sum(\n",
    "    m[\"SellingPrice_x_Margin.SUM\"] / m[\"CompetitorPrice.MEAN\"],\n",
    "    scope=tt.scope.origin(lvl[\"ProductId\"], lvl[\"StoreId\"]),\n",
    ")"
   ]
  },
  {
   "cell_type": "markdown",
   "metadata": {},
   "source": [
    "Finally, we calculate the contribution of the product towards the total margin."
   ]
  },
  {
   "cell_type": "code",
   "execution_count": 26,
   "metadata": {},
   "outputs": [],
   "source": [
    "m[\"Price Index\"] = price_index_numerator / m[\"Margin.SUM\"]"
   ]
  },
  {
   "cell_type": "markdown",
   "metadata": {},
   "source": [
    "We can now have the price index per store and product.  \n",
    "As we are currently in sampling mode, let's trigger full data load to do some visualizations."
   ]
  },
  {
   "cell_type": "code",
   "execution_count": 27,
   "metadata": {},
   "outputs": [],
   "source": [
    "session.load_all_data()"
   ]
  },
  {
   "cell_type": "markdown",
   "metadata": {},
   "source": [
    "Let's visualize the price index per store."
   ]
  },
  {
   "cell_type": "code",
   "execution_count": 29,
   "metadata": {
    "atoti": {
     "state": {
      "name": "",
      "type": "container",
      "value": {
       "body": {
        "configuration": {
         "tabular": {
          "addButtonFilter": "numeric",
          "cellRenderers": [
           "tree-layout"
          ],
          "columns": [
           {
            "key": "[Measures].[CompetitorPrice.MEAN]",
            "width": 150
           },
           {
            "key": "[Measures].[CompetitorPrice.MEAN (1)]",
            "width": 145
           }
          ],
          "columnsGroups": [
           {
            "captionProducer": "firstColumn",
            "cellFactory": "kpi-status",
            "selector": "kpi-status"
           },
           {
            "captionProducer": "firstColumn",
            "cellFactory": "lookup",
            "selector": "lookup"
           },
           {
            "captionProducer": "expiry",
            "cellFactory": "expiry",
            "selector": "kpi-expiry"
           },
           {
            "captionProducer": "columnMerge",
            "cellFactory": {
             "args": {},
             "key": "treeCells"
            },
            "selector": "member"
           }
          ],
          "defaultOptions": {},
          "expansion": {
           "automaticExpansion": true
          },
          "hideAddButton": true,
          "pinnedHeaderSelector": "member",
          "sortingMode": "non-breaking",
          "statisticsShown": true
         }
        },
        "contextValues": {},
        "mdx": "SELECT NON EMPTY Hierarchize(Crossjoin(Hierarchize(DrilldownLevel([Hierarchies].[StoreId].[ALL].[AllMember])), Hierarchize(DrilldownLevel([Hierarchies].[StoreName].[ALL].[AllMember])))) ON ROWS, NON EMPTY {[Measures].[Price Index]} ON COLUMNS FROM [PriceIndexCube] CELL PROPERTIES BACK_COLOR, FONT_FLAGS, FORE_COLOR, FORMATTED_VALUE, VALUE",
        "ranges": {
         "column": {
          "chunkSize": 50,
          "thresholdPercentage": 0.2
         },
         "row": {
          "chunkSize": 2000,
          "thresholdPercentage": 0.1
         }
        },
        "serverUrl": "",
        "updateMode": "once"
       },
       "containerKey": "pivot-table",
       "showTitleBar": false,
       "style": {}
      }
     }
    }
   },
   "outputs": [
    {
     "data": {
      "application/vnd.atoti.v0+json": {
       "cube": "PriceIndexCube",
       "name": null,
       "session": "Unnamed"
      },
      "text/plain": [
       "Install and enable the atoti JupyterLab extension to see this widget."
      ]
     },
     "metadata": {},
     "output_type": "display_data"
    }
   ],
   "source": [
    "price_index_cube.visualize()"
   ]
  },
  {
   "cell_type": "markdown",
   "metadata": {},
   "source": [
    "### 2. Computing number of Competitors per Distance Bucket  \n",
    "\n",
    "There are many ways to do compute the number of competitors per distance buckets. However, we are going to showcase how we can make use of the [`single_value`](https://docs.atoti.io/0.4.1/lib/atoti.html?highlight=single_value#atoti.agg.single_value) function and simulations to create the distance buckets.  \n",
    "\n",
    "`single_value` returns a measure equal to the single value aggregation of the passed measure across the specified scope.  \n",
    "\n",
    "The _DistanceMatrix_ store is linked to the _CompetitorsPrice_ store. As such, we need to ensure that we are looking at the same distance radius across all the products.  \n",
    "`single_value` expects a measure input. So let's create a measure of static value 1 as input for `m[\"Threshold\"]` (the maximum radius for the area we are going to look at).  \n",
    "Similarly, we use `single_value` for `m[\"Distance]` to ensure that we do not sum up the competitor's distance across the products. "
   ]
  },
  {
   "cell_type": "code",
   "execution_count": 29,
   "metadata": {},
   "outputs": [],
   "source": [
    "m[\"1\"] = 1\n",
    "m[\"Threshold\"] = tt.agg.single_value(m[\"1\"], scope=tt.scope.origin(lvl[\"ProductId\"]))\n",
    "\n",
    "m[\"Distance\"] = tt.agg.single_value(\n",
    "    m[\"Competitor distance KM.VALUE\"], scope=tt.scope.origin(lvl[\"ProductId\"])\n",
    ")"
   ]
  },
  {
   "cell_type": "markdown",
   "metadata": {},
   "source": [
    "Due to the join to the _CompetitorsPrice_ store, the `m[\"Contributor.COUNT]` returned is based on the products.\n",
    "We want to obtain the number of distinct competitors' stores that sell the same products as us, not the number of products.  "
   ]
  },
  {
   "cell_type": "code",
   "execution_count": 30,
   "metadata": {},
   "outputs": [],
   "source": [
    "m[\"Nr Competitors\"] = tt.agg.single_value(\n",
    "    tt.agg.count_distinct(competitorPrices[\"CompetitorStoreId\"]),\n",
    "    scope=tt.scope.origin(lvl[\"ProductId\"]),\n",
    ")"
   ]
  },
  {
   "cell_type": "markdown",
   "metadata": {},
   "source": [
    "We can now use the `where` condition to return the number of competitors who within our threshold radius."
   ]
  },
  {
   "cell_type": "code",
   "execution_count": 31,
   "metadata": {},
   "outputs": [],
   "source": [
    "m[\"Distance<Thresh\"] = tt.agg.single_value(\n",
    "    tt.where(m[\"Distance\"] < m[\"Threshold\"], m[\"Nr Competitors\"], 0),\n",
    "    scope=tt.scope.origin(lvl[\"ProductId\"]),\n",
    ")\n",
    "m[\"Competitors<Thresh\"] = tt.agg.sum(\n",
    "    m[\"Distance<Thresh\"], scope=tt.scope.origin(lvl[\"CompetitorStoreId\"])\n",
    ")"
   ]
  },
  {
   "cell_type": "markdown",
   "metadata": {},
   "source": [
    "Naturally we can quickly use Pandas to derive the same value. However, when we use this one time setup together with simulations, we have the below benefits:\n",
    "- easily add / delete the distance buckets\n",
    "- ability to drill down on the data for each distance range to perform further analysis\n",
    "\n",
    "#### Setting up simulation for distance buckets\n",
    "We setup a simulation where we can replace the threshold value in order to be able to create scenarios for other ranges of distance.  \n",
    "We name this base scenario \"1 KM\"."
   ]
  },
  {
   "cell_type": "code",
   "execution_count": 32,
   "metadata": {},
   "outputs": [],
   "source": [
    "simulation = price_index_cube.setup_simulation(\n",
    "    \"Distance Simulation\", base_scenario=\"1 KM\", replace=[m[\"Threshold\"]]\n",
    ")"
   ]
  },
  {
   "cell_type": "markdown",
   "metadata": {},
   "source": [
    "We can now easily obtain the number of competitors per area simply by creating a scenario for each distance radius.  \n",
    "Let's start with the nearby competitors."
   ]
  },
  {
   "cell_type": "code",
   "execution_count": 33,
   "metadata": {},
   "outputs": [],
   "source": [
    "simulation.scenarios[\"5 KM\"] = 5\n",
    "simulation.scenarios[\"10 KM\"] = 10"
   ]
  },
  {
   "cell_type": "markdown",
   "metadata": {},
   "source": [
    "Let's do a quick data-viz to see how the number of competitors varies by the distance."
   ]
  },
  {
   "cell_type": "code",
   "execution_count": 35,
   "metadata": {
    "atoti": {
     "height": 468,
     "state": {
      "name": "Nr of competitors stacked by distance bucket",
      "type": "container",
      "value": {
       "body": {
        "configuration": {
         "mapping": {
          "horizontalSubplots": [],
          "stackBy": [
           "[Measure Simulations].[Distance Simulation].[Distance Simulation]"
          ],
          "values": [
           "[Measures].[Competitors<Thresh]"
          ],
          "verticalSubplots": [],
          "xAxis": [
           "[Hierarchies].[StoreName].[StoreName]",
           "[Hierarchies].[StoreId].[StoreId]"
          ]
         },
         "plotly": {
          "layout": {
           "xaxis": {
            "tickangle": "-45"
           },
           "yaxis": {
            "title": "Number of Competitors"
           }
          }
         },
         "type": "plotly-stacked-column-chart"
        },
        "query": {
         "mdx": "WITH  Member [Measures].[[Hierarchies]].[StoreId]].[StoreId]]_for_order] AS [Hierarchies].[StoreId].CurrentMember.MEMBER_VALUE  SELECT NON EMPTY Order(Crossjoin([Hierarchies].[StoreName].[StoreName].Members, [Measure Simulations].[Distance Simulation].[Distance Simulation].Members, [Hierarchies].[StoreId].[StoreId].Members), [Measures].[[Hierarchies]].[StoreId]].[StoreId]]_for_order], BASC) ON ROWS, NON EMPTY [Measures].[Competitors<Thresh] ON COLUMNS FROM [PriceIndexCube] CELL PROPERTIES BACK_COLOR, FONT_FLAGS, FORE_COLOR, FORMATTED_VALUE, VALUE",
         "serverUrl": "",
         "updateMode": "once"
        }
       },
       "containerKey": "chart",
       "showTitleBar": false,
       "style": {}
      }
     }
    }
   },
   "outputs": [
    {
     "data": {
      "application/vnd.atoti.v0+json": {
       "cube": "PriceIndexCube",
       "name": "Nr of competitors stacked by distance bucket",
       "session": "Unnamed"
      },
      "text/plain": [
       "Install and enable the atoti JupyterLab extension to see this widget."
      ]
     },
     "metadata": {},
     "output_type": "display_data"
    }
   ],
   "source": [
    "price_index_cube.visualize(\"Nr of competitors stacked by distance bucket\")"
   ]
  },
  {
   "cell_type": "markdown",
   "metadata": {},
   "source": [
    "How do we systematically make use of this information?  \n",
    "We can use a machine algorithm such as k-means to make clusters with the features (1 KM, 5KM, 10KM, Price Index) that we can obtain from the cube."
   ]
  },
  {
   "cell_type": "markdown",
   "metadata": {},
   "source": [
    "### Outputting data for machine learning\n",
    "\n",
    "We create a function queries the price index and the number of competitors per area for each store.   \n",
    "It will return the dataset required for the machine learning."
   ]
  },
  {
   "cell_type": "code",
   "execution_count": 36,
   "metadata": {},
   "outputs": [],
   "source": [
    "def get_features():\n",
    "    # output dataframe for competitors count per area from cube querying\n",
    "    stores_competitors_count_per_area = price_index_cube.query(\n",
    "        m[\"Competitors<Thresh\"], levels=[lvl[\"StoreId\"], lvl[\"Distance Simulation\"]],\n",
    "    ).reset_index()\n",
    "\n",
    "    # pivot the table such that each scenario becomes a column\n",
    "    stores_competitors_count_per_area = stores_competitors_count_per_area.pivot(\n",
    "        index=\"StoreId\", columns=\"Distance Simulation\", values=\"Competitors<Thresh\"\n",
    "    )\n",
    "\n",
    "    # output dataframe for price index by store from cube querying\n",
    "    price_index_per_store = price_index_cube.query(\n",
    "        m[\"Price Index\"], levels=[lvl[\"StoreId\"]]\n",
    "    ).reset_index()\n",
    "\n",
    "    # merge the 2 dataframe and return the output\n",
    "    stores_features = pd.merge(\n",
    "        stores_competitors_count_per_area,\n",
    "        price_index_per_store,\n",
    "        left_on=\"StoreId\",\n",
    "        right_on=\"StoreId\",\n",
    "        how=\"left\",\n",
    "    ).set_index(\"StoreId\")\n",
    "\n",
    "    return stores_features"
   ]
  },
  {
   "cell_type": "code",
   "execution_count": 37,
   "metadata": {},
   "outputs": [
    {
     "data": {
      "text/html": [
       "<div>\n",
       "<style scoped>\n",
       "    .dataframe tbody tr th:only-of-type {\n",
       "        vertical-align: middle;\n",
       "    }\n",
       "\n",
       "    .dataframe tbody tr th {\n",
       "        vertical-align: top;\n",
       "    }\n",
       "\n",
       "    .dataframe thead th {\n",
       "        text-align: right;\n",
       "    }\n",
       "</style>\n",
       "<table border=\"1\" class=\"dataframe\">\n",
       "  <thead>\n",
       "    <tr style=\"text-align: right;\">\n",
       "      <th></th>\n",
       "      <th>1 KM</th>\n",
       "      <th>10 KM</th>\n",
       "      <th>5 KM</th>\n",
       "      <th>Price Index</th>\n",
       "    </tr>\n",
       "    <tr>\n",
       "      <th>StoreId</th>\n",
       "      <th></th>\n",
       "      <th></th>\n",
       "      <th></th>\n",
       "      <th></th>\n",
       "    </tr>\n",
       "  </thead>\n",
       "  <tbody>\n",
       "    <tr>\n",
       "      <th>1</th>\n",
       "      <td>11</td>\n",
       "      <td>66</td>\n",
       "      <td>51</td>\n",
       "      <td>0.986389</td>\n",
       "    </tr>\n",
       "    <tr>\n",
       "      <th>2</th>\n",
       "      <td>5</td>\n",
       "      <td>61</td>\n",
       "      <td>46</td>\n",
       "      <td>1.043176</td>\n",
       "    </tr>\n",
       "    <tr>\n",
       "      <th>3</th>\n",
       "      <td>5</td>\n",
       "      <td>71</td>\n",
       "      <td>36</td>\n",
       "      <td>0.960006</td>\n",
       "    </tr>\n",
       "    <tr>\n",
       "      <th>4</th>\n",
       "      <td>5</td>\n",
       "      <td>61</td>\n",
       "      <td>31</td>\n",
       "      <td>0.969073</td>\n",
       "    </tr>\n",
       "    <tr>\n",
       "      <th>5</th>\n",
       "      <td>5</td>\n",
       "      <td>56</td>\n",
       "      <td>36</td>\n",
       "      <td>1.030924</td>\n",
       "    </tr>\n",
       "  </tbody>\n",
       "</table>\n",
       "</div>"
      ],
      "text/plain": [
       "         1 KM  10 KM  5 KM  Price Index\n",
       "StoreId                                \n",
       "1          11     66    51     0.986389\n",
       "2           5     61    46     1.043176\n",
       "3           5     71    36     0.960006\n",
       "4           5     61    31     0.969073\n",
       "5           5     56    36     1.030924"
      ]
     },
     "execution_count": 37,
     "metadata": {},
     "output_type": "execute_result"
    }
   ],
   "source": [
    "stores_features = get_features()\n",
    "stores_features.head()"
   ]
  },
  {
   "cell_type": "markdown",
   "metadata": {},
   "source": [
    "## ML - Stores clustering using price index and competitors number features\n",
    "\n",
    "In this part we will use the previously calculated features (nr of competitor stores and price index) to generate 5 clusters of stores.  \n",
    "We will now use those clusters to generate new prices and assess whether we have managed to improve our pricing."
   ]
  },
  {
   "cell_type": "code",
   "execution_count": 38,
   "metadata": {},
   "outputs": [],
   "source": [
    "%matplotlib inline\n",
    "import matplotlib.pyplot as plt\n",
    "import numpy as np\n",
    "import pandas as pd\n",
    "import scipy as sc\n",
    "import seaborn as sns\n",
    "from sklearn.cluster import KMeans, MiniBatchKMeans\n",
    "from sklearn.metrics import pairwise_distances_argmin\n",
    "\n",
    "sns.set()  # for plot styling"
   ]
  },
  {
   "cell_type": "markdown",
   "metadata": {},
   "source": [
    "We create an function to run the machine learning algorithm."
   ]
  },
  {
   "cell_type": "code",
   "execution_count": 39,
   "metadata": {},
   "outputs": [],
   "source": [
    "def run_algorithm(number_of_clusters, features_df):\n",
    "    kmeans = MiniBatchKMeans(number_of_clusters)\n",
    "    kmeans.fit(features_df)\n",
    "    new_colors = kmeans.cluster_centers_[kmeans.predict(features_df)]\n",
    "    k_means_labels = pairwise_distances_argmin(features_df, kmeans.cluster_centers_)\n",
    "    labels = KMeans(number_of_clusters, random_state=0).fit_predict(features_df)\n",
    "\n",
    "    return k_means_labels, labels"
   ]
  },
  {
   "cell_type": "markdown",
   "metadata": {},
   "source": [
    "Let's set the number of clusters needed as 5. The number of clusters can increase if the number of outlets is huge.  \n",
    "We pass in the _stores_features_ dataframe obtained from the cube to get the clustering details."
   ]
  },
  {
   "cell_type": "code",
   "execution_count": 40,
   "metadata": {},
   "outputs": [],
   "source": [
    "k_means_labels_1, labels_1 = run_algorithm(\n",
    "    number_of_clusters=5, features_df=stores_features\n",
    ")"
   ]
  },
  {
   "cell_type": "markdown",
   "metadata": {},
   "source": [
    "Using competitors within 1km as an example, we can now analyze the result of the clustering by pair of features using matplotlib as shown below:"
   ]
  },
  {
   "cell_type": "code",
   "execution_count": 41,
   "metadata": {},
   "outputs": [
    {
     "data": {
      "text/plain": [
       "Text(0, 0.5, 'Price Index')"
      ]
     },
     "execution_count": 41,
     "metadata": {},
     "output_type": "execute_result"
    },
    {
     "data": {
      "image/png": "[encoded data removed]",
      "text/plain": [
       "<Figure size 432x288 with 1 Axes>"
      ]
     },
     "metadata": {},
     "output_type": "display_data"
    }
   ],
   "source": [
    "plt.scatter(\n",
    "    stores_features.loc[:, \"1 KM\"],\n",
    "    stores_features.loc[:, \"Price Index\"],\n",
    "    c=k_means_labels_1,\n",
    "    s=50,\n",
    "    cmap=\"viridis\",\n",
    ")\n",
    "\n",
    "plt.xlabel(\"Nr Competitors within 1km\")\n",
    "plt.ylabel(\"Price Index\")"
   ]
  },
  {
   "cell_type": "markdown",
   "metadata": {},
   "source": [
    "In the above plot, each color represents a cluster. We can see that clusters seem to be strongly based on the number of competitors rather than on the price index.  \n",
    "However, to avoid having to plot every couple of features and understand more quickly what our clusters are, we will use seaborn to have a plot of the clustering result for every pair of features."
   ]
  },
  {
   "cell_type": "code",
   "execution_count": 42,
   "metadata": {},
   "outputs": [
    {
     "data": {
      "text/html": [
       "<div>\n",
       "<style scoped>\n",
       "    .dataframe tbody tr th:only-of-type {\n",
       "        vertical-align: middle;\n",
       "    }\n",
       "\n",
       "    .dataframe tbody tr th {\n",
       "        vertical-align: top;\n",
       "    }\n",
       "\n",
       "    .dataframe thead th {\n",
       "        text-align: right;\n",
       "    }\n",
       "</style>\n",
       "<table border=\"1\" class=\"dataframe\">\n",
       "  <thead>\n",
       "    <tr style=\"text-align: right;\">\n",
       "      <th></th>\n",
       "      <th>1 KM</th>\n",
       "      <th>10 KM</th>\n",
       "      <th>5 KM</th>\n",
       "      <th>Price Index</th>\n",
       "      <th>Cluster</th>\n",
       "    </tr>\n",
       "    <tr>\n",
       "      <th>StoreId</th>\n",
       "      <th></th>\n",
       "      <th></th>\n",
       "      <th></th>\n",
       "      <th></th>\n",
       "      <th></th>\n",
       "    </tr>\n",
       "  </thead>\n",
       "  <tbody>\n",
       "    <tr>\n",
       "      <th>1</th>\n",
       "      <td>11</td>\n",
       "      <td>66</td>\n",
       "      <td>51</td>\n",
       "      <td>0.986389</td>\n",
       "      <td>1</td>\n",
       "    </tr>\n",
       "    <tr>\n",
       "      <th>2</th>\n",
       "      <td>5</td>\n",
       "      <td>61</td>\n",
       "      <td>46</td>\n",
       "      <td>1.043176</td>\n",
       "      <td>1</td>\n",
       "    </tr>\n",
       "    <tr>\n",
       "      <th>3</th>\n",
       "      <td>5</td>\n",
       "      <td>71</td>\n",
       "      <td>36</td>\n",
       "      <td>0.960006</td>\n",
       "      <td>3</td>\n",
       "    </tr>\n",
       "    <tr>\n",
       "      <th>4</th>\n",
       "      <td>5</td>\n",
       "      <td>61</td>\n",
       "      <td>31</td>\n",
       "      <td>0.969073</td>\n",
       "      <td>3</td>\n",
       "    </tr>\n",
       "    <tr>\n",
       "      <th>5</th>\n",
       "      <td>5</td>\n",
       "      <td>56</td>\n",
       "      <td>36</td>\n",
       "      <td>1.030924</td>\n",
       "      <td>3</td>\n",
       "    </tr>\n",
       "  </tbody>\n",
       "</table>\n",
       "</div>"
      ],
      "text/plain": [
       "         1 KM  10 KM  5 KM  Price Index  Cluster\n",
       "StoreId                                         \n",
       "1          11     66    51     0.986389        1\n",
       "2           5     61    46     1.043176        1\n",
       "3           5     71    36     0.960006        3\n",
       "4           5     61    31     0.969073        3\n",
       "5           5     56    36     1.030924        3"
      ]
     },
     "execution_count": 42,
     "metadata": {},
     "output_type": "execute_result"
    }
   ],
   "source": [
    "stores_features[\"Cluster\"] = labels_1\n",
    "stores_features.head(5)"
   ]
  },
  {
   "cell_type": "code",
   "execution_count": 43,
   "metadata": {},
   "outputs": [
    {
     "data": {
      "text/plain": [
       "<seaborn.axisgrid.PairGrid at 0x182a61dad90>"
      ]
     },
     "execution_count": 43,
     "metadata": {},
     "output_type": "execute_result"
    },
    {
     "data": {
      "image/png": "[encoded data removed]",
      "text/plain": [
       "<Figure size 766.925x720 with 20 Axes>"
      ]
     },
     "metadata": {},
     "output_type": "display_data"
    }
   ],
   "source": [
    "sns.pairplot(data=stores_features, hue=\"Cluster\")"
   ]
  },
  {
   "cell_type": "markdown",
   "metadata": {},
   "source": [
    "We can have a better understanding of the clusters with the chart above.  \n",
    "For example majority of the stores below to cluster 0, having less than 5 competitors within 1km radius. This cluster generally has index pricing around 1.\n",
    "\n",
    "Continuing this analysis tells us that:\n",
    "- Cluster 0 has a even spread of price index around 1.0 and generally has few competitors in the neighbourhood.\n",
    "- Cluster 1 is skewed towards a higher price index and has more competitors that are located further away.\n",
    "- Cluster 2 is a small cluster that as few competitors nearby but number of competitors located within 10km increases tremendously.\n",
    "- Cluster 3 is a small cluster that has a lower price index and has more competitors that are within 10km radius.\n",
    "- Cluster 4 generally has little competitors around but the price index is also much lower."
   ]
  },
  {
   "cell_type": "markdown",
   "metadata": {},
   "source": [
    "## Pricing simulations around clusters\n",
    "We will now generate new prices using the previous clusters in order to take into account the different competitiveness constraints of the stores.  "
   ]
  },
  {
   "cell_type": "code",
   "execution_count": 44,
   "metadata": {},
   "outputs": [],
   "source": [
    "from utils import pricer"
   ]
  },
  {
   "cell_type": "markdown",
   "metadata": {},
   "source": [
    "Using the clusters generated, the below pricing method tries to reduce the prices if the competitiveness is strong, and on the contrary increase it if there is few competition.  \n",
    "For instance, cluster 0 and cluster 4 has little competition, hence their price index could be slightly higher than 1.  \n",
    "The rest of the clusters have more competitors within 10km radius, hence could have their price index at 1 or slightly lower to maintain their competitivity.  "
   ]
  },
  {
   "cell_type": "code",
   "execution_count": 45,
   "metadata": {},
   "outputs": [],
   "source": [
    "selling_prices_based_on_clusters = pricer.optimize_prices(\n",
    "    product_sales_df, stores_features\n",
    ")"
   ]
  },
  {
   "cell_type": "markdown",
   "metadata": {},
   "source": [
    "Thanks to atoti built-in simulations capabilities, we can easily create a new scenario for the new pricing by directly loading the price-optimised dataframe.  \n",
    "All the previously defined KPIs, e.g. the price index, will be re-computed on the fly, enabling us to compare the scenarios and their benefits."
   ]
  },
  {
   "cell_type": "code",
   "execution_count": 46,
   "metadata": {},
   "outputs": [],
   "source": [
    "productSales.scenarios[\"Selling Price Clustering 1\"].load_pandas(\n",
    "    selling_prices_based_on_clusters\n",
    ")"
   ]
  },
  {
   "cell_type": "code",
   "execution_count": 48,
   "metadata": {
    "atoti": {
     "state": {
      "name": "",
      "type": "container",
      "value": {
       "body": {
        "configuration": {
         "tabular": {
          "addButtonFilter": "numeric",
          "cellRenderers": [
           "tree-layout"
          ],
          "columnOrder": {
           "args": {
            "orderedColumns": [
             "c-treeCells-member",
             "([Measures].[Price Index],[Epoch].[Epoch].[Branch].[Base])",
             "([Measures].[Price Index],[Epoch].[Epoch].[Branch].[Selling Price Clustering 1])"
            ]
           },
           "key": "explicit"
          },
          "columns": [
           {
            "key": "([Measures].[Price Index],[Epoch].[Epoch].[Branch].[Base])",
            "width": 168
           },
           {
            "key": "([Measures].[Price Index],[Epoch].[Epoch].[Branch].[Selling Price Clustering 1])",
            "width": 195
           },
           {
            "key": "([Measures].[Price Index],[Epoch].[Epoch].[Branch].[Difference])",
            "width": 127
           },
           {
            "key": "([Measures].[Price Index (1)],[Epoch].[Epoch].[Branch].[Selling Price Clustering 1])",
            "width": 195
           }
          ],
          "columnsGroups": [
           {
            "captionProducer": "firstColumn",
            "cellFactory": "kpi-status",
            "selector": "kpi-status"
           },
           {
            "captionProducer": "firstColumn",
            "cellFactory": "lookup",
            "selector": "lookup"
           },
           {
            "captionProducer": "expiry",
            "cellFactory": "expiry",
            "selector": "kpi-expiry"
           },
           {
            "captionProducer": "columnMerge",
            "cellFactory": {
             "args": {},
             "key": "treeCells"
            },
            "selector": "member"
           }
          ],
          "defaultOptions": {},
          "expansion": {
           "automaticExpansion": true
          },
          "hideAddButton": true,
          "pinnedHeaderSelector": "member",
          "sortingMode": "non-breaking",
          "statisticsShown": true
         }
        },
        "contextValues": {},
        "mdx": "WITH  Member [Epoch].[Epoch].[Difference] AS [Epoch].[Epoch].[Selling Price Clustering 1] - [Epoch].[Epoch].[Base], CAPTION = \"Difference\"    Member [Measures].[Price Index (1)] AS [Measures].[Price Index], FORE_COLOR = CASE WHEN [Measures].[Price Index (1)] < 0 THEN rgb(255, 0, 0) END, FORMAT_STRING = \"#,###.00\", CAPTION = [Measures].[Price Index].MEMBER_CAPTION  SELECT NON EMPTY Crossjoin([Measures].[Price Index (1)], Union([Epoch].[Epoch].[Branch].Members, [Epoch].[Epoch].[Difference])) ON COLUMNS, NON EMPTY Hierarchize(DrilldownLevel([Hierarchies].[StoreId].[ALL].[AllMember])) ON ROWS FROM [PriceIndexCube] CELL PROPERTIES BACK_COLOR, FONT_FLAGS, FORE_COLOR, FORMATTED_VALUE, VALUE",
        "ranges": {
         "column": {
          "chunkSize": 50,
          "thresholdPercentage": 0.2
         },
         "row": {
          "chunkSize": 2000,
          "thresholdPercentage": 0.1
         }
        },
        "serverUrl": "",
        "updateMode": "once"
       },
       "containerKey": "pivot-table",
       "showTitleBar": false,
       "style": {}
      }
     }
    }
   },
   "outputs": [
    {
     "data": {
      "application/vnd.atoti.v0+json": {
       "cube": "PriceIndexCube",
       "name": null,
       "session": "Unnamed"
      },
      "text/plain": [
       "Install and enable the atoti JupyterLab extension to see this widget."
      ]
     },
     "metadata": {},
     "output_type": "display_data"
    }
   ],
   "source": [
    "price_index_cube.visualize()"
   ]
  },
  {
   "cell_type": "markdown",
   "metadata": {
    "atoti": {
     "state": {
      "name": "",
      "type": "container",
      "value": {
       "body": {
        "configuration": {},
        "query": {
         "mdx": "SELECT FROM [PriceIndexCube] CELL PROPERTIES VALUE, FORMATTED_VALUE, BACK_COLOR, FORE_COLOR, FONT_FLAGS"
        }
       },
       "containerKey": "chart",
       "showTitleBar": false
      }
     }
    }
   },
   "source": [
    "Let's load the cluster results obtained from the machine learning model into the cube."
   ]
  },
  {
   "cell_type": "code",
   "execution_count": 49,
   "metadata": {},
   "outputs": [
    {
     "data": {
      "text/html": [
       "<div>\n",
       "<style scoped>\n",
       "    .dataframe tbody tr th:only-of-type {\n",
       "        vertical-align: middle;\n",
       "    }\n",
       "\n",
       "    .dataframe tbody tr th {\n",
       "        vertical-align: top;\n",
       "    }\n",
       "\n",
       "    .dataframe thead th {\n",
       "        text-align: right;\n",
       "    }\n",
       "</style>\n",
       "<table border=\"1\" class=\"dataframe\">\n",
       "  <thead>\n",
       "    <tr style=\"text-align: right;\">\n",
       "      <th></th>\n",
       "      <th>Cluster</th>\n",
       "    </tr>\n",
       "    <tr>\n",
       "      <th>StoreId</th>\n",
       "      <th></th>\n",
       "    </tr>\n",
       "  </thead>\n",
       "  <tbody>\n",
       "    <tr>\n",
       "      <th>1</th>\n",
       "      <td>1</td>\n",
       "    </tr>\n",
       "    <tr>\n",
       "      <th>2</th>\n",
       "      <td>1</td>\n",
       "    </tr>\n",
       "    <tr>\n",
       "      <th>3</th>\n",
       "      <td>3</td>\n",
       "    </tr>\n",
       "    <tr>\n",
       "      <th>4</th>\n",
       "      <td>3</td>\n",
       "    </tr>\n",
       "    <tr>\n",
       "      <th>5</th>\n",
       "      <td>3</td>\n",
       "    </tr>\n",
       "  </tbody>\n",
       "</table>\n",
       "</div>"
      ],
      "text/plain": [
       "         Cluster\n",
       "StoreId         \n",
       "1              1\n",
       "2              1\n",
       "3              3\n",
       "4              3\n",
       "5              3"
      ]
     },
     "execution_count": 49,
     "metadata": {},
     "output_type": "execute_result"
    }
   ],
   "source": [
    "clusters_df = stores_features[[\"Cluster\"]].reset_index()\n",
    "clusters_df.StoreId = clusters_df.StoreId.astype(\"int32\")\n",
    "cluster_store = session.read_pandas(\n",
    "    clusters_df, keys=[\"StoreId\"], store_name=\"Clusters\"\n",
    ")\n",
    "\n",
    "cluster_store.head(5)"
   ]
  },
  {
   "cell_type": "code",
   "execution_count": 50,
   "metadata": {},
   "outputs": [],
   "source": [
    "stores.join(cluster_store)"
   ]
  },
  {
   "cell_type": "markdown",
   "metadata": {},
   "source": [
    "With the cluster information added to the cube, we can now visualize the changes in price index for the 5 clusters."
   ]
  },
  {
   "cell_type": "code",
   "execution_count": 52,
   "metadata": {
    "atoti": {
     "state": {
      "name": "Price index optimisation difference",
      "type": "container",
      "value": {
       "body": {
        "configuration": {
         "mapping": {
          "horizontalSubplots": [],
          "splitBy": [
           "[Epoch].[Epoch].[Branch]"
          ],
          "values": [
           "[Measures].[Price Index]"
          ],
          "verticalSubplots": [],
          "xAxis": [
           "[Hierarchies].[Cluster].[Cluster]"
          ]
         },
         "plotly": {
          "layout": {
           "xaxis": {
            "title": "Clusters"
           },
           "yaxis": {
            "title": "Price Index"
           }
          }
         },
         "type": "plotly-clustered-column-chart"
        },
        "query": {
         "mdx": "SELECT NON EMPTY Crossjoin([Hierarchies].[Cluster].[Cluster].Members, [Epoch].[Epoch].[Branch].Members) ON ROWS, NON EMPTY [Measures].[Price Index] ON COLUMNS FROM [PriceIndexCube] CELL PROPERTIES VALUE, FORMATTED_VALUE, BACK_COLOR, FORE_COLOR, FONT_FLAGS",
         "serverUrl": "",
         "updateMode": "once"
        }
       },
       "containerKey": "chart",
       "showTitleBar": false,
       "style": {}
      }
     }
    }
   },
   "outputs": [
    {
     "data": {
      "application/vnd.atoti.v0+json": {
       "cube": "PriceIndexCube",
       "name": "Price index optimisation difference",
       "session": "Unnamed"
      },
      "text/plain": [
       "Install and enable the atoti JupyterLab extension to see this widget."
      ]
     },
     "metadata": {},
     "output_type": "display_data"
    }
   ],
   "source": [
    "price_index_cube.visualize(\"Price index optimisation difference\")"
   ]
  },
  {
   "cell_type": "markdown",
   "metadata": {},
   "source": [
    "We can see that the pricing method decreased the price index of stores in clusters that have high competition in order for them to attract more customers.  \n",
    "On the contrary it increased the prices in stores belonging to low competition clusters in order to maximize margin.  \n",
    "Cluster 1 and 4 for instance, have very few competitors. Hence their selling prices are adjusted higher, resulting in higher price index."
   ]
  },
  {
   "cell_type": "markdown",
   "metadata": {},
   "source": [
    "### Different data input for machine learning with distance buckets simulation\n",
    "\n",
    "Depending on the location and type of environment, some people may be willing to go further to make their purchases.\n",
    "Let's see how the clustering will change if we include a wider distance radius.\n",
    "We will leverage on the simulation we created earlier on to add 2 distance buckets - 15km and 20km."
   ]
  },
  {
   "cell_type": "code",
   "execution_count": 53,
   "metadata": {},
   "outputs": [
    {
     "data": {
      "text/html": [
       "<div>\n",
       "<style scoped>\n",
       "    .dataframe tbody tr th:only-of-type {\n",
       "        vertical-align: middle;\n",
       "    }\n",
       "\n",
       "    .dataframe tbody tr th {\n",
       "        vertical-align: top;\n",
       "    }\n",
       "\n",
       "    .dataframe thead th {\n",
       "        text-align: right;\n",
       "    }\n",
       "</style>\n",
       "<table border=\"1\" class=\"dataframe\">\n",
       "  <thead>\n",
       "    <tr style=\"text-align: right;\">\n",
       "      <th></th>\n",
       "      <th>1 KM</th>\n",
       "      <th>10 KM</th>\n",
       "      <th>15 KM</th>\n",
       "      <th>20 KM</th>\n",
       "      <th>5 KM</th>\n",
       "      <th>Price Index</th>\n",
       "    </tr>\n",
       "    <tr>\n",
       "      <th>StoreId</th>\n",
       "      <th></th>\n",
       "      <th></th>\n",
       "      <th></th>\n",
       "      <th></th>\n",
       "      <th></th>\n",
       "      <th></th>\n",
       "    </tr>\n",
       "  </thead>\n",
       "  <tbody>\n",
       "    <tr>\n",
       "      <th>1</th>\n",
       "      <td>11</td>\n",
       "      <td>66</td>\n",
       "      <td>71</td>\n",
       "      <td>71</td>\n",
       "      <td>51</td>\n",
       "      <td>0.986389</td>\n",
       "    </tr>\n",
       "    <tr>\n",
       "      <th>2</th>\n",
       "      <td>5</td>\n",
       "      <td>61</td>\n",
       "      <td>71</td>\n",
       "      <td>71</td>\n",
       "      <td>46</td>\n",
       "      <td>1.043176</td>\n",
       "    </tr>\n",
       "    <tr>\n",
       "      <th>3</th>\n",
       "      <td>5</td>\n",
       "      <td>71</td>\n",
       "      <td>71</td>\n",
       "      <td>71</td>\n",
       "      <td>36</td>\n",
       "      <td>0.960006</td>\n",
       "    </tr>\n",
       "    <tr>\n",
       "      <th>4</th>\n",
       "      <td>5</td>\n",
       "      <td>61</td>\n",
       "      <td>66</td>\n",
       "      <td>71</td>\n",
       "      <td>31</td>\n",
       "      <td>0.969073</td>\n",
       "    </tr>\n",
       "    <tr>\n",
       "      <th>5</th>\n",
       "      <td>5</td>\n",
       "      <td>56</td>\n",
       "      <td>71</td>\n",
       "      <td>71</td>\n",
       "      <td>36</td>\n",
       "      <td>1.030924</td>\n",
       "    </tr>\n",
       "  </tbody>\n",
       "</table>\n",
       "</div>"
      ],
      "text/plain": [
       "         1 KM  10 KM  15 KM  20 KM  5 KM  Price Index\n",
       "StoreId                                              \n",
       "1          11     66     71     71    51     0.986389\n",
       "2           5     61     71     71    46     1.043176\n",
       "3           5     71     71     71    36     0.960006\n",
       "4           5     61     66     71    31     0.969073\n",
       "5           5     56     71     71    36     1.030924"
      ]
     },
     "execution_count": 53,
     "metadata": {},
     "output_type": "execute_result"
    }
   ],
   "source": [
    "simulation.scenarios[\"15 KM\"] = 15\n",
    "simulation.scenarios[\"20 KM\"] = 20\n",
    "\n",
    "stores_features_2 = get_features()\n",
    "stores_features_2.head()"
   ]
  },
  {
   "cell_type": "code",
   "execution_count": 54,
   "metadata": {},
   "outputs": [],
   "source": [
    "k_means_labels_2, labels_2 = run_algorithm(\n",
    "    number_of_clusters=5, features_df=stores_features_2\n",
    ")"
   ]
  },
  {
   "cell_type": "code",
   "execution_count": 55,
   "metadata": {},
   "outputs": [
    {
     "data": {
      "text/html": [
       "<div>\n",
       "<style scoped>\n",
       "    .dataframe tbody tr th:only-of-type {\n",
       "        vertical-align: middle;\n",
       "    }\n",
       "\n",
       "    .dataframe tbody tr th {\n",
       "        vertical-align: top;\n",
       "    }\n",
       "\n",
       "    .dataframe thead th {\n",
       "        text-align: right;\n",
       "    }\n",
       "</style>\n",
       "<table border=\"1\" class=\"dataframe\">\n",
       "  <thead>\n",
       "    <tr style=\"text-align: right;\">\n",
       "      <th></th>\n",
       "      <th>1 KM</th>\n",
       "      <th>10 KM</th>\n",
       "      <th>15 KM</th>\n",
       "      <th>20 KM</th>\n",
       "      <th>5 KM</th>\n",
       "      <th>Price Index</th>\n",
       "      <th>Cluster</th>\n",
       "    </tr>\n",
       "    <tr>\n",
       "      <th>StoreId</th>\n",
       "      <th></th>\n",
       "      <th></th>\n",
       "      <th></th>\n",
       "      <th></th>\n",
       "      <th></th>\n",
       "      <th></th>\n",
       "      <th></th>\n",
       "    </tr>\n",
       "  </thead>\n",
       "  <tbody>\n",
       "    <tr>\n",
       "      <th>1</th>\n",
       "      <td>11</td>\n",
       "      <td>66</td>\n",
       "      <td>71</td>\n",
       "      <td>71</td>\n",
       "      <td>51</td>\n",
       "      <td>0.986389</td>\n",
       "      <td>2</td>\n",
       "    </tr>\n",
       "    <tr>\n",
       "      <th>2</th>\n",
       "      <td>5</td>\n",
       "      <td>61</td>\n",
       "      <td>71</td>\n",
       "      <td>71</td>\n",
       "      <td>46</td>\n",
       "      <td>1.043176</td>\n",
       "      <td>2</td>\n",
       "    </tr>\n",
       "    <tr>\n",
       "      <th>3</th>\n",
       "      <td>5</td>\n",
       "      <td>71</td>\n",
       "      <td>71</td>\n",
       "      <td>71</td>\n",
       "      <td>36</td>\n",
       "      <td>0.960006</td>\n",
       "      <td>2</td>\n",
       "    </tr>\n",
       "    <tr>\n",
       "      <th>4</th>\n",
       "      <td>5</td>\n",
       "      <td>61</td>\n",
       "      <td>66</td>\n",
       "      <td>71</td>\n",
       "      <td>31</td>\n",
       "      <td>0.969073</td>\n",
       "      <td>2</td>\n",
       "    </tr>\n",
       "    <tr>\n",
       "      <th>5</th>\n",
       "      <td>5</td>\n",
       "      <td>56</td>\n",
       "      <td>71</td>\n",
       "      <td>71</td>\n",
       "      <td>36</td>\n",
       "      <td>1.030924</td>\n",
       "      <td>2</td>\n",
       "    </tr>\n",
       "  </tbody>\n",
       "</table>\n",
       "</div>"
      ],
      "text/plain": [
       "         1 KM  10 KM  15 KM  20 KM  5 KM  Price Index  Cluster\n",
       "StoreId                                                       \n",
       "1          11     66     71     71    51     0.986389        2\n",
       "2           5     61     71     71    46     1.043176        2\n",
       "3           5     71     71     71    36     0.960006        2\n",
       "4           5     61     66     71    31     0.969073        2\n",
       "5           5     56     71     71    36     1.030924        2"
      ]
     },
     "execution_count": 55,
     "metadata": {},
     "output_type": "execute_result"
    }
   ],
   "source": [
    "stores_features_2[\"Cluster\"] = labels_2\n",
    "stores_features_2.head(5)"
   ]
  },
  {
   "cell_type": "code",
   "execution_count": 56,
   "metadata": {},
   "outputs": [
    {
     "data": {
      "text/plain": [
       "<seaborn.axisgrid.PairGrid at 0x182a95d19d0>"
      ]
     },
     "execution_count": 56,
     "metadata": {},
     "output_type": "execute_result"
    },
    {
     "data": {
      "image/png": "[encoded data removed]",
      "text/plain": [
       "<Figure size 1126.92x1080 with 42 Axes>"
      ]
     },
     "metadata": {},
     "output_type": "display_data"
    }
   ],
   "source": [
    "sns.pairplot(data=stores_features_2, hue=\"Cluster\")"
   ]
  },
  {
   "cell_type": "markdown",
   "metadata": {},
   "source": [
    "Compared to the initial distance buckets, the cluster size has changed.\n",
    "- New cluster 0 is similar to the initial cluster 2: a small cluster that has slightly lower price index and most competitors are more than 10km away. \n",
    "- New cluster 1 is similar to the initial cluster 0: this is a big cluster with little competitors around.\n",
    "- New cluster 2 is similar to the initial cluster 1: slight skewed towards a higher price index than the rest while the number of competitors are generally higher even within 5km distance radius.\n",
    "- New cluster 3 becomes even smaller but the number of competitors increases tremendously as the distance radius increases.\n",
    "- New cluster 4 price index is still much lower comparatively even though some of the stores has price index closer to 1. Number of competitors remains about the same across all buckets.\n",
    "\n",
    "<img src=\"https://s3.eu-west-3.amazonaws.com/data.atoti.io/notebooks/geopricing/clustering1.png\" alt=\"Clustering 1\" style=\"width:600px;\"/>\n",
    "\n",
    "While this gives us an idea of how to position ourselves, we need to put these into context before we can decide on what pricing strategy to apply on it.  \n",
    "Let's load the new cluster back into the cube to have more in-depth analysis."
   ]
  },
  {
   "cell_type": "code",
   "execution_count": 57,
   "metadata": {},
   "outputs": [],
   "source": [
    "new_clusters_df = stores_features_2[[\"Cluster\"]].reset_index()\n",
    "new_clusters_df.StoreId = new_clusters_df.StoreId.astype(\"int32\")\n",
    "\n",
    "cluster_store.scenarios[\"Clustering 2\"].load_pandas(new_clusters_df)"
   ]
  },
  {
   "cell_type": "markdown",
   "metadata": {},
   "source": [
    "We see how the distribution of the stores have changed after adding in 2 more distance buckets."
   ]
  },
  {
   "cell_type": "code",
   "execution_count": 59,
   "metadata": {
    "atoti": {
     "state": {
      "name": "Stores distribution across clusters before and after",
      "type": "container",
      "value": {
       "body": {
        "configuration": {
         "mapping": {
          "horizontalSubplots": [
           "[Epoch].[Epoch].[Branch]"
          ],
          "sliceBy": [
           "[Hierarchies].[Cluster].[Cluster]"
          ],
          "values": [
           "[Measures].[Store Count]"
          ],
          "verticalSubplots": []
         },
         "subplotModeEnabled": true,
         "type": "plotly-pie-chart"
        },
        "query": {
         "mdx": "WITH  Member [Measures].[Store Count] AS Count(Descendants([Hierarchies].[StoreId].CurrentMember, [Hierarchies].[StoreId].[StoreId]), EXCLUDEEMPTY), FORMAT_STRING = \"#,###.##\"  SELECT NON EMPTY [Measures].[Store Count] ON COLUMNS, NON EMPTY Crossjoin([Hierarchies].[Cluster].[Cluster].Members, [Epoch].[Epoch].[Branch].Members) ON ROWS FROM (SELECT {[Epoch].[Epoch].[Branch].[Base], [Epoch].[Epoch].[Branch].[Clustering 2]} ON COLUMNS FROM [PriceIndexCube]) CELL PROPERTIES BACK_COLOR, FONT_FLAGS, FORE_COLOR, FORMATTED_VALUE, VALUE",
         "serverUrl": "",
         "updateMode": "once"
        }
       },
       "containerKey": "chart",
       "showTitleBar": false,
       "style": {}
      }
     }
    }
   },
   "outputs": [
    {
     "data": {
      "application/vnd.atoti.v0+json": {
       "cube": "PriceIndexCube",
       "name": "Stores distribution across clusters before and after",
       "session": "Unnamed"
      },
      "text/plain": [
       "Install and enable the atoti JupyterLab extension to see this widget."
      ]
     },
     "metadata": {},
     "output_type": "display_data"
    }
   ],
   "source": [
    "price_index_cube.visualize(\"Stores distribution across clusters before and after\")"
   ]
  },
  {
   "cell_type": "code",
   "execution_count": 61,
   "metadata": {
    "atoti": {
     "state": {
      "name": "Spread of clusters on map",
      "type": "container",
      "value": {
       "body": {
        "configuration": {
         "mapping": {
          "cardinality": {
           "from": [
            "[Hierarchies].[StoreName].[StoreName]"
           ]
          },
          "lat": {
           "from": "[Measures].[Latitude.VALUE]"
          },
          "long": {
           "from": "[Measures].[Longitude.VALUE]"
          },
          "pointColor": {
           "from": [
            "[Hierarchies].[Cluster].[Cluster]"
           ]
          },
          "pointStrokeColor": {
           "value": "rgb(153, 153, 153)"
          },
          "pointStrokeWidth": {
           "value": 1
          },
          "r": {
           "from": "[Measures].[Competitors<Thresh]"
          }
         },
         "type": "pointMap"
        },
        "query": {
         "mdx": "SELECT {[Measures].[Longitude.VALUE], [Measures].[Latitude.VALUE], [Measures].[Competitors<Thresh]} ON COLUMNS, NON EMPTY Crossjoin([Hierarchies].[StoreName].[StoreName].Members, [Hierarchies].[Cluster].[Cluster].Members) ON ROWS FROM [PriceIndexCube] WHERE [Epoch].[Epoch].[Branch].[Clustering 2] CELL PROPERTIES VALUE, FORMATTED_VALUE, BACK_COLOR, FORE_COLOR, FONT_FLAGS",
         "serverUrl": "",
         "updateMode": "once"
        }
       },
       "containerKey": "chart",
       "showTitleBar": false,
       "style": {}
      }
     }
    }
   },
   "outputs": [
    {
     "data": {
      "application/vnd.atoti.v0+json": {
       "cube": "PriceIndexCube",
       "name": "Spread of clusters on map",
       "session": "Unnamed"
      },
      "text/plain": [
       "Install and enable the atoti JupyterLab extension to see this widget."
      ]
     },
     "metadata": {},
     "output_type": "display_data"
    }
   ],
   "source": [
    "price_index_cube.visualize(\"Spread of clusters on map\")"
   ]
  },
  {
   "cell_type": "markdown",
   "metadata": {},
   "source": [
    "Interestingly, cluster 1 is distributed all over France except Paris, and mostly they are the only store in the neighbourhood that is under our retailer.  \n",
    "Cluster 3 is a small cluster around Lille, the capital of the Hauts-de-France region in northern France.\n",
    "The rest of the clusters have outlets under our retailer in close proximity, and most of them spread around Paris.  \n",
    "The size of the points on the map reflects the number of competitors within 1km - we can see the competition around the city is the highest. \n",
    "\n",
    "In the case of cluster 1, the store is the only one under the retailer in the neighbour. The number of competitors is low, hence price index is less affected by competition.  \n",
    "Rather, other factors such as variety of products, branding etc could take on a heavier factor on the price index - these are to be considered when applying a pricing strategy for this cluster. Generally, the price index could be higher.\n",
    "\n",
    "For the rest of the clusters, there are a few considerations. Within the same proximity, their competitors of the stores are the same.  \n",
    "Not only so, consumers can easily detect the price differences of products between the stores of the same retailer if they are close by one another.  \n",
    "Hence it make more sense to align their price index and it should be slightly lower to push up its competitivity."
   ]
  },
  {
   "cell_type": "markdown",
   "metadata": {},
   "source": [
    "### Selling price simulation by clusters and stores\n",
    "\n",
    "Let's apply a new pricing strategy on the new cluster groups. This time round, let's adjust the selling price by clusters instead.  \n",
    "Just in case we need to trim the price index of certain stores within a cluster, we will include the _StoreId_ as a parameter for the simulation."
   ]
  },
  {
   "cell_type": "code",
   "execution_count": 62,
   "metadata": {},
   "outputs": [],
   "source": [
    "price_simulation = price_index_cube.setup_simulation(\n",
    "    \"Price simulation\",\n",
    "    base_scenario=\"Selling Price Initial\",\n",
    "    levels=[lvl[\"Cluster\"], lvl[\"StoreId\"]],\n",
    "    multiply=[m[\"SellingPrice_x_Margin.SUM\"]],\n",
    ")"
   ]
  },
  {
   "cell_type": "markdown",
   "metadata": {},
   "source": [
    "Thanks to atoti built-in simulations capabilities, we can easily create a new scenario for the new pricing by directly loading the price-optimised dataframe.  \n",
    "All the previously defined KPIs, e.g. the price index, will be re-computed on the fly, enabling us to compare the scenarios and their benefits."
   ]
  },
  {
   "cell_type": "code",
   "execution_count": 63,
   "metadata": {},
   "outputs": [],
   "source": [
    "new_cluster_adjustment = price_simulation.scenarios[\"Selling Price New\"]\n",
    "new_cluster_adjustment.append(\n",
    "    (\"0\", None, 1.0),\n",
    "    (\"1\", None, 1.05),\n",
    "    (\"2\", None, 0.95),\n",
    "    (\"3\", None, 1.0),\n",
    "    (\"4\", None, 1.05),\n",
    ")"
   ]
  },
  {
   "cell_type": "code",
   "execution_count": 65,
   "metadata": {
    "atoti": {
     "height": 459,
     "state": {
      "name": "Price index optimisation difference by scenario",
      "type": "container",
      "value": {
       "body": {
        "configuration": {
         "mapping": {
          "horizontalSubplots": [],
          "splitBy": [
           "[Measure Simulations].[Price simulation].[Price simulation]",
           "[Epoch].[Epoch].[Branch]"
          ],
          "values": [
           "[Measures].[Price Index]"
          ],
          "verticalSubplots": [],
          "xAxis": [
           "[Hierarchies].[Cluster].[Cluster]",
           "[Hierarchies].[StoreName].[StoreName]",
           "[Hierarchies].[StoreId].[StoreId]"
          ]
         },
         "plotly": {
          "layout": {
           "xaxis": {
            "tickangle": "45"
           }
          }
         },
         "type": "plotly-clustered-column-chart"
        },
        "query": {
         "mdx": "SELECT NON EMPTY Crossjoin([Hierarchies].[Cluster].[Cluster].Members, [Hierarchies].[StoreName].[StoreName].Members, [Hierarchies].[StoreId].[StoreId].Members, [Measure Simulations].[Price simulation].[Price simulation].Members, [Epoch].[Epoch].[Branch].Members) ON ROWS, NON EMPTY [Measures].[Price Index] ON COLUMNS FROM (SELECT {[Epoch].[Epoch].[Branch].[Base], [Epoch].[Epoch].[Branch].[Selling Price Clustering 1]} ON COLUMNS FROM [PriceIndexCube]) CELL PROPERTIES VALUE, FORMATTED_VALUE, BACK_COLOR, FORE_COLOR, FONT_FLAGS",
         "serverUrl": "",
         "updateMode": "once"
        }
       },
       "containerKey": "chart",
       "showTitleBar": false,
       "style": {}
      }
     }
    }
   },
   "outputs": [
    {
     "data": {
      "application/vnd.atoti.v0+json": {
       "cube": "PriceIndexCube",
       "name": "Price index optimisation difference by scenario",
       "session": "Unnamed"
      },
      "text/plain": [
       "Install and enable the atoti JupyterLab extension to see this widget."
      ]
     },
     "metadata": {},
     "output_type": "display_data"
    }
   ],
   "source": [
    "price_index_cube.visualize(\"Price index optimisation difference by scenario\")"
   ]
  },
  {
   "cell_type": "markdown",
   "metadata": {},
   "source": [
    "Among cluster 3, seems that the price index of the store ActiveViam Store Paris 16 (5) is slightly higher than the rest in its cluster.  \n",
    "Let's try to adjust it so that its price index is slightly below 1."
   ]
  },
  {
   "cell_type": "code",
   "execution_count": 66,
   "metadata": {},
   "outputs": [],
   "source": [
    "new_cluster_adjustment.append((\"3\", \"5\", 0.95))"
   ]
  },
  {
   "cell_type": "code",
   "execution_count": 68,
   "metadata": {
    "atoti": {
     "height": 492,
     "state": {
      "name": "Price simulation of store 5",
      "type": "container",
      "value": {
       "body": {
        "configuration": {
         "mapping": {
          "horizontalSubplots": [],
          "splitBy": [
           "[Measure Simulations].[Price simulation].[Price simulation]",
           "[Epoch].[Epoch].[Branch]"
          ],
          "values": [
           "[Measures].[Price Index]"
          ],
          "verticalSubplots": [],
          "xAxis": [
           "[Hierarchies].[Cluster].[Cluster]",
           "[Hierarchies].[StoreName].[StoreName]",
           "[Hierarchies].[StoreId].[StoreId]"
          ]
         },
         "plotly": {
          "layout": {
           "xaxis": {
            "tickangle": "45"
           }
          }
         },
         "type": "plotly-clustered-column-chart"
        },
        "query": {
         "mdx": "SELECT NON EMPTY Crossjoin([Hierarchies].[Cluster].[Cluster].Members, [Hierarchies].[StoreName].[StoreName].Members, [Hierarchies].[StoreId].[StoreId].Members, [Measure Simulations].[Price simulation].[Price simulation].Members, [Epoch].[Epoch].[Branch].Members) ON ROWS, NON EMPTY [Measures].[Price Index] ON COLUMNS FROM (SELECT {[Epoch].[Epoch].[Branch].[Base], [Epoch].[Epoch].[Branch].[Selling Price Clustering 1]} ON COLUMNS FROM [PriceIndexCube]) CELL PROPERTIES VALUE, FORMATTED_VALUE, BACK_COLOR, FORE_COLOR, FONT_FLAGS",
         "serverUrl": "",
         "updateMode": "once"
        }
       },
       "containerKey": "chart",
       "showTitleBar": false,
       "style": {}
      }
     }
    }
   },
   "outputs": [
    {
     "data": {
      "application/vnd.atoti.v0+json": {
       "cube": "PriceIndexCube",
       "name": "Price simulation of store 5",
       "session": "Unnamed"
      },
      "text/plain": [
       "Install and enable the atoti JupyterLab extension to see this widget."
      ]
     },
     "metadata": {},
     "output_type": "display_data"
    }
   ],
   "source": [
    "price_index_cube.visualize(\"Price simulation of store 5\")"
   ]
  },
  {
   "cell_type": "markdown",
   "metadata": {},
   "source": [
    "We saw how machine learning helps to identify the clusters based on the amount geographical competitions.  \n",
    "With this information, we applied different pricing strategy to each cluster using simulations from atoti to understand the impact on the price index.\n",
    "We also look within a cluster to adjust the pricing of a specific store so that it's more attuned to the pricing of the other stores in the cluster. \n",
    "\n",
    "With atoti, we can easily combine the simulations of various factors such as festivals, promotions, seasons etc.\n",
    "If we have more data such as the quantity of products sold, we can easily see the differences in the margin with each pricing strategy.  \n",
    "We can thereafter decide on the best pricing from the combination of simulations.\n",
    "\n",
    "Do have a look at how we can strategize the price index around product class in the [pricing-simulations-around-product-classes](https://github.com/atoti/notebooks/tree/master/retail/pricing-simulations-around-product-classes) notebook and its [corresponding article](https://www.atoti.io/data-dive-how-to-improve-pricing-strategies-with-a-set-of-checkout-receipts/).  \n",
    "Maybe you can have a go at combining the two strategies to get your own price index!"
   ]
  },
  {
   "cell_type": "code",
   "execution_count": null,
   "metadata": {},
   "outputs": [],
   "source": []
  }
 ],
 "metadata": {
  "kernelspec": {
   "display_name": "Python 3",
   "language": "python",
   "name": "python3"
  },
  "language_info": {
   "codemirror_mode": {
    "name": "ipython",
    "version": 3
   },
   "file_extension": ".py",
   "mimetype": "text/x-python",
   "name": "python",
   "nbconvert_exporter": "python",
   "pygments_lexer": "ipython3",
   "version": "3.8.3"
  }
 },
 "nbformat": 4,
 "nbformat_minor": 4
}
