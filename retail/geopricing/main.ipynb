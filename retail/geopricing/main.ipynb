{
 "cells": [
  {
   "cell_type": "markdown",
   "metadata": {},
   "source": [
    "# Geopricing with atoti\n",
    "In this notebook we will explore a pricing use case that combines machine learning algorithms and atoti.  \n",
    "We will start by creating clusters of stores depending on their local competition and current prices, then simulate various pricing strategies with atoti.\n",
    "\n",
    "### Dependencies\n",
    "A few libraries will need to be installed for this notebook to work:  \n",
    "- conda install folium scipy scikit-learn matplotlib seaborn "
   ]
  },
  {
   "cell_type": "code",
   "execution_count": 1,
   "metadata": {},
   "outputs": [
    {
     "name": "stdout",
     "output_type": "stream",
     "text": [
      "Welcome to atoti 0.4.0!\n",
      "\n",
      "By using this community edition, you agree with the license available at https://www.atoti.io/eula.\n",
      "Browse the official documentation at https://docs.atoti.io.\n",
      "Join the community at https://www.atoti.io/register.\n",
      "\n",
      "You can hide this message by setting the ATOTI_HIDE_EULA_MESSAGE environment variable to True.\n"
     ]
    }
   ],
   "source": [
    "import atoti as tt\n",
    "import pandas as pd\n",
    "\n",
    "from utils import utils"
   ]
  },
  {
   "cell_type": "markdown",
   "metadata": {},
   "source": [
    "## Computing stores features\n",
    "\n",
    "### 1. Counting the number of competitor stores\n",
    "We will first start by loading our stores."
   ]
  },
  {
   "cell_type": "code",
   "execution_count": 2,
   "metadata": {},
   "outputs": [
    {
     "data": {
      "text/html": [
       "<div>\n",
       "<style scoped>\n",
       "    .dataframe tbody tr th:only-of-type {\n",
       "        vertical-align: middle;\n",
       "    }\n",
       "\n",
       "    .dataframe tbody tr th {\n",
       "        vertical-align: top;\n",
       "    }\n",
       "\n",
       "    .dataframe thead th {\n",
       "        text-align: right;\n",
       "    }\n",
       "</style>\n",
       "<table border=\"1\" class=\"dataframe\">\n",
       "  <thead>\n",
       "    <tr style=\"text-align: right;\">\n",
       "      <th></th>\n",
       "      <th>StoreId</th>\n",
       "      <th>StoreName</th>\n",
       "      <th>Adress</th>\n",
       "      <th>ZipCode</th>\n",
       "      <th>City</th>\n",
       "      <th>Country</th>\n",
       "      <th>Latitude</th>\n",
       "      <th>Longitude</th>\n",
       "      <th>Company</th>\n",
       "    </tr>\n",
       "  </thead>\n",
       "  <tbody>\n",
       "    <tr>\n",
       "      <th>0</th>\n",
       "      <td>1</td>\n",
       "      <td>ActiveViam Store Paris 1er</td>\n",
       "      <td>Paris 1er</td>\n",
       "      <td>75001</td>\n",
       "      <td>Paris</td>\n",
       "      <td>France</td>\n",
       "      <td>48.860757</td>\n",
       "      <td>2.342566</td>\n",
       "      <td>ActiveViam</td>\n",
       "    </tr>\n",
       "    <tr>\n",
       "      <th>1</th>\n",
       "      <td>2</td>\n",
       "      <td>ActiveViam Store Paris 15</td>\n",
       "      <td>Paris 15</td>\n",
       "      <td>75015</td>\n",
       "      <td>Paris</td>\n",
       "      <td>France</td>\n",
       "      <td>48.840412</td>\n",
       "      <td>2.312649</td>\n",
       "      <td>ActiveViam</td>\n",
       "    </tr>\n",
       "    <tr>\n",
       "      <th>2</th>\n",
       "      <td>3</td>\n",
       "      <td>ActiveViam Store Paris 18</td>\n",
       "      <td>Paris 18</td>\n",
       "      <td>75018</td>\n",
       "      <td>Paris</td>\n",
       "      <td>France</td>\n",
       "      <td>48.886483</td>\n",
       "      <td>2.344326</td>\n",
       "      <td>ActiveViam</td>\n",
       "    </tr>\n",
       "    <tr>\n",
       "      <th>3</th>\n",
       "      <td>4</td>\n",
       "      <td>ActiveViam Store Paris 12</td>\n",
       "      <td>Paris 12</td>\n",
       "      <td>75012</td>\n",
       "      <td>Paris</td>\n",
       "      <td>France</td>\n",
       "      <td>48.832182</td>\n",
       "      <td>2.375729</td>\n",
       "      <td>ActiveViam</td>\n",
       "    </tr>\n",
       "    <tr>\n",
       "      <th>4</th>\n",
       "      <td>5</td>\n",
       "      <td>ActiveViam Store Paris 16</td>\n",
       "      <td>Paris 16</td>\n",
       "      <td>75016</td>\n",
       "      <td>Paris</td>\n",
       "      <td>France</td>\n",
       "      <td>48.855454</td>\n",
       "      <td>2.280886</td>\n",
       "      <td>ActiveViam</td>\n",
       "    </tr>\n",
       "  </tbody>\n",
       "</table>\n",
       "</div>"
      ],
      "text/plain": [
       "   StoreId                   StoreName     Adress  ZipCode   City Country  \\\n",
       "0        1  ActiveViam Store Paris 1er  Paris 1er    75001  Paris  France   \n",
       "1        2   ActiveViam Store Paris 15   Paris 15    75015  Paris  France   \n",
       "2        3   ActiveViam Store Paris 18   Paris 18    75018  Paris  France   \n",
       "3        4   ActiveViam Store Paris 12   Paris 12    75012  Paris  France   \n",
       "4        5   ActiveViam Store Paris 16   Paris 16    75016  Paris  France   \n",
       "\n",
       "    Latitude  Longitude     Company  \n",
       "0  48.860757   2.342566  ActiveViam  \n",
       "1  48.840412   2.312649  ActiveViam  \n",
       "2  48.886483   2.344326  ActiveViam  \n",
       "3  48.832182   2.375729  ActiveViam  \n",
       "4  48.855454   2.280886  ActiveViam  "
      ]
     },
     "execution_count": 2,
     "metadata": {},
     "output_type": "execute_result"
    }
   ],
   "source": [
    "stores_df = pd.read_csv(\n",
    "    \"https://data.atoti.io/notebooks/geopricing/stores.csv\", sep=\";\"\n",
    ")\n",
    "stores_df.head(5)"
   ]
  },
  {
   "cell_type": "markdown",
   "metadata": {},
   "source": [
    "And then those of the competitors."
   ]
  },
  {
   "cell_type": "code",
   "execution_count": 3,
   "metadata": {},
   "outputs": [
    {
     "data": {
      "text/html": [
       "<div>\n",
       "<style scoped>\n",
       "    .dataframe tbody tr th:only-of-type {\n",
       "        vertical-align: middle;\n",
       "    }\n",
       "\n",
       "    .dataframe tbody tr th {\n",
       "        vertical-align: top;\n",
       "    }\n",
       "\n",
       "    .dataframe thead th {\n",
       "        text-align: right;\n",
       "    }\n",
       "</style>\n",
       "<table border=\"1\" class=\"dataframe\">\n",
       "  <thead>\n",
       "    <tr style=\"text-align: right;\">\n",
       "      <th></th>\n",
       "      <th>CompetitorStoreId</th>\n",
       "      <th>CompetitorStoreName</th>\n",
       "      <th>CompetitorStoreAdress</th>\n",
       "      <th>CompetitorStoreZipCode</th>\n",
       "      <th>CompetitorStoreCity</th>\n",
       "      <th>CompetitorStoreCountry</th>\n",
       "      <th>CompetitorStoreLatitude</th>\n",
       "      <th>CompetitorStoreLongitude</th>\n",
       "      <th>CompetitorStoreCompany</th>\n",
       "    </tr>\n",
       "  </thead>\n",
       "  <tbody>\n",
       "    <tr>\n",
       "      <th>0</th>\n",
       "      <td>101</td>\n",
       "      <td>Concurrent Premium</td>\n",
       "      <td>Paris 1er</td>\n",
       "      <td>75001</td>\n",
       "      <td>Paris</td>\n",
       "      <td>France</td>\n",
       "      <td>48.860757</td>\n",
       "      <td>2.342566</td>\n",
       "      <td>Concurrent Premium</td>\n",
       "    </tr>\n",
       "    <tr>\n",
       "      <th>1</th>\n",
       "      <td>102</td>\n",
       "      <td>Concurrent Premium</td>\n",
       "      <td>Paris 15</td>\n",
       "      <td>75015</td>\n",
       "      <td>Paris</td>\n",
       "      <td>France</td>\n",
       "      <td>48.840412</td>\n",
       "      <td>2.312649</td>\n",
       "      <td>Concurrent Premium</td>\n",
       "    </tr>\n",
       "    <tr>\n",
       "      <th>2</th>\n",
       "      <td>103</td>\n",
       "      <td>Concurrent Premium</td>\n",
       "      <td>Paris 18</td>\n",
       "      <td>75018</td>\n",
       "      <td>Paris</td>\n",
       "      <td>France</td>\n",
       "      <td>48.886483</td>\n",
       "      <td>2.344326</td>\n",
       "      <td>Concurrent Premium</td>\n",
       "    </tr>\n",
       "    <tr>\n",
       "      <th>3</th>\n",
       "      <td>104</td>\n",
       "      <td>Concurrent Premium</td>\n",
       "      <td>Paris 12</td>\n",
       "      <td>75012</td>\n",
       "      <td>Paris</td>\n",
       "      <td>France</td>\n",
       "      <td>48.832182</td>\n",
       "      <td>2.375729</td>\n",
       "      <td>Concurrent Premium</td>\n",
       "    </tr>\n",
       "    <tr>\n",
       "      <th>4</th>\n",
       "      <td>105</td>\n",
       "      <td>Concurrent Premium</td>\n",
       "      <td>Paris 16</td>\n",
       "      <td>75016</td>\n",
       "      <td>Paris</td>\n",
       "      <td>France</td>\n",
       "      <td>48.855454</td>\n",
       "      <td>2.280886</td>\n",
       "      <td>Concurrent Premium</td>\n",
       "    </tr>\n",
       "  </tbody>\n",
       "</table>\n",
       "</div>"
      ],
      "text/plain": [
       "   CompetitorStoreId CompetitorStoreName CompetitorStoreAdress  \\\n",
       "0                101  Concurrent Premium             Paris 1er   \n",
       "1                102  Concurrent Premium              Paris 15   \n",
       "2                103  Concurrent Premium              Paris 18   \n",
       "3                104  Concurrent Premium              Paris 12   \n",
       "4                105  Concurrent Premium              Paris 16   \n",
       "\n",
       "   CompetitorStoreZipCode CompetitorStoreCity CompetitorStoreCountry  \\\n",
       "0                   75001               Paris                 France   \n",
       "1                   75015               Paris                 France   \n",
       "2                   75018               Paris                 France   \n",
       "3                   75012               Paris                 France   \n",
       "4                   75016               Paris                 France   \n",
       "\n",
       "   CompetitorStoreLatitude  CompetitorStoreLongitude CompetitorStoreCompany  \n",
       "0                48.860757                  2.342566     Concurrent Premium  \n",
       "1                48.840412                  2.312649     Concurrent Premium  \n",
       "2                48.886483                  2.344326     Concurrent Premium  \n",
       "3                48.832182                  2.375729     Concurrent Premium  \n",
       "4                48.855454                  2.280886     Concurrent Premium  "
      ]
     },
     "execution_count": 3,
     "metadata": {},
     "output_type": "execute_result"
    }
   ],
   "source": [
    "competitor_stores_df = pd.read_csv(\n",
    "    \"https://data.atoti.io/notebooks/geopricing/competitor_stores.csv\", sep=\";\"\n",
    ")\n",
    "competitor_stores_df.head(5)"
   ]
  },
  {
   "cell_type": "markdown",
   "metadata": {},
   "source": [
    "We can already visualize on a map our stores (in red) and those of the competition (in blue)."
   ]
  },
  {
   "cell_type": "code",
   "execution_count": 4,
   "metadata": {},
   "outputs": [
    {
     "data": {
      "text/html": [
       "<div style=\"width:100%;\"><div style=\"position:relative;width:100%;height:0;padding-bottom:60%;\"><span style=\"color:#565656\">Make this Notebook Trusted to load map: File -> Trust Notebook</span><iframe src=\"about:blank\" style=\"position:absolute;width:100%;height:100%;left:0;top:0;border:none !important;\" data-html=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 onload=\"this.contentDocument.open();this.contentDocument.write(atob(this.getAttribute('data-html')));this.contentDocument.close();\" allowfullscreen webkitallowfullscreen mozallowfullscreen></iframe></div></div>"
      ],
      "text/plain": [
       "<folium.folium.Map at 0x2bdea632460>"
      ]
     },
     "execution_count": 4,
     "metadata": {},
     "output_type": "execute_result"
    }
   ],
   "source": [
    "stores_map = utils.build_stores_map(competitor_stores_df, stores_df)\n",
    "stores_map"
   ]
  },
  {
   "cell_type": "markdown",
   "metadata": {},
   "source": [
    "To assess whether a store has strong competition or not, we will count how many competitor stores there are in an area of 1kms, 5kms, 10kms and 20kms.  \n",
    "In order to to that, we first need to compute distances between stores then count the number of competitor stores for each of the kilometers values above.\n",
    "\n",
    "### Computing distances between stores\n",
    "To compute distances between stores, we simply used the [harvesine formula](https://en.wikipedia.org/wiki/Haversine_formula). Note that another approach would be to use instead something like the [google API to compute distances and durations between two points](https://developers.google.com/maps/documentation/distance-matrix/intro) (thus taking into accounts possible means of transportation).\n",
    "\n",
    "First we build a matrix containing the distances between stores and all competitors."
   ]
  },
  {
   "cell_type": "code",
   "execution_count": 5,
   "metadata": {},
   "outputs": [
    {
     "data": {
      "text/html": [
       "<div>\n",
       "<style scoped>\n",
       "    .dataframe tbody tr th:only-of-type {\n",
       "        vertical-align: middle;\n",
       "    }\n",
       "\n",
       "    .dataframe tbody tr th {\n",
       "        vertical-align: top;\n",
       "    }\n",
       "\n",
       "    .dataframe thead th {\n",
       "        text-align: right;\n",
       "    }\n",
       "</style>\n",
       "<table border=\"1\" class=\"dataframe\">\n",
       "  <thead>\n",
       "    <tr style=\"text-align: right;\">\n",
       "      <th></th>\n",
       "      <th>CompetitorStoreId</th>\n",
       "      <th>CompetitorStoreName</th>\n",
       "      <th>CompetitorStoreAdress</th>\n",
       "      <th>CompetitorStoreZipCode</th>\n",
       "      <th>CompetitorStoreCity</th>\n",
       "      <th>CompetitorStoreCountry</th>\n",
       "      <th>CompetitorStoreLatitude</th>\n",
       "      <th>CompetitorStoreLongitude</th>\n",
       "      <th>CompetitorStoreCompany</th>\n",
       "      <th>key</th>\n",
       "      <th>StoreId</th>\n",
       "      <th>StoreName</th>\n",
       "      <th>Adress</th>\n",
       "      <th>ZipCode</th>\n",
       "      <th>City</th>\n",
       "      <th>Country</th>\n",
       "      <th>Latitude</th>\n",
       "      <th>Longitude</th>\n",
       "      <th>Company</th>\n",
       "      <th>Competitor distance KM</th>\n",
       "    </tr>\n",
       "  </thead>\n",
       "  <tbody>\n",
       "    <tr>\n",
       "      <th>0</th>\n",
       "      <td>101</td>\n",
       "      <td>Concurrent Premium</td>\n",
       "      <td>Paris 1er</td>\n",
       "      <td>75001</td>\n",
       "      <td>Paris</td>\n",
       "      <td>France</td>\n",
       "      <td>48.860757</td>\n",
       "      <td>2.342566</td>\n",
       "      <td>Concurrent Premium</td>\n",
       "      <td>0</td>\n",
       "      <td>1</td>\n",
       "      <td>ActiveViam Store Paris 1er</td>\n",
       "      <td>Paris 1er</td>\n",
       "      <td>75001</td>\n",
       "      <td>Paris</td>\n",
       "      <td>France</td>\n",
       "      <td>48.860757</td>\n",
       "      <td>2.342566</td>\n",
       "      <td>ActiveViam</td>\n",
       "      <td>0.000000</td>\n",
       "    </tr>\n",
       "    <tr>\n",
       "      <th>1</th>\n",
       "      <td>101</td>\n",
       "      <td>Concurrent Premium</td>\n",
       "      <td>Paris 1er</td>\n",
       "      <td>75001</td>\n",
       "      <td>Paris</td>\n",
       "      <td>France</td>\n",
       "      <td>48.860757</td>\n",
       "      <td>2.342566</td>\n",
       "      <td>Concurrent Premium</td>\n",
       "      <td>0</td>\n",
       "      <td>2</td>\n",
       "      <td>ActiveViam Store Paris 15</td>\n",
       "      <td>Paris 15</td>\n",
       "      <td>75015</td>\n",
       "      <td>Paris</td>\n",
       "      <td>France</td>\n",
       "      <td>48.840412</td>\n",
       "      <td>2.312649</td>\n",
       "      <td>ActiveViam</td>\n",
       "      <td>3.145965</td>\n",
       "    </tr>\n",
       "    <tr>\n",
       "      <th>2</th>\n",
       "      <td>101</td>\n",
       "      <td>Concurrent Premium</td>\n",
       "      <td>Paris 1er</td>\n",
       "      <td>75001</td>\n",
       "      <td>Paris</td>\n",
       "      <td>France</td>\n",
       "      <td>48.860757</td>\n",
       "      <td>2.342566</td>\n",
       "      <td>Concurrent Premium</td>\n",
       "      <td>0</td>\n",
       "      <td>3</td>\n",
       "      <td>ActiveViam Store Paris 18</td>\n",
       "      <td>Paris 18</td>\n",
       "      <td>75018</td>\n",
       "      <td>Paris</td>\n",
       "      <td>France</td>\n",
       "      <td>48.886483</td>\n",
       "      <td>2.344326</td>\n",
       "      <td>ActiveViam</td>\n",
       "      <td>2.861697</td>\n",
       "    </tr>\n",
       "    <tr>\n",
       "      <th>3</th>\n",
       "      <td>101</td>\n",
       "      <td>Concurrent Premium</td>\n",
       "      <td>Paris 1er</td>\n",
       "      <td>75001</td>\n",
       "      <td>Paris</td>\n",
       "      <td>France</td>\n",
       "      <td>48.860757</td>\n",
       "      <td>2.342566</td>\n",
       "      <td>Concurrent Premium</td>\n",
       "      <td>0</td>\n",
       "      <td>4</td>\n",
       "      <td>ActiveViam Store Paris 12</td>\n",
       "      <td>Paris 12</td>\n",
       "      <td>75012</td>\n",
       "      <td>Paris</td>\n",
       "      <td>France</td>\n",
       "      <td>48.832182</td>\n",
       "      <td>2.375729</td>\n",
       "      <td>ActiveViam</td>\n",
       "      <td>3.995581</td>\n",
       "    </tr>\n",
       "    <tr>\n",
       "      <th>4</th>\n",
       "      <td>101</td>\n",
       "      <td>Concurrent Premium</td>\n",
       "      <td>Paris 1er</td>\n",
       "      <td>75001</td>\n",
       "      <td>Paris</td>\n",
       "      <td>France</td>\n",
       "      <td>48.860757</td>\n",
       "      <td>2.342566</td>\n",
       "      <td>Concurrent Premium</td>\n",
       "      <td>0</td>\n",
       "      <td>5</td>\n",
       "      <td>ActiveViam Store Paris 16</td>\n",
       "      <td>Paris 16</td>\n",
       "      <td>75016</td>\n",
       "      <td>Paris</td>\n",
       "      <td>France</td>\n",
       "      <td>48.855454</td>\n",
       "      <td>2.280886</td>\n",
       "      <td>ActiveViam</td>\n",
       "      <td>4.547896</td>\n",
       "    </tr>\n",
       "  </tbody>\n",
       "</table>\n",
       "</div>"
      ],
      "text/plain": [
       "   CompetitorStoreId CompetitorStoreName CompetitorStoreAdress  \\\n",
       "0                101  Concurrent Premium             Paris 1er   \n",
       "1                101  Concurrent Premium             Paris 1er   \n",
       "2                101  Concurrent Premium             Paris 1er   \n",
       "3                101  Concurrent Premium             Paris 1er   \n",
       "4                101  Concurrent Premium             Paris 1er   \n",
       "\n",
       "   CompetitorStoreZipCode CompetitorStoreCity CompetitorStoreCountry  \\\n",
       "0                   75001               Paris                 France   \n",
       "1                   75001               Paris                 France   \n",
       "2                   75001               Paris                 France   \n",
       "3                   75001               Paris                 France   \n",
       "4                   75001               Paris                 France   \n",
       "\n",
       "   CompetitorStoreLatitude  CompetitorStoreLongitude CompetitorStoreCompany  \\\n",
       "0                48.860757                  2.342566     Concurrent Premium   \n",
       "1                48.860757                  2.342566     Concurrent Premium   \n",
       "2                48.860757                  2.342566     Concurrent Premium   \n",
       "3                48.860757                  2.342566     Concurrent Premium   \n",
       "4                48.860757                  2.342566     Concurrent Premium   \n",
       "\n",
       "   key  StoreId                   StoreName     Adress  ZipCode   City  \\\n",
       "0    0        1  ActiveViam Store Paris 1er  Paris 1er    75001  Paris   \n",
       "1    0        2   ActiveViam Store Paris 15   Paris 15    75015  Paris   \n",
       "2    0        3   ActiveViam Store Paris 18   Paris 18    75018  Paris   \n",
       "3    0        4   ActiveViam Store Paris 12   Paris 12    75012  Paris   \n",
       "4    0        5   ActiveViam Store Paris 16   Paris 16    75016  Paris   \n",
       "\n",
       "  Country   Latitude  Longitude     Company  Competitor distance KM  \n",
       "0  France  48.860757   2.342566  ActiveViam                0.000000  \n",
       "1  France  48.840412   2.312649  ActiveViam                3.145965  \n",
       "2  France  48.886483   2.344326  ActiveViam                2.861697  \n",
       "3  France  48.832182   2.375729  ActiveViam                3.995581  \n",
       "4  France  48.855454   2.280886  ActiveViam                4.547896  "
      ]
     },
     "execution_count": 5,
     "metadata": {},
     "output_type": "execute_result"
    }
   ],
   "source": [
    "stores_distances_matrix = utils.create_stores_distances_matrix(\n",
    "    stores_df, competitor_stores_df\n",
    ")\n",
    "stores_distances_matrix.head()"
   ]
  },
  {
   "cell_type": "markdown",
   "metadata": {},
   "source": [
    "And we will use atoti to compute the number of competitors per area."
   ]
  },
  {
   "cell_type": "code",
   "execution_count": 6,
   "metadata": {},
   "outputs": [],
   "source": [
    "session = tt.create_session()"
   ]
  },
  {
   "cell_type": "code",
   "execution_count": 7,
   "metadata": {},
   "outputs": [],
   "source": [
    "distances_matrix = session.read_pandas(\n",
    "    stores_distances_matrix,\n",
    "    keys=[\"StoreId\", \"CompetitorStoreId\"],\n",
    "    store_name=\"Distances to competitor stores\",\n",
    ")"
   ]
  },
  {
   "cell_type": "code",
   "execution_count": 8,
   "metadata": {},
   "outputs": [],
   "source": [
    "distances_cube = session.create_cube(distances_matrix, \"Distances cube\")"
   ]
  },
  {
   "cell_type": "code",
   "execution_count": 9,
   "metadata": {},
   "outputs": [],
   "source": [
    "m = distances_cube.measures\n",
    "lvl = distances_cube.levels"
   ]
  },
  {
   "cell_type": "code",
   "execution_count": 10,
   "metadata": {},
   "outputs": [],
   "source": [
    "m[\"Competitors_1_KM\"] = tt.agg.sum(\n",
    "    tt.where((m[\"Competitor distance KM.SUM\"] < 1), m[\"contributors.COUNT\"], 0),\n",
    "    scope=tt.scope.origin(lvl[\"StoreId\"], lvl[\"CompetitorStoreId\"]),\n",
    ")\n",
    "\n",
    "m[\"Competitors_5_KM\"] = tt.agg.sum(\n",
    "    tt.where((m[\"Competitor distance KM.SUM\"] < 5), m[\"contributors.COUNT\"], 0),\n",
    "    scope=tt.scope.origin(lvl[\"StoreId\"], lvl[\"CompetitorStoreId\"]),\n",
    ")\n",
    "\n",
    "m[\"Competitors_10_KM\"] = tt.agg.sum(\n",
    "    tt.where((m[\"Competitor distance KM.SUM\"] < 10), m[\"contributors.COUNT\"], 0),\n",
    "    scope=tt.scope.origin(lvl[\"StoreId\"], lvl[\"CompetitorStoreId\"]),\n",
    ")\n",
    "\n",
    "m[\"Competitors_20_KM\"] = tt.agg.sum(\n",
    "    tt.where((m[\"Competitor distance KM.SUM\"] < 20), m[\"contributors.COUNT\"], 0),\n",
    "    scope=tt.scope.origin(lvl[\"StoreId\"], lvl[\"CompetitorStoreId\"]),\n",
    ")"
   ]
  },
  {
   "cell_type": "markdown",
   "metadata": {},
   "source": [
    "We will then use an atoti query to generate a pandas dataframe that contains the number of competitors in each area (columns) against the stores (rows).  \n",
    "In the later section, we will see how this dataframe is used as inputs for machine learning."
   ]
  },
  {
   "cell_type": "code",
   "execution_count": 11,
   "metadata": {},
   "outputs": [
    {
     "data": {
      "text/html": [
       "<div>\n",
       "<style scoped>\n",
       "    .dataframe tbody tr th:only-of-type {\n",
       "        vertical-align: middle;\n",
       "    }\n",
       "\n",
       "    .dataframe tbody tr th {\n",
       "        vertical-align: top;\n",
       "    }\n",
       "\n",
       "    .dataframe thead th {\n",
       "        text-align: right;\n",
       "    }\n",
       "</style>\n",
       "<table border=\"1\" class=\"dataframe\">\n",
       "  <thead>\n",
       "    <tr style=\"text-align: right;\">\n",
       "      <th></th>\n",
       "      <th></th>\n",
       "      <th>Competitors_1_KM</th>\n",
       "      <th>Competitors_5_KM</th>\n",
       "      <th>Competitors_10_KM</th>\n",
       "      <th>Competitors_20_KM</th>\n",
       "    </tr>\n",
       "    <tr>\n",
       "      <th>StoreId</th>\n",
       "      <th>StoreName</th>\n",
       "      <th></th>\n",
       "      <th></th>\n",
       "      <th></th>\n",
       "      <th></th>\n",
       "    </tr>\n",
       "  </thead>\n",
       "  <tbody>\n",
       "    <tr>\n",
       "      <th>1</th>\n",
       "      <th>ActiveViam Store Paris 1er</th>\n",
       "      <td>11</td>\n",
       "      <td>51</td>\n",
       "      <td>66</td>\n",
       "      <td>71</td>\n",
       "    </tr>\n",
       "    <tr>\n",
       "      <th>2</th>\n",
       "      <th>ActiveViam Store Paris 15</th>\n",
       "      <td>5</td>\n",
       "      <td>46</td>\n",
       "      <td>61</td>\n",
       "      <td>71</td>\n",
       "    </tr>\n",
       "    <tr>\n",
       "      <th>3</th>\n",
       "      <th>ActiveViam Store Paris 18</th>\n",
       "      <td>5</td>\n",
       "      <td>36</td>\n",
       "      <td>71</td>\n",
       "      <td>71</td>\n",
       "    </tr>\n",
       "    <tr>\n",
       "      <th>4</th>\n",
       "      <th>ActiveViam Store Paris 12</th>\n",
       "      <td>5</td>\n",
       "      <td>31</td>\n",
       "      <td>61</td>\n",
       "      <td>71</td>\n",
       "    </tr>\n",
       "    <tr>\n",
       "      <th>5</th>\n",
       "      <th>ActiveViam Store Paris 16</th>\n",
       "      <td>5</td>\n",
       "      <td>36</td>\n",
       "      <td>56</td>\n",
       "      <td>71</td>\n",
       "    </tr>\n",
       "  </tbody>\n",
       "</table>\n",
       "</div>"
      ],
      "text/plain": [
       "                                    Competitors_1_KM  Competitors_5_KM  \\\n",
       "StoreId StoreName                                                        \n",
       "1       ActiveViam Store Paris 1er                11                51   \n",
       "2       ActiveViam Store Paris 15                  5                46   \n",
       "3       ActiveViam Store Paris 18                  5                36   \n",
       "4       ActiveViam Store Paris 12                  5                31   \n",
       "5       ActiveViam Store Paris 16                  5                36   \n",
       "\n",
       "                                    Competitors_10_KM  Competitors_20_KM  \n",
       "StoreId StoreName                                                         \n",
       "1       ActiveViam Store Paris 1er                 66                 71  \n",
       "2       ActiveViam Store Paris 15                  61                 71  \n",
       "3       ActiveViam Store Paris 18                  71                 71  \n",
       "4       ActiveViam Store Paris 12                  61                 71  \n",
       "5       ActiveViam Store Paris 16                  56                 71  "
      ]
     },
     "execution_count": 11,
     "metadata": {},
     "output_type": "execute_result"
    }
   ],
   "source": [
    "stores_competitors_count_per_area = distances_cube.query(\n",
    "    m[\"Competitors_1_KM\"],\n",
    "    m[\"Competitors_5_KM\"],\n",
    "    m[\"Competitors_10_KM\"],\n",
    "    m[\"Competitors_20_KM\"],\n",
    "    levels=[lvl[\"StoreId\"], lvl[\"StoreName\"]],\n",
    ")\n",
    "stores_competitors_count_per_area.head()"
   ]
  },
  {
   "cell_type": "markdown",
   "metadata": {},
   "source": [
    "### 2. Computing the price index per store\n",
    "\n",
    "There are different existing formulas for the price index but the idea behind is always the same: the price index is a measurement of where a retailer is positioned compared to one or multiple of its competitors.\n",
    "\n",
    "The formula we will use in this example compares a product price to the average price found among the local competitors of a particular store, measuring at which percentage of this average competitors price the product is.\n",
    "\n",
    "We will weight the price index indicator by the margin when aggregating above store and product level. This is so that we can later optimize the price index for products that contribute the most to the margin.  \n",
    "Other commonly used formulas weight by sales quantity or revenue.\n",
    "\n",
    "#### Price index formula:\n",
    "\n",
    "# $100 \\times \\frac{\\sum_{s,p \\in (Stores,Products)}\\frac{Selling Price(s,p)}{Average Competitor Price(s,p)} \\times Margin(s,p)}{\\sum_{s,p \\in (Stores,Products)}Margin(s,p)}$"
   ]
  },
  {
   "cell_type": "code",
   "execution_count": 12,
   "metadata": {},
   "outputs": [
    {
     "name": "stderr",
     "output_type": "stream",
     "text": [
      "The store has been sampled because there are more than 10000 lines in the files to load. Call Session.load_all_data() to trigger the full load of the data.\n"
     ]
    }
   ],
   "source": [
    "competitorPrices_store = session.read_csv(\n",
    "    \"s3://data.atoti.io/notebooks/geopricing/competitor_prices.csv\",\n",
    "    sep=\";\",\n",
    "    keys=[\"ProductId\", \"CompetitorStoreId\", \"StoreId\"],\n",
    "    store_name=\"CompetitorPrices\",\n",
    ")"
   ]
  },
  {
   "cell_type": "code",
   "execution_count": 13,
   "metadata": {},
   "outputs": [],
   "source": [
    "competitorStore_store = session.read_csv(\n",
    "    \"s3://data.atoti.io/notebooks/geopricing/competitor_stores.csv\",\n",
    "    sep=\";\",\n",
    "    keys=[\"CompetitorStoreId\"],\n",
    "    store_name=\"CompetitorsStores\",\n",
    ")"
   ]
  },
  {
   "cell_type": "code",
   "execution_count": 14,
   "metadata": {},
   "outputs": [],
   "source": [
    "#  We used pandas to read the selling price here as we will be using it again for price optimisation in the later section.\n",
    "initial_selling_prices = pd.read_csv(\n",
    "    \"https://data.atoti.io/notebooks/geopricing/selling_prices.csv\",\n",
    "    sep=\";\",\n",
    "    dtype={\"ProductId\": \"int32\", \"StoreId\": \"int32\"},\n",
    ")\n",
    "\n",
    "sellingPrices_store = session.read_pandas(\n",
    "    initial_selling_prices, keys=[\"ProductId\", \"StoreId\"], store_name=\"SellingPrices\",\n",
    ")"
   ]
  },
  {
   "cell_type": "code",
   "execution_count": 15,
   "metadata": {},
   "outputs": [],
   "source": [
    "products_store = session.read_csv(\n",
    "    \"s3://data.atoti.io/notebooks/geopricing/products_info.csv\",\n",
    "    sep=\";\",\n",
    "    keys=[\"ProductId\"],\n",
    "    store_name=\"Products\",\n",
    ")"
   ]
  },
  {
   "cell_type": "code",
   "execution_count": 16,
   "metadata": {},
   "outputs": [],
   "source": [
    "stores_store = session.read_csv(\n",
    "    \"s3://data.atoti.io/notebooks/geopricing/stores.csv\",\n",
    "    sep=\";\",\n",
    "    keys=[\"StoreId\"],\n",
    "    store_name=\"Stores\",\n",
    ")"
   ]
  },
  {
   "cell_type": "code",
   "execution_count": 17,
   "metadata": {},
   "outputs": [],
   "source": [
    "margin_per_product_and_store = session.read_csv(\n",
    "    \"s3://data.atoti.io/notebooks/geopricing/margin_per_product_store.csv\",\n",
    "    sep=\";\",\n",
    "    keys=[\"ProductId\", \"StoreId\"],\n",
    "    store_name=\"MarginPerProductAndStore\",\n",
    ")"
   ]
  },
  {
   "cell_type": "code",
   "execution_count": 18,
   "metadata": {},
   "outputs": [],
   "source": [
    "competitorPrices_store.join(\n",
    "    sellingPrices_store, mapping={\"ProductId\": \"ProductId\", \"StoreId\": \"StoreId\"}\n",
    ")\n",
    "competitorPrices_store.join(products_store, mapping={\"ProductId\": \"ProductId\"})\n",
    "competitorPrices_store.join(stores_store, mapping={\"StoreId\": \"StoreId\"})\n",
    "competitorPrices_store.join(\n",
    "    competitorStore_store, mapping={\"CompetitorStoreId\": \"CompetitorStoreId\"},\n",
    ")\n",
    "competitorPrices_store.join(\n",
    "    margin_per_product_and_store,\n",
    "    mapping={\"ProductId\": \"ProductId\", \"StoreId\": \"StoreId\"},\n",
    ")"
   ]
  },
  {
   "cell_type": "code",
   "execution_count": 19,
   "metadata": {},
   "outputs": [],
   "source": [
    "price_index_cube = session.create_cube(competitorPrices_store, \"CompetitorPricesCube\")"
   ]
  },
  {
   "cell_type": "code",
   "execution_count": 20,
   "metadata": {},
   "outputs": [
    {
     "data": {
      "image/svg+xml": [
       "<svg xmlns=\"http://www.w3.org/2000/svg\" xmlns:xlink=\"http://www.w3.org/1999/xlink\" width=\"715px\" height=\"1564px\" viewBox=\"0.00 0.00 715.00 1564.00\">\n",
       "<g id=\"graph0\" class=\"graph\" transform=\"scale(1.0 1.0) rotate(0) translate(4 1560)\">\n",
       "<title>CompetitorPricesCube schema</title>\n",
       "<polygon fill=\"white\" stroke=\"none\" points=\"-4,4 -4,-1560 711,-1560 711,4 -4,4\"/>\n",
       "<!-- CompetitorPrices -->\n",
       "<g id=\"node1\" class=\"node\"><title>CompetitorPrices</title>\n",
       "<polygon fill=\"none\" stroke=\"black\" points=\"8.5,-814 8.5,-851 193.5,-851 193.5,-814 8.5,-814\"/>\n",
       "<text text-anchor=\"start\" x=\"46.5\" y=\"-829.8\" font-family=\"Times New Roman,serif\" font-weight=\"bold\" font-size=\"14.00\">CompetitorPrices</text>\n",
       "<polygon fill=\"none\" stroke=\"black\" points=\"8.5,-777 8.5,-814 193.5,-814 193.5,-777 8.5,-777\"/>\n",
       "<text text-anchor=\"start\" x=\"19.5\" y=\"-792.8\" font-family=\"Times New Roman,serif\" font-weight=\"bold\" font-size=\"14.00\">Key</text>\n",
       "<text text-anchor=\"start\" x=\"44.5\" y=\"-792.8\" font-family=\"Times New Roman,serif\" font-size=\"14.00\">  ProductId </text>\n",
       "<text text-anchor=\"start\" x=\"113.5\" y=\"-792.8\" font-family=\"Times New Roman,serif\" font-style=\"italic\" font-size=\"14.00\">int</text>\n",
       "<text text-anchor=\"start\" x=\"129.5\" y=\"-792.8\" font-family=\"Times New Roman,serif\" font-size=\"14.00\"> </text>\n",
       "<polygon fill=\"none\" stroke=\"black\" points=\"8.5,-740 8.5,-777 193.5,-777 193.5,-740 8.5,-740\"/>\n",
       "<text text-anchor=\"start\" x=\"19.5\" y=\"-755.8\" font-family=\"Times New Roman,serif\" font-weight=\"bold\" font-size=\"14.00\">Key</text>\n",
       "<text text-anchor=\"start\" x=\"44.5\" y=\"-755.8\" font-family=\"Times New Roman,serif\" font-size=\"14.00\">  CompetitorStoreId </text>\n",
       "<text text-anchor=\"start\" x=\"162.5\" y=\"-755.8\" font-family=\"Times New Roman,serif\" font-style=\"italic\" font-size=\"14.00\">int</text>\n",
       "<text text-anchor=\"start\" x=\"178.5\" y=\"-755.8\" font-family=\"Times New Roman,serif\" font-size=\"14.00\"> </text>\n",
       "<polygon fill=\"none\" stroke=\"black\" points=\"8.5,-703 8.5,-740 193.5,-740 193.5,-703 8.5,-703\"/>\n",
       "<text text-anchor=\"start\" x=\"19.5\" y=\"-718.8\" font-family=\"Times New Roman,serif\" font-weight=\"bold\" font-size=\"14.00\">Key</text>\n",
       "<text text-anchor=\"start\" x=\"44.5\" y=\"-718.8\" font-family=\"Times New Roman,serif\" font-size=\"14.00\">  StoreId </text>\n",
       "<text text-anchor=\"start\" x=\"98.5\" y=\"-718.8\" font-family=\"Times New Roman,serif\" font-style=\"italic\" font-size=\"14.00\">int</text>\n",
       "<text text-anchor=\"start\" x=\"114.5\" y=\"-718.8\" font-family=\"Times New Roman,serif\" font-size=\"14.00\"> </text>\n",
       "<polygon fill=\"none\" stroke=\"black\" points=\"8.5,-666 8.5,-703 193.5,-703 193.5,-666 8.5,-666\"/>\n",
       "<text text-anchor=\"start\" x=\"19.5\" y=\"-681.8\" font-family=\"Times New Roman,serif\" font-size=\"14.00\">CompetitorPrice </text>\n",
       "<text text-anchor=\"start\" x=\"116.5\" y=\"-681.8\" font-family=\"Times New Roman,serif\" font-style=\"italic\" font-size=\"14.00\">double</text>\n",
       "<text text-anchor=\"start\" x=\"156.5\" y=\"-681.8\" font-family=\"Times New Roman,serif\" font-size=\"14.00\"> </text>\n",
       "</g>\n",
       "<!-- SellingPrices -->\n",
       "<g id=\"node2\" class=\"node\"><title>SellingPrices</title>\n",
       "<polygon fill=\"none\" stroke=\"black\" points=\"521,-1515 521,-1552 657,-1552 657,-1515 521,-1515\"/>\n",
       "<text text-anchor=\"start\" x=\"549\" y=\"-1530.8\" font-family=\"Times New Roman,serif\" font-weight=\"bold\" font-size=\"14.00\">SellingPrices</text>\n",
       "<polygon fill=\"none\" stroke=\"black\" points=\"521,-1478 521,-1515 657,-1515 657,-1478 521,-1478\"/>\n",
       "<text text-anchor=\"start\" x=\"532\" y=\"-1493.8\" font-family=\"Times New Roman,serif\" font-weight=\"bold\" font-size=\"14.00\">Key</text>\n",
       "<text text-anchor=\"start\" x=\"557\" y=\"-1493.8\" font-family=\"Times New Roman,serif\" font-size=\"14.00\">  ProductId </text>\n",
       "<text text-anchor=\"start\" x=\"626\" y=\"-1493.8\" font-family=\"Times New Roman,serif\" font-style=\"italic\" font-size=\"14.00\">int</text>\n",
       "<text text-anchor=\"start\" x=\"642\" y=\"-1493.8\" font-family=\"Times New Roman,serif\" font-size=\"14.00\"> </text>\n",
       "<polygon fill=\"none\" stroke=\"black\" points=\"521,-1441 521,-1478 657,-1478 657,-1441 521,-1441\"/>\n",
       "<text text-anchor=\"start\" x=\"532\" y=\"-1456.8\" font-family=\"Times New Roman,serif\" font-weight=\"bold\" font-size=\"14.00\">Key</text>\n",
       "<text text-anchor=\"start\" x=\"557\" y=\"-1456.8\" font-family=\"Times New Roman,serif\" font-size=\"14.00\">  StoreId </text>\n",
       "<text text-anchor=\"start\" x=\"611\" y=\"-1456.8\" font-family=\"Times New Roman,serif\" font-style=\"italic\" font-size=\"14.00\">int</text>\n",
       "<text text-anchor=\"start\" x=\"627\" y=\"-1456.8\" font-family=\"Times New Roman,serif\" font-size=\"14.00\"> </text>\n",
       "<polygon fill=\"none\" stroke=\"black\" points=\"521,-1404 521,-1441 657,-1441 657,-1404 521,-1404\"/>\n",
       "<text text-anchor=\"start\" x=\"532\" y=\"-1419.8\" font-family=\"Times New Roman,serif\" font-size=\"14.00\">SellingPrice </text>\n",
       "<text text-anchor=\"start\" x=\"602\" y=\"-1419.8\" font-family=\"Times New Roman,serif\" font-style=\"italic\" font-size=\"14.00\">double</text>\n",
       "<text text-anchor=\"start\" x=\"642\" y=\"-1419.8\" font-family=\"Times New Roman,serif\" font-size=\"14.00\"> </text>\n",
       "</g>\n",
       "<!-- CompetitorPrices&#45;&gt;SellingPrices -->\n",
       "<g id=\"edge5\" class=\"edge\"><title>CompetitorPrices-&gt;SellingPrices</title>\n",
       "<path fill=\"none\" stroke=\"black\" d=\"M129.561,-855.567C149.921,-918.738 180.589,-1001.87 219,-1070 308.081,-1227.99 341.08,-1264.44 471,-1391 481.386,-1401.12 492.982,-1411.06 504.726,-1420.41\"/>\n",
       "<polygon fill=\"black\" stroke=\"black\" points=\"502.834,-1423.37 512.868,-1426.77 507.147,-1417.86 502.834,-1423.37\"/>\n",
       "<text text-anchor=\"middle\" x=\"336\" y=\"-1387.8\" font-family=\"Times New Roman,serif\" font-size=\"14.00\">StoreId → StoreId</text>\n",
       "<text text-anchor=\"middle\" x=\"336\" y=\"-1372.8\" font-family=\"Times New Roman,serif\" font-size=\"14.00\">ProductId → ProductId</text>\n",
       "</g>\n",
       "<!-- Products -->\n",
       "<g id=\"node3\" class=\"node\"><title>Products</title>\n",
       "<polygon fill=\"none\" stroke=\"black\" points=\"513,-1340 513,-1377 666,-1377 666,-1340 513,-1340\"/>\n",
       "<text text-anchor=\"start\" x=\"562\" y=\"-1355.8\" font-family=\"Times New Roman,serif\" font-weight=\"bold\" font-size=\"14.00\">Products</text>\n",
       "<polygon fill=\"none\" stroke=\"black\" points=\"513,-1303 513,-1340 666,-1340 666,-1303 513,-1303\"/>\n",
       "<text text-anchor=\"start\" x=\"524\" y=\"-1318.8\" font-family=\"Times New Roman,serif\" font-weight=\"bold\" font-size=\"14.00\">Key</text>\n",
       "<text text-anchor=\"start\" x=\"549\" y=\"-1318.8\" font-family=\"Times New Roman,serif\" font-size=\"14.00\">  ProductId </text>\n",
       "<text text-anchor=\"start\" x=\"618\" y=\"-1318.8\" font-family=\"Times New Roman,serif\" font-style=\"italic\" font-size=\"14.00\">int</text>\n",
       "<text text-anchor=\"start\" x=\"634\" y=\"-1318.8\" font-family=\"Times New Roman,serif\" font-size=\"14.00\"> </text>\n",
       "<polygon fill=\"none\" stroke=\"black\" points=\"513,-1266 513,-1303 666,-1303 666,-1266 513,-1266\"/>\n",
       "<text text-anchor=\"start\" x=\"524\" y=\"-1281.8\" font-family=\"Times New Roman,serif\" font-size=\"14.00\">EAN </text>\n",
       "<text text-anchor=\"start\" x=\"556\" y=\"-1281.8\" font-family=\"Times New Roman,serif\" font-style=\"italic\" font-size=\"14.00\">long</text>\n",
       "<text text-anchor=\"start\" x=\"582\" y=\"-1281.8\" font-family=\"Times New Roman,serif\" font-size=\"14.00\"> </text>\n",
       "<polygon fill=\"none\" stroke=\"black\" points=\"513,-1229 513,-1266 666,-1266 666,-1229 513,-1229\"/>\n",
       "<text text-anchor=\"start\" x=\"524\" y=\"-1244.8\" font-family=\"Times New Roman,serif\" font-size=\"14.00\">ProductName </text>\n",
       "<text text-anchor=\"start\" x=\"606\" y=\"-1244.8\" font-family=\"Times New Roman,serif\" font-style=\"italic\" font-size=\"14.00\">String</text>\n",
       "<text text-anchor=\"start\" x=\"642\" y=\"-1244.8\" font-family=\"Times New Roman,serif\" font-size=\"14.00\"> </text>\n",
       "<polygon fill=\"none\" stroke=\"black\" points=\"513,-1192 513,-1229 666,-1229 666,-1192 513,-1192\"/>\n",
       "<text text-anchor=\"start\" x=\"524\" y=\"-1207.8\" font-family=\"Times New Roman,serif\" font-size=\"14.00\">Brand </text>\n",
       "<text text-anchor=\"start\" x=\"562\" y=\"-1207.8\" font-family=\"Times New Roman,serif\" font-style=\"italic\" font-size=\"14.00\">String</text>\n",
       "<text text-anchor=\"start\" x=\"598\" y=\"-1207.8\" font-family=\"Times New Roman,serif\" font-size=\"14.00\"> </text>\n",
       "<polygon fill=\"none\" stroke=\"black\" points=\"513,-1155 513,-1192 666,-1192 666,-1155 513,-1155\"/>\n",
       "<text text-anchor=\"start\" x=\"524\" y=\"-1170.8\" font-family=\"Times New Roman,serif\" font-size=\"14.00\">Size </text>\n",
       "<text text-anchor=\"start\" x=\"552\" y=\"-1170.8\" font-family=\"Times New Roman,serif\" font-style=\"italic\" font-size=\"14.00\">String</text>\n",
       "<text text-anchor=\"start\" x=\"588\" y=\"-1170.8\" font-family=\"Times New Roman,serif\" font-size=\"14.00\"> </text>\n",
       "<polygon fill=\"none\" stroke=\"black\" points=\"513,-1118 513,-1155 666,-1155 666,-1118 513,-1118\"/>\n",
       "<text text-anchor=\"start\" x=\"524\" y=\"-1133.8\" font-family=\"Times New Roman,serif\" font-size=\"14.00\">Unit </text>\n",
       "<text text-anchor=\"start\" x=\"552\" y=\"-1133.8\" font-family=\"Times New Roman,serif\" font-style=\"italic\" font-size=\"14.00\">String</text>\n",
       "<text text-anchor=\"start\" x=\"588\" y=\"-1133.8\" font-family=\"Times New Roman,serif\" font-size=\"14.00\"> </text>\n",
       "<polygon fill=\"none\" stroke=\"black\" points=\"513,-1081 513,-1118 666,-1118 666,-1081 513,-1081\"/>\n",
       "<text text-anchor=\"start\" x=\"524\" y=\"-1096.8\" font-family=\"Times New Roman,serif\" font-size=\"14.00\">Department </text>\n",
       "<text text-anchor=\"start\" x=\"593\" y=\"-1096.8\" font-family=\"Times New Roman,serif\" font-style=\"italic\" font-size=\"14.00\">String</text>\n",
       "<text text-anchor=\"start\" x=\"629\" y=\"-1096.8\" font-family=\"Times New Roman,serif\" font-size=\"14.00\"> </text>\n",
       "<polygon fill=\"none\" stroke=\"black\" points=\"513,-1044 513,-1081 666,-1081 666,-1044 513,-1044\"/>\n",
       "<text text-anchor=\"start\" x=\"524\" y=\"-1059.8\" font-family=\"Times New Roman,serif\" font-size=\"14.00\">SubDepartment </text>\n",
       "<text text-anchor=\"start\" x=\"615\" y=\"-1059.8\" font-family=\"Times New Roman,serif\" font-style=\"italic\" font-size=\"14.00\">String</text>\n",
       "<text text-anchor=\"start\" x=\"651\" y=\"-1059.8\" font-family=\"Times New Roman,serif\" font-size=\"14.00\"> </text>\n",
       "<polygon fill=\"none\" stroke=\"black\" points=\"513,-1007 513,-1044 666,-1044 666,-1007 513,-1007\"/>\n",
       "<text text-anchor=\"start\" x=\"524\" y=\"-1022.8\" font-family=\"Times New Roman,serif\" font-size=\"14.00\">Category </text>\n",
       "<text text-anchor=\"start\" x=\"579\" y=\"-1022.8\" font-family=\"Times New Roman,serif\" font-style=\"italic\" font-size=\"14.00\">String</text>\n",
       "<text text-anchor=\"start\" x=\"615\" y=\"-1022.8\" font-family=\"Times New Roman,serif\" font-size=\"14.00\"> </text>\n",
       "<polygon fill=\"none\" stroke=\"black\" points=\"513,-970 513,-1007 666,-1007 666,-970 513,-970\"/>\n",
       "<text text-anchor=\"start\" x=\"524\" y=\"-985.8\" font-family=\"Times New Roman,serif\" font-size=\"14.00\">SubCategory </text>\n",
       "<text text-anchor=\"start\" x=\"602\" y=\"-985.8\" font-family=\"Times New Roman,serif\" font-style=\"italic\" font-size=\"14.00\">String</text>\n",
       "<text text-anchor=\"start\" x=\"638\" y=\"-985.8\" font-family=\"Times New Roman,serif\" font-size=\"14.00\"> </text>\n",
       "</g>\n",
       "<!-- CompetitorPrices&#45;&gt;Products -->\n",
       "<g id=\"edge4\" class=\"edge\"><title>CompetitorPrices-&gt;Products</title>\n",
       "<path fill=\"none\" stroke=\"black\" d=\"M201.124,-843.983C287.793,-917.914 412.36,-1024.17 496.536,-1095.98\"/>\n",
       "<polygon fill=\"black\" stroke=\"black\" points=\"494.42,-1098.77 504.3,-1102.6 498.963,-1093.45 494.42,-1098.77\"/>\n",
       "<text text-anchor=\"middle\" x=\"336\" y=\"-1054.8\" font-family=\"Times New Roman,serif\" font-size=\"14.00\">ProductId → ProductId</text>\n",
       "</g>\n",
       "<!-- Stores -->\n",
       "<g id=\"node4\" class=\"node\"><title>Stores</title>\n",
       "<polygon fill=\"none\" stroke=\"black\" points=\"525,-907 525,-944 654,-944 654,-907 525,-907\"/>\n",
       "<text text-anchor=\"start\" x=\"569.5\" y=\"-922.8\" font-family=\"Times New Roman,serif\" font-weight=\"bold\" font-size=\"14.00\">Stores</text>\n",
       "<polygon fill=\"none\" stroke=\"black\" points=\"525,-870 525,-907 654,-907 654,-870 525,-870\"/>\n",
       "<text text-anchor=\"start\" x=\"536\" y=\"-885.8\" font-family=\"Times New Roman,serif\" font-weight=\"bold\" font-size=\"14.00\">Key</text>\n",
       "<text text-anchor=\"start\" x=\"561\" y=\"-885.8\" font-family=\"Times New Roman,serif\" font-size=\"14.00\">  StoreId </text>\n",
       "<text text-anchor=\"start\" x=\"615\" y=\"-885.8\" font-family=\"Times New Roman,serif\" font-style=\"italic\" font-size=\"14.00\">int</text>\n",
       "<text text-anchor=\"start\" x=\"631\" y=\"-885.8\" font-family=\"Times New Roman,serif\" font-size=\"14.00\"> </text>\n",
       "<polygon fill=\"none\" stroke=\"black\" points=\"525,-833 525,-870 654,-870 654,-833 525,-833\"/>\n",
       "<text text-anchor=\"start\" x=\"536\" y=\"-848.8\" font-family=\"Times New Roman,serif\" font-size=\"14.00\">StoreName </text>\n",
       "<text text-anchor=\"start\" x=\"603\" y=\"-848.8\" font-family=\"Times New Roman,serif\" font-style=\"italic\" font-size=\"14.00\">String</text>\n",
       "<text text-anchor=\"start\" x=\"639\" y=\"-848.8\" font-family=\"Times New Roman,serif\" font-size=\"14.00\"> </text>\n",
       "<polygon fill=\"none\" stroke=\"black\" points=\"525,-796 525,-833 654,-833 654,-796 525,-796\"/>\n",
       "<text text-anchor=\"start\" x=\"536\" y=\"-811.8\" font-family=\"Times New Roman,serif\" font-size=\"14.00\">Adress </text>\n",
       "<text text-anchor=\"start\" x=\"580\" y=\"-811.8\" font-family=\"Times New Roman,serif\" font-style=\"italic\" font-size=\"14.00\">String</text>\n",
       "<text text-anchor=\"start\" x=\"616\" y=\"-811.8\" font-family=\"Times New Roman,serif\" font-size=\"14.00\"> </text>\n",
       "<polygon fill=\"none\" stroke=\"black\" points=\"525,-759 525,-796 654,-796 654,-759 525,-759\"/>\n",
       "<text text-anchor=\"start\" x=\"536\" y=\"-774.8\" font-family=\"Times New Roman,serif\" font-size=\"14.00\">ZipCode </text>\n",
       "<text text-anchor=\"start\" x=\"590\" y=\"-774.8\" font-family=\"Times New Roman,serif\" font-style=\"italic\" font-size=\"14.00\">int</text>\n",
       "<text text-anchor=\"start\" x=\"606\" y=\"-774.8\" font-family=\"Times New Roman,serif\" font-size=\"14.00\"> </text>\n",
       "<polygon fill=\"none\" stroke=\"black\" points=\"525,-722 525,-759 654,-759 654,-722 525,-722\"/>\n",
       "<text text-anchor=\"start\" x=\"536\" y=\"-737.8\" font-family=\"Times New Roman,serif\" font-size=\"14.00\">City </text>\n",
       "<text text-anchor=\"start\" x=\"564\" y=\"-737.8\" font-family=\"Times New Roman,serif\" font-style=\"italic\" font-size=\"14.00\">String</text>\n",
       "<text text-anchor=\"start\" x=\"600\" y=\"-737.8\" font-family=\"Times New Roman,serif\" font-size=\"14.00\"> </text>\n",
       "<polygon fill=\"none\" stroke=\"black\" points=\"525,-685 525,-722 654,-722 654,-685 525,-685\"/>\n",
       "<text text-anchor=\"start\" x=\"536\" y=\"-700.8\" font-family=\"Times New Roman,serif\" font-size=\"14.00\">Country </text>\n",
       "<text text-anchor=\"start\" x=\"586\" y=\"-700.8\" font-family=\"Times New Roman,serif\" font-style=\"italic\" font-size=\"14.00\">String</text>\n",
       "<text text-anchor=\"start\" x=\"622\" y=\"-700.8\" font-family=\"Times New Roman,serif\" font-size=\"14.00\"> </text>\n",
       "<polygon fill=\"none\" stroke=\"black\" points=\"525,-648 525,-685 654,-685 654,-648 525,-648\"/>\n",
       "<text text-anchor=\"start\" x=\"536\" y=\"-663.8\" font-family=\"Times New Roman,serif\" font-size=\"14.00\">Latitude </text>\n",
       "<text text-anchor=\"start\" x=\"585\" y=\"-663.8\" font-family=\"Times New Roman,serif\" font-style=\"italic\" font-size=\"14.00\">double</text>\n",
       "<text text-anchor=\"start\" x=\"625\" y=\"-663.8\" font-family=\"Times New Roman,serif\" font-size=\"14.00\"> </text>\n",
       "<polygon fill=\"none\" stroke=\"black\" points=\"525,-611 525,-648 654,-648 654,-611 525,-611\"/>\n",
       "<text text-anchor=\"start\" x=\"536\" y=\"-626.8\" font-family=\"Times New Roman,serif\" font-size=\"14.00\">Longitude </text>\n",
       "<text text-anchor=\"start\" x=\"597\" y=\"-626.8\" font-family=\"Times New Roman,serif\" font-style=\"italic\" font-size=\"14.00\">double</text>\n",
       "<text text-anchor=\"start\" x=\"637\" y=\"-626.8\" font-family=\"Times New Roman,serif\" font-size=\"14.00\"> </text>\n",
       "<polygon fill=\"none\" stroke=\"black\" points=\"525,-574 525,-611 654,-611 654,-574 525,-574\"/>\n",
       "<text text-anchor=\"start\" x=\"536\" y=\"-589.8\" font-family=\"Times New Roman,serif\" font-size=\"14.00\">Company </text>\n",
       "<text text-anchor=\"start\" x=\"595\" y=\"-589.8\" font-family=\"Times New Roman,serif\" font-style=\"italic\" font-size=\"14.00\">String</text>\n",
       "<text text-anchor=\"start\" x=\"631\" y=\"-589.8\" font-family=\"Times New Roman,serif\" font-size=\"14.00\"> </text>\n",
       "</g>\n",
       "<!-- CompetitorPrices&#45;&gt;Stores -->\n",
       "<g id=\"edge3\" class=\"edge\"><title>CompetitorPrices-&gt;Stores</title>\n",
       "<path fill=\"none\" stroke=\"black\" d=\"M201.124,-759C291.148,-759 422.062,-759 506.126,-759\"/>\n",
       "<polygon fill=\"black\" stroke=\"black\" points=\"506.14,-762.5 516.14,-759 506.14,-755.5 506.14,-762.5\"/>\n",
       "<text text-anchor=\"middle\" x=\"336\" y=\"-762.8\" font-family=\"Times New Roman,serif\" font-size=\"14.00\">StoreId → StoreId</text>\n",
       "</g>\n",
       "<!-- CompetitorsStores -->\n",
       "<g id=\"node5\" class=\"node\"><title>CompetitorsStores</title>\n",
       "<polygon fill=\"none\" stroke=\"black\" points=\"479,-511 479,-548 699,-548 699,-511 479,-511\"/>\n",
       "<text text-anchor=\"start\" x=\"531.5\" y=\"-526.8\" font-family=\"Times New Roman,serif\" font-weight=\"bold\" font-size=\"14.00\">CompetitorsStores</text>\n",
       "<polygon fill=\"none\" stroke=\"black\" points=\"479,-474 479,-511 699,-511 699,-474 479,-474\"/>\n",
       "<text text-anchor=\"start\" x=\"490\" y=\"-489.8\" font-family=\"Times New Roman,serif\" font-weight=\"bold\" font-size=\"14.00\">Key</text>\n",
       "<text text-anchor=\"start\" x=\"515\" y=\"-489.8\" font-family=\"Times New Roman,serif\" font-size=\"14.00\">  CompetitorStoreId </text>\n",
       "<text text-anchor=\"start\" x=\"633\" y=\"-489.8\" font-family=\"Times New Roman,serif\" font-style=\"italic\" font-size=\"14.00\">int</text>\n",
       "<text text-anchor=\"start\" x=\"649\" y=\"-489.8\" font-family=\"Times New Roman,serif\" font-size=\"14.00\"> </text>\n",
       "<polygon fill=\"none\" stroke=\"black\" points=\"479,-437 479,-474 699,-474 699,-437 479,-437\"/>\n",
       "<text text-anchor=\"start\" x=\"490\" y=\"-452.8\" font-family=\"Times New Roman,serif\" font-size=\"14.00\">CompetitorStoreName </text>\n",
       "<text text-anchor=\"start\" x=\"620\" y=\"-452.8\" font-family=\"Times New Roman,serif\" font-style=\"italic\" font-size=\"14.00\">String</text>\n",
       "<text text-anchor=\"start\" x=\"656\" y=\"-452.8\" font-family=\"Times New Roman,serif\" font-size=\"14.00\"> </text>\n",
       "<polygon fill=\"none\" stroke=\"black\" points=\"479,-400 479,-437 699,-437 699,-400 479,-400\"/>\n",
       "<text text-anchor=\"start\" x=\"490\" y=\"-415.8\" font-family=\"Times New Roman,serif\" font-size=\"14.00\">CompetitorStoreAdress </text>\n",
       "<text text-anchor=\"start\" x=\"628\" y=\"-415.8\" font-family=\"Times New Roman,serif\" font-style=\"italic\" font-size=\"14.00\">String</text>\n",
       "<text text-anchor=\"start\" x=\"664\" y=\"-415.8\" font-family=\"Times New Roman,serif\" font-size=\"14.00\"> </text>\n",
       "<polygon fill=\"none\" stroke=\"black\" points=\"479,-363 479,-400 699,-400 699,-363 479,-363\"/>\n",
       "<text text-anchor=\"start\" x=\"490\" y=\"-378.8\" font-family=\"Times New Roman,serif\" font-size=\"14.00\">CompetitorStoreZipCode </text>\n",
       "<text text-anchor=\"start\" x=\"638\" y=\"-378.8\" font-family=\"Times New Roman,serif\" font-style=\"italic\" font-size=\"14.00\">int</text>\n",
       "<text text-anchor=\"start\" x=\"654\" y=\"-378.8\" font-family=\"Times New Roman,serif\" font-size=\"14.00\"> </text>\n",
       "<polygon fill=\"none\" stroke=\"black\" points=\"479,-326 479,-363 699,-363 699,-326 479,-326\"/>\n",
       "<text text-anchor=\"start\" x=\"490\" y=\"-341.8\" font-family=\"Times New Roman,serif\" font-size=\"14.00\">CompetitorStoreCity </text>\n",
       "<text text-anchor=\"start\" x=\"611\" y=\"-341.8\" font-family=\"Times New Roman,serif\" font-style=\"italic\" font-size=\"14.00\">String</text>\n",
       "<text text-anchor=\"start\" x=\"647\" y=\"-341.8\" font-family=\"Times New Roman,serif\" font-size=\"14.00\"> </text>\n",
       "<polygon fill=\"none\" stroke=\"black\" points=\"479,-289 479,-326 699,-326 699,-289 479,-289\"/>\n",
       "<text text-anchor=\"start\" x=\"490\" y=\"-304.8\" font-family=\"Times New Roman,serif\" font-size=\"14.00\">CompetitorStoreCountry </text>\n",
       "<text text-anchor=\"start\" x=\"634\" y=\"-304.8\" font-family=\"Times New Roman,serif\" font-style=\"italic\" font-size=\"14.00\">String</text>\n",
       "<text text-anchor=\"start\" x=\"670\" y=\"-304.8\" font-family=\"Times New Roman,serif\" font-size=\"14.00\"> </text>\n",
       "<polygon fill=\"none\" stroke=\"black\" points=\"479,-252 479,-289 699,-289 699,-252 479,-252\"/>\n",
       "<text text-anchor=\"start\" x=\"490\" y=\"-267.8\" font-family=\"Times New Roman,serif\" font-size=\"14.00\">CompetitorStoreLatitude </text>\n",
       "<text text-anchor=\"start\" x=\"633\" y=\"-267.8\" font-family=\"Times New Roman,serif\" font-style=\"italic\" font-size=\"14.00\">double</text>\n",
       "<text text-anchor=\"start\" x=\"673\" y=\"-267.8\" font-family=\"Times New Roman,serif\" font-size=\"14.00\"> </text>\n",
       "<polygon fill=\"none\" stroke=\"black\" points=\"479,-215 479,-252 699,-252 699,-215 479,-215\"/>\n",
       "<text text-anchor=\"start\" x=\"490\" y=\"-230.8\" font-family=\"Times New Roman,serif\" font-size=\"14.00\">CompetitorStoreLongitude </text>\n",
       "<text text-anchor=\"start\" x=\"644\" y=\"-230.8\" font-family=\"Times New Roman,serif\" font-style=\"italic\" font-size=\"14.00\">double</text>\n",
       "<text text-anchor=\"start\" x=\"684\" y=\"-230.8\" font-family=\"Times New Roman,serif\" font-size=\"14.00\"> </text>\n",
       "<polygon fill=\"none\" stroke=\"black\" points=\"479,-178 479,-215 699,-215 699,-178 479,-178\"/>\n",
       "<text text-anchor=\"start\" x=\"490\" y=\"-193.8\" font-family=\"Times New Roman,serif\" font-size=\"14.00\">CompetitorStoreCompany </text>\n",
       "<text text-anchor=\"start\" x=\"643\" y=\"-193.8\" font-family=\"Times New Roman,serif\" font-style=\"italic\" font-size=\"14.00\">String</text>\n",
       "<text text-anchor=\"start\" x=\"679\" y=\"-193.8\" font-family=\"Times New Roman,serif\" font-size=\"14.00\"> </text>\n",
       "</g>\n",
       "<!-- CompetitorPrices&#45;&gt;CompetitorsStores -->\n",
       "<g id=\"edge2\" class=\"edge\"><title>CompetitorPrices-&gt;CompetitorsStores</title>\n",
       "<path fill=\"none\" stroke=\"black\" d=\"M201.124,-677.908C276.934,-616.201 381.739,-530.892 463.147,-464.628\"/>\n",
       "<polygon fill=\"black\" stroke=\"black\" points=\"465.404,-467.303 470.95,-458.276 460.985,-461.874 465.404,-467.303\"/>\n",
       "<text text-anchor=\"middle\" x=\"336\" y=\"-666.8\" font-family=\"Times New Roman,serif\" font-size=\"14.00\">CompetitorStoreId → CompetitorStoreId</text>\n",
       "</g>\n",
       "<!-- MarginPerProductAndStore -->\n",
       "<g id=\"node6\" class=\"node\"><title>MarginPerProductAndStore</title>\n",
       "<polygon fill=\"none\" stroke=\"black\" points=\"491,-115 491,-152 688,-152 688,-115 491,-115\"/>\n",
       "<text text-anchor=\"start\" x=\"502\" y=\"-130.8\" font-family=\"Times New Roman,serif\" font-weight=\"bold\" font-size=\"14.00\">MarginPerProductAndStore</text>\n",
       "<polygon fill=\"none\" stroke=\"black\" points=\"491,-78 491,-115 688,-115 688,-78 491,-78\"/>\n",
       "<text text-anchor=\"start\" x=\"502\" y=\"-93.8\" font-family=\"Times New Roman,serif\" font-weight=\"bold\" font-size=\"14.00\">Key</text>\n",
       "<text text-anchor=\"start\" x=\"527\" y=\"-93.8\" font-family=\"Times New Roman,serif\" font-size=\"14.00\">  ProductId </text>\n",
       "<text text-anchor=\"start\" x=\"596\" y=\"-93.8\" font-family=\"Times New Roman,serif\" font-style=\"italic\" font-size=\"14.00\">int</text>\n",
       "<text text-anchor=\"start\" x=\"612\" y=\"-93.8\" font-family=\"Times New Roman,serif\" font-size=\"14.00\"> </text>\n",
       "<polygon fill=\"none\" stroke=\"black\" points=\"491,-41 491,-78 688,-78 688,-41 491,-41\"/>\n",
       "<text text-anchor=\"start\" x=\"502\" y=\"-56.8\" font-family=\"Times New Roman,serif\" font-weight=\"bold\" font-size=\"14.00\">Key</text>\n",
       "<text text-anchor=\"start\" x=\"527\" y=\"-56.8\" font-family=\"Times New Roman,serif\" font-size=\"14.00\">  StoreId </text>\n",
       "<text text-anchor=\"start\" x=\"581\" y=\"-56.8\" font-family=\"Times New Roman,serif\" font-style=\"italic\" font-size=\"14.00\">int</text>\n",
       "<text text-anchor=\"start\" x=\"597\" y=\"-56.8\" font-family=\"Times New Roman,serif\" font-size=\"14.00\"> </text>\n",
       "<polygon fill=\"none\" stroke=\"black\" points=\"491,-4 491,-41 688,-41 688,-4 491,-4\"/>\n",
       "<text text-anchor=\"start\" x=\"502\" y=\"-19.8\" font-family=\"Times New Roman,serif\" font-size=\"14.00\">Margin </text>\n",
       "<text text-anchor=\"start\" x=\"545\" y=\"-19.8\" font-family=\"Times New Roman,serif\" font-style=\"italic\" font-size=\"14.00\">double</text>\n",
       "<text text-anchor=\"start\" x=\"585\" y=\"-19.8\" font-family=\"Times New Roman,serif\" font-size=\"14.00\"> </text>\n",
       "</g>\n",
       "<!-- CompetitorPrices&#45;&gt;MarginPerProductAndStore -->\n",
       "<g id=\"edge1\" class=\"edge\"><title>CompetitorPrices-&gt;MarginPerProductAndStore</title>\n",
       "<path fill=\"none\" stroke=\"black\" d=\"M127.553,-662.352C147.243,-598.236 177.921,-513.747 219,-446 305.978,-302.557 347.071,-278.061 471,-165 472.14,-163.96 473.291,-162.921 474.454,-161.882\"/>\n",
       "<polygon fill=\"black\" stroke=\"black\" points=\"477.047,-164.263 482.27,-155.045 472.439,-158.995 477.047,-164.263\"/>\n",
       "<text text-anchor=\"middle\" x=\"336\" y=\"-464.8\" font-family=\"Times New Roman,serif\" font-size=\"14.00\">StoreId → StoreId</text>\n",
       "<text text-anchor=\"middle\" x=\"336\" y=\"-449.8\" font-family=\"Times New Roman,serif\" font-size=\"14.00\">ProductId → ProductId</text>\n",
       "</g>\n",
       "</g>\n",
       "</svg>"
      ],
      "text/plain": [
       "<IPython.core.display.SVG object>"
      ]
     },
     "execution_count": 20,
     "metadata": {},
     "output_type": "execute_result"
    }
   ],
   "source": [
    "price_index_cube.schema"
   ]
  },
  {
   "cell_type": "code",
   "execution_count": 21,
   "metadata": {},
   "outputs": [],
   "source": [
    "m = price_index_cube.measures\n",
    "lvl = price_index_cube.levels"
   ]
  },
  {
   "cell_type": "code",
   "execution_count": 22,
   "metadata": {},
   "outputs": [
    {
     "data": {
      "application/json": {
       "CompetitorPrice.MEAN": {
        "formatter": "DOUBLE[#,###.00]",
        "visible": true
       },
       "CompetitorPrice.SUM": {
        "formatter": "DOUBLE[#,###.00]",
        "visible": true
       },
       "CompetitorStoreLatitude.VALUE": {
        "formatter": "DOUBLE[#,###.00]",
        "visible": true
       },
       "CompetitorStoreLongitude.VALUE": {
        "formatter": "DOUBLE[#,###.00]",
        "visible": true
       },
       "Latitude.VALUE": {
        "formatter": "DOUBLE[#,###.00]",
        "visible": true
       },
       "Longitude.VALUE": {
        "formatter": "DOUBLE[#,###.00]",
        "visible": true
       },
       "Margin.VALUE": {
        "formatter": "DOUBLE[#,###.00]",
        "visible": true
       },
       "SellingPrice.VALUE": {
        "formatter": "DOUBLE[#,###.00]",
        "visible": true
       },
       "contributors.COUNT": {
        "formatter": null,
        "visible": true
       }
      },
      "text/html": [
       "<ul>\n",
       "<li>Measures\n",
       "  <ul>\n",
       "  <li>CompetitorPrice.MEAN\n",
       "    <ul>\n",
       "    <li>formatter: DOUBLE[#,###.00]</li>\n",
       "    <li>visible: True</li>\n",
       "    </ul>\n",
       "  </li>\n",
       "  <li>CompetitorPrice.SUM\n",
       "    <ul>\n",
       "    <li>formatter: DOUBLE[#,###.00]</li>\n",
       "    <li>visible: True</li>\n",
       "    </ul>\n",
       "  </li>\n",
       "  <li>CompetitorStoreLatitude.VALUE\n",
       "    <ul>\n",
       "    <li>formatter: DOUBLE[#,###.00]</li>\n",
       "    <li>visible: True</li>\n",
       "    </ul>\n",
       "  </li>\n",
       "  <li>CompetitorStoreLongitude.VALUE\n",
       "    <ul>\n",
       "    <li>formatter: DOUBLE[#,###.00]</li>\n",
       "    <li>visible: True</li>\n",
       "    </ul>\n",
       "  </li>\n",
       "  <li>Latitude.VALUE\n",
       "    <ul>\n",
       "    <li>formatter: DOUBLE[#,###.00]</li>\n",
       "    <li>visible: True</li>\n",
       "    </ul>\n",
       "  </li>\n",
       "  <li>Longitude.VALUE\n",
       "    <ul>\n",
       "    <li>formatter: DOUBLE[#,###.00]</li>\n",
       "    <li>visible: True</li>\n",
       "    </ul>\n",
       "  </li>\n",
       "  <li>Margin.VALUE\n",
       "    <ul>\n",
       "    <li>formatter: DOUBLE[#,###.00]</li>\n",
       "    <li>visible: True</li>\n",
       "    </ul>\n",
       "  </li>\n",
       "  <li>SellingPrice.VALUE\n",
       "    <ul>\n",
       "    <li>formatter: DOUBLE[#,###.00]</li>\n",
       "    <li>visible: True</li>\n",
       "    </ul>\n",
       "  </li>\n",
       "  <li>contributors.COUNT\n",
       "    <ul>\n",
       "    <li>formatter: None</li>\n",
       "    <li>visible: True</li>\n",
       "    </ul>\n",
       "  </li>\n",
       "  </ul>\n",
       "</li>\n",
       "</ul>\n"
      ],
      "text/plain": [
       "Measures()"
      ]
     },
     "execution_count": 22,
     "metadata": {
      "application/json": {
       "expanded": false,
       "root": "Measures"
      }
     },
     "output_type": "execute_result"
    }
   ],
   "source": [
    "m"
   ]
  },
  {
   "cell_type": "markdown",
   "metadata": {},
   "source": [
    "We can see a _SUM_ and _MEAN_ measure is created columns of type double/float for the base store - CompetitorPrice.  \n",
    "A _VALUE_ measure is created for columns of type double/float in the other referenced stores.  \n",
    "Let's create some measures using _Margin_ and _SellingPrice_ from the referenced stores."
   ]
  },
  {
   "cell_type": "code",
   "execution_count": 23,
   "metadata": {},
   "outputs": [],
   "source": [
    "m[\"Margin.SUM\"] = tt.agg.sum(margin_per_product_and_store[\"Margin\"])"
   ]
  },
  {
   "cell_type": "code",
   "execution_count": 24,
   "metadata": {},
   "outputs": [],
   "source": [
    "m[\"Product Price\"] = tt.agg.mean(sellingPrices_store[\"SellingPrice\"])"
   ]
  },
  {
   "cell_type": "markdown",
   "metadata": {},
   "source": [
    "We see how the weight price index indicator can be achieved in the following cell:"
   ]
  },
  {
   "cell_type": "code",
   "execution_count": 25,
   "metadata": {},
   "outputs": [],
   "source": [
    "price_index_numerator = tt.agg.sum(\n",
    "    (m[\"Product Price\"] * m[\"Margin.SUM\"]) / m[\"CompetitorPrice.MEAN\"],\n",
    "    scope=tt.scope.origin(lvl[\"ProductId\"], lvl[\"StoreId\"]),\n",
    ")\n",
    "m[\"Price Index\"] = price_index_numerator / m[\"Margin.SUM\"]"
   ]
  },
  {
   "cell_type": "markdown",
   "metadata": {},
   "source": [
    "We can now have the price index per store and product.  \n",
    "As we are currently in sampling mode, let's trigger full data load to do some visualizations."
   ]
  },
  {
   "cell_type": "code",
   "execution_count": 26,
   "metadata": {},
   "outputs": [],
   "source": [
    "session.load_all_data()"
   ]
  },
  {
   "cell_type": "markdown",
   "metadata": {},
   "source": [
    "Let's visualize the price index per store."
   ]
  },
  {
   "cell_type": "code",
   "execution_count": 28,
   "metadata": {
    "atoti": {
     "height": 284,
     "state": {
      "name": "",
      "type": "container",
      "value": {
       "body": {
        "configuration": {
         "tabular": {
          "addButtonFilter": "numeric",
          "columnsGroups": [
           {
            "captionProducer": "firstColumn",
            "cellFactory": "kpi-status",
            "selector": "kpi-status"
           },
           {
            "captionProducer": "firstColumn",
            "cellFactory": "lookup",
            "selector": "lookup"
           },
           {
            "captionProducer": "expiry",
            "cellFactory": "expiry",
            "selector": "kpi-expiry"
           },
           {
            "captionProducer": "columnMerge",
            "cellFactory": {
             "args": {},
             "key": "treeCells"
            },
            "selector": "member"
           }
          ],
          "defaultOptions": {},
          "expansion": {
           "automaticExpansion": true
          },
          "hideAddButton": true,
          "pinnedHeaderSelector": "member",
          "sortingMode": "non-breaking",
          "statisticsShown": true
         }
        },
        "contextValues": {},
        "mdx": "SELECT [Measures].[Price Index] ON COLUMNS, NON EMPTY Crossjoin([Hierarchies].[StoreId].[StoreId].Members, [Hierarchies].[StoreName].[StoreName].Members) ON ROWS FROM [CompetitorPricesCube]",
        "ranges": {
         "column": {
          "chunkSize": 50,
          "thresholdPercentage": 0.2
         },
         "row": {
          "chunkSize": 2000,
          "thresholdPercentage": 0.1
         }
        },
        "serverUrl": "",
        "updateMode": "once"
       },
       "containerKey": "pivot-table",
       "showTitleBar": false,
       "style": {}
      }
     }
    }
   },
   "outputs": [
    {
     "data": {
      "application/vnd.atoti.v0+json": {
       "cube": "CompetitorPricesCube",
       "name": null,
       "session": "Unnamed"
      },
      "text/plain": [
       "Install and enable the atoti JupyterLab extension to see this widget."
      ]
     },
     "metadata": {},
     "output_type": "display_data"
    }
   ],
   "source": [
    "price_index_cube.visualize()"
   ]
  },
  {
   "cell_type": "markdown",
   "metadata": {},
   "source": [
    "#### Extracting Price index for Clustering Analysis\n",
    "\n",
    "We output the price index per store into a pandas dataframe using an atoti query.  \n",
    "It will be used as the input for machine learning in the next section. "
   ]
  },
  {
   "cell_type": "code",
   "execution_count": 28,
   "metadata": {},
   "outputs": [
    {
     "data": {
      "text/html": [
       "<div>\n",
       "<style scoped>\n",
       "    .dataframe tbody tr th:only-of-type {\n",
       "        vertical-align: middle;\n",
       "    }\n",
       "\n",
       "    .dataframe tbody tr th {\n",
       "        vertical-align: top;\n",
       "    }\n",
       "\n",
       "    .dataframe thead th {\n",
       "        text-align: right;\n",
       "    }\n",
       "</style>\n",
       "<table border=\"1\" class=\"dataframe\">\n",
       "  <thead>\n",
       "    <tr style=\"text-align: right;\">\n",
       "      <th></th>\n",
       "      <th></th>\n",
       "      <th>Price Index</th>\n",
       "    </tr>\n",
       "    <tr>\n",
       "      <th>StoreId</th>\n",
       "      <th>StoreName</th>\n",
       "      <th></th>\n",
       "    </tr>\n",
       "  </thead>\n",
       "  <tbody>\n",
       "    <tr>\n",
       "      <th>1</th>\n",
       "      <th>ActiveViam Store Paris 1er</th>\n",
       "      <td>0.976644</td>\n",
       "    </tr>\n",
       "    <tr>\n",
       "      <th>2</th>\n",
       "      <th>ActiveViam Store Paris 15</th>\n",
       "      <td>1.027799</td>\n",
       "    </tr>\n",
       "    <tr>\n",
       "      <th>3</th>\n",
       "      <th>ActiveViam Store Paris 18</th>\n",
       "      <td>0.949129</td>\n",
       "    </tr>\n",
       "    <tr>\n",
       "      <th>4</th>\n",
       "      <th>ActiveViam Store Paris 12</th>\n",
       "      <td>0.941429</td>\n",
       "    </tr>\n",
       "    <tr>\n",
       "      <th>5</th>\n",
       "      <th>ActiveViam Store Paris 16</th>\n",
       "      <td>1.005797</td>\n",
       "    </tr>\n",
       "  </tbody>\n",
       "</table>\n",
       "</div>"
      ],
      "text/plain": [
       "                                    Price Index\n",
       "StoreId StoreName                              \n",
       "1       ActiveViam Store Paris 1er     0.976644\n",
       "2       ActiveViam Store Paris 15      1.027799\n",
       "3       ActiveViam Store Paris 18      0.949129\n",
       "4       ActiveViam Store Paris 12      0.941429\n",
       "5       ActiveViam Store Paris 16      1.005797"
      ]
     },
     "execution_count": 28,
     "metadata": {},
     "output_type": "execute_result"
    }
   ],
   "source": [
    "price_index_per_store = price_index_cube.query(\n",
    "    m[\"Price Index\"], levels=[lvl[\"StoreId\"], lvl[\"StoreName\"]]\n",
    ")\n",
    "price_index_per_store.head()"
   ]
  },
  {
   "cell_type": "markdown",
   "metadata": {},
   "source": [
    "## Stores clustering using price index and competitors number features\n",
    "\n",
    "In this part we will use the previously calculated features (nr of competitor stores and price index) to generate 5 clusters of stores.  \n",
    "Since there are five features (Competitors_1_KM, Competitors_5_KM, Competitors_10_KM, Competitors_20_KM, Price Index), a machine learning algorithm such as k-means is appropriate as the human brain will have too much trouble making clusters that have sense.\n",
    "\n",
    "In the next section we will use those clusters to generate new prices and assess whether we have managed to improve our pricing."
   ]
  },
  {
   "cell_type": "code",
   "execution_count": 29,
   "metadata": {},
   "outputs": [],
   "source": [
    "%matplotlib inline\n",
    "import matplotlib.pyplot as plt\n",
    "import numpy as np\n",
    "import pandas as pd\n",
    "import scipy as sc\n",
    "import seaborn as sns\n",
    "from sklearn.cluster import KMeans, MiniBatchKMeans\n",
    "from sklearn.metrics import pairwise_distances_argmin\n",
    "\n",
    "sns.set()  # for plot styling"
   ]
  },
  {
   "cell_type": "markdown",
   "metadata": {},
   "source": [
    "Merging the features computed in the previous sections:"
   ]
  },
  {
   "cell_type": "code",
   "execution_count": 30,
   "metadata": {},
   "outputs": [],
   "source": [
    "price_index_per_store.reset_index(inplace=True)\n",
    "stores_competitors_count_per_area.reset_index(inplace=True)\n",
    "price_index_per_store = price_index_per_store.drop(columns=[\"StoreName\"])\n",
    "stores_competitors_count_per_area = stores_competitors_count_per_area.drop(\n",
    "    columns=[\"StoreName\"]\n",
    ")\n",
    "stores_competitors_count_per_area.StoreId = stores_competitors_count_per_area.StoreId.astype(\n",
    "    int\n",
    ")"
   ]
  },
  {
   "cell_type": "code",
   "execution_count": 31,
   "metadata": {},
   "outputs": [
    {
     "data": {
      "text/plain": [
       "StoreId          int64\n",
       "Price Index    float64\n",
       "dtype: object"
      ]
     },
     "execution_count": 31,
     "metadata": {},
     "output_type": "execute_result"
    }
   ],
   "source": [
    "price_index_per_store.dtypes"
   ]
  },
  {
   "cell_type": "code",
   "execution_count": 32,
   "metadata": {},
   "outputs": [],
   "source": [
    "stores_features = pd.merge(\n",
    "    stores_competitors_count_per_area,\n",
    "    price_index_per_store,\n",
    "    left_on=\"StoreId\",\n",
    "    right_on=\"StoreId\",\n",
    "    how=\"left\",\n",
    ")"
   ]
  },
  {
   "cell_type": "markdown",
   "metadata": {},
   "source": [
    "Formatting the features for scikit learn"
   ]
  },
  {
   "cell_type": "code",
   "execution_count": 33,
   "metadata": {},
   "outputs": [
    {
     "data": {
      "text/html": [
       "<div>\n",
       "<style scoped>\n",
       "    .dataframe tbody tr th:only-of-type {\n",
       "        vertical-align: middle;\n",
       "    }\n",
       "\n",
       "    .dataframe tbody tr th {\n",
       "        vertical-align: top;\n",
       "    }\n",
       "\n",
       "    .dataframe thead th {\n",
       "        text-align: right;\n",
       "    }\n",
       "</style>\n",
       "<table border=\"1\" class=\"dataframe\">\n",
       "  <thead>\n",
       "    <tr style=\"text-align: right;\">\n",
       "      <th></th>\n",
       "      <th>Competitors_1_KM</th>\n",
       "      <th>Competitors_5_KM</th>\n",
       "      <th>Competitors_10_KM</th>\n",
       "      <th>Competitors_20_KM</th>\n",
       "      <th>Price Index</th>\n",
       "    </tr>\n",
       "    <tr>\n",
       "      <th>StoreId</th>\n",
       "      <th></th>\n",
       "      <th></th>\n",
       "      <th></th>\n",
       "      <th></th>\n",
       "      <th></th>\n",
       "    </tr>\n",
       "  </thead>\n",
       "  <tbody>\n",
       "    <tr>\n",
       "      <th>1</th>\n",
       "      <td>11</td>\n",
       "      <td>51</td>\n",
       "      <td>66</td>\n",
       "      <td>71</td>\n",
       "      <td>0.976644</td>\n",
       "    </tr>\n",
       "    <tr>\n",
       "      <th>2</th>\n",
       "      <td>5</td>\n",
       "      <td>46</td>\n",
       "      <td>61</td>\n",
       "      <td>71</td>\n",
       "      <td>1.027799</td>\n",
       "    </tr>\n",
       "    <tr>\n",
       "      <th>3</th>\n",
       "      <td>5</td>\n",
       "      <td>36</td>\n",
       "      <td>71</td>\n",
       "      <td>71</td>\n",
       "      <td>0.949129</td>\n",
       "    </tr>\n",
       "    <tr>\n",
       "      <th>4</th>\n",
       "      <td>5</td>\n",
       "      <td>31</td>\n",
       "      <td>61</td>\n",
       "      <td>71</td>\n",
       "      <td>0.941429</td>\n",
       "    </tr>\n",
       "    <tr>\n",
       "      <th>5</th>\n",
       "      <td>5</td>\n",
       "      <td>36</td>\n",
       "      <td>56</td>\n",
       "      <td>71</td>\n",
       "      <td>1.005797</td>\n",
       "    </tr>\n",
       "  </tbody>\n",
       "</table>\n",
       "</div>"
      ],
      "text/plain": [
       "         Competitors_1_KM  Competitors_5_KM  Competitors_10_KM  \\\n",
       "StoreId                                                          \n",
       "1                      11                51                 66   \n",
       "2                       5                46                 61   \n",
       "3                       5                36                 71   \n",
       "4                       5                31                 61   \n",
       "5                       5                36                 56   \n",
       "\n",
       "         Competitors_20_KM  Price Index  \n",
       "StoreId                                  \n",
       "1                       71     0.976644  \n",
       "2                       71     1.027799  \n",
       "3                       71     0.949129  \n",
       "4                       71     0.941429  \n",
       "5                       71     1.005797  "
      ]
     },
     "execution_count": 33,
     "metadata": {},
     "output_type": "execute_result"
    }
   ],
   "source": [
    "stores_features = stores_features.set_index(\"StoreId\")\n",
    "stores_features.head()"
   ]
  },
  {
   "cell_type": "markdown",
   "metadata": {},
   "source": [
    "Chosing the number of clusters"
   ]
  },
  {
   "cell_type": "code",
   "execution_count": 34,
   "metadata": {},
   "outputs": [],
   "source": [
    "number_of_clusters = 5"
   ]
  },
  {
   "cell_type": "markdown",
   "metadata": {},
   "source": [
    "And running the clustering algorithm"
   ]
  },
  {
   "cell_type": "code",
   "execution_count": 35,
   "metadata": {},
   "outputs": [],
   "source": [
    "kmeans = MiniBatchKMeans(number_of_clusters)\n",
    "kmeans.fit(stores_features)\n",
    "new_colors = kmeans.cluster_centers_[kmeans.predict(stores_features)]\n",
    "k_means_labels = pairwise_distances_argmin(stores_features, kmeans.cluster_centers_)\n",
    "labels = KMeans(number_of_clusters, random_state=0).fit_predict(stores_features)"
   ]
  },
  {
   "cell_type": "markdown",
   "metadata": {},
   "source": [
    "Using competitors within 1km as an example, we can now analyze the result of the clustering by pair of features using matplotlib as shown below:"
   ]
  },
  {
   "cell_type": "code",
   "execution_count": 36,
   "metadata": {},
   "outputs": [
    {
     "data": {
      "text/plain": [
       "Text(0, 0.5, 'Price Index')"
      ]
     },
     "execution_count": 36,
     "metadata": {},
     "output_type": "execute_result"
    },
    {
     "data": {
      "image/png": "[encoded data removed]",
      "text/plain": [
       "<Figure size 432x288 with 1 Axes>"
      ]
     },
     "metadata": {},
     "output_type": "display_data"
    }
   ],
   "source": [
    "plt.scatter(\n",
    "    stores_features.loc[:, \"Competitors_1_KM\"],\n",
    "    stores_features.loc[:, \"Price Index\"],\n",
    "    c=k_means_labels,\n",
    "    s=50,\n",
    "    cmap=\"viridis\",\n",
    ")\n",
    "\n",
    "plt.xlabel(\"Nr Competitors within 1km\")\n",
    "plt.ylabel(\"Price Index\")"
   ]
  },
  {
   "cell_type": "markdown",
   "metadata": {},
   "source": [
    "In the above plot, each color represents a cluster. We can see that clusters seem to be strongly based on the number of competitors rather than on the price index.  \n",
    "However, to avoid having to plot every couple of features and understand more quickly what our clusters are, we will use seaborn to have a plot of the clustering result for every pair of features."
   ]
  },
  {
   "cell_type": "code",
   "execution_count": 37,
   "metadata": {},
   "outputs": [
    {
     "data": {
      "text/html": [
       "<div>\n",
       "<style scoped>\n",
       "    .dataframe tbody tr th:only-of-type {\n",
       "        vertical-align: middle;\n",
       "    }\n",
       "\n",
       "    .dataframe tbody tr th {\n",
       "        vertical-align: top;\n",
       "    }\n",
       "\n",
       "    .dataframe thead th {\n",
       "        text-align: right;\n",
       "    }\n",
       "</style>\n",
       "<table border=\"1\" class=\"dataframe\">\n",
       "  <thead>\n",
       "    <tr style=\"text-align: right;\">\n",
       "      <th></th>\n",
       "      <th>Competitors_1_KM</th>\n",
       "      <th>Competitors_5_KM</th>\n",
       "      <th>Competitors_10_KM</th>\n",
       "      <th>Competitors_20_KM</th>\n",
       "      <th>Price Index</th>\n",
       "      <th>Cluster</th>\n",
       "    </tr>\n",
       "    <tr>\n",
       "      <th>StoreId</th>\n",
       "      <th></th>\n",
       "      <th></th>\n",
       "      <th></th>\n",
       "      <th></th>\n",
       "      <th></th>\n",
       "      <th></th>\n",
       "    </tr>\n",
       "  </thead>\n",
       "  <tbody>\n",
       "    <tr>\n",
       "      <th>1</th>\n",
       "      <td>11</td>\n",
       "      <td>51</td>\n",
       "      <td>66</td>\n",
       "      <td>71</td>\n",
       "      <td>0.976644</td>\n",
       "      <td>2</td>\n",
       "    </tr>\n",
       "    <tr>\n",
       "      <th>2</th>\n",
       "      <td>5</td>\n",
       "      <td>46</td>\n",
       "      <td>61</td>\n",
       "      <td>71</td>\n",
       "      <td>1.027799</td>\n",
       "      <td>2</td>\n",
       "    </tr>\n",
       "    <tr>\n",
       "      <th>3</th>\n",
       "      <td>5</td>\n",
       "      <td>36</td>\n",
       "      <td>71</td>\n",
       "      <td>71</td>\n",
       "      <td>0.949129</td>\n",
       "      <td>2</td>\n",
       "    </tr>\n",
       "    <tr>\n",
       "      <th>4</th>\n",
       "      <td>5</td>\n",
       "      <td>31</td>\n",
       "      <td>61</td>\n",
       "      <td>71</td>\n",
       "      <td>0.941429</td>\n",
       "      <td>2</td>\n",
       "    </tr>\n",
       "    <tr>\n",
       "      <th>5</th>\n",
       "      <td>5</td>\n",
       "      <td>36</td>\n",
       "      <td>56</td>\n",
       "      <td>71</td>\n",
       "      <td>1.005797</td>\n",
       "      <td>2</td>\n",
       "    </tr>\n",
       "  </tbody>\n",
       "</table>\n",
       "</div>"
      ],
      "text/plain": [
       "         Competitors_1_KM  Competitors_5_KM  Competitors_10_KM  \\\n",
       "StoreId                                                          \n",
       "1                      11                51                 66   \n",
       "2                       5                46                 61   \n",
       "3                       5                36                 71   \n",
       "4                       5                31                 61   \n",
       "5                       5                36                 56   \n",
       "\n",
       "         Competitors_20_KM  Price Index  Cluster  \n",
       "StoreId                                           \n",
       "1                       71     0.976644        2  \n",
       "2                       71     1.027799        2  \n",
       "3                       71     0.949129        2  \n",
       "4                       71     0.941429        2  \n",
       "5                       71     1.005797        2  "
      ]
     },
     "execution_count": 37,
     "metadata": {},
     "output_type": "execute_result"
    }
   ],
   "source": [
    "stores_features[\"Cluster\"] = labels\n",
    "stores_features.head(5)"
   ]
  },
  {
   "cell_type": "code",
   "execution_count": 38,
   "metadata": {},
   "outputs": [
    {
     "data": {
      "text/plain": [
       "<seaborn.axisgrid.PairGrid at 0x2bdeeea8ac0>"
      ]
     },
     "execution_count": 38,
     "metadata": {},
     "output_type": "execute_result"
    },
    {
     "data": {
      "image/png": "[encoded data removed]",
      "text/plain": [
       "<Figure size 946.925x900 with 30 Axes>"
      ]
     },
     "metadata": {},
     "output_type": "display_data"
    }
   ],
   "source": [
    "sns.pairplot(data=stores_features, hue=\"Cluster\")"
   ]
  },
  {
   "cell_type": "markdown",
   "metadata": {},
   "source": [
    "We can have a better understanding of the clusters with the chart above.  \n",
    "For example clusters 0 and 4 are those with stores that have a price index close to 1, but the stores in cluster 0 have many more competitors in a 10km radius than those of cluster 4.\n",
    "\n",
    "Continuing this analysis tells us that:\n",
    "- Cluster 0 contains stores with an average price index (around 1.0) and a lot of competitor stores around.\n",
    "- Cluster 1 groups the stores with the fewest number of competitor stores around.\n",
    "- Cluster 2 contains the stores that have the highest number of competitor stores around them.\n",
    "- Cluster 3 is in between all other clusters. Stores in this cluster have few competitors in a 5km radius, but a lot in a 20km radius.\n",
    "- Cluster 4 contains stores with an average price index (around 1.0) but few competitor stores around.\n"
   ]
  },
  {
   "cell_type": "markdown",
   "metadata": {},
   "source": [
    "## Pricing Simulations around clusters\n",
    "We will now generate new prices using the previous clusters in order to take into account the different competitiveness constraints of the stores.  "
   ]
  },
  {
   "cell_type": "code",
   "execution_count": 39,
   "metadata": {},
   "outputs": [],
   "source": [
    "from utils import pricer"
   ]
  },
  {
   "cell_type": "markdown",
   "metadata": {},
   "source": [
    "The below pricing method tries to reduce the prices if the competitiveness is strong, and on the contrary increase it if there is few competition.  \n",
    "It is directly using the clusters generated from the previous part."
   ]
  },
  {
   "cell_type": "code",
   "execution_count": 40,
   "metadata": {},
   "outputs": [],
   "source": [
    "selling_prices_based_on_clusters = pricer.optimize_prices(\n",
    "    initial_selling_prices, stores_features\n",
    ")"
   ]
  },
  {
   "cell_type": "markdown",
   "metadata": {},
   "source": [
    "Thanks to atoti built-in simulations capabilities, we can easily create a new scenario for the new pricing by directly loading the price-optimised dataframe.  \n",
    "All the previously defined KPIs, e.g. the price index, will be re-computed on the fly, enabling us to compare the scenarios and their benefits."
   ]
  },
  {
   "cell_type": "code",
   "execution_count": 41,
   "metadata": {},
   "outputs": [],
   "source": [
    "sellingPrices_store.scenarios[\"Selling prices based on clusters\"].load_pandas(\n",
    "    selling_prices_based_on_clusters\n",
    ")"
   ]
  },
  {
   "cell_type": "code",
   "execution_count": 43,
   "metadata": {
    "atoti": {
     "state": {
      "name": "",
      "type": "container",
      "value": {
       "body": {
        "configuration": {
         "tabular": {
          "addButtonFilter": "numeric",
          "columnOrder": {
           "args": {
            "orderedColumns": [
             "c-treeCells-member",
             "([Measures].[Price Index (1)],[Epoch].[Epoch].[Branch].[Base])",
             "([Measures].[Price Index (1)],[Epoch].[Epoch].[Branch].[Selling prices based on clusters])",
             "([Measures].[Price Index (1)],[Epoch].[Epoch].[Branch].[Change in Price Index])"
            ]
           },
           "key": "explicit"
          },
          "columns": [
           {
            "key": "([Epoch].[Epoch].[Branch].[Change in Price Index],[Measures].[Price Index])",
            "width": 211
           },
           {
            "key": "([Epoch].[Epoch].[Branch].[Change in Price Index],[Measures].[Price Index (1)])",
            "width": 156
           },
           {
            "key": "([Epoch].[Epoch].[Branch].[Base],[Measures].[Price Index (1)])",
            "width": 160
           },
           {
            "key": "([Epoch].[Epoch].[Branch].[Selling prices based on clusters],[Measures].[Price Index (1)])",
            "width": 193
           },
           {
            "key": "([Measures].[Price Index (1)],[Epoch].[Epoch].[Branch].[Base])",
            "width": 169
           },
           {
            "key": "([Measures].[Price Index (1)],[Epoch].[Epoch].[Branch].[Change in Price Index])",
            "width": 199
           },
           {
            "key": "([Measures].[Price Index (1)],[Epoch].[Epoch].[Branch].[Selling prices based on clusters])",
            "width": 228
           }
          ],
          "columnsGroups": [
           {
            "captionProducer": "firstColumn",
            "cellFactory": "kpi-status",
            "selector": "kpi-status"
           },
           {
            "captionProducer": "firstColumn",
            "cellFactory": "lookup",
            "selector": "lookup"
           },
           {
            "captionProducer": "expiry",
            "cellFactory": "expiry",
            "selector": "kpi-expiry"
           },
           {
            "captionProducer": "columnMerge",
            "cellFactory": {
             "args": {},
             "key": "treeCells"
            },
            "selector": "member"
           }
          ],
          "defaultOptions": {},
          "expansion": {
           "automaticExpansion": true
          },
          "hideAddButton": true,
          "pinnedHeaderSelector": "member",
          "sortingMode": "non-breaking",
          "statisticsShown": true
         }
        },
        "contextValues": {},
        "mdx": "WITH  Member [Epoch].[Epoch].[Change in Price Index] AS [Epoch].[Epoch].[Selling prices based on clusters] - [Epoch].[Epoch].[Base], CAPTION = \"Change in Price Index\"    Member [Measures].[Price Index (1)] AS [Measures].[Price Index], CAPTION = [Measures].[Price Index].MEMBER_CAPTION, FORE_COLOR = CASE WHEN [Measures].[Price Index (1)] < 0 THEN rgb(255, 0, 0) END, FORMAT_STRING = \"#,###.00\"  SELECT NON EMPTY Hierarchize(DrilldownLevel([Hierarchies].[StoreName].[ALL].[AllMember])) ON ROWS, NON EMPTY Crossjoin({[Measures].[Price Index (1)]}, Hierarchize(Union([Epoch].[Epoch].[Branch].Members, [Epoch].[Epoch].[Change in Price Index]))) ON COLUMNS FROM [CompetitorPricesCube] CELL PROPERTIES BACK_COLOR, FONT_FLAGS, FORE_COLOR, FORMATTED_VALUE, VALUE",
        "ranges": {
         "column": {
          "chunkSize": 50,
          "thresholdPercentage": 0.2
         },
         "row": {
          "chunkSize": 2000,
          "thresholdPercentage": 0.1
         }
        },
        "serverUrl": "",
        "updateMode": "once"
       },
       "containerKey": "pivot-table",
       "showTitleBar": false,
       "style": {}
      }
     }
    }
   },
   "outputs": [
    {
     "data": {
      "application/vnd.atoti.v0+json": {
       "cube": "CompetitorPricesCube",
       "name": null,
       "session": "Unnamed"
      },
      "text/plain": [
       "Install and enable the atoti JupyterLab extension to see this widget."
      ]
     },
     "metadata": {},
     "output_type": "display_data"
    }
   ],
   "source": [
    "price_index_cube.visualize()"
   ]
  },
  {
   "cell_type": "markdown",
   "metadata": {
    "atoti": {
     "state": {
      "name": "",
      "type": "container",
      "value": {
       "body": {
        "configuration": {},
        "query": {
         "mdx": "SELECT FROM [CompetitorPricesCube] CELL PROPERTIES VALUE, FORMATTED_VALUE, BACK_COLOR, FORE_COLOR, FONT_FLAGS"
        }
       },
       "containerKey": "chart",
       "showTitleBar": false
      }
     }
    }
   },
   "source": [
    "Let's load the cluster results obtained from the machine learning model into the cube."
   ]
  },
  {
   "cell_type": "code",
   "execution_count": 44,
   "metadata": {},
   "outputs": [
    {
     "data": {
      "text/html": [
       "<div>\n",
       "<style scoped>\n",
       "    .dataframe tbody tr th:only-of-type {\n",
       "        vertical-align: middle;\n",
       "    }\n",
       "\n",
       "    .dataframe tbody tr th {\n",
       "        vertical-align: top;\n",
       "    }\n",
       "\n",
       "    .dataframe thead th {\n",
       "        text-align: right;\n",
       "    }\n",
       "</style>\n",
       "<table border=\"1\" class=\"dataframe\">\n",
       "  <thead>\n",
       "    <tr style=\"text-align: right;\">\n",
       "      <th></th>\n",
       "      <th>Cluster</th>\n",
       "    </tr>\n",
       "    <tr>\n",
       "      <th>StoreId</th>\n",
       "      <th></th>\n",
       "    </tr>\n",
       "  </thead>\n",
       "  <tbody>\n",
       "    <tr>\n",
       "      <th>1</th>\n",
       "      <td>2</td>\n",
       "    </tr>\n",
       "    <tr>\n",
       "      <th>2</th>\n",
       "      <td>2</td>\n",
       "    </tr>\n",
       "    <tr>\n",
       "      <th>3</th>\n",
       "      <td>2</td>\n",
       "    </tr>\n",
       "    <tr>\n",
       "      <th>4</th>\n",
       "      <td>2</td>\n",
       "    </tr>\n",
       "    <tr>\n",
       "      <th>5</th>\n",
       "      <td>2</td>\n",
       "    </tr>\n",
       "    <tr>\n",
       "      <th>6</th>\n",
       "      <td>2</td>\n",
       "    </tr>\n",
       "    <tr>\n",
       "      <th>7</th>\n",
       "      <td>2</td>\n",
       "    </tr>\n",
       "    <tr>\n",
       "      <th>8</th>\n",
       "      <td>2</td>\n",
       "    </tr>\n",
       "    <tr>\n",
       "      <th>9</th>\n",
       "      <td>2</td>\n",
       "    </tr>\n",
       "    <tr>\n",
       "      <th>10</th>\n",
       "      <td>2</td>\n",
       "    </tr>\n",
       "  </tbody>\n",
       "</table>\n",
       "</div>"
      ],
      "text/plain": [
       "         Cluster\n",
       "StoreId         \n",
       "1              2\n",
       "2              2\n",
       "3              2\n",
       "4              2\n",
       "5              2\n",
       "6              2\n",
       "7              2\n",
       "8              2\n",
       "9              2\n",
       "10             2"
      ]
     },
     "execution_count": 44,
     "metadata": {},
     "output_type": "execute_result"
    }
   ],
   "source": [
    "clusters_df = stores_features[[\"Cluster\"]].reset_index()\n",
    "clusters_df.StoreId = clusters_df.StoreId.astype(\"int32\")\n",
    "cluster_store = session.read_pandas(\n",
    "    clusters_df, keys=[\"StoreId\"], store_name=\"Clusters\"\n",
    ")\n",
    "\n",
    "cluster_store.head(10)"
   ]
  },
  {
   "cell_type": "code",
   "execution_count": 45,
   "metadata": {},
   "outputs": [],
   "source": [
    "stores_store.join(cluster_store)"
   ]
  },
  {
   "cell_type": "markdown",
   "metadata": {},
   "source": [
    "With the cluster information added to the cube, we can now visualize the changes in price index for the 5 clusters."
   ]
  },
  {
   "cell_type": "code",
   "execution_count": 47,
   "metadata": {
    "atoti": {
     "state": {
      "name": "Price index optimisation difference",
      "type": "container",
      "value": {
       "body": {
        "configuration": {
         "mapping": {
          "horizontalSubplots": [],
          "splitBy": [
           "[Epoch].[Epoch].[Branch]"
          ],
          "values": [
           "[Measures].[Price Index]"
          ],
          "verticalSubplots": [],
          "xAxis": [
           "[Hierarchies].[Cluster].[Cluster]"
          ]
         },
         "plotly": {
          "layout": {
           "xaxis": {
            "title": "Clusters"
           },
           "yaxis": {
            "title": "Price Index"
           }
          }
         },
         "type": "plotly-clustered-column-chart"
        },
        "query": {
         "mdx": "SELECT NON EMPTY Crossjoin([Hierarchies].[Cluster].[Cluster].Members, [Epoch].[Epoch].[Branch].Members) ON ROWS, NON EMPTY [Measures].[Price Index] ON COLUMNS FROM [CompetitorPricesCube] CELL PROPERTIES VALUE, FORMATTED_VALUE, BACK_COLOR, FORE_COLOR, FONT_FLAGS",
         "serverUrl": "",
         "updateMode": "once"
        }
       },
       "containerKey": "chart",
       "showTitleBar": false,
       "style": {}
      }
     }
    }
   },
   "outputs": [
    {
     "data": {
      "application/vnd.atoti.v0+json": {
       "cube": "CompetitorPricesCube",
       "name": "Price index optimisation difference",
       "session": "Unnamed"
      },
      "text/plain": [
       "Install and enable the atoti JupyterLab extension to see this widget."
      ]
     },
     "metadata": {},
     "output_type": "display_data"
    }
   ],
   "source": [
    "price_index_cube.visualize(\"Price index optimisation difference\")"
   ]
  },
  {
   "cell_type": "markdown",
   "metadata": {},
   "source": [
    "We can see that the pricing method decreased the price index of stores in clusters that have high competition in order for them to attract more customers.  \n",
    "On the contrary it increased the prices in stores belonging to low competition clusters in order to maximize margin."
   ]
  }
 ],
 "metadata": {
  "kernelspec": {
   "display_name": "Python 3",
   "language": "python",
   "name": "python3"
  },
  "language_info": {
   "codemirror_mode": {
    "name": "ipython",
    "version": 3
   },
   "file_extension": ".py",
   "mimetype": "text/x-python",
   "name": "python",
   "nbconvert_exporter": "python",
   "pygments_lexer": "ipython3",
   "version": "3.8.2"
  }
 },
 "nbformat": 4,
 "nbformat_minor": 4
}
