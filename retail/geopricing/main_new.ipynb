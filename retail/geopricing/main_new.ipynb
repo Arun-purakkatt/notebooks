{
 "cells": [
  {
   "cell_type": "markdown",
   "metadata": {},
   "source": [
    "# Geopricing with atoti\n",
    "In this notebook we will explore a pricing use case that combines machine learning algorithms and atoti.  \n",
    "We will start by creating clusters of stores depending on their local competition and current prices, then simulate various pricing strategies with atoti.\n",
    "\n",
    "### Dependencies\n",
    "A few libraries will need to be installed for this notebook to work:  \n",
    "- conda install folium scipy scikit-learn matplotlib seaborn "
   ]
  },
  {
   "cell_type": "code",
   "execution_count": 1,
   "metadata": {},
   "outputs": [],
   "source": [
    "# import sys\n",
    "\n",
    "# !conda install --yes --prefix {sys.prefix} folium scipy scikit-learn matplotlib seaborn"
   ]
  },
  {
   "cell_type": "code",
   "execution_count": 2,
   "metadata": {},
   "outputs": [
    {
     "name": "stdout",
     "output_type": "stream",
     "text": [
      "Welcome to atoti 0.4.1!\n",
      "\n",
      "By using this community edition, you agree with the license available at https://www.atoti.io/eula.\n",
      "Browse the official documentation at https://docs.atoti.io.\n",
      "Join the community at https://www.atoti.io/register.\n",
      "\n",
      "You can hide this message by setting the ATOTI_HIDE_EULA_MESSAGE environment variable to True.\n"
     ]
    }
   ],
   "source": [
    "import atoti as tt\n",
    "import pandas as pd"
   ]
  },
  {
   "cell_type": "markdown",
   "metadata": {},
   "source": [
    "## Computing stores features\n",
    "\n",
    "### 1. Counting the number of competitor stores\n",
    "We will first start by loading our stores."
   ]
  },
  {
   "cell_type": "code",
   "execution_count": 3,
   "metadata": {},
   "outputs": [
    {
     "data": {
      "text/html": [
       "<div>\n",
       "<style scoped>\n",
       "    .dataframe tbody tr th:only-of-type {\n",
       "        vertical-align: middle;\n",
       "    }\n",
       "\n",
       "    .dataframe tbody tr th {\n",
       "        vertical-align: top;\n",
       "    }\n",
       "\n",
       "    .dataframe thead th {\n",
       "        text-align: right;\n",
       "    }\n",
       "</style>\n",
       "<table border=\"1\" class=\"dataframe\">\n",
       "  <thead>\n",
       "    <tr style=\"text-align: right;\">\n",
       "      <th></th>\n",
       "      <th>StoreId</th>\n",
       "      <th>StoreName</th>\n",
       "      <th>Adress</th>\n",
       "      <th>ZipCode</th>\n",
       "      <th>City</th>\n",
       "      <th>Country</th>\n",
       "      <th>Latitude</th>\n",
       "      <th>Longitude</th>\n",
       "      <th>Company</th>\n",
       "    </tr>\n",
       "  </thead>\n",
       "  <tbody>\n",
       "    <tr>\n",
       "      <th>0</th>\n",
       "      <td>1</td>\n",
       "      <td>ActiveViam Store Paris 1er</td>\n",
       "      <td>Paris 1er</td>\n",
       "      <td>75001</td>\n",
       "      <td>Paris</td>\n",
       "      <td>France</td>\n",
       "      <td>48.860757</td>\n",
       "      <td>2.342566</td>\n",
       "      <td>ActiveViam</td>\n",
       "    </tr>\n",
       "    <tr>\n",
       "      <th>1</th>\n",
       "      <td>2</td>\n",
       "      <td>ActiveViam Store Paris 15</td>\n",
       "      <td>Paris 15</td>\n",
       "      <td>75015</td>\n",
       "      <td>Paris</td>\n",
       "      <td>France</td>\n",
       "      <td>48.840412</td>\n",
       "      <td>2.312649</td>\n",
       "      <td>ActiveViam</td>\n",
       "    </tr>\n",
       "    <tr>\n",
       "      <th>2</th>\n",
       "      <td>3</td>\n",
       "      <td>ActiveViam Store Paris 18</td>\n",
       "      <td>Paris 18</td>\n",
       "      <td>75018</td>\n",
       "      <td>Paris</td>\n",
       "      <td>France</td>\n",
       "      <td>48.886483</td>\n",
       "      <td>2.344326</td>\n",
       "      <td>ActiveViam</td>\n",
       "    </tr>\n",
       "    <tr>\n",
       "      <th>3</th>\n",
       "      <td>4</td>\n",
       "      <td>ActiveViam Store Paris 12</td>\n",
       "      <td>Paris 12</td>\n",
       "      <td>75012</td>\n",
       "      <td>Paris</td>\n",
       "      <td>France</td>\n",
       "      <td>48.832182</td>\n",
       "      <td>2.375729</td>\n",
       "      <td>ActiveViam</td>\n",
       "    </tr>\n",
       "    <tr>\n",
       "      <th>4</th>\n",
       "      <td>5</td>\n",
       "      <td>ActiveViam Store Paris 16</td>\n",
       "      <td>Paris 16</td>\n",
       "      <td>75016</td>\n",
       "      <td>Paris</td>\n",
       "      <td>France</td>\n",
       "      <td>48.855454</td>\n",
       "      <td>2.280886</td>\n",
       "      <td>ActiveViam</td>\n",
       "    </tr>\n",
       "  </tbody>\n",
       "</table>\n",
       "</div>"
      ],
      "text/plain": [
       "   StoreId                   StoreName     Adress  ZipCode   City Country  \\\n",
       "0        1  ActiveViam Store Paris 1er  Paris 1er    75001  Paris  France   \n",
       "1        2   ActiveViam Store Paris 15   Paris 15    75015  Paris  France   \n",
       "2        3   ActiveViam Store Paris 18   Paris 18    75018  Paris  France   \n",
       "3        4   ActiveViam Store Paris 12   Paris 12    75012  Paris  France   \n",
       "4        5   ActiveViam Store Paris 16   Paris 16    75016  Paris  France   \n",
       "\n",
       "    Latitude  Longitude     Company  \n",
       "0  48.860757   2.342566  ActiveViam  \n",
       "1  48.840412   2.312649  ActiveViam  \n",
       "2  48.886483   2.344326  ActiveViam  \n",
       "3  48.832182   2.375729  ActiveViam  \n",
       "4  48.855454   2.280886  ActiveViam  "
      ]
     },
     "execution_count": 3,
     "metadata": {},
     "output_type": "execute_result"
    }
   ],
   "source": [
    "stores_df = pd.read_csv(\n",
    "    \"https://data.atoti.io/notebooks/geopricing/stores.csv\", sep=\";\"\n",
    ")\n",
    "stores_df.head(5)"
   ]
  },
  {
   "cell_type": "markdown",
   "metadata": {},
   "source": [
    "And then those of the competitors."
   ]
  },
  {
   "cell_type": "code",
   "execution_count": 4,
   "metadata": {},
   "outputs": [
    {
     "data": {
      "text/html": [
       "<div>\n",
       "<style scoped>\n",
       "    .dataframe tbody tr th:only-of-type {\n",
       "        vertical-align: middle;\n",
       "    }\n",
       "\n",
       "    .dataframe tbody tr th {\n",
       "        vertical-align: top;\n",
       "    }\n",
       "\n",
       "    .dataframe thead th {\n",
       "        text-align: right;\n",
       "    }\n",
       "</style>\n",
       "<table border=\"1\" class=\"dataframe\">\n",
       "  <thead>\n",
       "    <tr style=\"text-align: right;\">\n",
       "      <th></th>\n",
       "      <th>CompetitorStoreId</th>\n",
       "      <th>CompetitorStoreName</th>\n",
       "      <th>CompetitorStoreAdress</th>\n",
       "      <th>CompetitorStoreZipCode</th>\n",
       "      <th>CompetitorStoreCity</th>\n",
       "      <th>CompetitorStoreCountry</th>\n",
       "      <th>CompetitorStoreLatitude</th>\n",
       "      <th>CompetitorStoreLongitude</th>\n",
       "      <th>CompetitorStoreCompany</th>\n",
       "    </tr>\n",
       "  </thead>\n",
       "  <tbody>\n",
       "    <tr>\n",
       "      <th>0</th>\n",
       "      <td>101</td>\n",
       "      <td>Concurrent Premium</td>\n",
       "      <td>Paris 1er</td>\n",
       "      <td>75001</td>\n",
       "      <td>Paris</td>\n",
       "      <td>France</td>\n",
       "      <td>48.860757</td>\n",
       "      <td>2.342566</td>\n",
       "      <td>Concurrent Premium</td>\n",
       "    </tr>\n",
       "    <tr>\n",
       "      <th>1</th>\n",
       "      <td>102</td>\n",
       "      <td>Concurrent Premium</td>\n",
       "      <td>Paris 15</td>\n",
       "      <td>75015</td>\n",
       "      <td>Paris</td>\n",
       "      <td>France</td>\n",
       "      <td>48.840412</td>\n",
       "      <td>2.312649</td>\n",
       "      <td>Concurrent Premium</td>\n",
       "    </tr>\n",
       "    <tr>\n",
       "      <th>2</th>\n",
       "      <td>103</td>\n",
       "      <td>Concurrent Premium</td>\n",
       "      <td>Paris 18</td>\n",
       "      <td>75018</td>\n",
       "      <td>Paris</td>\n",
       "      <td>France</td>\n",
       "      <td>48.886483</td>\n",
       "      <td>2.344326</td>\n",
       "      <td>Concurrent Premium</td>\n",
       "    </tr>\n",
       "    <tr>\n",
       "      <th>3</th>\n",
       "      <td>104</td>\n",
       "      <td>Concurrent Premium</td>\n",
       "      <td>Paris 12</td>\n",
       "      <td>75012</td>\n",
       "      <td>Paris</td>\n",
       "      <td>France</td>\n",
       "      <td>48.832182</td>\n",
       "      <td>2.375729</td>\n",
       "      <td>Concurrent Premium</td>\n",
       "    </tr>\n",
       "    <tr>\n",
       "      <th>4</th>\n",
       "      <td>105</td>\n",
       "      <td>Concurrent Premium</td>\n",
       "      <td>Paris 16</td>\n",
       "      <td>75016</td>\n",
       "      <td>Paris</td>\n",
       "      <td>France</td>\n",
       "      <td>48.855454</td>\n",
       "      <td>2.280886</td>\n",
       "      <td>Concurrent Premium</td>\n",
       "    </tr>\n",
       "  </tbody>\n",
       "</table>\n",
       "</div>"
      ],
      "text/plain": [
       "   CompetitorStoreId CompetitorStoreName CompetitorStoreAdress  \\\n",
       "0                101  Concurrent Premium             Paris 1er   \n",
       "1                102  Concurrent Premium              Paris 15   \n",
       "2                103  Concurrent Premium              Paris 18   \n",
       "3                104  Concurrent Premium              Paris 12   \n",
       "4                105  Concurrent Premium              Paris 16   \n",
       "\n",
       "   CompetitorStoreZipCode CompetitorStoreCity CompetitorStoreCountry  \\\n",
       "0                   75001               Paris                 France   \n",
       "1                   75015               Paris                 France   \n",
       "2                   75018               Paris                 France   \n",
       "3                   75012               Paris                 France   \n",
       "4                   75016               Paris                 France   \n",
       "\n",
       "   CompetitorStoreLatitude  CompetitorStoreLongitude CompetitorStoreCompany  \n",
       "0                48.860757                  2.342566     Concurrent Premium  \n",
       "1                48.840412                  2.312649     Concurrent Premium  \n",
       "2                48.886483                  2.344326     Concurrent Premium  \n",
       "3                48.832182                  2.375729     Concurrent Premium  \n",
       "4                48.855454                  2.280886     Concurrent Premium  "
      ]
     },
     "execution_count": 4,
     "metadata": {},
     "output_type": "execute_result"
    }
   ],
   "source": [
    "competitor_stores_df = pd.read_csv(\n",
    "    \"https://data.atoti.io/notebooks/geopricing/competitor_stores.csv\", sep=\";\"\n",
    ")\n",
    "competitor_stores_df.head(5)"
   ]
  },
  {
   "cell_type": "markdown",
   "metadata": {},
   "source": [
    "We can already visualize on a map our stores (in red) and those of the competition (in blue)."
   ]
  },
  {
   "cell_type": "code",
   "execution_count": 5,
   "metadata": {},
   "outputs": [],
   "source": [
    "from utils import geo_utils"
   ]
  },
  {
   "cell_type": "code",
   "execution_count": 6,
   "metadata": {},
   "outputs": [
    {
     "data": {
      "text/html": [
       "<div style=\"width:100%;\"><div style=\"position:relative;width:100%;height:0;padding-bottom:60%;\"><span style=\"color:#565656\">Make this Notebook Trusted to load map: File -> Trust Notebook</span><iframe src=\"about:blank\" style=\"position:absolute;width:100%;height:100%;left:0;top:0;border:none !important;\" data-html=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 onload=\"this.contentDocument.open();this.contentDocument.write(atob(this.getAttribute('data-html')));this.contentDocument.close();\" allowfullscreen webkitallowfullscreen mozallowfullscreen></iframe></div></div>"
      ],
      "text/plain": [
       "<folium.folium.Map at 0x21d3e3cb220>"
      ]
     },
     "execution_count": 6,
     "metadata": {},
     "output_type": "execute_result"
    }
   ],
   "source": [
    "stores_map = geo_utils.build_stores_map(competitor_stores_df, stores_df)\n",
    "stores_map"
   ]
  },
  {
   "cell_type": "markdown",
   "metadata": {},
   "source": [
    "To assess whether a store has strong competition or not, we will count how many competitor stores there are in an area of 1kms, 5kms, 10kms and 20kms.  \n",
    "In order to to that, we first need to compute distances between stores then count the number of competitor stores for each of the kilometers values above.\n",
    "\n",
    "### Computing distances between stores\n",
    "To compute distances between stores, we simply used the [harvesine formula](https://en.wikipedia.org/wiki/Haversine_formula). Note that another approach would be to use instead something like the [google API to compute distances and durations between two points](https://developers.google.com/maps/documentation/distance-matrix/intro) (thus taking into accounts possible means of transportation).\n",
    "\n",
    "First we build a matrix containing the distances between stores and all competitors."
   ]
  },
  {
   "cell_type": "code",
   "execution_count": 7,
   "metadata": {},
   "outputs": [
    {
     "data": {
      "text/html": [
       "<div>\n",
       "<style scoped>\n",
       "    .dataframe tbody tr th:only-of-type {\n",
       "        vertical-align: middle;\n",
       "    }\n",
       "\n",
       "    .dataframe tbody tr th {\n",
       "        vertical-align: top;\n",
       "    }\n",
       "\n",
       "    .dataframe thead th {\n",
       "        text-align: right;\n",
       "    }\n",
       "</style>\n",
       "<table border=\"1\" class=\"dataframe\">\n",
       "  <thead>\n",
       "    <tr style=\"text-align: right;\">\n",
       "      <th></th>\n",
       "      <th>CompetitorStoreId</th>\n",
       "      <th>StoreId</th>\n",
       "      <th>Competitor distance KM</th>\n",
       "    </tr>\n",
       "  </thead>\n",
       "  <tbody>\n",
       "    <tr>\n",
       "      <th>0</th>\n",
       "      <td>101</td>\n",
       "      <td>1</td>\n",
       "      <td>0.000000</td>\n",
       "    </tr>\n",
       "    <tr>\n",
       "      <th>1</th>\n",
       "      <td>101</td>\n",
       "      <td>2</td>\n",
       "      <td>3.145965</td>\n",
       "    </tr>\n",
       "    <tr>\n",
       "      <th>2</th>\n",
       "      <td>101</td>\n",
       "      <td>3</td>\n",
       "      <td>2.861697</td>\n",
       "    </tr>\n",
       "    <tr>\n",
       "      <th>3</th>\n",
       "      <td>101</td>\n",
       "      <td>4</td>\n",
       "      <td>3.995581</td>\n",
       "    </tr>\n",
       "    <tr>\n",
       "      <th>4</th>\n",
       "      <td>101</td>\n",
       "      <td>5</td>\n",
       "      <td>4.547896</td>\n",
       "    </tr>\n",
       "  </tbody>\n",
       "</table>\n",
       "</div>"
      ],
      "text/plain": [
       "   CompetitorStoreId  StoreId  Competitor distance KM\n",
       "0                101        1                0.000000\n",
       "1                101        2                3.145965\n",
       "2                101        3                2.861697\n",
       "3                101        4                3.995581\n",
       "4                101        5                4.547896"
      ]
     },
     "execution_count": 7,
     "metadata": {},
     "output_type": "execute_result"
    }
   ],
   "source": [
    "stores_distances_matrix = geo_utils.create_stores_distances_matrix(\n",
    "    stores_df, competitor_stores_df\n",
    ")\n",
    "\n",
    "stores_distances_matrix.head()"
   ]
  },
  {
   "cell_type": "markdown",
   "metadata": {},
   "source": [
    "And we will use atoti to compute the number of competitors per area."
   ]
  },
  {
   "cell_type": "code",
   "execution_count": 8,
   "metadata": {},
   "outputs": [],
   "source": [
    "session = tt.create_session()"
   ]
  },
  {
   "cell_type": "code",
   "execution_count": 9,
   "metadata": {},
   "outputs": [],
   "source": [
    "# distances_matrix = session.read_pandas(\n",
    "#     stores_distances_matrix,\n",
    "#     keys=[\"StoreId\", \"CompetitorStoreId\"],\n",
    "#     store_name=\"Distances to competitor stores\",\n",
    "# )"
   ]
  },
  {
   "cell_type": "code",
   "execution_count": 10,
   "metadata": {},
   "outputs": [],
   "source": [
    "# distances_cube = session.create_cube(distances_matrix, \"Distances cube\")"
   ]
  },
  {
   "cell_type": "code",
   "execution_count": 11,
   "metadata": {},
   "outputs": [],
   "source": [
    "# m = distances_cube.measures\n",
    "# lvl = distances_cube.levels"
   ]
  },
  {
   "cell_type": "code",
   "execution_count": 12,
   "metadata": {},
   "outputs": [],
   "source": [
    "# m[\"Competitors_1_KM\"] = tt.agg.sum(\n",
    "#     tt.where((m[\"Competitor distance KM.SUM\"] < 1), m[\"contributors.COUNT\"], 0),\n",
    "#     scope=tt.scope.origin(lvl[\"StoreId\"], lvl[\"CompetitorStoreId\"]),\n",
    "# )\n",
    "\n",
    "# m[\"Competitors_5_KM\"] = tt.agg.sum(\n",
    "#     tt.where((m[\"Competitor distance KM.SUM\"] < 5), m[\"contributors.COUNT\"], 0),\n",
    "#     scope=tt.scope.origin(lvl[\"StoreId\"], lvl[\"CompetitorStoreId\"]),\n",
    "# )\n",
    "\n",
    "# m[\"Competitors_10_KM\"] = tt.agg.sum(\n",
    "#     tt.where((m[\"Competitor distance KM.SUM\"] < 10), m[\"contributors.COUNT\"], 0),\n",
    "#     scope=tt.scope.origin(lvl[\"StoreId\"], lvl[\"CompetitorStoreId\"]),\n",
    "# )\n",
    "\n",
    "# m[\"Competitors_20_KM\"] = tt.agg.sum(\n",
    "#     tt.where((m[\"Competitor distance KM.SUM\"] < 20), m[\"contributors.COUNT\"], 0),\n",
    "#     scope=tt.scope.origin(lvl[\"StoreId\"], lvl[\"CompetitorStoreId\"]),\n",
    "# )"
   ]
  },
  {
   "cell_type": "markdown",
   "metadata": {},
   "source": [
    "We will then use an atoti query to generate a pandas dataframe that contains the number of competitors in each area (columns) against the stores (rows).  \n",
    "In the later section, we will see how this dataframe is used as inputs for machine learning."
   ]
  },
  {
   "cell_type": "code",
   "execution_count": 13,
   "metadata": {},
   "outputs": [],
   "source": [
    "# stores_competitors_count_per_area = distances_cube.query(\n",
    "#     m[\"Competitors_1_KM\"],\n",
    "#     m[\"Competitors_5_KM\"],\n",
    "#     m[\"Competitors_10_KM\"],\n",
    "#     m[\"Competitors_20_KM\"],\n",
    "#     levels=[lvl[\"StoreId\"], lvl[\"StoreName\"]],\n",
    "# )\n",
    "# stores_competitors_count_per_area.head()"
   ]
  },
  {
   "cell_type": "markdown",
   "metadata": {},
   "source": [
    "### 2. Computing the price index per store\n",
    "\n",
    "There are different existing formulas for the price index but the idea behind is always the same: the price index is a measurement of where a retailer is positioned compared to one or multiple of its competitors.\n",
    "\n",
    "The formula we will use in this example compares a product price to the average price found among the local competitors of a particular store, measuring at which percentage of this average competitors price the product is.\n",
    "\n",
    "We will weight the price index indicator by the margin when aggregating above store and product level. This is so that we can later optimize the price index for products that contribute the most to the margin.  \n",
    "Other commonly used formulas weight by sales quantity or revenue.\n",
    "\n",
    "#### Price index formula:\n",
    "\n",
    "# $100 \\times \\frac{\\sum_{s,p \\in (Stores,Products)}\\frac{Selling Price(s,p)}{Average Competitor Price(s,p)} \\times Margin(s,p)}{\\sum_{s,p \\in (Stores,Products)}Margin(s,p)}$"
   ]
  },
  {
   "cell_type": "markdown",
   "metadata": {},
   "source": [
    "Normally, we can have the selling price, cost price and quantity of the product sold. Margin hence can be derived, and we can consequently see the impact on margin when price index changes.  \n",
    "In this notebook however, we simplify the use case by having only the SellingPrice and the total Margin for each product by stores as required by the above formula."
   ]
  },
  {
   "cell_type": "code",
   "execution_count": 14,
   "metadata": {},
   "outputs": [
    {
     "name": "stderr",
     "output_type": "stream",
     "text": [
      "The store has been sampled because there are more than 10000 lines in the files to load. Call Session.load_all_data() to trigger the full load of the data.\n"
     ]
    },
    {
     "data": {
      "text/html": [
       "<div>\n",
       "<style scoped>\n",
       "    .dataframe tbody tr th:only-of-type {\n",
       "        vertical-align: middle;\n",
       "    }\n",
       "\n",
       "    .dataframe tbody tr th {\n",
       "        vertical-align: top;\n",
       "    }\n",
       "\n",
       "    .dataframe thead th {\n",
       "        text-align: right;\n",
       "    }\n",
       "</style>\n",
       "<table border=\"1\" class=\"dataframe\">\n",
       "  <thead>\n",
       "    <tr style=\"text-align: right;\">\n",
       "      <th></th>\n",
       "      <th></th>\n",
       "      <th>SellingPrice</th>\n",
       "      <th>Margin</th>\n",
       "    </tr>\n",
       "    <tr>\n",
       "      <th>ProductId</th>\n",
       "      <th>StoreId</th>\n",
       "      <th></th>\n",
       "      <th></th>\n",
       "    </tr>\n",
       "  </thead>\n",
       "  <tbody>\n",
       "    <tr>\n",
       "      <th rowspan=\"5\" valign=\"top\">4096.0</th>\n",
       "      <th>1.0</th>\n",
       "      <td>1.920</td>\n",
       "      <td>1959.530</td>\n",
       "    </tr>\n",
       "    <tr>\n",
       "      <th>2.0</th>\n",
       "      <td>2.068</td>\n",
       "      <td>2204.228</td>\n",
       "    </tr>\n",
       "    <tr>\n",
       "      <th>3.0</th>\n",
       "      <td>1.820</td>\n",
       "      <td>1835.545</td>\n",
       "    </tr>\n",
       "    <tr>\n",
       "      <th>4.0</th>\n",
       "      <td>1.825</td>\n",
       "      <td>1641.052</td>\n",
       "    </tr>\n",
       "    <tr>\n",
       "      <th>5.0</th>\n",
       "      <td>2.016</td>\n",
       "      <td>1307.136</td>\n",
       "    </tr>\n",
       "  </tbody>\n",
       "</table>\n",
       "</div>"
      ],
      "text/plain": [
       "                   SellingPrice    Margin\n",
       "ProductId StoreId                        \n",
       "4096.0    1.0             1.920  1959.530\n",
       "          2.0             2.068  2204.228\n",
       "          3.0             1.820  1835.545\n",
       "          4.0             1.825  1641.052\n",
       "          5.0             2.016  1307.136"
      ]
     },
     "execution_count": 14,
     "metadata": {},
     "output_type": "execute_result"
    }
   ],
   "source": [
    "#  We used pandas to read the selling price here as we will be using it again for price optimisation in the later section.\n",
    "product_sales_df = pd.read_csv(\"product_sales.csv\")\n",
    "\n",
    "# types = {\"ProductId\": tt.types.INT, \"StoreId\": tt.types.INT}\n",
    "productSales = session.read_pandas(\n",
    "    product_sales_df,\n",
    "    keys=[\"ProductId\", \"StoreId\"],\n",
    "    store_name=\"ProductSales\",\n",
    "    types={\"ProductId\": tt.types.INT, \"StoreId\": tt.types.INT},\n",
    ")\n",
    "\n",
    "productSales.head()"
   ]
  },
  {
   "cell_type": "markdown",
   "metadata": {},
   "source": [
    "We will also require the competitors' product pricing against our stores.  \n",
    "Due to the amount of data in this store, the store will be sampled by default. We will proceed to load all the data after we are done modeling the cube."
   ]
  },
  {
   "cell_type": "code",
   "execution_count": 15,
   "metadata": {},
   "outputs": [
    {
     "data": {
      "text/html": [
       "<div>\n",
       "<style scoped>\n",
       "    .dataframe tbody tr th:only-of-type {\n",
       "        vertical-align: middle;\n",
       "    }\n",
       "\n",
       "    .dataframe tbody tr th {\n",
       "        vertical-align: top;\n",
       "    }\n",
       "\n",
       "    .dataframe thead th {\n",
       "        text-align: right;\n",
       "    }\n",
       "</style>\n",
       "<table border=\"1\" class=\"dataframe\">\n",
       "  <thead>\n",
       "    <tr style=\"text-align: right;\">\n",
       "      <th></th>\n",
       "      <th></th>\n",
       "      <th></th>\n",
       "      <th>CompetitorPrice</th>\n",
       "    </tr>\n",
       "    <tr>\n",
       "      <th>ProductId</th>\n",
       "      <th>CompetitorStoreId</th>\n",
       "      <th>StoreId</th>\n",
       "      <th></th>\n",
       "    </tr>\n",
       "  </thead>\n",
       "  <tbody>\n",
       "    <tr>\n",
       "      <th>4096.0</th>\n",
       "      <th>101.0</th>\n",
       "      <th>1.0</th>\n",
       "      <td>2.287</td>\n",
       "    </tr>\n",
       "    <tr>\n",
       "      <th>4097.0</th>\n",
       "      <th>101.0</th>\n",
       "      <th>1.0</th>\n",
       "      <td>2.320</td>\n",
       "    </tr>\n",
       "    <tr>\n",
       "      <th>4098.0</th>\n",
       "      <th>101.0</th>\n",
       "      <th>1.0</th>\n",
       "      <td>2.519</td>\n",
       "    </tr>\n",
       "    <tr>\n",
       "      <th>4099.0</th>\n",
       "      <th>101.0</th>\n",
       "      <th>1.0</th>\n",
       "      <td>2.504</td>\n",
       "    </tr>\n",
       "    <tr>\n",
       "      <th>4100.0</th>\n",
       "      <th>101.0</th>\n",
       "      <th>1.0</th>\n",
       "      <td>3.309</td>\n",
       "    </tr>\n",
       "  </tbody>\n",
       "</table>\n",
       "</div>"
      ],
      "text/plain": [
       "                                     CompetitorPrice\n",
       "ProductId CompetitorStoreId StoreId                 \n",
       "4096.0    101.0             1.0                2.287\n",
       "4097.0    101.0             1.0                2.320\n",
       "4098.0    101.0             1.0                2.519\n",
       "4099.0    101.0             1.0                2.504\n",
       "4100.0    101.0             1.0                3.309"
      ]
     },
     "execution_count": 15,
     "metadata": {},
     "output_type": "execute_result"
    }
   ],
   "source": [
    "competitorPrices = session.read_csv(\n",
    "    \"competitor_prices.csv\",\n",
    "    keys=[\"ProductId\", \"CompetitorStoreId\", \"StoreId\"],\n",
    "    store_name=\"CompetitorPrices\",\n",
    "    #     types={\n",
    "    #         \"ProductId\": tt.types.INT,\n",
    "    #         \"StoreId\": tt.types.INT,\n",
    "    #         \"CompetitorStoreId\": tt.types.INT,\n",
    "    #     }\n",
    ")\n",
    "\n",
    "competitorPrices.head()"
   ]
  },
  {
   "cell_type": "markdown",
   "metadata": {},
   "source": [
    "We load the dataframe _distance_matrix_ that we derive in the earlier section into a store.  \n",
    "This will allow us to perform price index analysis against the competitors within a distance range."
   ]
  },
  {
   "cell_type": "code",
   "execution_count": 16,
   "metadata": {},
   "outputs": [
    {
     "data": {
      "text/html": [
       "<div>\n",
       "<style scoped>\n",
       "    .dataframe tbody tr th:only-of-type {\n",
       "        vertical-align: middle;\n",
       "    }\n",
       "\n",
       "    .dataframe tbody tr th {\n",
       "        vertical-align: top;\n",
       "    }\n",
       "\n",
       "    .dataframe thead th {\n",
       "        text-align: right;\n",
       "    }\n",
       "</style>\n",
       "<table border=\"1\" class=\"dataframe\">\n",
       "  <thead>\n",
       "    <tr style=\"text-align: right;\">\n",
       "      <th></th>\n",
       "      <th></th>\n",
       "      <th>Competitor distance KM</th>\n",
       "    </tr>\n",
       "    <tr>\n",
       "      <th>StoreId</th>\n",
       "      <th>CompetitorStoreId</th>\n",
       "      <th></th>\n",
       "    </tr>\n",
       "  </thead>\n",
       "  <tbody>\n",
       "    <tr>\n",
       "      <th>1.0</th>\n",
       "      <th>101.0</th>\n",
       "      <td>0.000000</td>\n",
       "    </tr>\n",
       "    <tr>\n",
       "      <th>2.0</th>\n",
       "      <th>101.0</th>\n",
       "      <td>3.145965</td>\n",
       "    </tr>\n",
       "    <tr>\n",
       "      <th>3.0</th>\n",
       "      <th>101.0</th>\n",
       "      <td>2.861697</td>\n",
       "    </tr>\n",
       "    <tr>\n",
       "      <th>4.0</th>\n",
       "      <th>101.0</th>\n",
       "      <td>3.995581</td>\n",
       "    </tr>\n",
       "    <tr>\n",
       "      <th>5.0</th>\n",
       "      <th>101.0</th>\n",
       "      <td>4.547896</td>\n",
       "    </tr>\n",
       "  </tbody>\n",
       "</table>\n",
       "</div>"
      ],
      "text/plain": [
       "                           Competitor distance KM\n",
       "StoreId CompetitorStoreId                        \n",
       "1.0     101.0                            0.000000\n",
       "2.0     101.0                            3.145965\n",
       "3.0     101.0                            2.861697\n",
       "4.0     101.0                            3.995581\n",
       "5.0     101.0                            4.547896"
      ]
     },
     "execution_count": 16,
     "metadata": {},
     "output_type": "execute_result"
    }
   ],
   "source": [
    "distance_matrix = session.read_pandas(\n",
    "    stores_distances_matrix,\n",
    "    keys=[\"StoreId\", \"CompetitorStoreId\"],\n",
    "    store_name=\"DistanceMatrix\",\n",
    "    types={\"StoreId\": tt.types.INT, \"CompetitorStoreId\": tt.types.INT,},\n",
    ")\n",
    "\n",
    "distance_matrix.head()"
   ]
  },
  {
   "cell_type": "markdown",
   "metadata": {},
   "source": [
    "We have the key stores necessary for us to generate the data required for machine learning.  \n",
    "However, we will also load the follow stores that will allow us to have more in-depth analysis:\n",
    "- Products: Product catalogue\n",
    "- Stores: Store information such as location\n",
    "- CompetitorsStores: Competitors' store information"
   ]
  },
  {
   "cell_type": "code",
   "execution_count": 17,
   "metadata": {},
   "outputs": [
    {
     "data": {
      "text/html": [
       "<div>\n",
       "<style scoped>\n",
       "    .dataframe tbody tr th:only-of-type {\n",
       "        vertical-align: middle;\n",
       "    }\n",
       "\n",
       "    .dataframe tbody tr th {\n",
       "        vertical-align: top;\n",
       "    }\n",
       "\n",
       "    .dataframe thead th {\n",
       "        text-align: right;\n",
       "    }\n",
       "</style>\n",
       "<table border=\"1\" class=\"dataframe\">\n",
       "  <thead>\n",
       "    <tr style=\"text-align: right;\">\n",
       "      <th></th>\n",
       "      <th>EAN</th>\n",
       "      <th>ProductName</th>\n",
       "      <th>Brand</th>\n",
       "      <th>Size</th>\n",
       "      <th>Unit</th>\n",
       "      <th>Department</th>\n",
       "      <th>SubDepartment</th>\n",
       "      <th>Category</th>\n",
       "      <th>SubCategory</th>\n",
       "    </tr>\n",
       "    <tr>\n",
       "      <th>ProductId</th>\n",
       "      <th></th>\n",
       "      <th></th>\n",
       "      <th></th>\n",
       "      <th></th>\n",
       "      <th></th>\n",
       "      <th></th>\n",
       "      <th></th>\n",
       "      <th></th>\n",
       "      <th></th>\n",
       "    </tr>\n",
       "  </thead>\n",
       "  <tbody>\n",
       "    <tr>\n",
       "      <th>4096</th>\n",
       "      <td>3124480000378</td>\n",
       "      <td>1,5L CANADA DRY PET</td>\n",
       "      <td>CANADA DRY</td>\n",
       "      <td>1.5</td>\n",
       "      <td>L</td>\n",
       "      <td>LIQUIDES</td>\n",
       "      <td>SOFT TRADITIONNELS</td>\n",
       "      <td>TONIC</td>\n",
       "      <td>GINGER ALE</td>\n",
       "    </tr>\n",
       "    <tr>\n",
       "      <th>4097</th>\n",
       "      <td>3124480183927</td>\n",
       "      <td>1,5L SCHWEPPES LEMON PET</td>\n",
       "      <td>SCHWEPPES</td>\n",
       "      <td>1.5</td>\n",
       "      <td>L</td>\n",
       "      <td>LIQUIDES</td>\n",
       "      <td>SOFT TRADITIONNELS</td>\n",
       "      <td>BOISSON AUX FRUITS  GAZEUX</td>\n",
       "      <td>PET - PVC</td>\n",
       "    </tr>\n",
       "    <tr>\n",
       "      <th>4098</th>\n",
       "      <td>3124480183811</td>\n",
       "      <td>2L OASIS ORANGE PET</td>\n",
       "      <td>OASIS</td>\n",
       "      <td>2</td>\n",
       "      <td>L</td>\n",
       "      <td>LIQUIDES</td>\n",
       "      <td>SOFT TRADITIONNELS</td>\n",
       "      <td>BOISSON AUX FRUITS  PLAT</td>\n",
       "      <td>PET - PVC</td>\n",
       "    </tr>\n",
       "    <tr>\n",
       "      <th>4099</th>\n",
       "      <td>3124480183828</td>\n",
       "      <td>2L OASIS TROPICAL PET</td>\n",
       "      <td>OASIS</td>\n",
       "      <td>2</td>\n",
       "      <td>L</td>\n",
       "      <td>LIQUIDES</td>\n",
       "      <td>SOFT TRADITIONNELS</td>\n",
       "      <td>BOISSON AUX FRUITS  PLAT</td>\n",
       "      <td>PET - PVC</td>\n",
       "    </tr>\n",
       "    <tr>\n",
       "      <th>4100</th>\n",
       "      <td>3124480186577</td>\n",
       "      <td>6X33CL OASIS TROPICAL BT</td>\n",
       "      <td>OASIS</td>\n",
       "      <td>6x33</td>\n",
       "      <td>cl</td>\n",
       "      <td>LIQUIDES</td>\n",
       "      <td>SOFT TRADITIONNELS</td>\n",
       "      <td>BOISSON AUX FRUITS  PLAT</td>\n",
       "      <td>BOITES</td>\n",
       "    </tr>\n",
       "  </tbody>\n",
       "</table>\n",
       "</div>"
      ],
      "text/plain": [
       "                     EAN               ProductName       Brand  Size Unit  \\\n",
       "ProductId                                                                   \n",
       "4096       3124480000378       1,5L CANADA DRY PET  CANADA DRY   1.5    L   \n",
       "4097       3124480183927  1,5L SCHWEPPES LEMON PET   SCHWEPPES   1.5    L   \n",
       "4098       3124480183811       2L OASIS ORANGE PET       OASIS     2    L   \n",
       "4099       3124480183828     2L OASIS TROPICAL PET       OASIS     2    L   \n",
       "4100       3124480186577  6X33CL OASIS TROPICAL BT       OASIS  6x33   cl   \n",
       "\n",
       "          Department       SubDepartment                    Category  \\\n",
       "ProductId                                                              \n",
       "4096        LIQUIDES  SOFT TRADITIONNELS                       TONIC   \n",
       "4097        LIQUIDES  SOFT TRADITIONNELS  BOISSON AUX FRUITS  GAZEUX   \n",
       "4098        LIQUIDES  SOFT TRADITIONNELS    BOISSON AUX FRUITS  PLAT   \n",
       "4099        LIQUIDES  SOFT TRADITIONNELS    BOISSON AUX FRUITS  PLAT   \n",
       "4100        LIQUIDES  SOFT TRADITIONNELS    BOISSON AUX FRUITS  PLAT   \n",
       "\n",
       "          SubCategory  \n",
       "ProductId              \n",
       "4096       GINGER ALE  \n",
       "4097        PET - PVC  \n",
       "4098        PET - PVC  \n",
       "4099        PET - PVC  \n",
       "4100           BOITES  "
      ]
     },
     "execution_count": 17,
     "metadata": {},
     "output_type": "execute_result"
    }
   ],
   "source": [
    "products = session.read_csv(\n",
    "    \"s3://data.atoti.io/notebooks/geopricing/products_info.csv\",\n",
    "    sep=\";\",\n",
    "    keys=[\"ProductId\"],\n",
    "    store_name=\"Products\",\n",
    ")\n",
    "\n",
    "products.head()"
   ]
  },
  {
   "cell_type": "code",
   "execution_count": 18,
   "metadata": {},
   "outputs": [
    {
     "data": {
      "text/html": [
       "<div>\n",
       "<style scoped>\n",
       "    .dataframe tbody tr th:only-of-type {\n",
       "        vertical-align: middle;\n",
       "    }\n",
       "\n",
       "    .dataframe tbody tr th {\n",
       "        vertical-align: top;\n",
       "    }\n",
       "\n",
       "    .dataframe thead th {\n",
       "        text-align: right;\n",
       "    }\n",
       "</style>\n",
       "<table border=\"1\" class=\"dataframe\">\n",
       "  <thead>\n",
       "    <tr style=\"text-align: right;\">\n",
       "      <th></th>\n",
       "      <th>StoreName</th>\n",
       "      <th>Adress</th>\n",
       "      <th>ZipCode</th>\n",
       "      <th>City</th>\n",
       "      <th>Country</th>\n",
       "      <th>Latitude</th>\n",
       "      <th>Longitude</th>\n",
       "      <th>Company</th>\n",
       "    </tr>\n",
       "    <tr>\n",
       "      <th>StoreId</th>\n",
       "      <th></th>\n",
       "      <th></th>\n",
       "      <th></th>\n",
       "      <th></th>\n",
       "      <th></th>\n",
       "      <th></th>\n",
       "      <th></th>\n",
       "      <th></th>\n",
       "    </tr>\n",
       "  </thead>\n",
       "  <tbody>\n",
       "    <tr>\n",
       "      <th>1</th>\n",
       "      <td>ActiveViam Store Paris 1er</td>\n",
       "      <td>Paris 1er</td>\n",
       "      <td>75001</td>\n",
       "      <td>Paris</td>\n",
       "      <td>France</td>\n",
       "      <td>48.860757</td>\n",
       "      <td>2.342566</td>\n",
       "      <td>ActiveViam</td>\n",
       "    </tr>\n",
       "    <tr>\n",
       "      <th>2</th>\n",
       "      <td>ActiveViam Store Paris 15</td>\n",
       "      <td>Paris 15</td>\n",
       "      <td>75015</td>\n",
       "      <td>Paris</td>\n",
       "      <td>France</td>\n",
       "      <td>48.840412</td>\n",
       "      <td>2.312649</td>\n",
       "      <td>ActiveViam</td>\n",
       "    </tr>\n",
       "    <tr>\n",
       "      <th>3</th>\n",
       "      <td>ActiveViam Store Paris 18</td>\n",
       "      <td>Paris 18</td>\n",
       "      <td>75018</td>\n",
       "      <td>Paris</td>\n",
       "      <td>France</td>\n",
       "      <td>48.886483</td>\n",
       "      <td>2.344326</td>\n",
       "      <td>ActiveViam</td>\n",
       "    </tr>\n",
       "    <tr>\n",
       "      <th>4</th>\n",
       "      <td>ActiveViam Store Paris 12</td>\n",
       "      <td>Paris 12</td>\n",
       "      <td>75012</td>\n",
       "      <td>Paris</td>\n",
       "      <td>France</td>\n",
       "      <td>48.832182</td>\n",
       "      <td>2.375729</td>\n",
       "      <td>ActiveViam</td>\n",
       "    </tr>\n",
       "    <tr>\n",
       "      <th>5</th>\n",
       "      <td>ActiveViam Store Paris 16</td>\n",
       "      <td>Paris 16</td>\n",
       "      <td>75016</td>\n",
       "      <td>Paris</td>\n",
       "      <td>France</td>\n",
       "      <td>48.855454</td>\n",
       "      <td>2.280886</td>\n",
       "      <td>ActiveViam</td>\n",
       "    </tr>\n",
       "  </tbody>\n",
       "</table>\n",
       "</div>"
      ],
      "text/plain": [
       "                          StoreName     Adress  ZipCode   City Country  \\\n",
       "StoreId                                                                  \n",
       "1        ActiveViam Store Paris 1er  Paris 1er    75001  Paris  France   \n",
       "2         ActiveViam Store Paris 15   Paris 15    75015  Paris  France   \n",
       "3         ActiveViam Store Paris 18   Paris 18    75018  Paris  France   \n",
       "4         ActiveViam Store Paris 12   Paris 12    75012  Paris  France   \n",
       "5         ActiveViam Store Paris 16   Paris 16    75016  Paris  France   \n",
       "\n",
       "          Latitude  Longitude     Company  \n",
       "StoreId                                    \n",
       "1        48.860757   2.342566  ActiveViam  \n",
       "2        48.840412   2.312649  ActiveViam  \n",
       "3        48.886483   2.344326  ActiveViam  \n",
       "4        48.832182   2.375729  ActiveViam  \n",
       "5        48.855454   2.280886  ActiveViam  "
      ]
     },
     "execution_count": 18,
     "metadata": {},
     "output_type": "execute_result"
    }
   ],
   "source": [
    "stores = session.read_csv(\n",
    "    \"s3://data.atoti.io/notebooks/geopricing/stores.csv\",\n",
    "    sep=\";\",\n",
    "    keys=[\"StoreId\"],\n",
    "    store_name=\"Stores\",\n",
    ")\n",
    "\n",
    "stores.head()"
   ]
  },
  {
   "cell_type": "code",
   "execution_count": 19,
   "metadata": {},
   "outputs": [
    {
     "data": {
      "text/html": [
       "<div>\n",
       "<style scoped>\n",
       "    .dataframe tbody tr th:only-of-type {\n",
       "        vertical-align: middle;\n",
       "    }\n",
       "\n",
       "    .dataframe tbody tr th {\n",
       "        vertical-align: top;\n",
       "    }\n",
       "\n",
       "    .dataframe thead th {\n",
       "        text-align: right;\n",
       "    }\n",
       "</style>\n",
       "<table border=\"1\" class=\"dataframe\">\n",
       "  <thead>\n",
       "    <tr style=\"text-align: right;\">\n",
       "      <th></th>\n",
       "      <th>CompetitorStoreName</th>\n",
       "      <th>CompetitorStoreAdress</th>\n",
       "      <th>CompetitorStoreZipCode</th>\n",
       "      <th>CompetitorStoreCity</th>\n",
       "      <th>CompetitorStoreCountry</th>\n",
       "      <th>CompetitorStoreLatitude</th>\n",
       "      <th>CompetitorStoreLongitude</th>\n",
       "      <th>CompetitorStoreCompany</th>\n",
       "    </tr>\n",
       "    <tr>\n",
       "      <th>CompetitorStoreId</th>\n",
       "      <th></th>\n",
       "      <th></th>\n",
       "      <th></th>\n",
       "      <th></th>\n",
       "      <th></th>\n",
       "      <th></th>\n",
       "      <th></th>\n",
       "      <th></th>\n",
       "    </tr>\n",
       "  </thead>\n",
       "  <tbody>\n",
       "    <tr>\n",
       "      <th>101</th>\n",
       "      <td>Concurrent Premium</td>\n",
       "      <td>Paris 1er</td>\n",
       "      <td>75001</td>\n",
       "      <td>Paris</td>\n",
       "      <td>France</td>\n",
       "      <td>48.860757</td>\n",
       "      <td>2.342566</td>\n",
       "      <td>Concurrent Premium</td>\n",
       "    </tr>\n",
       "    <tr>\n",
       "      <th>102</th>\n",
       "      <td>Concurrent Premium</td>\n",
       "      <td>Paris 15</td>\n",
       "      <td>75015</td>\n",
       "      <td>Paris</td>\n",
       "      <td>France</td>\n",
       "      <td>48.840412</td>\n",
       "      <td>2.312649</td>\n",
       "      <td>Concurrent Premium</td>\n",
       "    </tr>\n",
       "    <tr>\n",
       "      <th>103</th>\n",
       "      <td>Concurrent Premium</td>\n",
       "      <td>Paris 18</td>\n",
       "      <td>75018</td>\n",
       "      <td>Paris</td>\n",
       "      <td>France</td>\n",
       "      <td>48.886483</td>\n",
       "      <td>2.344326</td>\n",
       "      <td>Concurrent Premium</td>\n",
       "    </tr>\n",
       "    <tr>\n",
       "      <th>104</th>\n",
       "      <td>Concurrent Premium</td>\n",
       "      <td>Paris 12</td>\n",
       "      <td>75012</td>\n",
       "      <td>Paris</td>\n",
       "      <td>France</td>\n",
       "      <td>48.832182</td>\n",
       "      <td>2.375729</td>\n",
       "      <td>Concurrent Premium</td>\n",
       "    </tr>\n",
       "    <tr>\n",
       "      <th>105</th>\n",
       "      <td>Concurrent Premium</td>\n",
       "      <td>Paris 16</td>\n",
       "      <td>75016</td>\n",
       "      <td>Paris</td>\n",
       "      <td>France</td>\n",
       "      <td>48.855454</td>\n",
       "      <td>2.280886</td>\n",
       "      <td>Concurrent Premium</td>\n",
       "    </tr>\n",
       "  </tbody>\n",
       "</table>\n",
       "</div>"
      ],
      "text/plain": [
       "                  CompetitorStoreName CompetitorStoreAdress  \\\n",
       "CompetitorStoreId                                             \n",
       "101                Concurrent Premium             Paris 1er   \n",
       "102                Concurrent Premium              Paris 15   \n",
       "103                Concurrent Premium              Paris 18   \n",
       "104                Concurrent Premium              Paris 12   \n",
       "105                Concurrent Premium              Paris 16   \n",
       "\n",
       "                   CompetitorStoreZipCode CompetitorStoreCity  \\\n",
       "CompetitorStoreId                                               \n",
       "101                                 75001               Paris   \n",
       "102                                 75015               Paris   \n",
       "103                                 75018               Paris   \n",
       "104                                 75012               Paris   \n",
       "105                                 75016               Paris   \n",
       "\n",
       "                  CompetitorStoreCountry  CompetitorStoreLatitude  \\\n",
       "CompetitorStoreId                                                   \n",
       "101                               France                48.860757   \n",
       "102                               France                48.840412   \n",
       "103                               France                48.886483   \n",
       "104                               France                48.832182   \n",
       "105                               France                48.855454   \n",
       "\n",
       "                   CompetitorStoreLongitude CompetitorStoreCompany  \n",
       "CompetitorStoreId                                                   \n",
       "101                                2.342566     Concurrent Premium  \n",
       "102                                2.312649     Concurrent Premium  \n",
       "103                                2.344326     Concurrent Premium  \n",
       "104                                2.375729     Concurrent Premium  \n",
       "105                                2.280886     Concurrent Premium  "
      ]
     },
     "execution_count": 19,
     "metadata": {},
     "output_type": "execute_result"
    }
   ],
   "source": [
    "competitorStore = session.read_csv(\n",
    "    \"s3://data.atoti.io/notebooks/geopricing/competitor_stores.csv\",\n",
    "    sep=\";\",\n",
    "    keys=[\"CompetitorStoreId\"],\n",
    "    store_name=\"CompetitorsStores\",\n",
    ")\n",
    "\n",
    "competitorStore.head()"
   ]
  },
  {
   "cell_type": "markdown",
   "metadata": {},
   "source": [
    "_ProductSales_ will be our base store as we want to be able to see all the products available in our stores.  \n",
    "Competitors may or may not have the same products as our product catalogue. We are only interested in the products that we are also selling.  \n",
    "Hence we will join the _CompetitorPrices_ store to our _ProductSales_ store by _ProductId_ and _StoreId_."
   ]
  },
  {
   "cell_type": "code",
   "execution_count": 20,
   "metadata": {},
   "outputs": [],
   "source": [
    "productSales.join(\n",
    "    competitorPrices, mapping={\"ProductId\": \"ProductId\", \"StoreId\": \"StoreId\"}\n",
    ")"
   ]
  },
  {
   "cell_type": "markdown",
   "metadata": {},
   "source": [
    "To have more efficient joins, we join the _Products_ and _Stores_ to the base store since this is the most direct reference. "
   ]
  },
  {
   "cell_type": "code",
   "execution_count": 21,
   "metadata": {},
   "outputs": [],
   "source": [
    "productSales.join(products, mapping={\"ProductId\": \"ProductId\"})\n",
    "productSales.join(stores, mapping={\"StoreId\": \"StoreId\"})"
   ]
  },
  {
   "cell_type": "markdown",
   "metadata": {},
   "source": [
    "As _CompetitorPrices_ store is more granular than the _CompetitorStore_, we join the latter to _CompetitorPrices_."
   ]
  },
  {
   "cell_type": "code",
   "execution_count": 22,
   "metadata": {},
   "outputs": [],
   "source": [
    "competitorPrices.join(\n",
    "    competitorStore, mapping={\"CompetitorStoreId\": \"CompetitorStoreId\"}\n",
    ")"
   ]
  },
  {
   "cell_type": "markdown",
   "metadata": {},
   "source": [
    "_DistanceMatrix_ contains both the _StoreId_ and _CompetitorStoreId_.  \\\n",
    "As _CompetitorPrices_ store is already joined to the _ProductSales_ store which contains the _StoreId_.  \\\n",
    "By joining _DistanceMatrix_ to the _CompetitorPrices_, the _DistanceMatrix_ store automatically get linked to the _ProductSales_ store."
   ]
  },
  {
   "cell_type": "code",
   "execution_count": 23,
   "metadata": {},
   "outputs": [],
   "source": [
    "competitorPrices.join(\n",
    "    distance_matrix,\n",
    "    mapping={\"CompetitorStoreId\": \"CompetitorStoreId\", \"StoreId\": \"StoreId\"},\n",
    ")\n",
    "\n",
    "# productSales.join(distance_matrix, mapping={\"StoreId\": \"StoreId\"})"
   ]
  },
  {
   "cell_type": "markdown",
   "metadata": {},
   "source": [
    "Let's proceed to create the cube."
   ]
  },
  {
   "cell_type": "code",
   "execution_count": 24,
   "metadata": {},
   "outputs": [],
   "source": [
    "price_index_cube = session.create_cube(productSales, \"CompetitorPricesCube\")"
   ]
  },
  {
   "cell_type": "code",
   "execution_count": 25,
   "metadata": {},
   "outputs": [
    {
     "data": {
      "image/svg+xml": [
       "<svg xmlns=\"http://www.w3.org/2000/svg\" xmlns:xlink=\"http://www.w3.org/1999/xlink\" width=\"1039px\" height=\"1155px\" viewBox=\"0.00 0.00 1039.00 1154.50\">\n",
       "<g id=\"graph0\" class=\"graph\" transform=\"scale(1.0 1.0) rotate(0) translate(4 1150.5)\">\n",
       "<title>CompetitorPricesCube schema</title>\n",
       "<polygon fill=\"white\" stroke=\"none\" points=\"-4,4 -4,-1150.5 1035,-1150.5 1035,4 -4,4\"/>\n",
       "<!-- ProductSales -->\n",
       "<g id=\"node1\" class=\"node\"><title>ProductSales</title>\n",
       "<polygon fill=\"none\" stroke=\"black\" points=\"8,-579 8,-616 144,-616 144,-579 8,-579\"/>\n",
       "<text text-anchor=\"start\" x=\"35\" y=\"-594.8\" font-family=\"Times New Roman,serif\" font-weight=\"bold\" font-size=\"14.00\">ProductSales</text>\n",
       "<polygon fill=\"none\" stroke=\"black\" points=\"8,-542 8,-579 144,-579 144,-542 8,-542\"/>\n",
       "<text text-anchor=\"start\" x=\"19\" y=\"-557.8\" font-family=\"Times New Roman,serif\" font-weight=\"bold\" font-size=\"14.00\">Key</text>\n",
       "<text text-anchor=\"start\" x=\"44\" y=\"-557.8\" font-family=\"Times New Roman,serif\" font-size=\"14.00\">  ProductId </text>\n",
       "<text text-anchor=\"start\" x=\"113\" y=\"-557.8\" font-family=\"Times New Roman,serif\" font-style=\"italic\" font-size=\"14.00\">int</text>\n",
       "<text text-anchor=\"start\" x=\"129\" y=\"-557.8\" font-family=\"Times New Roman,serif\" font-size=\"14.00\"> </text>\n",
       "<polygon fill=\"none\" stroke=\"black\" points=\"8,-505 8,-542 144,-542 144,-505 8,-505\"/>\n",
       "<text text-anchor=\"start\" x=\"19\" y=\"-520.8\" font-family=\"Times New Roman,serif\" font-weight=\"bold\" font-size=\"14.00\">Key</text>\n",
       "<text text-anchor=\"start\" x=\"44\" y=\"-520.8\" font-family=\"Times New Roman,serif\" font-size=\"14.00\">  StoreId </text>\n",
       "<text text-anchor=\"start\" x=\"98\" y=\"-520.8\" font-family=\"Times New Roman,serif\" font-style=\"italic\" font-size=\"14.00\">int</text>\n",
       "<text text-anchor=\"start\" x=\"114\" y=\"-520.8\" font-family=\"Times New Roman,serif\" font-size=\"14.00\"> </text>\n",
       "<polygon fill=\"none\" stroke=\"black\" points=\"8,-468 8,-505 144,-505 144,-468 8,-468\"/>\n",
       "<text text-anchor=\"start\" x=\"19\" y=\"-483.8\" font-family=\"Times New Roman,serif\" font-size=\"14.00\">SellingPrice </text>\n",
       "<text text-anchor=\"start\" x=\"89\" y=\"-483.8\" font-family=\"Times New Roman,serif\" font-style=\"italic\" font-size=\"14.00\">double</text>\n",
       "<text text-anchor=\"start\" x=\"129\" y=\"-483.8\" font-family=\"Times New Roman,serif\" font-size=\"14.00\"> </text>\n",
       "<polygon fill=\"none\" stroke=\"black\" points=\"8,-431 8,-468 144,-468 144,-431 8,-431\"/>\n",
       "<text text-anchor=\"start\" x=\"19\" y=\"-446.8\" font-family=\"Times New Roman,serif\" font-size=\"14.00\">Margin </text>\n",
       "<text text-anchor=\"start\" x=\"62\" y=\"-446.8\" font-family=\"Times New Roman,serif\" font-style=\"italic\" font-size=\"14.00\">double</text>\n",
       "<text text-anchor=\"start\" x=\"102\" y=\"-446.8\" font-family=\"Times New Roman,serif\" font-size=\"14.00\"> </text>\n",
       "</g>\n",
       "<!-- Products -->\n",
       "<g id=\"node2\" class=\"node\"><title>Products</title>\n",
       "<polygon fill=\"none\" stroke=\"black\" points=\"348.5,-1105 348.5,-1142 501.5,-1142 501.5,-1105 348.5,-1105\"/>\n",
       "<text text-anchor=\"start\" x=\"397.5\" y=\"-1120.8\" font-family=\"Times New Roman,serif\" font-weight=\"bold\" font-size=\"14.00\">Products</text>\n",
       "<polygon fill=\"none\" stroke=\"black\" points=\"348.5,-1068 348.5,-1105 501.5,-1105 501.5,-1068 348.5,-1068\"/>\n",
       "<text text-anchor=\"start\" x=\"359.5\" y=\"-1083.8\" font-family=\"Times New Roman,serif\" font-weight=\"bold\" font-size=\"14.00\">Key</text>\n",
       "<text text-anchor=\"start\" x=\"384.5\" y=\"-1083.8\" font-family=\"Times New Roman,serif\" font-size=\"14.00\">  ProductId </text>\n",
       "<text text-anchor=\"start\" x=\"453.5\" y=\"-1083.8\" font-family=\"Times New Roman,serif\" font-style=\"italic\" font-size=\"14.00\">int</text>\n",
       "<text text-anchor=\"start\" x=\"469.5\" y=\"-1083.8\" font-family=\"Times New Roman,serif\" font-size=\"14.00\"> </text>\n",
       "<polygon fill=\"none\" stroke=\"black\" points=\"348.5,-1031 348.5,-1068 501.5,-1068 501.5,-1031 348.5,-1031\"/>\n",
       "<text text-anchor=\"start\" x=\"359.5\" y=\"-1046.8\" font-family=\"Times New Roman,serif\" font-size=\"14.00\">EAN </text>\n",
       "<text text-anchor=\"start\" x=\"391.5\" y=\"-1046.8\" font-family=\"Times New Roman,serif\" font-style=\"italic\" font-size=\"14.00\">long</text>\n",
       "<text text-anchor=\"start\" x=\"417.5\" y=\"-1046.8\" font-family=\"Times New Roman,serif\" font-size=\"14.00\"> </text>\n",
       "<polygon fill=\"none\" stroke=\"black\" points=\"348.5,-994 348.5,-1031 501.5,-1031 501.5,-994 348.5,-994\"/>\n",
       "<text text-anchor=\"start\" x=\"359.5\" y=\"-1009.8\" font-family=\"Times New Roman,serif\" font-size=\"14.00\">ProductName </text>\n",
       "<text text-anchor=\"start\" x=\"441.5\" y=\"-1009.8\" font-family=\"Times New Roman,serif\" font-style=\"italic\" font-size=\"14.00\">String</text>\n",
       "<text text-anchor=\"start\" x=\"477.5\" y=\"-1009.8\" font-family=\"Times New Roman,serif\" font-size=\"14.00\"> </text>\n",
       "<polygon fill=\"none\" stroke=\"black\" points=\"348.5,-957 348.5,-994 501.5,-994 501.5,-957 348.5,-957\"/>\n",
       "<text text-anchor=\"start\" x=\"359.5\" y=\"-972.8\" font-family=\"Times New Roman,serif\" font-size=\"14.00\">Brand </text>\n",
       "<text text-anchor=\"start\" x=\"397.5\" y=\"-972.8\" font-family=\"Times New Roman,serif\" font-style=\"italic\" font-size=\"14.00\">String</text>\n",
       "<text text-anchor=\"start\" x=\"433.5\" y=\"-972.8\" font-family=\"Times New Roman,serif\" font-size=\"14.00\"> </text>\n",
       "<polygon fill=\"none\" stroke=\"black\" points=\"348.5,-920 348.5,-957 501.5,-957 501.5,-920 348.5,-920\"/>\n",
       "<text text-anchor=\"start\" x=\"359.5\" y=\"-935.8\" font-family=\"Times New Roman,serif\" font-size=\"14.00\">Size </text>\n",
       "<text text-anchor=\"start\" x=\"387.5\" y=\"-935.8\" font-family=\"Times New Roman,serif\" font-style=\"italic\" font-size=\"14.00\">String</text>\n",
       "<text text-anchor=\"start\" x=\"423.5\" y=\"-935.8\" font-family=\"Times New Roman,serif\" font-size=\"14.00\"> </text>\n",
       "<polygon fill=\"none\" stroke=\"black\" points=\"348.5,-883 348.5,-920 501.5,-920 501.5,-883 348.5,-883\"/>\n",
       "<text text-anchor=\"start\" x=\"359.5\" y=\"-898.8\" font-family=\"Times New Roman,serif\" font-size=\"14.00\">Unit </text>\n",
       "<text text-anchor=\"start\" x=\"387.5\" y=\"-898.8\" font-family=\"Times New Roman,serif\" font-style=\"italic\" font-size=\"14.00\">String</text>\n",
       "<text text-anchor=\"start\" x=\"423.5\" y=\"-898.8\" font-family=\"Times New Roman,serif\" font-size=\"14.00\"> </text>\n",
       "<polygon fill=\"none\" stroke=\"black\" points=\"348.5,-846 348.5,-883 501.5,-883 501.5,-846 348.5,-846\"/>\n",
       "<text text-anchor=\"start\" x=\"359.5\" y=\"-861.8\" font-family=\"Times New Roman,serif\" font-size=\"14.00\">Department </text>\n",
       "<text text-anchor=\"start\" x=\"428.5\" y=\"-861.8\" font-family=\"Times New Roman,serif\" font-style=\"italic\" font-size=\"14.00\">String</text>\n",
       "<text text-anchor=\"start\" x=\"464.5\" y=\"-861.8\" font-family=\"Times New Roman,serif\" font-size=\"14.00\"> </text>\n",
       "<polygon fill=\"none\" stroke=\"black\" points=\"348.5,-809 348.5,-846 501.5,-846 501.5,-809 348.5,-809\"/>\n",
       "<text text-anchor=\"start\" x=\"359.5\" y=\"-824.8\" font-family=\"Times New Roman,serif\" font-size=\"14.00\">SubDepartment </text>\n",
       "<text text-anchor=\"start\" x=\"450.5\" y=\"-824.8\" font-family=\"Times New Roman,serif\" font-style=\"italic\" font-size=\"14.00\">String</text>\n",
       "<text text-anchor=\"start\" x=\"486.5\" y=\"-824.8\" font-family=\"Times New Roman,serif\" font-size=\"14.00\"> </text>\n",
       "<polygon fill=\"none\" stroke=\"black\" points=\"348.5,-772 348.5,-809 501.5,-809 501.5,-772 348.5,-772\"/>\n",
       "<text text-anchor=\"start\" x=\"359.5\" y=\"-787.8\" font-family=\"Times New Roman,serif\" font-size=\"14.00\">Category </text>\n",
       "<text text-anchor=\"start\" x=\"414.5\" y=\"-787.8\" font-family=\"Times New Roman,serif\" font-style=\"italic\" font-size=\"14.00\">String</text>\n",
       "<text text-anchor=\"start\" x=\"450.5\" y=\"-787.8\" font-family=\"Times New Roman,serif\" font-size=\"14.00\"> </text>\n",
       "<polygon fill=\"none\" stroke=\"black\" points=\"348.5,-735 348.5,-772 501.5,-772 501.5,-735 348.5,-735\"/>\n",
       "<text text-anchor=\"start\" x=\"359.5\" y=\"-750.8\" font-family=\"Times New Roman,serif\" font-size=\"14.00\">SubCategory </text>\n",
       "<text text-anchor=\"start\" x=\"437.5\" y=\"-750.8\" font-family=\"Times New Roman,serif\" font-style=\"italic\" font-size=\"14.00\">String</text>\n",
       "<text text-anchor=\"start\" x=\"473.5\" y=\"-750.8\" font-family=\"Times New Roman,serif\" font-size=\"14.00\"> </text>\n",
       "</g>\n",
       "<!-- ProductSales&#45;&gt;Products -->\n",
       "<g id=\"edge3\" class=\"edge\"><title>ProductSales-&gt;Products</title>\n",
       "<path fill=\"none\" stroke=\"black\" d=\"M152.185,-614.049C205.465,-677.861 277.195,-763.771 333.519,-831.23\"/>\n",
       "<polygon fill=\"black\" stroke=\"black\" points=\"330.864,-833.512 339.96,-838.945 336.238,-829.026 330.864,-833.512\"/>\n",
       "<text text-anchor=\"middle\" x=\"238\" y=\"-795.8\" font-family=\"Times New Roman,serif\" font-size=\"14.00\">ProductId → ProductId</text>\n",
       "</g>\n",
       "<!-- Stores -->\n",
       "<g id=\"node3\" class=\"node\"><title>Stores</title>\n",
       "<polygon fill=\"none\" stroke=\"black\" points=\"360.5,-672 360.5,-709 489.5,-709 489.5,-672 360.5,-672\"/>\n",
       "<text text-anchor=\"start\" x=\"405\" y=\"-687.8\" font-family=\"Times New Roman,serif\" font-weight=\"bold\" font-size=\"14.00\">Stores</text>\n",
       "<polygon fill=\"none\" stroke=\"black\" points=\"360.5,-635 360.5,-672 489.5,-672 489.5,-635 360.5,-635\"/>\n",
       "<text text-anchor=\"start\" x=\"371.5\" y=\"-650.8\" font-family=\"Times New Roman,serif\" font-weight=\"bold\" font-size=\"14.00\">Key</text>\n",
       "<text text-anchor=\"start\" x=\"396.5\" y=\"-650.8\" font-family=\"Times New Roman,serif\" font-size=\"14.00\">  StoreId </text>\n",
       "<text text-anchor=\"start\" x=\"450.5\" y=\"-650.8\" font-family=\"Times New Roman,serif\" font-style=\"italic\" font-size=\"14.00\">int</text>\n",
       "<text text-anchor=\"start\" x=\"466.5\" y=\"-650.8\" font-family=\"Times New Roman,serif\" font-size=\"14.00\"> </text>\n",
       "<polygon fill=\"none\" stroke=\"black\" points=\"360.5,-598 360.5,-635 489.5,-635 489.5,-598 360.5,-598\"/>\n",
       "<text text-anchor=\"start\" x=\"371.5\" y=\"-613.8\" font-family=\"Times New Roman,serif\" font-size=\"14.00\">StoreName </text>\n",
       "<text text-anchor=\"start\" x=\"438.5\" y=\"-613.8\" font-family=\"Times New Roman,serif\" font-style=\"italic\" font-size=\"14.00\">String</text>\n",
       "<text text-anchor=\"start\" x=\"474.5\" y=\"-613.8\" font-family=\"Times New Roman,serif\" font-size=\"14.00\"> </text>\n",
       "<polygon fill=\"none\" stroke=\"black\" points=\"360.5,-561 360.5,-598 489.5,-598 489.5,-561 360.5,-561\"/>\n",
       "<text text-anchor=\"start\" x=\"371.5\" y=\"-576.8\" font-family=\"Times New Roman,serif\" font-size=\"14.00\">Adress </text>\n",
       "<text text-anchor=\"start\" x=\"415.5\" y=\"-576.8\" font-family=\"Times New Roman,serif\" font-style=\"italic\" font-size=\"14.00\">String</text>\n",
       "<text text-anchor=\"start\" x=\"451.5\" y=\"-576.8\" font-family=\"Times New Roman,serif\" font-size=\"14.00\"> </text>\n",
       "<polygon fill=\"none\" stroke=\"black\" points=\"360.5,-524 360.5,-561 489.5,-561 489.5,-524 360.5,-524\"/>\n",
       "<text text-anchor=\"start\" x=\"371.5\" y=\"-539.8\" font-family=\"Times New Roman,serif\" font-size=\"14.00\">ZipCode </text>\n",
       "<text text-anchor=\"start\" x=\"425.5\" y=\"-539.8\" font-family=\"Times New Roman,serif\" font-style=\"italic\" font-size=\"14.00\">int</text>\n",
       "<text text-anchor=\"start\" x=\"441.5\" y=\"-539.8\" font-family=\"Times New Roman,serif\" font-size=\"14.00\"> </text>\n",
       "<polygon fill=\"none\" stroke=\"black\" points=\"360.5,-487 360.5,-524 489.5,-524 489.5,-487 360.5,-487\"/>\n",
       "<text text-anchor=\"start\" x=\"371.5\" y=\"-502.8\" font-family=\"Times New Roman,serif\" font-size=\"14.00\">City </text>\n",
       "<text text-anchor=\"start\" x=\"399.5\" y=\"-502.8\" font-family=\"Times New Roman,serif\" font-style=\"italic\" font-size=\"14.00\">String</text>\n",
       "<text text-anchor=\"start\" x=\"435.5\" y=\"-502.8\" font-family=\"Times New Roman,serif\" font-size=\"14.00\"> </text>\n",
       "<polygon fill=\"none\" stroke=\"black\" points=\"360.5,-450 360.5,-487 489.5,-487 489.5,-450 360.5,-450\"/>\n",
       "<text text-anchor=\"start\" x=\"371.5\" y=\"-465.8\" font-family=\"Times New Roman,serif\" font-size=\"14.00\">Country </text>\n",
       "<text text-anchor=\"start\" x=\"421.5\" y=\"-465.8\" font-family=\"Times New Roman,serif\" font-style=\"italic\" font-size=\"14.00\">String</text>\n",
       "<text text-anchor=\"start\" x=\"457.5\" y=\"-465.8\" font-family=\"Times New Roman,serif\" font-size=\"14.00\"> </text>\n",
       "<polygon fill=\"none\" stroke=\"black\" points=\"360.5,-413 360.5,-450 489.5,-450 489.5,-413 360.5,-413\"/>\n",
       "<text text-anchor=\"start\" x=\"371.5\" y=\"-428.8\" font-family=\"Times New Roman,serif\" font-size=\"14.00\">Latitude </text>\n",
       "<text text-anchor=\"start\" x=\"420.5\" y=\"-428.8\" font-family=\"Times New Roman,serif\" font-style=\"italic\" font-size=\"14.00\">double</text>\n",
       "<text text-anchor=\"start\" x=\"460.5\" y=\"-428.8\" font-family=\"Times New Roman,serif\" font-size=\"14.00\"> </text>\n",
       "<polygon fill=\"none\" stroke=\"black\" points=\"360.5,-376 360.5,-413 489.5,-413 489.5,-376 360.5,-376\"/>\n",
       "<text text-anchor=\"start\" x=\"371.5\" y=\"-391.8\" font-family=\"Times New Roman,serif\" font-size=\"14.00\">Longitude </text>\n",
       "<text text-anchor=\"start\" x=\"432.5\" y=\"-391.8\" font-family=\"Times New Roman,serif\" font-style=\"italic\" font-size=\"14.00\">double</text>\n",
       "<text text-anchor=\"start\" x=\"472.5\" y=\"-391.8\" font-family=\"Times New Roman,serif\" font-size=\"14.00\"> </text>\n",
       "<polygon fill=\"none\" stroke=\"black\" points=\"360.5,-339 360.5,-376 489.5,-376 489.5,-339 360.5,-339\"/>\n",
       "<text text-anchor=\"start\" x=\"371.5\" y=\"-354.8\" font-family=\"Times New Roman,serif\" font-size=\"14.00\">Company </text>\n",
       "<text text-anchor=\"start\" x=\"430.5\" y=\"-354.8\" font-family=\"Times New Roman,serif\" font-style=\"italic\" font-size=\"14.00\">String</text>\n",
       "<text text-anchor=\"start\" x=\"466.5\" y=\"-354.8\" font-family=\"Times New Roman,serif\" font-size=\"14.00\"> </text>\n",
       "</g>\n",
       "<!-- ProductSales&#45;&gt;Stores -->\n",
       "<g id=\"edge2\" class=\"edge\"><title>ProductSales-&gt;Stores</title>\n",
       "<path fill=\"none\" stroke=\"black\" d=\"M152.185,-524C208.046,-524 284.187,-524 341.591,-524\"/>\n",
       "<polygon fill=\"black\" stroke=\"black\" points=\"341.72,-527.5 351.72,-524 341.72,-520.5 341.72,-527.5\"/>\n",
       "<text text-anchor=\"middle\" x=\"238\" y=\"-527.8\" font-family=\"Times New Roman,serif\" font-size=\"14.00\">StoreId → StoreId</text>\n",
       "</g>\n",
       "<!-- CompetitorPrices -->\n",
       "<g id=\"node4\" class=\"node\"><title>CompetitorPrices</title>\n",
       "<polygon fill=\"none\" stroke=\"black\" points=\"332.5,-275 332.5,-312 517.5,-312 517.5,-275 332.5,-275\"/>\n",
       "<text text-anchor=\"start\" x=\"370.5\" y=\"-290.8\" font-family=\"Times New Roman,serif\" font-weight=\"bold\" font-size=\"14.00\">CompetitorPrices</text>\n",
       "<polygon fill=\"none\" stroke=\"black\" points=\"332.5,-238 332.5,-275 517.5,-275 517.5,-238 332.5,-238\"/>\n",
       "<text text-anchor=\"start\" x=\"343.5\" y=\"-253.8\" font-family=\"Times New Roman,serif\" font-weight=\"bold\" font-size=\"14.00\">Key</text>\n",
       "<text text-anchor=\"start\" x=\"368.5\" y=\"-253.8\" font-family=\"Times New Roman,serif\" font-size=\"14.00\">  ProductId </text>\n",
       "<text text-anchor=\"start\" x=\"437.5\" y=\"-253.8\" font-family=\"Times New Roman,serif\" font-style=\"italic\" font-size=\"14.00\">int</text>\n",
       "<text text-anchor=\"start\" x=\"453.5\" y=\"-253.8\" font-family=\"Times New Roman,serif\" font-size=\"14.00\"> </text>\n",
       "<polygon fill=\"none\" stroke=\"black\" points=\"332.5,-201 332.5,-238 517.5,-238 517.5,-201 332.5,-201\"/>\n",
       "<text text-anchor=\"start\" x=\"343.5\" y=\"-216.8\" font-family=\"Times New Roman,serif\" font-weight=\"bold\" font-size=\"14.00\">Key</text>\n",
       "<text text-anchor=\"start\" x=\"368.5\" y=\"-216.8\" font-family=\"Times New Roman,serif\" font-size=\"14.00\">  CompetitorStoreId </text>\n",
       "<text text-anchor=\"start\" x=\"486.5\" y=\"-216.8\" font-family=\"Times New Roman,serif\" font-style=\"italic\" font-size=\"14.00\">int</text>\n",
       "<text text-anchor=\"start\" x=\"502.5\" y=\"-216.8\" font-family=\"Times New Roman,serif\" font-size=\"14.00\"> </text>\n",
       "<polygon fill=\"none\" stroke=\"black\" points=\"332.5,-164 332.5,-201 517.5,-201 517.5,-164 332.5,-164\"/>\n",
       "<text text-anchor=\"start\" x=\"343.5\" y=\"-179.8\" font-family=\"Times New Roman,serif\" font-weight=\"bold\" font-size=\"14.00\">Key</text>\n",
       "<text text-anchor=\"start\" x=\"368.5\" y=\"-179.8\" font-family=\"Times New Roman,serif\" font-size=\"14.00\">  StoreId </text>\n",
       "<text text-anchor=\"start\" x=\"422.5\" y=\"-179.8\" font-family=\"Times New Roman,serif\" font-style=\"italic\" font-size=\"14.00\">int</text>\n",
       "<text text-anchor=\"start\" x=\"438.5\" y=\"-179.8\" font-family=\"Times New Roman,serif\" font-size=\"14.00\"> </text>\n",
       "<polygon fill=\"none\" stroke=\"black\" points=\"332.5,-127 332.5,-164 517.5,-164 517.5,-127 332.5,-127\"/>\n",
       "<text text-anchor=\"start\" x=\"343.5\" y=\"-142.8\" font-family=\"Times New Roman,serif\" font-size=\"14.00\">CompetitorPrice </text>\n",
       "<text text-anchor=\"start\" x=\"440.5\" y=\"-142.8\" font-family=\"Times New Roman,serif\" font-style=\"italic\" font-size=\"14.00\">double</text>\n",
       "<text text-anchor=\"start\" x=\"480.5\" y=\"-142.8\" font-family=\"Times New Roman,serif\" font-size=\"14.00\"> </text>\n",
       "</g>\n",
       "<!-- ProductSales&#45;&gt;CompetitorPrices -->\n",
       "<g id=\"edge1\" class=\"edge\"><title>ProductSales-&gt;CompetitorPrices</title>\n",
       "<path fill=\"none\" stroke=\"black\" stroke-dasharray=\"5,2\" d=\"M152.185,-458.037C200.087,-416.01 262.902,-360.9 316.027,-314.291\"/>\n",
       "<polygon fill=\"black\" stroke=\"black\" points=\"318.583,-316.705 323.792,-307.479 313.966,-311.443 318.583,-316.705\"/>\n",
       "<text text-anchor=\"middle\" x=\"238\" y=\"-452.8\" font-family=\"Times New Roman,serif\" font-size=\"14.00\">StoreId → StoreId</text>\n",
       "<text text-anchor=\"middle\" x=\"238\" y=\"-437.8\" font-family=\"Times New Roman,serif\" font-size=\"14.00\">ProductId → ProductId</text>\n",
       "</g>\n",
       "<!-- CompetitorsStores -->\n",
       "<g id=\"node5\" class=\"node\"><title>CompetitorsStores</title>\n",
       "<polygon fill=\"none\" stroke=\"black\" points=\"803,-511 803,-548 1023,-548 1023,-511 803,-511\"/>\n",
       "<text text-anchor=\"start\" x=\"855.5\" y=\"-526.8\" font-family=\"Times New Roman,serif\" font-weight=\"bold\" font-size=\"14.00\">CompetitorsStores</text>\n",
       "<polygon fill=\"none\" stroke=\"black\" points=\"803,-474 803,-511 1023,-511 1023,-474 803,-474\"/>\n",
       "<text text-anchor=\"start\" x=\"814\" y=\"-489.8\" font-family=\"Times New Roman,serif\" font-weight=\"bold\" font-size=\"14.00\">Key</text>\n",
       "<text text-anchor=\"start\" x=\"839\" y=\"-489.8\" font-family=\"Times New Roman,serif\" font-size=\"14.00\">  CompetitorStoreId </text>\n",
       "<text text-anchor=\"start\" x=\"957\" y=\"-489.8\" font-family=\"Times New Roman,serif\" font-style=\"italic\" font-size=\"14.00\">int</text>\n",
       "<text text-anchor=\"start\" x=\"973\" y=\"-489.8\" font-family=\"Times New Roman,serif\" font-size=\"14.00\"> </text>\n",
       "<polygon fill=\"none\" stroke=\"black\" points=\"803,-437 803,-474 1023,-474 1023,-437 803,-437\"/>\n",
       "<text text-anchor=\"start\" x=\"814\" y=\"-452.8\" font-family=\"Times New Roman,serif\" font-size=\"14.00\">CompetitorStoreName </text>\n",
       "<text text-anchor=\"start\" x=\"944\" y=\"-452.8\" font-family=\"Times New Roman,serif\" font-style=\"italic\" font-size=\"14.00\">String</text>\n",
       "<text text-anchor=\"start\" x=\"980\" y=\"-452.8\" font-family=\"Times New Roman,serif\" font-size=\"14.00\"> </text>\n",
       "<polygon fill=\"none\" stroke=\"black\" points=\"803,-400 803,-437 1023,-437 1023,-400 803,-400\"/>\n",
       "<text text-anchor=\"start\" x=\"814\" y=\"-415.8\" font-family=\"Times New Roman,serif\" font-size=\"14.00\">CompetitorStoreAdress </text>\n",
       "<text text-anchor=\"start\" x=\"952\" y=\"-415.8\" font-family=\"Times New Roman,serif\" font-style=\"italic\" font-size=\"14.00\">String</text>\n",
       "<text text-anchor=\"start\" x=\"988\" y=\"-415.8\" font-family=\"Times New Roman,serif\" font-size=\"14.00\"> </text>\n",
       "<polygon fill=\"none\" stroke=\"black\" points=\"803,-363 803,-400 1023,-400 1023,-363 803,-363\"/>\n",
       "<text text-anchor=\"start\" x=\"814\" y=\"-378.8\" font-family=\"Times New Roman,serif\" font-size=\"14.00\">CompetitorStoreZipCode </text>\n",
       "<text text-anchor=\"start\" x=\"962\" y=\"-378.8\" font-family=\"Times New Roman,serif\" font-style=\"italic\" font-size=\"14.00\">int</text>\n",
       "<text text-anchor=\"start\" x=\"978\" y=\"-378.8\" font-family=\"Times New Roman,serif\" font-size=\"14.00\"> </text>\n",
       "<polygon fill=\"none\" stroke=\"black\" points=\"803,-326 803,-363 1023,-363 1023,-326 803,-326\"/>\n",
       "<text text-anchor=\"start\" x=\"814\" y=\"-341.8\" font-family=\"Times New Roman,serif\" font-size=\"14.00\">CompetitorStoreCity </text>\n",
       "<text text-anchor=\"start\" x=\"935\" y=\"-341.8\" font-family=\"Times New Roman,serif\" font-style=\"italic\" font-size=\"14.00\">String</text>\n",
       "<text text-anchor=\"start\" x=\"971\" y=\"-341.8\" font-family=\"Times New Roman,serif\" font-size=\"14.00\"> </text>\n",
       "<polygon fill=\"none\" stroke=\"black\" points=\"803,-289 803,-326 1023,-326 1023,-289 803,-289\"/>\n",
       "<text text-anchor=\"start\" x=\"814\" y=\"-304.8\" font-family=\"Times New Roman,serif\" font-size=\"14.00\">CompetitorStoreCountry </text>\n",
       "<text text-anchor=\"start\" x=\"958\" y=\"-304.8\" font-family=\"Times New Roman,serif\" font-style=\"italic\" font-size=\"14.00\">String</text>\n",
       "<text text-anchor=\"start\" x=\"994\" y=\"-304.8\" font-family=\"Times New Roman,serif\" font-size=\"14.00\"> </text>\n",
       "<polygon fill=\"none\" stroke=\"black\" points=\"803,-252 803,-289 1023,-289 1023,-252 803,-252\"/>\n",
       "<text text-anchor=\"start\" x=\"814\" y=\"-267.8\" font-family=\"Times New Roman,serif\" font-size=\"14.00\">CompetitorStoreLatitude </text>\n",
       "<text text-anchor=\"start\" x=\"957\" y=\"-267.8\" font-family=\"Times New Roman,serif\" font-style=\"italic\" font-size=\"14.00\">double</text>\n",
       "<text text-anchor=\"start\" x=\"997\" y=\"-267.8\" font-family=\"Times New Roman,serif\" font-size=\"14.00\"> </text>\n",
       "<polygon fill=\"none\" stroke=\"black\" points=\"803,-215 803,-252 1023,-252 1023,-215 803,-215\"/>\n",
       "<text text-anchor=\"start\" x=\"814\" y=\"-230.8\" font-family=\"Times New Roman,serif\" font-size=\"14.00\">CompetitorStoreLongitude </text>\n",
       "<text text-anchor=\"start\" x=\"968\" y=\"-230.8\" font-family=\"Times New Roman,serif\" font-style=\"italic\" font-size=\"14.00\">double</text>\n",
       "<text text-anchor=\"start\" x=\"1008\" y=\"-230.8\" font-family=\"Times New Roman,serif\" font-size=\"14.00\"> </text>\n",
       "<polygon fill=\"none\" stroke=\"black\" points=\"803,-178 803,-215 1023,-215 1023,-178 803,-178\"/>\n",
       "<text text-anchor=\"start\" x=\"814\" y=\"-193.8\" font-family=\"Times New Roman,serif\" font-size=\"14.00\">CompetitorStoreCompany </text>\n",
       "<text text-anchor=\"start\" x=\"967\" y=\"-193.8\" font-family=\"Times New Roman,serif\" font-style=\"italic\" font-size=\"14.00\">String</text>\n",
       "<text text-anchor=\"start\" x=\"1003\" y=\"-193.8\" font-family=\"Times New Roman,serif\" font-size=\"14.00\"> </text>\n",
       "</g>\n",
       "<!-- CompetitorPrices&#45;&gt;CompetitorsStores -->\n",
       "<g id=\"edge5\" class=\"edge\"><title>CompetitorPrices-&gt;CompetitorsStores</title>\n",
       "<path fill=\"none\" stroke=\"black\" d=\"M525.124,-249.283C600.322,-271.387 704.051,-301.876 785.173,-325.721\"/>\n",
       "<polygon fill=\"black\" stroke=\"black\" points=\"784.369,-329.133 794.95,-328.595 786.343,-322.417 784.369,-329.133\"/>\n",
       "<text text-anchor=\"middle\" x=\"660\" y=\"-323.8\" font-family=\"Times New Roman,serif\" font-size=\"14.00\">CompetitorStoreId → CompetitorStoreId</text>\n",
       "</g>\n",
       "<!-- DistanceMatrix -->\n",
       "<g id=\"node6\" class=\"node\"><title>DistanceMatrix</title>\n",
       "<polygon fill=\"none\" stroke=\"black\" points=\"809,-115 809,-152 1018,-152 1018,-115 809,-115\"/>\n",
       "<text text-anchor=\"start\" x=\"865.5\" y=\"-130.8\" font-family=\"Times New Roman,serif\" font-weight=\"bold\" font-size=\"14.00\">DistanceMatrix</text>\n",
       "<polygon fill=\"none\" stroke=\"black\" points=\"809,-78 809,-115 1018,-115 1018,-78 809,-78\"/>\n",
       "<text text-anchor=\"start\" x=\"820\" y=\"-93.8\" font-family=\"Times New Roman,serif\" font-weight=\"bold\" font-size=\"14.00\">Key</text>\n",
       "<text text-anchor=\"start\" x=\"845\" y=\"-93.8\" font-family=\"Times New Roman,serif\" font-size=\"14.00\">  StoreId </text>\n",
       "<text text-anchor=\"start\" x=\"899\" y=\"-93.8\" font-family=\"Times New Roman,serif\" font-style=\"italic\" font-size=\"14.00\">int</text>\n",
       "<text text-anchor=\"start\" x=\"915\" y=\"-93.8\" font-family=\"Times New Roman,serif\" font-size=\"14.00\"> </text>\n",
       "<polygon fill=\"none\" stroke=\"black\" points=\"809,-41 809,-78 1018,-78 1018,-41 809,-41\"/>\n",
       "<text text-anchor=\"start\" x=\"820\" y=\"-56.8\" font-family=\"Times New Roman,serif\" font-weight=\"bold\" font-size=\"14.00\">Key</text>\n",
       "<text text-anchor=\"start\" x=\"845\" y=\"-56.8\" font-family=\"Times New Roman,serif\" font-size=\"14.00\">  CompetitorStoreId </text>\n",
       "<text text-anchor=\"start\" x=\"963\" y=\"-56.8\" font-family=\"Times New Roman,serif\" font-style=\"italic\" font-size=\"14.00\">int</text>\n",
       "<text text-anchor=\"start\" x=\"979\" y=\"-56.8\" font-family=\"Times New Roman,serif\" font-size=\"14.00\"> </text>\n",
       "<polygon fill=\"none\" stroke=\"black\" points=\"809,-4 809,-41 1018,-41 1018,-4 809,-4\"/>\n",
       "<text text-anchor=\"start\" x=\"820\" y=\"-19.8\" font-family=\"Times New Roman,serif\" font-size=\"14.00\">Competitor distance KM </text>\n",
       "<text text-anchor=\"start\" x=\"963\" y=\"-19.8\" font-family=\"Times New Roman,serif\" font-style=\"italic\" font-size=\"14.00\">double</text>\n",
       "<text text-anchor=\"start\" x=\"1003\" y=\"-19.8\" font-family=\"Times New Roman,serif\" font-size=\"14.00\"> </text>\n",
       "</g>\n",
       "<!-- CompetitorPrices&#45;&gt;DistanceMatrix -->\n",
       "<g id=\"edge4\" class=\"edge\"><title>CompetitorPrices-&gt;DistanceMatrix</title>\n",
       "<path fill=\"none\" stroke=\"black\" d=\"M525.124,-190.922C601.925,-168.505 708.486,-137.402 790.329,-113.514\"/>\n",
       "<polygon fill=\"black\" stroke=\"black\" points=\"791.564,-116.799 800.183,-110.637 789.603,-110.079 791.564,-116.799\"/>\n",
       "<text text-anchor=\"middle\" x=\"660\" y=\"-203.8\" font-family=\"Times New Roman,serif\" font-size=\"14.00\">StoreId → StoreId</text>\n",
       "<text text-anchor=\"middle\" x=\"660\" y=\"-188.8\" font-family=\"Times New Roman,serif\" font-size=\"14.00\">CompetitorStoreId → CompetitorStoreId</text>\n",
       "</g>\n",
       "</g>\n",
       "</svg>"
      ],
      "text/plain": [
       "<IPython.core.display.SVG object>"
      ]
     },
     "execution_count": 25,
     "metadata": {},
     "output_type": "execute_result"
    }
   ],
   "source": [
    "price_index_cube.schema"
   ]
  },
  {
   "cell_type": "code",
   "execution_count": 26,
   "metadata": {},
   "outputs": [],
   "source": [
    "h = price_index_cube.hierarchies\n",
    "m = price_index_cube.measures\n",
    "lvl = price_index_cube.levels"
   ]
  },
  {
   "cell_type": "markdown",
   "metadata": {},
   "source": [
    "m"
   ]
  },
  {
   "cell_type": "markdown",
   "metadata": {},
   "source": [
    "We can see a _SUM_ and _MEAN_ measure is created columns of type double/float for the base store - _ProductSales_.  \\\n",
    "A _VALUE_ measure is created for columns of type double/float in the other referenced stores.  \n",
    "Let's create a measure to get the mean of _CompetitorPrice_ which will be used to derive the price index."
   ]
  },
  {
   "cell_type": "code",
   "execution_count": 27,
   "metadata": {},
   "outputs": [],
   "source": [
    "m[\"CompetitorPrice.MEAN\"] = tt.agg.mean(competitorPrices[\"CompetitorPrice\"])"
   ]
  },
  {
   "cell_type": "markdown",
   "metadata": {},
   "source": [
    "We see how the weight price index indicator can be achieved in the next few cells.  \n",
    "Realize how we are setting the scope on _ProductId_ and _StoreId_? This will ensure the summation of the various measures at the _Store_ and _Product_ level as required by the formula.\n",
    "\n",
    "# ${\\sum_{s,p \\in (Stores,Products)}\\frac{Selling Price(s,p)}{Average Competitor Price(s,p)} \\times Margin(s,p)}$"
   ]
  },
  {
   "cell_type": "code",
   "execution_count": 28,
   "metadata": {},
   "outputs": [],
   "source": [
    "price_index_numerator = tt.agg.sum(\n",
    "    (m[\"SellingPrice.MEAN\"] * m[\"Margin.SUM\"]) / m[\"CompetitorPrice.MEAN\"],\n",
    "    scope=tt.scope.origin(lvl[\"ProductId\"], lvl[\"StoreId\"]),\n",
    ")"
   ]
  },
  {
   "cell_type": "markdown",
   "metadata": {},
   "source": [
    "Finally, we calculate the contribution of the product towards the total margin."
   ]
  },
  {
   "cell_type": "code",
   "execution_count": 29,
   "metadata": {},
   "outputs": [],
   "source": [
    "m[\"Price Index\"] = price_index_numerator / m[\"Margin.SUM\"]"
   ]
  },
  {
   "cell_type": "markdown",
   "metadata": {},
   "source": [
    "We can now have the price index per store and product.  \n",
    "As we are currently in sampling mode, let's trigger full data load to do some visualizations."
   ]
  },
  {
   "cell_type": "code",
   "execution_count": 30,
   "metadata": {},
   "outputs": [],
   "source": [
    "session.load_all_data()"
   ]
  },
  {
   "cell_type": "markdown",
   "metadata": {},
   "source": [
    "Let's visualize the price index per store."
   ]
  },
  {
   "cell_type": "code",
   "execution_count": 32,
   "metadata": {
    "atoti": {
     "state": {
      "name": "",
      "type": "container",
      "value": {
       "body": {
        "configuration": {
         "tabular": {
          "addButtonFilter": "numeric",
          "cellRenderers": [
           "tree-layout"
          ],
          "columns": [],
          "columnsGroups": [
           {
            "captionProducer": "firstColumn",
            "cellFactory": "kpi-status",
            "selector": "kpi-status"
           },
           {
            "captionProducer": "firstColumn",
            "cellFactory": "lookup",
            "selector": "lookup"
           },
           {
            "captionProducer": "expiry",
            "cellFactory": "expiry",
            "selector": "kpi-expiry"
           },
           {
            "captionProducer": "columnMerge",
            "cellFactory": {
             "args": {},
             "key": "treeCells"
            },
            "selector": "member"
           }
          ],
          "defaultOptions": {},
          "expansion": {
           "automaticExpansion": true
          },
          "hideAddButton": true,
          "pinnedHeaderSelector": "member",
          "sortingMode": "non-breaking",
          "statisticsShown": true
         }
        },
        "contextValues": {},
        "mdx": "SELECT NON EMPTY Hierarchize(Crossjoin(Hierarchize(DrilldownLevel([Hierarchies].[StoreId].[ALL].[AllMember])), Hierarchize(DrilldownLevel([Hierarchies].[StoreName].[ALL].[AllMember])))) ON ROWS, NON EMPTY {[Measures].[Price Index], [Measures].[Margin.SUM], [Measures].[SellingPrice.MEAN]} ON COLUMNS FROM [CompetitorPricesCube] CELL PROPERTIES VALUE, FORMATTED_VALUE, BACK_COLOR, FORE_COLOR, FONT_FLAGS",
        "ranges": {
         "column": {
          "chunkSize": 50,
          "thresholdPercentage": 0.2
         },
         "row": {
          "chunkSize": 2000,
          "thresholdPercentage": 0.1
         }
        },
        "serverUrl": "",
        "updateMode": "once"
       },
       "containerKey": "pivot-table",
       "showTitleBar": false,
       "style": {}
      }
     }
    }
   },
   "outputs": [
    {
     "data": {
      "application/vnd.atoti.v0+json": {
       "cube": "CompetitorPricesCube",
       "name": null,
       "session": "Unnamed"
      },
      "text/plain": [
       "Install and enable the atoti JupyterLab extension to see this widget."
      ]
     },
     "metadata": {},
     "output_type": "display_data"
    }
   ],
   "source": [
    "price_index_cube.visualize()"
   ]
  },
  {
   "cell_type": "markdown",
   "metadata": {},
   "source": [
    "#### Extracting Price index for Clustering Analysis\n",
    "\n",
    "We output the price index per store into a pandas dataframe using an atoti query.  \n",
    "It will be used as the input for machine learning in the next section. "
   ]
  },
  {
   "cell_type": "code",
   "execution_count": 32,
   "metadata": {},
   "outputs": [
    {
     "data": {
      "text/html": [
       "<div>\n",
       "<style scoped>\n",
       "    .dataframe tbody tr th:only-of-type {\n",
       "        vertical-align: middle;\n",
       "    }\n",
       "\n",
       "    .dataframe tbody tr th {\n",
       "        vertical-align: top;\n",
       "    }\n",
       "\n",
       "    .dataframe thead th {\n",
       "        text-align: right;\n",
       "    }\n",
       "</style>\n",
       "<table border=\"1\" class=\"dataframe\">\n",
       "  <thead>\n",
       "    <tr style=\"text-align: right;\">\n",
       "      <th></th>\n",
       "      <th></th>\n",
       "      <th>Price Index</th>\n",
       "    </tr>\n",
       "    <tr>\n",
       "      <th>StoreId</th>\n",
       "      <th>StoreName</th>\n",
       "      <th></th>\n",
       "    </tr>\n",
       "  </thead>\n",
       "  <tbody>\n",
       "    <tr>\n",
       "      <th>1</th>\n",
       "      <th>ActiveViam Store Paris 1er</th>\n",
       "      <td>0.986389</td>\n",
       "    </tr>\n",
       "    <tr>\n",
       "      <th>2</th>\n",
       "      <th>ActiveViam Store Paris 15</th>\n",
       "      <td>1.043176</td>\n",
       "    </tr>\n",
       "    <tr>\n",
       "      <th>3</th>\n",
       "      <th>ActiveViam Store Paris 18</th>\n",
       "      <td>0.960006</td>\n",
       "    </tr>\n",
       "    <tr>\n",
       "      <th>4</th>\n",
       "      <th>ActiveViam Store Paris 12</th>\n",
       "      <td>0.969073</td>\n",
       "    </tr>\n",
       "    <tr>\n",
       "      <th>5</th>\n",
       "      <th>ActiveViam Store Paris 16</th>\n",
       "      <td>1.030924</td>\n",
       "    </tr>\n",
       "  </tbody>\n",
       "</table>\n",
       "</div>"
      ],
      "text/plain": [
       "                                    Price Index\n",
       "StoreId StoreName                              \n",
       "1       ActiveViam Store Paris 1er     0.986389\n",
       "2       ActiveViam Store Paris 15      1.043176\n",
       "3       ActiveViam Store Paris 18      0.960006\n",
       "4       ActiveViam Store Paris 12      0.969073\n",
       "5       ActiveViam Store Paris 16      1.030924"
      ]
     },
     "execution_count": 32,
     "metadata": {},
     "output_type": "execute_result"
    }
   ],
   "source": [
    "price_index_per_store = price_index_cube.query(\n",
    "    m[\"Price Index\"], levels=[lvl[\"StoreId\"], lvl[\"StoreName\"]]\n",
    ")\n",
    "price_index_per_store.head()"
   ]
  },
  {
   "cell_type": "markdown",
   "metadata": {},
   "source": [
    "### Getting Number of Competitors per Distance Bucket"
   ]
  },
  {
   "cell_type": "code",
   "execution_count": 39,
   "metadata": {
    "atoti": {
     "state": {
      "name": "",
      "type": "container",
      "value": {
       "body": {
        "configuration": {
         "tabular": {
          "addButtonFilter": "numeric",
          "cellRenderers": [
           "tree-layout"
          ],
          "columns": [],
          "columnsGroups": [
           {
            "captionProducer": "firstColumn",
            "cellFactory": "kpi-status",
            "selector": "kpi-status"
           },
           {
            "captionProducer": "firstColumn",
            "cellFactory": "lookup",
            "selector": "lookup"
           },
           {
            "captionProducer": "expiry",
            "cellFactory": "expiry",
            "selector": "kpi-expiry"
           },
           {
            "captionProducer": "columnMerge",
            "cellFactory": {
             "args": {},
             "key": "treeCells"
            },
            "selector": "member"
           }
          ],
          "defaultOptions": {},
          "expansion": {
           "automaticExpansion": true
          },
          "hideAddButton": true,
          "pinnedHeaderSelector": "member",
          "sortingMode": "non-breaking",
          "statisticsShown": true
         }
        },
        "contextValues": {},
        "mdx": "WITH  Member [Measures].[CountCompetitors] AS Count(Descendants([Hierarchies].[CompetitorStoreId].CurrentMember, [Hierarchies].[CompetitorStoreId].[CompetitorStoreId]), EXCLUDEEMPTY), FORMAT_STRING = \"#,###.##\"  SELECT NON EMPTY Hierarchize(Union(Crossjoin(DrilldownLevel([Hierarchies].[StoreId].[ALL].[AllMember]), [Hierarchies].[CompetitorStoreId].DefaultMember), Crossjoin([Hierarchies].[StoreId].[ALL].[AllMember].[1], [Hierarchies].[CompetitorStoreId].[CompetitorStoreId].Members))) ON ROWS, NON EMPTY {[Measures].[contributors.COUNT], [Measures].[CountCompetitors], [Measures].[Nr Competitors], [Measures].[Competitors_10_KM]} ON COLUMNS FROM (SELECT Filter([Hierarchies].[CompetitorStoreId].[CompetitorStoreId].Members, [Measures].[Competitor distance KM.VALUE] < 1) ON COLUMNS FROM [CompetitorPricesCube]) CELL PROPERTIES BACK_COLOR, FONT_FLAGS, FORE_COLOR, FORMATTED_VALUE, VALUE",
        "ranges": {
         "column": {
          "chunkSize": 50,
          "thresholdPercentage": 0.2
         },
         "row": {
          "chunkSize": 2000,
          "thresholdPercentage": 0.1
         }
        },
        "serverUrl": "",
        "updateMode": "once"
       },
       "containerKey": "pivot-table",
       "showTitleBar": false,
       "style": {}
      }
     }
    }
   },
   "outputs": [
    {
     "data": {
      "application/vnd.atoti.v0+json": {
       "cube": "CompetitorPricesCube",
       "name": null,
       "session": "Unnamed"
      },
      "text/plain": [
       "Install and enable the atoti JupyterLab extension to see this widget."
      ]
     },
     "metadata": {},
     "output_type": "display_data"
    }
   ],
   "source": [
    "price_index_cube.visualize()"
   ]
  },
  {
   "cell_type": "code",
   "execution_count": 42,
   "metadata": {},
   "outputs": [],
   "source": [
    "m[\"Nr Competitors\"] = tt.agg.count_distinct(competitorPrices[\"CompetitorStoreId\"])\n",
    "\n",
    "m[\"Competitors_10_KM\"] = tt.agg.mean(\n",
    "    tt.where((m[\"Competitor distance KM.VALUE\"] < 10),  m[\"Nr Competitors\"], 0),\n",
    "    scope=tt.scope.origin(lvl[\"StoreId\"], lvl[\"CompetitorStoreId\"]),\n",
    ")"
   ]
  },
  {
   "cell_type": "code",
   "execution_count": 35,
   "metadata": {},
   "outputs": [],
   "source": [
    "# m[\"Competitors_1_KM\"] = tt.agg.sum(\n",
    "#     tt.where(\n",
    "#         (m[\"Competitor distance KM.VALUE\"] < 1),\n",
    "#         tt.agg.count_distinct(lvl[\"CompetitorStoreId\"]),\n",
    "#         0,\n",
    "#     ),\n",
    "#     scope=tt.scope.origin(lvl[\"StoreId\"]),\n",
    "# )\n",
    "\n",
    "# m[\"Competitors_5_KM\"] = tt.agg.sum(\n",
    "#     tt.where((m[\"Competitor distance KM.VALUE\"] < 5), m[\"contributors.COUNT\"], 0),\n",
    "#     scope=tt.scope.origin(lvl[\"StoreId\"], lvl[\"CompetitorStoreId\"]),\n",
    "# )\n",
    "\n",
    "# m[\"Competitors_10_KM\"] = tt.agg.sum(\n",
    "#     tt.where((m[\"Competitor distance KM.VALUE\"] < 10), m[\"contributors.COUNT\"], 0),\n",
    "#     scope=tt.scope.origin(lvl[\"StoreId\"], lvl[\"CompetitorStoreId\"]),\n",
    "# )\n",
    "\n",
    "# m[\"Competitors_20_KM\"] = tt.agg.sum(\n",
    "#     tt.where((m[\"Competitor distance KM.VALUE\"] < 20), m[\"contributors.COUNT\"], 0),\n",
    "#     scope=tt.scope.origin(lvl[\"StoreId\"], lvl[\"CompetitorStoreId\"]),\n",
    "# )"
   ]
  },
  {
   "cell_type": "code",
   "execution_count": 43,
   "metadata": {},
   "outputs": [
    {
     "data": {
      "application/json": {
       "CompetitorPrice": {
        "key": false,
        "nullable": true,
        "type": "double"
       },
       "CompetitorStoreId": {
        "key": true,
        "nullable": true,
        "type": "int"
       },
       "ProductId": {
        "key": true,
        "nullable": true,
        "type": "int"
       },
       "StoreId": {
        "key": true,
        "nullable": true,
        "type": "int"
       }
      },
      "text/html": [
       "<ul>\n",
       "<li>CompetitorPrices\n",
       "  <ul>\n",
       "  <li>ProductId\n",
       "    <ul>\n",
       "    <li>key: True</li>\n",
       "    <li>nullable: True</li>\n",
       "    <li>type: int</li>\n",
       "    </ul>\n",
       "  </li>\n",
       "  <li>CompetitorStoreId\n",
       "    <ul>\n",
       "    <li>key: True</li>\n",
       "    <li>nullable: True</li>\n",
       "    <li>type: int</li>\n",
       "    </ul>\n",
       "  </li>\n",
       "  <li>CompetitorPrice\n",
       "    <ul>\n",
       "    <li>key: False</li>\n",
       "    <li>nullable: True</li>\n",
       "    <li>type: double</li>\n",
       "    </ul>\n",
       "  </li>\n",
       "  <li>StoreId\n",
       "    <ul>\n",
       "    <li>key: True</li>\n",
       "    <li>nullable: True</li>\n",
       "    <li>type: int</li>\n",
       "    </ul>\n",
       "  </li>\n",
       "  </ul>\n",
       "</li>\n",
       "</ul>\n"
      ],
      "text/plain": [
       "Store(_name='CompetitorPrices', _scenario='Base', _columns={'ProductId': Column(name='ProductId', data_type=AtotiType(java_type='int', nullable=True)), 'CompetitorStoreId': Column(name='CompetitorStoreId', data_type=AtotiType(java_type='int', nullable=True)), 'CompetitorPrice': Column(name='CompetitorPrice', data_type=AtotiType(java_type='double', nullable=True)), 'StoreId': Column(name='StoreId', data_type=AtotiType(java_type='int', nullable=True))})"
      ]
     },
     "execution_count": 43,
     "metadata": {
      "application/json": {
       "expanded": true,
       "root": "CompetitorPrices"
      }
     },
     "output_type": "execute_result"
    }
   ],
   "source": [
    "# competitorPrices"
   ]
  },
  {
   "cell_type": "markdown",
   "metadata": {},
   "source": [
    "We will then use an atoti query to generate a pandas dataframe that contains the number of competitors in each area (columns) against the stores (rows).  \n",
    "In the later section, we will see how this dataframe is used as inputs for machine learning."
   ]
  },
  {
   "cell_type": "code",
   "execution_count": 37,
   "metadata": {},
   "outputs": [
    {
     "data": {
      "text/html": [
       "<div>\n",
       "<style scoped>\n",
       "    .dataframe tbody tr th:only-of-type {\n",
       "        vertical-align: middle;\n",
       "    }\n",
       "\n",
       "    .dataframe tbody tr th {\n",
       "        vertical-align: top;\n",
       "    }\n",
       "\n",
       "    .dataframe thead th {\n",
       "        text-align: right;\n",
       "    }\n",
       "</style>\n",
       "<table border=\"1\" class=\"dataframe\">\n",
       "  <thead>\n",
       "    <tr style=\"text-align: right;\">\n",
       "      <th></th>\n",
       "      <th></th>\n",
       "      <th>Competitors_1_KM</th>\n",
       "      <th>Competitors_5_KM</th>\n",
       "      <th>Competitors_10_KM</th>\n",
       "      <th>Competitors_20_KM</th>\n",
       "    </tr>\n",
       "    <tr>\n",
       "      <th>StoreId</th>\n",
       "      <th>StoreName</th>\n",
       "      <th></th>\n",
       "      <th></th>\n",
       "      <th></th>\n",
       "      <th></th>\n",
       "    </tr>\n",
       "  </thead>\n",
       "  <tbody>\n",
       "    <tr>\n",
       "      <th>1</th>\n",
       "      <th>ActiveViam Store Paris 1er</th>\n",
       "      <td>6127</td>\n",
       "      <td>28407</td>\n",
       "      <td>36762</td>\n",
       "      <td>39547</td>\n",
       "    </tr>\n",
       "    <tr>\n",
       "      <th>2</th>\n",
       "      <th>ActiveViam Store Paris 15</th>\n",
       "      <td>2785</td>\n",
       "      <td>25622</td>\n",
       "      <td>33977</td>\n",
       "      <td>39547</td>\n",
       "    </tr>\n",
       "    <tr>\n",
       "      <th>3</th>\n",
       "      <th>ActiveViam Store Paris 18</th>\n",
       "      <td>2785</td>\n",
       "      <td>20052</td>\n",
       "      <td>39547</td>\n",
       "      <td>39547</td>\n",
       "    </tr>\n",
       "    <tr>\n",
       "      <th>4</th>\n",
       "      <th>ActiveViam Store Paris 12</th>\n",
       "      <td>2785</td>\n",
       "      <td>17267</td>\n",
       "      <td>33977</td>\n",
       "      <td>39547</td>\n",
       "    </tr>\n",
       "    <tr>\n",
       "      <th>5</th>\n",
       "      <th>ActiveViam Store Paris 16</th>\n",
       "      <td>2785</td>\n",
       "      <td>20052</td>\n",
       "      <td>31192</td>\n",
       "      <td>39547</td>\n",
       "    </tr>\n",
       "  </tbody>\n",
       "</table>\n",
       "</div>"
      ],
      "text/plain": [
       "                                    Competitors_1_KM  Competitors_5_KM  \\\n",
       "StoreId StoreName                                                        \n",
       "1       ActiveViam Store Paris 1er              6127             28407   \n",
       "2       ActiveViam Store Paris 15               2785             25622   \n",
       "3       ActiveViam Store Paris 18               2785             20052   \n",
       "4       ActiveViam Store Paris 12               2785             17267   \n",
       "5       ActiveViam Store Paris 16               2785             20052   \n",
       "\n",
       "                                    Competitors_10_KM  Competitors_20_KM  \n",
       "StoreId StoreName                                                         \n",
       "1       ActiveViam Store Paris 1er              36762              39547  \n",
       "2       ActiveViam Store Paris 15               33977              39547  \n",
       "3       ActiveViam Store Paris 18               39547              39547  \n",
       "4       ActiveViam Store Paris 12               33977              39547  \n",
       "5       ActiveViam Store Paris 16               31192              39547  "
      ]
     },
     "execution_count": 37,
     "metadata": {},
     "output_type": "execute_result"
    }
   ],
   "source": [
    "# stores_competitors_count_per_area = price_index_cube.query(\n",
    "#     m[\"Competitors_1_KM\"],\n",
    "#     m[\"Competitors_5_KM\"],\n",
    "#     m[\"Competitors_10_KM\"],\n",
    "#     m[\"Competitors_20_KM\"],\n",
    "#     levels=[lvl[\"StoreId\"], lvl[\"StoreName\"]],\n",
    "# )\n",
    "# stores_competitors_count_per_area.head()"
   ]
  },
  {
   "cell_type": "code",
   "execution_count": null,
   "metadata": {},
   "outputs": [],
   "source": []
  },
  {
   "cell_type": "markdown",
   "metadata": {},
   "source": [
    "## Stores clustering using price index and competitors number features\n",
    "\n",
    "In this part we will use the previously calculated features (nr of competitor stores and price index) to generate 5 clusters of stores.  \n",
    "Since there are five features (Competitors_1_KM, Competitors_5_KM, Competitors_10_KM, Competitors_20_KM, Price Index), a machine learning algorithm such as k-means is appropriate as the human brain will have too much trouble making clusters that have sense.\n",
    "\n",
    "In the next section we will use those clusters to generate new prices and assess whether we have managed to improve our pricing."
   ]
  },
  {
   "cell_type": "code",
   "execution_count": null,
   "metadata": {},
   "outputs": [],
   "source": [
    "%matplotlib inline\n",
    "import matplotlib.pyplot as plt\n",
    "import numpy as np\n",
    "import pandas as pd\n",
    "import scipy as sc\n",
    "import seaborn as sns\n",
    "from sklearn.cluster import KMeans, MiniBatchKMeans\n",
    "from sklearn.metrics import pairwise_distances_argmin\n",
    "\n",
    "sns.set()  # for plot styling"
   ]
  },
  {
   "cell_type": "markdown",
   "metadata": {},
   "source": [
    "Merging the features computed in the previous sections:"
   ]
  },
  {
   "cell_type": "code",
   "execution_count": null,
   "metadata": {},
   "outputs": [],
   "source": [
    "price_index_per_store.reset_index(inplace=True)\n",
    "stores_competitors_count_per_area.reset_index(inplace=True)\n",
    "price_index_per_store = price_index_per_store.drop(columns=[\"StoreName\"])\n",
    "stores_competitors_count_per_area = stores_competitors_count_per_area.drop(\n",
    "    columns=[\"StoreName\"]\n",
    ")\n",
    "stores_competitors_count_per_area.StoreId = stores_competitors_count_per_area.StoreId.astype(\n",
    "    int\n",
    ")"
   ]
  },
  {
   "cell_type": "code",
   "execution_count": null,
   "metadata": {},
   "outputs": [],
   "source": [
    "price_index_per_store.dtypes"
   ]
  },
  {
   "cell_type": "code",
   "execution_count": null,
   "metadata": {},
   "outputs": [],
   "source": [
    "stores_features = pd.merge(\n",
    "    stores_competitors_count_per_area,\n",
    "    price_index_per_store,\n",
    "    left_on=\"StoreId\",\n",
    "    right_on=\"StoreId\",\n",
    "    how=\"left\",\n",
    ")"
   ]
  },
  {
   "cell_type": "markdown",
   "metadata": {},
   "source": [
    "Formatting the features for scikit learn"
   ]
  },
  {
   "cell_type": "code",
   "execution_count": null,
   "metadata": {},
   "outputs": [],
   "source": [
    "stores_features = stores_features.set_index(\"StoreId\")\n",
    "stores_features.head()"
   ]
  },
  {
   "cell_type": "markdown",
   "metadata": {},
   "source": [
    "Chosing the number of clusters"
   ]
  },
  {
   "cell_type": "code",
   "execution_count": null,
   "metadata": {},
   "outputs": [],
   "source": [
    "number_of_clusters = 5"
   ]
  },
  {
   "cell_type": "markdown",
   "metadata": {},
   "source": [
    "And running the clustering algorithm"
   ]
  },
  {
   "cell_type": "code",
   "execution_count": null,
   "metadata": {},
   "outputs": [],
   "source": [
    "kmeans = MiniBatchKMeans(number_of_clusters)\n",
    "kmeans.fit(stores_features)\n",
    "new_colors = kmeans.cluster_centers_[kmeans.predict(stores_features)]\n",
    "k_means_labels = pairwise_distances_argmin(stores_features, kmeans.cluster_centers_)\n",
    "labels = KMeans(number_of_clusters, random_state=0).fit_predict(stores_features)"
   ]
  },
  {
   "cell_type": "markdown",
   "metadata": {},
   "source": [
    "Using competitors within 1km as an example, we can now analyze the result of the clustering by pair of features using matplotlib as shown below:"
   ]
  },
  {
   "cell_type": "code",
   "execution_count": null,
   "metadata": {},
   "outputs": [],
   "source": [
    "plt.scatter(\n",
    "    stores_features.loc[:, \"Competitors_1_KM\"],\n",
    "    stores_features.loc[:, \"Price Index\"],\n",
    "    c=k_means_labels,\n",
    "    s=50,\n",
    "    cmap=\"viridis\",\n",
    ")\n",
    "\n",
    "plt.xlabel(\"Nr Competitors within 1km\")\n",
    "plt.ylabel(\"Price Index\")"
   ]
  },
  {
   "cell_type": "markdown",
   "metadata": {},
   "source": [
    "In the above plot, each color represents a cluster. We can see that clusters seem to be strongly based on the number of competitors rather than on the price index.  \n",
    "However, to avoid having to plot every couple of features and understand more quickly what our clusters are, we will use seaborn to have a plot of the clustering result for every pair of features."
   ]
  },
  {
   "cell_type": "code",
   "execution_count": null,
   "metadata": {},
   "outputs": [],
   "source": [
    "stores_features[\"Cluster\"] = labels\n",
    "stores_features.head(5)"
   ]
  },
  {
   "cell_type": "code",
   "execution_count": null,
   "metadata": {},
   "outputs": [],
   "source": [
    "sns.pairplot(data=stores_features, hue=\"Cluster\")"
   ]
  },
  {
   "cell_type": "markdown",
   "metadata": {},
   "source": [
    "We can have a better understanding of the clusters with the chart above.  \n",
    "For example clusters 0 and 4 are those with stores that have a price index close to 1, but the stores in cluster 0 have many more competitors in a 10km radius than those of cluster 4.\n",
    "\n",
    "Continuing this analysis tells us that:\n",
    "- Cluster 0 contains stores with an average price index (around 1.0) and a lot of competitor stores around.\n",
    "- Cluster 1 groups the stores with the fewest number of competitor stores around.\n",
    "- Cluster 2 contains the stores that have the highest number of competitor stores around them.\n",
    "- Cluster 3 is in between all other clusters. Stores in this cluster have few competitors in a 5km radius, but a lot in a 20km radius.\n",
    "- Cluster 4 contains stores with an average price index (around 1.0) but few competitor stores around.\n"
   ]
  },
  {
   "cell_type": "markdown",
   "metadata": {},
   "source": [
    "## Pricing Simulations around clusters\n",
    "We will now generate new prices using the previous clusters in order to take into account the different competitiveness constraints of the stores.  "
   ]
  },
  {
   "cell_type": "code",
   "execution_count": null,
   "metadata": {},
   "outputs": [],
   "source": [
    "from utils import pricer"
   ]
  },
  {
   "cell_type": "markdown",
   "metadata": {},
   "source": [
    "The below pricing method tries to reduce the prices if the competitiveness is strong, and on the contrary increase it if there is few competition.  \n",
    "It is directly using the clusters generated from the previous part."
   ]
  },
  {
   "cell_type": "code",
   "execution_count": null,
   "metadata": {},
   "outputs": [],
   "source": [
    "selling_prices_based_on_clusters = pricer.optimize_prices(\n",
    "    product_sales_df, stores_features\n",
    ")"
   ]
  },
  {
   "cell_type": "markdown",
   "metadata": {},
   "source": [
    "Thanks to atoti built-in simulations capabilities, we can easily create a new scenario for the new pricing by directly loading the price-optimised dataframe.  \n",
    "All the previously defined KPIs, e.g. the price index, will be re-computed on the fly, enabling us to compare the scenarios and their benefits."
   ]
  },
  {
   "cell_type": "code",
   "execution_count": null,
   "metadata": {},
   "outputs": [],
   "source": [
    "productSales.scenarios[\"Selling prices based on clusters\"].load_pandas(\n",
    "    selling_prices_based_on_clusters\n",
    ")"
   ]
  },
  {
   "cell_type": "code",
   "execution_count": null,
   "metadata": {
    "atoti": {
     "state": {
      "name": "",
      "type": "container",
      "value": {
       "body": {
        "configuration": {
         "tabular": {
          "addButtonFilter": "numeric",
          "columnOrder": {
           "args": {
            "orderedColumns": [
             "c-treeCells-member",
             "([Measures].[Price Index (1)],[Epoch].[Epoch].[Branch].[Base])",
             "([Measures].[Price Index (1)],[Epoch].[Epoch].[Branch].[Selling prices based on clusters])",
             "([Measures].[Price Index (1)],[Epoch].[Epoch].[Branch].[Change in Price Index])"
            ]
           },
           "key": "explicit"
          },
          "columns": [
           {
            "key": "([Epoch].[Epoch].[Branch].[Change in Price Index],[Measures].[Price Index])",
            "width": 211
           },
           {
            "key": "([Epoch].[Epoch].[Branch].[Change in Price Index],[Measures].[Price Index (1)])",
            "width": 156
           },
           {
            "key": "([Epoch].[Epoch].[Branch].[Base],[Measures].[Price Index (1)])",
            "width": 160
           },
           {
            "key": "([Epoch].[Epoch].[Branch].[Selling prices based on clusters],[Measures].[Price Index (1)])",
            "width": 193
           },
           {
            "key": "([Measures].[Price Index (1)],[Epoch].[Epoch].[Branch].[Base])",
            "width": 169
           },
           {
            "key": "([Measures].[Price Index (1)],[Epoch].[Epoch].[Branch].[Change in Price Index])",
            "width": 199
           },
           {
            "key": "([Measures].[Price Index (1)],[Epoch].[Epoch].[Branch].[Selling prices based on clusters])",
            "width": 228
           }
          ],
          "columnsGroups": [
           {
            "captionProducer": "firstColumn",
            "cellFactory": "kpi-status",
            "selector": "kpi-status"
           },
           {
            "captionProducer": "firstColumn",
            "cellFactory": "lookup",
            "selector": "lookup"
           },
           {
            "captionProducer": "expiry",
            "cellFactory": "expiry",
            "selector": "kpi-expiry"
           },
           {
            "captionProducer": "columnMerge",
            "cellFactory": {
             "args": {},
             "key": "treeCells"
            },
            "selector": "member"
           }
          ],
          "defaultOptions": {},
          "expansion": {
           "automaticExpansion": true
          },
          "hideAddButton": true,
          "pinnedHeaderSelector": "member",
          "sortingMode": "non-breaking",
          "statisticsShown": true
         }
        },
        "contextValues": {},
        "mdx": "WITH  Member [Epoch].[Epoch].[Change in Price Index] AS [Epoch].[Epoch].[Selling prices based on clusters] - [Epoch].[Epoch].[Base], CAPTION = \"Change in Price Index\"    Member [Measures].[Price Index (1)] AS [Measures].[Price Index], CAPTION = [Measures].[Price Index].MEMBER_CAPTION, FORE_COLOR = CASE WHEN [Measures].[Price Index (1)] < 0 THEN rgb(255, 0, 0) END, FORMAT_STRING = \"#,###.00\"  SELECT NON EMPTY Hierarchize(DrilldownLevel([Hierarchies].[StoreName].[ALL].[AllMember])) ON ROWS, NON EMPTY Crossjoin({[Measures].[Price Index (1)]}, Hierarchize(Union([Epoch].[Epoch].[Branch].Members, [Epoch].[Epoch].[Change in Price Index]))) ON COLUMNS FROM [CompetitorPricesCube] CELL PROPERTIES BACK_COLOR, FONT_FLAGS, FORE_COLOR, FORMATTED_VALUE, VALUE",
        "ranges": {
         "column": {
          "chunkSize": 50,
          "thresholdPercentage": 0.2
         },
         "row": {
          "chunkSize": 2000,
          "thresholdPercentage": 0.1
         }
        },
        "serverUrl": "",
        "updateMode": "once"
       },
       "containerKey": "pivot-table",
       "showTitleBar": false,
       "style": {}
      }
     }
    }
   },
   "outputs": [],
   "source": [
    "price_index_cube.visualize()"
   ]
  },
  {
   "cell_type": "markdown",
   "metadata": {
    "atoti": {
     "state": {
      "name": "",
      "type": "container",
      "value": {
       "body": {
        "configuration": {},
        "query": {
         "mdx": "SELECT FROM [CompetitorPricesCube] CELL PROPERTIES VALUE, FORMATTED_VALUE, BACK_COLOR, FORE_COLOR, FONT_FLAGS"
        }
       },
       "containerKey": "chart",
       "showTitleBar": false
      }
     }
    }
   },
   "source": [
    "Let's load the cluster results obtained from the machine learning model into the cube."
   ]
  },
  {
   "cell_type": "code",
   "execution_count": null,
   "metadata": {},
   "outputs": [],
   "source": [
    "clusters_df = stores_features[[\"Cluster\"]].reset_index()\n",
    "clusters_df.StoreId = clusters_df.StoreId.astype(\"int32\")\n",
    "cluster_store = session.read_pandas(\n",
    "    clusters_df, keys=[\"StoreId\"], store_name=\"Clusters\"\n",
    ")\n",
    "\n",
    "cluster_store.head(10)"
   ]
  },
  {
   "cell_type": "code",
   "execution_count": null,
   "metadata": {},
   "outputs": [],
   "source": [
    "stores.join(cluster_store)"
   ]
  },
  {
   "cell_type": "markdown",
   "metadata": {},
   "source": [
    "With the cluster information added to the cube, we can now visualize the changes in price index for the 5 clusters."
   ]
  },
  {
   "cell_type": "code",
   "execution_count": null,
   "metadata": {
    "atoti": {
     "state": {
      "name": "Price index optimisation difference",
      "type": "container",
      "value": {
       "body": {
        "configuration": {
         "mapping": {
          "horizontalSubplots": [],
          "splitBy": [
           "[Epoch].[Epoch].[Branch]"
          ],
          "values": [
           "[Measures].[Price Index]"
          ],
          "verticalSubplots": [],
          "xAxis": [
           "[Hierarchies].[Cluster].[Cluster]"
          ]
         },
         "plotly": {
          "layout": {
           "xaxis": {
            "title": "Clusters"
           },
           "yaxis": {
            "title": "Price Index"
           }
          }
         },
         "type": "plotly-clustered-column-chart"
        },
        "query": {
         "mdx": "SELECT NON EMPTY Crossjoin([Hierarchies].[Cluster].[Cluster].Members, [Epoch].[Epoch].[Branch].Members) ON ROWS, NON EMPTY [Measures].[Price Index] ON COLUMNS FROM [CompetitorPricesCube] CELL PROPERTIES VALUE, FORMATTED_VALUE, BACK_COLOR, FORE_COLOR, FONT_FLAGS",
         "serverUrl": "",
         "updateMode": "once"
        }
       },
       "containerKey": "chart",
       "showTitleBar": false,
       "style": {}
      }
     }
    }
   },
   "outputs": [],
   "source": [
    "price_index_cube.visualize(\"Price index optimisation difference\")"
   ]
  },
  {
   "cell_type": "markdown",
   "metadata": {},
   "source": [
    "We can see that the pricing method decreased the price index of stores in clusters that have high competition in order for them to attract more customers.  \n",
    "On the contrary it increased the prices in stores belonging to low competition clusters in order to maximize margin."
   ]
  }
 ],
 "metadata": {
  "kernelspec": {
   "display_name": "Python 3",
   "language": "python",
   "name": "python3"
  },
  "language_info": {
   "codemirror_mode": {
    "name": "ipython",
    "version": 3
   },
   "file_extension": ".py",
   "mimetype": "text/x-python",
   "name": "python",
   "nbconvert_exporter": "python",
   "pygments_lexer": "ipython3",
   "version": "3.8.3"
  }
 },
 "nbformat": 4,
 "nbformat_minor": 4
}
