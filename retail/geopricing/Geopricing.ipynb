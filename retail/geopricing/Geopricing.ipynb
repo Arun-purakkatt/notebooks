{
 "cells": [
  {
   "cell_type": "markdown",
   "metadata": {},
   "source": [
    "# Geopricing with atoti\n",
    "In this notebook we will explore another pricing use case combining machine learning algorithms and atoti.  \n",
    "We will start by creating clusters of stores depending on their local competition and current prices, then simulate various pricing strategies with atoti.\n",
    "\n",
    "### Dependencies\n",
    "A few libraries will need to be installed for this notebook to work:  \n",
    "- conda install folium scipy scikit-learn matplotlib seaborn \n",
    "\n",
    "## Computing stores features\n",
    "\n",
    "### 1. Counting the number of competitor stores\n",
    "We will first start by loading our stores."
   ]
  },
  {
   "cell_type": "code",
   "execution_count": 1,
   "metadata": {},
   "outputs": [
    {
     "data": {
      "text/html": [
       "<div>\n",
       "<style scoped>\n",
       "    .dataframe tbody tr th:only-of-type {\n",
       "        vertical-align: middle;\n",
       "    }\n",
       "\n",
       "    .dataframe tbody tr th {\n",
       "        vertical-align: top;\n",
       "    }\n",
       "\n",
       "    .dataframe thead th {\n",
       "        text-align: right;\n",
       "    }\n",
       "</style>\n",
       "<table border=\"1\" class=\"dataframe\">\n",
       "  <thead>\n",
       "    <tr style=\"text-align: right;\">\n",
       "      <th></th>\n",
       "      <th>StoreId</th>\n",
       "      <th>StoreName</th>\n",
       "      <th>Adress</th>\n",
       "      <th>ZipCode</th>\n",
       "      <th>City</th>\n",
       "      <th>Country</th>\n",
       "      <th>Latitude</th>\n",
       "      <th>Longitude</th>\n",
       "      <th>Company</th>\n",
       "    </tr>\n",
       "  </thead>\n",
       "  <tbody>\n",
       "    <tr>\n",
       "      <th>0</th>\n",
       "      <td>1</td>\n",
       "      <td>ActiveViam Store Paris 1er</td>\n",
       "      <td>Paris 1er</td>\n",
       "      <td>75001</td>\n",
       "      <td>Paris</td>\n",
       "      <td>France</td>\n",
       "      <td>48.860757</td>\n",
       "      <td>2.342566</td>\n",
       "      <td>ActiveViam</td>\n",
       "    </tr>\n",
       "    <tr>\n",
       "      <th>1</th>\n",
       "      <td>2</td>\n",
       "      <td>ActiveViam Store Paris 15</td>\n",
       "      <td>Paris 15</td>\n",
       "      <td>75015</td>\n",
       "      <td>Paris</td>\n",
       "      <td>France</td>\n",
       "      <td>48.840412</td>\n",
       "      <td>2.312649</td>\n",
       "      <td>ActiveViam</td>\n",
       "    </tr>\n",
       "    <tr>\n",
       "      <th>2</th>\n",
       "      <td>3</td>\n",
       "      <td>ActiveViam Store Paris 18</td>\n",
       "      <td>Paris 18</td>\n",
       "      <td>75018</td>\n",
       "      <td>Paris</td>\n",
       "      <td>France</td>\n",
       "      <td>48.886483</td>\n",
       "      <td>2.344326</td>\n",
       "      <td>ActiveViam</td>\n",
       "    </tr>\n",
       "    <tr>\n",
       "      <th>3</th>\n",
       "      <td>4</td>\n",
       "      <td>ActiveViam Store Paris 12</td>\n",
       "      <td>Paris 12</td>\n",
       "      <td>75012</td>\n",
       "      <td>Paris</td>\n",
       "      <td>France</td>\n",
       "      <td>48.832182</td>\n",
       "      <td>2.375729</td>\n",
       "      <td>ActiveViam</td>\n",
       "    </tr>\n",
       "    <tr>\n",
       "      <th>4</th>\n",
       "      <td>5</td>\n",
       "      <td>ActiveViam Store Paris 16</td>\n",
       "      <td>Paris 16</td>\n",
       "      <td>75016</td>\n",
       "      <td>Paris</td>\n",
       "      <td>France</td>\n",
       "      <td>48.855454</td>\n",
       "      <td>2.280886</td>\n",
       "      <td>ActiveViam</td>\n",
       "    </tr>\n",
       "  </tbody>\n",
       "</table>\n",
       "</div>"
      ],
      "text/plain": [
       "   StoreId                   StoreName     Adress  ZipCode   City Country  \\\n",
       "0        1  ActiveViam Store Paris 1er  Paris 1er    75001  Paris  France   \n",
       "1        2   ActiveViam Store Paris 15   Paris 15    75015  Paris  France   \n",
       "2        3   ActiveViam Store Paris 18   Paris 18    75018  Paris  France   \n",
       "3        4   ActiveViam Store Paris 12   Paris 12    75012  Paris  France   \n",
       "4        5   ActiveViam Store Paris 16   Paris 16    75016  Paris  France   \n",
       "\n",
       "    Latitude  Longitude     Company  \n",
       "0  48.860757   2.342566  ActiveViam  \n",
       "1  48.840412   2.312649  ActiveViam  \n",
       "2  48.886483   2.344326  ActiveViam  \n",
       "3  48.832182   2.375729  ActiveViam  \n",
       "4  48.855454   2.280886  ActiveViam  "
      ]
     },
     "execution_count": 1,
     "metadata": {},
     "output_type": "execute_result"
    }
   ],
   "source": [
    "import pandas as pd\n",
    "\n",
    "stores_df = pd.read_csv(\n",
    "    \"https://data.atoti.io/notebooks/geopricing/stores.csv\", sep=\";\"\n",
    ")\n",
    "stores_df.head(5)"
   ]
  },
  {
   "cell_type": "markdown",
   "metadata": {},
   "source": [
    "And then those of the competitors."
   ]
  },
  {
   "cell_type": "code",
   "execution_count": 2,
   "metadata": {},
   "outputs": [
    {
     "data": {
      "text/html": [
       "<div>\n",
       "<style scoped>\n",
       "    .dataframe tbody tr th:only-of-type {\n",
       "        vertical-align: middle;\n",
       "    }\n",
       "\n",
       "    .dataframe tbody tr th {\n",
       "        vertical-align: top;\n",
       "    }\n",
       "\n",
       "    .dataframe thead th {\n",
       "        text-align: right;\n",
       "    }\n",
       "</style>\n",
       "<table border=\"1\" class=\"dataframe\">\n",
       "  <thead>\n",
       "    <tr style=\"text-align: right;\">\n",
       "      <th></th>\n",
       "      <th>CompetitorStoreId</th>\n",
       "      <th>CompetitorStoreName</th>\n",
       "      <th>CompetitorStoreAdress</th>\n",
       "      <th>CompetitorStoreZipCode</th>\n",
       "      <th>CompetitorStoreCity</th>\n",
       "      <th>CompetitorStoreCountry</th>\n",
       "      <th>CompetitorStoreLatitude</th>\n",
       "      <th>CompetitorStoreLongitude</th>\n",
       "      <th>CompetitorStoreCompany</th>\n",
       "    </tr>\n",
       "  </thead>\n",
       "  <tbody>\n",
       "    <tr>\n",
       "      <th>0</th>\n",
       "      <td>101</td>\n",
       "      <td>Concurrent Premium</td>\n",
       "      <td>Paris 1er</td>\n",
       "      <td>75001</td>\n",
       "      <td>Paris</td>\n",
       "      <td>France</td>\n",
       "      <td>48.860757</td>\n",
       "      <td>2.342566</td>\n",
       "      <td>Concurrent Premium</td>\n",
       "    </tr>\n",
       "    <tr>\n",
       "      <th>1</th>\n",
       "      <td>102</td>\n",
       "      <td>Concurrent Premium</td>\n",
       "      <td>Paris 15</td>\n",
       "      <td>75015</td>\n",
       "      <td>Paris</td>\n",
       "      <td>France</td>\n",
       "      <td>48.840412</td>\n",
       "      <td>2.312649</td>\n",
       "      <td>Concurrent Premium</td>\n",
       "    </tr>\n",
       "    <tr>\n",
       "      <th>2</th>\n",
       "      <td>103</td>\n",
       "      <td>Concurrent Premium</td>\n",
       "      <td>Paris 18</td>\n",
       "      <td>75018</td>\n",
       "      <td>Paris</td>\n",
       "      <td>France</td>\n",
       "      <td>48.886483</td>\n",
       "      <td>2.344326</td>\n",
       "      <td>Concurrent Premium</td>\n",
       "    </tr>\n",
       "    <tr>\n",
       "      <th>3</th>\n",
       "      <td>104</td>\n",
       "      <td>Concurrent Premium</td>\n",
       "      <td>Paris 12</td>\n",
       "      <td>75012</td>\n",
       "      <td>Paris</td>\n",
       "      <td>France</td>\n",
       "      <td>48.832182</td>\n",
       "      <td>2.375729</td>\n",
       "      <td>Concurrent Premium</td>\n",
       "    </tr>\n",
       "    <tr>\n",
       "      <th>4</th>\n",
       "      <td>105</td>\n",
       "      <td>Concurrent Premium</td>\n",
       "      <td>Paris 16</td>\n",
       "      <td>75016</td>\n",
       "      <td>Paris</td>\n",
       "      <td>France</td>\n",
       "      <td>48.855454</td>\n",
       "      <td>2.280886</td>\n",
       "      <td>Concurrent Premium</td>\n",
       "    </tr>\n",
       "  </tbody>\n",
       "</table>\n",
       "</div>"
      ],
      "text/plain": [
       "   CompetitorStoreId CompetitorStoreName CompetitorStoreAdress  \\\n",
       "0                101  Concurrent Premium             Paris 1er   \n",
       "1                102  Concurrent Premium              Paris 15   \n",
       "2                103  Concurrent Premium              Paris 18   \n",
       "3                104  Concurrent Premium              Paris 12   \n",
       "4                105  Concurrent Premium              Paris 16   \n",
       "\n",
       "   CompetitorStoreZipCode CompetitorStoreCity CompetitorStoreCountry  \\\n",
       "0                   75001               Paris                 France   \n",
       "1                   75015               Paris                 France   \n",
       "2                   75018               Paris                 France   \n",
       "3                   75012               Paris                 France   \n",
       "4                   75016               Paris                 France   \n",
       "\n",
       "   CompetitorStoreLatitude  CompetitorStoreLongitude CompetitorStoreCompany  \n",
       "0                48.860757                  2.342566     Concurrent Premium  \n",
       "1                48.840412                  2.312649     Concurrent Premium  \n",
       "2                48.886483                  2.344326     Concurrent Premium  \n",
       "3                48.832182                  2.375729     Concurrent Premium  \n",
       "4                48.855454                  2.280886     Concurrent Premium  "
      ]
     },
     "execution_count": 2,
     "metadata": {},
     "output_type": "execute_result"
    }
   ],
   "source": [
    "competitor_stores_df = pd.read_csv(\n",
    "    \"https://data.atoti.io/notebooks/geopricing/competitor_stores.csv\", sep=\";\"\n",
    ")\n",
    "competitor_stores_df.head(5)"
   ]
  },
  {
   "cell_type": "markdown",
   "metadata": {},
   "source": [
    "We can already visualize on a map our stores (in red) and those of the competition (in blue)."
   ]
  },
  {
   "cell_type": "code",
   "execution_count": 3,
   "metadata": {},
   "outputs": [],
   "source": [
    "from utils import utils"
   ]
  },
  {
   "cell_type": "code",
   "execution_count": 4,
   "metadata": {},
   "outputs": [
    {
     "data": {
      "text/html": [
       "<div style=\"width:100%;\"><div style=\"position:relative;width:100%;height:0;padding-bottom:60%;\"><span style=\"color:#565656\">Make this Notebook Trusted to load map: File -> Trust Notebook</span><iframe src=\"about:blank\" style=\"position:absolute;width:100%;height:100%;left:0;top:0;border:none !important;\" data-html=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 onload=\"this.contentDocument.open();this.contentDocument.write(atob(this.getAttribute('data-html')));this.contentDocument.close();\" allowfullscreen webkitallowfullscreen mozallowfullscreen></iframe></div></div>"
      ],
      "text/plain": [
       "<folium.folium.Map at 0x1820f62e1f0>"
      ]
     },
     "execution_count": 4,
     "metadata": {},
     "output_type": "execute_result"
    }
   ],
   "source": [
    "stores_map = utils.build_stores_map(competitor_stores_df, stores_df)\n",
    "stores_map"
   ]
  },
  {
   "cell_type": "markdown",
   "metadata": {},
   "source": [
    "To assess whether a store has strong competition or not, we will count how many competitor stores there are in an area of 1kms, 5kms, 10kms and 20kms.  \n",
    "In order to to that, we first need to compute distances between stores then count the number of competitor stores for each of the kilometers values above.\n",
    "\n",
    "### Computing distances between stores\n",
    "To compute distances between stores, we simply used the [harvesine formula](https://en.wikipedia.org/wiki/Haversine_formula). Note that another approach would be to use instead something like the [google API to compute distances and durations between two points](https://developers.google.com/maps/documentation/distance-matrix/intro) (thus taking into accounts possible means of transportation).\n",
    "\n",
    "First we build a matrix containing the distances between stores and all competitors."
   ]
  },
  {
   "cell_type": "code",
   "execution_count": 5,
   "metadata": {},
   "outputs": [
    {
     "data": {
      "text/html": [
       "<div>\n",
       "<style scoped>\n",
       "    .dataframe tbody tr th:only-of-type {\n",
       "        vertical-align: middle;\n",
       "    }\n",
       "\n",
       "    .dataframe tbody tr th {\n",
       "        vertical-align: top;\n",
       "    }\n",
       "\n",
       "    .dataframe thead th {\n",
       "        text-align: right;\n",
       "    }\n",
       "</style>\n",
       "<table border=\"1\" class=\"dataframe\">\n",
       "  <thead>\n",
       "    <tr style=\"text-align: right;\">\n",
       "      <th></th>\n",
       "      <th>CompetitorStoreId</th>\n",
       "      <th>CompetitorStoreName</th>\n",
       "      <th>CompetitorStoreAdress</th>\n",
       "      <th>CompetitorStoreZipCode</th>\n",
       "      <th>CompetitorStoreCity</th>\n",
       "      <th>CompetitorStoreCountry</th>\n",
       "      <th>CompetitorStoreLatitude</th>\n",
       "      <th>CompetitorStoreLongitude</th>\n",
       "      <th>CompetitorStoreCompany</th>\n",
       "      <th>key</th>\n",
       "      <th>StoreId</th>\n",
       "      <th>StoreName</th>\n",
       "      <th>Adress</th>\n",
       "      <th>ZipCode</th>\n",
       "      <th>City</th>\n",
       "      <th>Country</th>\n",
       "      <th>Latitude</th>\n",
       "      <th>Longitude</th>\n",
       "      <th>Company</th>\n",
       "      <th>Competitor distance KM</th>\n",
       "    </tr>\n",
       "  </thead>\n",
       "  <tbody>\n",
       "    <tr>\n",
       "      <th>0</th>\n",
       "      <td>101</td>\n",
       "      <td>Concurrent Premium</td>\n",
       "      <td>Paris 1er</td>\n",
       "      <td>75001</td>\n",
       "      <td>Paris</td>\n",
       "      <td>France</td>\n",
       "      <td>48.860757</td>\n",
       "      <td>2.342566</td>\n",
       "      <td>Concurrent Premium</td>\n",
       "      <td>0</td>\n",
       "      <td>1</td>\n",
       "      <td>ActiveViam Store Paris 1er</td>\n",
       "      <td>Paris 1er</td>\n",
       "      <td>75001</td>\n",
       "      <td>Paris</td>\n",
       "      <td>France</td>\n",
       "      <td>48.860757</td>\n",
       "      <td>2.342566</td>\n",
       "      <td>ActiveViam</td>\n",
       "      <td>0.000000</td>\n",
       "    </tr>\n",
       "    <tr>\n",
       "      <th>1</th>\n",
       "      <td>101</td>\n",
       "      <td>Concurrent Premium</td>\n",
       "      <td>Paris 1er</td>\n",
       "      <td>75001</td>\n",
       "      <td>Paris</td>\n",
       "      <td>France</td>\n",
       "      <td>48.860757</td>\n",
       "      <td>2.342566</td>\n",
       "      <td>Concurrent Premium</td>\n",
       "      <td>0</td>\n",
       "      <td>2</td>\n",
       "      <td>ActiveViam Store Paris 15</td>\n",
       "      <td>Paris 15</td>\n",
       "      <td>75015</td>\n",
       "      <td>Paris</td>\n",
       "      <td>France</td>\n",
       "      <td>48.840412</td>\n",
       "      <td>2.312649</td>\n",
       "      <td>ActiveViam</td>\n",
       "      <td>3.145965</td>\n",
       "    </tr>\n",
       "    <tr>\n",
       "      <th>2</th>\n",
       "      <td>101</td>\n",
       "      <td>Concurrent Premium</td>\n",
       "      <td>Paris 1er</td>\n",
       "      <td>75001</td>\n",
       "      <td>Paris</td>\n",
       "      <td>France</td>\n",
       "      <td>48.860757</td>\n",
       "      <td>2.342566</td>\n",
       "      <td>Concurrent Premium</td>\n",
       "      <td>0</td>\n",
       "      <td>3</td>\n",
       "      <td>ActiveViam Store Paris 18</td>\n",
       "      <td>Paris 18</td>\n",
       "      <td>75018</td>\n",
       "      <td>Paris</td>\n",
       "      <td>France</td>\n",
       "      <td>48.886483</td>\n",
       "      <td>2.344326</td>\n",
       "      <td>ActiveViam</td>\n",
       "      <td>2.861697</td>\n",
       "    </tr>\n",
       "    <tr>\n",
       "      <th>3</th>\n",
       "      <td>101</td>\n",
       "      <td>Concurrent Premium</td>\n",
       "      <td>Paris 1er</td>\n",
       "      <td>75001</td>\n",
       "      <td>Paris</td>\n",
       "      <td>France</td>\n",
       "      <td>48.860757</td>\n",
       "      <td>2.342566</td>\n",
       "      <td>Concurrent Premium</td>\n",
       "      <td>0</td>\n",
       "      <td>4</td>\n",
       "      <td>ActiveViam Store Paris 12</td>\n",
       "      <td>Paris 12</td>\n",
       "      <td>75012</td>\n",
       "      <td>Paris</td>\n",
       "      <td>France</td>\n",
       "      <td>48.832182</td>\n",
       "      <td>2.375729</td>\n",
       "      <td>ActiveViam</td>\n",
       "      <td>3.995581</td>\n",
       "    </tr>\n",
       "    <tr>\n",
       "      <th>4</th>\n",
       "      <td>101</td>\n",
       "      <td>Concurrent Premium</td>\n",
       "      <td>Paris 1er</td>\n",
       "      <td>75001</td>\n",
       "      <td>Paris</td>\n",
       "      <td>France</td>\n",
       "      <td>48.860757</td>\n",
       "      <td>2.342566</td>\n",
       "      <td>Concurrent Premium</td>\n",
       "      <td>0</td>\n",
       "      <td>5</td>\n",
       "      <td>ActiveViam Store Paris 16</td>\n",
       "      <td>Paris 16</td>\n",
       "      <td>75016</td>\n",
       "      <td>Paris</td>\n",
       "      <td>France</td>\n",
       "      <td>48.855454</td>\n",
       "      <td>2.280886</td>\n",
       "      <td>ActiveViam</td>\n",
       "      <td>4.547896</td>\n",
       "    </tr>\n",
       "  </tbody>\n",
       "</table>\n",
       "</div>"
      ],
      "text/plain": [
       "   CompetitorStoreId CompetitorStoreName CompetitorStoreAdress  \\\n",
       "0                101  Concurrent Premium             Paris 1er   \n",
       "1                101  Concurrent Premium             Paris 1er   \n",
       "2                101  Concurrent Premium             Paris 1er   \n",
       "3                101  Concurrent Premium             Paris 1er   \n",
       "4                101  Concurrent Premium             Paris 1er   \n",
       "\n",
       "   CompetitorStoreZipCode CompetitorStoreCity CompetitorStoreCountry  \\\n",
       "0                   75001               Paris                 France   \n",
       "1                   75001               Paris                 France   \n",
       "2                   75001               Paris                 France   \n",
       "3                   75001               Paris                 France   \n",
       "4                   75001               Paris                 France   \n",
       "\n",
       "   CompetitorStoreLatitude  CompetitorStoreLongitude CompetitorStoreCompany  \\\n",
       "0                48.860757                  2.342566     Concurrent Premium   \n",
       "1                48.860757                  2.342566     Concurrent Premium   \n",
       "2                48.860757                  2.342566     Concurrent Premium   \n",
       "3                48.860757                  2.342566     Concurrent Premium   \n",
       "4                48.860757                  2.342566     Concurrent Premium   \n",
       "\n",
       "   key  StoreId                   StoreName     Adress  ZipCode   City  \\\n",
       "0    0        1  ActiveViam Store Paris 1er  Paris 1er    75001  Paris   \n",
       "1    0        2   ActiveViam Store Paris 15   Paris 15    75015  Paris   \n",
       "2    0        3   ActiveViam Store Paris 18   Paris 18    75018  Paris   \n",
       "3    0        4   ActiveViam Store Paris 12   Paris 12    75012  Paris   \n",
       "4    0        5   ActiveViam Store Paris 16   Paris 16    75016  Paris   \n",
       "\n",
       "  Country   Latitude  Longitude     Company  Competitor distance KM  \n",
       "0  France  48.860757   2.342566  ActiveViam                0.000000  \n",
       "1  France  48.840412   2.312649  ActiveViam                3.145965  \n",
       "2  France  48.886483   2.344326  ActiveViam                2.861697  \n",
       "3  France  48.832182   2.375729  ActiveViam                3.995581  \n",
       "4  France  48.855454   2.280886  ActiveViam                4.547896  "
      ]
     },
     "execution_count": 5,
     "metadata": {},
     "output_type": "execute_result"
    }
   ],
   "source": [
    "stores_distances_matrix = utils.create_stores_distances_matrix(\n",
    "    stores_df, competitor_stores_df\n",
    ")\n",
    "stores_distances_matrix.head()"
   ]
  },
  {
   "cell_type": "markdown",
   "metadata": {},
   "source": [
    "And we will use atoti to compute the number of competitors per area."
   ]
  },
  {
   "cell_type": "code",
   "execution_count": 6,
   "metadata": {},
   "outputs": [
    {
     "name": "stdout",
     "output_type": "stream",
     "text": [
      "Welcome to atoti 0.4.0!\n",
      "\n",
      "By using this community edition, you agree with the license available at https://www.atoti.io/eula.\n",
      "Browse the official documentation at https://docs.atoti.io.\n",
      "Join the community at https://www.atoti.io/register.\n",
      "\n",
      "You can hide this message by setting the ATOTI_HIDE_EULA_MESSAGE environment variable to True.\n"
     ]
    }
   ],
   "source": [
    "import atoti as tt\n",
    "\n",
    "session = tt.create_session()"
   ]
  },
  {
   "cell_type": "code",
   "execution_count": 7,
   "metadata": {},
   "outputs": [],
   "source": [
    "distances_matrix = session.read_pandas(\n",
    "    stores_distances_matrix,\n",
    "    keys=[\"StoreId\", \"CompetitorStoreId\"],\n",
    "    store_name=\"Distances to competitor stores\",\n",
    ")"
   ]
  },
  {
   "cell_type": "code",
   "execution_count": 8,
   "metadata": {},
   "outputs": [],
   "source": [
    "distances_cube = session.create_cube(distances_matrix, \"Distances cube\")"
   ]
  },
  {
   "cell_type": "code",
   "execution_count": 9,
   "metadata": {},
   "outputs": [],
   "source": [
    "m = distances_cube.measures\n",
    "lvl = distances_cube.levels"
   ]
  },
  {
   "cell_type": "code",
   "execution_count": 10,
   "metadata": {},
   "outputs": [],
   "source": [
    "m[\"Competitors_1_KM\"] = tt.agg.sum(\n",
    "    tt.where((m[\"Competitor distance KM.SUM\"] < 1), m[\"contributors.COUNT\"], 0),\n",
    "    scope=tt.scope.origin(lvl[\"StoreId\"], lvl[\"CompetitorStoreId\"]),\n",
    ")\n",
    "m[\"Competitors_5_KM\"] = tt.agg.sum(\n",
    "    tt.where((m[\"Competitor distance KM.SUM\"] < 5), m[\"contributors.COUNT\"], 0),\n",
    "    scope=tt.scope.origin(lvl[\"StoreId\"], lvl[\"CompetitorStoreId\"]),\n",
    ")\n",
    "m[\"Competitors_10_KM\"] = tt.agg.sum(\n",
    "    tt.where((m[\"Competitor distance KM.SUM\"] < 10), m[\"contributors.COUNT\"], 0),\n",
    "    scope=tt.scope.origin(lvl[\"StoreId\"], lvl[\"CompetitorStoreId\"]),\n",
    ")\n",
    "m[\"Competitors_20_KM\"] = tt.agg.sum(\n",
    "    tt.where((m[\"Competitor distance KM.SUM\"] < 20), m[\"contributors.COUNT\"], 0),\n",
    "    scope=tt.scope.origin(lvl[\"StoreId\"], lvl[\"CompetitorStoreId\"]),\n",
    ")"
   ]
  },
  {
   "cell_type": "markdown",
   "metadata": {},
   "source": [
    "We will then use an atoti query to quickly calculate a pandas dataframe containing columns with the number of competitors in each area, and stores as rows."
   ]
  },
  {
   "cell_type": "code",
   "execution_count": 11,
   "metadata": {},
   "outputs": [
    {
     "data": {
      "text/html": [
       "<div>\n",
       "<style scoped>\n",
       "    .dataframe tbody tr th:only-of-type {\n",
       "        vertical-align: middle;\n",
       "    }\n",
       "\n",
       "    .dataframe tbody tr th {\n",
       "        vertical-align: top;\n",
       "    }\n",
       "\n",
       "    .dataframe thead th {\n",
       "        text-align: right;\n",
       "    }\n",
       "</style>\n",
       "<table border=\"1\" class=\"dataframe\">\n",
       "  <thead>\n",
       "    <tr style=\"text-align: right;\">\n",
       "      <th></th>\n",
       "      <th></th>\n",
       "      <th>Competitors_1_KM</th>\n",
       "      <th>Competitors_5_KM</th>\n",
       "      <th>Competitors_10_KM</th>\n",
       "      <th>Competitors_20_KM</th>\n",
       "    </tr>\n",
       "    <tr>\n",
       "      <th>StoreId</th>\n",
       "      <th>StoreName</th>\n",
       "      <th></th>\n",
       "      <th></th>\n",
       "      <th></th>\n",
       "      <th></th>\n",
       "    </tr>\n",
       "  </thead>\n",
       "  <tbody>\n",
       "    <tr>\n",
       "      <th>1</th>\n",
       "      <th>ActiveViam Store Paris 1er</th>\n",
       "      <td>11</td>\n",
       "      <td>51</td>\n",
       "      <td>66</td>\n",
       "      <td>71</td>\n",
       "    </tr>\n",
       "    <tr>\n",
       "      <th>2</th>\n",
       "      <th>ActiveViam Store Paris 15</th>\n",
       "      <td>5</td>\n",
       "      <td>46</td>\n",
       "      <td>61</td>\n",
       "      <td>71</td>\n",
       "    </tr>\n",
       "    <tr>\n",
       "      <th>3</th>\n",
       "      <th>ActiveViam Store Paris 18</th>\n",
       "      <td>5</td>\n",
       "      <td>36</td>\n",
       "      <td>71</td>\n",
       "      <td>71</td>\n",
       "    </tr>\n",
       "    <tr>\n",
       "      <th>4</th>\n",
       "      <th>ActiveViam Store Paris 12</th>\n",
       "      <td>5</td>\n",
       "      <td>31</td>\n",
       "      <td>61</td>\n",
       "      <td>71</td>\n",
       "    </tr>\n",
       "    <tr>\n",
       "      <th>5</th>\n",
       "      <th>ActiveViam Store Paris 16</th>\n",
       "      <td>5</td>\n",
       "      <td>36</td>\n",
       "      <td>56</td>\n",
       "      <td>71</td>\n",
       "    </tr>\n",
       "  </tbody>\n",
       "</table>\n",
       "</div>"
      ],
      "text/plain": [
       "                                    Competitors_1_KM  Competitors_5_KM  \\\n",
       "StoreId StoreName                                                        \n",
       "1       ActiveViam Store Paris 1er                11                51   \n",
       "2       ActiveViam Store Paris 15                  5                46   \n",
       "3       ActiveViam Store Paris 18                  5                36   \n",
       "4       ActiveViam Store Paris 12                  5                31   \n",
       "5       ActiveViam Store Paris 16                  5                36   \n",
       "\n",
       "                                    Competitors_10_KM  Competitors_20_KM  \n",
       "StoreId StoreName                                                         \n",
       "1       ActiveViam Store Paris 1er                 66                 71  \n",
       "2       ActiveViam Store Paris 15                  61                 71  \n",
       "3       ActiveViam Store Paris 18                  71                 71  \n",
       "4       ActiveViam Store Paris 12                  61                 71  \n",
       "5       ActiveViam Store Paris 16                  56                 71  "
      ]
     },
     "execution_count": 11,
     "metadata": {},
     "output_type": "execute_result"
    }
   ],
   "source": [
    "stores_competitors_count_per_area = distances_cube.query(\n",
    "    m[\"Competitors_1_KM\"],\n",
    "    m[\"Competitors_5_KM\"],\n",
    "    m[\"Competitors_10_KM\"],\n",
    "    m[\"Competitors_20_KM\"],\n",
    "    levels=[lvl[\"StoreId\"], lvl[\"StoreName\"]],\n",
    ")\n",
    "stores_competitors_count_per_area.head()"
   ]
  },
  {
   "cell_type": "markdown",
   "metadata": {},
   "source": [
    "### 2. Computing the price index per store\n",
    "\n",
    "There are different existing formulas for the price index but the idea behind is always the same: the price index is a measurement of where a retailer is positioned compared to one or multiple of its competitors.\n",
    "\n",
    "The formula we will use in this example compares a product price to the average price found among the local competitors of a particular store, measuring at which percentage of this average competitors price the product is.\n",
    "\n",
    "We will weight the price index indicator by the margin when aggregating above store and product level so that we later optimize the price index for products that contribute the most to the margin.\n",
    "Other commonly used formulas weight by sales quantity or revenue.\n",
    "\n",
    "#### Price index formula:\n",
    "\n",
    "# $100 \\times \\frac{\\sum_{s,p \\in (Stores,Products)}\\frac{Selling Price(s,p)}{Average Competitor Price(s,p)} \\times Margin(s,p)}{\\sum_{s,p \\in (Stores,Products)}Margin(s,p)}$"
   ]
  },
  {
   "cell_type": "code",
   "execution_count": 12,
   "metadata": {},
   "outputs": [
    {
     "name": "stderr",
     "output_type": "stream",
     "text": [
      "The store has been sampled because there are more than 10000 lines in the files to load. Call Session.load_all_data() to trigger the full load of the data.\n"
     ]
    }
   ],
   "source": [
    "competitorPrices_store = session.read_csv(\n",
    "    \"s3://data.atoti.io/notebooks/geopricing/competitor_prices.csv\",\n",
    "    sep=\";\",\n",
    "    keys=[\"ProductId\", \"CompetitorStoreId\", \"StoreId\"],\n",
    "    store_name=\"CompetitorPricesStore\",\n",
    ")"
   ]
  },
  {
   "cell_type": "code",
   "execution_count": 13,
   "metadata": {},
   "outputs": [],
   "source": [
    "competitorStore_store = session.read_csv(\n",
    "    \"s3://data.atoti.io/notebooks/geopricing/competitor_stores.csv\",\n",
    "    sep=\";\",\n",
    "    keys=[\"CompetitorStoreId\"],\n",
    "    store_name=\"CompetitorsStoresStore\",\n",
    ")"
   ]
  },
  {
   "cell_type": "code",
   "execution_count": 14,
   "metadata": {},
   "outputs": [],
   "source": [
    "sellingPrices_store = session.read_csv(\n",
    "    \"s3://data.atoti.io/notebooks/geopricing/selling_prices.csv\",\n",
    "    sep=\";\",\n",
    "    keys=[\"ProductId\", \"StoreId\"],\n",
    "    store_name=\"SellingPricesStore\",\n",
    ")"
   ]
  },
  {
   "cell_type": "code",
   "execution_count": 15,
   "metadata": {},
   "outputs": [],
   "source": [
    "products_store = session.read_csv(\n",
    "    \"s3://data.atoti.io/notebooks/geopricing/products_info.csv\",\n",
    "    sep=\";\",\n",
    "    keys=[\"ProductId\"],\n",
    "    store_name=\"ProductsStore\",\n",
    ")"
   ]
  },
  {
   "cell_type": "code",
   "execution_count": 16,
   "metadata": {},
   "outputs": [],
   "source": [
    "stores_store = session.read_csv(\n",
    "    \"s3://data.atoti.io/notebooks/geopricing/stores.csv\",\n",
    "    sep=\";\",\n",
    "    keys=[\"StoreId\"],\n",
    "    store_name=\"StoresStore\",\n",
    ")"
   ]
  },
  {
   "cell_type": "code",
   "execution_count": 17,
   "metadata": {},
   "outputs": [],
   "source": [
    "margin_per_product_and_store = session.read_csv(\n",
    "    \"s3://data.atoti.io/notebooks/geopricing/margin_per_product_store.csv\",\n",
    "    sep=\";\",\n",
    "    keys=[\"ProductId\", \"StoreId\"],\n",
    "    store_name=\"MarginPerProductAndStore\",\n",
    ")"
   ]
  },
  {
   "cell_type": "code",
   "execution_count": 18,
   "metadata": {},
   "outputs": [
    {
     "name": "stdout",
     "output_type": "stream",
     "text": [
      "9.11 s ± 621 ms per loop (mean ± std. dev. of 7 runs, 1 loop each)\n"
     ]
    }
   ],
   "source": [
    "%%timeit\n",
    "competitorPrices_store.join(\n",
    "    sellingPrices_store, mapping={\"ProductId\": \"ProductId\", \"StoreId\": \"StoreId\"}\n",
    ")\n",
    "competitorPrices_store.join(products_store, mapping={\"ProductId\": \"ProductId\"})\n",
    "competitorPrices_store.join(stores_store, mapping={\"StoreId\": \"StoreId\"})\n",
    "competitorPrices_store.join(\n",
    "    competitorStore_store, mapping={\"CompetitorStoreId\": \"CompetitorStoreId\"},\n",
    ")\n",
    "competitorPrices_store.join(\n",
    "    margin_per_product_and_store,\n",
    "    mapping={\"ProductId\": \"ProductId\", \"StoreId\": \"StoreId\"},\n",
    ")"
   ]
  },
  {
   "cell_type": "code",
   "execution_count": 19,
   "metadata": {},
   "outputs": [],
   "source": [
    "price_index_cube = session.create_cube(competitorPrices_store, \"CompetitorPricesCube\")"
   ]
  },
  {
   "cell_type": "code",
   "execution_count": 20,
   "metadata": {},
   "outputs": [
    {
     "data": {
      "image/svg+xml": [
       "<svg xmlns=\"http://www.w3.org/2000/svg\" xmlns:xlink=\"http://www.w3.org/1999/xlink\" width=\"715px\" height=\"1564px\" viewBox=\"0.00 0.00 715.00 1564.00\">\n",
       "<g id=\"graph0\" class=\"graph\" transform=\"scale(1.0 1.0) rotate(0) translate(4 1560)\">\n",
       "<title>CompetitorPricesCube schema</title>\n",
       "<polygon fill=\"white\" stroke=\"none\" points=\"-4,4 -4,-1560 711,-1560 711,4 -4,4\"/>\n",
       "<!-- CompetitorPricesStore -->\n",
       "<g id=\"node1\" class=\"node\"><title>CompetitorPricesStore</title>\n",
       "<polygon fill=\"none\" stroke=\"black\" points=\"8.5,-814 8.5,-851 193.5,-851 193.5,-814 8.5,-814\"/>\n",
       "<text text-anchor=\"start\" x=\"30\" y=\"-829.8\" font-family=\"Times New Roman,serif\" font-weight=\"bold\" font-size=\"14.00\">CompetitorPricesStore</text>\n",
       "<polygon fill=\"none\" stroke=\"black\" points=\"8.5,-777 8.5,-814 193.5,-814 193.5,-777 8.5,-777\"/>\n",
       "<text text-anchor=\"start\" x=\"19.5\" y=\"-792.8\" font-family=\"Times New Roman,serif\" font-weight=\"bold\" font-size=\"14.00\">Key</text>\n",
       "<text text-anchor=\"start\" x=\"44.5\" y=\"-792.8\" font-family=\"Times New Roman,serif\" font-size=\"14.00\">  ProductId </text>\n",
       "<text text-anchor=\"start\" x=\"113.5\" y=\"-792.8\" font-family=\"Times New Roman,serif\" font-style=\"italic\" font-size=\"14.00\">int</text>\n",
       "<text text-anchor=\"start\" x=\"129.5\" y=\"-792.8\" font-family=\"Times New Roman,serif\" font-size=\"14.00\"> </text>\n",
       "<polygon fill=\"none\" stroke=\"black\" points=\"8.5,-740 8.5,-777 193.5,-777 193.5,-740 8.5,-740\"/>\n",
       "<text text-anchor=\"start\" x=\"19.5\" y=\"-755.8\" font-family=\"Times New Roman,serif\" font-weight=\"bold\" font-size=\"14.00\">Key</text>\n",
       "<text text-anchor=\"start\" x=\"44.5\" y=\"-755.8\" font-family=\"Times New Roman,serif\" font-size=\"14.00\">  CompetitorStoreId </text>\n",
       "<text text-anchor=\"start\" x=\"162.5\" y=\"-755.8\" font-family=\"Times New Roman,serif\" font-style=\"italic\" font-size=\"14.00\">int</text>\n",
       "<text text-anchor=\"start\" x=\"178.5\" y=\"-755.8\" font-family=\"Times New Roman,serif\" font-size=\"14.00\"> </text>\n",
       "<polygon fill=\"none\" stroke=\"black\" points=\"8.5,-703 8.5,-740 193.5,-740 193.5,-703 8.5,-703\"/>\n",
       "<text text-anchor=\"start\" x=\"19.5\" y=\"-718.8\" font-family=\"Times New Roman,serif\" font-weight=\"bold\" font-size=\"14.00\">Key</text>\n",
       "<text text-anchor=\"start\" x=\"44.5\" y=\"-718.8\" font-family=\"Times New Roman,serif\" font-size=\"14.00\">  StoreId </text>\n",
       "<text text-anchor=\"start\" x=\"98.5\" y=\"-718.8\" font-family=\"Times New Roman,serif\" font-style=\"italic\" font-size=\"14.00\">int</text>\n",
       "<text text-anchor=\"start\" x=\"114.5\" y=\"-718.8\" font-family=\"Times New Roman,serif\" font-size=\"14.00\"> </text>\n",
       "<polygon fill=\"none\" stroke=\"black\" points=\"8.5,-666 8.5,-703 193.5,-703 193.5,-666 8.5,-666\"/>\n",
       "<text text-anchor=\"start\" x=\"19.5\" y=\"-681.8\" font-family=\"Times New Roman,serif\" font-size=\"14.00\">CompetitorPrice </text>\n",
       "<text text-anchor=\"start\" x=\"116.5\" y=\"-681.8\" font-family=\"Times New Roman,serif\" font-style=\"italic\" font-size=\"14.00\">double</text>\n",
       "<text text-anchor=\"start\" x=\"156.5\" y=\"-681.8\" font-family=\"Times New Roman,serif\" font-size=\"14.00\"> </text>\n",
       "</g>\n",
       "<!-- SellingPricesStore -->\n",
       "<g id=\"node2\" class=\"node\"><title>SellingPricesStore</title>\n",
       "<polygon fill=\"none\" stroke=\"black\" points=\"521,-1515 521,-1552 657,-1552 657,-1515 521,-1515\"/>\n",
       "<text text-anchor=\"start\" x=\"532.5\" y=\"-1530.8\" font-family=\"Times New Roman,serif\" font-weight=\"bold\" font-size=\"14.00\">SellingPricesStore</text>\n",
       "<polygon fill=\"none\" stroke=\"black\" points=\"521,-1478 521,-1515 657,-1515 657,-1478 521,-1478\"/>\n",
       "<text text-anchor=\"start\" x=\"532\" y=\"-1493.8\" font-family=\"Times New Roman,serif\" font-weight=\"bold\" font-size=\"14.00\">Key</text>\n",
       "<text text-anchor=\"start\" x=\"557\" y=\"-1493.8\" font-family=\"Times New Roman,serif\" font-size=\"14.00\">  ProductId </text>\n",
       "<text text-anchor=\"start\" x=\"626\" y=\"-1493.8\" font-family=\"Times New Roman,serif\" font-style=\"italic\" font-size=\"14.00\">int</text>\n",
       "<text text-anchor=\"start\" x=\"642\" y=\"-1493.8\" font-family=\"Times New Roman,serif\" font-size=\"14.00\"> </text>\n",
       "<polygon fill=\"none\" stroke=\"black\" points=\"521,-1441 521,-1478 657,-1478 657,-1441 521,-1441\"/>\n",
       "<text text-anchor=\"start\" x=\"532\" y=\"-1456.8\" font-family=\"Times New Roman,serif\" font-weight=\"bold\" font-size=\"14.00\">Key</text>\n",
       "<text text-anchor=\"start\" x=\"557\" y=\"-1456.8\" font-family=\"Times New Roman,serif\" font-size=\"14.00\">  StoreId </text>\n",
       "<text text-anchor=\"start\" x=\"611\" y=\"-1456.8\" font-family=\"Times New Roman,serif\" font-style=\"italic\" font-size=\"14.00\">int</text>\n",
       "<text text-anchor=\"start\" x=\"627\" y=\"-1456.8\" font-family=\"Times New Roman,serif\" font-size=\"14.00\"> </text>\n",
       "<polygon fill=\"none\" stroke=\"black\" points=\"521,-1404 521,-1441 657,-1441 657,-1404 521,-1404\"/>\n",
       "<text text-anchor=\"start\" x=\"532\" y=\"-1419.8\" font-family=\"Times New Roman,serif\" font-size=\"14.00\">SellingPrice </text>\n",
       "<text text-anchor=\"start\" x=\"602\" y=\"-1419.8\" font-family=\"Times New Roman,serif\" font-style=\"italic\" font-size=\"14.00\">double</text>\n",
       "<text text-anchor=\"start\" x=\"642\" y=\"-1419.8\" font-family=\"Times New Roman,serif\" font-size=\"14.00\"> </text>\n",
       "</g>\n",
       "<!-- CompetitorPricesStore&#45;&gt;SellingPricesStore -->\n",
       "<g id=\"edge5\" class=\"edge\"><title>CompetitorPricesStore-&gt;SellingPricesStore</title>\n",
       "<path fill=\"none\" stroke=\"black\" d=\"M129.561,-855.567C149.921,-918.738 180.589,-1001.87 219,-1070 308.081,-1227.99 341.08,-1264.44 471,-1391 481.386,-1401.12 492.982,-1411.06 504.726,-1420.41\"/>\n",
       "<polygon fill=\"black\" stroke=\"black\" points=\"502.834,-1423.37 512.868,-1426.77 507.147,-1417.86 502.834,-1423.37\"/>\n",
       "<text text-anchor=\"middle\" x=\"336\" y=\"-1387.8\" font-family=\"Times New Roman,serif\" font-size=\"14.00\">StoreId → StoreId</text>\n",
       "<text text-anchor=\"middle\" x=\"336\" y=\"-1372.8\" font-family=\"Times New Roman,serif\" font-size=\"14.00\">ProductId → ProductId</text>\n",
       "</g>\n",
       "<!-- ProductsStore -->\n",
       "<g id=\"node3\" class=\"node\"><title>ProductsStore</title>\n",
       "<polygon fill=\"none\" stroke=\"black\" points=\"513,-1340 513,-1377 666,-1377 666,-1340 513,-1340\"/>\n",
       "<text text-anchor=\"start\" x=\"545.5\" y=\"-1355.8\" font-family=\"Times New Roman,serif\" font-weight=\"bold\" font-size=\"14.00\">ProductsStore</text>\n",
       "<polygon fill=\"none\" stroke=\"black\" points=\"513,-1303 513,-1340 666,-1340 666,-1303 513,-1303\"/>\n",
       "<text text-anchor=\"start\" x=\"524\" y=\"-1318.8\" font-family=\"Times New Roman,serif\" font-weight=\"bold\" font-size=\"14.00\">Key</text>\n",
       "<text text-anchor=\"start\" x=\"549\" y=\"-1318.8\" font-family=\"Times New Roman,serif\" font-size=\"14.00\">  ProductId </text>\n",
       "<text text-anchor=\"start\" x=\"618\" y=\"-1318.8\" font-family=\"Times New Roman,serif\" font-style=\"italic\" font-size=\"14.00\">int</text>\n",
       "<text text-anchor=\"start\" x=\"634\" y=\"-1318.8\" font-family=\"Times New Roman,serif\" font-size=\"14.00\"> </text>\n",
       "<polygon fill=\"none\" stroke=\"black\" points=\"513,-1266 513,-1303 666,-1303 666,-1266 513,-1266\"/>\n",
       "<text text-anchor=\"start\" x=\"524\" y=\"-1281.8\" font-family=\"Times New Roman,serif\" font-size=\"14.00\">EAN </text>\n",
       "<text text-anchor=\"start\" x=\"556\" y=\"-1281.8\" font-family=\"Times New Roman,serif\" font-style=\"italic\" font-size=\"14.00\">long</text>\n",
       "<text text-anchor=\"start\" x=\"582\" y=\"-1281.8\" font-family=\"Times New Roman,serif\" font-size=\"14.00\"> </text>\n",
       "<polygon fill=\"none\" stroke=\"black\" points=\"513,-1229 513,-1266 666,-1266 666,-1229 513,-1229\"/>\n",
       "<text text-anchor=\"start\" x=\"524\" y=\"-1244.8\" font-family=\"Times New Roman,serif\" font-size=\"14.00\">ProductName </text>\n",
       "<text text-anchor=\"start\" x=\"606\" y=\"-1244.8\" font-family=\"Times New Roman,serif\" font-style=\"italic\" font-size=\"14.00\">String</text>\n",
       "<text text-anchor=\"start\" x=\"642\" y=\"-1244.8\" font-family=\"Times New Roman,serif\" font-size=\"14.00\"> </text>\n",
       "<polygon fill=\"none\" stroke=\"black\" points=\"513,-1192 513,-1229 666,-1229 666,-1192 513,-1192\"/>\n",
       "<text text-anchor=\"start\" x=\"524\" y=\"-1207.8\" font-family=\"Times New Roman,serif\" font-size=\"14.00\">Brand </text>\n",
       "<text text-anchor=\"start\" x=\"562\" y=\"-1207.8\" font-family=\"Times New Roman,serif\" font-style=\"italic\" font-size=\"14.00\">String</text>\n",
       "<text text-anchor=\"start\" x=\"598\" y=\"-1207.8\" font-family=\"Times New Roman,serif\" font-size=\"14.00\"> </text>\n",
       "<polygon fill=\"none\" stroke=\"black\" points=\"513,-1155 513,-1192 666,-1192 666,-1155 513,-1155\"/>\n",
       "<text text-anchor=\"start\" x=\"524\" y=\"-1170.8\" font-family=\"Times New Roman,serif\" font-size=\"14.00\">Size </text>\n",
       "<text text-anchor=\"start\" x=\"552\" y=\"-1170.8\" font-family=\"Times New Roman,serif\" font-style=\"italic\" font-size=\"14.00\">String</text>\n",
       "<text text-anchor=\"start\" x=\"588\" y=\"-1170.8\" font-family=\"Times New Roman,serif\" font-size=\"14.00\"> </text>\n",
       "<polygon fill=\"none\" stroke=\"black\" points=\"513,-1118 513,-1155 666,-1155 666,-1118 513,-1118\"/>\n",
       "<text text-anchor=\"start\" x=\"524\" y=\"-1133.8\" font-family=\"Times New Roman,serif\" font-size=\"14.00\">Unit </text>\n",
       "<text text-anchor=\"start\" x=\"552\" y=\"-1133.8\" font-family=\"Times New Roman,serif\" font-style=\"italic\" font-size=\"14.00\">String</text>\n",
       "<text text-anchor=\"start\" x=\"588\" y=\"-1133.8\" font-family=\"Times New Roman,serif\" font-size=\"14.00\"> </text>\n",
       "<polygon fill=\"none\" stroke=\"black\" points=\"513,-1081 513,-1118 666,-1118 666,-1081 513,-1081\"/>\n",
       "<text text-anchor=\"start\" x=\"524\" y=\"-1096.8\" font-family=\"Times New Roman,serif\" font-size=\"14.00\">Department </text>\n",
       "<text text-anchor=\"start\" x=\"593\" y=\"-1096.8\" font-family=\"Times New Roman,serif\" font-style=\"italic\" font-size=\"14.00\">String</text>\n",
       "<text text-anchor=\"start\" x=\"629\" y=\"-1096.8\" font-family=\"Times New Roman,serif\" font-size=\"14.00\"> </text>\n",
       "<polygon fill=\"none\" stroke=\"black\" points=\"513,-1044 513,-1081 666,-1081 666,-1044 513,-1044\"/>\n",
       "<text text-anchor=\"start\" x=\"524\" y=\"-1059.8\" font-family=\"Times New Roman,serif\" font-size=\"14.00\">SubDepartment </text>\n",
       "<text text-anchor=\"start\" x=\"615\" y=\"-1059.8\" font-family=\"Times New Roman,serif\" font-style=\"italic\" font-size=\"14.00\">String</text>\n",
       "<text text-anchor=\"start\" x=\"651\" y=\"-1059.8\" font-family=\"Times New Roman,serif\" font-size=\"14.00\"> </text>\n",
       "<polygon fill=\"none\" stroke=\"black\" points=\"513,-1007 513,-1044 666,-1044 666,-1007 513,-1007\"/>\n",
       "<text text-anchor=\"start\" x=\"524\" y=\"-1022.8\" font-family=\"Times New Roman,serif\" font-size=\"14.00\">Category </text>\n",
       "<text text-anchor=\"start\" x=\"579\" y=\"-1022.8\" font-family=\"Times New Roman,serif\" font-style=\"italic\" font-size=\"14.00\">String</text>\n",
       "<text text-anchor=\"start\" x=\"615\" y=\"-1022.8\" font-family=\"Times New Roman,serif\" font-size=\"14.00\"> </text>\n",
       "<polygon fill=\"none\" stroke=\"black\" points=\"513,-970 513,-1007 666,-1007 666,-970 513,-970\"/>\n",
       "<text text-anchor=\"start\" x=\"524\" y=\"-985.8\" font-family=\"Times New Roman,serif\" font-size=\"14.00\">SubCategory </text>\n",
       "<text text-anchor=\"start\" x=\"602\" y=\"-985.8\" font-family=\"Times New Roman,serif\" font-style=\"italic\" font-size=\"14.00\">String</text>\n",
       "<text text-anchor=\"start\" x=\"638\" y=\"-985.8\" font-family=\"Times New Roman,serif\" font-size=\"14.00\"> </text>\n",
       "</g>\n",
       "<!-- CompetitorPricesStore&#45;&gt;ProductsStore -->\n",
       "<g id=\"edge4\" class=\"edge\"><title>CompetitorPricesStore-&gt;ProductsStore</title>\n",
       "<path fill=\"none\" stroke=\"black\" d=\"M201.124,-843.983C287.793,-917.914 412.36,-1024.17 496.536,-1095.98\"/>\n",
       "<polygon fill=\"black\" stroke=\"black\" points=\"494.42,-1098.77 504.3,-1102.6 498.963,-1093.45 494.42,-1098.77\"/>\n",
       "<text text-anchor=\"middle\" x=\"336\" y=\"-1054.8\" font-family=\"Times New Roman,serif\" font-size=\"14.00\">ProductId → ProductId</text>\n",
       "</g>\n",
       "<!-- StoresStore -->\n",
       "<g id=\"node4\" class=\"node\"><title>StoresStore</title>\n",
       "<polygon fill=\"none\" stroke=\"black\" points=\"525,-907 525,-944 654,-944 654,-907 525,-907\"/>\n",
       "<text text-anchor=\"start\" x=\"553\" y=\"-922.8\" font-family=\"Times New Roman,serif\" font-weight=\"bold\" font-size=\"14.00\">StoresStore</text>\n",
       "<polygon fill=\"none\" stroke=\"black\" points=\"525,-870 525,-907 654,-907 654,-870 525,-870\"/>\n",
       "<text text-anchor=\"start\" x=\"536\" y=\"-885.8\" font-family=\"Times New Roman,serif\" font-weight=\"bold\" font-size=\"14.00\">Key</text>\n",
       "<text text-anchor=\"start\" x=\"561\" y=\"-885.8\" font-family=\"Times New Roman,serif\" font-size=\"14.00\">  StoreId </text>\n",
       "<text text-anchor=\"start\" x=\"615\" y=\"-885.8\" font-family=\"Times New Roman,serif\" font-style=\"italic\" font-size=\"14.00\">int</text>\n",
       "<text text-anchor=\"start\" x=\"631\" y=\"-885.8\" font-family=\"Times New Roman,serif\" font-size=\"14.00\"> </text>\n",
       "<polygon fill=\"none\" stroke=\"black\" points=\"525,-833 525,-870 654,-870 654,-833 525,-833\"/>\n",
       "<text text-anchor=\"start\" x=\"536\" y=\"-848.8\" font-family=\"Times New Roman,serif\" font-size=\"14.00\">StoreName </text>\n",
       "<text text-anchor=\"start\" x=\"603\" y=\"-848.8\" font-family=\"Times New Roman,serif\" font-style=\"italic\" font-size=\"14.00\">String</text>\n",
       "<text text-anchor=\"start\" x=\"639\" y=\"-848.8\" font-family=\"Times New Roman,serif\" font-size=\"14.00\"> </text>\n",
       "<polygon fill=\"none\" stroke=\"black\" points=\"525,-796 525,-833 654,-833 654,-796 525,-796\"/>\n",
       "<text text-anchor=\"start\" x=\"536\" y=\"-811.8\" font-family=\"Times New Roman,serif\" font-size=\"14.00\">Adress </text>\n",
       "<text text-anchor=\"start\" x=\"580\" y=\"-811.8\" font-family=\"Times New Roman,serif\" font-style=\"italic\" font-size=\"14.00\">String</text>\n",
       "<text text-anchor=\"start\" x=\"616\" y=\"-811.8\" font-family=\"Times New Roman,serif\" font-size=\"14.00\"> </text>\n",
       "<polygon fill=\"none\" stroke=\"black\" points=\"525,-759 525,-796 654,-796 654,-759 525,-759\"/>\n",
       "<text text-anchor=\"start\" x=\"536\" y=\"-774.8\" font-family=\"Times New Roman,serif\" font-size=\"14.00\">ZipCode </text>\n",
       "<text text-anchor=\"start\" x=\"590\" y=\"-774.8\" font-family=\"Times New Roman,serif\" font-style=\"italic\" font-size=\"14.00\">int</text>\n",
       "<text text-anchor=\"start\" x=\"606\" y=\"-774.8\" font-family=\"Times New Roman,serif\" font-size=\"14.00\"> </text>\n",
       "<polygon fill=\"none\" stroke=\"black\" points=\"525,-722 525,-759 654,-759 654,-722 525,-722\"/>\n",
       "<text text-anchor=\"start\" x=\"536\" y=\"-737.8\" font-family=\"Times New Roman,serif\" font-size=\"14.00\">City </text>\n",
       "<text text-anchor=\"start\" x=\"564\" y=\"-737.8\" font-family=\"Times New Roman,serif\" font-style=\"italic\" font-size=\"14.00\">String</text>\n",
       "<text text-anchor=\"start\" x=\"600\" y=\"-737.8\" font-family=\"Times New Roman,serif\" font-size=\"14.00\"> </text>\n",
       "<polygon fill=\"none\" stroke=\"black\" points=\"525,-685 525,-722 654,-722 654,-685 525,-685\"/>\n",
       "<text text-anchor=\"start\" x=\"536\" y=\"-700.8\" font-family=\"Times New Roman,serif\" font-size=\"14.00\">Country </text>\n",
       "<text text-anchor=\"start\" x=\"586\" y=\"-700.8\" font-family=\"Times New Roman,serif\" font-style=\"italic\" font-size=\"14.00\">String</text>\n",
       "<text text-anchor=\"start\" x=\"622\" y=\"-700.8\" font-family=\"Times New Roman,serif\" font-size=\"14.00\"> </text>\n",
       "<polygon fill=\"none\" stroke=\"black\" points=\"525,-648 525,-685 654,-685 654,-648 525,-648\"/>\n",
       "<text text-anchor=\"start\" x=\"536\" y=\"-663.8\" font-family=\"Times New Roman,serif\" font-size=\"14.00\">Latitude </text>\n",
       "<text text-anchor=\"start\" x=\"585\" y=\"-663.8\" font-family=\"Times New Roman,serif\" font-style=\"italic\" font-size=\"14.00\">double</text>\n",
       "<text text-anchor=\"start\" x=\"625\" y=\"-663.8\" font-family=\"Times New Roman,serif\" font-size=\"14.00\"> </text>\n",
       "<polygon fill=\"none\" stroke=\"black\" points=\"525,-611 525,-648 654,-648 654,-611 525,-611\"/>\n",
       "<text text-anchor=\"start\" x=\"536\" y=\"-626.8\" font-family=\"Times New Roman,serif\" font-size=\"14.00\">Longitude </text>\n",
       "<text text-anchor=\"start\" x=\"597\" y=\"-626.8\" font-family=\"Times New Roman,serif\" font-style=\"italic\" font-size=\"14.00\">double</text>\n",
       "<text text-anchor=\"start\" x=\"637\" y=\"-626.8\" font-family=\"Times New Roman,serif\" font-size=\"14.00\"> </text>\n",
       "<polygon fill=\"none\" stroke=\"black\" points=\"525,-574 525,-611 654,-611 654,-574 525,-574\"/>\n",
       "<text text-anchor=\"start\" x=\"536\" y=\"-589.8\" font-family=\"Times New Roman,serif\" font-size=\"14.00\">Company </text>\n",
       "<text text-anchor=\"start\" x=\"595\" y=\"-589.8\" font-family=\"Times New Roman,serif\" font-style=\"italic\" font-size=\"14.00\">String</text>\n",
       "<text text-anchor=\"start\" x=\"631\" y=\"-589.8\" font-family=\"Times New Roman,serif\" font-size=\"14.00\"> </text>\n",
       "</g>\n",
       "<!-- CompetitorPricesStore&#45;&gt;StoresStore -->\n",
       "<g id=\"edge3\" class=\"edge\"><title>CompetitorPricesStore-&gt;StoresStore</title>\n",
       "<path fill=\"none\" stroke=\"black\" d=\"M201.124,-759C291.148,-759 422.062,-759 506.126,-759\"/>\n",
       "<polygon fill=\"black\" stroke=\"black\" points=\"506.14,-762.5 516.14,-759 506.14,-755.5 506.14,-762.5\"/>\n",
       "<text text-anchor=\"middle\" x=\"336\" y=\"-762.8\" font-family=\"Times New Roman,serif\" font-size=\"14.00\">StoreId → StoreId</text>\n",
       "</g>\n",
       "<!-- CompetitorsStoresStore -->\n",
       "<g id=\"node5\" class=\"node\"><title>CompetitorsStoresStore</title>\n",
       "<polygon fill=\"none\" stroke=\"black\" points=\"479,-511 479,-548 699,-548 699,-511 479,-511\"/>\n",
       "<text text-anchor=\"start\" x=\"515\" y=\"-526.8\" font-family=\"Times New Roman,serif\" font-weight=\"bold\" font-size=\"14.00\">CompetitorsStoresStore</text>\n",
       "<polygon fill=\"none\" stroke=\"black\" points=\"479,-474 479,-511 699,-511 699,-474 479,-474\"/>\n",
       "<text text-anchor=\"start\" x=\"490\" y=\"-489.8\" font-family=\"Times New Roman,serif\" font-weight=\"bold\" font-size=\"14.00\">Key</text>\n",
       "<text text-anchor=\"start\" x=\"515\" y=\"-489.8\" font-family=\"Times New Roman,serif\" font-size=\"14.00\">  CompetitorStoreId </text>\n",
       "<text text-anchor=\"start\" x=\"633\" y=\"-489.8\" font-family=\"Times New Roman,serif\" font-style=\"italic\" font-size=\"14.00\">int</text>\n",
       "<text text-anchor=\"start\" x=\"649\" y=\"-489.8\" font-family=\"Times New Roman,serif\" font-size=\"14.00\"> </text>\n",
       "<polygon fill=\"none\" stroke=\"black\" points=\"479,-437 479,-474 699,-474 699,-437 479,-437\"/>\n",
       "<text text-anchor=\"start\" x=\"490\" y=\"-452.8\" font-family=\"Times New Roman,serif\" font-size=\"14.00\">CompetitorStoreName </text>\n",
       "<text text-anchor=\"start\" x=\"620\" y=\"-452.8\" font-family=\"Times New Roman,serif\" font-style=\"italic\" font-size=\"14.00\">String</text>\n",
       "<text text-anchor=\"start\" x=\"656\" y=\"-452.8\" font-family=\"Times New Roman,serif\" font-size=\"14.00\"> </text>\n",
       "<polygon fill=\"none\" stroke=\"black\" points=\"479,-400 479,-437 699,-437 699,-400 479,-400\"/>\n",
       "<text text-anchor=\"start\" x=\"490\" y=\"-415.8\" font-family=\"Times New Roman,serif\" font-size=\"14.00\">CompetitorStoreAdress </text>\n",
       "<text text-anchor=\"start\" x=\"628\" y=\"-415.8\" font-family=\"Times New Roman,serif\" font-style=\"italic\" font-size=\"14.00\">String</text>\n",
       "<text text-anchor=\"start\" x=\"664\" y=\"-415.8\" font-family=\"Times New Roman,serif\" font-size=\"14.00\"> </text>\n",
       "<polygon fill=\"none\" stroke=\"black\" points=\"479,-363 479,-400 699,-400 699,-363 479,-363\"/>\n",
       "<text text-anchor=\"start\" x=\"490\" y=\"-378.8\" font-family=\"Times New Roman,serif\" font-size=\"14.00\">CompetitorStoreZipCode </text>\n",
       "<text text-anchor=\"start\" x=\"638\" y=\"-378.8\" font-family=\"Times New Roman,serif\" font-style=\"italic\" font-size=\"14.00\">int</text>\n",
       "<text text-anchor=\"start\" x=\"654\" y=\"-378.8\" font-family=\"Times New Roman,serif\" font-size=\"14.00\"> </text>\n",
       "<polygon fill=\"none\" stroke=\"black\" points=\"479,-326 479,-363 699,-363 699,-326 479,-326\"/>\n",
       "<text text-anchor=\"start\" x=\"490\" y=\"-341.8\" font-family=\"Times New Roman,serif\" font-size=\"14.00\">CompetitorStoreCity </text>\n",
       "<text text-anchor=\"start\" x=\"611\" y=\"-341.8\" font-family=\"Times New Roman,serif\" font-style=\"italic\" font-size=\"14.00\">String</text>\n",
       "<text text-anchor=\"start\" x=\"647\" y=\"-341.8\" font-family=\"Times New Roman,serif\" font-size=\"14.00\"> </text>\n",
       "<polygon fill=\"none\" stroke=\"black\" points=\"479,-289 479,-326 699,-326 699,-289 479,-289\"/>\n",
       "<text text-anchor=\"start\" x=\"490\" y=\"-304.8\" font-family=\"Times New Roman,serif\" font-size=\"14.00\">CompetitorStoreCountry </text>\n",
       "<text text-anchor=\"start\" x=\"634\" y=\"-304.8\" font-family=\"Times New Roman,serif\" font-style=\"italic\" font-size=\"14.00\">String</text>\n",
       "<text text-anchor=\"start\" x=\"670\" y=\"-304.8\" font-family=\"Times New Roman,serif\" font-size=\"14.00\"> </text>\n",
       "<polygon fill=\"none\" stroke=\"black\" points=\"479,-252 479,-289 699,-289 699,-252 479,-252\"/>\n",
       "<text text-anchor=\"start\" x=\"490\" y=\"-267.8\" font-family=\"Times New Roman,serif\" font-size=\"14.00\">CompetitorStoreLatitude </text>\n",
       "<text text-anchor=\"start\" x=\"633\" y=\"-267.8\" font-family=\"Times New Roman,serif\" font-style=\"italic\" font-size=\"14.00\">double</text>\n",
       "<text text-anchor=\"start\" x=\"673\" y=\"-267.8\" font-family=\"Times New Roman,serif\" font-size=\"14.00\"> </text>\n",
       "<polygon fill=\"none\" stroke=\"black\" points=\"479,-215 479,-252 699,-252 699,-215 479,-215\"/>\n",
       "<text text-anchor=\"start\" x=\"490\" y=\"-230.8\" font-family=\"Times New Roman,serif\" font-size=\"14.00\">CompetitorStoreLongitude </text>\n",
       "<text text-anchor=\"start\" x=\"644\" y=\"-230.8\" font-family=\"Times New Roman,serif\" font-style=\"italic\" font-size=\"14.00\">double</text>\n",
       "<text text-anchor=\"start\" x=\"684\" y=\"-230.8\" font-family=\"Times New Roman,serif\" font-size=\"14.00\"> </text>\n",
       "<polygon fill=\"none\" stroke=\"black\" points=\"479,-178 479,-215 699,-215 699,-178 479,-178\"/>\n",
       "<text text-anchor=\"start\" x=\"490\" y=\"-193.8\" font-family=\"Times New Roman,serif\" font-size=\"14.00\">CompetitorStoreCompany </text>\n",
       "<text text-anchor=\"start\" x=\"643\" y=\"-193.8\" font-family=\"Times New Roman,serif\" font-style=\"italic\" font-size=\"14.00\">String</text>\n",
       "<text text-anchor=\"start\" x=\"679\" y=\"-193.8\" font-family=\"Times New Roman,serif\" font-size=\"14.00\"> </text>\n",
       "</g>\n",
       "<!-- CompetitorPricesStore&#45;&gt;CompetitorsStoresStore -->\n",
       "<g id=\"edge2\" class=\"edge\"><title>CompetitorPricesStore-&gt;CompetitorsStoresStore</title>\n",
       "<path fill=\"none\" stroke=\"black\" d=\"M201.124,-677.908C276.934,-616.201 381.739,-530.892 463.147,-464.628\"/>\n",
       "<polygon fill=\"black\" stroke=\"black\" points=\"465.404,-467.303 470.95,-458.276 460.985,-461.874 465.404,-467.303\"/>\n",
       "<text text-anchor=\"middle\" x=\"336\" y=\"-666.8\" font-family=\"Times New Roman,serif\" font-size=\"14.00\">CompetitorStoreId → CompetitorStoreId</text>\n",
       "</g>\n",
       "<!-- MarginPerProductAndStore -->\n",
       "<g id=\"node6\" class=\"node\"><title>MarginPerProductAndStore</title>\n",
       "<polygon fill=\"none\" stroke=\"black\" points=\"491,-115 491,-152 688,-152 688,-115 491,-115\"/>\n",
       "<text text-anchor=\"start\" x=\"502\" y=\"-130.8\" font-family=\"Times New Roman,serif\" font-weight=\"bold\" font-size=\"14.00\">MarginPerProductAndStore</text>\n",
       "<polygon fill=\"none\" stroke=\"black\" points=\"491,-78 491,-115 688,-115 688,-78 491,-78\"/>\n",
       "<text text-anchor=\"start\" x=\"502\" y=\"-93.8\" font-family=\"Times New Roman,serif\" font-weight=\"bold\" font-size=\"14.00\">Key</text>\n",
       "<text text-anchor=\"start\" x=\"527\" y=\"-93.8\" font-family=\"Times New Roman,serif\" font-size=\"14.00\">  ProductId </text>\n",
       "<text text-anchor=\"start\" x=\"596\" y=\"-93.8\" font-family=\"Times New Roman,serif\" font-style=\"italic\" font-size=\"14.00\">int</text>\n",
       "<text text-anchor=\"start\" x=\"612\" y=\"-93.8\" font-family=\"Times New Roman,serif\" font-size=\"14.00\"> </text>\n",
       "<polygon fill=\"none\" stroke=\"black\" points=\"491,-41 491,-78 688,-78 688,-41 491,-41\"/>\n",
       "<text text-anchor=\"start\" x=\"502\" y=\"-56.8\" font-family=\"Times New Roman,serif\" font-weight=\"bold\" font-size=\"14.00\">Key</text>\n",
       "<text text-anchor=\"start\" x=\"527\" y=\"-56.8\" font-family=\"Times New Roman,serif\" font-size=\"14.00\">  StoreId </text>\n",
       "<text text-anchor=\"start\" x=\"581\" y=\"-56.8\" font-family=\"Times New Roman,serif\" font-style=\"italic\" font-size=\"14.00\">int</text>\n",
       "<text text-anchor=\"start\" x=\"597\" y=\"-56.8\" font-family=\"Times New Roman,serif\" font-size=\"14.00\"> </text>\n",
       "<polygon fill=\"none\" stroke=\"black\" points=\"491,-4 491,-41 688,-41 688,-4 491,-4\"/>\n",
       "<text text-anchor=\"start\" x=\"502\" y=\"-19.8\" font-family=\"Times New Roman,serif\" font-size=\"14.00\">Margin </text>\n",
       "<text text-anchor=\"start\" x=\"545\" y=\"-19.8\" font-family=\"Times New Roman,serif\" font-style=\"italic\" font-size=\"14.00\">double</text>\n",
       "<text text-anchor=\"start\" x=\"585\" y=\"-19.8\" font-family=\"Times New Roman,serif\" font-size=\"14.00\"> </text>\n",
       "</g>\n",
       "<!-- CompetitorPricesStore&#45;&gt;MarginPerProductAndStore -->\n",
       "<g id=\"edge1\" class=\"edge\"><title>CompetitorPricesStore-&gt;MarginPerProductAndStore</title>\n",
       "<path fill=\"none\" stroke=\"black\" d=\"M127.553,-662.352C147.243,-598.236 177.921,-513.747 219,-446 305.978,-302.557 347.071,-278.061 471,-165 472.14,-163.96 473.291,-162.921 474.454,-161.882\"/>\n",
       "<polygon fill=\"black\" stroke=\"black\" points=\"477.047,-164.263 482.27,-155.045 472.439,-158.995 477.047,-164.263\"/>\n",
       "<text text-anchor=\"middle\" x=\"336\" y=\"-464.8\" font-family=\"Times New Roman,serif\" font-size=\"14.00\">StoreId → StoreId</text>\n",
       "<text text-anchor=\"middle\" x=\"336\" y=\"-449.8\" font-family=\"Times New Roman,serif\" font-size=\"14.00\">ProductId → ProductId</text>\n",
       "</g>\n",
       "</g>\n",
       "</svg>"
      ],
      "text/plain": [
       "<IPython.core.display.SVG object>"
      ]
     },
     "execution_count": 20,
     "metadata": {},
     "output_type": "execute_result"
    }
   ],
   "source": [
    "price_index_cube.schema"
   ]
  },
  {
   "cell_type": "code",
   "execution_count": 21,
   "metadata": {},
   "outputs": [],
   "source": [
    "m = price_index_cube.measures\n",
    "lvl = price_index_cube.levels"
   ]
  },
  {
   "cell_type": "code",
   "execution_count": 22,
   "metadata": {},
   "outputs": [],
   "source": [
    "m[\"Margin.SUM\"] = tt.agg.sum(margin_per_product_and_store[\"Margin\"])"
   ]
  },
  {
   "cell_type": "code",
   "execution_count": 23,
   "metadata": {},
   "outputs": [],
   "source": [
    "m[\"Product Price\"] = tt.agg.mean(sellingPrices_store[\"SellingPrice\"])"
   ]
  },
  {
   "cell_type": "code",
   "execution_count": 24,
   "metadata": {},
   "outputs": [],
   "source": [
    "price_index_numerator = tt.agg.sum(\n",
    "    (m[\"Product Price\"] * m[\"Margin.SUM\"]) / m[\"CompetitorPrice.MEAN\"],\n",
    "    scope=tt.scope.origin(lvl[\"ProductId\"], lvl[\"StoreId\"]),\n",
    ")\n",
    "m[\"Price Index\"] = price_index_numerator / m[\"Margin.SUM\"]"
   ]
  },
  {
   "cell_type": "markdown",
   "metadata": {},
   "source": [
    "We can now have the price index per store and product. Let's visualize it per store."
   ]
  },
  {
   "cell_type": "code",
   "execution_count": 26,
   "metadata": {
    "atoti": {
     "height": 284,
     "state": {
      "name": "",
      "type": "container",
      "value": {
       "body": {
        "configuration": {
         "tabular": {
          "addButtonFilter": "numeric",
          "columnsGroups": [
           {
            "captionProducer": "firstColumn",
            "cellFactory": "kpi-status",
            "selector": "kpi-status"
           },
           {
            "captionProducer": "firstColumn",
            "cellFactory": "lookup",
            "selector": "lookup"
           },
           {
            "captionProducer": "expiry",
            "cellFactory": "expiry",
            "selector": "kpi-expiry"
           },
           {
            "captionProducer": "columnMerge",
            "cellFactory": {
             "args": {},
             "key": "treeCells"
            },
            "selector": "member"
           }
          ],
          "defaultOptions": {},
          "expansion": {
           "automaticExpansion": true
          },
          "hideAddButton": true,
          "pinnedHeaderSelector": "member",
          "sortingMode": "non-breaking",
          "statisticsShown": true
         }
        },
        "contextValues": {},
        "mdx": "SELECT [Measures].[Price Index] ON COLUMNS, NON EMPTY Crossjoin([Hierarchies].[StoreId].[StoreId].Members, [Hierarchies].[StoreName].[StoreName].Members) ON ROWS FROM [CompetitorPricesCube]",
        "ranges": {
         "column": {
          "chunkSize": 50,
          "thresholdPercentage": 0.2
         },
         "row": {
          "chunkSize": 2000,
          "thresholdPercentage": 0.1
         }
        },
        "serverUrl": "",
        "updateMode": "once"
       },
       "containerKey": "pivot-table",
       "showTitleBar": false,
       "style": {}
      }
     }
    }
   },
   "outputs": [
    {
     "data": {
      "application/vnd.atoti.v0+json": {
       "cube": "CompetitorPricesCube",
       "name": null,
       "session": "Unnamed"
      },
      "text/plain": [
       "Install and enable the atoti JupyterLab extension to see this widget."
      ]
     },
     "metadata": {},
     "output_type": "display_data"
    }
   ],
   "source": [
    "session.load_all_data()\n",
    "price_index_cube.visualize()"
   ]
  },
  {
   "cell_type": "markdown",
   "metadata": {},
   "source": [
    "#### Extracting Price index for Clustering Analysis\n",
    "\n",
    "We can then easily store the price index per store in a pandas dataframe with an atoti query."
   ]
  },
  {
   "cell_type": "code",
   "execution_count": 26,
   "metadata": {},
   "outputs": [
    {
     "data": {
      "text/html": [
       "<div>\n",
       "<style scoped>\n",
       "    .dataframe tbody tr th:only-of-type {\n",
       "        vertical-align: middle;\n",
       "    }\n",
       "\n",
       "    .dataframe tbody tr th {\n",
       "        vertical-align: top;\n",
       "    }\n",
       "\n",
       "    .dataframe thead th {\n",
       "        text-align: right;\n",
       "    }\n",
       "</style>\n",
       "<table border=\"1\" class=\"dataframe\">\n",
       "  <thead>\n",
       "    <tr style=\"text-align: right;\">\n",
       "      <th></th>\n",
       "      <th></th>\n",
       "      <th>Price Index</th>\n",
       "    </tr>\n",
       "    <tr>\n",
       "      <th>StoreId</th>\n",
       "      <th>StoreName</th>\n",
       "      <th></th>\n",
       "    </tr>\n",
       "  </thead>\n",
       "  <tbody>\n",
       "    <tr>\n",
       "      <th>1</th>\n",
       "      <th>ActiveViam Store Paris 1er</th>\n",
       "      <td>0.976644</td>\n",
       "    </tr>\n",
       "    <tr>\n",
       "      <th>2</th>\n",
       "      <th>ActiveViam Store Paris 15</th>\n",
       "      <td>1.027799</td>\n",
       "    </tr>\n",
       "    <tr>\n",
       "      <th>3</th>\n",
       "      <th>ActiveViam Store Paris 18</th>\n",
       "      <td>0.949129</td>\n",
       "    </tr>\n",
       "    <tr>\n",
       "      <th>4</th>\n",
       "      <th>ActiveViam Store Paris 12</th>\n",
       "      <td>0.941429</td>\n",
       "    </tr>\n",
       "    <tr>\n",
       "      <th>5</th>\n",
       "      <th>ActiveViam Store Paris 16</th>\n",
       "      <td>1.005797</td>\n",
       "    </tr>\n",
       "  </tbody>\n",
       "</table>\n",
       "</div>"
      ],
      "text/plain": [
       "                                    Price Index\n",
       "StoreId StoreName                              \n",
       "1       ActiveViam Store Paris 1er     0.976644\n",
       "2       ActiveViam Store Paris 15      1.027799\n",
       "3       ActiveViam Store Paris 18      0.949129\n",
       "4       ActiveViam Store Paris 12      0.941429\n",
       "5       ActiveViam Store Paris 16      1.005797"
      ]
     },
     "execution_count": 26,
     "metadata": {},
     "output_type": "execute_result"
    }
   ],
   "source": [
    "price_index_per_store = price_index_cube.query(\n",
    "    m[\"Price Index\"],\n",
    "    levels=[lvl[\"StoreId\"], lvl[\"StoreName\"]]\n",
    ")\n",
    "price_index_per_store.head()"
   ]
  },
  {
   "cell_type": "markdown",
   "metadata": {},
   "source": [
    "## Stores clustering using price index and competitors number features\n",
    "\n",
    "In this part we will use the previously calculated features (nr of competitor stores and price index) to generate 5 clusters of stores.  \n",
    "Since there are five features (Competitors_1_KM, Competitors_5_KM, Competitors_10_KM, Competitors_20_KM, Price Index), a machine learning algorithm such as k-means is appropriate as the human brain will have too much trouble making clusters that have sense.\n",
    "\n",
    "In the next section we will use those clusters to generate new prices and assess whether we have managed to improve our pricing."
   ]
  },
  {
   "cell_type": "code",
   "execution_count": 27,
   "metadata": {},
   "outputs": [],
   "source": [
    "%matplotlib inline\n",
    "import scipy as sc\n",
    "import matplotlib.pyplot as plt\n",
    "import seaborn as sns\n",
    "\n",
    "sns.set()  # for plot styling\n",
    "import numpy as np\n",
    "import pandas as pd\n",
    "from sklearn.metrics import pairwise_distances_argmin\n",
    "from sklearn.cluster import KMeans\n",
    "from sklearn.cluster import MiniBatchKMeans"
   ]
  },
  {
   "cell_type": "markdown",
   "metadata": {},
   "source": [
    "Merging the features computed in the previous sections"
   ]
  },
  {
   "cell_type": "code",
   "execution_count": 28,
   "metadata": {},
   "outputs": [],
   "source": [
    "price_index_per_store.reset_index(inplace=True)\n",
    "stores_competitors_count_per_area.reset_index(inplace=True)\n",
    "price_index_per_store = price_index_per_store.drop(columns=[\"StoreName\"])\n",
    "stores_competitors_count_per_area = stores_competitors_count_per_area.drop(\n",
    "    columns=[\"StoreName\"]\n",
    ")\n",
    "stores_competitors_count_per_area.StoreId = stores_competitors_count_per_area.StoreId.astype(\n",
    "    int\n",
    ")"
   ]
  },
  {
   "cell_type": "code",
   "execution_count": 29,
   "metadata": {},
   "outputs": [],
   "source": [
    "stores_features = pd.merge(\n",
    "    stores_competitors_count_per_area,\n",
    "    price_index_per_store,\n",
    "    left_on=\"StoreId\",\n",
    "    right_on=\"StoreId\",\n",
    "    how=\"left\",\n",
    ")"
   ]
  },
  {
   "cell_type": "markdown",
   "metadata": {},
   "source": [
    "Formatting the features for scikit learn"
   ]
  },
  {
   "cell_type": "code",
   "execution_count": 30,
   "metadata": {},
   "outputs": [
    {
     "data": {
      "text/html": [
       "<div>\n",
       "<style scoped>\n",
       "    .dataframe tbody tr th:only-of-type {\n",
       "        vertical-align: middle;\n",
       "    }\n",
       "\n",
       "    .dataframe tbody tr th {\n",
       "        vertical-align: top;\n",
       "    }\n",
       "\n",
       "    .dataframe thead th {\n",
       "        text-align: right;\n",
       "    }\n",
       "</style>\n",
       "<table border=\"1\" class=\"dataframe\">\n",
       "  <thead>\n",
       "    <tr style=\"text-align: right;\">\n",
       "      <th></th>\n",
       "      <th>Competitors_1_KM</th>\n",
       "      <th>Competitors_5_KM</th>\n",
       "      <th>Competitors_10_KM</th>\n",
       "      <th>Competitors_20_KM</th>\n",
       "      <th>Price Index</th>\n",
       "    </tr>\n",
       "    <tr>\n",
       "      <th>StoreId</th>\n",
       "      <th></th>\n",
       "      <th></th>\n",
       "      <th></th>\n",
       "      <th></th>\n",
       "      <th></th>\n",
       "    </tr>\n",
       "  </thead>\n",
       "  <tbody>\n",
       "    <tr>\n",
       "      <th>1</th>\n",
       "      <td>11</td>\n",
       "      <td>51</td>\n",
       "      <td>66</td>\n",
       "      <td>71</td>\n",
       "      <td>0.976644</td>\n",
       "    </tr>\n",
       "    <tr>\n",
       "      <th>2</th>\n",
       "      <td>5</td>\n",
       "      <td>46</td>\n",
       "      <td>61</td>\n",
       "      <td>71</td>\n",
       "      <td>1.027799</td>\n",
       "    </tr>\n",
       "    <tr>\n",
       "      <th>3</th>\n",
       "      <td>5</td>\n",
       "      <td>36</td>\n",
       "      <td>71</td>\n",
       "      <td>71</td>\n",
       "      <td>0.949129</td>\n",
       "    </tr>\n",
       "    <tr>\n",
       "      <th>4</th>\n",
       "      <td>5</td>\n",
       "      <td>31</td>\n",
       "      <td>61</td>\n",
       "      <td>71</td>\n",
       "      <td>0.941429</td>\n",
       "    </tr>\n",
       "    <tr>\n",
       "      <th>5</th>\n",
       "      <td>5</td>\n",
       "      <td>36</td>\n",
       "      <td>56</td>\n",
       "      <td>71</td>\n",
       "      <td>1.005797</td>\n",
       "    </tr>\n",
       "  </tbody>\n",
       "</table>\n",
       "</div>"
      ],
      "text/plain": [
       "         Competitors_1_KM  Competitors_5_KM  Competitors_10_KM  \\\n",
       "StoreId                                                          \n",
       "1                      11                51                 66   \n",
       "2                       5                46                 61   \n",
       "3                       5                36                 71   \n",
       "4                       5                31                 61   \n",
       "5                       5                36                 56   \n",
       "\n",
       "         Competitors_20_KM  Price Index  \n",
       "StoreId                                  \n",
       "1                       71     0.976644  \n",
       "2                       71     1.027799  \n",
       "3                       71     0.949129  \n",
       "4                       71     0.941429  \n",
       "5                       71     1.005797  "
      ]
     },
     "execution_count": 30,
     "metadata": {},
     "output_type": "execute_result"
    }
   ],
   "source": [
    "stores_features = stores_features.set_index(\"StoreId\")\n",
    "stores_features.head()"
   ]
  },
  {
   "cell_type": "markdown",
   "metadata": {},
   "source": [
    "Chosing the number of clusters"
   ]
  },
  {
   "cell_type": "code",
   "execution_count": 31,
   "metadata": {},
   "outputs": [],
   "source": [
    "number_of_clusters = 5"
   ]
  },
  {
   "cell_type": "markdown",
   "metadata": {},
   "source": [
    "And running the clustering algorithm"
   ]
  },
  {
   "cell_type": "code",
   "execution_count": 32,
   "metadata": {},
   "outputs": [],
   "source": [
    "kmeans = MiniBatchKMeans(number_of_clusters)\n",
    "kmeans.fit(stores_features)\n",
    "new_colors = kmeans.cluster_centers_[kmeans.predict(stores_features)]\n",
    "k_means_labels = pairwise_distances_argmin(stores_features, kmeans.cluster_centers_)\n",
    "labels = KMeans(number_of_clusters, random_state=0).fit_predict(stores_features)"
   ]
  },
  {
   "cell_type": "markdown",
   "metadata": {},
   "source": [
    "We can either analyze the result of the clustering by pair of features using matplotlib like below"
   ]
  },
  {
   "cell_type": "code",
   "execution_count": 33,
   "metadata": {},
   "outputs": [
    {
     "data": {
      "image/png": "[encoded data removed]",
      "text/plain": [
       "<Figure size 432x288 with 1 Axes>"
      ]
     },
     "metadata": {},
     "output_type": "display_data"
    }
   ],
   "source": [
    "plt.scatter(\n",
    "    stores_features.loc[:, \"Competitors_1_KM\"],\n",
    "    stores_features.loc[:, \"Price Index\"],\n",
    "    c=k_means_labels,\n",
    "    s=50,\n",
    "    cmap=\"viridis\",\n",
    ");"
   ]
  },
  {
   "cell_type": "markdown",
   "metadata": {},
   "source": [
    "We can see in this plot where every color represents a clusters that clusters seem to be strongly based on the number of competitors rather than on the price index.  \n",
    "But to avoid having to plot every couple of features and understand more quickly what our clusters are, we will use seaborn to have a plot of the clustering result for every pair of features."
   ]
  },
  {
   "cell_type": "code",
   "execution_count": 34,
   "metadata": {},
   "outputs": [
    {
     "data": {
      "text/html": [
       "<div>\n",
       "<style scoped>\n",
       "    .dataframe tbody tr th:only-of-type {\n",
       "        vertical-align: middle;\n",
       "    }\n",
       "\n",
       "    .dataframe tbody tr th {\n",
       "        vertical-align: top;\n",
       "    }\n",
       "\n",
       "    .dataframe thead th {\n",
       "        text-align: right;\n",
       "    }\n",
       "</style>\n",
       "<table border=\"1\" class=\"dataframe\">\n",
       "  <thead>\n",
       "    <tr style=\"text-align: right;\">\n",
       "      <th></th>\n",
       "      <th>Competitors_1_KM</th>\n",
       "      <th>Competitors_5_KM</th>\n",
       "      <th>Competitors_10_KM</th>\n",
       "      <th>Competitors_20_KM</th>\n",
       "      <th>Price Index</th>\n",
       "      <th>cluster</th>\n",
       "    </tr>\n",
       "    <tr>\n",
       "      <th>StoreId</th>\n",
       "      <th></th>\n",
       "      <th></th>\n",
       "      <th></th>\n",
       "      <th></th>\n",
       "      <th></th>\n",
       "      <th></th>\n",
       "    </tr>\n",
       "  </thead>\n",
       "  <tbody>\n",
       "    <tr>\n",
       "      <th>1</th>\n",
       "      <td>11</td>\n",
       "      <td>51</td>\n",
       "      <td>66</td>\n",
       "      <td>71</td>\n",
       "      <td>0.976644</td>\n",
       "      <td>2</td>\n",
       "    </tr>\n",
       "    <tr>\n",
       "      <th>2</th>\n",
       "      <td>5</td>\n",
       "      <td>46</td>\n",
       "      <td>61</td>\n",
       "      <td>71</td>\n",
       "      <td>1.027799</td>\n",
       "      <td>2</td>\n",
       "    </tr>\n",
       "    <tr>\n",
       "      <th>3</th>\n",
       "      <td>5</td>\n",
       "      <td>36</td>\n",
       "      <td>71</td>\n",
       "      <td>71</td>\n",
       "      <td>0.949129</td>\n",
       "      <td>2</td>\n",
       "    </tr>\n",
       "    <tr>\n",
       "      <th>4</th>\n",
       "      <td>5</td>\n",
       "      <td>31</td>\n",
       "      <td>61</td>\n",
       "      <td>71</td>\n",
       "      <td>0.941429</td>\n",
       "      <td>2</td>\n",
       "    </tr>\n",
       "    <tr>\n",
       "      <th>5</th>\n",
       "      <td>5</td>\n",
       "      <td>36</td>\n",
       "      <td>56</td>\n",
       "      <td>71</td>\n",
       "      <td>1.005797</td>\n",
       "      <td>2</td>\n",
       "    </tr>\n",
       "  </tbody>\n",
       "</table>\n",
       "</div>"
      ],
      "text/plain": [
       "         Competitors_1_KM  Competitors_5_KM  Competitors_10_KM  \\\n",
       "StoreId                                                          \n",
       "1                      11                51                 66   \n",
       "2                       5                46                 61   \n",
       "3                       5                36                 71   \n",
       "4                       5                31                 61   \n",
       "5                       5                36                 56   \n",
       "\n",
       "         Competitors_20_KM  Price Index  cluster  \n",
       "StoreId                                           \n",
       "1                       71     0.976644        2  \n",
       "2                       71     1.027799        2  \n",
       "3                       71     0.949129        2  \n",
       "4                       71     0.941429        2  \n",
       "5                       71     1.005797        2  "
      ]
     },
     "execution_count": 34,
     "metadata": {},
     "output_type": "execute_result"
    }
   ],
   "source": [
    "stores_features[\"cluster\"] = labels\n",
    "stores_features.head(5)"
   ]
  },
  {
   "cell_type": "code",
   "execution_count": 35,
   "metadata": {},
   "outputs": [
    {
     "data": {
      "image/png": "[encoded data removed]",
      "text/plain": [
       "<Figure size 945.725x900 with 30 Axes>"
      ]
     },
     "metadata": {},
     "output_type": "display_data"
    }
   ],
   "source": [
    "sns.pairplot(data=stores_features, hue=\"cluster\");"
   ]
  },
  {
   "cell_type": "markdown",
   "metadata": {},
   "source": [
    "We can have a better understanding of the clusters with the chart above.  \n",
    "For example clusters 0 and 4 are those with stores that have a price index close to 1, but the stores in cluster 0 have many more competitors in a 10km radius than those of cluster 4.\n",
    "\n",
    "Continuing this analysis tells us that:\n",
    "- Cluster 0 contains stores with an average price index (around 1.0) and a lot of competitor stores around.\n",
    "- Cluster 1 groups the stores with the fewest number of competitor stores around.\n",
    "- Cluster 2 contains the stores that have the highest number of competitor stores around them.\n",
    "- Cluster 3 is in between all other clusters. Stores in this cluster have few competitors in a 5km radius, but a lot in a 20km radius.\n",
    "- Cluster 4 contains stores with an average price index (around 1.0) but few competitor stores around."
   ]
  },
  {
   "cell_type": "markdown",
   "metadata": {},
   "source": [
    "## Pricing Simulations around clusters\n",
    "We will now generate new prices using the previous clusters in order to take into account the different competitiveness constraints of the stores.  "
   ]
  },
  {
   "cell_type": "code",
   "execution_count": 36,
   "metadata": {},
   "outputs": [],
   "source": [
    "from utils import pricer"
   ]
  },
  {
   "cell_type": "code",
   "execution_count": 37,
   "metadata": {},
   "outputs": [],
   "source": [
    "initial_selling_prices = pd.read_csv(\n",
    "    \"https://data.atoti.io/notebooks/geopricing/selling_prices.csv\", sep=\";\",\n",
    ")"
   ]
  },
  {
   "cell_type": "markdown",
   "metadata": {},
   "source": [
    "The below pricing method tries to reduce the prices if the competitiveness is strong, and on the contrary increase it if there is few competition. It is directly using the clusters generated from the previous part."
   ]
  },
  {
   "cell_type": "code",
   "execution_count": 38,
   "metadata": {},
   "outputs": [],
   "source": [
    "selling_prices_based_on_clusters = pricer.optimize_prices(\n",
    "    initial_selling_prices,\n",
    "    stores_features\n",
    ")"
   ]
  },
  {
   "cell_type": "markdown",
   "metadata": {},
   "source": [
    "Thanks to atoti built-in simulations capabilities, we just have to tell the lib that we wish to create a scenario here the selling_prices are loaded from this new file instead.  \n",
    "All KPIs defined previously defined such as the price index will be re-computed on the fly which will enable us to compare scenarios and their benefits."
   ]
  },
  {
   "cell_type": "code",
   "execution_count": 39,
   "metadata": {},
   "outputs": [],
   "source": [
    "sellingPrices_store.scenarios[\"Selling prices based on clusters\"].load_pandas(\n",
    "    selling_prices_based_on_clusters\n",
    ")"
   ]
  },
  {
   "cell_type": "code",
   "execution_count": 41,
   "metadata": {
    "atoti": {
     "state": {
      "name": "",
      "type": "container",
      "value": {
       "body": {
        "configuration": {
         "tabular": {
          "addButtonFilter": "numeric",
          "columnsGroups": [
           {
            "captionProducer": "firstColumn",
            "cellFactory": "kpi-status",
            "selector": "kpi-status"
           },
           {
            "captionProducer": "firstColumn",
            "cellFactory": "lookup",
            "selector": "lookup"
           },
           {
            "captionProducer": "expiry",
            "cellFactory": "expiry",
            "selector": "kpi-expiry"
           },
           {
            "captionProducer": "columnMerge",
            "cellFactory": {
             "args": {},
             "key": "treeCells"
            },
            "selector": "member"
           }
          ],
          "defaultOptions": {},
          "expansion": {
           "automaticExpansion": true
          },
          "hideAddButton": true,
          "pinnedHeaderSelector": "member",
          "sortingMode": "non-breaking",
          "statisticsShown": true
         }
        },
        "contextValues": {},
        "mdx": "SELECT NON EMPTY Hierarchize(DrilldownLevel([Hierarchies].[StoreName].[ALL].[AllMember])) ON ROWS, NON EMPTY Crossjoin(Hierarchize([Epoch].[Epoch].[Branch].Members), {[Measures].[Price Index]}) ON COLUMNS FROM [CompetitorPricesCube] CELL PROPERTIES VALUE, FORMATTED_VALUE, BACK_COLOR, FORE_COLOR, FONT_FLAGS",
        "ranges": {
         "column": {
          "chunkSize": 50,
          "thresholdPercentage": 0.2
         },
         "row": {
          "chunkSize": 2000,
          "thresholdPercentage": 0.1
         }
        },
        "serverUrl": "",
        "updateMode": "once"
       },
       "containerKey": "pivot-table",
       "showTitleBar": false,
       "style": {}
      }
     }
    }
   },
   "outputs": [
    {
     "data": {
      "application/vnd.atoti.v0+json": {
       "cube": "CompetitorPricesCube",
       "name": null,
       "session": "Unnamed"
      },
      "text/plain": [
       "Install and enable the atoti JupyterLab extension to see this widget."
      ]
     },
     "metadata": {},
     "output_type": "display_data"
    }
   ],
   "source": [
    "price_index_cube.visualize()"
   ]
  },
  {
   "cell_type": "markdown",
   "metadata": {
    "atoti": {
     "state": {
      "name": "",
      "type": "container",
      "value": {
       "body": {
        "configuration": {},
        "query": {
         "mdx": "SELECT FROM [CompetitorPricesCube] CELL PROPERTIES VALUE, FORMATTED_VALUE, BACK_COLOR, FORE_COLOR, FONT_FLAGS"
        }
       },
       "containerKey": "chart",
       "showTitleBar": false
      }
     }
    }
   },
   "source": [
    "Lets visualize what the change has been for our clusters"
   ]
  },
  {
   "cell_type": "code",
   "execution_count": 42,
   "metadata": {},
   "outputs": [],
   "source": [
    "clusters_df = stores_features[[\"cluster\"]].reset_index()\n",
    "clusters_df.StoreId = clusters_df.StoreId.astype(\"int32\")\n",
    "cluster_store = session.read_pandas(\n",
    "    clusters_df,\n",
    "    keys=[\"StoreId\"],\n",
    "    store_name = \"Clusters\"\n",
    ")\n",
    "stores_store.join(cluster_store)"
   ]
  },
  {
   "cell_type": "code",
   "execution_count": 44,
   "metadata": {
    "atoti": {
     "state": {
      "name": "",
      "type": "container",
      "value": {
       "body": {
        "configuration": {
         "mapping": {
          "horizontalSubplots": [],
          "splitBy": [
           "[Epoch].[Epoch].[Branch]"
          ],
          "values": [
           "[Measures].[Price Index]"
          ],
          "verticalSubplots": [],
          "xAxis": [
           "[Hierarchies].[cluster].[cluster]"
          ]
         },
         "type": "plotly-clustered-column-chart"
        },
        "query": {
         "mdx": "SELECT NON EMPTY Crossjoin([Hierarchies].[cluster].[cluster].Members, [Epoch].[Epoch].[Branch].Members) ON ROWS, NON EMPTY [Measures].[Price Index] ON COLUMNS FROM [CompetitorPricesCube] CELL PROPERTIES VALUE, FORMATTED_VALUE, BACK_COLOR, FORE_COLOR, FONT_FLAGS",
         "serverUrl": "",
         "updateMode": "once"
        }
       },
       "containerKey": "chart",
       "showTitleBar": false,
       "style": {}
      }
     }
    }
   },
   "outputs": [
    {
     "data": {
      "application/vnd.atoti.v0+json": {
       "cube": "CompetitorPricesCube",
       "name": null,
       "session": "Unnamed"
      },
      "text/plain": [
       "Install and enable the atoti JupyterLab extension to see this widget."
      ]
     },
     "metadata": {},
     "output_type": "display_data"
    }
   ],
   "source": [
    "price_index_cube.visualize()"
   ]
  },
  {
   "cell_type": "markdown",
   "metadata": {},
   "source": [
    "We can see that the pricing method decreased the price index of stores in clusters that have high competition in order for them to attract more customers.  \n",
    "On the contrary it increased the prices in stores belonging to low competition clusters in order to maximize margin."
   ]
  },
  {
   "cell_type": "code",
   "execution_count": null,
   "metadata": {},
   "outputs": [],
   "source": []
  }
 ],
 "metadata": {
  "kernelspec": {
   "display_name": "Python 3",
   "language": "python",
   "name": "python3"
  },
  "language_info": {
   "codemirror_mode": {
    "name": "ipython",
    "version": 3
   },
   "file_extension": ".py",
   "mimetype": "text/x-python",
   "name": "python",
   "nbconvert_exporter": "python",
   "pygments_lexer": "ipython3",
   "version": "3.8.2"
  }
 },
 "nbformat": 4,
 "nbformat_minor": 4
}
